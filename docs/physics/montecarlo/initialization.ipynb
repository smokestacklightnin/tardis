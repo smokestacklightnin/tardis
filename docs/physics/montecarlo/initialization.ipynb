{
 "cells": [
  {
   "cell_type": "markdown",
   "id": "6c0dbe0a",
   "metadata": {},
   "source": [
    "# Energy Packet Initialization\n",
    "\n",
    "## Theory\n",
    "\n",
    "While it is instructive to think about tracking the propagation history of\n",
    "individual photons when illustrating the basic idea behind Monte Carlo radiative transfer\n",
    "techniques, there are important numerical reasons for using a different\n",
    "discretization scheme. Instead of thinking in the photon picture, it brings\n",
    "significant advantages to follow the idea of <strong data-cite=\"Abbott1985\">[]</strong> and\n",
    "<strong data-cite=\"Lucy1999\">[]</strong> and consider parcels of radiant energy as the fundamental\n",
    "building blocks of the Monte Carlo calculation. These basic Monte Carlo quanta\n",
    "are commonly referred to as \"energy packets\" or simply \"packets\", and are composed of many photons with the same frequency.\n",
    "\n",
    "During a Monte Carlo calculation, $N$ (a large number) packets, all with a certain\n",
    "energy $\\varepsilon$, are created at the inner boundary of the computational domain (which is discussed in the [model section](../setup/model.rst)) known as the photosphere. Currently, the photosphere is modeled as a spherical [blackbody](https://en.wikipedia.org/wiki/Black-body_radiation) with a radius $r_\\mathrm{boundary\\_inner}$ and temperature $T_\\mathrm{inner}$. Both of these quantities are calculated as a part of the [model](../setup/model.ipynb), and $T_\\mathrm{inner}$ is additionally updated throughout the simulation as a part of the [Updating Plasma and Convergence](../update_and_conv/update_and_conv.ipynb) process.\n",
    "\n",
    "In TARDIS, all packets are assigned identical energies **in the lab frame** (see [Reference Frames](propagation.rst#reference-frames)), and the total (lab-frame) energy of the packets is 1 erg (and thus each packet has an energy of $\\frac{1}{N}$ ergs).\n",
    "\n",
    "<div class=\"alert alert-info\">\n",
    "    \n",
    "Note\n",
    "\n",
    "The indivisible energy packet scheme does not require that all packets have the same energy. This is just a convenient and simple choice adopted in TARDIS.\n",
    "\n",
    "</div>\n",
    "\n",
    "<div class=\"alert alert-info\">\n",
    "    \n",
    "Note\n",
    "\n",
    "Since all packets have the same total, and photon energy is proportional to frequency, higher-frequency packets will represent less real photons than lower-frequency packets.\n",
    "\n",
    "</div>\n",
    "\n",
    "Since the photosphere is modeled as a blackbody, its total luminosity $L_\\mathrm{inner}$ (recall that luminosity is energy emitted divided by the time in which it is emitted) is\n",
    "$$L_\\mathrm{inner}=\\frac{N\\varepsilon}{\\Delta t}=4 \\pi r_\\mathrm{boundary\\_inner}^2 \\sigma_{\\mathrm{R}} T_{\\mathrm{inner}}^4$$\n",
    "where $\\sigma_\\mathrm{R}$ is the Stefan-Boltzmann constant and $\\Delta t$ is the physical duration of the simulation. In order to make this relationship hold (remembering that $N\\varepsilon = 1$ erg), we use\n",
    "$$\\Delta t = \\frac{1}{L_\\mathrm{inner}}=\\frac{1}{4 \\pi r_\\mathrm{boundary\\_inner}^2 \\sigma_{\\mathrm{R}} T_{\\mathrm{inner}}^4}.$$\n",
    "\n",
    "<div class=\"alert alert-info\">\n",
    "    \n",
    "Note\n",
    "\n",
    "As will be shown in the code example, this will lead to unphysically small values for $\\Delta t$. It may be easier to think of the Monte Carlo packets not as packets of energy $\\epsilon$ going through a simulation of duration $\\Delta t$, but as packets of luminosity that carry an energy $\\epsilon$ over a time $\\Delta t$ (and thus truly being luminosity packets of luminosity $\\frac{\\epsilon}{\\Delta t}$). Indeed, this view of the packets will be useful when deriving the [Monte Carlo Estimators](estimators.rst).\n",
    "\n",
    "</div>\n",
    "\n",
    "During packet initialization, each packet is assigned an initial propagation direction $\\mu$ which is the cosine of the angle $\\theta$ which the packet's path makes with the radial direction (see the image below). Using a pseudo-random number generator which generates numbers $z$ uniformly distributed on the interval $[0,1]$, the propagation direction is determined (due to physical considerations beyond the scope of this documentation) according to\n",
    "$$\\mu = \\sqrt{z}.$$\n",
    "This sampling is shown in the \"Code Example\" section.\n",
    "\n",
    "<img src=\"../images/propagation_direction.png\" width=500>\n",
    "\n",
    "Finally, each packet is assigned an initial frequency (or more precisely, the initial frequency of its constituent photons). Note that since each packet has the same energy, each packet will represent a different number of real photons. The sampling on packet frequencies is more involved than that of the propagation direction, as it involves sampling the Planck distribution (see below). TARDIS uses the technique described in <strong data-cite=\"Carter1975\">[]</strong> and summarized in <strong data-cite=\"Bjorkman2001\">[]</strong> for this purpose.\n",
    "\n",
    "During the simulation, the energy of the packet remains constant in the local\n",
    "co-moving frame (see [Reference Frames](propagation.rst#reference-frames)). This naturally ensures energy\n",
    "conservation and constitutes the main advantage of this discretization scheme. **However, while the energy of the packets is conserved in the co-moving frame, the co-moving frequency of the packet (and thus the photons represented by the packet) may vary over the course of the simulation. Thus, a packet may represent several different numbers of real photons throughout their lifetimes.**\n",
    "\n",
    "## Code Example\n",
    "\n",
    "We now demonstrate the TARDIS packet initialization framework:"
   ]
  },
  {
   "cell_type": "code",
   "execution_count": 1,
   "id": "426325e5",
   "metadata": {},
   "outputs": [
    {
     "data": {
      "application/vnd.jupyter.widget-view+json": {
       "model_id": "",
       "version_major": 2,
       "version_minor": 0
      },
      "text/plain": [
       "Iterations:          0/? [00:00<?, ?it/s]"
      ]
     },
     "metadata": {},
     "output_type": "display_data"
    },
    {
     "data": {
      "application/vnd.jupyter.widget-view+json": {
       "model_id": "",
       "version_major": 2,
       "version_minor": 0
      },
      "text/plain": [
       "Packets:             0/? [00:00<?, ?it/s]"
      ]
     },
     "metadata": {},
     "output_type": "display_data"
    }
   ],
   "source": [
    "import numpy as np\n",
    "from tardis.montecarlo.packet_source import BlackBodySimpleSource\n",
    "from astropy import units as u\n",
    "from tardis import constants as const\n",
    "import matplotlib.pyplot as plt\n",
    "import numba\n",
    "import time\n",
    "import pandas as pd\n",
    "import itertools\n",
    "import tqdm.auto as tqdm\n",
    "import scipy.stats as stats\n",
    "\n",
    "\n",
    "# The random number generator that will be used\n",
    "rng = np.random.default_rng()"
   ]
  },
  {
   "cell_type": "markdown",
   "id": "4ae02998",
   "metadata": {},
   "source": [
    "The following cell contains values that you can change to see how it affects the spectrum (in an actual simulation, the seed and number of packets are set in the [Monte Carlo configuration](../../io/configuration/components/montecarlo.rst), and the photospheric radius is calculated as a part of the [model](../setup/model.ipynb)):"
   ]
  },
  {
   "cell_type": "code",
   "execution_count": 2,
   "id": "bc34bf33",
   "metadata": {},
   "outputs": [],
   "source": [
    "# Seed for the pseudo-random number generator\n",
    "seed = 1\n",
    "\n",
    "# Number of packets generated\n",
    "n_packets = 40000\n",
    "\n",
    "# Radius of the supernova's photosphere in cm\n",
    "r_boundary_inner = 1e15 * u.cm"
   ]
  },
  {
   "cell_type": "markdown",
   "id": "450faf76",
   "metadata": {},
   "source": [
    "We set the temperature of the photosphere $T_\\mathrm{inner}$, which will determine the photospheric luminosity (in an actual simulation, $T_\\mathrm{inner}$ is initially calculated as a part of the [model](../setup/model.ipynb) and updated as a part of the [Updating Plasma and Convergence](../update_and_conv/update_and_conv.ipynb) process):"
   ]
  },
  {
   "cell_type": "code",
   "execution_count": 3,
   "id": "3fb3ca8c",
   "metadata": {},
   "outputs": [
    {
     "name": "stdout",
     "output_type": "stream",
     "text": [
      "Luminosity of photosphere: 7.125600863965567e+42 erg / s\n"
     ]
    }
   ],
   "source": [
    "# Temperature in K\n",
    "temperature_inner = 10000 * u.K\n",
    "\n",
    "luminosity_inner = (\n",
    "    4\n",
    "    * np.pi\n",
    "    * (r_boundary_inner**2)\n",
    "    * const.sigma_sb\n",
    "    * (temperature_inner**4)\n",
    ")\n",
    "\n",
    "# Makes sure the luminosity is given in erg/s\n",
    "luminosity_inner = luminosity_inner.to(\"erg/s\")\n",
    "\n",
    "print(\n",
    "    \"Luminosity of photosphere:\",\n",
    "    luminosity_inner,\n",
    ")"
   ]
  },
  {
   "cell_type": "markdown",
   "id": "516633c5",
   "metadata": {},
   "source": [
    "We now generate the ensemble of packets. The array of packet energies and radii are also shown."
   ]
  },
  {
   "cell_type": "code",
   "execution_count": 4,
   "id": "925e9e1b",
   "metadata": {},
   "outputs": [
    {
     "name": "stdout",
     "output_type": "stream",
     "text": [
      "Energies: [2.5e-05 2.5e-05 2.5e-05 ... 2.5e-05 2.5e-05 2.5e-05] erg\n",
      "Radii: [1.e+15 1.e+15 1.e+15 ... 1.e+15 1.e+15 1.e+15] cm\n"
     ]
    }
   ],
   "source": [
    "# We define our packet source\n",
    "packet_source = BlackBodySimpleSource(seed)\n",
    "\n",
    "radii, nus, mus, energies = packet_source.create_packets(\n",
    "    temperature_inner.value,\n",
    "    n_packets,\n",
    "    rng,\n",
    "    r_boundary_inner,\n",
    ")\n",
    "\n",
    "# Sets the energies in units of ergs\n",
    "energies *= u.erg\n",
    "\n",
    "# Sets the frequencies in units of Hz\n",
    "nus *= u.Hz\n",
    "\n",
    "print(\n",
    "    \"Energies:\",\n",
    "    energies,\n",
    ")\n",
    "print(\n",
    "    \"Radii:\",\n",
    "    radii,\n",
    ")"
   ]
  },
  {
   "cell_type": "markdown",
   "id": "16936bce",
   "metadata": {},
   "source": [
    "We set the timespan of the simulation so that each packet contributes the appropriate luminosity to the spectrum."
   ]
  },
  {
   "cell_type": "code",
   "execution_count": 5,
   "id": "fed35f47",
   "metadata": {},
   "outputs": [
    {
     "name": "stdout",
     "output_type": "stream",
     "text": [
      "Time of simulation: 1.4033904215110305e-43 s\n",
      "Luminosity per packet: [1.78140022e+38 1.78140022e+38 1.78140022e+38 ... 1.78140022e+38\n",
      " 1.78140022e+38 1.78140022e+38] erg / s\n"
     ]
    }
   ],
   "source": [
    "# Time of simulation\n",
    "t_simulation = 1 * u.erg / luminosity_inner\n",
    "print(\n",
    "    \"Time of simulation:\",\n",
    "    t_simulation,\n",
    ")\n",
    "\n",
    "# Array of luminosity contribution by each packet\n",
    "lumin_per_packet = energies / t_simulation\n",
    "print(\n",
    "    \"Luminosity per packet:\",\n",
    "    lumin_per_packet,\n",
    ")"
   ]
  },
  {
   "cell_type": "markdown",
   "id": "0d839222",
   "metadata": {},
   "source": [
    "We define important constants, and for comparison's sake, we code the Planck distribution function\n",
    "$$L_\\nu (\\nu)=\\frac{8\\pi r_\\mathrm{boundary\\_inner}^2 h\\nu^3}{c^2}\\frac{1}{\\exp\\left(\\frac{h\\nu}{k_BT_\\mathrm{inner}}\\right)-1}$$\n",
    "where $L_\\nu$ is the luminosity density (see [Basic Spectrum Generation](../spectrum/basic.ipynb)) with respect to frequency, $\\nu$ is frequency, $h$ is Planck's constant, $c$ is the speed of light, and $k_B$ is Boltzmann's constant:"
   ]
  },
  {
   "cell_type": "code",
   "execution_count": 6,
   "id": "916a5e22",
   "metadata": {
    "scrolled": false
   },
   "outputs": [],
   "source": [
    "h = const.h.cgs\n",
    "c2 = const.c.cgs**2\n",
    "kB = const.k_B.cgs\n",
    "\n",
    "\n",
    "def planck_function(nu):\n",
    "    return (\n",
    "        8\n",
    "        * np.pi**2\n",
    "        * r_boundary_inner**2\n",
    "        * h\n",
    "        * nu**3\n",
    "        / (c2 * (np.exp(h * nu / (kB * temperature_inner)) - 1))\n",
    "    )"
   ]
  },
  {
   "cell_type": "markdown",
   "id": "78230177",
   "metadata": {},
   "source": [
    "We plot the Planck distribution and a histogram of the generated packet distribution:"
   ]
  },
  {
   "cell_type": "code",
   "execution_count": 7,
   "id": "913fcdbb",
   "metadata": {},
   "outputs": [
    {
     "data": {
      "image/png": "[encoded data removed]",
      "text/plain": [
       "<Figure size 640x480 with 1 Axes>"
      ]
     },
     "metadata": {},
     "output_type": "display_data"
    }
   ],
   "source": [
    "# We set important quantites for making our histogram\n",
    "bins = 200\n",
    "nus_planck = np.linspace(\n",
    "    min(nus),\n",
    "    max(nus),\n",
    "    bins,\n",
    ")\n",
    "bin_width = nus_planck[1] - nus_planck[0]\n",
    "\n",
    "# In the histogram plot below, the weights argument is used\n",
    "# to make sure our plotted spectrum has the correct y-axis scale\n",
    "plt.hist(\n",
    "    nus.value,\n",
    "    bins=bins,\n",
    "    weights=lumin_per_packet / bin_width,\n",
    ")\n",
    "\n",
    "# We plot the planck function for comparison\n",
    "# plt.plot(nus_planck, planck_function(nus_planck))\n",
    "plt.plot(\n",
    "    nus_planck,\n",
    "    planck_function(nus_planck),\n",
    ")\n",
    "\n",
    "plt.xlabel(\"Frequency (Hz)\")\n",
    "plt.ylabel(\"Luminosity density w.r.t. frequency (erg/s/Hz)\")\n",
    "plt.show()"
   ]
  },
  {
   "cell_type": "markdown",
   "id": "ad4f0f0e",
   "metadata": {},
   "source": [
    "We finally plot the generated $\\mu$ density distribution, followed by the generated $\\theta=\\arccos (\\mu)$ density distribution, compared with the respective curves $\\rho = 2\\mu$ and $\\rho = \\sin(2\\theta)$:"
   ]
  },
  {
   "cell_type": "code",
   "execution_count": 8,
   "id": "ae4c97de",
   "metadata": {},
   "outputs": [
    {
     "data": {
      "image/png": "[encoded data removed]",
      "text/plain": [
       "<Figure size 640x480 with 1 Axes>"
      ]
     },
     "metadata": {},
     "output_type": "display_data"
    }
   ],
   "source": [
    "x = np.linspace(0, 1, 1000)\n",
    "\n",
    "plt.hist(\n",
    "    mus,\n",
    "    bins=bins,\n",
    "    density=True,\n",
    ")\n",
    "plt.plot(\n",
    "    x,\n",
    "    2 * x,\n",
    ")\n",
    "plt.xlabel(\"Propagation direction\")\n",
    "plt.ylabel(\"Probability density\")\n",
    "plt.show()"
   ]
  },
  {
   "cell_type": "code",
   "execution_count": 9,
   "id": "41daa433",
   "metadata": {},
   "outputs": [
    {
     "data": {
      "image/png": "[encoded data removed]",
      "text/plain": [
       "<Figure size 640x480 with 1 Axes>"
      ]
     },
     "metadata": {},
     "output_type": "display_data"
    }
   ],
   "source": [
    "thetas = np.linspace(\n",
    "    0,\n",
    "    np.pi / 2,\n",
    "    1000,\n",
    ")\n",
    "\n",
    "plt.hist(\n",
    "    np.arccos(mus),\n",
    "    bins=bins,\n",
    "    density=True,\n",
    ")\n",
    "plt.plot(\n",
    "    thetas,\n",
    "    np.sin(2 * thetas),\n",
    ")\n",
    "plt.xlabel(\"Angle with normal (rad)\")\n",
    "plt.ylabel(\"Probability density\")\n",
    "plt.show()"
   ]
  },
  {
   "cell_type": "markdown",
   "id": "2f661592",
   "metadata": {},
   "source": [
    "## Custom Packet Source\n",
    "\n",
    "TARDIS allows for the user to input a custom function that generates energy packets instead of the basic blackbody source described here. See [Running TARDIS with a Custom Packet Source](../../io/optional/custom_source.ipynb) for more information."
   ]
  },
  {
   "cell_type": "markdown",
   "id": "efc2b03c",
   "metadata": {},
   "source": [
    "## Numba Implementation of Planck Function\n",
    "\n",
    "The remaining objective is to implement ```planck_function()``` using Numba and compare results to the non-Numba implementation. The sample sizes for each time trial is chosen according to the process described in [section 1.3.2 of these notes](http://www.mit.edu/~kircher/sim.pdf#section.1.3). Plots of execution times are also included."
   ]
  },
  {
   "cell_type": "code",
   "execution_count": 10,
   "id": "eba811ec",
   "metadata": {},
   "outputs": [],
   "source": [
    "@numba.njit()\n",
    "def planck_function_numba(nu):\n",
    "    return (\n",
    "        8\n",
    "        * np.pi**2\n",
    "        * r_boundary_inner**2\n",
    "        * h\n",
    "        * nu**3\n",
    "        / (c2 * (np.exp(h * nu / (kB * temperature_inner)) - 1))\n",
    "    )\n",
    "\n",
    "\n",
    "@numba.njit(parallel=True)\n",
    "def planck_function_numba_parallel(nu):\n",
    "    return (\n",
    "        8\n",
    "        * np.pi**2\n",
    "        * r_boundary_inner**2\n",
    "        * h\n",
    "        * nu**3\n",
    "        / (c2 * (np.exp(h * nu / (kB * temperature_inner)) - 1))\n",
    "    )\n",
    "\n",
    "\n",
    "_ = planck_function_numba(nus_planck)  # Force Numba compilation\n",
    "_ = planck_function_numba_parallel(nus_planck)  # Force Numba compilation"
   ]
  },
  {
   "cell_type": "markdown",
   "id": "29a5b09d",
   "metadata": {},
   "source": [
    "### Initial Pass of Time Trials\n",
    "\n",
    "Below is the first naive pass of simulations that will be used to calculate the number of remaining needed trials."
   ]
  },
  {
   "cell_type": "code",
   "execution_count": 11,
   "id": "e4793fd0",
   "metadata": {
    "scrolled": true
   },
   "outputs": [
    {
     "data": {
      "application/vnd.jupyter.widget-view+json": {
       "model_id": "9b148966ecc0403894593989033b7368",
       "version_major": 2,
       "version_minor": 0
      },
      "text/plain": [
       "  0%|          | 0/2250 [00:00<?, ?it/s]"
      ]
     },
     "metadata": {},
     "output_type": "display_data"
    },
    {
     "data": {
      "text/html": [
       "<div>\n",
       "<style scoped>\n",
       "    .dataframe tbody tr th:only-of-type {\n",
       "        vertical-align: middle;\n",
       "    }\n",
       "\n",
       "    .dataframe tbody tr th {\n",
       "        vertical-align: top;\n",
       "    }\n",
       "\n",
       "    .dataframe thead th {\n",
       "        text-align: right;\n",
       "    }\n",
       "</style>\n",
       "<table border=\"1\" class=\"dataframe\">\n",
       "  <thead>\n",
       "    <tr style=\"text-align: right;\">\n",
       "      <th></th>\n",
       "      <th>func_name</th>\n",
       "      <th>freq_bins</th>\n",
       "      <th>exec_time</th>\n",
       "      <th>date</th>\n",
       "    </tr>\n",
       "  </thead>\n",
       "  <tbody>\n",
       "    <tr>\n",
       "      <th>0</th>\n",
       "      <td>planck_function</td>\n",
       "      <td>100</td>\n",
       "      <td>253232</td>\n",
       "      <td>2023-03-12 19:57:20.192395</td>\n",
       "    </tr>\n",
       "    <tr>\n",
       "      <th>1</th>\n",
       "      <td>planck_function</td>\n",
       "      <td>100</td>\n",
       "      <td>234504</td>\n",
       "      <td>2023-03-12 19:57:20.639659</td>\n",
       "    </tr>\n",
       "    <tr>\n",
       "      <th>2</th>\n",
       "      <td>planck_function</td>\n",
       "      <td>100</td>\n",
       "      <td>254215</td>\n",
       "      <td>2023-03-12 19:57:21.086595</td>\n",
       "    </tr>\n",
       "    <tr>\n",
       "      <th>3</th>\n",
       "      <td>planck_function</td>\n",
       "      <td>100</td>\n",
       "      <td>250894</td>\n",
       "      <td>2023-03-12 19:57:21.536309</td>\n",
       "    </tr>\n",
       "    <tr>\n",
       "      <th>4</th>\n",
       "      <td>planck_function</td>\n",
       "      <td>100</td>\n",
       "      <td>239612</td>\n",
       "      <td>2023-03-12 19:57:21.978362</td>\n",
       "    </tr>\n",
       "    <tr>\n",
       "      <th>...</th>\n",
       "      <td>...</td>\n",
       "      <td>...</td>\n",
       "      <td>...</td>\n",
       "      <td>...</td>\n",
       "    </tr>\n",
       "    <tr>\n",
       "      <th>2245</th>\n",
       "      <td>planck_function_numba_parallel</td>\n",
       "      <td>5000000</td>\n",
       "      <td>3769365</td>\n",
       "      <td>2023-03-12 20:13:06.342893</td>\n",
       "    </tr>\n",
       "    <tr>\n",
       "      <th>2246</th>\n",
       "      <td>planck_function_numba_parallel</td>\n",
       "      <td>5000000</td>\n",
       "      <td>3767701</td>\n",
       "      <td>2023-03-12 20:13:06.772832</td>\n",
       "    </tr>\n",
       "    <tr>\n",
       "      <th>2247</th>\n",
       "      <td>planck_function_numba_parallel</td>\n",
       "      <td>5000000</td>\n",
       "      <td>3805184</td>\n",
       "      <td>2023-03-12 20:13:07.197395</td>\n",
       "    </tr>\n",
       "    <tr>\n",
       "      <th>2248</th>\n",
       "      <td>planck_function_numba_parallel</td>\n",
       "      <td>5000000</td>\n",
       "      <td>3802452</td>\n",
       "      <td>2023-03-12 20:13:07.625351</td>\n",
       "    </tr>\n",
       "    <tr>\n",
       "      <th>2249</th>\n",
       "      <td>planck_function_numba_parallel</td>\n",
       "      <td>5000000</td>\n",
       "      <td>3812599</td>\n",
       "      <td>2023-03-12 20:13:08.054050</td>\n",
       "    </tr>\n",
       "  </tbody>\n",
       "</table>\n",
       "<p>2250 rows × 4 columns</p>\n",
       "</div>"
      ],
      "text/plain": [
       "                           func_name  freq_bins  exec_time  \\\n",
       "0                    planck_function        100     253232   \n",
       "1                    planck_function        100     234504   \n",
       "2                    planck_function        100     254215   \n",
       "3                    planck_function        100     250894   \n",
       "4                    planck_function        100     239612   \n",
       "...                              ...        ...        ...   \n",
       "2245  planck_function_numba_parallel    5000000    3769365   \n",
       "2246  planck_function_numba_parallel    5000000    3767701   \n",
       "2247  planck_function_numba_parallel    5000000    3805184   \n",
       "2248  planck_function_numba_parallel    5000000    3802452   \n",
       "2249  planck_function_numba_parallel    5000000    3812599   \n",
       "\n",
       "                           date  \n",
       "0    2023-03-12 19:57:20.192395  \n",
       "1    2023-03-12 19:57:20.639659  \n",
       "2    2023-03-12 19:57:21.086595  \n",
       "3    2023-03-12 19:57:21.536309  \n",
       "4    2023-03-12 19:57:21.978362  \n",
       "...                         ...  \n",
       "2245 2023-03-12 20:13:06.342893  \n",
       "2246 2023-03-12 20:13:06.772832  \n",
       "2247 2023-03-12 20:13:07.197395  \n",
       "2248 2023-03-12 20:13:07.625351  \n",
       "2249 2023-03-12 20:13:08.054050  \n",
       "\n",
       "[2250 rows x 4 columns]"
      ]
     },
     "execution_count": 11,
     "metadata": {},
     "output_type": "execute_result"
    }
   ],
   "source": [
    "freq_bins = tuple(\n",
    "    itertools.chain.from_iterable(\n",
    "        ((1 * 10**e, 2 * 10**e, 5 * 10**e) for e in range(2, 7))\n",
    "    )\n",
    ")\n",
    "# The prompt only asked for 100, 200, and 500, but seeing how performance\n",
    "# grows for more frequency bins can possibly be informative.\n",
    "\n",
    "function_names = (\n",
    "    \"planck_function\",\n",
    "    \"planck_function_numba\",\n",
    "    \"planck_function_numba_parallel\",\n",
    ")\n",
    "\n",
    "functions = (\n",
    "    planck_function,\n",
    "    planck_function_numba,\n",
    "    planck_function_numba_parallel,\n",
    ")\n",
    "\n",
    "funcdict = {\n",
    "    funcname: func for (funcname, func) in zip(function_names, functions)\n",
    "}\n",
    "\n",
    "N_initial = 50\n",
    "\n",
    "raw_time_data_columns = (\n",
    "    \"func_name\",\n",
    "    \"freq_bins\",\n",
    "    \"exec_time\",\n",
    "    \"date\",\n",
    ")\n",
    "raw_time_data = pd.DataFrame(columns=raw_time_data_columns)\n",
    "raw_time_data[raw_time_data_columns[0]] = raw_time_data[\n",
    "    raw_time_data_columns[0]\n",
    "].astype(\"category\")\n",
    "raw_time_data[raw_time_data_columns[1]] = pd.to_numeric(\n",
    "    raw_time_data[raw_time_data_columns[1]], downcast=\"integer\"\n",
    ")\n",
    "raw_time_data[raw_time_data_columns[2]] = pd.to_numeric(\n",
    "    raw_time_data[raw_time_data_columns[2]], downcast=\"integer\"\n",
    ")\n",
    "raw_time_data[raw_time_data_columns[3]] = pd.to_datetime(\n",
    "    raw_time_data[raw_time_data_columns[3]]\n",
    ")\n",
    "\n",
    "\n",
    "def time_trial(func, func_name, freq):\n",
    "    nus_planck = np.linspace(\n",
    "        min(nus),\n",
    "        max(nus),\n",
    "        freq,\n",
    "    )\n",
    "\n",
    "    start_time = time.perf_counter_ns()\n",
    "    _ = func(nus_planck)\n",
    "    stop_time = time.perf_counter_ns()\n",
    "    timestamp = pd.Timestamp.now()\n",
    "    elapsed = stop_time - start_time\n",
    "    tempdf = pd.DataFrame(\n",
    "        [\n",
    "            [\n",
    "                func_name,\n",
    "                freq,\n",
    "                elapsed,\n",
    "                timestamp,\n",
    "            ],\n",
    "        ],\n",
    "        columns=raw_time_data_columns,\n",
    "    )\n",
    "\n",
    "    return tempdf\n",
    "\n",
    "\n",
    "total_iterations = len(freq_bins) * len(functions) * N_initial\n",
    "\n",
    "for (func, func_name), freq, n in tqdm.tqdm(\n",
    "    itertools.product(\n",
    "        zip(\n",
    "            functions,\n",
    "            function_names,\n",
    "        ),\n",
    "        freq_bins,\n",
    "        range(N_initial),\n",
    "    ),\n",
    "    total=total_iterations,\n",
    "):\n",
    "    tempdf = time_trial(\n",
    "        func,\n",
    "        func_name,\n",
    "        freq,\n",
    "    )\n",
    "    raw_time_data = pd.concat(\n",
    "        [\n",
    "            raw_time_data,\n",
    "            tempdf,\n",
    "        ],\n",
    "        ignore_index=True,\n",
    "    )\n",
    "\n",
    "\n",
    "raw_time_data"
   ]
  },
  {
   "cell_type": "code",
   "execution_count": 12,
   "id": "04878fd6",
   "metadata": {},
   "outputs": [
    {
     "data": {
      "text/html": [
       "<div>\n",
       "<style scoped>\n",
       "    .dataframe tbody tr th:only-of-type {\n",
       "        vertical-align: middle;\n",
       "    }\n",
       "\n",
       "    .dataframe tbody tr th {\n",
       "        vertical-align: top;\n",
       "    }\n",
       "\n",
       "    .dataframe thead th {\n",
       "        text-align: right;\n",
       "    }\n",
       "</style>\n",
       "<table border=\"1\" class=\"dataframe\">\n",
       "  <thead>\n",
       "    <tr style=\"text-align: right;\">\n",
       "      <th></th>\n",
       "      <th></th>\n",
       "      <th>mean</th>\n",
       "      <th>std</th>\n",
       "    </tr>\n",
       "    <tr>\n",
       "      <th>func_name</th>\n",
       "      <th>freq_bins</th>\n",
       "      <th></th>\n",
       "      <th></th>\n",
       "    </tr>\n",
       "  </thead>\n",
       "  <tbody>\n",
       "    <tr>\n",
       "      <th rowspan=\"15\" valign=\"top\">planck_function</th>\n",
       "      <th>100</th>\n",
       "      <td>2.471844e+05</td>\n",
       "      <td>9.777556e+03</td>\n",
       "    </tr>\n",
       "    <tr>\n",
       "      <th>200</th>\n",
       "      <td>2.493657e+05</td>\n",
       "      <td>1.469610e+04</td>\n",
       "    </tr>\n",
       "    <tr>\n",
       "      <th>500</th>\n",
       "      <td>2.566353e+05</td>\n",
       "      <td>1.793045e+04</td>\n",
       "    </tr>\n",
       "    <tr>\n",
       "      <th>1000</th>\n",
       "      <td>2.593489e+05</td>\n",
       "      <td>1.653722e+04</td>\n",
       "    </tr>\n",
       "    <tr>\n",
       "      <th>2000</th>\n",
       "      <td>2.735073e+05</td>\n",
       "      <td>1.673948e+04</td>\n",
       "    </tr>\n",
       "    <tr>\n",
       "      <th>5000</th>\n",
       "      <td>3.153733e+05</td>\n",
       "      <td>1.789630e+04</td>\n",
       "    </tr>\n",
       "    <tr>\n",
       "      <th>10000</th>\n",
       "      <td>3.924816e+05</td>\n",
       "      <td>2.230850e+04</td>\n",
       "    </tr>\n",
       "    <tr>\n",
       "      <th>20000</th>\n",
       "      <td>5.463723e+05</td>\n",
       "      <td>2.671885e+04</td>\n",
       "    </tr>\n",
       "    <tr>\n",
       "      <th>50000</th>\n",
       "      <td>9.820706e+05</td>\n",
       "      <td>3.542974e+04</td>\n",
       "    </tr>\n",
       "    <tr>\n",
       "      <th>100000</th>\n",
       "      <td>1.724539e+06</td>\n",
       "      <td>3.695163e+04</td>\n",
       "    </tr>\n",
       "    <tr>\n",
       "      <th>200000</th>\n",
       "      <td>3.698107e+06</td>\n",
       "      <td>7.715299e+04</td>\n",
       "    </tr>\n",
       "    <tr>\n",
       "      <th>500000</th>\n",
       "      <td>8.495054e+06</td>\n",
       "      <td>2.265238e+05</td>\n",
       "    </tr>\n",
       "    <tr>\n",
       "      <th>1000000</th>\n",
       "      <td>1.588774e+07</td>\n",
       "      <td>2.321248e+05</td>\n",
       "    </tr>\n",
       "    <tr>\n",
       "      <th>2000000</th>\n",
       "      <td>3.295266e+07</td>\n",
       "      <td>3.811876e+05</td>\n",
       "    </tr>\n",
       "    <tr>\n",
       "      <th>5000000</th>\n",
       "      <td>1.090677e+08</td>\n",
       "      <td>3.101593e+06</td>\n",
       "    </tr>\n",
       "    <tr>\n",
       "      <th rowspan=\"15\" valign=\"top\">planck_function_numba</th>\n",
       "      <th>100</th>\n",
       "      <td>6.627840e+03</td>\n",
       "      <td>1.440382e+03</td>\n",
       "    </tr>\n",
       "    <tr>\n",
       "      <th>200</th>\n",
       "      <td>7.412900e+03</td>\n",
       "      <td>1.596957e+03</td>\n",
       "    </tr>\n",
       "    <tr>\n",
       "      <th>500</th>\n",
       "      <td>1.069776e+04</td>\n",
       "      <td>2.037044e+03</td>\n",
       "    </tr>\n",
       "    <tr>\n",
       "      <th>1000</th>\n",
       "      <td>1.517854e+04</td>\n",
       "      <td>1.521789e+03</td>\n",
       "    </tr>\n",
       "    <tr>\n",
       "      <th>2000</th>\n",
       "      <td>1.949626e+04</td>\n",
       "      <td>4.016269e+03</td>\n",
       "    </tr>\n",
       "    <tr>\n",
       "      <th>5000</th>\n",
       "      <td>3.301878e+04</td>\n",
       "      <td>6.408003e+03</td>\n",
       "    </tr>\n",
       "    <tr>\n",
       "      <th>10000</th>\n",
       "      <td>5.334956e+04</td>\n",
       "      <td>2.400401e+03</td>\n",
       "    </tr>\n",
       "    <tr>\n",
       "      <th>20000</th>\n",
       "      <td>9.890834e+04</td>\n",
       "      <td>4.998475e+03</td>\n",
       "    </tr>\n",
       "    <tr>\n",
       "      <th>50000</th>\n",
       "      <td>2.223400e+05</td>\n",
       "      <td>1.944276e+04</td>\n",
       "    </tr>\n",
       "    <tr>\n",
       "      <th>100000</th>\n",
       "      <td>4.213862e+05</td>\n",
       "      <td>3.736296e+04</td>\n",
       "    </tr>\n",
       "    <tr>\n",
       "      <th>200000</th>\n",
       "      <td>8.109836e+05</td>\n",
       "      <td>5.722718e+04</td>\n",
       "    </tr>\n",
       "    <tr>\n",
       "      <th>500000</th>\n",
       "      <td>1.906518e+06</td>\n",
       "      <td>1.309754e+05</td>\n",
       "    </tr>\n",
       "    <tr>\n",
       "      <th>1000000</th>\n",
       "      <td>3.745565e+06</td>\n",
       "      <td>2.329757e+05</td>\n",
       "    </tr>\n",
       "    <tr>\n",
       "      <th>2000000</th>\n",
       "      <td>1.059708e+07</td>\n",
       "      <td>8.410821e+04</td>\n",
       "    </tr>\n",
       "    <tr>\n",
       "      <th>5000000</th>\n",
       "      <td>2.638684e+07</td>\n",
       "      <td>4.051716e+05</td>\n",
       "    </tr>\n",
       "    <tr>\n",
       "      <th rowspan=\"15\" valign=\"top\">planck_function_numba_parallel</th>\n",
       "      <th>100</th>\n",
       "      <td>7.307480e+04</td>\n",
       "      <td>1.920483e+04</td>\n",
       "    </tr>\n",
       "    <tr>\n",
       "      <th>200</th>\n",
       "      <td>6.681532e+04</td>\n",
       "      <td>1.595313e+04</td>\n",
       "    </tr>\n",
       "    <tr>\n",
       "      <th>500</th>\n",
       "      <td>7.357762e+04</td>\n",
       "      <td>2.398666e+04</td>\n",
       "    </tr>\n",
       "    <tr>\n",
       "      <th>1000</th>\n",
       "      <td>8.881836e+04</td>\n",
       "      <td>2.041453e+04</td>\n",
       "    </tr>\n",
       "    <tr>\n",
       "      <th>2000</th>\n",
       "      <td>8.820062e+04</td>\n",
       "      <td>2.051099e+04</td>\n",
       "    </tr>\n",
       "    <tr>\n",
       "      <th>5000</th>\n",
       "      <td>1.045474e+05</td>\n",
       "      <td>2.415872e+04</td>\n",
       "    </tr>\n",
       "    <tr>\n",
       "      <th>10000</th>\n",
       "      <td>1.321407e+05</td>\n",
       "      <td>2.454103e+04</td>\n",
       "    </tr>\n",
       "    <tr>\n",
       "      <th>20000</th>\n",
       "      <td>1.663136e+05</td>\n",
       "      <td>2.118984e+04</td>\n",
       "    </tr>\n",
       "    <tr>\n",
       "      <th>50000</th>\n",
       "      <td>2.552696e+05</td>\n",
       "      <td>2.792402e+04</td>\n",
       "    </tr>\n",
       "    <tr>\n",
       "      <th>100000</th>\n",
       "      <td>3.383814e+05</td>\n",
       "      <td>2.819144e+04</td>\n",
       "    </tr>\n",
       "    <tr>\n",
       "      <th>200000</th>\n",
       "      <td>4.298026e+05</td>\n",
       "      <td>3.819538e+04</td>\n",
       "    </tr>\n",
       "    <tr>\n",
       "      <th>500000</th>\n",
       "      <td>6.124981e+05</td>\n",
       "      <td>4.741048e+04</td>\n",
       "    </tr>\n",
       "    <tr>\n",
       "      <th>1000000</th>\n",
       "      <td>8.926363e+05</td>\n",
       "      <td>4.098346e+04</td>\n",
       "    </tr>\n",
       "    <tr>\n",
       "      <th>2000000</th>\n",
       "      <td>1.705763e+06</td>\n",
       "      <td>4.933423e+04</td>\n",
       "    </tr>\n",
       "    <tr>\n",
       "      <th>5000000</th>\n",
       "      <td>3.836725e+06</td>\n",
       "      <td>1.430044e+05</td>\n",
       "    </tr>\n",
       "  </tbody>\n",
       "</table>\n",
       "</div>"
      ],
      "text/plain": [
       "                                                  mean           std\n",
       "func_name                      freq_bins                            \n",
       "planck_function                100        2.471844e+05  9.777556e+03\n",
       "                               200        2.493657e+05  1.469610e+04\n",
       "                               500        2.566353e+05  1.793045e+04\n",
       "                               1000       2.593489e+05  1.653722e+04\n",
       "                               2000       2.735073e+05  1.673948e+04\n",
       "                               5000       3.153733e+05  1.789630e+04\n",
       "                               10000      3.924816e+05  2.230850e+04\n",
       "                               20000      5.463723e+05  2.671885e+04\n",
       "                               50000      9.820706e+05  3.542974e+04\n",
       "                               100000     1.724539e+06  3.695163e+04\n",
       "                               200000     3.698107e+06  7.715299e+04\n",
       "                               500000     8.495054e+06  2.265238e+05\n",
       "                               1000000    1.588774e+07  2.321248e+05\n",
       "                               2000000    3.295266e+07  3.811876e+05\n",
       "                               5000000    1.090677e+08  3.101593e+06\n",
       "planck_function_numba          100        6.627840e+03  1.440382e+03\n",
       "                               200        7.412900e+03  1.596957e+03\n",
       "                               500        1.069776e+04  2.037044e+03\n",
       "                               1000       1.517854e+04  1.521789e+03\n",
       "                               2000       1.949626e+04  4.016269e+03\n",
       "                               5000       3.301878e+04  6.408003e+03\n",
       "                               10000      5.334956e+04  2.400401e+03\n",
       "                               20000      9.890834e+04  4.998475e+03\n",
       "                               50000      2.223400e+05  1.944276e+04\n",
       "                               100000     4.213862e+05  3.736296e+04\n",
       "                               200000     8.109836e+05  5.722718e+04\n",
       "                               500000     1.906518e+06  1.309754e+05\n",
       "                               1000000    3.745565e+06  2.329757e+05\n",
       "                               2000000    1.059708e+07  8.410821e+04\n",
       "                               5000000    2.638684e+07  4.051716e+05\n",
       "planck_function_numba_parallel 100        7.307480e+04  1.920483e+04\n",
       "                               200        6.681532e+04  1.595313e+04\n",
       "                               500        7.357762e+04  2.398666e+04\n",
       "                               1000       8.881836e+04  2.041453e+04\n",
       "                               2000       8.820062e+04  2.051099e+04\n",
       "                               5000       1.045474e+05  2.415872e+04\n",
       "                               10000      1.321407e+05  2.454103e+04\n",
       "                               20000      1.663136e+05  2.118984e+04\n",
       "                               50000      2.552696e+05  2.792402e+04\n",
       "                               100000     3.383814e+05  2.819144e+04\n",
       "                               200000     4.298026e+05  3.819538e+04\n",
       "                               500000     6.124981e+05  4.741048e+04\n",
       "                               1000000    8.926363e+05  4.098346e+04\n",
       "                               2000000    1.705763e+06  4.933423e+04\n",
       "                               5000000    3.836725e+06  1.430044e+05"
      ]
     },
     "execution_count": 12,
     "metadata": {},
     "output_type": "execute_result"
    }
   ],
   "source": [
    "time_data_estimators = pd.concat(\n",
    "    [\n",
    "        raw_time_data[raw_time_data.columns[:3]]\n",
    "        .groupby(\n",
    "            [\n",
    "                \"func_name\",\n",
    "                \"freq_bins\",\n",
    "            ]\n",
    "        )\n",
    "        .mean()\n",
    "        .rename(columns={raw_time_data.columns[2]: \"mean\"}),\n",
    "        raw_time_data[raw_time_data.columns[:3]]\n",
    "        .groupby(\n",
    "            [\n",
    "                \"func_name\",\n",
    "                \"freq_bins\",\n",
    "            ]\n",
    "        )\n",
    "        .std()\n",
    "        .rename(columns={raw_time_data.columns[2]: \"std\"}),\n",
    "    ],\n",
    "    axis=1,\n",
    ")\n",
    "\n",
    "time_data_estimators"
   ]
  },
  {
   "cell_type": "markdown",
   "id": "a26c03d9",
   "metadata": {},
   "source": [
    "### Calculating Sample Size\n",
    "\n",
    "Below, we use the formula on [page 8 of these notes](www.mit.edu/~kircher/sim.pdf#section.1.2) to calculate how many more samples we need to collect to be confident that $\\mathbb P \\left ( \\left | \\bar \\theta_n - \\theta \\right | \\leq \\epsilon \\right ) \\geq 1 - \\alpha$ where $\\theta$ is the true theoretical mean and $\\bar \\theta_n$ is our Monte Carlo estimator. For practical purposes, we also set a maximum iteration count."
   ]
  },
  {
   "cell_type": "code",
   "execution_count": 13,
   "id": "6e3afccf",
   "metadata": {},
   "outputs": [
    {
     "data": {
      "text/html": [
       "<div>\n",
       "<style scoped>\n",
       "    .dataframe tbody tr th:only-of-type {\n",
       "        vertical-align: middle;\n",
       "    }\n",
       "\n",
       "    .dataframe tbody tr th {\n",
       "        vertical-align: top;\n",
       "    }\n",
       "\n",
       "    .dataframe thead th {\n",
       "        text-align: right;\n",
       "    }\n",
       "</style>\n",
       "<table border=\"1\" class=\"dataframe\">\n",
       "  <thead>\n",
       "    <tr style=\"text-align: right;\">\n",
       "      <th></th>\n",
       "      <th></th>\n",
       "      <th>mean</th>\n",
       "      <th>std</th>\n",
       "      <th>N_montecarlo</th>\n",
       "    </tr>\n",
       "    <tr>\n",
       "      <th>func_name</th>\n",
       "      <th>freq_bins</th>\n",
       "      <th></th>\n",
       "      <th></th>\n",
       "      <th></th>\n",
       "    </tr>\n",
       "  </thead>\n",
       "  <tbody>\n",
       "    <tr>\n",
       "      <th rowspan=\"15\" valign=\"top\">planck_function</th>\n",
       "      <th>100</th>\n",
       "      <td>2.471844e+05</td>\n",
       "      <td>9.777556e+03</td>\n",
       "      <td>1</td>\n",
       "    </tr>\n",
       "    <tr>\n",
       "      <th>200</th>\n",
       "      <td>2.493657e+05</td>\n",
       "      <td>1.469610e+04</td>\n",
       "      <td>1</td>\n",
       "    </tr>\n",
       "    <tr>\n",
       "      <th>500</th>\n",
       "      <td>2.566353e+05</td>\n",
       "      <td>1.793045e+04</td>\n",
       "      <td>1</td>\n",
       "    </tr>\n",
       "    <tr>\n",
       "      <th>1000</th>\n",
       "      <td>2.593489e+05</td>\n",
       "      <td>1.653722e+04</td>\n",
       "      <td>1</td>\n",
       "    </tr>\n",
       "    <tr>\n",
       "      <th>2000</th>\n",
       "      <td>2.735073e+05</td>\n",
       "      <td>1.673948e+04</td>\n",
       "      <td>1</td>\n",
       "    </tr>\n",
       "    <tr>\n",
       "      <th>5000</th>\n",
       "      <td>3.153733e+05</td>\n",
       "      <td>1.789630e+04</td>\n",
       "      <td>1</td>\n",
       "    </tr>\n",
       "    <tr>\n",
       "      <th>10000</th>\n",
       "      <td>3.924816e+05</td>\n",
       "      <td>2.230850e+04</td>\n",
       "      <td>1</td>\n",
       "    </tr>\n",
       "    <tr>\n",
       "      <th>20000</th>\n",
       "      <td>5.463723e+05</td>\n",
       "      <td>2.671885e+04</td>\n",
       "      <td>1</td>\n",
       "    </tr>\n",
       "    <tr>\n",
       "      <th>50000</th>\n",
       "      <td>9.820706e+05</td>\n",
       "      <td>3.542974e+04</td>\n",
       "      <td>1</td>\n",
       "    </tr>\n",
       "    <tr>\n",
       "      <th>100000</th>\n",
       "      <td>1.724539e+06</td>\n",
       "      <td>3.695163e+04</td>\n",
       "      <td>1</td>\n",
       "    </tr>\n",
       "    <tr>\n",
       "      <th>200000</th>\n",
       "      <td>3.698107e+06</td>\n",
       "      <td>7.715299e+04</td>\n",
       "      <td>4</td>\n",
       "    </tr>\n",
       "    <tr>\n",
       "      <th>500000</th>\n",
       "      <td>8.495054e+06</td>\n",
       "      <td>2.265238e+05</td>\n",
       "      <td>34</td>\n",
       "    </tr>\n",
       "    <tr>\n",
       "      <th>1000000</th>\n",
       "      <td>1.588774e+07</td>\n",
       "      <td>2.321248e+05</td>\n",
       "      <td>36</td>\n",
       "    </tr>\n",
       "    <tr>\n",
       "      <th>2000000</th>\n",
       "      <td>3.295266e+07</td>\n",
       "      <td>3.811876e+05</td>\n",
       "      <td>96</td>\n",
       "    </tr>\n",
       "    <tr>\n",
       "      <th>5000000</th>\n",
       "      <td>1.090677e+08</td>\n",
       "      <td>3.101593e+06</td>\n",
       "      <td>1500</td>\n",
       "    </tr>\n",
       "    <tr>\n",
       "      <th rowspan=\"15\" valign=\"top\">planck_function_numba</th>\n",
       "      <th>100</th>\n",
       "      <td>6.627840e+03</td>\n",
       "      <td>1.440382e+03</td>\n",
       "      <td>1</td>\n",
       "    </tr>\n",
       "    <tr>\n",
       "      <th>200</th>\n",
       "      <td>7.412900e+03</td>\n",
       "      <td>1.596957e+03</td>\n",
       "      <td>1</td>\n",
       "    </tr>\n",
       "    <tr>\n",
       "      <th>500</th>\n",
       "      <td>1.069776e+04</td>\n",
       "      <td>2.037044e+03</td>\n",
       "      <td>1</td>\n",
       "    </tr>\n",
       "    <tr>\n",
       "      <th>1000</th>\n",
       "      <td>1.517854e+04</td>\n",
       "      <td>1.521789e+03</td>\n",
       "      <td>1</td>\n",
       "    </tr>\n",
       "    <tr>\n",
       "      <th>2000</th>\n",
       "      <td>1.949626e+04</td>\n",
       "      <td>4.016269e+03</td>\n",
       "      <td>1</td>\n",
       "    </tr>\n",
       "    <tr>\n",
       "      <th>5000</th>\n",
       "      <td>3.301878e+04</td>\n",
       "      <td>6.408003e+03</td>\n",
       "      <td>1</td>\n",
       "    </tr>\n",
       "    <tr>\n",
       "      <th>10000</th>\n",
       "      <td>5.334956e+04</td>\n",
       "      <td>2.400401e+03</td>\n",
       "      <td>1</td>\n",
       "    </tr>\n",
       "    <tr>\n",
       "      <th>20000</th>\n",
       "      <td>9.890834e+04</td>\n",
       "      <td>4.998475e+03</td>\n",
       "      <td>1</td>\n",
       "    </tr>\n",
       "    <tr>\n",
       "      <th>50000</th>\n",
       "      <td>2.223400e+05</td>\n",
       "      <td>1.944276e+04</td>\n",
       "      <td>1</td>\n",
       "    </tr>\n",
       "    <tr>\n",
       "      <th>100000</th>\n",
       "      <td>4.213862e+05</td>\n",
       "      <td>3.736296e+04</td>\n",
       "      <td>1</td>\n",
       "    </tr>\n",
       "    <tr>\n",
       "      <th>200000</th>\n",
       "      <td>8.109836e+05</td>\n",
       "      <td>5.722718e+04</td>\n",
       "      <td>3</td>\n",
       "    </tr>\n",
       "    <tr>\n",
       "      <th>500000</th>\n",
       "      <td>1.906518e+06</td>\n",
       "      <td>1.309754e+05</td>\n",
       "      <td>12</td>\n",
       "    </tr>\n",
       "    <tr>\n",
       "      <th>1000000</th>\n",
       "      <td>3.745565e+06</td>\n",
       "      <td>2.329757e+05</td>\n",
       "      <td>36</td>\n",
       "    </tr>\n",
       "    <tr>\n",
       "      <th>2000000</th>\n",
       "      <td>1.059708e+07</td>\n",
       "      <td>8.410821e+04</td>\n",
       "      <td>5</td>\n",
       "    </tr>\n",
       "    <tr>\n",
       "      <th>5000000</th>\n",
       "      <td>2.638684e+07</td>\n",
       "      <td>4.051716e+05</td>\n",
       "      <td>108</td>\n",
       "    </tr>\n",
       "    <tr>\n",
       "      <th rowspan=\"15\" valign=\"top\">planck_function_numba_parallel</th>\n",
       "      <th>100</th>\n",
       "      <td>7.307480e+04</td>\n",
       "      <td>1.920483e+04</td>\n",
       "      <td>1</td>\n",
       "    </tr>\n",
       "    <tr>\n",
       "      <th>200</th>\n",
       "      <td>6.681532e+04</td>\n",
       "      <td>1.595313e+04</td>\n",
       "      <td>1</td>\n",
       "    </tr>\n",
       "    <tr>\n",
       "      <th>500</th>\n",
       "      <td>7.357762e+04</td>\n",
       "      <td>2.398666e+04</td>\n",
       "      <td>1</td>\n",
       "    </tr>\n",
       "    <tr>\n",
       "      <th>1000</th>\n",
       "      <td>8.881836e+04</td>\n",
       "      <td>2.041453e+04</td>\n",
       "      <td>1</td>\n",
       "    </tr>\n",
       "    <tr>\n",
       "      <th>2000</th>\n",
       "      <td>8.820062e+04</td>\n",
       "      <td>2.051099e+04</td>\n",
       "      <td>1</td>\n",
       "    </tr>\n",
       "    <tr>\n",
       "      <th>5000</th>\n",
       "      <td>1.045474e+05</td>\n",
       "      <td>2.415872e+04</td>\n",
       "      <td>1</td>\n",
       "    </tr>\n",
       "    <tr>\n",
       "      <th>10000</th>\n",
       "      <td>1.321407e+05</td>\n",
       "      <td>2.454103e+04</td>\n",
       "      <td>1</td>\n",
       "    </tr>\n",
       "    <tr>\n",
       "      <th>20000</th>\n",
       "      <td>1.663136e+05</td>\n",
       "      <td>2.118984e+04</td>\n",
       "      <td>1</td>\n",
       "    </tr>\n",
       "    <tr>\n",
       "      <th>50000</th>\n",
       "      <td>2.552696e+05</td>\n",
       "      <td>2.792402e+04</td>\n",
       "      <td>1</td>\n",
       "    </tr>\n",
       "    <tr>\n",
       "      <th>100000</th>\n",
       "      <td>3.383814e+05</td>\n",
       "      <td>2.819144e+04</td>\n",
       "      <td>1</td>\n",
       "    </tr>\n",
       "    <tr>\n",
       "      <th>200000</th>\n",
       "      <td>4.298026e+05</td>\n",
       "      <td>3.819538e+04</td>\n",
       "      <td>1</td>\n",
       "    </tr>\n",
       "    <tr>\n",
       "      <th>500000</th>\n",
       "      <td>6.124981e+05</td>\n",
       "      <td>4.741048e+04</td>\n",
       "      <td>2</td>\n",
       "    </tr>\n",
       "    <tr>\n",
       "      <th>1000000</th>\n",
       "      <td>8.926363e+05</td>\n",
       "      <td>4.098346e+04</td>\n",
       "      <td>2</td>\n",
       "    </tr>\n",
       "    <tr>\n",
       "      <th>2000000</th>\n",
       "      <td>1.705763e+06</td>\n",
       "      <td>4.933423e+04</td>\n",
       "      <td>2</td>\n",
       "    </tr>\n",
       "    <tr>\n",
       "      <th>5000000</th>\n",
       "      <td>3.836725e+06</td>\n",
       "      <td>1.430044e+05</td>\n",
       "      <td>14</td>\n",
       "    </tr>\n",
       "  </tbody>\n",
       "</table>\n",
       "</div>"
      ],
      "text/plain": [
       "                                                  mean           std  \\\n",
       "func_name                      freq_bins                               \n",
       "planck_function                100        2.471844e+05  9.777556e+03   \n",
       "                               200        2.493657e+05  1.469610e+04   \n",
       "                               500        2.566353e+05  1.793045e+04   \n",
       "                               1000       2.593489e+05  1.653722e+04   \n",
       "                               2000       2.735073e+05  1.673948e+04   \n",
       "                               5000       3.153733e+05  1.789630e+04   \n",
       "                               10000      3.924816e+05  2.230850e+04   \n",
       "                               20000      5.463723e+05  2.671885e+04   \n",
       "                               50000      9.820706e+05  3.542974e+04   \n",
       "                               100000     1.724539e+06  3.695163e+04   \n",
       "                               200000     3.698107e+06  7.715299e+04   \n",
       "                               500000     8.495054e+06  2.265238e+05   \n",
       "                               1000000    1.588774e+07  2.321248e+05   \n",
       "                               2000000    3.295266e+07  3.811876e+05   \n",
       "                               5000000    1.090677e+08  3.101593e+06   \n",
       "planck_function_numba          100        6.627840e+03  1.440382e+03   \n",
       "                               200        7.412900e+03  1.596957e+03   \n",
       "                               500        1.069776e+04  2.037044e+03   \n",
       "                               1000       1.517854e+04  1.521789e+03   \n",
       "                               2000       1.949626e+04  4.016269e+03   \n",
       "                               5000       3.301878e+04  6.408003e+03   \n",
       "                               10000      5.334956e+04  2.400401e+03   \n",
       "                               20000      9.890834e+04  4.998475e+03   \n",
       "                               50000      2.223400e+05  1.944276e+04   \n",
       "                               100000     4.213862e+05  3.736296e+04   \n",
       "                               200000     8.109836e+05  5.722718e+04   \n",
       "                               500000     1.906518e+06  1.309754e+05   \n",
       "                               1000000    3.745565e+06  2.329757e+05   \n",
       "                               2000000    1.059708e+07  8.410821e+04   \n",
       "                               5000000    2.638684e+07  4.051716e+05   \n",
       "planck_function_numba_parallel 100        7.307480e+04  1.920483e+04   \n",
       "                               200        6.681532e+04  1.595313e+04   \n",
       "                               500        7.357762e+04  2.398666e+04   \n",
       "                               1000       8.881836e+04  2.041453e+04   \n",
       "                               2000       8.820062e+04  2.051099e+04   \n",
       "                               5000       1.045474e+05  2.415872e+04   \n",
       "                               10000      1.321407e+05  2.454103e+04   \n",
       "                               20000      1.663136e+05  2.118984e+04   \n",
       "                               50000      2.552696e+05  2.792402e+04   \n",
       "                               100000     3.383814e+05  2.819144e+04   \n",
       "                               200000     4.298026e+05  3.819538e+04   \n",
       "                               500000     6.124981e+05  4.741048e+04   \n",
       "                               1000000    8.926363e+05  4.098346e+04   \n",
       "                               2000000    1.705763e+06  4.933423e+04   \n",
       "                               5000000    3.836725e+06  1.430044e+05   \n",
       "\n",
       "                                          N_montecarlo  \n",
       "func_name                      freq_bins                \n",
       "planck_function                100                   1  \n",
       "                               200                   1  \n",
       "                               500                   1  \n",
       "                               1000                  1  \n",
       "                               2000                  1  \n",
       "                               5000                  1  \n",
       "                               10000                 1  \n",
       "                               20000                 1  \n",
       "                               50000                 1  \n",
       "                               100000                1  \n",
       "                               200000                4  \n",
       "                               500000               34  \n",
       "                               1000000              36  \n",
       "                               2000000              96  \n",
       "                               5000000            1500  \n",
       "planck_function_numba          100                   1  \n",
       "                               200                   1  \n",
       "                               500                   1  \n",
       "                               1000                  1  \n",
       "                               2000                  1  \n",
       "                               5000                  1  \n",
       "                               10000                 1  \n",
       "                               20000                 1  \n",
       "                               50000                 1  \n",
       "                               100000                1  \n",
       "                               200000                3  \n",
       "                               500000               12  \n",
       "                               1000000              36  \n",
       "                               2000000               5  \n",
       "                               5000000             108  \n",
       "planck_function_numba_parallel 100                   1  \n",
       "                               200                   1  \n",
       "                               500                   1  \n",
       "                               1000                  1  \n",
       "                               2000                  1  \n",
       "                               5000                  1  \n",
       "                               10000                 1  \n",
       "                               20000                 1  \n",
       "                               50000                 1  \n",
       "                               100000                1  \n",
       "                               200000                1  \n",
       "                               500000                2  \n",
       "                               1000000               2  \n",
       "                               2000000               2  \n",
       "                               5000000              14  "
      ]
     },
     "execution_count": 13,
     "metadata": {},
     "output_type": "execute_result"
    }
   ],
   "source": [
    "confidence_level = 2e-1  # alpha\n",
    "error_tolerance = 5e4  # epsilon\n",
    "Nmax = 1500\n",
    "z = stats.norm.ppf(1.0 - confidence_level / 2.0)\n",
    "\n",
    "time_data_estimators[\"N_montecarlo\"] = pd.to_numeric(\n",
    "    ((time_data_estimators[\"std\"] * z / error_tolerance) ** 2)\n",
    "    .apply(lambda x: np.minimum(x, Nmax))\n",
    "    .apply(np.ceil),\n",
    "    downcast=\"integer\",\n",
    ").rename(\"N_iterations\")\n",
    "\n",
    "time_data_estimators"
   ]
  },
  {
   "cell_type": "markdown",
   "id": "a8e1fed3",
   "metadata": {},
   "source": [
    "### Perform the second pass\n",
    "\n",
    "After calculating the number of further iterations needed for our chosen level of confidence, we perform the trials below and then recalculate the statistics."
   ]
  },
  {
   "cell_type": "code",
   "execution_count": 14,
   "id": "cb3a92dd",
   "metadata": {
    "scrolled": false
   },
   "outputs": [
    {
     "name": "stdout",
     "output_type": "stream",
     "text": [
      "Running 1 iteration of planck_function with 100 frequency bins...\n"
     ]
    },
    {
     "data": {
      "application/vnd.jupyter.widget-view+json": {
       "model_id": "a688f266192343be98344e40c02751cc",
       "version_major": 2,
       "version_minor": 0
      },
      "text/plain": [
       "  0%|          | 0/1 [00:00<?, ?it/s]"
      ]
     },
     "metadata": {},
     "output_type": "display_data"
    },
    {
     "name": "stdout",
     "output_type": "stream",
     "text": [
      "Running 1 iteration of planck_function with 200 frequency bins...\n"
     ]
    },
    {
     "data": {
      "application/vnd.jupyter.widget-view+json": {
       "model_id": "74db9c3be23a4092a7caa5f057c62b65",
       "version_major": 2,
       "version_minor": 0
      },
      "text/plain": [
       "  0%|          | 0/1 [00:00<?, ?it/s]"
      ]
     },
     "metadata": {},
     "output_type": "display_data"
    },
    {
     "name": "stdout",
     "output_type": "stream",
     "text": [
      "Running 1 iteration of planck_function with 500 frequency bins...\n"
     ]
    },
    {
     "data": {
      "application/vnd.jupyter.widget-view+json": {
       "model_id": "fc64f1892b9e43d9aeff7be4ef570baf",
       "version_major": 2,
       "version_minor": 0
      },
      "text/plain": [
       "  0%|          | 0/1 [00:00<?, ?it/s]"
      ]
     },
     "metadata": {},
     "output_type": "display_data"
    },
    {
     "name": "stdout",
     "output_type": "stream",
     "text": [
      "Running 1 iteration of planck_function with 1000 frequency bins...\n"
     ]
    },
    {
     "data": {
      "application/vnd.jupyter.widget-view+json": {
       "model_id": "bbda4ae96d404e8a89156822e124e6d2",
       "version_major": 2,
       "version_minor": 0
      },
      "text/plain": [
       "  0%|          | 0/1 [00:00<?, ?it/s]"
      ]
     },
     "metadata": {},
     "output_type": "display_data"
    },
    {
     "name": "stdout",
     "output_type": "stream",
     "text": [
      "Running 1 iteration of planck_function with 2000 frequency bins...\n"
     ]
    },
    {
     "data": {
      "application/vnd.jupyter.widget-view+json": {
       "model_id": "d630f61dbae14289a233f329f7dddff8",
       "version_major": 2,
       "version_minor": 0
      },
      "text/plain": [
       "  0%|          | 0/1 [00:00<?, ?it/s]"
      ]
     },
     "metadata": {},
     "output_type": "display_data"
    },
    {
     "name": "stdout",
     "output_type": "stream",
     "text": [
      "Running 1 iteration of planck_function with 5000 frequency bins...\n"
     ]
    },
    {
     "data": {
      "application/vnd.jupyter.widget-view+json": {
       "model_id": "567ddcba105d4405adab9c2a89ba28d7",
       "version_major": 2,
       "version_minor": 0
      },
      "text/plain": [
       "  0%|          | 0/1 [00:00<?, ?it/s]"
      ]
     },
     "metadata": {},
     "output_type": "display_data"
    },
    {
     "name": "stdout",
     "output_type": "stream",
     "text": [
      "Running 1 iteration of planck_function with 10000 frequency bins...\n"
     ]
    },
    {
     "data": {
      "application/vnd.jupyter.widget-view+json": {
       "model_id": "54c82f02cd714b51b60db7b2bade0540",
       "version_major": 2,
       "version_minor": 0
      },
      "text/plain": [
       "  0%|          | 0/1 [00:00<?, ?it/s]"
      ]
     },
     "metadata": {},
     "output_type": "display_data"
    },
    {
     "name": "stdout",
     "output_type": "stream",
     "text": [
      "Running 1 iteration of planck_function with 20000 frequency bins...\n"
     ]
    },
    {
     "data": {
      "application/vnd.jupyter.widget-view+json": {
       "model_id": "7d02994f637944db963ff023c55f61e2",
       "version_major": 2,
       "version_minor": 0
      },
      "text/plain": [
       "  0%|          | 0/1 [00:00<?, ?it/s]"
      ]
     },
     "metadata": {},
     "output_type": "display_data"
    },
    {
     "name": "stdout",
     "output_type": "stream",
     "text": [
      "Running 1 iteration of planck_function with 50000 frequency bins...\n"
     ]
    },
    {
     "data": {
      "application/vnd.jupyter.widget-view+json": {
       "model_id": "a4330092b6434876a71ded4d16242224",
       "version_major": 2,
       "version_minor": 0
      },
      "text/plain": [
       "  0%|          | 0/1 [00:00<?, ?it/s]"
      ]
     },
     "metadata": {},
     "output_type": "display_data"
    },
    {
     "name": "stdout",
     "output_type": "stream",
     "text": [
      "Running 1 iteration of planck_function with 100000 frequency bins...\n"
     ]
    },
    {
     "data": {
      "application/vnd.jupyter.widget-view+json": {
       "model_id": "297822d89af74b3e802a50a04a256ef8",
       "version_major": 2,
       "version_minor": 0
      },
      "text/plain": [
       "  0%|          | 0/1 [00:00<?, ?it/s]"
      ]
     },
     "metadata": {},
     "output_type": "display_data"
    },
    {
     "name": "stdout",
     "output_type": "stream",
     "text": [
      "Running 4 iterations of planck_function with 200000 frequency bins...\n"
     ]
    },
    {
     "data": {
      "application/vnd.jupyter.widget-view+json": {
       "model_id": "ed249cd6e2fd4b66bb475de6f192b084",
       "version_major": 2,
       "version_minor": 0
      },
      "text/plain": [
       "  0%|          | 0/4 [00:00<?, ?it/s]"
      ]
     },
     "metadata": {},
     "output_type": "display_data"
    },
    {
     "name": "stdout",
     "output_type": "stream",
     "text": [
      "Running 34 iterations of planck_function with 500000 frequency bins...\n"
     ]
    },
    {
     "data": {
      "application/vnd.jupyter.widget-view+json": {
       "model_id": "14357defda3c4f11b1eb6b36f024c5af",
       "version_major": 2,
       "version_minor": 0
      },
      "text/plain": [
       "  0%|          | 0/34 [00:00<?, ?it/s]"
      ]
     },
     "metadata": {},
     "output_type": "display_data"
    },
    {
     "name": "stdout",
     "output_type": "stream",
     "text": [
      "Running 36 iterations of planck_function with 1000000 frequency bins...\n"
     ]
    },
    {
     "data": {
      "application/vnd.jupyter.widget-view+json": {
       "model_id": "ad1119b91a1a4949978bab65c92c38bd",
       "version_major": 2,
       "version_minor": 0
      },
      "text/plain": [
       "  0%|          | 0/36 [00:00<?, ?it/s]"
      ]
     },
     "metadata": {},
     "output_type": "display_data"
    },
    {
     "name": "stdout",
     "output_type": "stream",
     "text": [
      "Running 96 iterations of planck_function with 2000000 frequency bins...\n"
     ]
    },
    {
     "data": {
      "application/vnd.jupyter.widget-view+json": {
       "model_id": "b69f2ca2c7614e8b961b73598623256c",
       "version_major": 2,
       "version_minor": 0
      },
      "text/plain": [
       "  0%|          | 0/96 [00:00<?, ?it/s]"
      ]
     },
     "metadata": {},
     "output_type": "display_data"
    },
    {
     "name": "stdout",
     "output_type": "stream",
     "text": [
      "Running 1500 iterations of planck_function with 5000000 frequency bins...\n"
     ]
    },
    {
     "data": {
      "application/vnd.jupyter.widget-view+json": {
       "model_id": "6d976ebd2e0145c8a52e1a10f945be80",
       "version_major": 2,
       "version_minor": 0
      },
      "text/plain": [
       "  0%|          | 0/1500 [00:00<?, ?it/s]"
      ]
     },
     "metadata": {},
     "output_type": "display_data"
    },
    {
     "name": "stdout",
     "output_type": "stream",
     "text": [
      "Running 1 iteration of planck_function_numba with 100 frequency bins...\n"
     ]
    },
    {
     "data": {
      "application/vnd.jupyter.widget-view+json": {
       "model_id": "acbbd9ab09e24fc98b799786d80d34d6",
       "version_major": 2,
       "version_minor": 0
      },
      "text/plain": [
       "  0%|          | 0/1 [00:00<?, ?it/s]"
      ]
     },
     "metadata": {},
     "output_type": "display_data"
    },
    {
     "name": "stdout",
     "output_type": "stream",
     "text": [
      "Running 1 iteration of planck_function_numba with 200 frequency bins...\n"
     ]
    },
    {
     "data": {
      "application/vnd.jupyter.widget-view+json": {
       "model_id": "679af52b9a1940f38213848ee634d0f5",
       "version_major": 2,
       "version_minor": 0
      },
      "text/plain": [
       "  0%|          | 0/1 [00:00<?, ?it/s]"
      ]
     },
     "metadata": {},
     "output_type": "display_data"
    },
    {
     "name": "stdout",
     "output_type": "stream",
     "text": [
      "Running 1 iteration of planck_function_numba with 500 frequency bins...\n"
     ]
    },
    {
     "data": {
      "application/vnd.jupyter.widget-view+json": {
       "model_id": "a8001a2c4d894e9e9e89d1dfe0af6cf9",
       "version_major": 2,
       "version_minor": 0
      },
      "text/plain": [
       "  0%|          | 0/1 [00:00<?, ?it/s]"
      ]
     },
     "metadata": {},
     "output_type": "display_data"
    },
    {
     "name": "stdout",
     "output_type": "stream",
     "text": [
      "Running 1 iteration of planck_function_numba with 1000 frequency bins...\n"
     ]
    },
    {
     "data": {
      "application/vnd.jupyter.widget-view+json": {
       "model_id": "244949035f7140188662d56fc618a111",
       "version_major": 2,
       "version_minor": 0
      },
      "text/plain": [
       "  0%|          | 0/1 [00:00<?, ?it/s]"
      ]
     },
     "metadata": {},
     "output_type": "display_data"
    },
    {
     "name": "stdout",
     "output_type": "stream",
     "text": [
      "Running 1 iteration of planck_function_numba with 2000 frequency bins...\n"
     ]
    },
    {
     "data": {
      "application/vnd.jupyter.widget-view+json": {
       "model_id": "98e07a5d673640c4be2a294570c6c72d",
       "version_major": 2,
       "version_minor": 0
      },
      "text/plain": [
       "  0%|          | 0/1 [00:00<?, ?it/s]"
      ]
     },
     "metadata": {},
     "output_type": "display_data"
    },
    {
     "name": "stdout",
     "output_type": "stream",
     "text": [
      "Running 1 iteration of planck_function_numba with 5000 frequency bins...\n"
     ]
    },
    {
     "data": {
      "application/vnd.jupyter.widget-view+json": {
       "model_id": "cbede01f0f2f41ea9f2b0565007468b4",
       "version_major": 2,
       "version_minor": 0
      },
      "text/plain": [
       "  0%|          | 0/1 [00:00<?, ?it/s]"
      ]
     },
     "metadata": {},
     "output_type": "display_data"
    },
    {
     "name": "stdout",
     "output_type": "stream",
     "text": [
      "Running 1 iteration of planck_function_numba with 10000 frequency bins...\n"
     ]
    },
    {
     "data": {
      "application/vnd.jupyter.widget-view+json": {
       "model_id": "39a170ad5cc942de8134094d0fa5cac0",
       "version_major": 2,
       "version_minor": 0
      },
      "text/plain": [
       "  0%|          | 0/1 [00:00<?, ?it/s]"
      ]
     },
     "metadata": {},
     "output_type": "display_data"
    },
    {
     "name": "stdout",
     "output_type": "stream",
     "text": [
      "Running 1 iteration of planck_function_numba with 20000 frequency bins...\n"
     ]
    },
    {
     "data": {
      "application/vnd.jupyter.widget-view+json": {
       "model_id": "90b361274e754529b4685d579b872069",
       "version_major": 2,
       "version_minor": 0
      },
      "text/plain": [
       "  0%|          | 0/1 [00:00<?, ?it/s]"
      ]
     },
     "metadata": {},
     "output_type": "display_data"
    },
    {
     "name": "stdout",
     "output_type": "stream",
     "text": [
      "Running 1 iteration of planck_function_numba with 50000 frequency bins...\n"
     ]
    },
    {
     "data": {
      "application/vnd.jupyter.widget-view+json": {
       "model_id": "ca26963d1d0341708fe3a46ef987a05c",
       "version_major": 2,
       "version_minor": 0
      },
      "text/plain": [
       "  0%|          | 0/1 [00:00<?, ?it/s]"
      ]
     },
     "metadata": {},
     "output_type": "display_data"
    },
    {
     "name": "stdout",
     "output_type": "stream",
     "text": [
      "Running 1 iteration of planck_function_numba with 100000 frequency bins...\n"
     ]
    },
    {
     "data": {
      "application/vnd.jupyter.widget-view+json": {
       "model_id": "4381a6a19db14b8f96b9abf808453605",
       "version_major": 2,
       "version_minor": 0
      },
      "text/plain": [
       "  0%|          | 0/1 [00:00<?, ?it/s]"
      ]
     },
     "metadata": {},
     "output_type": "display_data"
    },
    {
     "name": "stdout",
     "output_type": "stream",
     "text": [
      "Running 3 iterations of planck_function_numba with 200000 frequency bins...\n"
     ]
    },
    {
     "data": {
      "application/vnd.jupyter.widget-view+json": {
       "model_id": "c4eac78b8773467e966a2a932c3edff0",
       "version_major": 2,
       "version_minor": 0
      },
      "text/plain": [
       "  0%|          | 0/3 [00:00<?, ?it/s]"
      ]
     },
     "metadata": {},
     "output_type": "display_data"
    },
    {
     "name": "stdout",
     "output_type": "stream",
     "text": [
      "Running 12 iterations of planck_function_numba with 500000 frequency bins...\n"
     ]
    },
    {
     "data": {
      "application/vnd.jupyter.widget-view+json": {
       "model_id": "9721b349513742d3982431f9e44e3a9e",
       "version_major": 2,
       "version_minor": 0
      },
      "text/plain": [
       "  0%|          | 0/12 [00:00<?, ?it/s]"
      ]
     },
     "metadata": {},
     "output_type": "display_data"
    },
    {
     "name": "stdout",
     "output_type": "stream",
     "text": [
      "Running 36 iterations of planck_function_numba with 1000000 frequency bins...\n"
     ]
    },
    {
     "data": {
      "application/vnd.jupyter.widget-view+json": {
       "model_id": "19c531e8657741ff812a626c64887514",
       "version_major": 2,
       "version_minor": 0
      },
      "text/plain": [
       "  0%|          | 0/36 [00:00<?, ?it/s]"
      ]
     },
     "metadata": {},
     "output_type": "display_data"
    },
    {
     "name": "stdout",
     "output_type": "stream",
     "text": [
      "Running 5 iterations of planck_function_numba with 2000000 frequency bins...\n"
     ]
    },
    {
     "data": {
      "application/vnd.jupyter.widget-view+json": {
       "model_id": "cd1677a92c7f4efea6e73d8724759df4",
       "version_major": 2,
       "version_minor": 0
      },
      "text/plain": [
       "  0%|          | 0/5 [00:00<?, ?it/s]"
      ]
     },
     "metadata": {},
     "output_type": "display_data"
    },
    {
     "name": "stdout",
     "output_type": "stream",
     "text": [
      "Running 108 iterations of planck_function_numba with 5000000 frequency bins...\n"
     ]
    },
    {
     "data": {
      "application/vnd.jupyter.widget-view+json": {
       "model_id": "1c9914ae221040ca815a8557af0bcd45",
       "version_major": 2,
       "version_minor": 0
      },
      "text/plain": [
       "  0%|          | 0/108 [00:00<?, ?it/s]"
      ]
     },
     "metadata": {},
     "output_type": "display_data"
    },
    {
     "name": "stdout",
     "output_type": "stream",
     "text": [
      "Running 1 iteration of planck_function_numba_parallel with 100 frequency bins...\n"
     ]
    },
    {
     "data": {
      "application/vnd.jupyter.widget-view+json": {
       "model_id": "37c3039549004ef69ca77601889ef594",
       "version_major": 2,
       "version_minor": 0
      },
      "text/plain": [
       "  0%|          | 0/1 [00:00<?, ?it/s]"
      ]
     },
     "metadata": {},
     "output_type": "display_data"
    },
    {
     "name": "stdout",
     "output_type": "stream",
     "text": [
      "Running 1 iteration of planck_function_numba_parallel with 200 frequency bins...\n"
     ]
    },
    {
     "data": {
      "application/vnd.jupyter.widget-view+json": {
       "model_id": "6fbd8fc61008467da75f7b628f4c3f15",
       "version_major": 2,
       "version_minor": 0
      },
      "text/plain": [
       "  0%|          | 0/1 [00:00<?, ?it/s]"
      ]
     },
     "metadata": {},
     "output_type": "display_data"
    },
    {
     "name": "stdout",
     "output_type": "stream",
     "text": [
      "Running 1 iteration of planck_function_numba_parallel with 500 frequency bins...\n"
     ]
    },
    {
     "data": {
      "application/vnd.jupyter.widget-view+json": {
       "model_id": "2e57dd7bbf294c2ca8ebdb275a97e4e9",
       "version_major": 2,
       "version_minor": 0
      },
      "text/plain": [
       "  0%|          | 0/1 [00:00<?, ?it/s]"
      ]
     },
     "metadata": {},
     "output_type": "display_data"
    },
    {
     "name": "stdout",
     "output_type": "stream",
     "text": [
      "Running 1 iteration of planck_function_numba_parallel with 1000 frequency bins...\n"
     ]
    },
    {
     "data": {
      "application/vnd.jupyter.widget-view+json": {
       "model_id": "0d0adcba41074ac1a4d06f26e86cf64e",
       "version_major": 2,
       "version_minor": 0
      },
      "text/plain": [
       "  0%|          | 0/1 [00:00<?, ?it/s]"
      ]
     },
     "metadata": {},
     "output_type": "display_data"
    },
    {
     "name": "stdout",
     "output_type": "stream",
     "text": [
      "Running 1 iteration of planck_function_numba_parallel with 2000 frequency bins...\n"
     ]
    },
    {
     "data": {
      "application/vnd.jupyter.widget-view+json": {
       "model_id": "170aebc275104a87ad48e63389a0ca8d",
       "version_major": 2,
       "version_minor": 0
      },
      "text/plain": [
       "  0%|          | 0/1 [00:00<?, ?it/s]"
      ]
     },
     "metadata": {},
     "output_type": "display_data"
    },
    {
     "name": "stdout",
     "output_type": "stream",
     "text": [
      "Running 1 iteration of planck_function_numba_parallel with 5000 frequency bins...\n"
     ]
    },
    {
     "data": {
      "application/vnd.jupyter.widget-view+json": {
       "model_id": "5c0e3d66313e4d4d8d158f7ab1e5f7f8",
       "version_major": 2,
       "version_minor": 0
      },
      "text/plain": [
       "  0%|          | 0/1 [00:00<?, ?it/s]"
      ]
     },
     "metadata": {},
     "output_type": "display_data"
    },
    {
     "name": "stdout",
     "output_type": "stream",
     "text": [
      "Running 1 iteration of planck_function_numba_parallel with 10000 frequency bins...\n"
     ]
    },
    {
     "data": {
      "application/vnd.jupyter.widget-view+json": {
       "model_id": "31cc037d3060450484f28ce7d6748eb0",
       "version_major": 2,
       "version_minor": 0
      },
      "text/plain": [
       "  0%|          | 0/1 [00:00<?, ?it/s]"
      ]
     },
     "metadata": {},
     "output_type": "display_data"
    },
    {
     "name": "stdout",
     "output_type": "stream",
     "text": [
      "Running 1 iteration of planck_function_numba_parallel with 20000 frequency bins...\n"
     ]
    },
    {
     "data": {
      "application/vnd.jupyter.widget-view+json": {
       "model_id": "2abf9abcda6c4b11ac947cb854ce1257",
       "version_major": 2,
       "version_minor": 0
      },
      "text/plain": [
       "  0%|          | 0/1 [00:00<?, ?it/s]"
      ]
     },
     "metadata": {},
     "output_type": "display_data"
    },
    {
     "name": "stdout",
     "output_type": "stream",
     "text": [
      "Running 1 iteration of planck_function_numba_parallel with 50000 frequency bins...\n"
     ]
    },
    {
     "data": {
      "application/vnd.jupyter.widget-view+json": {
       "model_id": "9f1b6cca2f944d479946f9c14a677a97",
       "version_major": 2,
       "version_minor": 0
      },
      "text/plain": [
       "  0%|          | 0/1 [00:00<?, ?it/s]"
      ]
     },
     "metadata": {},
     "output_type": "display_data"
    },
    {
     "name": "stdout",
     "output_type": "stream",
     "text": [
      "Running 1 iteration of planck_function_numba_parallel with 100000 frequency bins...\n"
     ]
    },
    {
     "data": {
      "application/vnd.jupyter.widget-view+json": {
       "model_id": "10b7323575f048dbadf529b722a90192",
       "version_major": 2,
       "version_minor": 0
      },
      "text/plain": [
       "  0%|          | 0/1 [00:00<?, ?it/s]"
      ]
     },
     "metadata": {},
     "output_type": "display_data"
    },
    {
     "name": "stdout",
     "output_type": "stream",
     "text": [
      "Running 1 iteration of planck_function_numba_parallel with 200000 frequency bins...\n"
     ]
    },
    {
     "data": {
      "application/vnd.jupyter.widget-view+json": {
       "model_id": "2ca5b13a27004b6c8bb565d648ae40dc",
       "version_major": 2,
       "version_minor": 0
      },
      "text/plain": [
       "  0%|          | 0/1 [00:00<?, ?it/s]"
      ]
     },
     "metadata": {},
     "output_type": "display_data"
    },
    {
     "name": "stdout",
     "output_type": "stream",
     "text": [
      "Running 2 iterations of planck_function_numba_parallel with 500000 frequency bins...\n"
     ]
    },
    {
     "data": {
      "application/vnd.jupyter.widget-view+json": {
       "model_id": "d9ddbfb8bed04b249c23013005a090e6",
       "version_major": 2,
       "version_minor": 0
      },
      "text/plain": [
       "  0%|          | 0/2 [00:00<?, ?it/s]"
      ]
     },
     "metadata": {},
     "output_type": "display_data"
    },
    {
     "name": "stdout",
     "output_type": "stream",
     "text": [
      "Running 2 iterations of planck_function_numba_parallel with 1000000 frequency bins...\n"
     ]
    },
    {
     "data": {
      "application/vnd.jupyter.widget-view+json": {
       "model_id": "035c827f169f443890f9e9026f2ed53b",
       "version_major": 2,
       "version_minor": 0
      },
      "text/plain": [
       "  0%|          | 0/2 [00:00<?, ?it/s]"
      ]
     },
     "metadata": {},
     "output_type": "display_data"
    },
    {
     "name": "stdout",
     "output_type": "stream",
     "text": [
      "Running 2 iterations of planck_function_numba_parallel with 2000000 frequency bins...\n"
     ]
    },
    {
     "data": {
      "application/vnd.jupyter.widget-view+json": {
       "model_id": "e0ac1030a2cd46ff89e0d1503e53e8fd",
       "version_major": 2,
       "version_minor": 0
      },
      "text/plain": [
       "  0%|          | 0/2 [00:00<?, ?it/s]"
      ]
     },
     "metadata": {},
     "output_type": "display_data"
    },
    {
     "name": "stdout",
     "output_type": "stream",
     "text": [
      "Running 14 iterations of planck_function_numba_parallel with 5000000 frequency bins...\n"
     ]
    },
    {
     "data": {
      "application/vnd.jupyter.widget-view+json": {
       "model_id": "03e780103c8246d7b022af354898962d",
       "version_major": 2,
       "version_minor": 0
      },
      "text/plain": [
       "  0%|          | 0/14 [00:00<?, ?it/s]"
      ]
     },
     "metadata": {},
     "output_type": "display_data"
    },
    {
     "data": {
      "text/html": [
       "<div>\n",
       "<style scoped>\n",
       "    .dataframe tbody tr th:only-of-type {\n",
       "        vertical-align: middle;\n",
       "    }\n",
       "\n",
       "    .dataframe tbody tr th {\n",
       "        vertical-align: top;\n",
       "    }\n",
       "\n",
       "    .dataframe thead th {\n",
       "        text-align: right;\n",
       "    }\n",
       "</style>\n",
       "<table border=\"1\" class=\"dataframe\">\n",
       "  <thead>\n",
       "    <tr style=\"text-align: right;\">\n",
       "      <th></th>\n",
       "      <th></th>\n",
       "      <th>mean</th>\n",
       "      <th>std</th>\n",
       "      <th>N_montecarlo</th>\n",
       "    </tr>\n",
       "    <tr>\n",
       "      <th>func_name</th>\n",
       "      <th>freq_bins</th>\n",
       "      <th></th>\n",
       "      <th></th>\n",
       "      <th></th>\n",
       "    </tr>\n",
       "  </thead>\n",
       "  <tbody>\n",
       "    <tr>\n",
       "      <th rowspan=\"15\" valign=\"top\">planck_function</th>\n",
       "      <th>100</th>\n",
       "      <td>2.471320e+05</td>\n",
       "      <td>9.686506e+03</td>\n",
       "      <td>1</td>\n",
       "    </tr>\n",
       "    <tr>\n",
       "      <th>200</th>\n",
       "      <td>2.494588e+05</td>\n",
       "      <td>1.456359e+04</td>\n",
       "      <td>1</td>\n",
       "    </tr>\n",
       "    <tr>\n",
       "      <th>500</th>\n",
       "      <td>2.564389e+05</td>\n",
       "      <td>1.780557e+04</td>\n",
       "      <td>1</td>\n",
       "    </tr>\n",
       "    <tr>\n",
       "      <th>1000</th>\n",
       "      <td>2.592392e+05</td>\n",
       "      <td>1.638975e+04</td>\n",
       "      <td>1</td>\n",
       "    </tr>\n",
       "    <tr>\n",
       "      <th>2000</th>\n",
       "      <td>2.743622e+05</td>\n",
       "      <td>1.765996e+04</td>\n",
       "      <td>1</td>\n",
       "    </tr>\n",
       "    <tr>\n",
       "      <th>5000</th>\n",
       "      <td>3.167204e+05</td>\n",
       "      <td>2.016006e+04</td>\n",
       "      <td>1</td>\n",
       "    </tr>\n",
       "    <tr>\n",
       "      <th>10000</th>\n",
       "      <td>3.931668e+05</td>\n",
       "      <td>2.262001e+04</td>\n",
       "      <td>1</td>\n",
       "    </tr>\n",
       "    <tr>\n",
       "      <th>20000</th>\n",
       "      <td>5.472897e+05</td>\n",
       "      <td>2.724963e+04</td>\n",
       "      <td>1</td>\n",
       "    </tr>\n",
       "    <tr>\n",
       "      <th>50000</th>\n",
       "      <td>9.850875e+05</td>\n",
       "      <td>4.116249e+04</td>\n",
       "      <td>2</td>\n",
       "    </tr>\n",
       "    <tr>\n",
       "      <th>100000</th>\n",
       "      <td>1.728987e+06</td>\n",
       "      <td>4.844795e+04</td>\n",
       "      <td>2</td>\n",
       "    </tr>\n",
       "    <tr>\n",
       "      <th>200000</th>\n",
       "      <td>3.658736e+06</td>\n",
       "      <td>1.713705e+05</td>\n",
       "      <td>20</td>\n",
       "    </tr>\n",
       "    <tr>\n",
       "      <th>500000</th>\n",
       "      <td>7.957951e+06</td>\n",
       "      <td>6.934710e+05</td>\n",
       "      <td>316</td>\n",
       "    </tr>\n",
       "    <tr>\n",
       "      <th>1000000</th>\n",
       "      <td>1.572814e+07</td>\n",
       "      <td>3.238415e+05</td>\n",
       "      <td>69</td>\n",
       "    </tr>\n",
       "    <tr>\n",
       "      <th>2000000</th>\n",
       "      <td>3.290279e+07</td>\n",
       "      <td>7.761234e+05</td>\n",
       "      <td>396</td>\n",
       "    </tr>\n",
       "    <tr>\n",
       "      <th>5000000</th>\n",
       "      <td>1.057767e+08</td>\n",
       "      <td>1.506571e+06</td>\n",
       "      <td>1492</td>\n",
       "    </tr>\n",
       "    <tr>\n",
       "      <th rowspan=\"15\" valign=\"top\">planck_function_numba</th>\n",
       "      <th>100</th>\n",
       "      <td>6.674980e+03</td>\n",
       "      <td>1.465108e+03</td>\n",
       "      <td>1</td>\n",
       "    </tr>\n",
       "    <tr>\n",
       "      <th>200</th>\n",
       "      <td>7.437510e+03</td>\n",
       "      <td>1.590646e+03</td>\n",
       "      <td>1</td>\n",
       "    </tr>\n",
       "    <tr>\n",
       "      <th>500</th>\n",
       "      <td>1.073335e+04</td>\n",
       "      <td>2.032528e+03</td>\n",
       "      <td>1</td>\n",
       "    </tr>\n",
       "    <tr>\n",
       "      <th>1000</th>\n",
       "      <td>1.522500e+04</td>\n",
       "      <td>1.542598e+03</td>\n",
       "      <td>1</td>\n",
       "    </tr>\n",
       "    <tr>\n",
       "      <th>2000</th>\n",
       "      <td>1.953343e+04</td>\n",
       "      <td>3.984755e+03</td>\n",
       "      <td>1</td>\n",
       "    </tr>\n",
       "    <tr>\n",
       "      <th>5000</th>\n",
       "      <td>3.349133e+04</td>\n",
       "      <td>7.185394e+03</td>\n",
       "      <td>1</td>\n",
       "    </tr>\n",
       "    <tr>\n",
       "      <th>10000</th>\n",
       "      <td>5.349112e+04</td>\n",
       "      <td>2.582373e+03</td>\n",
       "      <td>1</td>\n",
       "    </tr>\n",
       "    <tr>\n",
       "      <th>20000</th>\n",
       "      <td>9.964863e+04</td>\n",
       "      <td>7.241157e+03</td>\n",
       "      <td>1</td>\n",
       "    </tr>\n",
       "    <tr>\n",
       "      <th>50000</th>\n",
       "      <td>2.250569e+05</td>\n",
       "      <td>2.732943e+04</td>\n",
       "      <td>1</td>\n",
       "    </tr>\n",
       "    <tr>\n",
       "      <th>100000</th>\n",
       "      <td>4.249463e+05</td>\n",
       "      <td>4.488272e+04</td>\n",
       "      <td>2</td>\n",
       "    </tr>\n",
       "    <tr>\n",
       "      <th>200000</th>\n",
       "      <td>8.196712e+05</td>\n",
       "      <td>7.709122e+04</td>\n",
       "      <td>4</td>\n",
       "    </tr>\n",
       "    <tr>\n",
       "      <th>500000</th>\n",
       "      <td>1.906142e+06</td>\n",
       "      <td>1.658166e+05</td>\n",
       "      <td>19</td>\n",
       "    </tr>\n",
       "    <tr>\n",
       "      <th>1000000</th>\n",
       "      <td>3.724601e+06</td>\n",
       "      <td>2.631889e+05</td>\n",
       "      <td>46</td>\n",
       "    </tr>\n",
       "    <tr>\n",
       "      <th>2000000</th>\n",
       "      <td>1.064122e+07</td>\n",
       "      <td>2.580567e+05</td>\n",
       "      <td>44</td>\n",
       "    </tr>\n",
       "    <tr>\n",
       "      <th>5000000</th>\n",
       "      <td>2.666441e+07</td>\n",
       "      <td>6.663247e+05</td>\n",
       "      <td>292</td>\n",
       "    </tr>\n",
       "    <tr>\n",
       "      <th rowspan=\"15\" valign=\"top\">planck_function_numba_parallel</th>\n",
       "      <th>100</th>\n",
       "      <td>7.317016e+04</td>\n",
       "      <td>1.902400e+04</td>\n",
       "      <td>1</td>\n",
       "    </tr>\n",
       "    <tr>\n",
       "      <th>200</th>\n",
       "      <td>6.711357e+04</td>\n",
       "      <td>1.593578e+04</td>\n",
       "      <td>1</td>\n",
       "    </tr>\n",
       "    <tr>\n",
       "      <th>500</th>\n",
       "      <td>7.425343e+04</td>\n",
       "      <td>2.423109e+04</td>\n",
       "      <td>1</td>\n",
       "    </tr>\n",
       "    <tr>\n",
       "      <th>1000</th>\n",
       "      <td>8.930822e+04</td>\n",
       "      <td>2.050990e+04</td>\n",
       "      <td>1</td>\n",
       "    </tr>\n",
       "    <tr>\n",
       "      <th>2000</th>\n",
       "      <td>8.876214e+04</td>\n",
       "      <td>2.069703e+04</td>\n",
       "      <td>1</td>\n",
       "    </tr>\n",
       "    <tr>\n",
       "      <th>5000</th>\n",
       "      <td>1.046521e+05</td>\n",
       "      <td>2.392760e+04</td>\n",
       "      <td>1</td>\n",
       "    </tr>\n",
       "    <tr>\n",
       "      <th>10000</th>\n",
       "      <td>1.325283e+05</td>\n",
       "      <td>2.445157e+04</td>\n",
       "      <td>1</td>\n",
       "    </tr>\n",
       "    <tr>\n",
       "      <th>20000</th>\n",
       "      <td>1.674745e+05</td>\n",
       "      <td>2.255586e+04</td>\n",
       "      <td>1</td>\n",
       "    </tr>\n",
       "    <tr>\n",
       "      <th>50000</th>\n",
       "      <td>2.566293e+05</td>\n",
       "      <td>2.929929e+04</td>\n",
       "      <td>1</td>\n",
       "    </tr>\n",
       "    <tr>\n",
       "      <th>100000</th>\n",
       "      <td>3.400356e+05</td>\n",
       "      <td>3.030559e+04</td>\n",
       "      <td>1</td>\n",
       "    </tr>\n",
       "    <tr>\n",
       "      <th>200000</th>\n",
       "      <td>4.310554e+05</td>\n",
       "      <td>3.885567e+04</td>\n",
       "      <td>1</td>\n",
       "    </tr>\n",
       "    <tr>\n",
       "      <th>500000</th>\n",
       "      <td>6.149854e+05</td>\n",
       "      <td>4.882448e+04</td>\n",
       "      <td>2</td>\n",
       "    </tr>\n",
       "    <tr>\n",
       "      <th>1000000</th>\n",
       "      <td>8.949253e+05</td>\n",
       "      <td>4.314836e+04</td>\n",
       "      <td>2</td>\n",
       "    </tr>\n",
       "    <tr>\n",
       "      <th>2000000</th>\n",
       "      <td>1.705872e+06</td>\n",
       "      <td>4.836424e+04</td>\n",
       "      <td>2</td>\n",
       "    </tr>\n",
       "    <tr>\n",
       "      <th>5000000</th>\n",
       "      <td>3.823257e+06</td>\n",
       "      <td>1.387553e+05</td>\n",
       "      <td>13</td>\n",
       "    </tr>\n",
       "  </tbody>\n",
       "</table>\n",
       "</div>"
      ],
      "text/plain": [
       "                                                  mean           std  \\\n",
       "func_name                      freq_bins                               \n",
       "planck_function                100        2.471320e+05  9.686506e+03   \n",
       "                               200        2.494588e+05  1.456359e+04   \n",
       "                               500        2.564389e+05  1.780557e+04   \n",
       "                               1000       2.592392e+05  1.638975e+04   \n",
       "                               2000       2.743622e+05  1.765996e+04   \n",
       "                               5000       3.167204e+05  2.016006e+04   \n",
       "                               10000      3.931668e+05  2.262001e+04   \n",
       "                               20000      5.472897e+05  2.724963e+04   \n",
       "                               50000      9.850875e+05  4.116249e+04   \n",
       "                               100000     1.728987e+06  4.844795e+04   \n",
       "                               200000     3.658736e+06  1.713705e+05   \n",
       "                               500000     7.957951e+06  6.934710e+05   \n",
       "                               1000000    1.572814e+07  3.238415e+05   \n",
       "                               2000000    3.290279e+07  7.761234e+05   \n",
       "                               5000000    1.057767e+08  1.506571e+06   \n",
       "planck_function_numba          100        6.674980e+03  1.465108e+03   \n",
       "                               200        7.437510e+03  1.590646e+03   \n",
       "                               500        1.073335e+04  2.032528e+03   \n",
       "                               1000       1.522500e+04  1.542598e+03   \n",
       "                               2000       1.953343e+04  3.984755e+03   \n",
       "                               5000       3.349133e+04  7.185394e+03   \n",
       "                               10000      5.349112e+04  2.582373e+03   \n",
       "                               20000      9.964863e+04  7.241157e+03   \n",
       "                               50000      2.250569e+05  2.732943e+04   \n",
       "                               100000     4.249463e+05  4.488272e+04   \n",
       "                               200000     8.196712e+05  7.709122e+04   \n",
       "                               500000     1.906142e+06  1.658166e+05   \n",
       "                               1000000    3.724601e+06  2.631889e+05   \n",
       "                               2000000    1.064122e+07  2.580567e+05   \n",
       "                               5000000    2.666441e+07  6.663247e+05   \n",
       "planck_function_numba_parallel 100        7.317016e+04  1.902400e+04   \n",
       "                               200        6.711357e+04  1.593578e+04   \n",
       "                               500        7.425343e+04  2.423109e+04   \n",
       "                               1000       8.930822e+04  2.050990e+04   \n",
       "                               2000       8.876214e+04  2.069703e+04   \n",
       "                               5000       1.046521e+05  2.392760e+04   \n",
       "                               10000      1.325283e+05  2.445157e+04   \n",
       "                               20000      1.674745e+05  2.255586e+04   \n",
       "                               50000      2.566293e+05  2.929929e+04   \n",
       "                               100000     3.400356e+05  3.030559e+04   \n",
       "                               200000     4.310554e+05  3.885567e+04   \n",
       "                               500000     6.149854e+05  4.882448e+04   \n",
       "                               1000000    8.949253e+05  4.314836e+04   \n",
       "                               2000000    1.705872e+06  4.836424e+04   \n",
       "                               5000000    3.823257e+06  1.387553e+05   \n",
       "\n",
       "                                          N_montecarlo  \n",
       "func_name                      freq_bins                \n",
       "planck_function                100                   1  \n",
       "                               200                   1  \n",
       "                               500                   1  \n",
       "                               1000                  1  \n",
       "                               2000                  1  \n",
       "                               5000                  1  \n",
       "                               10000                 1  \n",
       "                               20000                 1  \n",
       "                               50000                 2  \n",
       "                               100000                2  \n",
       "                               200000               20  \n",
       "                               500000              316  \n",
       "                               1000000              69  \n",
       "                               2000000             396  \n",
       "                               5000000            1492  \n",
       "planck_function_numba          100                   1  \n",
       "                               200                   1  \n",
       "                               500                   1  \n",
       "                               1000                  1  \n",
       "                               2000                  1  \n",
       "                               5000                  1  \n",
       "                               10000                 1  \n",
       "                               20000                 1  \n",
       "                               50000                 1  \n",
       "                               100000                2  \n",
       "                               200000                4  \n",
       "                               500000               19  \n",
       "                               1000000              46  \n",
       "                               2000000              44  \n",
       "                               5000000             292  \n",
       "planck_function_numba_parallel 100                   1  \n",
       "                               200                   1  \n",
       "                               500                   1  \n",
       "                               1000                  1  \n",
       "                               2000                  1  \n",
       "                               5000                  1  \n",
       "                               10000                 1  \n",
       "                               20000                 1  \n",
       "                               50000                 1  \n",
       "                               100000                1  \n",
       "                               200000                1  \n",
       "                               500000                2  \n",
       "                               1000000               2  \n",
       "                               2000000               2  \n",
       "                               5000000              13  "
      ]
     },
     "execution_count": 14,
     "metadata": {},
     "output_type": "execute_result"
    }
   ],
   "source": [
    "for tup in time_data_estimators.itertuples():\n",
    "    func_name = tup.Index[0]\n",
    "    freq = tup.Index[1]\n",
    "    func = funcdict[func_name]\n",
    "    plural = \"s\" if tup.N_montecarlo > 1 else \"\"\n",
    "    tqdm.tqdm.write(\n",
    "        f\"Running {tup.N_montecarlo} iteration{plural} of {func_name} with {freq} frequency bins...\"\n",
    "    )\n",
    "    for n in tqdm.trange(tup.N_montecarlo):\n",
    "        tempdf = time_trial(\n",
    "            func,\n",
    "            func_name,\n",
    "            freq,\n",
    "        )\n",
    "        raw_time_data = pd.concat(\n",
    "            [\n",
    "                raw_time_data,\n",
    "                tempdf,\n",
    "            ],\n",
    "            ignore_index=True,\n",
    "        )\n",
    "\n",
    "time_data_estimators[\"mean\"] = raw_time_data.groupby(\n",
    "    [\n",
    "        \"func_name\",\n",
    "        \"freq_bins\",\n",
    "    ]\n",
    ").mean()\n",
    "time_data_estimators[\"std\"] = raw_time_data.groupby(\n",
    "    [\n",
    "        \"func_name\",\n",
    "        \"freq_bins\",\n",
    "    ]\n",
    ").std()\n",
    "\n",
    "time_data_estimators[\"N_montecarlo\"] = pd.to_numeric(\n",
    "    ((time_data_estimators[\"std\"] * z / error_tolerance) ** 2)\n",
    "    .apply(lambda x: np.minimum(x, Nmax))\n",
    "    .apply(np.ceil),\n",
    "    downcast=\"integer\",\n",
    ").rename(\"N_iterations\")\n",
    "\n",
    "time_data_estimators"
   ]
  },
  {
   "cell_type": "code",
   "execution_count": 15,
   "id": "54bea127",
   "metadata": {},
   "outputs": [
    {
     "data": {
      "image/png": "[encoded data removed]",
      "text/plain": [
       "<Figure size 640x480 with 1 Axes>"
      ]
     },
     "metadata": {},
     "output_type": "display_data"
    }
   ],
   "source": [
    "markers = (\n",
    "    \"o\",\n",
    "    \"s\",\n",
    "    \"^\",\n",
    ")\n",
    "# Different markers to be color-blind friendly\n",
    "\n",
    "for f, marker in zip(function_names, markers):\n",
    "    plt.loglog(\n",
    "        time_data_estimators.loc[f][\"mean\"],\n",
    "        marker=marker,\n",
    "        label=f,\n",
    "    )\n",
    "    # Semilog because of the range of values for freq_bin\n",
    "plt.title(\"Average Execution Times For JIT and non-JIT Implementations\")\n",
    "plt.legend()\n",
    "plt.grid()\n",
    "plt.xlabel(\"Frequency Bins\")\n",
    "plt.ylabel(\"Average Elapsed Time (s)\")\n",
    "plt.tight_layout()\n",
    "plt.show()\n",
    "# This plot is done in matplotlib because that's what's already used here\n",
    "# and what's available currently installed. I could have done something\n",
    "# more elaborate, but I didn't want to mess with the virtual environment."
   ]
  },
  {
   "cell_type": "markdown",
   "id": "a86c4cb6",
   "metadata": {},
   "source": [
    "We can clearly see where the o"
   ]
  }
 ],
 "metadata": {
  "celltoolbar": "Raw Cell Format",
  "kernelspec": {
   "display_name": "Python 3 (ipykernel)",
   "language": "python",
   "name": "python3"
  },
  "language_info": {
   "codemirror_mode": {
    "name": "ipython",
    "version": 3
   },
   "file_extension": ".py",
   "mimetype": "text/x-python",
   "name": "python",
   "nbconvert_exporter": "python",
   "pygments_lexer": "ipython3",
   "version": "3.8.16"
  }
 },
 "nbformat": 4,
 "nbformat_minor": 5
}
