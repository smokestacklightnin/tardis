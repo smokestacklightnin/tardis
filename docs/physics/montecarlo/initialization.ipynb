{
 "cells": [
  {
   "cell_type": "markdown",
   "id": "6c0dbe0a",
   "metadata": {},
   "source": [
    "# Energy Packet Initialization\n",
    "\n",
    "## Theory\n",
    "\n",
    "While it is instructive to think about tracking the propagation history of\n",
    "individual photons when illustrating the basic idea behind Monte Carlo radiative transfer\n",
    "techniques, there are important numerical reasons for using a different\n",
    "discretization scheme. Instead of thinking in the photon picture, it brings\n",
    "significant advantages to follow the idea of <strong data-cite=\"Abbott1985\">[]</strong> and\n",
    "<strong data-cite=\"Lucy1999\">[]</strong> and consider parcels of radiant energy as the fundamental\n",
    "building blocks of the Monte Carlo calculation. These basic Monte Carlo quanta\n",
    "are commonly referred to as \"energy packets\" or simply \"packets\", and are composed of many photons with the same frequency.\n",
    "\n",
    "During a Monte Carlo calculation, $N$ (a large number) packets, all with a certain\n",
    "energy $\\varepsilon$, are created at the inner boundary of the computational domain (which is discussed in the [model section](../setup/model.rst)) known as the photosphere. Currently, the photosphere is modeled as a spherical [blackbody](https://en.wikipedia.org/wiki/Black-body_radiation) with a radius $r_\\mathrm{boundary\\_inner}$ and temperature $T_\\mathrm{inner}$. Both of these quantities are calculated as a part of the [model](../setup/model.ipynb), and $T_\\mathrm{inner}$ is additionally updated throughout the simulation as a part of the [Updating Plasma and Convergence](../update_and_conv/update_and_conv.ipynb) process.\n",
    "\n",
    "In TARDIS, all packets are assigned identical energies **in the lab frame** (see [Reference Frames](propagation.rst#reference-frames)), and the total (lab-frame) energy of the packets is 1 erg (and thus each packet has an energy of $\\frac{1}{N}$ ergs).\n",
    "\n",
    "<div class=\"alert alert-info\">\n",
    "    \n",
    "Note\n",
    "\n",
    "The indivisible energy packet scheme does not require that all packets have the same energy. This is just a convenient and simple choice adopted in TARDIS.\n",
    "\n",
    "</div>\n",
    "\n",
    "<div class=\"alert alert-info\">\n",
    "    \n",
    "Note\n",
    "\n",
    "Since all packets have the same total, and photon energy is proportional to frequency, higher-frequency packets will represent less real photons than lower-frequency packets.\n",
    "\n",
    "</div>\n",
    "\n",
    "Since the photosphere is modeled as a blackbody, its total luminosity $L_\\mathrm{inner}$ (recall that luminosity is energy emitted divided by the time in which it is emitted) is\n",
    "$$L_\\mathrm{inner}=\\frac{N\\varepsilon}{\\Delta t}=4 \\pi r_\\mathrm{boundary\\_inner}^2 \\sigma_{\\mathrm{R}} T_{\\mathrm{inner}}^4$$\n",
    "where $\\sigma_\\mathrm{R}$ is the Stefan-Boltzmann constant and $\\Delta t$ is the physical duration of the simulation. In order to make this relationship hold (remembering that $N\\varepsilon = 1$ erg), we use\n",
    "$$\\Delta t = \\frac{1}{L_\\mathrm{inner}}=\\frac{1}{4 \\pi r_\\mathrm{boundary\\_inner}^2 \\sigma_{\\mathrm{R}} T_{\\mathrm{inner}}^4}.$$\n",
    "\n",
    "<div class=\"alert alert-info\">\n",
    "    \n",
    "Note\n",
    "\n",
    "As will be shown in the code example, this will lead to unphysically small values for $\\Delta t$. It may be easier to think of the Monte Carlo packets not as packets of energy $\\epsilon$ going through a simulation of duration $\\Delta t$, but as packets of luminosity that carry an energy $\\epsilon$ over a time $\\Delta t$ (and thus truly being luminosity packets of luminosity $\\frac{\\epsilon}{\\Delta t}$). Indeed, this view of the packets will be useful when deriving the [Monte Carlo Estimators](estimators.rst).\n",
    "\n",
    "</div>\n",
    "\n",
    "During packet initialization, each packet is assigned an initial propagation direction $\\mu$ which is the cosine of the angle $\\theta$ which the packet's path makes with the radial direction (see the image below). Using a pseudo-random number generator which generates numbers $z$ uniformly distributed on the interval $[0,1]$, the propagation direction is determined (due to physical considerations beyond the scope of this documentation) according to\n",
    "$$\\mu = \\sqrt{z}.$$\n",
    "This sampling is shown in the \"Code Example\" section.\n",
    "\n",
    "<img src=\"../images/propagation_direction.png\" width=500>\n",
    "\n",
    "Finally, each packet is assigned an initial frequency (or more precisely, the initial frequency of its constituent photons). Note that since each packet has the same energy, each packet will represent a different number of real photons. The sampling on packet frequencies is more involved than that of the propagation direction, as it involves sampling the Planck distribution (see below). TARDIS uses the technique described in <strong data-cite=\"Carter1975\">[]</strong> and summarized in <strong data-cite=\"Bjorkman2001\">[]</strong> for this purpose.\n",
    "\n",
    "During the simulation, the energy of the packet remains constant in the local\n",
    "co-moving frame (see [Reference Frames](propagation.rst#reference-frames)). This naturally ensures energy\n",
    "conservation and constitutes the main advantage of this discretization scheme. **However, while the energy of the packets is conserved in the co-moving frame, the co-moving frequency of the packet (and thus the photons represented by the packet) may vary over the course of the simulation. Thus, a packet may represent several different numbers of real photons throughout their lifetimes.**\n",
    "\n",
    "## Code Example\n",
    "\n",
    "We now demonstrate the TARDIS packet initialization framework:"
   ]
  },
  {
   "cell_type": "code",
   "execution_count": 1,
   "id": "426325e5",
   "metadata": {},
   "outputs": [
    {
     "data": {
      "application/vnd.jupyter.widget-view+json": {
       "model_id": "",
       "version_major": 2,
       "version_minor": 0
      },
      "text/plain": [
       "Iterations:          0/? [00:00<?, ?it/s]"
      ]
     },
     "metadata": {},
     "output_type": "display_data"
    },
    {
     "data": {
      "application/vnd.jupyter.widget-view+json": {
       "model_id": "",
       "version_major": 2,
       "version_minor": 0
      },
      "text/plain": [
       "Packets:             0/? [00:00<?, ?it/s]"
      ]
     },
     "metadata": {},
     "output_type": "display_data"
    }
   ],
   "source": [
    "import numpy as np\n",
    "from tardis.montecarlo.packet_source import BlackBodySimpleSource\n",
    "from astropy import units as u\n",
    "from tardis import constants as const\n",
    "import matplotlib.pyplot as plt\n",
    "import numba\n",
    "import time\n",
    "import pandas as pd\n",
    "import itertools\n",
    "import tqdm.auto as tqdm\n",
    "import scipy.stats as stats\n",
    "\n",
    "\n",
    "# The random number generator that will be used\n",
    "rng = np.random.default_rng()"
   ]
  },
  {
   "cell_type": "markdown",
   "id": "4ae02998",
   "metadata": {},
   "source": [
    "The following cell contains values that you can change to see how it affects the spectrum (in an actual simulation, the seed and number of packets are set in the [Monte Carlo configuration](../../io/configuration/components/montecarlo.rst), and the photospheric radius is calculated as a part of the [model](../setup/model.ipynb)):"
   ]
  },
  {
   "cell_type": "code",
   "execution_count": 2,
   "id": "bc34bf33",
   "metadata": {},
   "outputs": [],
   "source": [
    "# Seed for the pseudo-random number generator\n",
    "seed = 1\n",
    "\n",
    "# Number of packets generated\n",
    "n_packets = 40000\n",
    "\n",
    "# Radius of the supernova's photosphere in cm\n",
    "r_boundary_inner = 1e15 * u.cm"
   ]
  },
  {
   "cell_type": "markdown",
   "id": "450faf76",
   "metadata": {},
   "source": [
    "We set the temperature of the photosphere $T_\\mathrm{inner}$, which will determine the photospheric luminosity (in an actual simulation, $T_\\mathrm{inner}$ is initially calculated as a part of the [model](../setup/model.ipynb) and updated as a part of the [Updating Plasma and Convergence](../update_and_conv/update_and_conv.ipynb) process):"
   ]
  },
  {
   "cell_type": "code",
   "execution_count": 3,
   "id": "3fb3ca8c",
   "metadata": {},
   "outputs": [
    {
     "name": "stdout",
     "output_type": "stream",
     "text": [
      "Luminosity of photosphere: 7.125600863965567e+42 erg / s\n"
     ]
    }
   ],
   "source": [
    "# Temperature in K\n",
    "temperature_inner = 10000 * u.K\n",
    "\n",
    "luminosity_inner = (\n",
    "    4\n",
    "    * np.pi\n",
    "    * (r_boundary_inner**2)\n",
    "    * const.sigma_sb\n",
    "    * (temperature_inner**4)\n",
    ")\n",
    "\n",
    "# Makes sure the luminosity is given in erg/s\n",
    "luminosity_inner = luminosity_inner.to(\"erg/s\")\n",
    "\n",
    "print(\n",
    "    \"Luminosity of photosphere:\",\n",
    "    luminosity_inner,\n",
    ")"
   ]
  },
  {
   "cell_type": "markdown",
   "id": "516633c5",
   "metadata": {},
   "source": [
    "We now generate the ensemble of packets. The array of packet energies and radii are also shown."
   ]
  },
  {
   "cell_type": "code",
   "execution_count": 4,
   "id": "925e9e1b",
   "metadata": {},
   "outputs": [
    {
     "name": "stdout",
     "output_type": "stream",
     "text": [
      "Energies: [2.5e-05 2.5e-05 2.5e-05 ... 2.5e-05 2.5e-05 2.5e-05] erg\n",
      "Radii: [1.e+15 1.e+15 1.e+15 ... 1.e+15 1.e+15 1.e+15] cm\n"
     ]
    }
   ],
   "source": [
    "# We define our packet source\n",
    "packet_source = BlackBodySimpleSource(seed)\n",
    "\n",
    "radii, nus, mus, energies = packet_source.create_packets(\n",
    "    temperature_inner.value,\n",
    "    n_packets,\n",
    "    rng,\n",
    "    r_boundary_inner,\n",
    ")\n",
    "\n",
    "# Sets the energies in units of ergs\n",
    "energies *= u.erg\n",
    "\n",
    "# Sets the frequencies in units of Hz\n",
    "nus *= u.Hz\n",
    "\n",
    "print(\n",
    "    \"Energies:\",\n",
    "    energies,\n",
    ")\n",
    "print(\n",
    "    \"Radii:\",\n",
    "    radii,\n",
    ")"
   ]
  },
  {
   "cell_type": "markdown",
   "id": "16936bce",
   "metadata": {},
   "source": [
    "We set the timespan of the simulation so that each packet contributes the appropriate luminosity to the spectrum."
   ]
  },
  {
   "cell_type": "code",
   "execution_count": 5,
   "id": "fed35f47",
   "metadata": {},
   "outputs": [
    {
     "name": "stdout",
     "output_type": "stream",
     "text": [
      "Time of simulation: 1.4033904215110305e-43 s\n",
      "Luminosity per packet: [1.78140022e+38 1.78140022e+38 1.78140022e+38 ... 1.78140022e+38\n",
      " 1.78140022e+38 1.78140022e+38] erg / s\n"
     ]
    }
   ],
   "source": [
    "# Time of simulation\n",
    "t_simulation = 1 * u.erg / luminosity_inner\n",
    "print(\n",
    "    \"Time of simulation:\",\n",
    "    t_simulation,\n",
    ")\n",
    "\n",
    "# Array of luminosity contribution by each packet\n",
    "lumin_per_packet = energies / t_simulation\n",
    "print(\n",
    "    \"Luminosity per packet:\",\n",
    "    lumin_per_packet,\n",
    ")"
   ]
  },
  {
   "cell_type": "markdown",
   "id": "0d839222",
   "metadata": {},
   "source": [
    "We define important constants, and for comparison's sake, we code the Planck distribution function\n",
    "$$L_\\nu (\\nu)=\\frac{8\\pi r_\\mathrm{boundary\\_inner}^2 h\\nu^3}{c^2}\\frac{1}{\\exp\\left(\\frac{h\\nu}{k_BT_\\mathrm{inner}}\\right)-1}$$\n",
    "where $L_\\nu$ is the luminosity density (see [Basic Spectrum Generation](../spectrum/basic.ipynb)) with respect to frequency, $\\nu$ is frequency, $h$ is Planck's constant, $c$ is the speed of light, and $k_B$ is Boltzmann's constant:"
   ]
  },
  {
   "cell_type": "code",
   "execution_count": 6,
   "id": "916a5e22",
   "metadata": {
    "scrolled": false
   },
   "outputs": [],
   "source": [
    "h = const.h.cgs\n",
    "c2 = const.c.cgs**2\n",
    "kB = const.k_B.cgs\n",
    "\n",
    "\n",
    "def planck_function(nu):\n",
    "    return (\n",
    "        8\n",
    "        * np.pi**2\n",
    "        * r_boundary_inner**2\n",
    "        * h\n",
    "        * nu**3\n",
    "        / (c2 * (np.exp(h * nu / (kB * temperature_inner)) - 1))\n",
    "    )"
   ]
  },
  {
   "cell_type": "markdown",
   "id": "78230177",
   "metadata": {},
   "source": [
    "We plot the Planck distribution and a histogram of the generated packet distribution:"
   ]
  },
  {
   "cell_type": "code",
   "execution_count": 7,
   "id": "913fcdbb",
   "metadata": {},
   "outputs": [
    {
     "data": {
      "image/png": "[encoded data removed]",
      "text/plain": [
       "<Figure size 640x480 with 1 Axes>"
      ]
     },
     "metadata": {},
     "output_type": "display_data"
    }
   ],
   "source": [
    "# We set important quantites for making our histogram\n",
    "bins = 200\n",
    "nus_planck = np.linspace(\n",
    "    min(nus),\n",
    "    max(nus),\n",
    "    bins,\n",
    ")\n",
    "bin_width = nus_planck[1] - nus_planck[0]\n",
    "\n",
    "# In the histogram plot below, the weights argument is used\n",
    "# to make sure our plotted spectrum has the correct y-axis scale\n",
    "plt.hist(\n",
    "    nus.value,\n",
    "    bins=bins,\n",
    "    weights=lumin_per_packet / bin_width,\n",
    ")\n",
    "\n",
    "# We plot the planck function for comparison\n",
    "# plt.plot(nus_planck, planck_function(nus_planck))\n",
    "plt.plot(\n",
    "    nus_planck,\n",
    "    planck_function(nus_planck),\n",
    ")\n",
    "\n",
    "plt.xlabel(\"Frequency (Hz)\")\n",
    "plt.ylabel(\"Luminosity density w.r.t. frequency (erg/s/Hz)\")\n",
    "plt.show()"
   ]
  },
  {
   "cell_type": "markdown",
   "id": "ad4f0f0e",
   "metadata": {},
   "source": [
    "We finally plot the generated $\\mu$ density distribution, followed by the generated $\\theta=\\arccos (\\mu)$ density distribution, compared with the respective curves $\\rho = 2\\mu$ and $\\rho = \\sin(2\\theta)$:"
   ]
  },
  {
   "cell_type": "code",
   "execution_count": 8,
   "id": "ae4c97de",
   "metadata": {},
   "outputs": [
    {
     "data": {
      "image/png": "[encoded data removed]",
      "text/plain": [
       "<Figure size 640x480 with 1 Axes>"
      ]
     },
     "metadata": {},
     "output_type": "display_data"
    }
   ],
   "source": [
    "x = np.linspace(0, 1, 1000)\n",
    "\n",
    "plt.hist(\n",
    "    mus,\n",
    "    bins=bins,\n",
    "    density=True,\n",
    ")\n",
    "plt.plot(\n",
    "    x,\n",
    "    2 * x,\n",
    ")\n",
    "plt.xlabel(\"Propagation direction\")\n",
    "plt.ylabel(\"Probability density\")\n",
    "plt.show()"
   ]
  },
  {
   "cell_type": "code",
   "execution_count": 9,
   "id": "41daa433",
   "metadata": {},
   "outputs": [
    {
     "data": {
      "image/png": "[encoded data removed]",
      "text/plain": [
       "<Figure size 640x480 with 1 Axes>"
      ]
     },
     "metadata": {},
     "output_type": "display_data"
    }
   ],
   "source": [
    "thetas = np.linspace(\n",
    "    0,\n",
    "    np.pi / 2,\n",
    "    1000,\n",
    ")\n",
    "\n",
    "plt.hist(\n",
    "    np.arccos(mus),\n",
    "    bins=bins,\n",
    "    density=True,\n",
    ")\n",
    "plt.plot(\n",
    "    thetas,\n",
    "    np.sin(2 * thetas),\n",
    ")\n",
    "plt.xlabel(\"Angle with normal (rad)\")\n",
    "plt.ylabel(\"Probability density\")\n",
    "plt.show()"
   ]
  },
  {
   "cell_type": "markdown",
   "id": "2f661592",
   "metadata": {},
   "source": [
    "## Custom Packet Source\n",
    "\n",
    "TARDIS allows for the user to input a custom function that generates energy packets instead of the basic blackbody source described here. See [Running TARDIS with a Custom Packet Source](../../io/optional/custom_source.ipynb) for more information."
   ]
  },
  {
   "cell_type": "markdown",
   "id": "efc2b03c",
   "metadata": {},
   "source": [
    "## Numba Implementation of Planck Function\n",
    "\n",
    "Below are parallelized and non-parallelized Numba implementations of the ```planck_function()``` above. There are some plots of average execution times for comparison with impementations that don't use Numba."
   ]
  },
  {
   "cell_type": "code",
   "execution_count": 10,
   "id": "eba811ec",
   "metadata": {},
   "outputs": [],
   "source": [
    "@numba.njit()\n",
    "def planck_function_numba(nu):\n",
    "    return (\n",
    "        8\n",
    "        * np.pi**2\n",
    "        * r_boundary_inner**2\n",
    "        * h\n",
    "        * nu**3\n",
    "        / (c2 * (np.exp(h * nu / (kB * temperature_inner)) - 1))\n",
    "    )\n",
    "\n",
    "\n",
    "@numba.njit(parallel=True)\n",
    "def planck_function_numba_parallel(nu):\n",
    "    return (\n",
    "        8\n",
    "        * np.pi**2\n",
    "        * r_boundary_inner**2\n",
    "        * h\n",
    "        * nu**3\n",
    "        / (c2 * (np.exp(h * nu / (kB * temperature_inner)) - 1))\n",
    "    )\n",
    "\n",
    "\n",
    "_ = planck_function_numba(nus_planck)  # Force Numba compilation\n",
    "_ = planck_function_numba_parallel(nus_planck)  # Force Numba compilation"
   ]
  },
  {
   "cell_type": "code",
   "execution_count": 11,
   "id": "e4793fd0",
   "metadata": {
    "scrolled": true
   },
   "outputs": [
    {
     "data": {
      "application/vnd.jupyter.widget-view+json": {
       "model_id": "e2d7d928cb404f078bcbfd65bb2f328b",
       "version_major": 2,
       "version_minor": 0
      },
      "text/plain": [
       "  0%|          | 0/225 [00:00<?, ?it/s]"
      ]
     },
     "metadata": {},
     "output_type": "display_data"
    },
    {
     "data": {
      "text/html": [
       "<div>\n",
       "<style scoped>\n",
       "    .dataframe tbody tr th:only-of-type {\n",
       "        vertical-align: middle;\n",
       "    }\n",
       "\n",
       "    .dataframe tbody tr th {\n",
       "        vertical-align: top;\n",
       "    }\n",
       "\n",
       "    .dataframe thead th {\n",
       "        text-align: right;\n",
       "    }\n",
       "</style>\n",
       "<table border=\"1\" class=\"dataframe\">\n",
       "  <thead>\n",
       "    <tr style=\"text-align: right;\">\n",
       "      <th></th>\n",
       "      <th>func_name</th>\n",
       "      <th>freq_bins</th>\n",
       "      <th>time</th>\n",
       "    </tr>\n",
       "  </thead>\n",
       "  <tbody>\n",
       "    <tr>\n",
       "      <th>0</th>\n",
       "      <td>planck_function</td>\n",
       "      <td>100</td>\n",
       "      <td>0.000239</td>\n",
       "    </tr>\n",
       "    <tr>\n",
       "      <th>1</th>\n",
       "      <td>planck_function</td>\n",
       "      <td>100</td>\n",
       "      <td>0.000235</td>\n",
       "    </tr>\n",
       "    <tr>\n",
       "      <th>2</th>\n",
       "      <td>planck_function</td>\n",
       "      <td>100</td>\n",
       "      <td>0.000251</td>\n",
       "    </tr>\n",
       "    <tr>\n",
       "      <th>3</th>\n",
       "      <td>planck_function</td>\n",
       "      <td>100</td>\n",
       "      <td>0.000241</td>\n",
       "    </tr>\n",
       "    <tr>\n",
       "      <th>4</th>\n",
       "      <td>planck_function</td>\n",
       "      <td>100</td>\n",
       "      <td>0.000239</td>\n",
       "    </tr>\n",
       "    <tr>\n",
       "      <th>...</th>\n",
       "      <td>...</td>\n",
       "      <td>...</td>\n",
       "      <td>...</td>\n",
       "    </tr>\n",
       "    <tr>\n",
       "      <th>220</th>\n",
       "      <td>planck_function_numba_parallel</td>\n",
       "      <td>5000000</td>\n",
       "      <td>0.003744</td>\n",
       "    </tr>\n",
       "    <tr>\n",
       "      <th>221</th>\n",
       "      <td>planck_function_numba_parallel</td>\n",
       "      <td>5000000</td>\n",
       "      <td>0.003729</td>\n",
       "    </tr>\n",
       "    <tr>\n",
       "      <th>222</th>\n",
       "      <td>planck_function_numba_parallel</td>\n",
       "      <td>5000000</td>\n",
       "      <td>0.003840</td>\n",
       "    </tr>\n",
       "    <tr>\n",
       "      <th>223</th>\n",
       "      <td>planck_function_numba_parallel</td>\n",
       "      <td>5000000</td>\n",
       "      <td>0.003835</td>\n",
       "    </tr>\n",
       "    <tr>\n",
       "      <th>224</th>\n",
       "      <td>planck_function_numba_parallel</td>\n",
       "      <td>5000000</td>\n",
       "      <td>0.003810</td>\n",
       "    </tr>\n",
       "  </tbody>\n",
       "</table>\n",
       "<p>225 rows × 3 columns</p>\n",
       "</div>"
      ],
      "text/plain": [
       "                          func_name freq_bins      time\n",
       "0                   planck_function       100  0.000239\n",
       "1                   planck_function       100  0.000235\n",
       "2                   planck_function       100  0.000251\n",
       "3                   planck_function       100  0.000241\n",
       "4                   planck_function       100  0.000239\n",
       "..                              ...       ...       ...\n",
       "220  planck_function_numba_parallel   5000000  0.003744\n",
       "221  planck_function_numba_parallel   5000000  0.003729\n",
       "222  planck_function_numba_parallel   5000000  0.003840\n",
       "223  planck_function_numba_parallel   5000000  0.003835\n",
       "224  planck_function_numba_parallel   5000000  0.003810\n",
       "\n",
       "[225 rows x 3 columns]"
      ]
     },
     "execution_count": 11,
     "metadata": {},
     "output_type": "execute_result"
    }
   ],
   "source": [
    "freq_bins = (\n",
    "    100,\n",
    "    200,\n",
    "    500,\n",
    "    1000,\n",
    "    2000,\n",
    "    5000,\n",
    "    10000,\n",
    "    20000,\n",
    "    50000,\n",
    "    100000,\n",
    "    200000,\n",
    "    500000,\n",
    "    1000000,\n",
    "    2000000,\n",
    "    5000000,\n",
    ")\n",
    "# The prompt only asked for 100, 200, and 500, but seeing how performance\n",
    "# grows for more frequency bins can possibly be informative.\n",
    "\n",
    "function_names = (\n",
    "    \"planck_function\",\n",
    "    \"planck_function_numba\",\n",
    "    \"planck_function_numba_parallel\",\n",
    ")\n",
    "\n",
    "functions = (\n",
    "    planck_function,\n",
    "    planck_function_numba,\n",
    "    planck_function_numba_parallel,\n",
    ")\n",
    "\n",
    "funcdict = {\n",
    "    funcname: func for (funcname, func) in zip(function_names, functions)\n",
    "}\n",
    "\n",
    "N_initial = 5\n",
    "\n",
    "raw_time_data_columns = (\"func_name\", \"freq_bins\", \"time\")\n",
    "raw_time_data = pd.DataFrame(columns=raw_time_data_columns)\n",
    "\n",
    "\n",
    "def time_trial(func, func_name, freq):\n",
    "    nus_planck = np.linspace(\n",
    "        min(nus),\n",
    "        max(nus),\n",
    "        freq,\n",
    "    )\n",
    "    start_time = time.perf_counter()\n",
    "    _ = func(nus_planck)\n",
    "    stop_time = time.perf_counter()\n",
    "    tempdf = pd.DataFrame(\n",
    "        [\n",
    "            [\n",
    "                func_name,\n",
    "                freq,\n",
    "                stop_time - start_time,\n",
    "            ],\n",
    "        ],\n",
    "        columns=raw_time_data_columns,\n",
    "    )\n",
    "    return tempdf\n",
    "\n",
    "\n",
    "total_iterations = len(freq_bins) * len(functions) * N_initial\n",
    "\n",
    "for (func, func_name), freq, n in tqdm.tqdm(\n",
    "    itertools.product(\n",
    "        zip(\n",
    "            functions,\n",
    "            function_names,\n",
    "        ),\n",
    "        freq_bins,\n",
    "        range(N_initial),\n",
    "    ),\n",
    "    total=total_iterations,\n",
    "):\n",
    "    tempdf = time_trial(\n",
    "        func,\n",
    "        func_name,\n",
    "        freq,\n",
    "    )\n",
    "    raw_time_data = pd.concat(\n",
    "        [\n",
    "            raw_time_data,\n",
    "            tempdf,\n",
    "        ],\n",
    "        ignore_index=True,\n",
    "    )\n",
    "\n",
    "raw_time_data"
   ]
  },
  {
   "cell_type": "code",
   "execution_count": 33,
   "id": "04878fd6",
   "metadata": {},
   "outputs": [
    {
     "data": {
      "text/html": [
       "<div>\n",
       "<style scoped>\n",
       "    .dataframe tbody tr th:only-of-type {\n",
       "        vertical-align: middle;\n",
       "    }\n",
       "\n",
       "    .dataframe tbody tr th {\n",
       "        vertical-align: top;\n",
       "    }\n",
       "\n",
       "    .dataframe thead th {\n",
       "        text-align: right;\n",
       "    }\n",
       "</style>\n",
       "<table border=\"1\" class=\"dataframe\">\n",
       "  <thead>\n",
       "    <tr style=\"text-align: right;\">\n",
       "      <th></th>\n",
       "      <th></th>\n",
       "      <th>mean</th>\n",
       "      <th>std</th>\n",
       "    </tr>\n",
       "    <tr>\n",
       "      <th>func_name</th>\n",
       "      <th>freq_bins</th>\n",
       "      <th></th>\n",
       "      <th></th>\n",
       "    </tr>\n",
       "  </thead>\n",
       "  <tbody>\n",
       "    <tr>\n",
       "      <th rowspan=\"15\" valign=\"top\">planck_function</th>\n",
       "      <th>100</th>\n",
       "      <td>0.000242</td>\n",
       "      <td>5.491428e-06</td>\n",
       "    </tr>\n",
       "    <tr>\n",
       "      <th>200</th>\n",
       "      <td>0.000257</td>\n",
       "      <td>1.874919e-05</td>\n",
       "    </tr>\n",
       "    <tr>\n",
       "      <th>500</th>\n",
       "      <td>0.000271</td>\n",
       "      <td>2.685351e-05</td>\n",
       "    </tr>\n",
       "    <tr>\n",
       "      <th>1000</th>\n",
       "      <td>0.000274</td>\n",
       "      <td>2.405102e-05</td>\n",
       "    </tr>\n",
       "    <tr>\n",
       "      <th>2000</th>\n",
       "      <td>0.000278</td>\n",
       "      <td>1.372045e-05</td>\n",
       "    </tr>\n",
       "    <tr>\n",
       "      <th>5000</th>\n",
       "      <td>0.000319</td>\n",
       "      <td>2.000753e-05</td>\n",
       "    </tr>\n",
       "    <tr>\n",
       "      <th>10000</th>\n",
       "      <td>0.000400</td>\n",
       "      <td>1.491777e-05</td>\n",
       "    </tr>\n",
       "    <tr>\n",
       "      <th>20000</th>\n",
       "      <td>0.000551</td>\n",
       "      <td>2.584117e-05</td>\n",
       "    </tr>\n",
       "    <tr>\n",
       "      <th>50000</th>\n",
       "      <td>0.001032</td>\n",
       "      <td>5.683444e-05</td>\n",
       "    </tr>\n",
       "    <tr>\n",
       "      <th>100000</th>\n",
       "      <td>0.001822</td>\n",
       "      <td>1.296847e-04</td>\n",
       "    </tr>\n",
       "    <tr>\n",
       "      <th>200000</th>\n",
       "      <td>0.003786</td>\n",
       "      <td>8.855657e-05</td>\n",
       "    </tr>\n",
       "    <tr>\n",
       "      <th>500000</th>\n",
       "      <td>0.008570</td>\n",
       "      <td>5.207980e-04</td>\n",
       "    </tr>\n",
       "    <tr>\n",
       "      <th>1000000</th>\n",
       "      <td>0.016013</td>\n",
       "      <td>4.702409e-04</td>\n",
       "    </tr>\n",
       "    <tr>\n",
       "      <th>2000000</th>\n",
       "      <td>0.033858</td>\n",
       "      <td>9.330140e-04</td>\n",
       "    </tr>\n",
       "    <tr>\n",
       "      <th>5000000</th>\n",
       "      <td>0.108382</td>\n",
       "      <td>5.331738e-04</td>\n",
       "    </tr>\n",
       "    <tr>\n",
       "      <th rowspan=\"15\" valign=\"top\">planck_function_numba</th>\n",
       "      <th>100</th>\n",
       "      <td>0.000009</td>\n",
       "      <td>6.196591e-07</td>\n",
       "    </tr>\n",
       "    <tr>\n",
       "      <th>200</th>\n",
       "      <td>0.000010</td>\n",
       "      <td>4.552747e-07</td>\n",
       "    </tr>\n",
       "    <tr>\n",
       "      <th>500</th>\n",
       "      <td>0.000013</td>\n",
       "      <td>3.773863e-07</td>\n",
       "    </tr>\n",
       "    <tr>\n",
       "      <th>1000</th>\n",
       "      <td>0.000017</td>\n",
       "      <td>3.107270e-07</td>\n",
       "    </tr>\n",
       "    <tr>\n",
       "      <th>2000</th>\n",
       "      <td>0.000022</td>\n",
       "      <td>9.083188e-07</td>\n",
       "    </tr>\n",
       "    <tr>\n",
       "      <th>5000</th>\n",
       "      <td>0.000035</td>\n",
       "      <td>8.463254e-07</td>\n",
       "    </tr>\n",
       "    <tr>\n",
       "      <th>10000</th>\n",
       "      <td>0.000057</td>\n",
       "      <td>1.130247e-06</td>\n",
       "    </tr>\n",
       "    <tr>\n",
       "      <th>20000</th>\n",
       "      <td>0.000106</td>\n",
       "      <td>1.156938e-05</td>\n",
       "    </tr>\n",
       "    <tr>\n",
       "      <th>50000</th>\n",
       "      <td>0.000266</td>\n",
       "      <td>6.254853e-05</td>\n",
       "    </tr>\n",
       "    <tr>\n",
       "      <th>100000</th>\n",
       "      <td>0.000486</td>\n",
       "      <td>1.053995e-04</td>\n",
       "    </tr>\n",
       "    <tr>\n",
       "      <th>200000</th>\n",
       "      <td>0.000926</td>\n",
       "      <td>1.771918e-04</td>\n",
       "    </tr>\n",
       "    <tr>\n",
       "      <th>500000</th>\n",
       "      <td>0.002156</td>\n",
       "      <td>4.215981e-04</td>\n",
       "    </tr>\n",
       "    <tr>\n",
       "      <th>1000000</th>\n",
       "      <td>0.004063</td>\n",
       "      <td>6.621231e-04</td>\n",
       "    </tr>\n",
       "    <tr>\n",
       "      <th>2000000</th>\n",
       "      <td>0.010697</td>\n",
       "      <td>1.962529e-04</td>\n",
       "    </tr>\n",
       "    <tr>\n",
       "      <th>5000000</th>\n",
       "      <td>0.027285</td>\n",
       "      <td>6.811332e-04</td>\n",
       "    </tr>\n",
       "    <tr>\n",
       "      <th rowspan=\"15\" valign=\"top\">planck_function_numba_parallel</th>\n",
       "      <th>100</th>\n",
       "      <td>0.000092</td>\n",
       "      <td>6.951549e-06</td>\n",
       "    </tr>\n",
       "    <tr>\n",
       "      <th>200</th>\n",
       "      <td>0.000105</td>\n",
       "      <td>1.457789e-05</td>\n",
       "    </tr>\n",
       "    <tr>\n",
       "      <th>500</th>\n",
       "      <td>0.000107</td>\n",
       "      <td>1.209729e-05</td>\n",
       "    </tr>\n",
       "    <tr>\n",
       "      <th>1000</th>\n",
       "      <td>0.000114</td>\n",
       "      <td>2.010279e-05</td>\n",
       "    </tr>\n",
       "    <tr>\n",
       "      <th>2000</th>\n",
       "      <td>0.000124</td>\n",
       "      <td>2.229657e-05</td>\n",
       "    </tr>\n",
       "    <tr>\n",
       "      <th>5000</th>\n",
       "      <td>0.000138</td>\n",
       "      <td>1.077926e-05</td>\n",
       "    </tr>\n",
       "    <tr>\n",
       "      <th>10000</th>\n",
       "      <td>0.000149</td>\n",
       "      <td>8.575571e-06</td>\n",
       "    </tr>\n",
       "    <tr>\n",
       "      <th>20000</th>\n",
       "      <td>0.000213</td>\n",
       "      <td>1.861166e-05</td>\n",
       "    </tr>\n",
       "    <tr>\n",
       "      <th>50000</th>\n",
       "      <td>0.000300</td>\n",
       "      <td>3.361897e-05</td>\n",
       "    </tr>\n",
       "    <tr>\n",
       "      <th>100000</th>\n",
       "      <td>0.000382</td>\n",
       "      <td>2.021384e-05</td>\n",
       "    </tr>\n",
       "    <tr>\n",
       "      <th>200000</th>\n",
       "      <td>0.000452</td>\n",
       "      <td>6.944268e-05</td>\n",
       "    </tr>\n",
       "    <tr>\n",
       "      <th>500000</th>\n",
       "      <td>0.000680</td>\n",
       "      <td>7.470014e-05</td>\n",
       "    </tr>\n",
       "    <tr>\n",
       "      <th>1000000</th>\n",
       "      <td>0.000946</td>\n",
       "      <td>1.111496e-04</td>\n",
       "    </tr>\n",
       "    <tr>\n",
       "      <th>2000000</th>\n",
       "      <td>0.001723</td>\n",
       "      <td>6.291702e-05</td>\n",
       "    </tr>\n",
       "    <tr>\n",
       "      <th>5000000</th>\n",
       "      <td>0.003811</td>\n",
       "      <td>6.678451e-05</td>\n",
       "    </tr>\n",
       "  </tbody>\n",
       "</table>\n",
       "</div>"
      ],
      "text/plain": [
       "                                              mean           std\n",
       "func_name                      freq_bins                        \n",
       "planck_function                100        0.000242  5.491428e-06\n",
       "                               200        0.000257  1.874919e-05\n",
       "                               500        0.000271  2.685351e-05\n",
       "                               1000       0.000274  2.405102e-05\n",
       "                               2000       0.000278  1.372045e-05\n",
       "                               5000       0.000319  2.000753e-05\n",
       "                               10000      0.000400  1.491777e-05\n",
       "                               20000      0.000551  2.584117e-05\n",
       "                               50000      0.001032  5.683444e-05\n",
       "                               100000     0.001822  1.296847e-04\n",
       "                               200000     0.003786  8.855657e-05\n",
       "                               500000     0.008570  5.207980e-04\n",
       "                               1000000    0.016013  4.702409e-04\n",
       "                               2000000    0.033858  9.330140e-04\n",
       "                               5000000    0.108382  5.331738e-04\n",
       "planck_function_numba          100        0.000009  6.196591e-07\n",
       "                               200        0.000010  4.552747e-07\n",
       "                               500        0.000013  3.773863e-07\n",
       "                               1000       0.000017  3.107270e-07\n",
       "                               2000       0.000022  9.083188e-07\n",
       "                               5000       0.000035  8.463254e-07\n",
       "                               10000      0.000057  1.130247e-06\n",
       "                               20000      0.000106  1.156938e-05\n",
       "                               50000      0.000266  6.254853e-05\n",
       "                               100000     0.000486  1.053995e-04\n",
       "                               200000     0.000926  1.771918e-04\n",
       "                               500000     0.002156  4.215981e-04\n",
       "                               1000000    0.004063  6.621231e-04\n",
       "                               2000000    0.010697  1.962529e-04\n",
       "                               5000000    0.027285  6.811332e-04\n",
       "planck_function_numba_parallel 100        0.000092  6.951549e-06\n",
       "                               200        0.000105  1.457789e-05\n",
       "                               500        0.000107  1.209729e-05\n",
       "                               1000       0.000114  2.010279e-05\n",
       "                               2000       0.000124  2.229657e-05\n",
       "                               5000       0.000138  1.077926e-05\n",
       "                               10000      0.000149  8.575571e-06\n",
       "                               20000      0.000213  1.861166e-05\n",
       "                               50000      0.000300  3.361897e-05\n",
       "                               100000     0.000382  2.021384e-05\n",
       "                               200000     0.000452  6.944268e-05\n",
       "                               500000     0.000680  7.470014e-05\n",
       "                               1000000    0.000946  1.111496e-04\n",
       "                               2000000    0.001723  6.291702e-05\n",
       "                               5000000    0.003811  6.678451e-05"
      ]
     },
     "execution_count": 33,
     "metadata": {},
     "output_type": "execute_result"
    }
   ],
   "source": [
    "time_data_estimators = pd.concat(\n",
    "    [\n",
    "        raw_time_data.groupby(\n",
    "            [\n",
    "                \"func_name\",\n",
    "                \"freq_bins\",\n",
    "            ]\n",
    "        )\n",
    "        .mean()\n",
    "        .rename(columns={\"time\": \"mean\"}),\n",
    "        raw_time_data.groupby(\n",
    "            [\n",
    "                \"func_name\",\n",
    "                \"freq_bins\",\n",
    "            ]\n",
    "        )\n",
    "        .std()\n",
    "        .rename(columns={\"time\": \"std\"}),\n",
    "    ],\n",
    "    axis=1,\n",
    ")\n",
    "\n",
    "time_data_estimators"
   ]
  },
  {
   "cell_type": "code",
   "execution_count": 59,
   "id": "6e3afccf",
   "metadata": {},
   "outputs": [
    {
     "data": {
      "text/html": [
       "<div>\n",
       "<style scoped>\n",
       "    .dataframe tbody tr th:only-of-type {\n",
       "        vertical-align: middle;\n",
       "    }\n",
       "\n",
       "    .dataframe tbody tr th {\n",
       "        vertical-align: top;\n",
       "    }\n",
       "\n",
       "    .dataframe thead th {\n",
       "        text-align: right;\n",
       "    }\n",
       "</style>\n",
       "<table border=\"1\" class=\"dataframe\">\n",
       "  <thead>\n",
       "    <tr style=\"text-align: right;\">\n",
       "      <th></th>\n",
       "      <th></th>\n",
       "      <th>mean</th>\n",
       "      <th>std</th>\n",
       "      <th>N_montecarlo</th>\n",
       "    </tr>\n",
       "    <tr>\n",
       "      <th>func_name</th>\n",
       "      <th>freq_bins</th>\n",
       "      <th></th>\n",
       "      <th></th>\n",
       "      <th></th>\n",
       "    </tr>\n",
       "  </thead>\n",
       "  <tbody>\n",
       "    <tr>\n",
       "      <th rowspan=\"15\" valign=\"top\">planck_function</th>\n",
       "      <th>100</th>\n",
       "      <td>0.000248</td>\n",
       "      <td>1.361631e-05</td>\n",
       "      <td>1</td>\n",
       "    </tr>\n",
       "    <tr>\n",
       "      <th>200</th>\n",
       "      <td>0.000260</td>\n",
       "      <td>2.446488e-05</td>\n",
       "      <td>1</td>\n",
       "    </tr>\n",
       "    <tr>\n",
       "      <th>500</th>\n",
       "      <td>0.000263</td>\n",
       "      <td>2.313184e-05</td>\n",
       "      <td>1</td>\n",
       "    </tr>\n",
       "    <tr>\n",
       "      <th>1000</th>\n",
       "      <td>0.000267</td>\n",
       "      <td>2.087363e-05</td>\n",
       "      <td>1</td>\n",
       "    </tr>\n",
       "    <tr>\n",
       "      <th>2000</th>\n",
       "      <td>0.000279</td>\n",
       "      <td>1.441761e-05</td>\n",
       "      <td>1</td>\n",
       "    </tr>\n",
       "    <tr>\n",
       "      <th>5000</th>\n",
       "      <td>0.000316</td>\n",
       "      <td>1.649778e-05</td>\n",
       "      <td>1</td>\n",
       "    </tr>\n",
       "    <tr>\n",
       "      <th>10000</th>\n",
       "      <td>0.000398</td>\n",
       "      <td>1.432435e-05</td>\n",
       "      <td>1</td>\n",
       "    </tr>\n",
       "    <tr>\n",
       "      <th>20000</th>\n",
       "      <td>0.000547</td>\n",
       "      <td>2.574386e-05</td>\n",
       "      <td>1</td>\n",
       "    </tr>\n",
       "    <tr>\n",
       "      <th>50000</th>\n",
       "      <td>0.001028</td>\n",
       "      <td>4.734910e-05</td>\n",
       "      <td>1</td>\n",
       "    </tr>\n",
       "    <tr>\n",
       "      <th>100000</th>\n",
       "      <td>0.001807</td>\n",
       "      <td>1.036249e-04</td>\n",
       "      <td>1</td>\n",
       "    </tr>\n",
       "    <tr>\n",
       "      <th>200000</th>\n",
       "      <td>0.003800</td>\n",
       "      <td>8.758337e-05</td>\n",
       "      <td>1</td>\n",
       "    </tr>\n",
       "    <tr>\n",
       "      <th>500000</th>\n",
       "      <td>0.008067</td>\n",
       "      <td>6.631637e-04</td>\n",
       "      <td>5</td>\n",
       "    </tr>\n",
       "    <tr>\n",
       "      <th>1000000</th>\n",
       "      <td>0.016336</td>\n",
       "      <td>4.872239e-04</td>\n",
       "      <td>3</td>\n",
       "    </tr>\n",
       "    <tr>\n",
       "      <th>2000000</th>\n",
       "      <td>0.033675</td>\n",
       "      <td>5.784268e-04</td>\n",
       "      <td>4</td>\n",
       "    </tr>\n",
       "    <tr>\n",
       "      <th>5000000</th>\n",
       "      <td>0.109860</td>\n",
       "      <td>2.706408e-03</td>\n",
       "      <td>80</td>\n",
       "    </tr>\n",
       "    <tr>\n",
       "      <th rowspan=\"15\" valign=\"top\">planck_function_numba</th>\n",
       "      <th>100</th>\n",
       "      <td>0.000009</td>\n",
       "      <td>5.683281e-07</td>\n",
       "      <td>1</td>\n",
       "    </tr>\n",
       "    <tr>\n",
       "      <th>200</th>\n",
       "      <td>0.000013</td>\n",
       "      <td>8.722776e-06</td>\n",
       "      <td>1</td>\n",
       "    </tr>\n",
       "    <tr>\n",
       "      <th>500</th>\n",
       "      <td>0.000013</td>\n",
       "      <td>3.235422e-07</td>\n",
       "      <td>1</td>\n",
       "    </tr>\n",
       "    <tr>\n",
       "      <th>1000</th>\n",
       "      <td>0.000018</td>\n",
       "      <td>6.245176e-07</td>\n",
       "      <td>1</td>\n",
       "    </tr>\n",
       "    <tr>\n",
       "      <th>2000</th>\n",
       "      <td>0.000022</td>\n",
       "      <td>6.930783e-07</td>\n",
       "      <td>1</td>\n",
       "    </tr>\n",
       "    <tr>\n",
       "      <th>5000</th>\n",
       "      <td>0.000036</td>\n",
       "      <td>1.673576e-06</td>\n",
       "      <td>1</td>\n",
       "    </tr>\n",
       "    <tr>\n",
       "      <th>10000</th>\n",
       "      <td>0.000058</td>\n",
       "      <td>2.594598e-06</td>\n",
       "      <td>1</td>\n",
       "    </tr>\n",
       "    <tr>\n",
       "      <th>20000</th>\n",
       "      <td>0.000104</td>\n",
       "      <td>9.186972e-06</td>\n",
       "      <td>1</td>\n",
       "    </tr>\n",
       "    <tr>\n",
       "      <th>50000</th>\n",
       "      <td>0.000250</td>\n",
       "      <td>5.152738e-05</td>\n",
       "      <td>1</td>\n",
       "    </tr>\n",
       "    <tr>\n",
       "      <th>100000</th>\n",
       "      <td>0.000466</td>\n",
       "      <td>8.298245e-05</td>\n",
       "      <td>1</td>\n",
       "    </tr>\n",
       "    <tr>\n",
       "      <th>200000</th>\n",
       "      <td>0.001037</td>\n",
       "      <td>1.962963e-04</td>\n",
       "      <td>1</td>\n",
       "    </tr>\n",
       "    <tr>\n",
       "      <th>500000</th>\n",
       "      <td>0.002256</td>\n",
       "      <td>4.479537e-04</td>\n",
       "      <td>3</td>\n",
       "    </tr>\n",
       "    <tr>\n",
       "      <th>1000000</th>\n",
       "      <td>0.004094</td>\n",
       "      <td>6.801209e-04</td>\n",
       "      <td>6</td>\n",
       "    </tr>\n",
       "    <tr>\n",
       "      <th>2000000</th>\n",
       "      <td>0.010741</td>\n",
       "      <td>1.939589e-04</td>\n",
       "      <td>1</td>\n",
       "    </tr>\n",
       "    <tr>\n",
       "      <th>5000000</th>\n",
       "      <td>0.027312</td>\n",
       "      <td>6.243160e-04</td>\n",
       "      <td>5</td>\n",
       "    </tr>\n",
       "    <tr>\n",
       "      <th rowspan=\"15\" valign=\"top\">planck_function_numba_parallel</th>\n",
       "      <th>100</th>\n",
       "      <td>0.000089</td>\n",
       "      <td>6.981105e-06</td>\n",
       "      <td>1</td>\n",
       "    </tr>\n",
       "    <tr>\n",
       "      <th>200</th>\n",
       "      <td>0.000103</td>\n",
       "      <td>1.113001e-05</td>\n",
       "      <td>1</td>\n",
       "    </tr>\n",
       "    <tr>\n",
       "      <th>500</th>\n",
       "      <td>0.000107</td>\n",
       "      <td>1.099877e-05</td>\n",
       "      <td>1</td>\n",
       "    </tr>\n",
       "    <tr>\n",
       "      <th>1000</th>\n",
       "      <td>0.000114</td>\n",
       "      <td>1.709006e-05</td>\n",
       "      <td>1</td>\n",
       "    </tr>\n",
       "    <tr>\n",
       "      <th>2000</th>\n",
       "      <td>0.000122</td>\n",
       "      <td>1.854362e-05</td>\n",
       "      <td>1</td>\n",
       "    </tr>\n",
       "    <tr>\n",
       "      <th>5000</th>\n",
       "      <td>0.000134</td>\n",
       "      <td>1.005950e-05</td>\n",
       "      <td>1</td>\n",
       "    </tr>\n",
       "    <tr>\n",
       "      <th>10000</th>\n",
       "      <td>0.000159</td>\n",
       "      <td>1.372833e-05</td>\n",
       "      <td>1</td>\n",
       "    </tr>\n",
       "    <tr>\n",
       "      <th>20000</th>\n",
       "      <td>0.000208</td>\n",
       "      <td>1.760730e-05</td>\n",
       "      <td>1</td>\n",
       "    </tr>\n",
       "    <tr>\n",
       "      <th>50000</th>\n",
       "      <td>0.000303</td>\n",
       "      <td>2.688063e-05</td>\n",
       "      <td>1</td>\n",
       "    </tr>\n",
       "    <tr>\n",
       "      <th>100000</th>\n",
       "      <td>0.000374</td>\n",
       "      <td>2.304067e-05</td>\n",
       "      <td>1</td>\n",
       "    </tr>\n",
       "    <tr>\n",
       "      <th>200000</th>\n",
       "      <td>0.000499</td>\n",
       "      <td>9.534589e-05</td>\n",
       "      <td>1</td>\n",
       "    </tr>\n",
       "    <tr>\n",
       "      <th>500000</th>\n",
       "      <td>0.000718</td>\n",
       "      <td>7.954570e-05</td>\n",
       "      <td>1</td>\n",
       "    </tr>\n",
       "    <tr>\n",
       "      <th>1000000</th>\n",
       "      <td>0.000972</td>\n",
       "      <td>9.048249e-05</td>\n",
       "      <td>1</td>\n",
       "    </tr>\n",
       "    <tr>\n",
       "      <th>2000000</th>\n",
       "      <td>0.001731</td>\n",
       "      <td>6.337844e-05</td>\n",
       "      <td>1</td>\n",
       "    </tr>\n",
       "    <tr>\n",
       "      <th>5000000</th>\n",
       "      <td>0.003870</td>\n",
       "      <td>1.598968e-04</td>\n",
       "      <td>1</td>\n",
       "    </tr>\n",
       "  </tbody>\n",
       "</table>\n",
       "</div>"
      ],
      "text/plain": [
       "                                              mean           std  N_montecarlo\n",
       "func_name                      freq_bins                                      \n",
       "planck_function                100        0.000248  1.361631e-05             1\n",
       "                               200        0.000260  2.446488e-05             1\n",
       "                               500        0.000263  2.313184e-05             1\n",
       "                               1000       0.000267  2.087363e-05             1\n",
       "                               2000       0.000279  1.441761e-05             1\n",
       "                               5000       0.000316  1.649778e-05             1\n",
       "                               10000      0.000398  1.432435e-05             1\n",
       "                               20000      0.000547  2.574386e-05             1\n",
       "                               50000      0.001028  4.734910e-05             1\n",
       "                               100000     0.001807  1.036249e-04             1\n",
       "                               200000     0.003800  8.758337e-05             1\n",
       "                               500000     0.008067  6.631637e-04             5\n",
       "                               1000000    0.016336  4.872239e-04             3\n",
       "                               2000000    0.033675  5.784268e-04             4\n",
       "                               5000000    0.109860  2.706408e-03            80\n",
       "planck_function_numba          100        0.000009  5.683281e-07             1\n",
       "                               200        0.000013  8.722776e-06             1\n",
       "                               500        0.000013  3.235422e-07             1\n",
       "                               1000       0.000018  6.245176e-07             1\n",
       "                               2000       0.000022  6.930783e-07             1\n",
       "                               5000       0.000036  1.673576e-06             1\n",
       "                               10000      0.000058  2.594598e-06             1\n",
       "                               20000      0.000104  9.186972e-06             1\n",
       "                               50000      0.000250  5.152738e-05             1\n",
       "                               100000     0.000466  8.298245e-05             1\n",
       "                               200000     0.001037  1.962963e-04             1\n",
       "                               500000     0.002256  4.479537e-04             3\n",
       "                               1000000    0.004094  6.801209e-04             6\n",
       "                               2000000    0.010741  1.939589e-04             1\n",
       "                               5000000    0.027312  6.243160e-04             5\n",
       "planck_function_numba_parallel 100        0.000089  6.981105e-06             1\n",
       "                               200        0.000103  1.113001e-05             1\n",
       "                               500        0.000107  1.099877e-05             1\n",
       "                               1000       0.000114  1.709006e-05             1\n",
       "                               2000       0.000122  1.854362e-05             1\n",
       "                               5000       0.000134  1.005950e-05             1\n",
       "                               10000      0.000159  1.372833e-05             1\n",
       "                               20000      0.000208  1.760730e-05             1\n",
       "                               50000      0.000303  2.688063e-05             1\n",
       "                               100000     0.000374  2.304067e-05             1\n",
       "                               200000     0.000499  9.534589e-05             1\n",
       "                               500000     0.000718  7.954570e-05             1\n",
       "                               1000000    0.000972  9.048249e-05             1\n",
       "                               2000000    0.001731  6.337844e-05             1\n",
       "                               5000000    0.003870  1.598968e-04             1"
      ]
     },
     "execution_count": 59,
     "metadata": {},
     "output_type": "execute_result"
    }
   ],
   "source": [
    "confidence_level = 1e-3  # alpha\n",
    "error_tolerance = 1e-3  # epsilon\n",
    "\n",
    "z = stats.norm.ppf(1.0 - confidence_level / 2.0)\n",
    "\n",
    "\n",
    "time_data_estimators[\"mean\"] = raw_time_data.groupby(\n",
    "    [\n",
    "        \"func_name\",\n",
    "        \"freq_bins\",\n",
    "    ]\n",
    ").mean()\n",
    "\n",
    "time_data_estimators[\"std\"] = raw_time_data.groupby(\n",
    "    [\n",
    "        \"func_name\",\n",
    "        \"freq_bins\",\n",
    "    ]\n",
    ").std()\n",
    "\n",
    "time_data_estimators[\"N_montecarlo\"] = (\n",
    "    ((time_data_estimators[\"std\"] * z / error_tolerance) ** 2)\n",
    "    .apply(np.ceil)\n",
    "    .astype(int)\n",
    "    .rename(\"N_iterations\")\n",
    ")\n",
    "\n",
    "time_data_estimators"
   ]
  },
  {
   "cell_type": "code",
   "execution_count": 53,
   "id": "cb3a92dd",
   "metadata": {
    "scrolled": true
   },
   "outputs": [
    {
     "data": {
      "application/vnd.jupyter.widget-view+json": {
       "model_id": "7dd529d227ca4384995890137674abdb",
       "version_major": 2,
       "version_minor": 0
      },
      "text/plain": [
       "  0%|          | 0/1 [00:00<?, ?it/s]"
      ]
     },
     "metadata": {},
     "output_type": "display_data"
    },
    {
     "data": {
      "application/vnd.jupyter.widget-view+json": {
       "model_id": "d1fb987f68794ae3bfaa3326ce4da1a3",
       "version_major": 2,
       "version_minor": 0
      },
      "text/plain": [
       "  0%|          | 0/1 [00:00<?, ?it/s]"
      ]
     },
     "metadata": {},
     "output_type": "display_data"
    },
    {
     "data": {
      "application/vnd.jupyter.widget-view+json": {
       "model_id": "37a5e8fb0ea24adb98174eeea7f91cf0",
       "version_major": 2,
       "version_minor": 0
      },
      "text/plain": [
       "  0%|          | 0/1 [00:00<?, ?it/s]"
      ]
     },
     "metadata": {},
     "output_type": "display_data"
    },
    {
     "data": {
      "application/vnd.jupyter.widget-view+json": {
       "model_id": "bfc7a3949db04ab4862b6afa271ef46a",
       "version_major": 2,
       "version_minor": 0
      },
      "text/plain": [
       "  0%|          | 0/1 [00:00<?, ?it/s]"
      ]
     },
     "metadata": {},
     "output_type": "display_data"
    },
    {
     "data": {
      "application/vnd.jupyter.widget-view+json": {
       "model_id": "7783f4afd08149538f554fc440a6a612",
       "version_major": 2,
       "version_minor": 0
      },
      "text/plain": [
       "  0%|          | 0/1 [00:00<?, ?it/s]"
      ]
     },
     "metadata": {},
     "output_type": "display_data"
    },
    {
     "data": {
      "application/vnd.jupyter.widget-view+json": {
       "model_id": "d18646c6288d40ab988fc89e829abf58",
       "version_major": 2,
       "version_minor": 0
      },
      "text/plain": [
       "  0%|          | 0/1 [00:00<?, ?it/s]"
      ]
     },
     "metadata": {},
     "output_type": "display_data"
    },
    {
     "data": {
      "application/vnd.jupyter.widget-view+json": {
       "model_id": "dfe6bd8e1b6240819cd6f18751721cb4",
       "version_major": 2,
       "version_minor": 0
      },
      "text/plain": [
       "  0%|          | 0/1 [00:00<?, ?it/s]"
      ]
     },
     "metadata": {},
     "output_type": "display_data"
    },
    {
     "data": {
      "application/vnd.jupyter.widget-view+json": {
       "model_id": "9d6dad58eecb46c28a44fc4a839b7857",
       "version_major": 2,
       "version_minor": 0
      },
      "text/plain": [
       "  0%|          | 0/1 [00:00<?, ?it/s]"
      ]
     },
     "metadata": {},
     "output_type": "display_data"
    },
    {
     "data": {
      "application/vnd.jupyter.widget-view+json": {
       "model_id": "e7bcbed33b274d8ba282d26d25427897",
       "version_major": 2,
       "version_minor": 0
      },
      "text/plain": [
       "  0%|          | 0/1 [00:00<?, ?it/s]"
      ]
     },
     "metadata": {},
     "output_type": "display_data"
    },
    {
     "data": {
      "application/vnd.jupyter.widget-view+json": {
       "model_id": "1a2fb6e62bfa4dd69395dcffb56e567d",
       "version_major": 2,
       "version_minor": 0
      },
      "text/plain": [
       "  0%|          | 0/1 [00:00<?, ?it/s]"
      ]
     },
     "metadata": {},
     "output_type": "display_data"
    },
    {
     "data": {
      "application/vnd.jupyter.widget-view+json": {
       "model_id": "aecb92c4474e4494bef30660574e9cfd",
       "version_major": 2,
       "version_minor": 0
      },
      "text/plain": [
       "  0%|          | 0/1 [00:00<?, ?it/s]"
      ]
     },
     "metadata": {},
     "output_type": "display_data"
    },
    {
     "data": {
      "application/vnd.jupyter.widget-view+json": {
       "model_id": "c4bb7406d1dc45099277a14cc1f730fd",
       "version_major": 2,
       "version_minor": 0
      },
      "text/plain": [
       "  0%|          | 0/5 [00:00<?, ?it/s]"
      ]
     },
     "metadata": {},
     "output_type": "display_data"
    },
    {
     "data": {
      "application/vnd.jupyter.widget-view+json": {
       "model_id": "40156ba6e68c4cbeac6b67d8a0d4005e",
       "version_major": 2,
       "version_minor": 0
      },
      "text/plain": [
       "  0%|          | 0/3 [00:00<?, ?it/s]"
      ]
     },
     "metadata": {},
     "output_type": "display_data"
    },
    {
     "data": {
      "application/vnd.jupyter.widget-view+json": {
       "model_id": "108de93b4789413c938048d23938c68c",
       "version_major": 2,
       "version_minor": 0
      },
      "text/plain": [
       "  0%|          | 0/4 [00:00<?, ?it/s]"
      ]
     },
     "metadata": {},
     "output_type": "display_data"
    },
    {
     "data": {
      "application/vnd.jupyter.widget-view+json": {
       "model_id": "af7c529614204c949b451d3f63adec23",
       "version_major": 2,
       "version_minor": 0
      },
      "text/plain": [
       "  0%|          | 0/9 [00:00<?, ?it/s]"
      ]
     },
     "metadata": {},
     "output_type": "display_data"
    },
    {
     "data": {
      "application/vnd.jupyter.widget-view+json": {
       "model_id": "f64688cb3c11408dbd2857188727425c",
       "version_major": 2,
       "version_minor": 0
      },
      "text/plain": [
       "  0%|          | 0/1 [00:00<?, ?it/s]"
      ]
     },
     "metadata": {},
     "output_type": "display_data"
    },
    {
     "data": {
      "application/vnd.jupyter.widget-view+json": {
       "model_id": "cf6c813e539847a69e7e301b8b92e660",
       "version_major": 2,
       "version_minor": 0
      },
      "text/plain": [
       "  0%|          | 0/1 [00:00<?, ?it/s]"
      ]
     },
     "metadata": {},
     "output_type": "display_data"
    },
    {
     "data": {
      "application/vnd.jupyter.widget-view+json": {
       "model_id": "5a567ad042204ffc9ab8ec9ab5ebd593",
       "version_major": 2,
       "version_minor": 0
      },
      "text/plain": [
       "  0%|          | 0/1 [00:00<?, ?it/s]"
      ]
     },
     "metadata": {},
     "output_type": "display_data"
    },
    {
     "data": {
      "application/vnd.jupyter.widget-view+json": {
       "model_id": "a5dfc7bfcf1b4024b1117a1cef8032f0",
       "version_major": 2,
       "version_minor": 0
      },
      "text/plain": [
       "  0%|          | 0/1 [00:00<?, ?it/s]"
      ]
     },
     "metadata": {},
     "output_type": "display_data"
    },
    {
     "data": {
      "application/vnd.jupyter.widget-view+json": {
       "model_id": "2311ac0395f74225bcdf8024b8163b9f",
       "version_major": 2,
       "version_minor": 0
      },
      "text/plain": [
       "  0%|          | 0/1 [00:00<?, ?it/s]"
      ]
     },
     "metadata": {},
     "output_type": "display_data"
    },
    {
     "data": {
      "application/vnd.jupyter.widget-view+json": {
       "model_id": "2acf242ffcb54815a41e051ca192823a",
       "version_major": 2,
       "version_minor": 0
      },
      "text/plain": [
       "  0%|          | 0/1 [00:00<?, ?it/s]"
      ]
     },
     "metadata": {},
     "output_type": "display_data"
    },
    {
     "data": {
      "application/vnd.jupyter.widget-view+json": {
       "model_id": "1641b34359fb41edbb8dc9ac0e066ca6",
       "version_major": 2,
       "version_minor": 0
      },
      "text/plain": [
       "  0%|          | 0/1 [00:00<?, ?it/s]"
      ]
     },
     "metadata": {},
     "output_type": "display_data"
    },
    {
     "data": {
      "application/vnd.jupyter.widget-view+json": {
       "model_id": "7e1b935636c540cea5aa4c63eb1c961d",
       "version_major": 2,
       "version_minor": 0
      },
      "text/plain": [
       "  0%|          | 0/1 [00:00<?, ?it/s]"
      ]
     },
     "metadata": {},
     "output_type": "display_data"
    },
    {
     "data": {
      "application/vnd.jupyter.widget-view+json": {
       "model_id": "98b39d7ee7b94ca186836eaf76a08c14",
       "version_major": 2,
       "version_minor": 0
      },
      "text/plain": [
       "  0%|          | 0/1 [00:00<?, ?it/s]"
      ]
     },
     "metadata": {},
     "output_type": "display_data"
    },
    {
     "data": {
      "application/vnd.jupyter.widget-view+json": {
       "model_id": "531fb17c8bb74dedb397e78a917cca95",
       "version_major": 2,
       "version_minor": 0
      },
      "text/plain": [
       "  0%|          | 0/1 [00:00<?, ?it/s]"
      ]
     },
     "metadata": {},
     "output_type": "display_data"
    },
    {
     "data": {
      "application/vnd.jupyter.widget-view+json": {
       "model_id": "52767821041a45ea9d667065cc70c020",
       "version_major": 2,
       "version_minor": 0
      },
      "text/plain": [
       "  0%|          | 0/1 [00:00<?, ?it/s]"
      ]
     },
     "metadata": {},
     "output_type": "display_data"
    },
    {
     "data": {
      "application/vnd.jupyter.widget-view+json": {
       "model_id": "0bd95d8049c14f2a8fe1d90c85f18f8d",
       "version_major": 2,
       "version_minor": 0
      },
      "text/plain": [
       "  0%|          | 0/3 [00:00<?, ?it/s]"
      ]
     },
     "metadata": {},
     "output_type": "display_data"
    },
    {
     "data": {
      "application/vnd.jupyter.widget-view+json": {
       "model_id": "5efe5d1de520435f8d4bd4e9b64d1af3",
       "version_major": 2,
       "version_minor": 0
      },
      "text/plain": [
       "  0%|          | 0/6 [00:00<?, ?it/s]"
      ]
     },
     "metadata": {},
     "output_type": "display_data"
    },
    {
     "data": {
      "application/vnd.jupyter.widget-view+json": {
       "model_id": "ed28239021044352bd7a1acb1444e791",
       "version_major": 2,
       "version_minor": 0
      },
      "text/plain": [
       "  0%|          | 0/1 [00:00<?, ?it/s]"
      ]
     },
     "metadata": {},
     "output_type": "display_data"
    },
    {
     "data": {
      "application/vnd.jupyter.widget-view+json": {
       "model_id": "c9408505b5f74ea29ce0c3d1f26d051e",
       "version_major": 2,
       "version_minor": 0
      },
      "text/plain": [
       "  0%|          | 0/4 [00:00<?, ?it/s]"
      ]
     },
     "metadata": {},
     "output_type": "display_data"
    },
    {
     "data": {
      "application/vnd.jupyter.widget-view+json": {
       "model_id": "2f97c4dc54f84265bbed127496e487ab",
       "version_major": 2,
       "version_minor": 0
      },
      "text/plain": [
       "  0%|          | 0/1 [00:00<?, ?it/s]"
      ]
     },
     "metadata": {},
     "output_type": "display_data"
    },
    {
     "data": {
      "application/vnd.jupyter.widget-view+json": {
       "model_id": "2a7a5ae297484d9ea4963deec4eacd1c",
       "version_major": 2,
       "version_minor": 0
      },
      "text/plain": [
       "  0%|          | 0/1 [00:00<?, ?it/s]"
      ]
     },
     "metadata": {},
     "output_type": "display_data"
    },
    {
     "data": {
      "application/vnd.jupyter.widget-view+json": {
       "model_id": "8822a21823be431d96b460fb576b242b",
       "version_major": 2,
       "version_minor": 0
      },
      "text/plain": [
       "  0%|          | 0/1 [00:00<?, ?it/s]"
      ]
     },
     "metadata": {},
     "output_type": "display_data"
    },
    {
     "data": {
      "application/vnd.jupyter.widget-view+json": {
       "model_id": "a757fc38d0444f92afaabba2f597f980",
       "version_major": 2,
       "version_minor": 0
      },
      "text/plain": [
       "  0%|          | 0/1 [00:00<?, ?it/s]"
      ]
     },
     "metadata": {},
     "output_type": "display_data"
    },
    {
     "data": {
      "application/vnd.jupyter.widget-view+json": {
       "model_id": "89478a8ef83249d78f8370b4d3865707",
       "version_major": 2,
       "version_minor": 0
      },
      "text/plain": [
       "  0%|          | 0/1 [00:00<?, ?it/s]"
      ]
     },
     "metadata": {},
     "output_type": "display_data"
    },
    {
     "data": {
      "application/vnd.jupyter.widget-view+json": {
       "model_id": "1912b4c2573942aa8f7122a21328d831",
       "version_major": 2,
       "version_minor": 0
      },
      "text/plain": [
       "  0%|          | 0/1 [00:00<?, ?it/s]"
      ]
     },
     "metadata": {},
     "output_type": "display_data"
    },
    {
     "data": {
      "application/vnd.jupyter.widget-view+json": {
       "model_id": "9cf7b4a5bffe41e19f8b0dd3617a022b",
       "version_major": 2,
       "version_minor": 0
      },
      "text/plain": [
       "  0%|          | 0/1 [00:00<?, ?it/s]"
      ]
     },
     "metadata": {},
     "output_type": "display_data"
    },
    {
     "data": {
      "application/vnd.jupyter.widget-view+json": {
       "model_id": "8fa6dabdb46a42538438626ac05c518d",
       "version_major": 2,
       "version_minor": 0
      },
      "text/plain": [
       "  0%|          | 0/1 [00:00<?, ?it/s]"
      ]
     },
     "metadata": {},
     "output_type": "display_data"
    },
    {
     "data": {
      "application/vnd.jupyter.widget-view+json": {
       "model_id": "bff3b6e72c544a04822c1a0a05504368",
       "version_major": 2,
       "version_minor": 0
      },
      "text/plain": [
       "  0%|          | 0/1 [00:00<?, ?it/s]"
      ]
     },
     "metadata": {},
     "output_type": "display_data"
    },
    {
     "data": {
      "application/vnd.jupyter.widget-view+json": {
       "model_id": "a4a694fff8094af79791059e82e8d8ae",
       "version_major": 2,
       "version_minor": 0
      },
      "text/plain": [
       "  0%|          | 0/1 [00:00<?, ?it/s]"
      ]
     },
     "metadata": {},
     "output_type": "display_data"
    },
    {
     "data": {
      "application/vnd.jupyter.widget-view+json": {
       "model_id": "fe980d8983234374becbfaa994d7fffc",
       "version_major": 2,
       "version_minor": 0
      },
      "text/plain": [
       "  0%|          | 0/1 [00:00<?, ?it/s]"
      ]
     },
     "metadata": {},
     "output_type": "display_data"
    },
    {
     "data": {
      "application/vnd.jupyter.widget-view+json": {
       "model_id": "c1e76f89149c48c981c8a7726267011b",
       "version_major": 2,
       "version_minor": 0
      },
      "text/plain": [
       "  0%|          | 0/1 [00:00<?, ?it/s]"
      ]
     },
     "metadata": {},
     "output_type": "display_data"
    },
    {
     "data": {
      "application/vnd.jupyter.widget-view+json": {
       "model_id": "56cb058bf87a445d8d2fec0df1bd7763",
       "version_major": 2,
       "version_minor": 0
      },
      "text/plain": [
       "  0%|          | 0/1 [00:00<?, ?it/s]"
      ]
     },
     "metadata": {},
     "output_type": "display_data"
    },
    {
     "data": {
      "application/vnd.jupyter.widget-view+json": {
       "model_id": "ee3b5279696c436da741fc3e14ea694d",
       "version_major": 2,
       "version_minor": 0
      },
      "text/plain": [
       "  0%|          | 0/1 [00:00<?, ?it/s]"
      ]
     },
     "metadata": {},
     "output_type": "display_data"
    },
    {
     "data": {
      "application/vnd.jupyter.widget-view+json": {
       "model_id": "5efb2549de654fc8b1b60f4acb6e33b7",
       "version_major": 2,
       "version_minor": 0
      },
      "text/plain": [
       "  0%|          | 0/1 [00:00<?, ?it/s]"
      ]
     },
     "metadata": {},
     "output_type": "display_data"
    },
    {
     "data": {
      "text/html": [
       "<div>\n",
       "<style scoped>\n",
       "    .dataframe tbody tr th:only-of-type {\n",
       "        vertical-align: middle;\n",
       "    }\n",
       "\n",
       "    .dataframe tbody tr th {\n",
       "        vertical-align: top;\n",
       "    }\n",
       "\n",
       "    .dataframe thead th {\n",
       "        text-align: right;\n",
       "    }\n",
       "</style>\n",
       "<table border=\"1\" class=\"dataframe\">\n",
       "  <thead>\n",
       "    <tr style=\"text-align: right;\">\n",
       "      <th></th>\n",
       "      <th></th>\n",
       "      <th>mean</th>\n",
       "      <th>std</th>\n",
       "      <th>N_montecarlo</th>\n",
       "    </tr>\n",
       "    <tr>\n",
       "      <th>func_name</th>\n",
       "      <th>freq_bins</th>\n",
       "      <th></th>\n",
       "      <th></th>\n",
       "      <th></th>\n",
       "    </tr>\n",
       "  </thead>\n",
       "  <tbody>\n",
       "    <tr>\n",
       "      <th rowspan=\"15\" valign=\"top\">planck_function</th>\n",
       "      <th>100</th>\n",
       "      <td>0.000248</td>\n",
       "      <td>1.361631e-05</td>\n",
       "      <td>1</td>\n",
       "    </tr>\n",
       "    <tr>\n",
       "      <th>200</th>\n",
       "      <td>0.000260</td>\n",
       "      <td>2.446488e-05</td>\n",
       "      <td>1</td>\n",
       "    </tr>\n",
       "    <tr>\n",
       "      <th>500</th>\n",
       "      <td>0.000263</td>\n",
       "      <td>2.313184e-05</td>\n",
       "      <td>1</td>\n",
       "    </tr>\n",
       "    <tr>\n",
       "      <th>1000</th>\n",
       "      <td>0.000267</td>\n",
       "      <td>2.087363e-05</td>\n",
       "      <td>1</td>\n",
       "    </tr>\n",
       "    <tr>\n",
       "      <th>2000</th>\n",
       "      <td>0.000279</td>\n",
       "      <td>1.441761e-05</td>\n",
       "      <td>1</td>\n",
       "    </tr>\n",
       "    <tr>\n",
       "      <th>5000</th>\n",
       "      <td>0.000316</td>\n",
       "      <td>1.649778e-05</td>\n",
       "      <td>1</td>\n",
       "    </tr>\n",
       "    <tr>\n",
       "      <th>10000</th>\n",
       "      <td>0.000398</td>\n",
       "      <td>1.432435e-05</td>\n",
       "      <td>1</td>\n",
       "    </tr>\n",
       "    <tr>\n",
       "      <th>20000</th>\n",
       "      <td>0.000547</td>\n",
       "      <td>2.574386e-05</td>\n",
       "      <td>1</td>\n",
       "    </tr>\n",
       "    <tr>\n",
       "      <th>50000</th>\n",
       "      <td>0.001028</td>\n",
       "      <td>4.734910e-05</td>\n",
       "      <td>1</td>\n",
       "    </tr>\n",
       "    <tr>\n",
       "      <th>100000</th>\n",
       "      <td>0.001807</td>\n",
       "      <td>1.036249e-04</td>\n",
       "      <td>1</td>\n",
       "    </tr>\n",
       "    <tr>\n",
       "      <th>200000</th>\n",
       "      <td>0.003800</td>\n",
       "      <td>8.758337e-05</td>\n",
       "      <td>1</td>\n",
       "    </tr>\n",
       "    <tr>\n",
       "      <th>500000</th>\n",
       "      <td>0.008067</td>\n",
       "      <td>6.631637e-04</td>\n",
       "      <td>5</td>\n",
       "    </tr>\n",
       "    <tr>\n",
       "      <th>1000000</th>\n",
       "      <td>0.016336</td>\n",
       "      <td>4.872239e-04</td>\n",
       "      <td>3</td>\n",
       "    </tr>\n",
       "    <tr>\n",
       "      <th>2000000</th>\n",
       "      <td>0.033675</td>\n",
       "      <td>5.784268e-04</td>\n",
       "      <td>4</td>\n",
       "    </tr>\n",
       "    <tr>\n",
       "      <th>5000000</th>\n",
       "      <td>0.109860</td>\n",
       "      <td>2.706408e-03</td>\n",
       "      <td>9</td>\n",
       "    </tr>\n",
       "    <tr>\n",
       "      <th rowspan=\"15\" valign=\"top\">planck_function_numba</th>\n",
       "      <th>100</th>\n",
       "      <td>0.000009</td>\n",
       "      <td>5.683281e-07</td>\n",
       "      <td>1</td>\n",
       "    </tr>\n",
       "    <tr>\n",
       "      <th>200</th>\n",
       "      <td>0.000013</td>\n",
       "      <td>8.722776e-06</td>\n",
       "      <td>1</td>\n",
       "    </tr>\n",
       "    <tr>\n",
       "      <th>500</th>\n",
       "      <td>0.000013</td>\n",
       "      <td>3.235422e-07</td>\n",
       "      <td>1</td>\n",
       "    </tr>\n",
       "    <tr>\n",
       "      <th>1000</th>\n",
       "      <td>0.000018</td>\n",
       "      <td>6.245176e-07</td>\n",
       "      <td>1</td>\n",
       "    </tr>\n",
       "    <tr>\n",
       "      <th>2000</th>\n",
       "      <td>0.000022</td>\n",
       "      <td>6.930783e-07</td>\n",
       "      <td>1</td>\n",
       "    </tr>\n",
       "    <tr>\n",
       "      <th>5000</th>\n",
       "      <td>0.000036</td>\n",
       "      <td>1.673576e-06</td>\n",
       "      <td>1</td>\n",
       "    </tr>\n",
       "    <tr>\n",
       "      <th>10000</th>\n",
       "      <td>0.000058</td>\n",
       "      <td>2.594598e-06</td>\n",
       "      <td>1</td>\n",
       "    </tr>\n",
       "    <tr>\n",
       "      <th>20000</th>\n",
       "      <td>0.000104</td>\n",
       "      <td>9.186972e-06</td>\n",
       "      <td>1</td>\n",
       "    </tr>\n",
       "    <tr>\n",
       "      <th>50000</th>\n",
       "      <td>0.000250</td>\n",
       "      <td>5.152738e-05</td>\n",
       "      <td>1</td>\n",
       "    </tr>\n",
       "    <tr>\n",
       "      <th>100000</th>\n",
       "      <td>0.000466</td>\n",
       "      <td>8.298245e-05</td>\n",
       "      <td>1</td>\n",
       "    </tr>\n",
       "    <tr>\n",
       "      <th>200000</th>\n",
       "      <td>0.001037</td>\n",
       "      <td>1.962963e-04</td>\n",
       "      <td>1</td>\n",
       "    </tr>\n",
       "    <tr>\n",
       "      <th>500000</th>\n",
       "      <td>0.002256</td>\n",
       "      <td>4.479537e-04</td>\n",
       "      <td>3</td>\n",
       "    </tr>\n",
       "    <tr>\n",
       "      <th>1000000</th>\n",
       "      <td>0.004094</td>\n",
       "      <td>6.801209e-04</td>\n",
       "      <td>6</td>\n",
       "    </tr>\n",
       "    <tr>\n",
       "      <th>2000000</th>\n",
       "      <td>0.010741</td>\n",
       "      <td>1.939589e-04</td>\n",
       "      <td>1</td>\n",
       "    </tr>\n",
       "    <tr>\n",
       "      <th>5000000</th>\n",
       "      <td>0.027312</td>\n",
       "      <td>6.243160e-04</td>\n",
       "      <td>4</td>\n",
       "    </tr>\n",
       "    <tr>\n",
       "      <th rowspan=\"15\" valign=\"top\">planck_function_numba_parallel</th>\n",
       "      <th>100</th>\n",
       "      <td>0.000089</td>\n",
       "      <td>6.981105e-06</td>\n",
       "      <td>1</td>\n",
       "    </tr>\n",
       "    <tr>\n",
       "      <th>200</th>\n",
       "      <td>0.000103</td>\n",
       "      <td>1.113001e-05</td>\n",
       "      <td>1</td>\n",
       "    </tr>\n",
       "    <tr>\n",
       "      <th>500</th>\n",
       "      <td>0.000107</td>\n",
       "      <td>1.099877e-05</td>\n",
       "      <td>1</td>\n",
       "    </tr>\n",
       "    <tr>\n",
       "      <th>1000</th>\n",
       "      <td>0.000114</td>\n",
       "      <td>1.709006e-05</td>\n",
       "      <td>1</td>\n",
       "    </tr>\n",
       "    <tr>\n",
       "      <th>2000</th>\n",
       "      <td>0.000122</td>\n",
       "      <td>1.854362e-05</td>\n",
       "      <td>1</td>\n",
       "    </tr>\n",
       "    <tr>\n",
       "      <th>5000</th>\n",
       "      <td>0.000134</td>\n",
       "      <td>1.005950e-05</td>\n",
       "      <td>1</td>\n",
       "    </tr>\n",
       "    <tr>\n",
       "      <th>10000</th>\n",
       "      <td>0.000159</td>\n",
       "      <td>1.372833e-05</td>\n",
       "      <td>1</td>\n",
       "    </tr>\n",
       "    <tr>\n",
       "      <th>20000</th>\n",
       "      <td>0.000208</td>\n",
       "      <td>1.760730e-05</td>\n",
       "      <td>1</td>\n",
       "    </tr>\n",
       "    <tr>\n",
       "      <th>50000</th>\n",
       "      <td>0.000303</td>\n",
       "      <td>2.688063e-05</td>\n",
       "      <td>1</td>\n",
       "    </tr>\n",
       "    <tr>\n",
       "      <th>100000</th>\n",
       "      <td>0.000374</td>\n",
       "      <td>2.304067e-05</td>\n",
       "      <td>1</td>\n",
       "    </tr>\n",
       "    <tr>\n",
       "      <th>200000</th>\n",
       "      <td>0.000499</td>\n",
       "      <td>9.534589e-05</td>\n",
       "      <td>1</td>\n",
       "    </tr>\n",
       "    <tr>\n",
       "      <th>500000</th>\n",
       "      <td>0.000718</td>\n",
       "      <td>7.954570e-05</td>\n",
       "      <td>1</td>\n",
       "    </tr>\n",
       "    <tr>\n",
       "      <th>1000000</th>\n",
       "      <td>0.000972</td>\n",
       "      <td>9.048249e-05</td>\n",
       "      <td>1</td>\n",
       "    </tr>\n",
       "    <tr>\n",
       "      <th>2000000</th>\n",
       "      <td>0.001731</td>\n",
       "      <td>6.337844e-05</td>\n",
       "      <td>1</td>\n",
       "    </tr>\n",
       "    <tr>\n",
       "      <th>5000000</th>\n",
       "      <td>0.003870</td>\n",
       "      <td>1.598968e-04</td>\n",
       "      <td>1</td>\n",
       "    </tr>\n",
       "  </tbody>\n",
       "</table>\n",
       "</div>"
      ],
      "text/plain": [
       "                                              mean           std  N_montecarlo\n",
       "func_name                      freq_bins                                      \n",
       "planck_function                100        0.000248  1.361631e-05             1\n",
       "                               200        0.000260  2.446488e-05             1\n",
       "                               500        0.000263  2.313184e-05             1\n",
       "                               1000       0.000267  2.087363e-05             1\n",
       "                               2000       0.000279  1.441761e-05             1\n",
       "                               5000       0.000316  1.649778e-05             1\n",
       "                               10000      0.000398  1.432435e-05             1\n",
       "                               20000      0.000547  2.574386e-05             1\n",
       "                               50000      0.001028  4.734910e-05             1\n",
       "                               100000     0.001807  1.036249e-04             1\n",
       "                               200000     0.003800  8.758337e-05             1\n",
       "                               500000     0.008067  6.631637e-04             5\n",
       "                               1000000    0.016336  4.872239e-04             3\n",
       "                               2000000    0.033675  5.784268e-04             4\n",
       "                               5000000    0.109860  2.706408e-03             9\n",
       "planck_function_numba          100        0.000009  5.683281e-07             1\n",
       "                               200        0.000013  8.722776e-06             1\n",
       "                               500        0.000013  3.235422e-07             1\n",
       "                               1000       0.000018  6.245176e-07             1\n",
       "                               2000       0.000022  6.930783e-07             1\n",
       "                               5000       0.000036  1.673576e-06             1\n",
       "                               10000      0.000058  2.594598e-06             1\n",
       "                               20000      0.000104  9.186972e-06             1\n",
       "                               50000      0.000250  5.152738e-05             1\n",
       "                               100000     0.000466  8.298245e-05             1\n",
       "                               200000     0.001037  1.962963e-04             1\n",
       "                               500000     0.002256  4.479537e-04             3\n",
       "                               1000000    0.004094  6.801209e-04             6\n",
       "                               2000000    0.010741  1.939589e-04             1\n",
       "                               5000000    0.027312  6.243160e-04             4\n",
       "planck_function_numba_parallel 100        0.000089  6.981105e-06             1\n",
       "                               200        0.000103  1.113001e-05             1\n",
       "                               500        0.000107  1.099877e-05             1\n",
       "                               1000       0.000114  1.709006e-05             1\n",
       "                               2000       0.000122  1.854362e-05             1\n",
       "                               5000       0.000134  1.005950e-05             1\n",
       "                               10000      0.000159  1.372833e-05             1\n",
       "                               20000      0.000208  1.760730e-05             1\n",
       "                               50000      0.000303  2.688063e-05             1\n",
       "                               100000     0.000374  2.304067e-05             1\n",
       "                               200000     0.000499  9.534589e-05             1\n",
       "                               500000     0.000718  7.954570e-05             1\n",
       "                               1000000    0.000972  9.048249e-05             1\n",
       "                               2000000    0.001731  6.337844e-05             1\n",
       "                               5000000    0.003870  1.598968e-04             1"
      ]
     },
     "execution_count": 53,
     "metadata": {},
     "output_type": "execute_result"
    }
   ],
   "source": [
    "for tup in time_data_estimators.itertuples():\n",
    "    func_name = tup.Index[0]\n",
    "    freq = tup.Index[1]\n",
    "    func = funcdict[func_name]\n",
    "    for n in tqdm.trange(tup.N_montecarlo):\n",
    "        tempdf = time_trial(\n",
    "            func,\n",
    "            func_name,\n",
    "            freq,\n",
    "        )\n",
    "        raw_time_data = pd.concat(\n",
    "            [\n",
    "                raw_time_data,\n",
    "                tempdf,\n",
    "            ],\n",
    "            ignore_index=True,\n",
    "        )\n",
    "\n",
    "time_data_estimators[\"mean\"] = raw_time_data.groupby(\n",
    "    [\n",
    "        \"func_name\",\n",
    "        \"freq_bins\",\n",
    "    ]\n",
    ").mean()\n",
    "time_data_estimators[\"std\"] = raw_time_data.groupby(\n",
    "    [\n",
    "        \"func_name\",\n",
    "        \"freq_bins\",\n",
    "    ]\n",
    ").std()\n",
    "\n",
    "time_data_estimators"
   ]
  },
  {
   "cell_type": "code",
   "execution_count": 48,
   "id": "54bea127",
   "metadata": {},
   "outputs": [
    {
     "data": {
      "image/png": "[encoded data removed]",
      "text/plain": [
       "<Figure size 640x480 with 1 Axes>"
      ]
     },
     "metadata": {},
     "output_type": "display_data"
    }
   ],
   "source": [
    "markers = (\n",
    "    \"o\",\n",
    "    \"s\",\n",
    "    \"^\",\n",
    ")\n",
    "# Different markers to be color-blind friendly\n",
    "\n",
    "for f, marker in zip(function_names, markers):\n",
    "    plt.loglog(\n",
    "        time_data_estimators.loc[f][\"mean\"],\n",
    "        marker=marker,\n",
    "        label=f,\n",
    "    )\n",
    "    # Semilog because of the range of values for freq_bin\n",
    "plt.title(\"Average Execution Times For JIT and non-JIT Implementations\")\n",
    "plt.legend()\n",
    "plt.grid()\n",
    "plt.xlabel(\"Frequency Bins\")\n",
    "plt.ylabel(\"Average Elapsed Time (s)\")\n",
    "plt.tight_layout()\n",
    "plt.show()\n",
    "# This plot is done in matplotlib because that's what's already used here\n",
    "# and what's available currently installed. I could have done something\n",
    "# more elaborate, but I didn't want to mess with the virtual environment."
   ]
  }
 ],
 "metadata": {
  "celltoolbar": "Raw Cell Format",
  "kernelspec": {
   "display_name": "Python 3 (ipykernel)",
   "language": "python",
   "name": "python3"
  },
  "language_info": {
   "codemirror_mode": {
    "name": "ipython",
    "version": 3
   },
   "file_extension": ".py",
   "mimetype": "text/x-python",
   "name": "python",
   "nbconvert_exporter": "python",
   "pygments_lexer": "ipython3",
   "version": "3.8.16"
  }
 },
 "nbformat": 4,
 "nbformat_minor": 5
}
