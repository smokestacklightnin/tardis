{
 "cells": [
  {
   "cell_type": "markdown",
   "id": "6c0dbe0a",
   "metadata": {},
   "source": [
    "# Energy Packet Initialization\n",
    "\n",
    "## Theory\n",
    "\n",
    "While it is instructive to think about tracking the propagation history of\n",
    "individual photons when illustrating the basic idea behind Monte Carlo radiative transfer\n",
    "techniques, there are important numerical reasons for using a different\n",
    "discretization scheme. Instead of thinking in the photon picture, it brings\n",
    "significant advantages to follow the idea of <strong data-cite=\"Abbott1985\">[]</strong> and\n",
    "<strong data-cite=\"Lucy1999\">[]</strong> and consider parcels of radiant energy as the fundamental\n",
    "building blocks of the Monte Carlo calculation. These basic Monte Carlo quanta\n",
    "are commonly referred to as \"energy packets\" or simply \"packets\", and are composed of many photons with the same frequency.\n",
    "\n",
    "During a Monte Carlo calculation, $N$ (a large number) packets, all with a certain\n",
    "energy $\\varepsilon$, are created at the inner boundary of the computational domain (which is discussed in the [model section](../setup/model.rst)) known as the photosphere. Currently, the photosphere is modeled as a spherical [blackbody](https://en.wikipedia.org/wiki/Black-body_radiation) with a radius $r_\\mathrm{boundary\\_inner}$ and temperature $T_\\mathrm{inner}$. Both of these quantities are calculated as a part of the [model](../setup/model.ipynb), and $T_\\mathrm{inner}$ is additionally updated throughout the simulation as a part of the [Updating Plasma and Convergence](../update_and_conv/update_and_conv.ipynb) process.\n",
    "\n",
    "In TARDIS, all packets are assigned identical energies **in the lab frame** (see [Reference Frames](propagation.rst#reference-frames)), and the total (lab-frame) energy of the packets is 1 erg (and thus each packet has an energy of $\\frac{1}{N}$ ergs).\n",
    "\n",
    "<div class=\"alert alert-info\">\n",
    "    \n",
    "Note\n",
    "\n",
    "The indivisible energy packet scheme does not require that all packets have the same energy. This is just a convenient and simple choice adopted in TARDIS.\n",
    "\n",
    "</div>\n",
    "\n",
    "<div class=\"alert alert-info\">\n",
    "    \n",
    "Note\n",
    "\n",
    "Since all packets have the same total, and photon energy is proportional to frequency, higher-frequency packets will represent less real photons than lower-frequency packets.\n",
    "\n",
    "</div>\n",
    "\n",
    "Since the photosphere is modeled as a blackbody, its total luminosity $L_\\mathrm{inner}$ (recall that luminosity is energy emitted divided by the time in which it is emitted) is\n",
    "$$L_\\mathrm{inner}=\\frac{N\\varepsilon}{\\Delta t}=4 \\pi r_\\mathrm{boundary\\_inner}^2 \\sigma_{\\mathrm{R}} T_{\\mathrm{inner}}^4$$\n",
    "where $\\sigma_\\mathrm{R}$ is the Stefan-Boltzmann constant and $\\Delta t$ is the physical duration of the simulation. In order to make this relationship hold (remembering that $N\\varepsilon = 1$ erg), we use\n",
    "$$\\Delta t = \\frac{1}{L_\\mathrm{inner}}=\\frac{1}{4 \\pi r_\\mathrm{boundary\\_inner}^2 \\sigma_{\\mathrm{R}} T_{\\mathrm{inner}}^4}.$$\n",
    "\n",
    "<div class=\"alert alert-info\">\n",
    "    \n",
    "Note\n",
    "\n",
    "As will be shown in the code example, this will lead to unphysically small values for $\\Delta t$. It may be easier to think of the Monte Carlo packets not as packets of energy $\\epsilon$ going through a simulation of duration $\\Delta t$, but as packets of luminosity that carry an energy $\\epsilon$ over a time $\\Delta t$ (and thus truly being luminosity packets of luminosity $\\frac{\\epsilon}{\\Delta t}$). Indeed, this view of the packets will be useful when deriving the [Monte Carlo Estimators](estimators.rst).\n",
    "\n",
    "</div>\n",
    "\n",
    "During packet initialization, each packet is assigned an initial propagation direction $\\mu$ which is the cosine of the angle $\\theta$ which the packet's path makes with the radial direction (see the image below). Using a pseudo-random number generator which generates numbers $z$ uniformly distributed on the interval $[0,1]$, the propagation direction is determined (due to physical considerations beyond the scope of this documentation) according to\n",
    "$$\\mu = \\sqrt{z}.$$\n",
    "This sampling is shown in the \"Code Example\" section.\n",
    "\n",
    "<img src=\"../images/propagation_direction.png\" width=500>\n",
    "\n",
    "Finally, each packet is assigned an initial frequency (or more precisely, the initial frequency of its constituent photons). Note that since each packet has the same energy, each packet will represent a different number of real photons. The sampling on packet frequencies is more involved than that of the propagation direction, as it involves sampling the Planck distribution (see below). TARDIS uses the technique described in <strong data-cite=\"Carter1975\">[]</strong> and summarized in <strong data-cite=\"Bjorkman2001\">[]</strong> for this purpose.\n",
    "\n",
    "During the simulation, the energy of the packet remains constant in the local\n",
    "co-moving frame (see [Reference Frames](propagation.rst#reference-frames)). This naturally ensures energy\n",
    "conservation and constitutes the main advantage of this discretization scheme. **However, while the energy of the packets is conserved in the co-moving frame, the co-moving frequency of the packet (and thus the photons represented by the packet) may vary over the course of the simulation. Thus, a packet may represent several different numbers of real photons throughout their lifetimes.**\n",
    "\n",
    "## Code Example\n",
    "\n",
    "We now demonstrate the TARDIS packet initialization framework:"
   ]
  },
  {
   "cell_type": "code",
   "execution_count": 1,
   "id": "426325e5",
   "metadata": {},
   "outputs": [
    {
     "data": {
      "application/vnd.jupyter.widget-view+json": {
       "model_id": "",
       "version_major": 2,
       "version_minor": 0
      },
      "text/plain": [
       "Iterations:          0/? [00:00<?, ?it/s]"
      ]
     },
     "metadata": {},
     "output_type": "display_data"
    },
    {
     "data": {
      "application/vnd.jupyter.widget-view+json": {
       "model_id": "",
       "version_major": 2,
       "version_minor": 0
      },
      "text/plain": [
       "Packets:             0/? [00:00<?, ?it/s]"
      ]
     },
     "metadata": {},
     "output_type": "display_data"
    }
   ],
   "source": [
    "import numpy as np\n",
    "from tardis.montecarlo.packet_source import BlackBodySimpleSource\n",
    "from astropy import units as u\n",
    "from tardis import constants as const\n",
    "import matplotlib.pyplot as plt\n",
    "import numba\n",
    "import time\n",
    "import pandas as pd\n",
    "import itertools\n",
    "import tqdm.auto as tqdm\n",
    "import scipy.stats as stats\n",
    "\n",
    "\n",
    "# The random number generator that will be used\n",
    "rng = np.random.default_rng()"
   ]
  },
  {
   "cell_type": "markdown",
   "id": "4ae02998",
   "metadata": {},
   "source": [
    "The following cell contains values that you can change to see how it affects the spectrum (in an actual simulation, the seed and number of packets are set in the [Monte Carlo configuration](../../io/configuration/components/montecarlo.rst), and the photospheric radius is calculated as a part of the [model](../setup/model.ipynb)):"
   ]
  },
  {
   "cell_type": "code",
   "execution_count": 2,
   "id": "bc34bf33",
   "metadata": {},
   "outputs": [],
   "source": [
    "# Seed for the pseudo-random number generator\n",
    "seed = 1\n",
    "\n",
    "# Number of packets generated\n",
    "n_packets = 40000\n",
    "\n",
    "# Radius of the supernova's photosphere in cm\n",
    "r_boundary_inner = 1e15 * u.cm"
   ]
  },
  {
   "cell_type": "markdown",
   "id": "450faf76",
   "metadata": {},
   "source": [
    "We set the temperature of the photosphere $T_\\mathrm{inner}$, which will determine the photospheric luminosity (in an actual simulation, $T_\\mathrm{inner}$ is initially calculated as a part of the [model](../setup/model.ipynb) and updated as a part of the [Updating Plasma and Convergence](../update_and_conv/update_and_conv.ipynb) process):"
   ]
  },
  {
   "cell_type": "code",
   "execution_count": 3,
   "id": "3fb3ca8c",
   "metadata": {},
   "outputs": [
    {
     "name": "stdout",
     "output_type": "stream",
     "text": [
      "Luminosity of photosphere: 7.125600863965567e+42 erg / s\n"
     ]
    }
   ],
   "source": [
    "# Temperature in K\n",
    "temperature_inner = 10000 * u.K\n",
    "\n",
    "luminosity_inner = (\n",
    "    4\n",
    "    * np.pi\n",
    "    * (r_boundary_inner**2)\n",
    "    * const.sigma_sb\n",
    "    * (temperature_inner**4)\n",
    ")\n",
    "\n",
    "# Makes sure the luminosity is given in erg/s\n",
    "luminosity_inner = luminosity_inner.to(\"erg/s\")\n",
    "\n",
    "print(\n",
    "    \"Luminosity of photosphere:\",\n",
    "    luminosity_inner,\n",
    ")"
   ]
  },
  {
   "cell_type": "markdown",
   "id": "516633c5",
   "metadata": {},
   "source": [
    "We now generate the ensemble of packets. The array of packet energies and radii are also shown."
   ]
  },
  {
   "cell_type": "code",
   "execution_count": 4,
   "id": "925e9e1b",
   "metadata": {},
   "outputs": [
    {
     "name": "stdout",
     "output_type": "stream",
     "text": [
      "Energies: [2.5e-05 2.5e-05 2.5e-05 ... 2.5e-05 2.5e-05 2.5e-05] erg\n",
      "Radii: [1.e+15 1.e+15 1.e+15 ... 1.e+15 1.e+15 1.e+15] cm\n"
     ]
    }
   ],
   "source": [
    "# We define our packet source\n",
    "packet_source = BlackBodySimpleSource(seed)\n",
    "\n",
    "radii, nus, mus, energies = packet_source.create_packets(\n",
    "    temperature_inner.value,\n",
    "    n_packets,\n",
    "    rng,\n",
    "    r_boundary_inner,\n",
    ")\n",
    "\n",
    "# Sets the energies in units of ergs\n",
    "energies *= u.erg\n",
    "\n",
    "# Sets the frequencies in units of Hz\n",
    "nus *= u.Hz\n",
    "\n",
    "print(\n",
    "    \"Energies:\",\n",
    "    energies,\n",
    ")\n",
    "print(\n",
    "    \"Radii:\",\n",
    "    radii,\n",
    ")"
   ]
  },
  {
   "cell_type": "markdown",
   "id": "16936bce",
   "metadata": {},
   "source": [
    "We set the timespan of the simulation so that each packet contributes the appropriate luminosity to the spectrum."
   ]
  },
  {
   "cell_type": "code",
   "execution_count": 5,
   "id": "fed35f47",
   "metadata": {},
   "outputs": [
    {
     "name": "stdout",
     "output_type": "stream",
     "text": [
      "Time of simulation: 1.4033904215110305e-43 s\n",
      "Luminosity per packet: [1.78140022e+38 1.78140022e+38 1.78140022e+38 ... 1.78140022e+38\n",
      " 1.78140022e+38 1.78140022e+38] erg / s\n"
     ]
    }
   ],
   "source": [
    "# Time of simulation\n",
    "t_simulation = 1 * u.erg / luminosity_inner\n",
    "print(\n",
    "    \"Time of simulation:\",\n",
    "    t_simulation,\n",
    ")\n",
    "\n",
    "# Array of luminosity contribution by each packet\n",
    "lumin_per_packet = energies / t_simulation\n",
    "print(\n",
    "    \"Luminosity per packet:\",\n",
    "    lumin_per_packet,\n",
    ")"
   ]
  },
  {
   "cell_type": "markdown",
   "id": "0d839222",
   "metadata": {},
   "source": [
    "We define important constants, and for comparison's sake, we code the Planck distribution function\n",
    "$$L_\\nu (\\nu)=\\frac{8\\pi r_\\mathrm{boundary\\_inner}^2 h\\nu^3}{c^2}\\frac{1}{\\exp\\left(\\frac{h\\nu}{k_BT_\\mathrm{inner}}\\right)-1}$$\n",
    "where $L_\\nu$ is the luminosity density (see [Basic Spectrum Generation](../spectrum/basic.ipynb)) with respect to frequency, $\\nu$ is frequency, $h$ is Planck's constant, $c$ is the speed of light, and $k_B$ is Boltzmann's constant:"
   ]
  },
  {
   "cell_type": "code",
   "execution_count": 6,
   "id": "916a5e22",
   "metadata": {
    "scrolled": false
   },
   "outputs": [],
   "source": [
    "h = const.h.cgs\n",
    "c2 = const.c.cgs**2\n",
    "kB = const.k_B.cgs\n",
    "\n",
    "\n",
    "def planck_function(nu):\n",
    "    return (\n",
    "        8\n",
    "        * np.pi**2\n",
    "        * r_boundary_inner**2\n",
    "        * h\n",
    "        * nu**3\n",
    "        / (c2 * (np.exp(h * nu / (kB * temperature_inner)) - 1))\n",
    "    )"
   ]
  },
  {
   "cell_type": "markdown",
   "id": "78230177",
   "metadata": {},
   "source": [
    "We plot the Planck distribution and a histogram of the generated packet distribution:"
   ]
  },
  {
   "cell_type": "code",
   "execution_count": 7,
   "id": "913fcdbb",
   "metadata": {},
   "outputs": [
    {
     "data": {
      "image/png": "[encoded data removed]",
      "text/plain": [
       "<Figure size 640x480 with 1 Axes>"
      ]
     },
     "metadata": {},
     "output_type": "display_data"
    }
   ],
   "source": [
    "# We set important quantites for making our histogram\n",
    "bins = 200\n",
    "nus_planck = np.linspace(\n",
    "    min(nus),\n",
    "    max(nus),\n",
    "    bins,\n",
    ")\n",
    "bin_width = nus_planck[1] - nus_planck[0]\n",
    "\n",
    "# In the histogram plot below, the weights argument is used\n",
    "# to make sure our plotted spectrum has the correct y-axis scale\n",
    "plt.hist(\n",
    "    nus.value,\n",
    "    bins=bins,\n",
    "    weights=lumin_per_packet / bin_width,\n",
    ")\n",
    "\n",
    "# We plot the planck function for comparison\n",
    "# plt.plot(nus_planck, planck_function(nus_planck))\n",
    "plt.plot(\n",
    "    nus_planck,\n",
    "    planck_function(nus_planck),\n",
    ")\n",
    "\n",
    "plt.xlabel(\"Frequency (Hz)\")\n",
    "plt.ylabel(\"Luminosity density w.r.t. frequency (erg/s/Hz)\")\n",
    "plt.show()"
   ]
  },
  {
   "cell_type": "markdown",
   "id": "ad4f0f0e",
   "metadata": {},
   "source": [
    "We finally plot the generated $\\mu$ density distribution, followed by the generated $\\theta=\\arccos (\\mu)$ density distribution, compared with the respective curves $\\rho = 2\\mu$ and $\\rho = \\sin(2\\theta)$:"
   ]
  },
  {
   "cell_type": "code",
   "execution_count": 8,
   "id": "ae4c97de",
   "metadata": {},
   "outputs": [
    {
     "data": {
      "image/png": "[encoded data removed]",
      "text/plain": [
       "<Figure size 640x480 with 1 Axes>"
      ]
     },
     "metadata": {},
     "output_type": "display_data"
    }
   ],
   "source": [
    "x = np.linspace(0, 1, 1000)\n",
    "\n",
    "plt.hist(\n",
    "    mus,\n",
    "    bins=bins,\n",
    "    density=True,\n",
    ")\n",
    "plt.plot(\n",
    "    x,\n",
    "    2 * x,\n",
    ")\n",
    "plt.xlabel(\"Propagation direction\")\n",
    "plt.ylabel(\"Probability density\")\n",
    "plt.show()"
   ]
  },
  {
   "cell_type": "code",
   "execution_count": 9,
   "id": "41daa433",
   "metadata": {},
   "outputs": [
    {
     "data": {
      "image/png": "[encoded data removed]",
      "text/plain": [
       "<Figure size 640x480 with 1 Axes>"
      ]
     },
     "metadata": {},
     "output_type": "display_data"
    }
   ],
   "source": [
    "thetas = np.linspace(\n",
    "    0,\n",
    "    np.pi / 2,\n",
    "    1000,\n",
    ")\n",
    "\n",
    "plt.hist(\n",
    "    np.arccos(mus),\n",
    "    bins=bins,\n",
    "    density=True,\n",
    ")\n",
    "plt.plot(\n",
    "    thetas,\n",
    "    np.sin(2 * thetas),\n",
    ")\n",
    "plt.xlabel(\"Angle with normal (rad)\")\n",
    "plt.ylabel(\"Probability density\")\n",
    "plt.show()"
   ]
  },
  {
   "cell_type": "markdown",
   "id": "2f661592",
   "metadata": {},
   "source": [
    "## Custom Packet Source\n",
    "\n",
    "TARDIS allows for the user to input a custom function that generates energy packets instead of the basic blackbody source described here. See [Running TARDIS with a Custom Packet Source](../../io/optional/custom_source.ipynb) for more information."
   ]
  },
  {
   "cell_type": "markdown",
   "id": "efc2b03c",
   "metadata": {},
   "source": [
    "## Numba Implementation of Planck Function\n",
    "\n",
    "The remaining objective is to implement ```planck_function()``` using Numba and compare results to the non-Numba implementation. It is unclear a priori how many simulations should be run to give an accurate idea of what the average is. Here, the number of iterations for each time trial is chosen according to the process described in [section 1.3.2 of these notes](http://www.mit.edu/~kircher/sim.pdf#section.1.3). Plots of execution times are also included."
   ]
  },
  {
   "cell_type": "code",
   "execution_count": 10,
   "id": "eba811ec",
   "metadata": {},
   "outputs": [],
   "source": [
    "@numba.njit()\n",
    "def planck_function_numba(nu):\n",
    "    return (\n",
    "        8\n",
    "        * np.pi**2\n",
    "        * r_boundary_inner**2\n",
    "        * h\n",
    "        * nu**3\n",
    "        / (c2 * (np.exp(h * nu / (kB * temperature_inner)) - 1))\n",
    "    )\n",
    "\n",
    "\n",
    "@numba.njit(parallel=True)\n",
    "def planck_function_numba_parallel(nu):\n",
    "    return (\n",
    "        8\n",
    "        * np.pi**2\n",
    "        * r_boundary_inner**2\n",
    "        * h\n",
    "        * nu**3\n",
    "        / (c2 * (np.exp(h * nu / (kB * temperature_inner)) - 1))\n",
    "    )\n",
    "\n",
    "\n",
    "# _ = planck_function_numba(nus_planck)  # Force Numba compilation\n",
    "# _ = planck_function_numba_parallel(nus_planck)  # Force Numba compilation\n",
    "# Removed forced compilation per the suggestion of Isaac Smith"
   ]
  },
  {
   "cell_type": "markdown",
   "id": "29a5b09d",
   "metadata": {},
   "source": [
    "### Initial Pass of Time Trials\n",
    "\n",
    "Below is the first naive pass of simulations that will be used to calculate the number of remaining needed trials."
   ]
  },
  {
   "cell_type": "code",
   "execution_count": 11,
   "id": "784e8762",
   "metadata": {},
   "outputs": [],
   "source": [
    "calculation_size = \"medium\"\n",
    "calculation_counts = {\n",
    "    \"test\": {\n",
    "        \"first_pass\": 3,\n",
    "        \"Nmax\": 3,\n",
    "    },\n",
    "    \"medium\": {\n",
    "        \"first_pass\": 20,\n",
    "        \"Nmax\": 20,\n",
    "    },\n",
    "    \"large\": {\n",
    "        \"first_pass\": 100,\n",
    "        \"Nmax\": 300,\n",
    "    },\n",
    "}"
   ]
  },
  {
   "cell_type": "code",
   "execution_count": 12,
   "id": "e4793fd0",
   "metadata": {
    "scrolled": true
   },
   "outputs": [
    {
     "data": {
      "application/vnd.jupyter.widget-view+json": {
       "model_id": "68434e1fd5b94d37916814003f2685ca",
       "version_major": 2,
       "version_minor": 0
      },
      "text/plain": [
       "  0%|          | 0/756 [00:00<?, ?it/s]"
      ]
     },
     "metadata": {},
     "output_type": "display_data"
    },
    {
     "data": {
      "text/html": [
       "<div>\n",
       "<style scoped>\n",
       "    .dataframe tbody tr th:only-of-type {\n",
       "        vertical-align: middle;\n",
       "    }\n",
       "\n",
       "    .dataframe tbody tr th {\n",
       "        vertical-align: top;\n",
       "    }\n",
       "\n",
       "    .dataframe thead th {\n",
       "        text-align: right;\n",
       "    }\n",
       "</style>\n",
       "<table border=\"1\" class=\"dataframe\">\n",
       "  <thead>\n",
       "    <tr style=\"text-align: right;\">\n",
       "      <th></th>\n",
       "      <th>func_name</th>\n",
       "      <th>freq_bins</th>\n",
       "      <th>exec_time</th>\n",
       "      <th>date</th>\n",
       "    </tr>\n",
       "  </thead>\n",
       "  <tbody>\n",
       "    <tr>\n",
       "      <th>0</th>\n",
       "      <td>planck_function</td>\n",
       "      <td>100</td>\n",
       "      <td>210977</td>\n",
       "      <td>2023-04-04 07:09:58.337670</td>\n",
       "    </tr>\n",
       "    <tr>\n",
       "      <th>1</th>\n",
       "      <td>planck_function</td>\n",
       "      <td>100</td>\n",
       "      <td>208184</td>\n",
       "      <td>2023-04-04 07:09:58.723738</td>\n",
       "    </tr>\n",
       "    <tr>\n",
       "      <th>2</th>\n",
       "      <td>planck_function</td>\n",
       "      <td>100</td>\n",
       "      <td>202050</td>\n",
       "      <td>2023-04-04 07:09:59.110049</td>\n",
       "    </tr>\n",
       "    <tr>\n",
       "      <th>3</th>\n",
       "      <td>planck_function</td>\n",
       "      <td>100</td>\n",
       "      <td>199585</td>\n",
       "      <td>2023-04-04 07:09:59.499166</td>\n",
       "    </tr>\n",
       "    <tr>\n",
       "      <th>4</th>\n",
       "      <td>planck_function</td>\n",
       "      <td>100</td>\n",
       "      <td>199211</td>\n",
       "      <td>2023-04-04 07:09:59.882488</td>\n",
       "    </tr>\n",
       "    <tr>\n",
       "      <th>...</th>\n",
       "      <td>...</td>\n",
       "      <td>...</td>\n",
       "      <td>...</td>\n",
       "      <td>...</td>\n",
       "    </tr>\n",
       "    <tr>\n",
       "      <th>751</th>\n",
       "      <td>planck_function_numba_parallel</td>\n",
       "      <td>500000000</td>\n",
       "      <td>354042509</td>\n",
       "      <td>2023-04-04 07:25:25.692522</td>\n",
       "    </tr>\n",
       "    <tr>\n",
       "      <th>752</th>\n",
       "      <td>planck_function_numba_parallel</td>\n",
       "      <td>500000000</td>\n",
       "      <td>355629337</td>\n",
       "      <td>2023-04-04 07:25:28.070407</td>\n",
       "    </tr>\n",
       "    <tr>\n",
       "      <th>753</th>\n",
       "      <td>planck_function_numba_parallel</td>\n",
       "      <td>500000000</td>\n",
       "      <td>356430878</td>\n",
       "      <td>2023-04-04 07:25:30.476551</td>\n",
       "    </tr>\n",
       "    <tr>\n",
       "      <th>754</th>\n",
       "      <td>planck_function_numba_parallel</td>\n",
       "      <td>500000000</td>\n",
       "      <td>352838236</td>\n",
       "      <td>2023-04-04 07:25:32.888985</td>\n",
       "    </tr>\n",
       "    <tr>\n",
       "      <th>755</th>\n",
       "      <td>planck_function_numba_parallel</td>\n",
       "      <td>500000000</td>\n",
       "      <td>361286884</td>\n",
       "      <td>2023-04-04 07:25:35.317293</td>\n",
       "    </tr>\n",
       "  </tbody>\n",
       "</table>\n",
       "<p>756 rows × 4 columns</p>\n",
       "</div>"
      ],
      "text/plain": [
       "                          func_name  freq_bins  exec_time  \\\n",
       "0                   planck_function        100     210977   \n",
       "1                   planck_function        100     208184   \n",
       "2                   planck_function        100     202050   \n",
       "3                   planck_function        100     199585   \n",
       "4                   planck_function        100     199211   \n",
       "..                              ...        ...        ...   \n",
       "751  planck_function_numba_parallel  500000000  354042509   \n",
       "752  planck_function_numba_parallel  500000000  355629337   \n",
       "753  planck_function_numba_parallel  500000000  356430878   \n",
       "754  planck_function_numba_parallel  500000000  352838236   \n",
       "755  planck_function_numba_parallel  500000000  361286884   \n",
       "\n",
       "                          date  \n",
       "0   2023-04-04 07:09:58.337670  \n",
       "1   2023-04-04 07:09:58.723738  \n",
       "2   2023-04-04 07:09:59.110049  \n",
       "3   2023-04-04 07:09:59.499166  \n",
       "4   2023-04-04 07:09:59.882488  \n",
       "..                         ...  \n",
       "751 2023-04-04 07:25:25.692522  \n",
       "752 2023-04-04 07:25:28.070407  \n",
       "753 2023-04-04 07:25:30.476551  \n",
       "754 2023-04-04 07:25:32.888985  \n",
       "755 2023-04-04 07:25:35.317293  \n",
       "\n",
       "[756 rows x 4 columns]"
      ]
     },
     "execution_count": 12,
     "metadata": {},
     "output_type": "execute_result"
    }
   ],
   "source": [
    "freq_bins = tuple(\n",
    "    itertools.chain.from_iterable(\n",
    "        ((1 * 10**e, 2 * 10**e, 5 * 10**e) for e in range(2, 10, 2))\n",
    "    )\n",
    ")\n",
    "# The prompt only asked for 100, 200, and 500, but seeing how performance\n",
    "# grows for more frequency bins can possibly be informative.\n",
    "\n",
    "function_names = (\n",
    "    \"planck_function\",\n",
    "    \"planck_function_numba\",\n",
    "    \"planck_function_numba_parallel\",\n",
    ")\n",
    "\n",
    "functions = (\n",
    "    planck_function,\n",
    "    planck_function_numba,\n",
    "    planck_function_numba_parallel,\n",
    ")\n",
    "\n",
    "funcdict = {\n",
    "    funcname: func for (funcname, func) in zip(function_names, functions)\n",
    "}\n",
    "\n",
    "N_initial = calculation_counts[calculation_size][\"first_pass\"]\n",
    "\n",
    "raw_time_data_columns = (\n",
    "    \"func_name\",\n",
    "    \"freq_bins\",\n",
    "    \"exec_time\",\n",
    "    \"date\",\n",
    ")\n",
    "raw_time_data = pd.DataFrame(columns=raw_time_data_columns)\n",
    "raw_time_data[raw_time_data_columns[0]] = raw_time_data[\n",
    "    raw_time_data_columns[0]\n",
    "].astype(\"category\")\n",
    "raw_time_data[raw_time_data_columns[1]] = pd.to_numeric(\n",
    "    raw_time_data[raw_time_data_columns[1]], downcast=\"integer\"\n",
    ")\n",
    "raw_time_data[raw_time_data_columns[2]] = pd.to_numeric(\n",
    "    raw_time_data[raw_time_data_columns[2]], downcast=\"integer\"\n",
    ")\n",
    "raw_time_data[raw_time_data_columns[3]] = pd.to_datetime(\n",
    "    raw_time_data[raw_time_data_columns[3]]\n",
    ")\n",
    "\n",
    "\n",
    "def time_trial(func, func_name, freq, args=None):\n",
    "    nus_planck = np.linspace(\n",
    "        min(nus),\n",
    "        max(nus),\n",
    "        freq,\n",
    "    )\n",
    "\n",
    "    if args is None:\n",
    "        start_time = time.perf_counter_ns()\n",
    "        _ = func(nus_planck)\n",
    "        stop_time = time.perf_counter_ns()\n",
    "    else:\n",
    "        start_time = time.perf_counter_ns()\n",
    "        _ = func(nus_planck, *args)\n",
    "        stop_time = time.perf_counter_ns()\n",
    "    timestamp = pd.Timestamp.now()\n",
    "    elapsed = stop_time - start_time\n",
    "    tempdf = pd.DataFrame(\n",
    "        [\n",
    "            [\n",
    "                func_name,\n",
    "                freq,\n",
    "                elapsed,\n",
    "                timestamp,\n",
    "            ],\n",
    "        ],\n",
    "        columns=raw_time_data_columns,\n",
    "    )\n",
    "\n",
    "    return tempdf\n",
    "\n",
    "\n",
    "total_iterations = len(freq_bins) * len(functions) * (1 + N_initial)\n",
    "\n",
    "for (func, func_name), freq, n in tqdm.tqdm(\n",
    "    itertools.product(\n",
    "        zip(\n",
    "            functions,\n",
    "            function_names,\n",
    "        ),\n",
    "        freq_bins,\n",
    "        range(1 + N_initial),\n",
    "    ),\n",
    "    total=total_iterations,\n",
    "):\n",
    "    tempdf = time_trial(\n",
    "        func,\n",
    "        func_name,\n",
    "        freq,\n",
    "    )\n",
    "    raw_time_data = pd.concat(\n",
    "        [\n",
    "            raw_time_data,\n",
    "            tempdf,\n",
    "        ],\n",
    "        ignore_index=True,\n",
    "    )\n",
    "\n",
    "\n",
    "raw_time_data"
   ]
  },
  {
   "cell_type": "code",
   "execution_count": 13,
   "id": "08ef920e",
   "metadata": {},
   "outputs": [
    {
     "data": {
      "text/html": [
       "<div>\n",
       "<style scoped>\n",
       "    .dataframe tbody tr th:only-of-type {\n",
       "        vertical-align: middle;\n",
       "    }\n",
       "\n",
       "    .dataframe tbody tr th {\n",
       "        vertical-align: top;\n",
       "    }\n",
       "\n",
       "    .dataframe thead th {\n",
       "        text-align: right;\n",
       "    }\n",
       "</style>\n",
       "<table border=\"1\" class=\"dataframe\">\n",
       "  <thead>\n",
       "    <tr style=\"text-align: right;\">\n",
       "      <th></th>\n",
       "      <th>func_name</th>\n",
       "      <th>freq_bins</th>\n",
       "      <th>exec_time</th>\n",
       "      <th>date</th>\n",
       "    </tr>\n",
       "  </thead>\n",
       "  <tbody>\n",
       "    <tr>\n",
       "      <th>1</th>\n",
       "      <td>planck_function</td>\n",
       "      <td>100</td>\n",
       "      <td>208184</td>\n",
       "      <td>2023-04-04 07:09:58.723738</td>\n",
       "    </tr>\n",
       "    <tr>\n",
       "      <th>2</th>\n",
       "      <td>planck_function</td>\n",
       "      <td>100</td>\n",
       "      <td>202050</td>\n",
       "      <td>2023-04-04 07:09:59.110049</td>\n",
       "    </tr>\n",
       "    <tr>\n",
       "      <th>3</th>\n",
       "      <td>planck_function</td>\n",
       "      <td>100</td>\n",
       "      <td>199585</td>\n",
       "      <td>2023-04-04 07:09:59.499166</td>\n",
       "    </tr>\n",
       "    <tr>\n",
       "      <th>4</th>\n",
       "      <td>planck_function</td>\n",
       "      <td>100</td>\n",
       "      <td>199211</td>\n",
       "      <td>2023-04-04 07:09:59.882488</td>\n",
       "    </tr>\n",
       "    <tr>\n",
       "      <th>5</th>\n",
       "      <td>planck_function</td>\n",
       "      <td>100</td>\n",
       "      <td>195442</td>\n",
       "      <td>2023-04-04 07:10:00.272671</td>\n",
       "    </tr>\n",
       "    <tr>\n",
       "      <th>...</th>\n",
       "      <td>...</td>\n",
       "      <td>...</td>\n",
       "      <td>...</td>\n",
       "      <td>...</td>\n",
       "    </tr>\n",
       "    <tr>\n",
       "      <th>751</th>\n",
       "      <td>planck_function_numba_parallel</td>\n",
       "      <td>500000000</td>\n",
       "      <td>354042509</td>\n",
       "      <td>2023-04-04 07:25:25.692522</td>\n",
       "    </tr>\n",
       "    <tr>\n",
       "      <th>752</th>\n",
       "      <td>planck_function_numba_parallel</td>\n",
       "      <td>500000000</td>\n",
       "      <td>355629337</td>\n",
       "      <td>2023-04-04 07:25:28.070407</td>\n",
       "    </tr>\n",
       "    <tr>\n",
       "      <th>753</th>\n",
       "      <td>planck_function_numba_parallel</td>\n",
       "      <td>500000000</td>\n",
       "      <td>356430878</td>\n",
       "      <td>2023-04-04 07:25:30.476551</td>\n",
       "    </tr>\n",
       "    <tr>\n",
       "      <th>754</th>\n",
       "      <td>planck_function_numba_parallel</td>\n",
       "      <td>500000000</td>\n",
       "      <td>352838236</td>\n",
       "      <td>2023-04-04 07:25:32.888985</td>\n",
       "    </tr>\n",
       "    <tr>\n",
       "      <th>755</th>\n",
       "      <td>planck_function_numba_parallel</td>\n",
       "      <td>500000000</td>\n",
       "      <td>361286884</td>\n",
       "      <td>2023-04-04 07:25:35.317293</td>\n",
       "    </tr>\n",
       "  </tbody>\n",
       "</table>\n",
       "<p>720 rows × 4 columns</p>\n",
       "</div>"
      ],
      "text/plain": [
       "                          func_name  freq_bins  exec_time  \\\n",
       "1                   planck_function        100     208184   \n",
       "2                   planck_function        100     202050   \n",
       "3                   planck_function        100     199585   \n",
       "4                   planck_function        100     199211   \n",
       "5                   planck_function        100     195442   \n",
       "..                              ...        ...        ...   \n",
       "751  planck_function_numba_parallel  500000000  354042509   \n",
       "752  planck_function_numba_parallel  500000000  355629337   \n",
       "753  planck_function_numba_parallel  500000000  356430878   \n",
       "754  planck_function_numba_parallel  500000000  352838236   \n",
       "755  planck_function_numba_parallel  500000000  361286884   \n",
       "\n",
       "                          date  \n",
       "1   2023-04-04 07:09:58.723738  \n",
       "2   2023-04-04 07:09:59.110049  \n",
       "3   2023-04-04 07:09:59.499166  \n",
       "4   2023-04-04 07:09:59.882488  \n",
       "5   2023-04-04 07:10:00.272671  \n",
       "..                         ...  \n",
       "751 2023-04-04 07:25:25.692522  \n",
       "752 2023-04-04 07:25:28.070407  \n",
       "753 2023-04-04 07:25:30.476551  \n",
       "754 2023-04-04 07:25:32.888985  \n",
       "755 2023-04-04 07:25:35.317293  \n",
       "\n",
       "[720 rows x 4 columns]"
      ]
     },
     "execution_count": 13,
     "metadata": {},
     "output_type": "execute_result"
    }
   ],
   "source": [
    "groupby = raw_time_data.groupby(\n",
    "    [\n",
    "        \"func_name\",\n",
    "        \"freq_bins\",\n",
    "    ]\n",
    ")\n",
    "first_indices = groupby.apply(lambda df: df[\"date\"].idxmin())\n",
    "raw_time_data_dropfirst = raw_time_data.drop(first_indices)\n",
    "\n",
    "groupby_dropfirst = raw_time_data_dropfirst.groupby(\n",
    "    [\n",
    "        \"func_name\",\n",
    "        \"freq_bins\",\n",
    "    ]\n",
    ")\n",
    "\n",
    "raw_time_data_dropfirst"
   ]
  },
  {
   "cell_type": "code",
   "execution_count": 14,
   "id": "04878fd6",
   "metadata": {},
   "outputs": [
    {
     "data": {
      "text/html": [
       "<div>\n",
       "<style scoped>\n",
       "    .dataframe tbody tr th:only-of-type {\n",
       "        vertical-align: middle;\n",
       "    }\n",
       "\n",
       "    .dataframe tbody tr th {\n",
       "        vertical-align: top;\n",
       "    }\n",
       "\n",
       "    .dataframe thead th {\n",
       "        text-align: right;\n",
       "    }\n",
       "</style>\n",
       "<table border=\"1\" class=\"dataframe\">\n",
       "  <thead>\n",
       "    <tr style=\"text-align: right;\">\n",
       "      <th></th>\n",
       "      <th></th>\n",
       "      <th>mean</th>\n",
       "      <th>std</th>\n",
       "      <th>mean_dropfirst</th>\n",
       "      <th>std_dropfirst</th>\n",
       "      <th>first_exec</th>\n",
       "    </tr>\n",
       "    <tr>\n",
       "      <th>func_name</th>\n",
       "      <th>freq_bins</th>\n",
       "      <th></th>\n",
       "      <th></th>\n",
       "      <th></th>\n",
       "      <th></th>\n",
       "      <th></th>\n",
       "    </tr>\n",
       "  </thead>\n",
       "  <tbody>\n",
       "    <tr>\n",
       "      <th rowspan=\"12\" valign=\"top\">planck_function</th>\n",
       "      <th>100</th>\n",
       "      <td>2.089401e+05</td>\n",
       "      <td>8.345014e+03</td>\n",
       "      <td>2.088382e+05</td>\n",
       "      <td>8.548403e+03</td>\n",
       "      <td>210977</td>\n",
       "    </tr>\n",
       "    <tr>\n",
       "      <th>200</th>\n",
       "      <td>2.219919e+05</td>\n",
       "      <td>1.400145e+04</td>\n",
       "      <td>2.223530e+05</td>\n",
       "      <td>1.426454e+04</td>\n",
       "      <td>214771</td>\n",
       "    </tr>\n",
       "    <tr>\n",
       "      <th>500</th>\n",
       "      <td>2.153352e+05</td>\n",
       "      <td>1.553610e+04</td>\n",
       "      <td>2.150374e+05</td>\n",
       "      <td>1.587809e+04</td>\n",
       "      <td>221291</td>\n",
       "    </tr>\n",
       "    <tr>\n",
       "      <th>10000</th>\n",
       "      <td>3.614630e+05</td>\n",
       "      <td>1.619681e+04</td>\n",
       "      <td>3.623427e+05</td>\n",
       "      <td>1.609457e+04</td>\n",
       "      <td>343868</td>\n",
       "    </tr>\n",
       "    <tr>\n",
       "      <th>20000</th>\n",
       "      <td>5.050430e+05</td>\n",
       "      <td>2.224926e+04</td>\n",
       "      <td>5.034702e+05</td>\n",
       "      <td>2.159642e+04</td>\n",
       "      <td>536498</td>\n",
       "    </tr>\n",
       "    <tr>\n",
       "      <th>50000</th>\n",
       "      <td>8.948903e+05</td>\n",
       "      <td>4.107651e+04</td>\n",
       "      <td>8.934693e+05</td>\n",
       "      <td>4.161073e+04</td>\n",
       "      <td>923309</td>\n",
       "    </tr>\n",
       "    <tr>\n",
       "      <th>1000000</th>\n",
       "      <td>1.524321e+07</td>\n",
       "      <td>2.778140e+05</td>\n",
       "      <td>1.522142e+07</td>\n",
       "      <td>2.659927e+05</td>\n",
       "      <td>15678903</td>\n",
       "    </tr>\n",
       "    <tr>\n",
       "      <th>2000000</th>\n",
       "      <td>3.270982e+07</td>\n",
       "      <td>4.543150e+05</td>\n",
       "      <td>3.262577e+07</td>\n",
       "      <td>2.472496e+05</td>\n",
       "      <td>34390669</td>\n",
       "    </tr>\n",
       "    <tr>\n",
       "      <th>5000000</th>\n",
       "      <td>1.042536e+08</td>\n",
       "      <td>7.132793e+05</td>\n",
       "      <td>1.042255e+08</td>\n",
       "      <td>7.197923e+05</td>\n",
       "      <td>104815382</td>\n",
       "    </tr>\n",
       "    <tr>\n",
       "      <th>100000000</th>\n",
       "      <td>2.094014e+09</td>\n",
       "      <td>3.900115e+07</td>\n",
       "      <td>2.095766e+09</td>\n",
       "      <td>3.915681e+07</td>\n",
       "      <td>2058963598</td>\n",
       "    </tr>\n",
       "    <tr>\n",
       "      <th>200000000</th>\n",
       "      <td>4.281956e+09</td>\n",
       "      <td>5.744035e+06</td>\n",
       "      <td>4.281807e+09</td>\n",
       "      <td>5.851472e+06</td>\n",
       "      <td>4284936105</td>\n",
       "    </tr>\n",
       "    <tr>\n",
       "      <th>500000000</th>\n",
       "      <td>1.071471e+10</td>\n",
       "      <td>1.253278e+07</td>\n",
       "      <td>1.071630e+10</td>\n",
       "      <td>1.043509e+07</td>\n",
       "      <td>10682746301</td>\n",
       "    </tr>\n",
       "    <tr>\n",
       "      <th rowspan=\"12\" valign=\"top\">planck_function_numba</th>\n",
       "      <th>100</th>\n",
       "      <td>1.217778e+07</td>\n",
       "      <td>5.578367e+07</td>\n",
       "      <td>4.781300e+03</td>\n",
       "      <td>1.020266e+03</td>\n",
       "      <td>255637693</td>\n",
       "    </tr>\n",
       "    <tr>\n",
       "      <th>200</th>\n",
       "      <td>5.611333e+03</td>\n",
       "      <td>2.916469e+02</td>\n",
       "      <td>5.613750e+03</td>\n",
       "      <td>2.990076e+02</td>\n",
       "      <td>5563</td>\n",
       "    </tr>\n",
       "    <tr>\n",
       "      <th>500</th>\n",
       "      <td>8.500952e+03</td>\n",
       "      <td>5.265087e+02</td>\n",
       "      <td>8.513950e+03</td>\n",
       "      <td>5.367188e+02</td>\n",
       "      <td>8241</td>\n",
       "    </tr>\n",
       "    <tr>\n",
       "      <th>10000</th>\n",
       "      <td>5.327224e+04</td>\n",
       "      <td>1.541107e+03</td>\n",
       "      <td>5.333040e+04</td>\n",
       "      <td>1.557316e+03</td>\n",
       "      <td>52109</td>\n",
       "    </tr>\n",
       "    <tr>\n",
       "      <th>20000</th>\n",
       "      <td>1.002810e+05</td>\n",
       "      <td>1.181691e+04</td>\n",
       "      <td>1.004256e+05</td>\n",
       "      <td>1.210482e+04</td>\n",
       "      <td>97389</td>\n",
       "    </tr>\n",
       "    <tr>\n",
       "      <th>50000</th>\n",
       "      <td>2.221766e+05</td>\n",
       "      <td>1.244879e+04</td>\n",
       "      <td>2.223405e+05</td>\n",
       "      <td>1.274892e+04</td>\n",
       "      <td>218898</td>\n",
       "    </tr>\n",
       "    <tr>\n",
       "      <th>1000000</th>\n",
       "      <td>3.679832e+06</td>\n",
       "      <td>3.610734e+05</td>\n",
       "      <td>3.603124e+06</td>\n",
       "      <td>8.465446e+04</td>\n",
       "      <td>5213989</td>\n",
       "    </tr>\n",
       "    <tr>\n",
       "      <th>2000000</th>\n",
       "      <td>9.988749e+06</td>\n",
       "      <td>6.818436e+04</td>\n",
       "      <td>9.990645e+06</td>\n",
       "      <td>6.938504e+04</td>\n",
       "      <td>9950817</td>\n",
       "    </tr>\n",
       "    <tr>\n",
       "      <th>5000000</th>\n",
       "      <td>2.521947e+07</td>\n",
       "      <td>6.100574e+05</td>\n",
       "      <td>2.522871e+07</td>\n",
       "      <td>6.243976e+05</td>\n",
       "      <td>25034754</td>\n",
       "    </tr>\n",
       "    <tr>\n",
       "      <th>100000000</th>\n",
       "      <td>5.354822e+08</td>\n",
       "      <td>1.378828e+06</td>\n",
       "      <td>5.354765e+08</td>\n",
       "      <td>1.414392e+06</td>\n",
       "      <td>535596577</td>\n",
       "    </tr>\n",
       "    <tr>\n",
       "      <th>200000000</th>\n",
       "      <td>1.052890e+09</td>\n",
       "      <td>3.822765e+07</td>\n",
       "      <td>1.051851e+09</td>\n",
       "      <td>3.891527e+07</td>\n",
       "      <td>1073672386</td>\n",
       "    </tr>\n",
       "    <tr>\n",
       "      <th>500000000</th>\n",
       "      <td>2.541669e+09</td>\n",
       "      <td>1.082419e+08</td>\n",
       "      <td>2.534029e+09</td>\n",
       "      <td>1.050835e+08</td>\n",
       "      <td>2694478185</td>\n",
       "    </tr>\n",
       "    <tr>\n",
       "      <th rowspan=\"12\" valign=\"top\">planck_function_numba_parallel</th>\n",
       "      <th>100</th>\n",
       "      <td>1.264823e+07</td>\n",
       "      <td>5.514377e+07</td>\n",
       "      <td>6.181878e+05</td>\n",
       "      <td>1.327277e+06</td>\n",
       "      <td>253249143</td>\n",
       "    </tr>\n",
       "    <tr>\n",
       "      <th>200</th>\n",
       "      <td>9.330121e+05</td>\n",
       "      <td>1.365461e+06</td>\n",
       "      <td>9.713796e+05</td>\n",
       "      <td>1.389271e+06</td>\n",
       "      <td>165664</td>\n",
       "    </tr>\n",
       "    <tr>\n",
       "      <th>500</th>\n",
       "      <td>5.321570e+05</td>\n",
       "      <td>1.013402e+06</td>\n",
       "      <td>5.497639e+05</td>\n",
       "      <td>1.036427e+06</td>\n",
       "      <td>180018</td>\n",
       "    </tr>\n",
       "    <tr>\n",
       "      <th>10000</th>\n",
       "      <td>4.055943e+05</td>\n",
       "      <td>6.717973e+05</td>\n",
       "      <td>4.149975e+05</td>\n",
       "      <td>6.878302e+05</td>\n",
       "      <td>217529</td>\n",
       "    </tr>\n",
       "    <tr>\n",
       "      <th>20000</th>\n",
       "      <td>9.046976e+05</td>\n",
       "      <td>1.563006e+06</td>\n",
       "      <td>9.403151e+05</td>\n",
       "      <td>1.594843e+06</td>\n",
       "      <td>192348</td>\n",
       "    </tr>\n",
       "    <tr>\n",
       "      <th>50000</th>\n",
       "      <td>1.024476e+06</td>\n",
       "      <td>1.374767e+06</td>\n",
       "      <td>1.063937e+06</td>\n",
       "      <td>1.398226e+06</td>\n",
       "      <td>235262</td>\n",
       "    </tr>\n",
       "    <tr>\n",
       "      <th>1000000</th>\n",
       "      <td>8.857355e+05</td>\n",
       "      <td>8.253898e+05</td>\n",
       "      <td>7.286652e+05</td>\n",
       "      <td>4.144434e+05</td>\n",
       "      <td>4027143</td>\n",
       "    </tr>\n",
       "    <tr>\n",
       "      <th>2000000</th>\n",
       "      <td>2.141693e+06</td>\n",
       "      <td>1.872862e+06</td>\n",
       "      <td>2.180736e+06</td>\n",
       "      <td>1.912728e+06</td>\n",
       "      <td>1360833</td>\n",
       "    </tr>\n",
       "    <tr>\n",
       "      <th>5000000</th>\n",
       "      <td>3.729982e+06</td>\n",
       "      <td>7.103000e+05</td>\n",
       "      <td>3.748318e+06</td>\n",
       "      <td>7.236355e+05</td>\n",
       "      <td>3363269</td>\n",
       "    </tr>\n",
       "    <tr>\n",
       "      <th>100000000</th>\n",
       "      <td>6.730864e+07</td>\n",
       "      <td>9.782653e+05</td>\n",
       "      <td>6.723619e+07</td>\n",
       "      <td>9.440993e+05</td>\n",
       "      <td>68757750</td>\n",
       "    </tr>\n",
       "    <tr>\n",
       "      <th>200000000</th>\n",
       "      <td>1.371451e+08</td>\n",
       "      <td>6.263032e+06</td>\n",
       "      <td>1.370734e+08</td>\n",
       "      <td>6.416892e+06</td>\n",
       "      <td>138578659</td>\n",
       "    </tr>\n",
       "    <tr>\n",
       "      <th>500000000</th>\n",
       "      <td>3.542897e+08</td>\n",
       "      <td>3.288381e+06</td>\n",
       "      <td>3.543712e+08</td>\n",
       "      <td>3.351931e+06</td>\n",
       "      <td>352657948</td>\n",
       "    </tr>\n",
       "  </tbody>\n",
       "</table>\n",
       "</div>"
      ],
      "text/plain": [
       "                                                  mean           std  \\\n",
       "func_name                      freq_bins                               \n",
       "planck_function                100        2.089401e+05  8.345014e+03   \n",
       "                               200        2.219919e+05  1.400145e+04   \n",
       "                               500        2.153352e+05  1.553610e+04   \n",
       "                               10000      3.614630e+05  1.619681e+04   \n",
       "                               20000      5.050430e+05  2.224926e+04   \n",
       "                               50000      8.948903e+05  4.107651e+04   \n",
       "                               1000000    1.524321e+07  2.778140e+05   \n",
       "                               2000000    3.270982e+07  4.543150e+05   \n",
       "                               5000000    1.042536e+08  7.132793e+05   \n",
       "                               100000000  2.094014e+09  3.900115e+07   \n",
       "                               200000000  4.281956e+09  5.744035e+06   \n",
       "                               500000000  1.071471e+10  1.253278e+07   \n",
       "planck_function_numba          100        1.217778e+07  5.578367e+07   \n",
       "                               200        5.611333e+03  2.916469e+02   \n",
       "                               500        8.500952e+03  5.265087e+02   \n",
       "                               10000      5.327224e+04  1.541107e+03   \n",
       "                               20000      1.002810e+05  1.181691e+04   \n",
       "                               50000      2.221766e+05  1.244879e+04   \n",
       "                               1000000    3.679832e+06  3.610734e+05   \n",
       "                               2000000    9.988749e+06  6.818436e+04   \n",
       "                               5000000    2.521947e+07  6.100574e+05   \n",
       "                               100000000  5.354822e+08  1.378828e+06   \n",
       "                               200000000  1.052890e+09  3.822765e+07   \n",
       "                               500000000  2.541669e+09  1.082419e+08   \n",
       "planck_function_numba_parallel 100        1.264823e+07  5.514377e+07   \n",
       "                               200        9.330121e+05  1.365461e+06   \n",
       "                               500        5.321570e+05  1.013402e+06   \n",
       "                               10000      4.055943e+05  6.717973e+05   \n",
       "                               20000      9.046976e+05  1.563006e+06   \n",
       "                               50000      1.024476e+06  1.374767e+06   \n",
       "                               1000000    8.857355e+05  8.253898e+05   \n",
       "                               2000000    2.141693e+06  1.872862e+06   \n",
       "                               5000000    3.729982e+06  7.103000e+05   \n",
       "                               100000000  6.730864e+07  9.782653e+05   \n",
       "                               200000000  1.371451e+08  6.263032e+06   \n",
       "                               500000000  3.542897e+08  3.288381e+06   \n",
       "\n",
       "                                          mean_dropfirst  std_dropfirst  \\\n",
       "func_name                      freq_bins                                  \n",
       "planck_function                100          2.088382e+05   8.548403e+03   \n",
       "                               200          2.223530e+05   1.426454e+04   \n",
       "                               500          2.150374e+05   1.587809e+04   \n",
       "                               10000        3.623427e+05   1.609457e+04   \n",
       "                               20000        5.034702e+05   2.159642e+04   \n",
       "                               50000        8.934693e+05   4.161073e+04   \n",
       "                               1000000      1.522142e+07   2.659927e+05   \n",
       "                               2000000      3.262577e+07   2.472496e+05   \n",
       "                               5000000      1.042255e+08   7.197923e+05   \n",
       "                               100000000    2.095766e+09   3.915681e+07   \n",
       "                               200000000    4.281807e+09   5.851472e+06   \n",
       "                               500000000    1.071630e+10   1.043509e+07   \n",
       "planck_function_numba          100          4.781300e+03   1.020266e+03   \n",
       "                               200          5.613750e+03   2.990076e+02   \n",
       "                               500          8.513950e+03   5.367188e+02   \n",
       "                               10000        5.333040e+04   1.557316e+03   \n",
       "                               20000        1.004256e+05   1.210482e+04   \n",
       "                               50000        2.223405e+05   1.274892e+04   \n",
       "                               1000000      3.603124e+06   8.465446e+04   \n",
       "                               2000000      9.990645e+06   6.938504e+04   \n",
       "                               5000000      2.522871e+07   6.243976e+05   \n",
       "                               100000000    5.354765e+08   1.414392e+06   \n",
       "                               200000000    1.051851e+09   3.891527e+07   \n",
       "                               500000000    2.534029e+09   1.050835e+08   \n",
       "planck_function_numba_parallel 100          6.181878e+05   1.327277e+06   \n",
       "                               200          9.713796e+05   1.389271e+06   \n",
       "                               500          5.497639e+05   1.036427e+06   \n",
       "                               10000        4.149975e+05   6.878302e+05   \n",
       "                               20000        9.403151e+05   1.594843e+06   \n",
       "                               50000        1.063937e+06   1.398226e+06   \n",
       "                               1000000      7.286652e+05   4.144434e+05   \n",
       "                               2000000      2.180736e+06   1.912728e+06   \n",
       "                               5000000      3.748318e+06   7.236355e+05   \n",
       "                               100000000    6.723619e+07   9.440993e+05   \n",
       "                               200000000    1.370734e+08   6.416892e+06   \n",
       "                               500000000    3.543712e+08   3.351931e+06   \n",
       "\n",
       "                                           first_exec  \n",
       "func_name                      freq_bins               \n",
       "planck_function                100             210977  \n",
       "                               200             214771  \n",
       "                               500             221291  \n",
       "                               10000           343868  \n",
       "                               20000           536498  \n",
       "                               50000           923309  \n",
       "                               1000000       15678903  \n",
       "                               2000000       34390669  \n",
       "                               5000000      104815382  \n",
       "                               100000000   2058963598  \n",
       "                               200000000   4284936105  \n",
       "                               500000000  10682746301  \n",
       "planck_function_numba          100          255637693  \n",
       "                               200               5563  \n",
       "                               500               8241  \n",
       "                               10000            52109  \n",
       "                               20000            97389  \n",
       "                               50000           218898  \n",
       "                               1000000        5213989  \n",
       "                               2000000        9950817  \n",
       "                               5000000       25034754  \n",
       "                               100000000    535596577  \n",
       "                               200000000   1073672386  \n",
       "                               500000000   2694478185  \n",
       "planck_function_numba_parallel 100          253249143  \n",
       "                               200             165664  \n",
       "                               500             180018  \n",
       "                               10000           217529  \n",
       "                               20000           192348  \n",
       "                               50000           235262  \n",
       "                               1000000        4027143  \n",
       "                               2000000        1360833  \n",
       "                               5000000        3363269  \n",
       "                               100000000     68757750  \n",
       "                               200000000    138578659  \n",
       "                               500000000    352657948  "
      ]
     },
     "execution_count": 14,
     "metadata": {},
     "output_type": "execute_result"
    }
   ],
   "source": [
    "time_data_estimators = pd.concat(\n",
    "    [\n",
    "        groupby.mean().rename(columns={raw_time_data.columns[2]: \"mean\"}),\n",
    "        groupby.std().rename(columns={raw_time_data.columns[2]: \"std\"}),\n",
    "        groupby_dropfirst.mean().rename(\n",
    "            columns={raw_time_data.columns[2]: \"mean_dropfirst\"}\n",
    "        ),\n",
    "        groupby_dropfirst.std().rename(\n",
    "            columns={raw_time_data.columns[2]: \"std_dropfirst\"}\n",
    "        ),\n",
    "        groupby.apply(\n",
    "            lambda df: df.loc[df[\"date\"].idxmin()][\"exec_time\"]\n",
    "        ).rename(\"first_exec\"),\n",
    "    ],\n",
    "    axis=1,\n",
    ")\n",
    "\n",
    "time_data_estimators"
   ]
  },
  {
   "cell_type": "markdown",
   "id": "a26c03d9",
   "metadata": {},
   "source": [
    "### Calculating Sample Size\n",
    "\n",
    "Below, we use the formula on [page 8 of these notes](www.mit.edu/~kircher/sim.pdf#section.1.2) to calculate how many more samples we need to collect to be confident that $\\mathbb P \\left ( \\left | \\bar \\theta_n - \\theta \\right | \\leq \\epsilon \\right ) \\geq 1 - \\alpha$ where $\\theta$ is the true theoretical mean and $\\bar \\theta_n$ is our Monte Carlo estimator. \n",
    "\n",
    "The first iteration of each trial is when the JIT happens, so the execution distribution is not the same as the distribution for subsequent iterations of the same type. Therefore, since our formula includes an i.i.d. assumption, we calculate the number of further iterations excluding the first one. \n",
    "\n",
    "For practical purposes, we also set a maximum iteration count."
   ]
  },
  {
   "cell_type": "code",
   "execution_count": 15,
   "id": "6e3afccf",
   "metadata": {},
   "outputs": [
    {
     "data": {
      "text/html": [
       "<div>\n",
       "<style scoped>\n",
       "    .dataframe tbody tr th:only-of-type {\n",
       "        vertical-align: middle;\n",
       "    }\n",
       "\n",
       "    .dataframe tbody tr th {\n",
       "        vertical-align: top;\n",
       "    }\n",
       "\n",
       "    .dataframe thead th {\n",
       "        text-align: right;\n",
       "    }\n",
       "</style>\n",
       "<table border=\"1\" class=\"dataframe\">\n",
       "  <thead>\n",
       "    <tr style=\"text-align: right;\">\n",
       "      <th></th>\n",
       "      <th></th>\n",
       "      <th>mean</th>\n",
       "      <th>std</th>\n",
       "      <th>mean_dropfirst</th>\n",
       "      <th>std_dropfirst</th>\n",
       "      <th>first_exec</th>\n",
       "      <th>N_montecarlo</th>\n",
       "    </tr>\n",
       "    <tr>\n",
       "      <th>func_name</th>\n",
       "      <th>freq_bins</th>\n",
       "      <th></th>\n",
       "      <th></th>\n",
       "      <th></th>\n",
       "      <th></th>\n",
       "      <th></th>\n",
       "      <th></th>\n",
       "    </tr>\n",
       "  </thead>\n",
       "  <tbody>\n",
       "    <tr>\n",
       "      <th rowspan=\"12\" valign=\"top\">planck_function</th>\n",
       "      <th>100</th>\n",
       "      <td>2.089401e+05</td>\n",
       "      <td>8.345014e+03</td>\n",
       "      <td>2.088382e+05</td>\n",
       "      <td>8.548403e+03</td>\n",
       "      <td>210977</td>\n",
       "      <td>1</td>\n",
       "    </tr>\n",
       "    <tr>\n",
       "      <th>200</th>\n",
       "      <td>2.219919e+05</td>\n",
       "      <td>1.400145e+04</td>\n",
       "      <td>2.223530e+05</td>\n",
       "      <td>1.426454e+04</td>\n",
       "      <td>214771</td>\n",
       "      <td>1</td>\n",
       "    </tr>\n",
       "    <tr>\n",
       "      <th>500</th>\n",
       "      <td>2.153352e+05</td>\n",
       "      <td>1.553610e+04</td>\n",
       "      <td>2.150374e+05</td>\n",
       "      <td>1.587809e+04</td>\n",
       "      <td>221291</td>\n",
       "      <td>1</td>\n",
       "    </tr>\n",
       "    <tr>\n",
       "      <th>10000</th>\n",
       "      <td>3.614630e+05</td>\n",
       "      <td>1.619681e+04</td>\n",
       "      <td>3.623427e+05</td>\n",
       "      <td>1.609457e+04</td>\n",
       "      <td>343868</td>\n",
       "      <td>1</td>\n",
       "    </tr>\n",
       "    <tr>\n",
       "      <th>20000</th>\n",
       "      <td>5.050430e+05</td>\n",
       "      <td>2.224926e+04</td>\n",
       "      <td>5.034702e+05</td>\n",
       "      <td>2.159642e+04</td>\n",
       "      <td>536498</td>\n",
       "      <td>1</td>\n",
       "    </tr>\n",
       "    <tr>\n",
       "      <th>50000</th>\n",
       "      <td>8.948903e+05</td>\n",
       "      <td>4.107651e+04</td>\n",
       "      <td>8.934693e+05</td>\n",
       "      <td>4.161073e+04</td>\n",
       "      <td>923309</td>\n",
       "      <td>2</td>\n",
       "    </tr>\n",
       "    <tr>\n",
       "      <th>1000000</th>\n",
       "      <td>1.524321e+07</td>\n",
       "      <td>2.778140e+05</td>\n",
       "      <td>1.522142e+07</td>\n",
       "      <td>2.659927e+05</td>\n",
       "      <td>15678903</td>\n",
       "      <td>20</td>\n",
       "    </tr>\n",
       "    <tr>\n",
       "      <th>2000000</th>\n",
       "      <td>3.270982e+07</td>\n",
       "      <td>4.543150e+05</td>\n",
       "      <td>3.262577e+07</td>\n",
       "      <td>2.472496e+05</td>\n",
       "      <td>34390669</td>\n",
       "      <td>20</td>\n",
       "    </tr>\n",
       "    <tr>\n",
       "      <th>5000000</th>\n",
       "      <td>1.042536e+08</td>\n",
       "      <td>7.132793e+05</td>\n",
       "      <td>1.042255e+08</td>\n",
       "      <td>7.197923e+05</td>\n",
       "      <td>104815382</td>\n",
       "      <td>20</td>\n",
       "    </tr>\n",
       "    <tr>\n",
       "      <th>100000000</th>\n",
       "      <td>2.094014e+09</td>\n",
       "      <td>3.900115e+07</td>\n",
       "      <td>2.095766e+09</td>\n",
       "      <td>3.915681e+07</td>\n",
       "      <td>2058963598</td>\n",
       "      <td>20</td>\n",
       "    </tr>\n",
       "    <tr>\n",
       "      <th>200000000</th>\n",
       "      <td>4.281956e+09</td>\n",
       "      <td>5.744035e+06</td>\n",
       "      <td>4.281807e+09</td>\n",
       "      <td>5.851472e+06</td>\n",
       "      <td>4284936105</td>\n",
       "      <td>20</td>\n",
       "    </tr>\n",
       "    <tr>\n",
       "      <th>500000000</th>\n",
       "      <td>1.071471e+10</td>\n",
       "      <td>1.253278e+07</td>\n",
       "      <td>1.071630e+10</td>\n",
       "      <td>1.043509e+07</td>\n",
       "      <td>10682746301</td>\n",
       "      <td>20</td>\n",
       "    </tr>\n",
       "    <tr>\n",
       "      <th rowspan=\"12\" valign=\"top\">planck_function_numba</th>\n",
       "      <th>100</th>\n",
       "      <td>1.217778e+07</td>\n",
       "      <td>5.578367e+07</td>\n",
       "      <td>4.781300e+03</td>\n",
       "      <td>1.020266e+03</td>\n",
       "      <td>255637693</td>\n",
       "      <td>1</td>\n",
       "    </tr>\n",
       "    <tr>\n",
       "      <th>200</th>\n",
       "      <td>5.611333e+03</td>\n",
       "      <td>2.916469e+02</td>\n",
       "      <td>5.613750e+03</td>\n",
       "      <td>2.990076e+02</td>\n",
       "      <td>5563</td>\n",
       "      <td>1</td>\n",
       "    </tr>\n",
       "    <tr>\n",
       "      <th>500</th>\n",
       "      <td>8.500952e+03</td>\n",
       "      <td>5.265087e+02</td>\n",
       "      <td>8.513950e+03</td>\n",
       "      <td>5.367188e+02</td>\n",
       "      <td>8241</td>\n",
       "      <td>1</td>\n",
       "    </tr>\n",
       "    <tr>\n",
       "      <th>10000</th>\n",
       "      <td>5.327224e+04</td>\n",
       "      <td>1.541107e+03</td>\n",
       "      <td>5.333040e+04</td>\n",
       "      <td>1.557316e+03</td>\n",
       "      <td>52109</td>\n",
       "      <td>1</td>\n",
       "    </tr>\n",
       "    <tr>\n",
       "      <th>20000</th>\n",
       "      <td>1.002810e+05</td>\n",
       "      <td>1.181691e+04</td>\n",
       "      <td>1.004256e+05</td>\n",
       "      <td>1.210482e+04</td>\n",
       "      <td>97389</td>\n",
       "      <td>1</td>\n",
       "    </tr>\n",
       "    <tr>\n",
       "      <th>50000</th>\n",
       "      <td>2.221766e+05</td>\n",
       "      <td>1.244879e+04</td>\n",
       "      <td>2.223405e+05</td>\n",
       "      <td>1.274892e+04</td>\n",
       "      <td>218898</td>\n",
       "      <td>1</td>\n",
       "    </tr>\n",
       "    <tr>\n",
       "      <th>1000000</th>\n",
       "      <td>3.679832e+06</td>\n",
       "      <td>3.610734e+05</td>\n",
       "      <td>3.603124e+06</td>\n",
       "      <td>8.465446e+04</td>\n",
       "      <td>5213989</td>\n",
       "      <td>5</td>\n",
       "    </tr>\n",
       "    <tr>\n",
       "      <th>2000000</th>\n",
       "      <td>9.988749e+06</td>\n",
       "      <td>6.818436e+04</td>\n",
       "      <td>9.990645e+06</td>\n",
       "      <td>6.938504e+04</td>\n",
       "      <td>9950817</td>\n",
       "      <td>4</td>\n",
       "    </tr>\n",
       "    <tr>\n",
       "      <th>5000000</th>\n",
       "      <td>2.521947e+07</td>\n",
       "      <td>6.100574e+05</td>\n",
       "      <td>2.522871e+07</td>\n",
       "      <td>6.243976e+05</td>\n",
       "      <td>25034754</td>\n",
       "      <td>20</td>\n",
       "    </tr>\n",
       "    <tr>\n",
       "      <th>100000000</th>\n",
       "      <td>5.354822e+08</td>\n",
       "      <td>1.378828e+06</td>\n",
       "      <td>5.354765e+08</td>\n",
       "      <td>1.414392e+06</td>\n",
       "      <td>535596577</td>\n",
       "      <td>20</td>\n",
       "    </tr>\n",
       "    <tr>\n",
       "      <th>200000000</th>\n",
       "      <td>1.052890e+09</td>\n",
       "      <td>3.822765e+07</td>\n",
       "      <td>1.051851e+09</td>\n",
       "      <td>3.891527e+07</td>\n",
       "      <td>1073672386</td>\n",
       "      <td>20</td>\n",
       "    </tr>\n",
       "    <tr>\n",
       "      <th>500000000</th>\n",
       "      <td>2.541669e+09</td>\n",
       "      <td>1.082419e+08</td>\n",
       "      <td>2.534029e+09</td>\n",
       "      <td>1.050835e+08</td>\n",
       "      <td>2694478185</td>\n",
       "      <td>20</td>\n",
       "    </tr>\n",
       "    <tr>\n",
       "      <th rowspan=\"12\" valign=\"top\">planck_function_numba_parallel</th>\n",
       "      <th>100</th>\n",
       "      <td>1.264823e+07</td>\n",
       "      <td>5.514377e+07</td>\n",
       "      <td>6.181878e+05</td>\n",
       "      <td>1.327277e+06</td>\n",
       "      <td>253249143</td>\n",
       "      <td>20</td>\n",
       "    </tr>\n",
       "    <tr>\n",
       "      <th>200</th>\n",
       "      <td>9.330121e+05</td>\n",
       "      <td>1.365461e+06</td>\n",
       "      <td>9.713796e+05</td>\n",
       "      <td>1.389271e+06</td>\n",
       "      <td>165664</td>\n",
       "      <td>20</td>\n",
       "    </tr>\n",
       "    <tr>\n",
       "      <th>500</th>\n",
       "      <td>5.321570e+05</td>\n",
       "      <td>1.013402e+06</td>\n",
       "      <td>5.497639e+05</td>\n",
       "      <td>1.036427e+06</td>\n",
       "      <td>180018</td>\n",
       "      <td>20</td>\n",
       "    </tr>\n",
       "    <tr>\n",
       "      <th>10000</th>\n",
       "      <td>4.055943e+05</td>\n",
       "      <td>6.717973e+05</td>\n",
       "      <td>4.149975e+05</td>\n",
       "      <td>6.878302e+05</td>\n",
       "      <td>217529</td>\n",
       "      <td>20</td>\n",
       "    </tr>\n",
       "    <tr>\n",
       "      <th>20000</th>\n",
       "      <td>9.046976e+05</td>\n",
       "      <td>1.563006e+06</td>\n",
       "      <td>9.403151e+05</td>\n",
       "      <td>1.594843e+06</td>\n",
       "      <td>192348</td>\n",
       "      <td>20</td>\n",
       "    </tr>\n",
       "    <tr>\n",
       "      <th>50000</th>\n",
       "      <td>1.024476e+06</td>\n",
       "      <td>1.374767e+06</td>\n",
       "      <td>1.063937e+06</td>\n",
       "      <td>1.398226e+06</td>\n",
       "      <td>235262</td>\n",
       "      <td>20</td>\n",
       "    </tr>\n",
       "    <tr>\n",
       "      <th>1000000</th>\n",
       "      <td>8.857355e+05</td>\n",
       "      <td>8.253898e+05</td>\n",
       "      <td>7.286652e+05</td>\n",
       "      <td>4.144434e+05</td>\n",
       "      <td>4027143</td>\n",
       "      <td>20</td>\n",
       "    </tr>\n",
       "    <tr>\n",
       "      <th>2000000</th>\n",
       "      <td>2.141693e+06</td>\n",
       "      <td>1.872862e+06</td>\n",
       "      <td>2.180736e+06</td>\n",
       "      <td>1.912728e+06</td>\n",
       "      <td>1360833</td>\n",
       "      <td>20</td>\n",
       "    </tr>\n",
       "    <tr>\n",
       "      <th>5000000</th>\n",
       "      <td>3.729982e+06</td>\n",
       "      <td>7.103000e+05</td>\n",
       "      <td>3.748318e+06</td>\n",
       "      <td>7.236355e+05</td>\n",
       "      <td>3363269</td>\n",
       "      <td>20</td>\n",
       "    </tr>\n",
       "    <tr>\n",
       "      <th>100000000</th>\n",
       "      <td>6.730864e+07</td>\n",
       "      <td>9.782653e+05</td>\n",
       "      <td>6.723619e+07</td>\n",
       "      <td>9.440993e+05</td>\n",
       "      <td>68757750</td>\n",
       "      <td>20</td>\n",
       "    </tr>\n",
       "    <tr>\n",
       "      <th>200000000</th>\n",
       "      <td>1.371451e+08</td>\n",
       "      <td>6.263032e+06</td>\n",
       "      <td>1.370734e+08</td>\n",
       "      <td>6.416892e+06</td>\n",
       "      <td>138578659</td>\n",
       "      <td>20</td>\n",
       "    </tr>\n",
       "    <tr>\n",
       "      <th>500000000</th>\n",
       "      <td>3.542897e+08</td>\n",
       "      <td>3.288381e+06</td>\n",
       "      <td>3.543712e+08</td>\n",
       "      <td>3.351931e+06</td>\n",
       "      <td>352657948</td>\n",
       "      <td>20</td>\n",
       "    </tr>\n",
       "  </tbody>\n",
       "</table>\n",
       "</div>"
      ],
      "text/plain": [
       "                                                  mean           std  \\\n",
       "func_name                      freq_bins                               \n",
       "planck_function                100        2.089401e+05  8.345014e+03   \n",
       "                               200        2.219919e+05  1.400145e+04   \n",
       "                               500        2.153352e+05  1.553610e+04   \n",
       "                               10000      3.614630e+05  1.619681e+04   \n",
       "                               20000      5.050430e+05  2.224926e+04   \n",
       "                               50000      8.948903e+05  4.107651e+04   \n",
       "                               1000000    1.524321e+07  2.778140e+05   \n",
       "                               2000000    3.270982e+07  4.543150e+05   \n",
       "                               5000000    1.042536e+08  7.132793e+05   \n",
       "                               100000000  2.094014e+09  3.900115e+07   \n",
       "                               200000000  4.281956e+09  5.744035e+06   \n",
       "                               500000000  1.071471e+10  1.253278e+07   \n",
       "planck_function_numba          100        1.217778e+07  5.578367e+07   \n",
       "                               200        5.611333e+03  2.916469e+02   \n",
       "                               500        8.500952e+03  5.265087e+02   \n",
       "                               10000      5.327224e+04  1.541107e+03   \n",
       "                               20000      1.002810e+05  1.181691e+04   \n",
       "                               50000      2.221766e+05  1.244879e+04   \n",
       "                               1000000    3.679832e+06  3.610734e+05   \n",
       "                               2000000    9.988749e+06  6.818436e+04   \n",
       "                               5000000    2.521947e+07  6.100574e+05   \n",
       "                               100000000  5.354822e+08  1.378828e+06   \n",
       "                               200000000  1.052890e+09  3.822765e+07   \n",
       "                               500000000  2.541669e+09  1.082419e+08   \n",
       "planck_function_numba_parallel 100        1.264823e+07  5.514377e+07   \n",
       "                               200        9.330121e+05  1.365461e+06   \n",
       "                               500        5.321570e+05  1.013402e+06   \n",
       "                               10000      4.055943e+05  6.717973e+05   \n",
       "                               20000      9.046976e+05  1.563006e+06   \n",
       "                               50000      1.024476e+06  1.374767e+06   \n",
       "                               1000000    8.857355e+05  8.253898e+05   \n",
       "                               2000000    2.141693e+06  1.872862e+06   \n",
       "                               5000000    3.729982e+06  7.103000e+05   \n",
       "                               100000000  6.730864e+07  9.782653e+05   \n",
       "                               200000000  1.371451e+08  6.263032e+06   \n",
       "                               500000000  3.542897e+08  3.288381e+06   \n",
       "\n",
       "                                          mean_dropfirst  std_dropfirst  \\\n",
       "func_name                      freq_bins                                  \n",
       "planck_function                100          2.088382e+05   8.548403e+03   \n",
       "                               200          2.223530e+05   1.426454e+04   \n",
       "                               500          2.150374e+05   1.587809e+04   \n",
       "                               10000        3.623427e+05   1.609457e+04   \n",
       "                               20000        5.034702e+05   2.159642e+04   \n",
       "                               50000        8.934693e+05   4.161073e+04   \n",
       "                               1000000      1.522142e+07   2.659927e+05   \n",
       "                               2000000      3.262577e+07   2.472496e+05   \n",
       "                               5000000      1.042255e+08   7.197923e+05   \n",
       "                               100000000    2.095766e+09   3.915681e+07   \n",
       "                               200000000    4.281807e+09   5.851472e+06   \n",
       "                               500000000    1.071630e+10   1.043509e+07   \n",
       "planck_function_numba          100          4.781300e+03   1.020266e+03   \n",
       "                               200          5.613750e+03   2.990076e+02   \n",
       "                               500          8.513950e+03   5.367188e+02   \n",
       "                               10000        5.333040e+04   1.557316e+03   \n",
       "                               20000        1.004256e+05   1.210482e+04   \n",
       "                               50000        2.223405e+05   1.274892e+04   \n",
       "                               1000000      3.603124e+06   8.465446e+04   \n",
       "                               2000000      9.990645e+06   6.938504e+04   \n",
       "                               5000000      2.522871e+07   6.243976e+05   \n",
       "                               100000000    5.354765e+08   1.414392e+06   \n",
       "                               200000000    1.051851e+09   3.891527e+07   \n",
       "                               500000000    2.534029e+09   1.050835e+08   \n",
       "planck_function_numba_parallel 100          6.181878e+05   1.327277e+06   \n",
       "                               200          9.713796e+05   1.389271e+06   \n",
       "                               500          5.497639e+05   1.036427e+06   \n",
       "                               10000        4.149975e+05   6.878302e+05   \n",
       "                               20000        9.403151e+05   1.594843e+06   \n",
       "                               50000        1.063937e+06   1.398226e+06   \n",
       "                               1000000      7.286652e+05   4.144434e+05   \n",
       "                               2000000      2.180736e+06   1.912728e+06   \n",
       "                               5000000      3.748318e+06   7.236355e+05   \n",
       "                               100000000    6.723619e+07   9.440993e+05   \n",
       "                               200000000    1.370734e+08   6.416892e+06   \n",
       "                               500000000    3.543712e+08   3.351931e+06   \n",
       "\n",
       "                                           first_exec  N_montecarlo  \n",
       "func_name                      freq_bins                             \n",
       "planck_function                100             210977             1  \n",
       "                               200             214771             1  \n",
       "                               500             221291             1  \n",
       "                               10000           343868             1  \n",
       "                               20000           536498             1  \n",
       "                               50000           923309             2  \n",
       "                               1000000       15678903            20  \n",
       "                               2000000       34390669            20  \n",
       "                               5000000      104815382            20  \n",
       "                               100000000   2058963598            20  \n",
       "                               200000000   4284936105            20  \n",
       "                               500000000  10682746301            20  \n",
       "planck_function_numba          100          255637693             1  \n",
       "                               200               5563             1  \n",
       "                               500               8241             1  \n",
       "                               10000            52109             1  \n",
       "                               20000            97389             1  \n",
       "                               50000           218898             1  \n",
       "                               1000000        5213989             5  \n",
       "                               2000000        9950817             4  \n",
       "                               5000000       25034754            20  \n",
       "                               100000000    535596577            20  \n",
       "                               200000000   1073672386            20  \n",
       "                               500000000   2694478185            20  \n",
       "planck_function_numba_parallel 100          253249143            20  \n",
       "                               200             165664            20  \n",
       "                               500             180018            20  \n",
       "                               10000           217529            20  \n",
       "                               20000           192348            20  \n",
       "                               50000           235262            20  \n",
       "                               1000000        4027143            20  \n",
       "                               2000000        1360833            20  \n",
       "                               5000000        3363269            20  \n",
       "                               100000000     68757750            20  \n",
       "                               200000000    138578659            20  \n",
       "                               500000000    352657948            20  "
      ]
     },
     "execution_count": 15,
     "metadata": {},
     "output_type": "execute_result"
    }
   ],
   "source": [
    "confidence_level = 2e-1  # alpha\n",
    "error_tolerance = 5e4  # epsilon\n",
    "Nmax = calculation_counts[calculation_size][\"Nmax\"]\n",
    "z = stats.norm.ppf(1.0 - confidence_level / 2.0)\n",
    "\n",
    "time_data_estimators[\"N_montecarlo\"] = pd.to_numeric(\n",
    "    ((time_data_estimators[\"std_dropfirst\"] * z / error_tolerance) ** 2)\n",
    "    .apply(lambda x: np.minimum(x, Nmax))\n",
    "    .apply(np.ceil),\n",
    "    downcast=\"integer\",\n",
    ").rename(\"N_iterations\")\n",
    "\n",
    "time_data_estimators"
   ]
  },
  {
   "cell_type": "markdown",
   "id": "a8e1fed3",
   "metadata": {},
   "source": [
    "### Perform the second pass\n",
    "\n",
    "After calculating the number of further iterations needed for our chosen level of confidence, we perform the trials below and then recalculate the statistics."
   ]
  },
  {
   "cell_type": "code",
   "execution_count": 16,
   "id": "cb3a92dd",
   "metadata": {
    "scrolled": false
   },
   "outputs": [
    {
     "name": "stdout",
     "output_type": "stream",
     "text": [
      "Running 1 iteration of planck_function with 100 frequency bins...\n"
     ]
    },
    {
     "data": {
      "application/vnd.jupyter.widget-view+json": {
       "model_id": "7e8622d3dd6a48bd87bc147f3054631c",
       "version_major": 2,
       "version_minor": 0
      },
      "text/plain": [
       "  0%|          | 0/1 [00:00<?, ?it/s]"
      ]
     },
     "metadata": {},
     "output_type": "display_data"
    },
    {
     "name": "stdout",
     "output_type": "stream",
     "text": [
      "Running 1 iteration of planck_function with 200 frequency bins...\n"
     ]
    },
    {
     "data": {
      "application/vnd.jupyter.widget-view+json": {
       "model_id": "77c7ccdabdd14fc3a92ab8551451e799",
       "version_major": 2,
       "version_minor": 0
      },
      "text/plain": [
       "  0%|          | 0/1 [00:00<?, ?it/s]"
      ]
     },
     "metadata": {},
     "output_type": "display_data"
    },
    {
     "name": "stdout",
     "output_type": "stream",
     "text": [
      "Running 1 iteration of planck_function with 500 frequency bins...\n"
     ]
    },
    {
     "data": {
      "application/vnd.jupyter.widget-view+json": {
       "model_id": "db98edbc12e045bca32cbcd2095de52b",
       "version_major": 2,
       "version_minor": 0
      },
      "text/plain": [
       "  0%|          | 0/1 [00:00<?, ?it/s]"
      ]
     },
     "metadata": {},
     "output_type": "display_data"
    },
    {
     "name": "stdout",
     "output_type": "stream",
     "text": [
      "Running 1 iteration of planck_function with 10000 frequency bins...\n"
     ]
    },
    {
     "data": {
      "application/vnd.jupyter.widget-view+json": {
       "model_id": "6f66e8cabb24427eae26fdf780adac34",
       "version_major": 2,
       "version_minor": 0
      },
      "text/plain": [
       "  0%|          | 0/1 [00:00<?, ?it/s]"
      ]
     },
     "metadata": {},
     "output_type": "display_data"
    },
    {
     "name": "stdout",
     "output_type": "stream",
     "text": [
      "Running 1 iteration of planck_function with 20000 frequency bins...\n"
     ]
    },
    {
     "data": {
      "application/vnd.jupyter.widget-view+json": {
       "model_id": "3e567cd2e747406db44a02273ab77ea0",
       "version_major": 2,
       "version_minor": 0
      },
      "text/plain": [
       "  0%|          | 0/1 [00:00<?, ?it/s]"
      ]
     },
     "metadata": {},
     "output_type": "display_data"
    },
    {
     "name": "stdout",
     "output_type": "stream",
     "text": [
      "Running 2 iterations of planck_function with 50000 frequency bins...\n"
     ]
    },
    {
     "data": {
      "application/vnd.jupyter.widget-view+json": {
       "model_id": "b9033cddaad64ea8a676e1486ea237d2",
       "version_major": 2,
       "version_minor": 0
      },
      "text/plain": [
       "  0%|          | 0/2 [00:00<?, ?it/s]"
      ]
     },
     "metadata": {},
     "output_type": "display_data"
    },
    {
     "name": "stdout",
     "output_type": "stream",
     "text": [
      "Running 20 iterations of planck_function with 1000000 frequency bins...\n"
     ]
    },
    {
     "data": {
      "application/vnd.jupyter.widget-view+json": {
       "model_id": "0db7e196da514a089fc1610932704f7b",
       "version_major": 2,
       "version_minor": 0
      },
      "text/plain": [
       "  0%|          | 0/20 [00:00<?, ?it/s]"
      ]
     },
     "metadata": {},
     "output_type": "display_data"
    },
    {
     "name": "stdout",
     "output_type": "stream",
     "text": [
      "Running 20 iterations of planck_function with 2000000 frequency bins...\n"
     ]
    },
    {
     "data": {
      "application/vnd.jupyter.widget-view+json": {
       "model_id": "374cf2aba5274044b9c3786dd68afc54",
       "version_major": 2,
       "version_minor": 0
      },
      "text/plain": [
       "  0%|          | 0/20 [00:00<?, ?it/s]"
      ]
     },
     "metadata": {},
     "output_type": "display_data"
    },
    {
     "name": "stdout",
     "output_type": "stream",
     "text": [
      "Running 20 iterations of planck_function with 5000000 frequency bins...\n"
     ]
    },
    {
     "data": {
      "application/vnd.jupyter.widget-view+json": {
       "model_id": "c9a795e2eab647bf877a024b152654f3",
       "version_major": 2,
       "version_minor": 0
      },
      "text/plain": [
       "  0%|          | 0/20 [00:00<?, ?it/s]"
      ]
     },
     "metadata": {},
     "output_type": "display_data"
    },
    {
     "name": "stdout",
     "output_type": "stream",
     "text": [
      "Running 20 iterations of planck_function with 100000000 frequency bins...\n"
     ]
    },
    {
     "data": {
      "application/vnd.jupyter.widget-view+json": {
       "model_id": "bb4be496f87745ef8d2c1240ac1b7663",
       "version_major": 2,
       "version_minor": 0
      },
      "text/plain": [
       "  0%|          | 0/20 [00:00<?, ?it/s]"
      ]
     },
     "metadata": {},
     "output_type": "display_data"
    },
    {
     "name": "stdout",
     "output_type": "stream",
     "text": [
      "Running 20 iterations of planck_function with 200000000 frequency bins...\n"
     ]
    },
    {
     "data": {
      "application/vnd.jupyter.widget-view+json": {
       "model_id": "e14f174bff734064b0d4dca81462ffe1",
       "version_major": 2,
       "version_minor": 0
      },
      "text/plain": [
       "  0%|          | 0/20 [00:00<?, ?it/s]"
      ]
     },
     "metadata": {},
     "output_type": "display_data"
    },
    {
     "name": "stdout",
     "output_type": "stream",
     "text": [
      "Running 20 iterations of planck_function with 500000000 frequency bins...\n"
     ]
    },
    {
     "data": {
      "application/vnd.jupyter.widget-view+json": {
       "model_id": "9ec701be3737449d8bbb5fb39bb4c9ff",
       "version_major": 2,
       "version_minor": 0
      },
      "text/plain": [
       "  0%|          | 0/20 [00:00<?, ?it/s]"
      ]
     },
     "metadata": {},
     "output_type": "display_data"
    },
    {
     "name": "stdout",
     "output_type": "stream",
     "text": [
      "Running 1 iteration of planck_function_numba with 100 frequency bins...\n"
     ]
    },
    {
     "data": {
      "application/vnd.jupyter.widget-view+json": {
       "model_id": "587a594f8fe5421d8bc897033d610349",
       "version_major": 2,
       "version_minor": 0
      },
      "text/plain": [
       "  0%|          | 0/1 [00:00<?, ?it/s]"
      ]
     },
     "metadata": {},
     "output_type": "display_data"
    },
    {
     "name": "stdout",
     "output_type": "stream",
     "text": [
      "Running 1 iteration of planck_function_numba with 200 frequency bins...\n"
     ]
    },
    {
     "data": {
      "application/vnd.jupyter.widget-view+json": {
       "model_id": "5cab432a83854b838b89712d2947bf50",
       "version_major": 2,
       "version_minor": 0
      },
      "text/plain": [
       "  0%|          | 0/1 [00:00<?, ?it/s]"
      ]
     },
     "metadata": {},
     "output_type": "display_data"
    },
    {
     "name": "stdout",
     "output_type": "stream",
     "text": [
      "Running 1 iteration of planck_function_numba with 500 frequency bins...\n"
     ]
    },
    {
     "data": {
      "application/vnd.jupyter.widget-view+json": {
       "model_id": "e29ac9dfda21483b9a060484effaab7c",
       "version_major": 2,
       "version_minor": 0
      },
      "text/plain": [
       "  0%|          | 0/1 [00:00<?, ?it/s]"
      ]
     },
     "metadata": {},
     "output_type": "display_data"
    },
    {
     "name": "stdout",
     "output_type": "stream",
     "text": [
      "Running 1 iteration of planck_function_numba with 10000 frequency bins...\n"
     ]
    },
    {
     "data": {
      "application/vnd.jupyter.widget-view+json": {
       "model_id": "77f85bf63507406c89098c72b1b3eaad",
       "version_major": 2,
       "version_minor": 0
      },
      "text/plain": [
       "  0%|          | 0/1 [00:00<?, ?it/s]"
      ]
     },
     "metadata": {},
     "output_type": "display_data"
    },
    {
     "name": "stdout",
     "output_type": "stream",
     "text": [
      "Running 1 iteration of planck_function_numba with 20000 frequency bins...\n"
     ]
    },
    {
     "data": {
      "application/vnd.jupyter.widget-view+json": {
       "model_id": "2f326e0c246e42c9a7187c5cbc95d9ba",
       "version_major": 2,
       "version_minor": 0
      },
      "text/plain": [
       "  0%|          | 0/1 [00:00<?, ?it/s]"
      ]
     },
     "metadata": {},
     "output_type": "display_data"
    },
    {
     "name": "stdout",
     "output_type": "stream",
     "text": [
      "Running 1 iteration of planck_function_numba with 50000 frequency bins...\n"
     ]
    },
    {
     "data": {
      "application/vnd.jupyter.widget-view+json": {
       "model_id": "fd7a8bcc749043969097a2a36d7d08fb",
       "version_major": 2,
       "version_minor": 0
      },
      "text/plain": [
       "  0%|          | 0/1 [00:00<?, ?it/s]"
      ]
     },
     "metadata": {},
     "output_type": "display_data"
    },
    {
     "name": "stdout",
     "output_type": "stream",
     "text": [
      "Running 5 iterations of planck_function_numba with 1000000 frequency bins...\n"
     ]
    },
    {
     "data": {
      "application/vnd.jupyter.widget-view+json": {
       "model_id": "56ee1b08d10f45078977e0ecfc8ca3fa",
       "version_major": 2,
       "version_minor": 0
      },
      "text/plain": [
       "  0%|          | 0/5 [00:00<?, ?it/s]"
      ]
     },
     "metadata": {},
     "output_type": "display_data"
    },
    {
     "name": "stdout",
     "output_type": "stream",
     "text": [
      "Running 4 iterations of planck_function_numba with 2000000 frequency bins...\n"
     ]
    },
    {
     "data": {
      "application/vnd.jupyter.widget-view+json": {
       "model_id": "06b9c968ea294311ae4386ae8ef0d2ce",
       "version_major": 2,
       "version_minor": 0
      },
      "text/plain": [
       "  0%|          | 0/4 [00:00<?, ?it/s]"
      ]
     },
     "metadata": {},
     "output_type": "display_data"
    },
    {
     "name": "stdout",
     "output_type": "stream",
     "text": [
      "Running 20 iterations of planck_function_numba with 5000000 frequency bins...\n"
     ]
    },
    {
     "data": {
      "application/vnd.jupyter.widget-view+json": {
       "model_id": "7abdcc9e20e941f1b3435b7a04be093e",
       "version_major": 2,
       "version_minor": 0
      },
      "text/plain": [
       "  0%|          | 0/20 [00:00<?, ?it/s]"
      ]
     },
     "metadata": {},
     "output_type": "display_data"
    },
    {
     "name": "stdout",
     "output_type": "stream",
     "text": [
      "Running 20 iterations of planck_function_numba with 100000000 frequency bins...\n"
     ]
    },
    {
     "data": {
      "application/vnd.jupyter.widget-view+json": {
       "model_id": "9ab19c0ba0d64b0abde049f192e6b02a",
       "version_major": 2,
       "version_minor": 0
      },
      "text/plain": [
       "  0%|          | 0/20 [00:00<?, ?it/s]"
      ]
     },
     "metadata": {},
     "output_type": "display_data"
    },
    {
     "name": "stdout",
     "output_type": "stream",
     "text": [
      "Running 20 iterations of planck_function_numba with 200000000 frequency bins...\n"
     ]
    },
    {
     "data": {
      "application/vnd.jupyter.widget-view+json": {
       "model_id": "741e72aae76a43fc972930e96dbdfa16",
       "version_major": 2,
       "version_minor": 0
      },
      "text/plain": [
       "  0%|          | 0/20 [00:00<?, ?it/s]"
      ]
     },
     "metadata": {},
     "output_type": "display_data"
    },
    {
     "name": "stdout",
     "output_type": "stream",
     "text": [
      "Running 20 iterations of planck_function_numba with 500000000 frequency bins...\n"
     ]
    },
    {
     "data": {
      "application/vnd.jupyter.widget-view+json": {
       "model_id": "60f06dca06fd4ea5a7f0f68f55f46ab6",
       "version_major": 2,
       "version_minor": 0
      },
      "text/plain": [
       "  0%|          | 0/20 [00:00<?, ?it/s]"
      ]
     },
     "metadata": {},
     "output_type": "display_data"
    },
    {
     "name": "stdout",
     "output_type": "stream",
     "text": [
      "Running 20 iterations of planck_function_numba_parallel with 100 frequency bins...\n"
     ]
    },
    {
     "data": {
      "application/vnd.jupyter.widget-view+json": {
       "model_id": "33b14d62485a49dbbf1d66c11c1c679a",
       "version_major": 2,
       "version_minor": 0
      },
      "text/plain": [
       "  0%|          | 0/20 [00:00<?, ?it/s]"
      ]
     },
     "metadata": {},
     "output_type": "display_data"
    },
    {
     "name": "stdout",
     "output_type": "stream",
     "text": [
      "Running 20 iterations of planck_function_numba_parallel with 200 frequency bins...\n"
     ]
    },
    {
     "data": {
      "application/vnd.jupyter.widget-view+json": {
       "model_id": "f4baf5bba8774df49e1cbe16d71c0557",
       "version_major": 2,
       "version_minor": 0
      },
      "text/plain": [
       "  0%|          | 0/20 [00:00<?, ?it/s]"
      ]
     },
     "metadata": {},
     "output_type": "display_data"
    },
    {
     "name": "stdout",
     "output_type": "stream",
     "text": [
      "Running 20 iterations of planck_function_numba_parallel with 500 frequency bins...\n"
     ]
    },
    {
     "data": {
      "application/vnd.jupyter.widget-view+json": {
       "model_id": "908b61065d1b4c33a6f7bb23656006f1",
       "version_major": 2,
       "version_minor": 0
      },
      "text/plain": [
       "  0%|          | 0/20 [00:00<?, ?it/s]"
      ]
     },
     "metadata": {},
     "output_type": "display_data"
    },
    {
     "name": "stdout",
     "output_type": "stream",
     "text": [
      "Running 20 iterations of planck_function_numba_parallel with 10000 frequency bins...\n"
     ]
    },
    {
     "data": {
      "application/vnd.jupyter.widget-view+json": {
       "model_id": "7de934d4d5994a0da879b85a74d8e803",
       "version_major": 2,
       "version_minor": 0
      },
      "text/plain": [
       "  0%|          | 0/20 [00:00<?, ?it/s]"
      ]
     },
     "metadata": {},
     "output_type": "display_data"
    },
    {
     "name": "stdout",
     "output_type": "stream",
     "text": [
      "Running 20 iterations of planck_function_numba_parallel with 20000 frequency bins...\n"
     ]
    },
    {
     "data": {
      "application/vnd.jupyter.widget-view+json": {
       "model_id": "2c78c7e9aea74a67bc349e623e887447",
       "version_major": 2,
       "version_minor": 0
      },
      "text/plain": [
       "  0%|          | 0/20 [00:00<?, ?it/s]"
      ]
     },
     "metadata": {},
     "output_type": "display_data"
    },
    {
     "name": "stdout",
     "output_type": "stream",
     "text": [
      "Running 20 iterations of planck_function_numba_parallel with 50000 frequency bins...\n"
     ]
    },
    {
     "data": {
      "application/vnd.jupyter.widget-view+json": {
       "model_id": "f1f85c66737a485d8dfd31754b49c28d",
       "version_major": 2,
       "version_minor": 0
      },
      "text/plain": [
       "  0%|          | 0/20 [00:00<?, ?it/s]"
      ]
     },
     "metadata": {},
     "output_type": "display_data"
    },
    {
     "name": "stdout",
     "output_type": "stream",
     "text": [
      "Running 20 iterations of planck_function_numba_parallel with 1000000 frequency bins...\n"
     ]
    },
    {
     "data": {
      "application/vnd.jupyter.widget-view+json": {
       "model_id": "595bc40be0144a21a9688547756c1e4e",
       "version_major": 2,
       "version_minor": 0
      },
      "text/plain": [
       "  0%|          | 0/20 [00:00<?, ?it/s]"
      ]
     },
     "metadata": {},
     "output_type": "display_data"
    },
    {
     "name": "stdout",
     "output_type": "stream",
     "text": [
      "Running 20 iterations of planck_function_numba_parallel with 2000000 frequency bins...\n"
     ]
    },
    {
     "data": {
      "application/vnd.jupyter.widget-view+json": {
       "model_id": "cd60354690884968a05a83a1b883fbab",
       "version_major": 2,
       "version_minor": 0
      },
      "text/plain": [
       "  0%|          | 0/20 [00:00<?, ?it/s]"
      ]
     },
     "metadata": {},
     "output_type": "display_data"
    },
    {
     "name": "stdout",
     "output_type": "stream",
     "text": [
      "Running 20 iterations of planck_function_numba_parallel with 5000000 frequency bins...\n"
     ]
    },
    {
     "data": {
      "application/vnd.jupyter.widget-view+json": {
       "model_id": "1a49ce0f94c5486bbb4c0dc74b81cfde",
       "version_major": 2,
       "version_minor": 0
      },
      "text/plain": [
       "  0%|          | 0/20 [00:00<?, ?it/s]"
      ]
     },
     "metadata": {},
     "output_type": "display_data"
    },
    {
     "name": "stdout",
     "output_type": "stream",
     "text": [
      "Running 20 iterations of planck_function_numba_parallel with 100000000 frequency bins...\n"
     ]
    },
    {
     "data": {
      "application/vnd.jupyter.widget-view+json": {
       "model_id": "1d826fa4c976448284caf3a995b7950a",
       "version_major": 2,
       "version_minor": 0
      },
      "text/plain": [
       "  0%|          | 0/20 [00:00<?, ?it/s]"
      ]
     },
     "metadata": {},
     "output_type": "display_data"
    },
    {
     "name": "stdout",
     "output_type": "stream",
     "text": [
      "Running 20 iterations of planck_function_numba_parallel with 200000000 frequency bins...\n"
     ]
    },
    {
     "data": {
      "application/vnd.jupyter.widget-view+json": {
       "model_id": "cd5668751ad14c4c954f0f06847acb86",
       "version_major": 2,
       "version_minor": 0
      },
      "text/plain": [
       "  0%|          | 0/20 [00:00<?, ?it/s]"
      ]
     },
     "metadata": {},
     "output_type": "display_data"
    },
    {
     "name": "stdout",
     "output_type": "stream",
     "text": [
      "Running 20 iterations of planck_function_numba_parallel with 500000000 frequency bins...\n"
     ]
    },
    {
     "data": {
      "application/vnd.jupyter.widget-view+json": {
       "model_id": "ff3e5e316f1b4e0d99026b6acb04453b",
       "version_major": 2,
       "version_minor": 0
      },
      "text/plain": [
       "  0%|          | 0/20 [00:00<?, ?it/s]"
      ]
     },
     "metadata": {},
     "output_type": "display_data"
    }
   ],
   "source": [
    "for tup in time_data_estimators.itertuples():\n",
    "    func_name = tup.Index[0]\n",
    "    freq = tup.Index[1]\n",
    "    func = funcdict[func_name]\n",
    "    plural = \"s\" if tup.N_montecarlo > 1 else \"\"\n",
    "    tqdm.tqdm.write(\n",
    "        f\"Running {tup.N_montecarlo} iteration{plural} of {func_name} with {freq} frequency bins...\"\n",
    "    )\n",
    "    for n in tqdm.trange(tup.N_montecarlo):\n",
    "        tempdf = time_trial(\n",
    "            func,\n",
    "            func_name,\n",
    "            freq,\n",
    "        )\n",
    "        raw_time_data = pd.concat(\n",
    "            [\n",
    "                raw_time_data,\n",
    "                tempdf,\n",
    "            ],\n",
    "            ignore_index=True,\n",
    "        )"
   ]
  },
  {
   "cell_type": "code",
   "execution_count": 17,
   "id": "c2795835",
   "metadata": {},
   "outputs": [
    {
     "data": {
      "text/html": [
       "<div>\n",
       "<style scoped>\n",
       "    .dataframe tbody tr th:only-of-type {\n",
       "        vertical-align: middle;\n",
       "    }\n",
       "\n",
       "    .dataframe tbody tr th {\n",
       "        vertical-align: top;\n",
       "    }\n",
       "\n",
       "    .dataframe thead th {\n",
       "        text-align: right;\n",
       "    }\n",
       "</style>\n",
       "<table border=\"1\" class=\"dataframe\">\n",
       "  <thead>\n",
       "    <tr style=\"text-align: right;\">\n",
       "      <th></th>\n",
       "      <th></th>\n",
       "      <th>mean</th>\n",
       "      <th>std</th>\n",
       "      <th>mean_dropfirst</th>\n",
       "      <th>std_dropfirst</th>\n",
       "      <th>first_exec</th>\n",
       "      <th>N_montecarlo</th>\n",
       "    </tr>\n",
       "    <tr>\n",
       "      <th>func_name</th>\n",
       "      <th>freq_bins</th>\n",
       "      <th></th>\n",
       "      <th></th>\n",
       "      <th></th>\n",
       "      <th></th>\n",
       "      <th></th>\n",
       "      <th></th>\n",
       "    </tr>\n",
       "  </thead>\n",
       "  <tbody>\n",
       "    <tr>\n",
       "      <th rowspan=\"12\" valign=\"top\">planck_function</th>\n",
       "      <th>100</th>\n",
       "      <td>2.099483e+05</td>\n",
       "      <td>9.417239e+03</td>\n",
       "      <td>2.098993e+05</td>\n",
       "      <td>9.646925e+03</td>\n",
       "      <td>210977</td>\n",
       "      <td>1</td>\n",
       "    </tr>\n",
       "    <tr>\n",
       "      <th>200</th>\n",
       "      <td>2.219546e+05</td>\n",
       "      <td>1.366514e+04</td>\n",
       "      <td>2.222967e+05</td>\n",
       "      <td>1.390575e+04</td>\n",
       "      <td>214771</td>\n",
       "      <td>1</td>\n",
       "    </tr>\n",
       "    <tr>\n",
       "      <th>500</th>\n",
       "      <td>2.154720e+05</td>\n",
       "      <td>1.517526e+04</td>\n",
       "      <td>2.151950e+05</td>\n",
       "      <td>1.549288e+04</td>\n",
       "      <td>221291</td>\n",
       "      <td>1</td>\n",
       "    </tr>\n",
       "    <tr>\n",
       "      <th>10000</th>\n",
       "      <td>3.615297e+05</td>\n",
       "      <td>1.580957e+04</td>\n",
       "      <td>3.623707e+05</td>\n",
       "      <td>1.568758e+04</td>\n",
       "      <td>343868</td>\n",
       "      <td>1</td>\n",
       "    </tr>\n",
       "    <tr>\n",
       "      <th>20000</th>\n",
       "      <td>5.073474e+05</td>\n",
       "      <td>2.425456e+04</td>\n",
       "      <td>5.059592e+05</td>\n",
       "      <td>2.394132e+04</td>\n",
       "      <td>536498</td>\n",
       "      <td>1</td>\n",
       "    </tr>\n",
       "    <tr>\n",
       "      <th>50000</th>\n",
       "      <td>9.071697e+05</td>\n",
       "      <td>5.997881e+04</td>\n",
       "      <td>9.064361e+05</td>\n",
       "      <td>6.128456e+04</td>\n",
       "      <td>923309</td>\n",
       "      <td>3</td>\n",
       "    </tr>\n",
       "    <tr>\n",
       "      <th>1000000</th>\n",
       "      <td>1.549675e+07</td>\n",
       "      <td>5.046582e+05</td>\n",
       "      <td>1.549220e+07</td>\n",
       "      <td>5.102334e+05</td>\n",
       "      <td>15678903</td>\n",
       "      <td>20</td>\n",
       "    </tr>\n",
       "    <tr>\n",
       "      <th>2000000</th>\n",
       "      <td>3.291165e+07</td>\n",
       "      <td>5.119881e+05</td>\n",
       "      <td>3.287468e+07</td>\n",
       "      <td>4.597407e+05</td>\n",
       "      <td>34390669</td>\n",
       "      <td>20</td>\n",
       "    </tr>\n",
       "    <tr>\n",
       "      <th>5000000</th>\n",
       "      <td>1.037918e+08</td>\n",
       "      <td>7.549058e+05</td>\n",
       "      <td>1.037662e+08</td>\n",
       "      <td>7.462956e+05</td>\n",
       "      <td>104815382</td>\n",
       "      <td>20</td>\n",
       "    </tr>\n",
       "    <tr>\n",
       "      <th>100000000</th>\n",
       "      <td>2.118114e+09</td>\n",
       "      <td>4.429344e+07</td>\n",
       "      <td>2.119592e+09</td>\n",
       "      <td>4.382078e+07</td>\n",
       "      <td>2058963598</td>\n",
       "      <td>20</td>\n",
       "    </tr>\n",
       "    <tr>\n",
       "      <th>200000000</th>\n",
       "      <td>4.254665e+09</td>\n",
       "      <td>6.979146e+07</td>\n",
       "      <td>4.253908e+09</td>\n",
       "      <td>7.050999e+07</td>\n",
       "      <td>4284936105</td>\n",
       "      <td>20</td>\n",
       "    </tr>\n",
       "    <tr>\n",
       "      <th>500000000</th>\n",
       "      <td>1.060303e+10</td>\n",
       "      <td>1.901349e+08</td>\n",
       "      <td>1.060103e+10</td>\n",
       "      <td>1.921229e+08</td>\n",
       "      <td>10682746301</td>\n",
       "      <td>20</td>\n",
       "    </tr>\n",
       "    <tr>\n",
       "      <th rowspan=\"12\" valign=\"top\">planck_function_numba</th>\n",
       "      <th>100</th>\n",
       "      <td>1.162460e+07</td>\n",
       "      <td>5.450109e+07</td>\n",
       "      <td>4.930429e+03</td>\n",
       "      <td>1.206616e+03</td>\n",
       "      <td>255637693</td>\n",
       "      <td>1</td>\n",
       "    </tr>\n",
       "    <tr>\n",
       "      <th>200</th>\n",
       "      <td>5.662682e+03</td>\n",
       "      <td>3.728461e+02</td>\n",
       "      <td>5.667429e+03</td>\n",
       "      <td>3.813718e+02</td>\n",
       "      <td>5563</td>\n",
       "      <td>1</td>\n",
       "    </tr>\n",
       "    <tr>\n",
       "      <th>500</th>\n",
       "      <td>8.496955e+03</td>\n",
       "      <td>5.141620e+02</td>\n",
       "      <td>8.509143e+03</td>\n",
       "      <td>5.235924e+02</td>\n",
       "      <td>8241</td>\n",
       "      <td>1</td>\n",
       "    </tr>\n",
       "    <tr>\n",
       "      <th>10000</th>\n",
       "      <td>5.317677e+04</td>\n",
       "      <td>1.569208e+03</td>\n",
       "      <td>5.322762e+04</td>\n",
       "      <td>1.589281e+03</td>\n",
       "      <td>52109</td>\n",
       "      <td>1</td>\n",
       "    </tr>\n",
       "    <tr>\n",
       "      <th>20000</th>\n",
       "      <td>1.015833e+05</td>\n",
       "      <td>1.304980e+04</td>\n",
       "      <td>1.017830e+05</td>\n",
       "      <td>1.333757e+04</td>\n",
       "      <td>97389</td>\n",
       "      <td>1</td>\n",
       "    </tr>\n",
       "    <tr>\n",
       "      <th>50000</th>\n",
       "      <td>2.252345e+05</td>\n",
       "      <td>1.879662e+04</td>\n",
       "      <td>2.255363e+05</td>\n",
       "      <td>1.920613e+04</td>\n",
       "      <td>218898</td>\n",
       "      <td>1</td>\n",
       "    </tr>\n",
       "    <tr>\n",
       "      <th>1000000</th>\n",
       "      <td>3.719730e+06</td>\n",
       "      <td>4.134396e+05</td>\n",
       "      <td>3.659959e+06</td>\n",
       "      <td>2.851303e+05</td>\n",
       "      <td>5213989</td>\n",
       "      <td>20</td>\n",
       "    </tr>\n",
       "    <tr>\n",
       "      <th>2000000</th>\n",
       "      <td>1.003193e+07</td>\n",
       "      <td>1.558371e+05</td>\n",
       "      <td>1.003531e+07</td>\n",
       "      <td>1.582502e+05</td>\n",
       "      <td>9950817</td>\n",
       "      <td>17</td>\n",
       "    </tr>\n",
       "    <tr>\n",
       "      <th>5000000</th>\n",
       "      <td>2.546324e+07</td>\n",
       "      <td>6.382705e+05</td>\n",
       "      <td>2.547395e+07</td>\n",
       "      <td>6.426583e+05</td>\n",
       "      <td>25034754</td>\n",
       "      <td>20</td>\n",
       "    </tr>\n",
       "    <tr>\n",
       "      <th>100000000</th>\n",
       "      <td>5.178588e+08</td>\n",
       "      <td>2.497735e+07</td>\n",
       "      <td>5.174154e+08</td>\n",
       "      <td>2.513157e+07</td>\n",
       "      <td>535596577</td>\n",
       "      <td>20</td>\n",
       "    </tr>\n",
       "    <tr>\n",
       "      <th>200000000</th>\n",
       "      <td>1.022880e+09</td>\n",
       "      <td>4.386041e+07</td>\n",
       "      <td>1.021610e+09</td>\n",
       "      <td>4.364926e+07</td>\n",
       "      <td>1073672386</td>\n",
       "      <td>20</td>\n",
       "    </tr>\n",
       "    <tr>\n",
       "      <th>500000000</th>\n",
       "      <td>2.509930e+09</td>\n",
       "      <td>8.528249e+07</td>\n",
       "      <td>2.505317e+09</td>\n",
       "      <td>8.102147e+07</td>\n",
       "      <td>2694478185</td>\n",
       "      <td>20</td>\n",
       "    </tr>\n",
       "    <tr>\n",
       "      <th rowspan=\"12\" valign=\"top\">planck_function_numba_parallel</th>\n",
       "      <th>100</th>\n",
       "      <td>6.970768e+06</td>\n",
       "      <td>3.944712e+07</td>\n",
       "      <td>8.138085e+05</td>\n",
       "      <td>1.374174e+06</td>\n",
       "      <td>253249143</td>\n",
       "      <td>20</td>\n",
       "    </tr>\n",
       "    <tr>\n",
       "      <th>200</th>\n",
       "      <td>8.830720e+05</td>\n",
       "      <td>1.541754e+06</td>\n",
       "      <td>9.010072e+05</td>\n",
       "      <td>1.557058e+06</td>\n",
       "      <td>165664</td>\n",
       "      <td>20</td>\n",
       "    </tr>\n",
       "    <tr>\n",
       "      <th>500</th>\n",
       "      <td>6.689310e+05</td>\n",
       "      <td>1.270174e+06</td>\n",
       "      <td>6.811538e+05</td>\n",
       "      <td>1.283911e+06</td>\n",
       "      <td>180018</td>\n",
       "      <td>20</td>\n",
       "    </tr>\n",
       "    <tr>\n",
       "      <th>10000</th>\n",
       "      <td>5.323736e+05</td>\n",
       "      <td>9.029215e+05</td>\n",
       "      <td>5.402447e+05</td>\n",
       "      <td>9.129985e+05</td>\n",
       "      <td>217529</td>\n",
       "      <td>20</td>\n",
       "    </tr>\n",
       "    <tr>\n",
       "      <th>20000</th>\n",
       "      <td>5.737257e+05</td>\n",
       "      <td>1.159270e+06</td>\n",
       "      <td>5.832602e+05</td>\n",
       "      <td>1.172410e+06</td>\n",
       "      <td>192348</td>\n",
       "      <td>20</td>\n",
       "    </tr>\n",
       "    <tr>\n",
       "      <th>50000</th>\n",
       "      <td>6.247704e+05</td>\n",
       "      <td>1.056954e+06</td>\n",
       "      <td>6.345081e+05</td>\n",
       "      <td>1.068555e+06</td>\n",
       "      <td>235262</td>\n",
       "      <td>20</td>\n",
       "    </tr>\n",
       "    <tr>\n",
       "      <th>1000000</th>\n",
       "      <td>1.136400e+06</td>\n",
       "      <td>1.337593e+06</td>\n",
       "      <td>1.064132e+06</td>\n",
       "      <td>1.270987e+06</td>\n",
       "      <td>4027143</td>\n",
       "      <td>20</td>\n",
       "    </tr>\n",
       "    <tr>\n",
       "      <th>2000000</th>\n",
       "      <td>1.886528e+06</td>\n",
       "      <td>1.409757e+06</td>\n",
       "      <td>1.899670e+06</td>\n",
       "      <td>1.425171e+06</td>\n",
       "      <td>1360833</td>\n",
       "      <td>20</td>\n",
       "    </tr>\n",
       "    <tr>\n",
       "      <th>5000000</th>\n",
       "      <td>3.593027e+06</td>\n",
       "      <td>5.546411e+05</td>\n",
       "      <td>3.598771e+06</td>\n",
       "      <td>5.604705e+05</td>\n",
       "      <td>3363269</td>\n",
       "      <td>20</td>\n",
       "    </tr>\n",
       "    <tr>\n",
       "      <th>100000000</th>\n",
       "      <td>6.708492e+07</td>\n",
       "      <td>9.255103e+05</td>\n",
       "      <td>6.704310e+07</td>\n",
       "      <td>8.972099e+05</td>\n",
       "      <td>68757750</td>\n",
       "      <td>20</td>\n",
       "    </tr>\n",
       "    <tr>\n",
       "      <th>200000000</th>\n",
       "      <td>1.369887e+08</td>\n",
       "      <td>4.569053e+06</td>\n",
       "      <td>1.369489e+08</td>\n",
       "      <td>4.620075e+06</td>\n",
       "      <td>138578659</td>\n",
       "      <td>20</td>\n",
       "    </tr>\n",
       "    <tr>\n",
       "      <th>500000000</th>\n",
       "      <td>3.548376e+08</td>\n",
       "      <td>8.796051e+06</td>\n",
       "      <td>3.548921e+08</td>\n",
       "      <td>8.901096e+06</td>\n",
       "      <td>352657948</td>\n",
       "      <td>20</td>\n",
       "    </tr>\n",
       "  </tbody>\n",
       "</table>\n",
       "</div>"
      ],
      "text/plain": [
       "                                                  mean           std  \\\n",
       "func_name                      freq_bins                               \n",
       "planck_function                100        2.099483e+05  9.417239e+03   \n",
       "                               200        2.219546e+05  1.366514e+04   \n",
       "                               500        2.154720e+05  1.517526e+04   \n",
       "                               10000      3.615297e+05  1.580957e+04   \n",
       "                               20000      5.073474e+05  2.425456e+04   \n",
       "                               50000      9.071697e+05  5.997881e+04   \n",
       "                               1000000    1.549675e+07  5.046582e+05   \n",
       "                               2000000    3.291165e+07  5.119881e+05   \n",
       "                               5000000    1.037918e+08  7.549058e+05   \n",
       "                               100000000  2.118114e+09  4.429344e+07   \n",
       "                               200000000  4.254665e+09  6.979146e+07   \n",
       "                               500000000  1.060303e+10  1.901349e+08   \n",
       "planck_function_numba          100        1.162460e+07  5.450109e+07   \n",
       "                               200        5.662682e+03  3.728461e+02   \n",
       "                               500        8.496955e+03  5.141620e+02   \n",
       "                               10000      5.317677e+04  1.569208e+03   \n",
       "                               20000      1.015833e+05  1.304980e+04   \n",
       "                               50000      2.252345e+05  1.879662e+04   \n",
       "                               1000000    3.719730e+06  4.134396e+05   \n",
       "                               2000000    1.003193e+07  1.558371e+05   \n",
       "                               5000000    2.546324e+07  6.382705e+05   \n",
       "                               100000000  5.178588e+08  2.497735e+07   \n",
       "                               200000000  1.022880e+09  4.386041e+07   \n",
       "                               500000000  2.509930e+09  8.528249e+07   \n",
       "planck_function_numba_parallel 100        6.970768e+06  3.944712e+07   \n",
       "                               200        8.830720e+05  1.541754e+06   \n",
       "                               500        6.689310e+05  1.270174e+06   \n",
       "                               10000      5.323736e+05  9.029215e+05   \n",
       "                               20000      5.737257e+05  1.159270e+06   \n",
       "                               50000      6.247704e+05  1.056954e+06   \n",
       "                               1000000    1.136400e+06  1.337593e+06   \n",
       "                               2000000    1.886528e+06  1.409757e+06   \n",
       "                               5000000    3.593027e+06  5.546411e+05   \n",
       "                               100000000  6.708492e+07  9.255103e+05   \n",
       "                               200000000  1.369887e+08  4.569053e+06   \n",
       "                               500000000  3.548376e+08  8.796051e+06   \n",
       "\n",
       "                                          mean_dropfirst  std_dropfirst  \\\n",
       "func_name                      freq_bins                                  \n",
       "planck_function                100          2.098993e+05   9.646925e+03   \n",
       "                               200          2.222967e+05   1.390575e+04   \n",
       "                               500          2.151950e+05   1.549288e+04   \n",
       "                               10000        3.623707e+05   1.568758e+04   \n",
       "                               20000        5.059592e+05   2.394132e+04   \n",
       "                               50000        9.064361e+05   6.128456e+04   \n",
       "                               1000000      1.549220e+07   5.102334e+05   \n",
       "                               2000000      3.287468e+07   4.597407e+05   \n",
       "                               5000000      1.037662e+08   7.462956e+05   \n",
       "                               100000000    2.119592e+09   4.382078e+07   \n",
       "                               200000000    4.253908e+09   7.050999e+07   \n",
       "                               500000000    1.060103e+10   1.921229e+08   \n",
       "planck_function_numba          100          4.930429e+03   1.206616e+03   \n",
       "                               200          5.667429e+03   3.813718e+02   \n",
       "                               500          8.509143e+03   5.235924e+02   \n",
       "                               10000        5.322762e+04   1.589281e+03   \n",
       "                               20000        1.017830e+05   1.333757e+04   \n",
       "                               50000        2.255363e+05   1.920613e+04   \n",
       "                               1000000      3.659959e+06   2.851303e+05   \n",
       "                               2000000      1.003531e+07   1.582502e+05   \n",
       "                               5000000      2.547395e+07   6.426583e+05   \n",
       "                               100000000    5.174154e+08   2.513157e+07   \n",
       "                               200000000    1.021610e+09   4.364926e+07   \n",
       "                               500000000    2.505317e+09   8.102147e+07   \n",
       "planck_function_numba_parallel 100          8.138085e+05   1.374174e+06   \n",
       "                               200          9.010072e+05   1.557058e+06   \n",
       "                               500          6.811538e+05   1.283911e+06   \n",
       "                               10000        5.402447e+05   9.129985e+05   \n",
       "                               20000        5.832602e+05   1.172410e+06   \n",
       "                               50000        6.345081e+05   1.068555e+06   \n",
       "                               1000000      1.064132e+06   1.270987e+06   \n",
       "                               2000000      1.899670e+06   1.425171e+06   \n",
       "                               5000000      3.598771e+06   5.604705e+05   \n",
       "                               100000000    6.704310e+07   8.972099e+05   \n",
       "                               200000000    1.369489e+08   4.620075e+06   \n",
       "                               500000000    3.548921e+08   8.901096e+06   \n",
       "\n",
       "                                           first_exec  N_montecarlo  \n",
       "func_name                      freq_bins                             \n",
       "planck_function                100             210977             1  \n",
       "                               200             214771             1  \n",
       "                               500             221291             1  \n",
       "                               10000           343868             1  \n",
       "                               20000           536498             1  \n",
       "                               50000           923309             3  \n",
       "                               1000000       15678903            20  \n",
       "                               2000000       34390669            20  \n",
       "                               5000000      104815382            20  \n",
       "                               100000000   2058963598            20  \n",
       "                               200000000   4284936105            20  \n",
       "                               500000000  10682746301            20  \n",
       "planck_function_numba          100          255637693             1  \n",
       "                               200               5563             1  \n",
       "                               500               8241             1  \n",
       "                               10000            52109             1  \n",
       "                               20000            97389             1  \n",
       "                               50000           218898             1  \n",
       "                               1000000        5213989            20  \n",
       "                               2000000        9950817            17  \n",
       "                               5000000       25034754            20  \n",
       "                               100000000    535596577            20  \n",
       "                               200000000   1073672386            20  \n",
       "                               500000000   2694478185            20  \n",
       "planck_function_numba_parallel 100          253249143            20  \n",
       "                               200             165664            20  \n",
       "                               500             180018            20  \n",
       "                               10000           217529            20  \n",
       "                               20000           192348            20  \n",
       "                               50000           235262            20  \n",
       "                               1000000        4027143            20  \n",
       "                               2000000        1360833            20  \n",
       "                               5000000        3363269            20  \n",
       "                               100000000     68757750            20  \n",
       "                               200000000    138578659            20  \n",
       "                               500000000    352657948            20  "
      ]
     },
     "execution_count": 17,
     "metadata": {},
     "output_type": "execute_result"
    }
   ],
   "source": [
    "groupby = raw_time_data.groupby(\n",
    "    [\n",
    "        \"func_name\",\n",
    "        \"freq_bins\",\n",
    "    ]\n",
    ")\n",
    "\n",
    "raw_time_data_dropfirst = raw_time_data.drop(first_indices)\n",
    "\n",
    "groupby_dropfirst = raw_time_data_dropfirst.groupby(\n",
    "    [\n",
    "        \"func_name\",\n",
    "        \"freq_bins\",\n",
    "    ]\n",
    ")\n",
    "\n",
    "time_data_estimators[\"mean\"] = groupby.mean()\n",
    "time_data_estimators[\"std\"] = groupby.std()\n",
    "time_data_estimators[\"mean_dropfirst\"] = groupby_dropfirst.mean()\n",
    "time_data_estimators[\"std_dropfirst\"] = groupby_dropfirst.std()\n",
    "\n",
    "time_data_estimators[\"N_montecarlo\"] = pd.to_numeric(\n",
    "    ((time_data_estimators[\"std_dropfirst\"] * z / error_tolerance) ** 2)\n",
    "    .apply(lambda x: np.minimum(x, Nmax))\n",
    "    .apply(np.ceil),\n",
    "    downcast=\"integer\",\n",
    ").rename(\"N_iterations\")\n",
    "\n",
    "time_data_estimators"
   ]
  },
  {
   "cell_type": "code",
   "execution_count": 18,
   "id": "54bea127",
   "metadata": {},
   "outputs": [
    {
     "data": {
      "text/plain": [
       "<Figure size 1280x480 with 0 Axes>"
      ]
     },
     "metadata": {},
     "output_type": "display_data"
    },
    {
     "data": {
      "image/png": "[encoded data removed]",
      "text/plain": [
       "<Figure size 640x480 with 2 Axes>"
      ]
     },
     "metadata": {},
     "output_type": "display_data"
    }
   ],
   "source": [
    "markers = (\n",
    "    \"o\",\n",
    "    \"s\",\n",
    "    \"^\",\n",
    ")\n",
    "# Different markers to be color-blind friendly\n",
    "plot_metadata = [\n",
    "    {\n",
    "        \"name\": \"mean\",\n",
    "        \"print_title\": \"Mean with JIT iteration\",\n",
    "    },\n",
    "    {\n",
    "        \"name\": \"mean_dropfirst\",\n",
    "        \"print_title\": \"Mean without JIT iteration\",\n",
    "    },\n",
    "]\n",
    "\n",
    "plt.figure(\n",
    "    figsize=(\n",
    "        12.8,\n",
    "        4.8,\n",
    "    ),\n",
    ")\n",
    "\n",
    "fig, axs = plt.subplots(\n",
    "    nrows=1,\n",
    "    ncols=2,\n",
    "    sharex=True,\n",
    "    sharey=True,\n",
    ")\n",
    "\n",
    "\n",
    "for ax, plot_md in zip(axs.flat, plot_metadata):\n",
    "    for f, marker in zip(function_names, markers):\n",
    "        ax.loglog(\n",
    "            time_data_estimators.loc[f][plot_md[\"name\"]],\n",
    "            marker=marker,\n",
    "            label=f,\n",
    "        )\n",
    "        # loglog because of the range of values for freq_bin\n",
    "        ax.grid()\n",
    "        ax.set_xlabel(\"Frequency Bins\")\n",
    "        ax.set_ylabel(\"Average Elapsed Time (ns)\")\n",
    "        ax.set_title(plot_md[\"print_title\"])\n",
    "\n",
    "# idx_mask = np.zeros_like(raw_time_data[\"func_name\"], dtype=bool)\n",
    "# idx_mask[first_indices] = True\n",
    "\n",
    "\n",
    "# plt.title(\"Average Execution Times For JIT and non-JIT Implementations\")\n",
    "# fig.legend(function_names, loc=\"lower right\")\n",
    "fig.legend(\n",
    "    function_names,\n",
    "    bbox_to_anchor=(0, -0.05, 1.1, 0),\n",
    "    loc=\"lower center\",\n",
    "    mode=\"expand\",\n",
    "    ncol=3,\n",
    ")\n",
    "fig.tight_layout()\n",
    "fig.show()\n",
    "# plt.close()\n",
    "\n",
    "# This plot is done in matplotlib because that's what's already used here\n",
    "# and what's available currently installed. I could have done something\n",
    "# more elaborate, but I didn't want to mess with the virtual environment."
   ]
  },
  {
   "cell_type": "markdown",
   "id": "1166da72",
   "metadata": {},
   "source": [
    "We can clearly see above where the benefits of parallelization overcome the overhead, i.e. where the square and triangle marked curves cross."
   ]
  },
  {
   "cell_type": "markdown",
   "id": "836afe20",
   "metadata": {},
   "source": [
    "### First Numba Execution\n",
    "\n",
    "We see that both Numba implementations take exceptionally long for the first iteration. This is presumably because of the JIT compilation, but let's try to isolate that further. \n",
    "\n",
    "Below left is a plot of the execution time for the first time the function is run, when the Numba compilation happens. We see that the same first compilation of each function handles arrays of arbitrary sizes. "
   ]
  },
  {
   "cell_type": "code",
   "execution_count": 19,
   "id": "ca5025e6",
   "metadata": {},
   "outputs": [
    {
     "data": {
      "text/plain": [
       "<Figure size 2560x480 with 0 Axes>"
      ]
     },
     "metadata": {},
     "output_type": "display_data"
    },
    {
     "data": {
      "image/png": "[encoded data removed]",
      "text/plain": [
       "<Figure size 640x480 with 2 Axes>"
      ]
     },
     "metadata": {},
     "output_type": "display_data"
    }
   ],
   "source": [
    "plt.figure(\n",
    "    figsize=(\n",
    "        25.6,\n",
    "        4.8,\n",
    "    ),\n",
    ")\n",
    "\n",
    "fig, axs = plt.subplots(\n",
    "    nrows=1,\n",
    "    ncols=2,\n",
    "    sharex=True,\n",
    "    sharey=False,\n",
    ")\n",
    "\n",
    "\n",
    "plt.subplot(1, 2, 1)\n",
    "for f, marker in zip(function_names, markers):\n",
    "    plt.loglog(\n",
    "        time_data_estimators.loc[f][\"first_exec\"],\n",
    "        marker=marker,\n",
    "        label=f,\n",
    "    )\n",
    "    # loglog because of the range of values for freq_bin\n",
    "    plt.grid()\n",
    "    plt.xlabel(\"Frequency Bins\")\n",
    "    plt.ylabel(\"Elapsed Execution Time (ns)\")\n",
    "    plt.title(\"First Execution\")\n",
    "\n",
    "plt.subplot(1, 2, 2)\n",
    "for f, marker in zip(function_names, markers):\n",
    "    plt.loglog(\n",
    "        (\n",
    "            (\n",
    "                time_data_estimators.loc[f][plot_metadata[1][\"name\"]]\n",
    "                - time_data_estimators.loc[f][\"first_exec\"]\n",
    "            )\n",
    "            / time_data_estimators.loc[f][plot_metadata[1][\"name\"]]\n",
    "        ).abs(),\n",
    "        marker=marker,\n",
    "        label=f,\n",
    "    )\n",
    "    # loglog because of the range of values for freq_bin\n",
    "    plt.grid()\n",
    "    plt.xlabel(\"Frequency Bins\")\n",
    "    plt.ylabel(\"Percent Difference in Elapsed Time\")\n",
    "    plt.title(\"Percent Difference Between\\nFirst and Mean Execution Times\")\n",
    "\n",
    "fig.legend(\n",
    "    function_names,\n",
    "    bbox_to_anchor=(0, -0.05, 1.1, 0),\n",
    "    loc=\"lower center\",\n",
    "    mode=\"expand\",\n",
    "    ncol=3,\n",
    ")\n",
    "fig.tight_layout()\n",
    "plt.show()"
   ]
  },
  {
   "cell_type": "markdown",
   "id": "865854f2",
   "metadata": {},
   "source": [
    "Again, we see that the JIT compilation takes orders of magnitude longer than the execution itself for reasonably-sized arrays. The percent difference between the JIT step and all others is likewise very high. "
   ]
  }
 ],
 "metadata": {
  "celltoolbar": "Raw Cell Format",
  "kernelspec": {
   "display_name": "Python 3 (ipykernel)",
   "language": "python",
   "name": "python3"
  },
  "language_info": {
   "codemirror_mode": {
    "name": "ipython",
    "version": 3
   },
   "file_extension": ".py",
   "mimetype": "text/x-python",
   "name": "python",
   "nbconvert_exporter": "python",
   "pygments_lexer": "ipython3",
   "version": "3.8.16"
  }
 },
 "nbformat": 4,
 "nbformat_minor": 5
}
