{
 "cells": [
  {
   "cell_type": "markdown",
   "id": "6c0dbe0a",
   "metadata": {},
   "source": [
    "# Energy Packet Initialization\n",
    "\n",
    "## Theory\n",
    "\n",
    "While it is instructive to think about tracking the propagation history of\n",
    "individual photons when illustrating the basic idea behind Monte Carlo radiative transfer\n",
    "techniques, there are important numerical reasons for using a different\n",
    "discretization scheme. Instead of thinking in the photon picture, it brings\n",
    "significant advantages to follow the idea of <strong data-cite=\"Abbott1985\">[]</strong> and\n",
    "<strong data-cite=\"Lucy1999\">[]</strong> and consider parcels of radiant energy as the fundamental\n",
    "building blocks of the Monte Carlo calculation. These basic Monte Carlo quanta\n",
    "are commonly referred to as \"energy packets\" or simply \"packets\", and are composed of many photons with the same frequency.\n",
    "\n",
    "During a Monte Carlo calculation, $N$ (a large number) packets, all with a certain\n",
    "energy $\\varepsilon$, are created at the inner boundary of the computational domain (which is discussed in the [model section](../setup/model.rst)) known as the photosphere. Currently, the photosphere is modeled as a spherical [blackbody](https://en.wikipedia.org/wiki/Black-body_radiation) with a radius $r_\\mathrm{boundary\\_inner}$ and temperature $T_\\mathrm{inner}$. Both of these quantities are calculated as a part of the [model](../setup/model.ipynb), and $T_\\mathrm{inner}$ is additionally updated throughout the simulation as a part of the [Updating Plasma and Convergence](../update_and_conv/update_and_conv.ipynb) process.\n",
    "\n",
    "In TARDIS, all packets are assigned identical energies **in the lab frame** (see [Reference Frames](propagation.rst#reference-frames)), and the total (lab-frame) energy of the packets is 1 erg (and thus each packet has an energy of $\\frac{1}{N}$ ergs).\n",
    "\n",
    "<div class=\"alert alert-info\">\n",
    "    \n",
    "Note\n",
    "\n",
    "The indivisible energy packet scheme does not require that all packets have the same energy. This is just a convenient and simple choice adopted in TARDIS.\n",
    "\n",
    "</div>\n",
    "\n",
    "<div class=\"alert alert-info\">\n",
    "    \n",
    "Note\n",
    "\n",
    "Since all packets have the same total, and photon energy is proportional to frequency, higher-frequency packets will represent less real photons than lower-frequency packets.\n",
    "\n",
    "</div>\n",
    "\n",
    "Since the photosphere is modeled as a blackbody, its total luminosity $L_\\mathrm{inner}$ (recall that luminosity is energy emitted divided by the time in which it is emitted) is\n",
    "$$L_\\mathrm{inner}=\\frac{N\\varepsilon}{\\Delta t}=4 \\pi r_\\mathrm{boundary\\_inner}^2 \\sigma_{\\mathrm{R}} T_{\\mathrm{inner}}^4$$\n",
    "where $\\sigma_\\mathrm{R}$ is the Stefan-Boltzmann constant and $\\Delta t$ is the physical duration of the simulation. In order to make this relationship hold (remembering that $N\\varepsilon = 1$ erg), we use\n",
    "$$\\Delta t = \\frac{1}{L_\\mathrm{inner}}=\\frac{1}{4 \\pi r_\\mathrm{boundary\\_inner}^2 \\sigma_{\\mathrm{R}} T_{\\mathrm{inner}}^4}.$$\n",
    "\n",
    "<div class=\"alert alert-info\">\n",
    "    \n",
    "Note\n",
    "\n",
    "As will be shown in the code example, this will lead to unphysically small values for $\\Delta t$. It may be easier to think of the Monte Carlo packets not as packets of energy $\\epsilon$ going through a simulation of duration $\\Delta t$, but as packets of luminosity that carry an energy $\\epsilon$ over a time $\\Delta t$ (and thus truly being luminosity packets of luminosity $\\frac{\\epsilon}{\\Delta t}$). Indeed, this view of the packets will be useful when deriving the [Monte Carlo Estimators](estimators.rst).\n",
    "\n",
    "</div>\n",
    "\n",
    "During packet initialization, each packet is assigned an initial propagation direction $\\mu$ which is the cosine of the angle $\\theta$ which the packet's path makes with the radial direction (see the image below). Using a pseudo-random number generator which generates numbers $z$ uniformly distributed on the interval $[0,1]$, the propagation direction is determined (due to physical considerations beyond the scope of this documentation) according to\n",
    "$$\\mu = \\sqrt{z}.$$\n",
    "This sampling is shown in the \"Code Example\" section.\n",
    "\n",
    "<img src=\"../images/propagation_direction.png\" width=500>\n",
    "\n",
    "Finally, each packet is assigned an initial frequency (or more precisely, the initial frequency of its constituent photons). Note that since each packet has the same energy, each packet will represent a different number of real photons. The sampling on packet frequencies is more involved than that of the propagation direction, as it involves sampling the Planck distribution (see below). TARDIS uses the technique described in <strong data-cite=\"Carter1975\">[]</strong> and summarized in <strong data-cite=\"Bjorkman2001\">[]</strong> for this purpose.\n",
    "\n",
    "During the simulation, the energy of the packet remains constant in the local\n",
    "co-moving frame (see [Reference Frames](propagation.rst#reference-frames)). This naturally ensures energy\n",
    "conservation and constitutes the main advantage of this discretization scheme. **However, while the energy of the packets is conserved in the co-moving frame, the co-moving frequency of the packet (and thus the photons represented by the packet) may vary over the course of the simulation. Thus, a packet may represent several different numbers of real photons throughout their lifetimes.**\n",
    "\n",
    "## Code Example\n",
    "\n",
    "We now demonstrate the TARDIS packet initialization framework:"
   ]
  },
  {
   "cell_type": "code",
   "execution_count": 1,
   "id": "426325e5",
   "metadata": {},
   "outputs": [
    {
     "data": {
      "application/vnd.jupyter.widget-view+json": {
       "model_id": "",
       "version_major": 2,
       "version_minor": 0
      },
      "text/plain": [
       "Iterations:          0/? [00:00<?, ?it/s]"
      ]
     },
     "metadata": {},
     "output_type": "display_data"
    },
    {
     "data": {
      "application/vnd.jupyter.widget-view+json": {
       "model_id": "",
       "version_major": 2,
       "version_minor": 0
      },
      "text/plain": [
       "Packets:             0/? [00:00<?, ?it/s]"
      ]
     },
     "metadata": {},
     "output_type": "display_data"
    }
   ],
   "source": [
    "import numpy as np\n",
    "from tardis.montecarlo.packet_source import BlackBodySimpleSource\n",
    "from astropy import units as u\n",
    "from tardis import constants as const\n",
    "import matplotlib.pyplot as plt\n",
    "import numba\n",
    "import time\n",
    "import pandas as pd\n",
    "import itertools\n",
    "import tqdm.auto as tqdm\n",
    "import scipy.stats as stats\n",
    "\n",
    "\n",
    "# The random number generator that will be used\n",
    "rng = np.random.default_rng()"
   ]
  },
  {
   "cell_type": "markdown",
   "id": "4ae02998",
   "metadata": {},
   "source": [
    "The following cell contains values that you can change to see how it affects the spectrum (in an actual simulation, the seed and number of packets are set in the [Monte Carlo configuration](../../io/configuration/components/montecarlo.rst), and the photospheric radius is calculated as a part of the [model](../setup/model.ipynb)):"
   ]
  },
  {
   "cell_type": "code",
   "execution_count": 2,
   "id": "bc34bf33",
   "metadata": {},
   "outputs": [],
   "source": [
    "# Seed for the pseudo-random number generator\n",
    "seed = 1\n",
    "\n",
    "# Number of packets generated\n",
    "n_packets = 40000\n",
    "\n",
    "# Radius of the supernova's photosphere in cm\n",
    "r_boundary_inner = 1e15 * u.cm"
   ]
  },
  {
   "cell_type": "markdown",
   "id": "450faf76",
   "metadata": {},
   "source": [
    "We set the temperature of the photosphere $T_\\mathrm{inner}$, which will determine the photospheric luminosity (in an actual simulation, $T_\\mathrm{inner}$ is initially calculated as a part of the [model](../setup/model.ipynb) and updated as a part of the [Updating Plasma and Convergence](../update_and_conv/update_and_conv.ipynb) process):"
   ]
  },
  {
   "cell_type": "code",
   "execution_count": 3,
   "id": "3fb3ca8c",
   "metadata": {},
   "outputs": [
    {
     "name": "stdout",
     "output_type": "stream",
     "text": [
      "Luminosity of photosphere: 7.125600863965567e+42 erg / s\n"
     ]
    }
   ],
   "source": [
    "# Temperature in K\n",
    "temperature_inner = 10000 * u.K\n",
    "\n",
    "luminosity_inner = (\n",
    "    4\n",
    "    * np.pi\n",
    "    * (r_boundary_inner**2)\n",
    "    * const.sigma_sb\n",
    "    * (temperature_inner**4)\n",
    ")\n",
    "\n",
    "# Makes sure the luminosity is given in erg/s\n",
    "luminosity_inner = luminosity_inner.to(\"erg/s\")\n",
    "\n",
    "print(\n",
    "    \"Luminosity of photosphere:\",\n",
    "    luminosity_inner,\n",
    ")"
   ]
  },
  {
   "cell_type": "markdown",
   "id": "516633c5",
   "metadata": {},
   "source": [
    "We now generate the ensemble of packets. The array of packet energies and radii are also shown."
   ]
  },
  {
   "cell_type": "code",
   "execution_count": 4,
   "id": "925e9e1b",
   "metadata": {},
   "outputs": [
    {
     "name": "stdout",
     "output_type": "stream",
     "text": [
      "Energies: [2.5e-05 2.5e-05 2.5e-05 ... 2.5e-05 2.5e-05 2.5e-05] erg\n",
      "Radii: [1.e+15 1.e+15 1.e+15 ... 1.e+15 1.e+15 1.e+15] cm\n"
     ]
    }
   ],
   "source": [
    "# We define our packet source\n",
    "packet_source = BlackBodySimpleSource(seed)\n",
    "\n",
    "radii, nus, mus, energies = packet_source.create_packets(\n",
    "    temperature_inner.value,\n",
    "    n_packets,\n",
    "    rng,\n",
    "    r_boundary_inner,\n",
    ")\n",
    "\n",
    "# Sets the energies in units of ergs\n",
    "energies *= u.erg\n",
    "\n",
    "# Sets the frequencies in units of Hz\n",
    "nus *= u.Hz\n",
    "\n",
    "print(\n",
    "    \"Energies:\",\n",
    "    energies,\n",
    ")\n",
    "print(\n",
    "    \"Radii:\",\n",
    "    radii,\n",
    ")"
   ]
  },
  {
   "cell_type": "markdown",
   "id": "16936bce",
   "metadata": {},
   "source": [
    "We set the timespan of the simulation so that each packet contributes the appropriate luminosity to the spectrum."
   ]
  },
  {
   "cell_type": "code",
   "execution_count": 5,
   "id": "fed35f47",
   "metadata": {},
   "outputs": [
    {
     "name": "stdout",
     "output_type": "stream",
     "text": [
      "Time of simulation: 1.4033904215110305e-43 s\n",
      "Luminosity per packet: [1.78140022e+38 1.78140022e+38 1.78140022e+38 ... 1.78140022e+38\n",
      " 1.78140022e+38 1.78140022e+38] erg / s\n"
     ]
    }
   ],
   "source": [
    "# Time of simulation\n",
    "t_simulation = 1 * u.erg / luminosity_inner\n",
    "print(\n",
    "    \"Time of simulation:\",\n",
    "    t_simulation,\n",
    ")\n",
    "\n",
    "# Array of luminosity contribution by each packet\n",
    "lumin_per_packet = energies / t_simulation\n",
    "print(\n",
    "    \"Luminosity per packet:\",\n",
    "    lumin_per_packet,\n",
    ")"
   ]
  },
  {
   "cell_type": "markdown",
   "id": "0d839222",
   "metadata": {},
   "source": [
    "We define important constants, and for comparison's sake, we code the Planck distribution function\n",
    "$$L_\\nu (\\nu)=\\frac{8\\pi r_\\mathrm{boundary\\_inner}^2 h\\nu^3}{c^2}\\frac{1}{\\exp\\left(\\frac{h\\nu}{k_BT_\\mathrm{inner}}\\right)-1}$$\n",
    "where $L_\\nu$ is the luminosity density (see [Basic Spectrum Generation](../spectrum/basic.ipynb)) with respect to frequency, $\\nu$ is frequency, $h$ is Planck's constant, $c$ is the speed of light, and $k_B$ is Boltzmann's constant:"
   ]
  },
  {
   "cell_type": "code",
   "execution_count": 6,
   "id": "916a5e22",
   "metadata": {
    "scrolled": false
   },
   "outputs": [],
   "source": [
    "h = const.h.cgs\n",
    "c2 = const.c.cgs**2\n",
    "kB = const.k_B.cgs\n",
    "\n",
    "\n",
    "def planck_function(nu):\n",
    "    return (\n",
    "        8\n",
    "        * np.pi**2\n",
    "        * r_boundary_inner**2\n",
    "        * h\n",
    "        * nu**3\n",
    "        / (c2 * (np.exp(h * nu / (kB * temperature_inner)) - 1))\n",
    "    )"
   ]
  },
  {
   "cell_type": "markdown",
   "id": "78230177",
   "metadata": {},
   "source": [
    "We plot the Planck distribution and a histogram of the generated packet distribution:"
   ]
  },
  {
   "cell_type": "code",
   "execution_count": 7,
   "id": "913fcdbb",
   "metadata": {},
   "outputs": [
    {
     "data": {
      "image/png": "[encoded data removed]",
      "text/plain": [
       "<Figure size 640x480 with 1 Axes>"
      ]
     },
     "metadata": {},
     "output_type": "display_data"
    }
   ],
   "source": [
    "# We set important quantites for making our histogram\n",
    "bins = 200\n",
    "nus_planck = np.linspace(\n",
    "    min(nus),\n",
    "    max(nus),\n",
    "    bins,\n",
    ")\n",
    "bin_width = nus_planck[1] - nus_planck[0]\n",
    "\n",
    "# In the histogram plot below, the weights argument is used\n",
    "# to make sure our plotted spectrum has the correct y-axis scale\n",
    "plt.hist(\n",
    "    nus.value,\n",
    "    bins=bins,\n",
    "    weights=lumin_per_packet / bin_width,\n",
    ")\n",
    "\n",
    "# We plot the planck function for comparison\n",
    "# plt.plot(nus_planck, planck_function(nus_planck))\n",
    "plt.plot(\n",
    "    nus_planck,\n",
    "    planck_function(nus_planck),\n",
    ")\n",
    "\n",
    "plt.xlabel(\"Frequency (Hz)\")\n",
    "plt.ylabel(\"Luminosity density w.r.t. frequency (erg/s/Hz)\")\n",
    "plt.show()"
   ]
  },
  {
   "cell_type": "markdown",
   "id": "ad4f0f0e",
   "metadata": {},
   "source": [
    "We finally plot the generated $\\mu$ density distribution, followed by the generated $\\theta=\\arccos (\\mu)$ density distribution, compared with the respective curves $\\rho = 2\\mu$ and $\\rho = \\sin(2\\theta)$:"
   ]
  },
  {
   "cell_type": "code",
   "execution_count": 8,
   "id": "ae4c97de",
   "metadata": {},
   "outputs": [
    {
     "data": {
      "image/png": "[encoded data removed]",
      "text/plain": [
       "<Figure size 640x480 with 1 Axes>"
      ]
     },
     "metadata": {},
     "output_type": "display_data"
    }
   ],
   "source": [
    "x = np.linspace(0, 1, 1000)\n",
    "\n",
    "plt.hist(\n",
    "    mus,\n",
    "    bins=bins,\n",
    "    density=True,\n",
    ")\n",
    "plt.plot(\n",
    "    x,\n",
    "    2 * x,\n",
    ")\n",
    "plt.xlabel(\"Propagation direction\")\n",
    "plt.ylabel(\"Probability density\")\n",
    "plt.show()"
   ]
  },
  {
   "cell_type": "code",
   "execution_count": 9,
   "id": "41daa433",
   "metadata": {},
   "outputs": [
    {
     "data": {
      "image/png": "[encoded data removed]",
      "text/plain": [
       "<Figure size 640x480 with 1 Axes>"
      ]
     },
     "metadata": {},
     "output_type": "display_data"
    }
   ],
   "source": [
    "thetas = np.linspace(\n",
    "    0,\n",
    "    np.pi / 2,\n",
    "    1000,\n",
    ")\n",
    "\n",
    "plt.hist(\n",
    "    np.arccos(mus),\n",
    "    bins=bins,\n",
    "    density=True,\n",
    ")\n",
    "plt.plot(\n",
    "    thetas,\n",
    "    np.sin(2 * thetas),\n",
    ")\n",
    "plt.xlabel(\"Angle with normal (rad)\")\n",
    "plt.ylabel(\"Probability density\")\n",
    "plt.show()"
   ]
  },
  {
   "cell_type": "markdown",
   "id": "2f661592",
   "metadata": {},
   "source": [
    "## Custom Packet Source\n",
    "\n",
    "TARDIS allows for the user to input a custom function that generates energy packets instead of the basic blackbody source described here. See [Running TARDIS with a Custom Packet Source](../../io/optional/custom_source.ipynb) for more information."
   ]
  },
  {
   "cell_type": "markdown",
   "id": "efc2b03c",
   "metadata": {},
   "source": [
    "## Numba Implementation of Planck Function\n",
    "\n",
    "The remaining objective is to implement ```planck_function()``` using Numba and compare results to the non-Numba implementation. It is unclear a priori how many simulations should be run to give an accurate idea of what the average is. Here, the number of iterations for each time trial is chosen according to the process described in [section 1.3.2 of these notes](http://www.mit.edu/~kircher/sim.pdf#section.1.3). Plots of execution times are also included."
   ]
  },
  {
   "cell_type": "code",
   "execution_count": 10,
   "id": "eba811ec",
   "metadata": {},
   "outputs": [],
   "source": [
    "@numba.njit()\n",
    "def planck_function_numba(nu):\n",
    "    return (\n",
    "        8\n",
    "        * np.pi**2\n",
    "        * r_boundary_inner**2\n",
    "        * h\n",
    "        * nu**3\n",
    "        / (c2 * (np.exp(h * nu / (kB * temperature_inner)) - 1))\n",
    "    )\n",
    "\n",
    "\n",
    "@numba.njit(parallel=True)\n",
    "def planck_function_numba_parallel(nu):\n",
    "    return (\n",
    "        8\n",
    "        * np.pi**2\n",
    "        * r_boundary_inner**2\n",
    "        * h\n",
    "        * nu**3\n",
    "        / (c2 * (np.exp(h * nu / (kB * temperature_inner)) - 1))\n",
    "    )\n",
    "\n",
    "\n",
    "# _ = planck_function_numba(nus_planck)  # Force Numba compilation\n",
    "# _ = planck_function_numba_parallel(nus_planck)  # Force Numba compilation\n",
    "# Removed forced compilation per the suggestion of Isaac Smith"
   ]
  },
  {
   "cell_type": "markdown",
   "id": "29a5b09d",
   "metadata": {},
   "source": [
    "### Initial Pass of Time Trials\n",
    "\n",
    "Below is the first naive pass of simulations that will be used to calculate the number of remaining needed trials."
   ]
  },
  {
   "cell_type": "code",
   "execution_count": 11,
   "id": "e4793fd0",
   "metadata": {
    "scrolled": true
   },
   "outputs": [
    {
     "data": {
      "application/vnd.jupyter.widget-view+json": {
       "model_id": "16a442fc9a9b4463bf6405936a5da0a8",
       "version_major": 2,
       "version_minor": 0
      },
      "text/plain": [
       "  0%|          | 0/945 [00:00<?, ?it/s]"
      ]
     },
     "metadata": {},
     "output_type": "display_data"
    },
    {
     "data": {
      "text/html": [
       "<div>\n",
       "<style scoped>\n",
       "    .dataframe tbody tr th:only-of-type {\n",
       "        vertical-align: middle;\n",
       "    }\n",
       "\n",
       "    .dataframe tbody tr th {\n",
       "        vertical-align: top;\n",
       "    }\n",
       "\n",
       "    .dataframe thead th {\n",
       "        text-align: right;\n",
       "    }\n",
       "</style>\n",
       "<table border=\"1\" class=\"dataframe\">\n",
       "  <thead>\n",
       "    <tr style=\"text-align: right;\">\n",
       "      <th></th>\n",
       "      <th>func_name</th>\n",
       "      <th>freq_bins</th>\n",
       "      <th>exec_time</th>\n",
       "      <th>date</th>\n",
       "    </tr>\n",
       "  </thead>\n",
       "  <tbody>\n",
       "    <tr>\n",
       "      <th>0</th>\n",
       "      <td>planck_function</td>\n",
       "      <td>100</td>\n",
       "      <td>213391</td>\n",
       "      <td>2023-03-28 03:42:12.959461</td>\n",
       "    </tr>\n",
       "    <tr>\n",
       "      <th>1</th>\n",
       "      <td>planck_function</td>\n",
       "      <td>100</td>\n",
       "      <td>197751</td>\n",
       "      <td>2023-03-28 03:42:13.344491</td>\n",
       "    </tr>\n",
       "    <tr>\n",
       "      <th>2</th>\n",
       "      <td>planck_function</td>\n",
       "      <td>100</td>\n",
       "      <td>190916</td>\n",
       "      <td>2023-03-28 03:42:13.728755</td>\n",
       "    </tr>\n",
       "    <tr>\n",
       "      <th>3</th>\n",
       "      <td>planck_function</td>\n",
       "      <td>100</td>\n",
       "      <td>205912</td>\n",
       "      <td>2023-03-28 03:42:14.131188</td>\n",
       "    </tr>\n",
       "    <tr>\n",
       "      <th>4</th>\n",
       "      <td>planck_function</td>\n",
       "      <td>100</td>\n",
       "      <td>202407</td>\n",
       "      <td>2023-03-28 03:42:14.550284</td>\n",
       "    </tr>\n",
       "    <tr>\n",
       "      <th>...</th>\n",
       "      <td>...</td>\n",
       "      <td>...</td>\n",
       "      <td>...</td>\n",
       "      <td>...</td>\n",
       "    </tr>\n",
       "    <tr>\n",
       "      <th>940</th>\n",
       "      <td>planck_function_numba_parallel</td>\n",
       "      <td>5000000</td>\n",
       "      <td>3341131</td>\n",
       "      <td>2023-03-28 03:48:58.240592</td>\n",
       "    </tr>\n",
       "    <tr>\n",
       "      <th>941</th>\n",
       "      <td>planck_function_numba_parallel</td>\n",
       "      <td>5000000</td>\n",
       "      <td>3335607</td>\n",
       "      <td>2023-03-28 03:48:58.696920</td>\n",
       "    </tr>\n",
       "    <tr>\n",
       "      <th>942</th>\n",
       "      <td>planck_function_numba_parallel</td>\n",
       "      <td>5000000</td>\n",
       "      <td>4902065</td>\n",
       "      <td>2023-03-28 03:48:59.152000</td>\n",
       "    </tr>\n",
       "    <tr>\n",
       "      <th>943</th>\n",
       "      <td>planck_function_numba_parallel</td>\n",
       "      <td>5000000</td>\n",
       "      <td>3340394</td>\n",
       "      <td>2023-03-28 03:48:59.607083</td>\n",
       "    </tr>\n",
       "    <tr>\n",
       "      <th>944</th>\n",
       "      <td>planck_function_numba_parallel</td>\n",
       "      <td>5000000</td>\n",
       "      <td>3264850</td>\n",
       "      <td>2023-03-28 03:49:00.053987</td>\n",
       "    </tr>\n",
       "  </tbody>\n",
       "</table>\n",
       "<p>945 rows × 4 columns</p>\n",
       "</div>"
      ],
      "text/plain": [
       "                          func_name  freq_bins  exec_time  \\\n",
       "0                   planck_function        100     213391   \n",
       "1                   planck_function        100     197751   \n",
       "2                   planck_function        100     190916   \n",
       "3                   planck_function        100     205912   \n",
       "4                   planck_function        100     202407   \n",
       "..                              ...        ...        ...   \n",
       "940  planck_function_numba_parallel    5000000    3341131   \n",
       "941  planck_function_numba_parallel    5000000    3335607   \n",
       "942  planck_function_numba_parallel    5000000    4902065   \n",
       "943  planck_function_numba_parallel    5000000    3340394   \n",
       "944  planck_function_numba_parallel    5000000    3264850   \n",
       "\n",
       "                          date  \n",
       "0   2023-03-28 03:42:12.959461  \n",
       "1   2023-03-28 03:42:13.344491  \n",
       "2   2023-03-28 03:42:13.728755  \n",
       "3   2023-03-28 03:42:14.131188  \n",
       "4   2023-03-28 03:42:14.550284  \n",
       "..                         ...  \n",
       "940 2023-03-28 03:48:58.240592  \n",
       "941 2023-03-28 03:48:58.696920  \n",
       "942 2023-03-28 03:48:59.152000  \n",
       "943 2023-03-28 03:48:59.607083  \n",
       "944 2023-03-28 03:49:00.053987  \n",
       "\n",
       "[945 rows x 4 columns]"
      ]
     },
     "execution_count": 11,
     "metadata": {},
     "output_type": "execute_result"
    }
   ],
   "source": [
    "freq_bins = tuple(\n",
    "    itertools.chain.from_iterable(\n",
    "        ((1 * 10**e, 2 * 10**e, 5 * 10**e) for e in range(2, 7))\n",
    "    )\n",
    ")\n",
    "# The prompt only asked for 100, 200, and 500, but seeing how performance\n",
    "# grows for more frequency bins can possibly be informative.\n",
    "\n",
    "function_names = (\n",
    "    \"planck_function\",\n",
    "    \"planck_function_numba\",\n",
    "    \"planck_function_numba_parallel\",\n",
    ")\n",
    "\n",
    "functions = (\n",
    "    planck_function,\n",
    "    planck_function_numba,\n",
    "    planck_function_numba_parallel,\n",
    ")\n",
    "\n",
    "funcdict = {\n",
    "    funcname: func for (funcname, func) in zip(function_names, functions)\n",
    "}\n",
    "\n",
    "N_initial = 20\n",
    "\n",
    "raw_time_data_columns = (\n",
    "    \"func_name\",\n",
    "    \"freq_bins\",\n",
    "    \"exec_time\",\n",
    "    \"date\",\n",
    ")\n",
    "raw_time_data = pd.DataFrame(columns=raw_time_data_columns)\n",
    "raw_time_data[raw_time_data_columns[0]] = raw_time_data[\n",
    "    raw_time_data_columns[0]\n",
    "].astype(\"category\")\n",
    "raw_time_data[raw_time_data_columns[1]] = pd.to_numeric(\n",
    "    raw_time_data[raw_time_data_columns[1]], downcast=\"integer\"\n",
    ")\n",
    "raw_time_data[raw_time_data_columns[2]] = pd.to_numeric(\n",
    "    raw_time_data[raw_time_data_columns[2]], downcast=\"integer\"\n",
    ")\n",
    "raw_time_data[raw_time_data_columns[3]] = pd.to_datetime(\n",
    "    raw_time_data[raw_time_data_columns[3]]\n",
    ")\n",
    "\n",
    "\n",
    "def time_trial(func, func_name, freq, args=None):\n",
    "    nus_planck = np.linspace(\n",
    "        min(nus),\n",
    "        max(nus),\n",
    "        freq,\n",
    "    )\n",
    "\n",
    "    if args is None:\n",
    "        start_time = time.perf_counter_ns()\n",
    "        _ = func(nus_planck)\n",
    "        stop_time = time.perf_counter_ns()\n",
    "    else:\n",
    "        start_time = time.perf_counter_ns()\n",
    "        _ = func(nus_planck, *args)\n",
    "        stop_time = time.perf_counter_ns()\n",
    "    timestamp = pd.Timestamp.now()\n",
    "    elapsed = stop_time - start_time\n",
    "    tempdf = pd.DataFrame(\n",
    "        [\n",
    "            [\n",
    "                func_name,\n",
    "                freq,\n",
    "                elapsed,\n",
    "                timestamp,\n",
    "            ],\n",
    "        ],\n",
    "        columns=raw_time_data_columns,\n",
    "    )\n",
    "\n",
    "    return tempdf\n",
    "\n",
    "\n",
    "total_iterations = len(freq_bins) * len(functions) * (1 + N_initial)\n",
    "\n",
    "for (func, func_name), freq, n in tqdm.tqdm(\n",
    "    itertools.product(\n",
    "        zip(\n",
    "            functions,\n",
    "            function_names,\n",
    "        ),\n",
    "        freq_bins,\n",
    "        range(1 + N_initial),\n",
    "    ),\n",
    "    total=total_iterations,\n",
    "):\n",
    "    tempdf = time_trial(\n",
    "        func,\n",
    "        func_name,\n",
    "        freq,\n",
    "    )\n",
    "    raw_time_data = pd.concat(\n",
    "        [\n",
    "            raw_time_data,\n",
    "            tempdf,\n",
    "        ],\n",
    "        ignore_index=True,\n",
    "    )\n",
    "\n",
    "\n",
    "raw_time_data"
   ]
  },
  {
   "cell_type": "code",
   "execution_count": 12,
   "id": "08ef920e",
   "metadata": {},
   "outputs": [
    {
     "data": {
      "text/html": [
       "<div>\n",
       "<style scoped>\n",
       "    .dataframe tbody tr th:only-of-type {\n",
       "        vertical-align: middle;\n",
       "    }\n",
       "\n",
       "    .dataframe tbody tr th {\n",
       "        vertical-align: top;\n",
       "    }\n",
       "\n",
       "    .dataframe thead th {\n",
       "        text-align: right;\n",
       "    }\n",
       "</style>\n",
       "<table border=\"1\" class=\"dataframe\">\n",
       "  <thead>\n",
       "    <tr style=\"text-align: right;\">\n",
       "      <th></th>\n",
       "      <th>func_name</th>\n",
       "      <th>freq_bins</th>\n",
       "      <th>exec_time</th>\n",
       "      <th>date</th>\n",
       "    </tr>\n",
       "  </thead>\n",
       "  <tbody>\n",
       "    <tr>\n",
       "      <th>1</th>\n",
       "      <td>planck_function</td>\n",
       "      <td>100</td>\n",
       "      <td>197751</td>\n",
       "      <td>2023-03-28 03:42:13.344491</td>\n",
       "    </tr>\n",
       "    <tr>\n",
       "      <th>2</th>\n",
       "      <td>planck_function</td>\n",
       "      <td>100</td>\n",
       "      <td>190916</td>\n",
       "      <td>2023-03-28 03:42:13.728755</td>\n",
       "    </tr>\n",
       "    <tr>\n",
       "      <th>3</th>\n",
       "      <td>planck_function</td>\n",
       "      <td>100</td>\n",
       "      <td>205912</td>\n",
       "      <td>2023-03-28 03:42:14.131188</td>\n",
       "    </tr>\n",
       "    <tr>\n",
       "      <th>4</th>\n",
       "      <td>planck_function</td>\n",
       "      <td>100</td>\n",
       "      <td>202407</td>\n",
       "      <td>2023-03-28 03:42:14.550284</td>\n",
       "    </tr>\n",
       "    <tr>\n",
       "      <th>5</th>\n",
       "      <td>planck_function</td>\n",
       "      <td>100</td>\n",
       "      <td>205169</td>\n",
       "      <td>2023-03-28 03:42:14.960825</td>\n",
       "    </tr>\n",
       "    <tr>\n",
       "      <th>...</th>\n",
       "      <td>...</td>\n",
       "      <td>...</td>\n",
       "      <td>...</td>\n",
       "      <td>...</td>\n",
       "    </tr>\n",
       "    <tr>\n",
       "      <th>940</th>\n",
       "      <td>planck_function_numba_parallel</td>\n",
       "      <td>5000000</td>\n",
       "      <td>3341131</td>\n",
       "      <td>2023-03-28 03:48:58.240592</td>\n",
       "    </tr>\n",
       "    <tr>\n",
       "      <th>941</th>\n",
       "      <td>planck_function_numba_parallel</td>\n",
       "      <td>5000000</td>\n",
       "      <td>3335607</td>\n",
       "      <td>2023-03-28 03:48:58.696920</td>\n",
       "    </tr>\n",
       "    <tr>\n",
       "      <th>942</th>\n",
       "      <td>planck_function_numba_parallel</td>\n",
       "      <td>5000000</td>\n",
       "      <td>4902065</td>\n",
       "      <td>2023-03-28 03:48:59.152000</td>\n",
       "    </tr>\n",
       "    <tr>\n",
       "      <th>943</th>\n",
       "      <td>planck_function_numba_parallel</td>\n",
       "      <td>5000000</td>\n",
       "      <td>3340394</td>\n",
       "      <td>2023-03-28 03:48:59.607083</td>\n",
       "    </tr>\n",
       "    <tr>\n",
       "      <th>944</th>\n",
       "      <td>planck_function_numba_parallel</td>\n",
       "      <td>5000000</td>\n",
       "      <td>3264850</td>\n",
       "      <td>2023-03-28 03:49:00.053987</td>\n",
       "    </tr>\n",
       "  </tbody>\n",
       "</table>\n",
       "<p>900 rows × 4 columns</p>\n",
       "</div>"
      ],
      "text/plain": [
       "                          func_name  freq_bins  exec_time  \\\n",
       "1                   planck_function        100     197751   \n",
       "2                   planck_function        100     190916   \n",
       "3                   planck_function        100     205912   \n",
       "4                   planck_function        100     202407   \n",
       "5                   planck_function        100     205169   \n",
       "..                              ...        ...        ...   \n",
       "940  planck_function_numba_parallel    5000000    3341131   \n",
       "941  planck_function_numba_parallel    5000000    3335607   \n",
       "942  planck_function_numba_parallel    5000000    4902065   \n",
       "943  planck_function_numba_parallel    5000000    3340394   \n",
       "944  planck_function_numba_parallel    5000000    3264850   \n",
       "\n",
       "                          date  \n",
       "1   2023-03-28 03:42:13.344491  \n",
       "2   2023-03-28 03:42:13.728755  \n",
       "3   2023-03-28 03:42:14.131188  \n",
       "4   2023-03-28 03:42:14.550284  \n",
       "5   2023-03-28 03:42:14.960825  \n",
       "..                         ...  \n",
       "940 2023-03-28 03:48:58.240592  \n",
       "941 2023-03-28 03:48:58.696920  \n",
       "942 2023-03-28 03:48:59.152000  \n",
       "943 2023-03-28 03:48:59.607083  \n",
       "944 2023-03-28 03:49:00.053987  \n",
       "\n",
       "[900 rows x 4 columns]"
      ]
     },
     "execution_count": 12,
     "metadata": {},
     "output_type": "execute_result"
    }
   ],
   "source": [
    "groupby = raw_time_data[raw_time_data.columns[:3]].groupby(\n",
    "    [\n",
    "        \"func_name\",\n",
    "        \"freq_bins\",\n",
    "    ]\n",
    ")\n",
    "\n",
    "raw_time_data_dropfirst = raw_time_data.drop(groupby.head(1).index)\n",
    "\n",
    "groupby_dropfirst = raw_time_data_dropfirst[\n",
    "    raw_time_data_dropfirst.columns[:3]\n",
    "].groupby(\n",
    "    [\n",
    "        \"func_name\",\n",
    "        \"freq_bins\",\n",
    "    ]\n",
    ")\n",
    "\n",
    "raw_time_data_dropfirst"
   ]
  },
  {
   "cell_type": "code",
   "execution_count": 13,
   "id": "04878fd6",
   "metadata": {},
   "outputs": [
    {
     "data": {
      "text/html": [
       "<div>\n",
       "<style scoped>\n",
       "    .dataframe tbody tr th:only-of-type {\n",
       "        vertical-align: middle;\n",
       "    }\n",
       "\n",
       "    .dataframe tbody tr th {\n",
       "        vertical-align: top;\n",
       "    }\n",
       "\n",
       "    .dataframe thead th {\n",
       "        text-align: right;\n",
       "    }\n",
       "</style>\n",
       "<table border=\"1\" class=\"dataframe\">\n",
       "  <thead>\n",
       "    <tr style=\"text-align: right;\">\n",
       "      <th></th>\n",
       "      <th></th>\n",
       "      <th>mean</th>\n",
       "      <th>std</th>\n",
       "      <th>mean_dropfirst</th>\n",
       "      <th>std_dropfirst</th>\n",
       "    </tr>\n",
       "    <tr>\n",
       "      <th>func_name</th>\n",
       "      <th>freq_bins</th>\n",
       "      <th></th>\n",
       "      <th></th>\n",
       "      <th></th>\n",
       "      <th></th>\n",
       "    </tr>\n",
       "  </thead>\n",
       "  <tbody>\n",
       "    <tr>\n",
       "      <th rowspan=\"15\" valign=\"top\">planck_function</th>\n",
       "      <th>100</th>\n",
       "      <td>2.071574e+05</td>\n",
       "      <td>9.289373e+03</td>\n",
       "      <td>2.068457e+05</td>\n",
       "      <td>9.417363e+03</td>\n",
       "    </tr>\n",
       "    <tr>\n",
       "      <th>200</th>\n",
       "      <td>2.110518e+05</td>\n",
       "      <td>1.005246e+04</td>\n",
       "      <td>2.114829e+05</td>\n",
       "      <td>1.011249e+04</td>\n",
       "    </tr>\n",
       "    <tr>\n",
       "      <th>500</th>\n",
       "      <td>2.123265e+05</td>\n",
       "      <td>5.501609e+03</td>\n",
       "      <td>2.123165e+05</td>\n",
       "      <td>5.644337e+03</td>\n",
       "    </tr>\n",
       "    <tr>\n",
       "      <th>1000</th>\n",
       "      <td>2.253737e+05</td>\n",
       "      <td>9.250370e+03</td>\n",
       "      <td>2.255681e+05</td>\n",
       "      <td>9.446528e+03</td>\n",
       "    </tr>\n",
       "    <tr>\n",
       "      <th>2000</th>\n",
       "      <td>2.371884e+05</td>\n",
       "      <td>4.805690e+03</td>\n",
       "      <td>2.371753e+05</td>\n",
       "      <td>4.930147e+03</td>\n",
       "    </tr>\n",
       "    <tr>\n",
       "      <th>5000</th>\n",
       "      <td>2.798681e+05</td>\n",
       "      <td>1.123878e+04</td>\n",
       "      <td>2.798634e+05</td>\n",
       "      <td>1.153072e+04</td>\n",
       "    </tr>\n",
       "    <tr>\n",
       "      <th>10000</th>\n",
       "      <td>3.582225e+05</td>\n",
       "      <td>5.503745e+03</td>\n",
       "      <td>3.580545e+05</td>\n",
       "      <td>5.591157e+03</td>\n",
       "    </tr>\n",
       "    <tr>\n",
       "      <th>20000</th>\n",
       "      <td>4.948326e+05</td>\n",
       "      <td>1.041574e+04</td>\n",
       "      <td>4.941123e+05</td>\n",
       "      <td>1.013548e+04</td>\n",
       "    </tr>\n",
       "    <tr>\n",
       "      <th>50000</th>\n",
       "      <td>9.264474e+05</td>\n",
       "      <td>1.586870e+04</td>\n",
       "      <td>9.260957e+05</td>\n",
       "      <td>1.619674e+04</td>\n",
       "    </tr>\n",
       "    <tr>\n",
       "      <th>100000</th>\n",
       "      <td>1.688357e+06</td>\n",
       "      <td>5.631587e+04</td>\n",
       "      <td>1.679556e+06</td>\n",
       "      <td>4.032626e+04</td>\n",
       "    </tr>\n",
       "    <tr>\n",
       "      <th>200000</th>\n",
       "      <td>3.527121e+06</td>\n",
       "      <td>4.984671e+04</td>\n",
       "      <td>3.518915e+06</td>\n",
       "      <td>3.356643e+04</td>\n",
       "    </tr>\n",
       "    <tr>\n",
       "      <th>500000</th>\n",
       "      <td>8.491947e+06</td>\n",
       "      <td>1.897141e+05</td>\n",
       "      <td>8.452972e+06</td>\n",
       "      <td>6.563070e+04</td>\n",
       "    </tr>\n",
       "    <tr>\n",
       "      <th>1000000</th>\n",
       "      <td>1.571166e+07</td>\n",
       "      <td>2.025701e+05</td>\n",
       "      <td>1.568806e+07</td>\n",
       "      <td>1.757411e+05</td>\n",
       "    </tr>\n",
       "    <tr>\n",
       "      <th>2000000</th>\n",
       "      <td>3.268850e+07</td>\n",
       "      <td>3.386187e+05</td>\n",
       "      <td>3.261673e+07</td>\n",
       "      <td>8.264642e+04</td>\n",
       "    </tr>\n",
       "    <tr>\n",
       "      <th>5000000</th>\n",
       "      <td>1.050153e+08</td>\n",
       "      <td>1.886988e+05</td>\n",
       "      <td>1.050131e+08</td>\n",
       "      <td>1.933280e+05</td>\n",
       "    </tr>\n",
       "    <tr>\n",
       "      <th rowspan=\"15\" valign=\"top\">planck_function_numba</th>\n",
       "      <th>100</th>\n",
       "      <td>1.156494e+07</td>\n",
       "      <td>5.298012e+07</td>\n",
       "      <td>3.729600e+03</td>\n",
       "      <td>3.883424e+02</td>\n",
       "    </tr>\n",
       "    <tr>\n",
       "      <th>200</th>\n",
       "      <td>5.151476e+03</td>\n",
       "      <td>1.742796e+03</td>\n",
       "      <td>5.174250e+03</td>\n",
       "      <td>1.784862e+03</td>\n",
       "    </tr>\n",
       "    <tr>\n",
       "      <th>500</th>\n",
       "      <td>7.714714e+03</td>\n",
       "      <td>4.646716e+02</td>\n",
       "      <td>7.720250e+03</td>\n",
       "      <td>4.760321e+02</td>\n",
       "    </tr>\n",
       "    <tr>\n",
       "      <th>1000</th>\n",
       "      <td>1.258605e+04</td>\n",
       "      <td>2.330392e+02</td>\n",
       "      <td>1.259405e+04</td>\n",
       "      <td>2.361143e+02</td>\n",
       "    </tr>\n",
       "    <tr>\n",
       "      <th>2000</th>\n",
       "      <td>1.706243e+04</td>\n",
       "      <td>2.850883e+02</td>\n",
       "      <td>1.706065e+04</td>\n",
       "      <td>2.923749e+02</td>\n",
       "    </tr>\n",
       "    <tr>\n",
       "      <th>5000</th>\n",
       "      <td>2.972114e+04</td>\n",
       "      <td>4.728863e+02</td>\n",
       "      <td>2.971640e+04</td>\n",
       "      <td>4.846584e+02</td>\n",
       "    </tr>\n",
       "    <tr>\n",
       "      <th>10000</th>\n",
       "      <td>5.224129e+04</td>\n",
       "      <td>4.042908e+02</td>\n",
       "      <td>5.224760e+04</td>\n",
       "      <td>4.137298e+02</td>\n",
       "    </tr>\n",
       "    <tr>\n",
       "      <th>20000</th>\n",
       "      <td>9.410857e+04</td>\n",
       "      <td>2.826850e+03</td>\n",
       "      <td>9.412330e+04</td>\n",
       "      <td>2.899460e+03</td>\n",
       "    </tr>\n",
       "    <tr>\n",
       "      <th>50000</th>\n",
       "      <td>2.155615e+05</td>\n",
       "      <td>9.481436e+03</td>\n",
       "      <td>2.157976e+05</td>\n",
       "      <td>9.664192e+03</td>\n",
       "    </tr>\n",
       "    <tr>\n",
       "      <th>100000</th>\n",
       "      <td>4.208611e+05</td>\n",
       "      <td>1.509613e+04</td>\n",
       "      <td>4.188161e+05</td>\n",
       "      <td>1.214262e+04</td>\n",
       "    </tr>\n",
       "    <tr>\n",
       "      <th>200000</th>\n",
       "      <td>8.113651e+05</td>\n",
       "      <td>7.006132e+04</td>\n",
       "      <td>7.966265e+05</td>\n",
       "      <td>1.910661e+04</td>\n",
       "    </tr>\n",
       "    <tr>\n",
       "      <th>500000</th>\n",
       "      <td>1.980306e+06</td>\n",
       "      <td>1.556738e+05</td>\n",
       "      <td>1.946969e+06</td>\n",
       "      <td>3.070590e+04</td>\n",
       "    </tr>\n",
       "    <tr>\n",
       "      <th>1000000</th>\n",
       "      <td>3.861703e+06</td>\n",
       "      <td>3.443528e+05</td>\n",
       "      <td>3.787052e+06</td>\n",
       "      <td>4.038721e+04</td>\n",
       "    </tr>\n",
       "    <tr>\n",
       "      <th>2000000</th>\n",
       "      <td>1.014193e+07</td>\n",
       "      <td>1.166563e+05</td>\n",
       "      <td>1.012656e+07</td>\n",
       "      <td>9.541321e+04</td>\n",
       "    </tr>\n",
       "    <tr>\n",
       "      <th>5000000</th>\n",
       "      <td>2.537535e+07</td>\n",
       "      <td>1.262771e+05</td>\n",
       "      <td>2.537899e+07</td>\n",
       "      <td>1.284247e+05</td>\n",
       "    </tr>\n",
       "    <tr>\n",
       "      <th rowspan=\"15\" valign=\"top\">planck_function_numba_parallel</th>\n",
       "      <th>100</th>\n",
       "      <td>1.233046e+07</td>\n",
       "      <td>5.433995e+07</td>\n",
       "      <td>4.737247e+05</td>\n",
       "      <td>7.975166e+05</td>\n",
       "    </tr>\n",
       "    <tr>\n",
       "      <th>200</th>\n",
       "      <td>4.552760e+05</td>\n",
       "      <td>1.227074e+06</td>\n",
       "      <td>4.730823e+05</td>\n",
       "      <td>1.256165e+06</td>\n",
       "    </tr>\n",
       "    <tr>\n",
       "      <th>500</th>\n",
       "      <td>5.126920e+05</td>\n",
       "      <td>8.109740e+05</td>\n",
       "      <td>4.283737e+05</td>\n",
       "      <td>7.315285e+05</td>\n",
       "    </tr>\n",
       "    <tr>\n",
       "      <th>1000</th>\n",
       "      <td>5.503196e+05</td>\n",
       "      <td>1.050537e+06</td>\n",
       "      <td>5.674617e+05</td>\n",
       "      <td>1.074810e+06</td>\n",
       "    </tr>\n",
       "    <tr>\n",
       "      <th>2000</th>\n",
       "      <td>4.187668e+05</td>\n",
       "      <td>7.352589e+05</td>\n",
       "      <td>4.303708e+05</td>\n",
       "      <td>7.523843e+05</td>\n",
       "    </tr>\n",
       "    <tr>\n",
       "      <th>5000</th>\n",
       "      <td>4.164663e+05</td>\n",
       "      <td>8.297551e+05</td>\n",
       "      <td>4.278336e+05</td>\n",
       "      <td>8.496316e+05</td>\n",
       "    </tr>\n",
       "    <tr>\n",
       "      <th>10000</th>\n",
       "      <td>2.565326e+05</td>\n",
       "      <td>2.607442e+05</td>\n",
       "      <td>2.592519e+05</td>\n",
       "      <td>2.672123e+05</td>\n",
       "    </tr>\n",
       "    <tr>\n",
       "      <th>20000</th>\n",
       "      <td>5.877299e+05</td>\n",
       "      <td>8.083235e+05</td>\n",
       "      <td>6.066426e+05</td>\n",
       "      <td>8.245416e+05</td>\n",
       "    </tr>\n",
       "    <tr>\n",
       "      <th>50000</th>\n",
       "      <td>1.078741e+06</td>\n",
       "      <td>1.718115e+06</td>\n",
       "      <td>1.126364e+06</td>\n",
       "      <td>1.748470e+06</td>\n",
       "    </tr>\n",
       "    <tr>\n",
       "      <th>100000</th>\n",
       "      <td>2.992179e+05</td>\n",
       "      <td>3.548898e+05</td>\n",
       "      <td>3.027330e+05</td>\n",
       "      <td>3.637340e+05</td>\n",
       "    </tr>\n",
       "    <tr>\n",
       "      <th>200000</th>\n",
       "      <td>2.716685e+05</td>\n",
       "      <td>1.265353e+04</td>\n",
       "      <td>2.695938e+05</td>\n",
       "      <td>8.566364e+03</td>\n",
       "    </tr>\n",
       "    <tr>\n",
       "      <th>500000</th>\n",
       "      <td>5.736478e+05</td>\n",
       "      <td>5.552577e+05</td>\n",
       "      <td>5.787063e+05</td>\n",
       "      <td>5.691857e+05</td>\n",
       "    </tr>\n",
       "    <tr>\n",
       "      <th>1000000</th>\n",
       "      <td>7.696174e+05</td>\n",
       "      <td>6.288143e+05</td>\n",
       "      <td>7.710792e+05</td>\n",
       "      <td>6.451132e+05</td>\n",
       "    </tr>\n",
       "    <tr>\n",
       "      <th>2000000</th>\n",
       "      <td>1.580561e+06</td>\n",
       "      <td>8.054922e+05</td>\n",
       "      <td>1.593294e+06</td>\n",
       "      <td>8.242466e+05</td>\n",
       "    </tr>\n",
       "    <tr>\n",
       "      <th>5000000</th>\n",
       "      <td>3.573053e+06</td>\n",
       "      <td>5.070585e+05</td>\n",
       "      <td>3.585842e+06</td>\n",
       "      <td>5.167443e+05</td>\n",
       "    </tr>\n",
       "  </tbody>\n",
       "</table>\n",
       "</div>"
      ],
      "text/plain": [
       "                                                  mean           std  \\\n",
       "func_name                      freq_bins                               \n",
       "planck_function                100        2.071574e+05  9.289373e+03   \n",
       "                               200        2.110518e+05  1.005246e+04   \n",
       "                               500        2.123265e+05  5.501609e+03   \n",
       "                               1000       2.253737e+05  9.250370e+03   \n",
       "                               2000       2.371884e+05  4.805690e+03   \n",
       "                               5000       2.798681e+05  1.123878e+04   \n",
       "                               10000      3.582225e+05  5.503745e+03   \n",
       "                               20000      4.948326e+05  1.041574e+04   \n",
       "                               50000      9.264474e+05  1.586870e+04   \n",
       "                               100000     1.688357e+06  5.631587e+04   \n",
       "                               200000     3.527121e+06  4.984671e+04   \n",
       "                               500000     8.491947e+06  1.897141e+05   \n",
       "                               1000000    1.571166e+07  2.025701e+05   \n",
       "                               2000000    3.268850e+07  3.386187e+05   \n",
       "                               5000000    1.050153e+08  1.886988e+05   \n",
       "planck_function_numba          100        1.156494e+07  5.298012e+07   \n",
       "                               200        5.151476e+03  1.742796e+03   \n",
       "                               500        7.714714e+03  4.646716e+02   \n",
       "                               1000       1.258605e+04  2.330392e+02   \n",
       "                               2000       1.706243e+04  2.850883e+02   \n",
       "                               5000       2.972114e+04  4.728863e+02   \n",
       "                               10000      5.224129e+04  4.042908e+02   \n",
       "                               20000      9.410857e+04  2.826850e+03   \n",
       "                               50000      2.155615e+05  9.481436e+03   \n",
       "                               100000     4.208611e+05  1.509613e+04   \n",
       "                               200000     8.113651e+05  7.006132e+04   \n",
       "                               500000     1.980306e+06  1.556738e+05   \n",
       "                               1000000    3.861703e+06  3.443528e+05   \n",
       "                               2000000    1.014193e+07  1.166563e+05   \n",
       "                               5000000    2.537535e+07  1.262771e+05   \n",
       "planck_function_numba_parallel 100        1.233046e+07  5.433995e+07   \n",
       "                               200        4.552760e+05  1.227074e+06   \n",
       "                               500        5.126920e+05  8.109740e+05   \n",
       "                               1000       5.503196e+05  1.050537e+06   \n",
       "                               2000       4.187668e+05  7.352589e+05   \n",
       "                               5000       4.164663e+05  8.297551e+05   \n",
       "                               10000      2.565326e+05  2.607442e+05   \n",
       "                               20000      5.877299e+05  8.083235e+05   \n",
       "                               50000      1.078741e+06  1.718115e+06   \n",
       "                               100000     2.992179e+05  3.548898e+05   \n",
       "                               200000     2.716685e+05  1.265353e+04   \n",
       "                               500000     5.736478e+05  5.552577e+05   \n",
       "                               1000000    7.696174e+05  6.288143e+05   \n",
       "                               2000000    1.580561e+06  8.054922e+05   \n",
       "                               5000000    3.573053e+06  5.070585e+05   \n",
       "\n",
       "                                          mean_dropfirst  std_dropfirst  \n",
       "func_name                      freq_bins                                 \n",
       "planck_function                100          2.068457e+05   9.417363e+03  \n",
       "                               200          2.114829e+05   1.011249e+04  \n",
       "                               500          2.123165e+05   5.644337e+03  \n",
       "                               1000         2.255681e+05   9.446528e+03  \n",
       "                               2000         2.371753e+05   4.930147e+03  \n",
       "                               5000         2.798634e+05   1.153072e+04  \n",
       "                               10000        3.580545e+05   5.591157e+03  \n",
       "                               20000        4.941123e+05   1.013548e+04  \n",
       "                               50000        9.260957e+05   1.619674e+04  \n",
       "                               100000       1.679556e+06   4.032626e+04  \n",
       "                               200000       3.518915e+06   3.356643e+04  \n",
       "                               500000       8.452972e+06   6.563070e+04  \n",
       "                               1000000      1.568806e+07   1.757411e+05  \n",
       "                               2000000      3.261673e+07   8.264642e+04  \n",
       "                               5000000      1.050131e+08   1.933280e+05  \n",
       "planck_function_numba          100          3.729600e+03   3.883424e+02  \n",
       "                               200          5.174250e+03   1.784862e+03  \n",
       "                               500          7.720250e+03   4.760321e+02  \n",
       "                               1000         1.259405e+04   2.361143e+02  \n",
       "                               2000         1.706065e+04   2.923749e+02  \n",
       "                               5000         2.971640e+04   4.846584e+02  \n",
       "                               10000        5.224760e+04   4.137298e+02  \n",
       "                               20000        9.412330e+04   2.899460e+03  \n",
       "                               50000        2.157976e+05   9.664192e+03  \n",
       "                               100000       4.188161e+05   1.214262e+04  \n",
       "                               200000       7.966265e+05   1.910661e+04  \n",
       "                               500000       1.946969e+06   3.070590e+04  \n",
       "                               1000000      3.787052e+06   4.038721e+04  \n",
       "                               2000000      1.012656e+07   9.541321e+04  \n",
       "                               5000000      2.537899e+07   1.284247e+05  \n",
       "planck_function_numba_parallel 100          4.737247e+05   7.975166e+05  \n",
       "                               200          4.730823e+05   1.256165e+06  \n",
       "                               500          4.283737e+05   7.315285e+05  \n",
       "                               1000         5.674617e+05   1.074810e+06  \n",
       "                               2000         4.303708e+05   7.523843e+05  \n",
       "                               5000         4.278336e+05   8.496316e+05  \n",
       "                               10000        2.592519e+05   2.672123e+05  \n",
       "                               20000        6.066426e+05   8.245416e+05  \n",
       "                               50000        1.126364e+06   1.748470e+06  \n",
       "                               100000       3.027330e+05   3.637340e+05  \n",
       "                               200000       2.695938e+05   8.566364e+03  \n",
       "                               500000       5.787063e+05   5.691857e+05  \n",
       "                               1000000      7.710792e+05   6.451132e+05  \n",
       "                               2000000      1.593294e+06   8.242466e+05  \n",
       "                               5000000      3.585842e+06   5.167443e+05  "
      ]
     },
     "execution_count": 13,
     "metadata": {},
     "output_type": "execute_result"
    }
   ],
   "source": [
    "time_data_estimators = pd.concat(\n",
    "    [\n",
    "        groupby.mean().rename(columns={raw_time_data.columns[2]: \"mean\"}),\n",
    "        groupby.std().rename(columns={raw_time_data.columns[2]: \"std\"}),\n",
    "        groupby_dropfirst.mean().rename(\n",
    "            columns={raw_time_data.columns[2]: \"mean_dropfirst\"}\n",
    "        ),\n",
    "        groupby_dropfirst.std().rename(\n",
    "            columns={raw_time_data.columns[2]: \"std_dropfirst\"}\n",
    "        ),\n",
    "    ],\n",
    "    axis=1,\n",
    ")\n",
    "\n",
    "time_data_estimators"
   ]
  },
  {
   "cell_type": "markdown",
   "id": "a26c03d9",
   "metadata": {},
   "source": [
    "### Calculating Sample Size\n",
    "\n",
    "Below, we use the formula on [page 8 of these notes](www.mit.edu/~kircher/sim.pdf#section.1.2) to calculate how many more samples we need to collect to be confident that $\\mathbb P \\left ( \\left | \\bar \\theta_n - \\theta \\right | \\leq \\epsilon \\right ) \\geq 1 - \\alpha$ where $\\theta$ is the true theoretical mean and $\\bar \\theta_n$ is our Monte Carlo estimator. \n",
    "\n",
    "The first iteration of each trial is when the JIT happens, so the execution distribution is not the same as the distribution for subsequent iterations of the same type. Therefore, since our formula includes an i.i.d. assumption, we calculate the number of further iterations excluding the first one. \n",
    "\n",
    "For practical purposes, we also set a maximum iteration count."
   ]
  },
  {
   "cell_type": "code",
   "execution_count": 14,
   "id": "6e3afccf",
   "metadata": {},
   "outputs": [
    {
     "data": {
      "text/html": [
       "<div>\n",
       "<style scoped>\n",
       "    .dataframe tbody tr th:only-of-type {\n",
       "        vertical-align: middle;\n",
       "    }\n",
       "\n",
       "    .dataframe tbody tr th {\n",
       "        vertical-align: top;\n",
       "    }\n",
       "\n",
       "    .dataframe thead th {\n",
       "        text-align: right;\n",
       "    }\n",
       "</style>\n",
       "<table border=\"1\" class=\"dataframe\">\n",
       "  <thead>\n",
       "    <tr style=\"text-align: right;\">\n",
       "      <th></th>\n",
       "      <th></th>\n",
       "      <th>mean</th>\n",
       "      <th>std</th>\n",
       "      <th>mean_dropfirst</th>\n",
       "      <th>std_dropfirst</th>\n",
       "      <th>N_montecarlo</th>\n",
       "    </tr>\n",
       "    <tr>\n",
       "      <th>func_name</th>\n",
       "      <th>freq_bins</th>\n",
       "      <th></th>\n",
       "      <th></th>\n",
       "      <th></th>\n",
       "      <th></th>\n",
       "      <th></th>\n",
       "    </tr>\n",
       "  </thead>\n",
       "  <tbody>\n",
       "    <tr>\n",
       "      <th rowspan=\"15\" valign=\"top\">planck_function</th>\n",
       "      <th>100</th>\n",
       "      <td>2.071574e+05</td>\n",
       "      <td>9.289373e+03</td>\n",
       "      <td>2.068457e+05</td>\n",
       "      <td>9.417363e+03</td>\n",
       "      <td>1</td>\n",
       "    </tr>\n",
       "    <tr>\n",
       "      <th>200</th>\n",
       "      <td>2.110518e+05</td>\n",
       "      <td>1.005246e+04</td>\n",
       "      <td>2.114829e+05</td>\n",
       "      <td>1.011249e+04</td>\n",
       "      <td>1</td>\n",
       "    </tr>\n",
       "    <tr>\n",
       "      <th>500</th>\n",
       "      <td>2.123265e+05</td>\n",
       "      <td>5.501609e+03</td>\n",
       "      <td>2.123165e+05</td>\n",
       "      <td>5.644337e+03</td>\n",
       "      <td>1</td>\n",
       "    </tr>\n",
       "    <tr>\n",
       "      <th>1000</th>\n",
       "      <td>2.253737e+05</td>\n",
       "      <td>9.250370e+03</td>\n",
       "      <td>2.255681e+05</td>\n",
       "      <td>9.446528e+03</td>\n",
       "      <td>1</td>\n",
       "    </tr>\n",
       "    <tr>\n",
       "      <th>2000</th>\n",
       "      <td>2.371884e+05</td>\n",
       "      <td>4.805690e+03</td>\n",
       "      <td>2.371753e+05</td>\n",
       "      <td>4.930147e+03</td>\n",
       "      <td>1</td>\n",
       "    </tr>\n",
       "    <tr>\n",
       "      <th>5000</th>\n",
       "      <td>2.798681e+05</td>\n",
       "      <td>1.123878e+04</td>\n",
       "      <td>2.798634e+05</td>\n",
       "      <td>1.153072e+04</td>\n",
       "      <td>1</td>\n",
       "    </tr>\n",
       "    <tr>\n",
       "      <th>10000</th>\n",
       "      <td>3.582225e+05</td>\n",
       "      <td>5.503745e+03</td>\n",
       "      <td>3.580545e+05</td>\n",
       "      <td>5.591157e+03</td>\n",
       "      <td>1</td>\n",
       "    </tr>\n",
       "    <tr>\n",
       "      <th>20000</th>\n",
       "      <td>4.948326e+05</td>\n",
       "      <td>1.041574e+04</td>\n",
       "      <td>4.941123e+05</td>\n",
       "      <td>1.013548e+04</td>\n",
       "      <td>1</td>\n",
       "    </tr>\n",
       "    <tr>\n",
       "      <th>50000</th>\n",
       "      <td>9.264474e+05</td>\n",
       "      <td>1.586870e+04</td>\n",
       "      <td>9.260957e+05</td>\n",
       "      <td>1.619674e+04</td>\n",
       "      <td>1</td>\n",
       "    </tr>\n",
       "    <tr>\n",
       "      <th>100000</th>\n",
       "      <td>1.688357e+06</td>\n",
       "      <td>5.631587e+04</td>\n",
       "      <td>1.679556e+06</td>\n",
       "      <td>4.032626e+04</td>\n",
       "      <td>2</td>\n",
       "    </tr>\n",
       "    <tr>\n",
       "      <th>200000</th>\n",
       "      <td>3.527121e+06</td>\n",
       "      <td>4.984671e+04</td>\n",
       "      <td>3.518915e+06</td>\n",
       "      <td>3.356643e+04</td>\n",
       "      <td>1</td>\n",
       "    </tr>\n",
       "    <tr>\n",
       "      <th>500000</th>\n",
       "      <td>8.491947e+06</td>\n",
       "      <td>1.897141e+05</td>\n",
       "      <td>8.452972e+06</td>\n",
       "      <td>6.563070e+04</td>\n",
       "      <td>3</td>\n",
       "    </tr>\n",
       "    <tr>\n",
       "      <th>1000000</th>\n",
       "      <td>1.571166e+07</td>\n",
       "      <td>2.025701e+05</td>\n",
       "      <td>1.568806e+07</td>\n",
       "      <td>1.757411e+05</td>\n",
       "      <td>21</td>\n",
       "    </tr>\n",
       "    <tr>\n",
       "      <th>2000000</th>\n",
       "      <td>3.268850e+07</td>\n",
       "      <td>3.386187e+05</td>\n",
       "      <td>3.261673e+07</td>\n",
       "      <td>8.264642e+04</td>\n",
       "      <td>5</td>\n",
       "    </tr>\n",
       "    <tr>\n",
       "      <th>5000000</th>\n",
       "      <td>1.050153e+08</td>\n",
       "      <td>1.886988e+05</td>\n",
       "      <td>1.050131e+08</td>\n",
       "      <td>1.933280e+05</td>\n",
       "      <td>25</td>\n",
       "    </tr>\n",
       "    <tr>\n",
       "      <th rowspan=\"15\" valign=\"top\">planck_function_numba</th>\n",
       "      <th>100</th>\n",
       "      <td>1.156494e+07</td>\n",
       "      <td>5.298012e+07</td>\n",
       "      <td>3.729600e+03</td>\n",
       "      <td>3.883424e+02</td>\n",
       "      <td>1</td>\n",
       "    </tr>\n",
       "    <tr>\n",
       "      <th>200</th>\n",
       "      <td>5.151476e+03</td>\n",
       "      <td>1.742796e+03</td>\n",
       "      <td>5.174250e+03</td>\n",
       "      <td>1.784862e+03</td>\n",
       "      <td>1</td>\n",
       "    </tr>\n",
       "    <tr>\n",
       "      <th>500</th>\n",
       "      <td>7.714714e+03</td>\n",
       "      <td>4.646716e+02</td>\n",
       "      <td>7.720250e+03</td>\n",
       "      <td>4.760321e+02</td>\n",
       "      <td>1</td>\n",
       "    </tr>\n",
       "    <tr>\n",
       "      <th>1000</th>\n",
       "      <td>1.258605e+04</td>\n",
       "      <td>2.330392e+02</td>\n",
       "      <td>1.259405e+04</td>\n",
       "      <td>2.361143e+02</td>\n",
       "      <td>1</td>\n",
       "    </tr>\n",
       "    <tr>\n",
       "      <th>2000</th>\n",
       "      <td>1.706243e+04</td>\n",
       "      <td>2.850883e+02</td>\n",
       "      <td>1.706065e+04</td>\n",
       "      <td>2.923749e+02</td>\n",
       "      <td>1</td>\n",
       "    </tr>\n",
       "    <tr>\n",
       "      <th>5000</th>\n",
       "      <td>2.972114e+04</td>\n",
       "      <td>4.728863e+02</td>\n",
       "      <td>2.971640e+04</td>\n",
       "      <td>4.846584e+02</td>\n",
       "      <td>1</td>\n",
       "    </tr>\n",
       "    <tr>\n",
       "      <th>10000</th>\n",
       "      <td>5.224129e+04</td>\n",
       "      <td>4.042908e+02</td>\n",
       "      <td>5.224760e+04</td>\n",
       "      <td>4.137298e+02</td>\n",
       "      <td>1</td>\n",
       "    </tr>\n",
       "    <tr>\n",
       "      <th>20000</th>\n",
       "      <td>9.410857e+04</td>\n",
       "      <td>2.826850e+03</td>\n",
       "      <td>9.412330e+04</td>\n",
       "      <td>2.899460e+03</td>\n",
       "      <td>1</td>\n",
       "    </tr>\n",
       "    <tr>\n",
       "      <th>50000</th>\n",
       "      <td>2.155615e+05</td>\n",
       "      <td>9.481436e+03</td>\n",
       "      <td>2.157976e+05</td>\n",
       "      <td>9.664192e+03</td>\n",
       "      <td>1</td>\n",
       "    </tr>\n",
       "    <tr>\n",
       "      <th>100000</th>\n",
       "      <td>4.208611e+05</td>\n",
       "      <td>1.509613e+04</td>\n",
       "      <td>4.188161e+05</td>\n",
       "      <td>1.214262e+04</td>\n",
       "      <td>1</td>\n",
       "    </tr>\n",
       "    <tr>\n",
       "      <th>200000</th>\n",
       "      <td>8.113651e+05</td>\n",
       "      <td>7.006132e+04</td>\n",
       "      <td>7.966265e+05</td>\n",
       "      <td>1.910661e+04</td>\n",
       "      <td>1</td>\n",
       "    </tr>\n",
       "    <tr>\n",
       "      <th>500000</th>\n",
       "      <td>1.980306e+06</td>\n",
       "      <td>1.556738e+05</td>\n",
       "      <td>1.946969e+06</td>\n",
       "      <td>3.070590e+04</td>\n",
       "      <td>1</td>\n",
       "    </tr>\n",
       "    <tr>\n",
       "      <th>1000000</th>\n",
       "      <td>3.861703e+06</td>\n",
       "      <td>3.443528e+05</td>\n",
       "      <td>3.787052e+06</td>\n",
       "      <td>4.038721e+04</td>\n",
       "      <td>2</td>\n",
       "    </tr>\n",
       "    <tr>\n",
       "      <th>2000000</th>\n",
       "      <td>1.014193e+07</td>\n",
       "      <td>1.166563e+05</td>\n",
       "      <td>1.012656e+07</td>\n",
       "      <td>9.541321e+04</td>\n",
       "      <td>6</td>\n",
       "    </tr>\n",
       "    <tr>\n",
       "      <th>5000000</th>\n",
       "      <td>2.537535e+07</td>\n",
       "      <td>1.262771e+05</td>\n",
       "      <td>2.537899e+07</td>\n",
       "      <td>1.284247e+05</td>\n",
       "      <td>11</td>\n",
       "    </tr>\n",
       "    <tr>\n",
       "      <th rowspan=\"15\" valign=\"top\">planck_function_numba_parallel</th>\n",
       "      <th>100</th>\n",
       "      <td>1.233046e+07</td>\n",
       "      <td>5.433995e+07</td>\n",
       "      <td>4.737247e+05</td>\n",
       "      <td>7.975166e+05</td>\n",
       "      <td>418</td>\n",
       "    </tr>\n",
       "    <tr>\n",
       "      <th>200</th>\n",
       "      <td>4.552760e+05</td>\n",
       "      <td>1.227074e+06</td>\n",
       "      <td>4.730823e+05</td>\n",
       "      <td>1.256165e+06</td>\n",
       "      <td>500</td>\n",
       "    </tr>\n",
       "    <tr>\n",
       "      <th>500</th>\n",
       "      <td>5.126920e+05</td>\n",
       "      <td>8.109740e+05</td>\n",
       "      <td>4.283737e+05</td>\n",
       "      <td>7.315285e+05</td>\n",
       "      <td>352</td>\n",
       "    </tr>\n",
       "    <tr>\n",
       "      <th>1000</th>\n",
       "      <td>5.503196e+05</td>\n",
       "      <td>1.050537e+06</td>\n",
       "      <td>5.674617e+05</td>\n",
       "      <td>1.074810e+06</td>\n",
       "      <td>500</td>\n",
       "    </tr>\n",
       "    <tr>\n",
       "      <th>2000</th>\n",
       "      <td>4.187668e+05</td>\n",
       "      <td>7.352589e+05</td>\n",
       "      <td>4.303708e+05</td>\n",
       "      <td>7.523843e+05</td>\n",
       "      <td>372</td>\n",
       "    </tr>\n",
       "    <tr>\n",
       "      <th>5000</th>\n",
       "      <td>4.164663e+05</td>\n",
       "      <td>8.297551e+05</td>\n",
       "      <td>4.278336e+05</td>\n",
       "      <td>8.496316e+05</td>\n",
       "      <td>475</td>\n",
       "    </tr>\n",
       "    <tr>\n",
       "      <th>10000</th>\n",
       "      <td>2.565326e+05</td>\n",
       "      <td>2.607442e+05</td>\n",
       "      <td>2.592519e+05</td>\n",
       "      <td>2.672123e+05</td>\n",
       "      <td>47</td>\n",
       "    </tr>\n",
       "    <tr>\n",
       "      <th>20000</th>\n",
       "      <td>5.877299e+05</td>\n",
       "      <td>8.083235e+05</td>\n",
       "      <td>6.066426e+05</td>\n",
       "      <td>8.245416e+05</td>\n",
       "      <td>447</td>\n",
       "    </tr>\n",
       "    <tr>\n",
       "      <th>50000</th>\n",
       "      <td>1.078741e+06</td>\n",
       "      <td>1.718115e+06</td>\n",
       "      <td>1.126364e+06</td>\n",
       "      <td>1.748470e+06</td>\n",
       "      <td>500</td>\n",
       "    </tr>\n",
       "    <tr>\n",
       "      <th>100000</th>\n",
       "      <td>2.992179e+05</td>\n",
       "      <td>3.548898e+05</td>\n",
       "      <td>3.027330e+05</td>\n",
       "      <td>3.637340e+05</td>\n",
       "      <td>87</td>\n",
       "    </tr>\n",
       "    <tr>\n",
       "      <th>200000</th>\n",
       "      <td>2.716685e+05</td>\n",
       "      <td>1.265353e+04</td>\n",
       "      <td>2.695938e+05</td>\n",
       "      <td>8.566364e+03</td>\n",
       "      <td>1</td>\n",
       "    </tr>\n",
       "    <tr>\n",
       "      <th>500000</th>\n",
       "      <td>5.736478e+05</td>\n",
       "      <td>5.552577e+05</td>\n",
       "      <td>5.787063e+05</td>\n",
       "      <td>5.691857e+05</td>\n",
       "      <td>213</td>\n",
       "    </tr>\n",
       "    <tr>\n",
       "      <th>1000000</th>\n",
       "      <td>7.696174e+05</td>\n",
       "      <td>6.288143e+05</td>\n",
       "      <td>7.710792e+05</td>\n",
       "      <td>6.451132e+05</td>\n",
       "      <td>274</td>\n",
       "    </tr>\n",
       "    <tr>\n",
       "      <th>2000000</th>\n",
       "      <td>1.580561e+06</td>\n",
       "      <td>8.054922e+05</td>\n",
       "      <td>1.593294e+06</td>\n",
       "      <td>8.242466e+05</td>\n",
       "      <td>447</td>\n",
       "    </tr>\n",
       "    <tr>\n",
       "      <th>5000000</th>\n",
       "      <td>3.573053e+06</td>\n",
       "      <td>5.070585e+05</td>\n",
       "      <td>3.585842e+06</td>\n",
       "      <td>5.167443e+05</td>\n",
       "      <td>176</td>\n",
       "    </tr>\n",
       "  </tbody>\n",
       "</table>\n",
       "</div>"
      ],
      "text/plain": [
       "                                                  mean           std  \\\n",
       "func_name                      freq_bins                               \n",
       "planck_function                100        2.071574e+05  9.289373e+03   \n",
       "                               200        2.110518e+05  1.005246e+04   \n",
       "                               500        2.123265e+05  5.501609e+03   \n",
       "                               1000       2.253737e+05  9.250370e+03   \n",
       "                               2000       2.371884e+05  4.805690e+03   \n",
       "                               5000       2.798681e+05  1.123878e+04   \n",
       "                               10000      3.582225e+05  5.503745e+03   \n",
       "                               20000      4.948326e+05  1.041574e+04   \n",
       "                               50000      9.264474e+05  1.586870e+04   \n",
       "                               100000     1.688357e+06  5.631587e+04   \n",
       "                               200000     3.527121e+06  4.984671e+04   \n",
       "                               500000     8.491947e+06  1.897141e+05   \n",
       "                               1000000    1.571166e+07  2.025701e+05   \n",
       "                               2000000    3.268850e+07  3.386187e+05   \n",
       "                               5000000    1.050153e+08  1.886988e+05   \n",
       "planck_function_numba          100        1.156494e+07  5.298012e+07   \n",
       "                               200        5.151476e+03  1.742796e+03   \n",
       "                               500        7.714714e+03  4.646716e+02   \n",
       "                               1000       1.258605e+04  2.330392e+02   \n",
       "                               2000       1.706243e+04  2.850883e+02   \n",
       "                               5000       2.972114e+04  4.728863e+02   \n",
       "                               10000      5.224129e+04  4.042908e+02   \n",
       "                               20000      9.410857e+04  2.826850e+03   \n",
       "                               50000      2.155615e+05  9.481436e+03   \n",
       "                               100000     4.208611e+05  1.509613e+04   \n",
       "                               200000     8.113651e+05  7.006132e+04   \n",
       "                               500000     1.980306e+06  1.556738e+05   \n",
       "                               1000000    3.861703e+06  3.443528e+05   \n",
       "                               2000000    1.014193e+07  1.166563e+05   \n",
       "                               5000000    2.537535e+07  1.262771e+05   \n",
       "planck_function_numba_parallel 100        1.233046e+07  5.433995e+07   \n",
       "                               200        4.552760e+05  1.227074e+06   \n",
       "                               500        5.126920e+05  8.109740e+05   \n",
       "                               1000       5.503196e+05  1.050537e+06   \n",
       "                               2000       4.187668e+05  7.352589e+05   \n",
       "                               5000       4.164663e+05  8.297551e+05   \n",
       "                               10000      2.565326e+05  2.607442e+05   \n",
       "                               20000      5.877299e+05  8.083235e+05   \n",
       "                               50000      1.078741e+06  1.718115e+06   \n",
       "                               100000     2.992179e+05  3.548898e+05   \n",
       "                               200000     2.716685e+05  1.265353e+04   \n",
       "                               500000     5.736478e+05  5.552577e+05   \n",
       "                               1000000    7.696174e+05  6.288143e+05   \n",
       "                               2000000    1.580561e+06  8.054922e+05   \n",
       "                               5000000    3.573053e+06  5.070585e+05   \n",
       "\n",
       "                                          mean_dropfirst  std_dropfirst  \\\n",
       "func_name                      freq_bins                                  \n",
       "planck_function                100          2.068457e+05   9.417363e+03   \n",
       "                               200          2.114829e+05   1.011249e+04   \n",
       "                               500          2.123165e+05   5.644337e+03   \n",
       "                               1000         2.255681e+05   9.446528e+03   \n",
       "                               2000         2.371753e+05   4.930147e+03   \n",
       "                               5000         2.798634e+05   1.153072e+04   \n",
       "                               10000        3.580545e+05   5.591157e+03   \n",
       "                               20000        4.941123e+05   1.013548e+04   \n",
       "                               50000        9.260957e+05   1.619674e+04   \n",
       "                               100000       1.679556e+06   4.032626e+04   \n",
       "                               200000       3.518915e+06   3.356643e+04   \n",
       "                               500000       8.452972e+06   6.563070e+04   \n",
       "                               1000000      1.568806e+07   1.757411e+05   \n",
       "                               2000000      3.261673e+07   8.264642e+04   \n",
       "                               5000000      1.050131e+08   1.933280e+05   \n",
       "planck_function_numba          100          3.729600e+03   3.883424e+02   \n",
       "                               200          5.174250e+03   1.784862e+03   \n",
       "                               500          7.720250e+03   4.760321e+02   \n",
       "                               1000         1.259405e+04   2.361143e+02   \n",
       "                               2000         1.706065e+04   2.923749e+02   \n",
       "                               5000         2.971640e+04   4.846584e+02   \n",
       "                               10000        5.224760e+04   4.137298e+02   \n",
       "                               20000        9.412330e+04   2.899460e+03   \n",
       "                               50000        2.157976e+05   9.664192e+03   \n",
       "                               100000       4.188161e+05   1.214262e+04   \n",
       "                               200000       7.966265e+05   1.910661e+04   \n",
       "                               500000       1.946969e+06   3.070590e+04   \n",
       "                               1000000      3.787052e+06   4.038721e+04   \n",
       "                               2000000      1.012656e+07   9.541321e+04   \n",
       "                               5000000      2.537899e+07   1.284247e+05   \n",
       "planck_function_numba_parallel 100          4.737247e+05   7.975166e+05   \n",
       "                               200          4.730823e+05   1.256165e+06   \n",
       "                               500          4.283737e+05   7.315285e+05   \n",
       "                               1000         5.674617e+05   1.074810e+06   \n",
       "                               2000         4.303708e+05   7.523843e+05   \n",
       "                               5000         4.278336e+05   8.496316e+05   \n",
       "                               10000        2.592519e+05   2.672123e+05   \n",
       "                               20000        6.066426e+05   8.245416e+05   \n",
       "                               50000        1.126364e+06   1.748470e+06   \n",
       "                               100000       3.027330e+05   3.637340e+05   \n",
       "                               200000       2.695938e+05   8.566364e+03   \n",
       "                               500000       5.787063e+05   5.691857e+05   \n",
       "                               1000000      7.710792e+05   6.451132e+05   \n",
       "                               2000000      1.593294e+06   8.242466e+05   \n",
       "                               5000000      3.585842e+06   5.167443e+05   \n",
       "\n",
       "                                          N_montecarlo  \n",
       "func_name                      freq_bins                \n",
       "planck_function                100                   1  \n",
       "                               200                   1  \n",
       "                               500                   1  \n",
       "                               1000                  1  \n",
       "                               2000                  1  \n",
       "                               5000                  1  \n",
       "                               10000                 1  \n",
       "                               20000                 1  \n",
       "                               50000                 1  \n",
       "                               100000                2  \n",
       "                               200000                1  \n",
       "                               500000                3  \n",
       "                               1000000              21  \n",
       "                               2000000               5  \n",
       "                               5000000              25  \n",
       "planck_function_numba          100                   1  \n",
       "                               200                   1  \n",
       "                               500                   1  \n",
       "                               1000                  1  \n",
       "                               2000                  1  \n",
       "                               5000                  1  \n",
       "                               10000                 1  \n",
       "                               20000                 1  \n",
       "                               50000                 1  \n",
       "                               100000                1  \n",
       "                               200000                1  \n",
       "                               500000                1  \n",
       "                               1000000               2  \n",
       "                               2000000               6  \n",
       "                               5000000              11  \n",
       "planck_function_numba_parallel 100                 418  \n",
       "                               200                 500  \n",
       "                               500                 352  \n",
       "                               1000                500  \n",
       "                               2000                372  \n",
       "                               5000                475  \n",
       "                               10000                47  \n",
       "                               20000               447  \n",
       "                               50000               500  \n",
       "                               100000               87  \n",
       "                               200000                1  \n",
       "                               500000              213  \n",
       "                               1000000             274  \n",
       "                               2000000             447  \n",
       "                               5000000             176  "
      ]
     },
     "execution_count": 14,
     "metadata": {},
     "output_type": "execute_result"
    }
   ],
   "source": [
    "confidence_level = 2e-1  # alpha\n",
    "error_tolerance = 5e4  # epsilon\n",
    "Nmax = 250\n",
    "z = stats.norm.ppf(1.0 - confidence_level / 2.0)\n",
    "\n",
    "time_data_estimators[\"N_montecarlo\"] = pd.to_numeric(\n",
    "    ((time_data_estimators[\"std_dropfirst\"] * z / error_tolerance) ** 2)\n",
    "    .apply(lambda x: np.minimum(x, Nmax))\n",
    "    .apply(np.ceil),\n",
    "    downcast=\"integer\",\n",
    ").rename(\"N_iterations\")\n",
    "\n",
    "time_data_estimators"
   ]
  },
  {
   "cell_type": "markdown",
   "id": "a8e1fed3",
   "metadata": {},
   "source": [
    "### Perform the second pass\n",
    "\n",
    "After calculating the number of further iterations needed for our chosen level of confidence, we perform the trials below and then recalculate the statistics."
   ]
  },
  {
   "cell_type": "code",
   "execution_count": 15,
   "id": "cb3a92dd",
   "metadata": {
    "scrolled": false
   },
   "outputs": [
    {
     "name": "stdout",
     "output_type": "stream",
     "text": [
      "Running 1 iteration of planck_function with 100 frequency bins...\n"
     ]
    },
    {
     "data": {
      "application/vnd.jupyter.widget-view+json": {
       "model_id": "a6294b8cd5164998ac48f5052b84d3a8",
       "version_major": 2,
       "version_minor": 0
      },
      "text/plain": [
       "  0%|          | 0/1 [00:00<?, ?it/s]"
      ]
     },
     "metadata": {},
     "output_type": "display_data"
    },
    {
     "name": "stdout",
     "output_type": "stream",
     "text": [
      "Running 1 iteration of planck_function with 200 frequency bins...\n"
     ]
    },
    {
     "data": {
      "application/vnd.jupyter.widget-view+json": {
       "model_id": "1f7493c59f5f44e899a1e079caf4bf37",
       "version_major": 2,
       "version_minor": 0
      },
      "text/plain": [
       "  0%|          | 0/1 [00:00<?, ?it/s]"
      ]
     },
     "metadata": {},
     "output_type": "display_data"
    },
    {
     "name": "stdout",
     "output_type": "stream",
     "text": [
      "Running 1 iteration of planck_function with 500 frequency bins...\n"
     ]
    },
    {
     "data": {
      "application/vnd.jupyter.widget-view+json": {
       "model_id": "22577f14325d43c98a314b4a634e44f8",
       "version_major": 2,
       "version_minor": 0
      },
      "text/plain": [
       "  0%|          | 0/1 [00:00<?, ?it/s]"
      ]
     },
     "metadata": {},
     "output_type": "display_data"
    },
    {
     "name": "stdout",
     "output_type": "stream",
     "text": [
      "Running 1 iteration of planck_function with 1000 frequency bins...\n"
     ]
    },
    {
     "data": {
      "application/vnd.jupyter.widget-view+json": {
       "model_id": "5926d841d7a044828f738632eae3d6ba",
       "version_major": 2,
       "version_minor": 0
      },
      "text/plain": [
       "  0%|          | 0/1 [00:00<?, ?it/s]"
      ]
     },
     "metadata": {},
     "output_type": "display_data"
    },
    {
     "name": "stdout",
     "output_type": "stream",
     "text": [
      "Running 1 iteration of planck_function with 2000 frequency bins...\n"
     ]
    },
    {
     "data": {
      "application/vnd.jupyter.widget-view+json": {
       "model_id": "62cb0fdc98a14fd883ff2e5d30c68501",
       "version_major": 2,
       "version_minor": 0
      },
      "text/plain": [
       "  0%|          | 0/1 [00:00<?, ?it/s]"
      ]
     },
     "metadata": {},
     "output_type": "display_data"
    },
    {
     "name": "stdout",
     "output_type": "stream",
     "text": [
      "Running 1 iteration of planck_function with 5000 frequency bins...\n"
     ]
    },
    {
     "data": {
      "application/vnd.jupyter.widget-view+json": {
       "model_id": "da0158eaebea4370bb0786c4dd65f1e6",
       "version_major": 2,
       "version_minor": 0
      },
      "text/plain": [
       "  0%|          | 0/1 [00:00<?, ?it/s]"
      ]
     },
     "metadata": {},
     "output_type": "display_data"
    },
    {
     "name": "stdout",
     "output_type": "stream",
     "text": [
      "Running 1 iteration of planck_function with 10000 frequency bins...\n"
     ]
    },
    {
     "data": {
      "application/vnd.jupyter.widget-view+json": {
       "model_id": "34e2831e969c4820b71b7429be000b12",
       "version_major": 2,
       "version_minor": 0
      },
      "text/plain": [
       "  0%|          | 0/1 [00:00<?, ?it/s]"
      ]
     },
     "metadata": {},
     "output_type": "display_data"
    },
    {
     "name": "stdout",
     "output_type": "stream",
     "text": [
      "Running 1 iteration of planck_function with 20000 frequency bins...\n"
     ]
    },
    {
     "data": {
      "application/vnd.jupyter.widget-view+json": {
       "model_id": "185e31f1c6c84fef85bd9c605eb3601f",
       "version_major": 2,
       "version_minor": 0
      },
      "text/plain": [
       "  0%|          | 0/1 [00:00<?, ?it/s]"
      ]
     },
     "metadata": {},
     "output_type": "display_data"
    },
    {
     "name": "stdout",
     "output_type": "stream",
     "text": [
      "Running 1 iteration of planck_function with 50000 frequency bins...\n"
     ]
    },
    {
     "data": {
      "application/vnd.jupyter.widget-view+json": {
       "model_id": "5c58523757804979959f9e825c7ffc64",
       "version_major": 2,
       "version_minor": 0
      },
      "text/plain": [
       "  0%|          | 0/1 [00:00<?, ?it/s]"
      ]
     },
     "metadata": {},
     "output_type": "display_data"
    },
    {
     "name": "stdout",
     "output_type": "stream",
     "text": [
      "Running 2 iterations of planck_function with 100000 frequency bins...\n"
     ]
    },
    {
     "data": {
      "application/vnd.jupyter.widget-view+json": {
       "model_id": "e680eef3a3db40c6a5f05264f7d0c0f8",
       "version_major": 2,
       "version_minor": 0
      },
      "text/plain": [
       "  0%|          | 0/2 [00:00<?, ?it/s]"
      ]
     },
     "metadata": {},
     "output_type": "display_data"
    },
    {
     "name": "stdout",
     "output_type": "stream",
     "text": [
      "Running 1 iteration of planck_function with 200000 frequency bins...\n"
     ]
    },
    {
     "data": {
      "application/vnd.jupyter.widget-view+json": {
       "model_id": "21c5f871408946729fa715dc5564a65e",
       "version_major": 2,
       "version_minor": 0
      },
      "text/plain": [
       "  0%|          | 0/1 [00:00<?, ?it/s]"
      ]
     },
     "metadata": {},
     "output_type": "display_data"
    },
    {
     "name": "stdout",
     "output_type": "stream",
     "text": [
      "Running 3 iterations of planck_function with 500000 frequency bins...\n"
     ]
    },
    {
     "data": {
      "application/vnd.jupyter.widget-view+json": {
       "model_id": "e998a27b6b594b7fbc7e5619390f4b44",
       "version_major": 2,
       "version_minor": 0
      },
      "text/plain": [
       "  0%|          | 0/3 [00:00<?, ?it/s]"
      ]
     },
     "metadata": {},
     "output_type": "display_data"
    },
    {
     "name": "stdout",
     "output_type": "stream",
     "text": [
      "Running 21 iterations of planck_function with 1000000 frequency bins...\n"
     ]
    },
    {
     "data": {
      "application/vnd.jupyter.widget-view+json": {
       "model_id": "17f91f8c83b84b8cab3bdc85f8c9a6c2",
       "version_major": 2,
       "version_minor": 0
      },
      "text/plain": [
       "  0%|          | 0/21 [00:00<?, ?it/s]"
      ]
     },
     "metadata": {},
     "output_type": "display_data"
    },
    {
     "name": "stdout",
     "output_type": "stream",
     "text": [
      "Running 5 iterations of planck_function with 2000000 frequency bins...\n"
     ]
    },
    {
     "data": {
      "application/vnd.jupyter.widget-view+json": {
       "model_id": "dc88c5af0b3c484f87b362ecb928bc73",
       "version_major": 2,
       "version_minor": 0
      },
      "text/plain": [
       "  0%|          | 0/5 [00:00<?, ?it/s]"
      ]
     },
     "metadata": {},
     "output_type": "display_data"
    },
    {
     "name": "stdout",
     "output_type": "stream",
     "text": [
      "Running 25 iterations of planck_function with 5000000 frequency bins...\n"
     ]
    },
    {
     "data": {
      "application/vnd.jupyter.widget-view+json": {
       "model_id": "46a9c85972214f2ebb209f08539294b3",
       "version_major": 2,
       "version_minor": 0
      },
      "text/plain": [
       "  0%|          | 0/25 [00:00<?, ?it/s]"
      ]
     },
     "metadata": {},
     "output_type": "display_data"
    },
    {
     "name": "stdout",
     "output_type": "stream",
     "text": [
      "Running 1 iteration of planck_function_numba with 100 frequency bins...\n"
     ]
    },
    {
     "data": {
      "application/vnd.jupyter.widget-view+json": {
       "model_id": "c4ea08edebe74f23b661179ba8366581",
       "version_major": 2,
       "version_minor": 0
      },
      "text/plain": [
       "  0%|          | 0/1 [00:00<?, ?it/s]"
      ]
     },
     "metadata": {},
     "output_type": "display_data"
    },
    {
     "name": "stdout",
     "output_type": "stream",
     "text": [
      "Running 1 iteration of planck_function_numba with 200 frequency bins...\n"
     ]
    },
    {
     "data": {
      "application/vnd.jupyter.widget-view+json": {
       "model_id": "e6a6c0fe0b8b467a833b8401a9d918c5",
       "version_major": 2,
       "version_minor": 0
      },
      "text/plain": [
       "  0%|          | 0/1 [00:00<?, ?it/s]"
      ]
     },
     "metadata": {},
     "output_type": "display_data"
    },
    {
     "name": "stdout",
     "output_type": "stream",
     "text": [
      "Running 1 iteration of planck_function_numba with 500 frequency bins...\n"
     ]
    },
    {
     "data": {
      "application/vnd.jupyter.widget-view+json": {
       "model_id": "8248604ea4ac4303856552e865a2cc7c",
       "version_major": 2,
       "version_minor": 0
      },
      "text/plain": [
       "  0%|          | 0/1 [00:00<?, ?it/s]"
      ]
     },
     "metadata": {},
     "output_type": "display_data"
    },
    {
     "name": "stdout",
     "output_type": "stream",
     "text": [
      "Running 1 iteration of planck_function_numba with 1000 frequency bins...\n"
     ]
    },
    {
     "data": {
      "application/vnd.jupyter.widget-view+json": {
       "model_id": "2c5a0a4d8c6f42049041c044ba8f4405",
       "version_major": 2,
       "version_minor": 0
      },
      "text/plain": [
       "  0%|          | 0/1 [00:00<?, ?it/s]"
      ]
     },
     "metadata": {},
     "output_type": "display_data"
    },
    {
     "name": "stdout",
     "output_type": "stream",
     "text": [
      "Running 1 iteration of planck_function_numba with 2000 frequency bins...\n"
     ]
    },
    {
     "data": {
      "application/vnd.jupyter.widget-view+json": {
       "model_id": "b36e1e3873f44343adae75eed7f15f15",
       "version_major": 2,
       "version_minor": 0
      },
      "text/plain": [
       "  0%|          | 0/1 [00:00<?, ?it/s]"
      ]
     },
     "metadata": {},
     "output_type": "display_data"
    },
    {
     "name": "stdout",
     "output_type": "stream",
     "text": [
      "Running 1 iteration of planck_function_numba with 5000 frequency bins...\n"
     ]
    },
    {
     "data": {
      "application/vnd.jupyter.widget-view+json": {
       "model_id": "a40beada818f4107bac3dbd0cfc4c4c1",
       "version_major": 2,
       "version_minor": 0
      },
      "text/plain": [
       "  0%|          | 0/1 [00:00<?, ?it/s]"
      ]
     },
     "metadata": {},
     "output_type": "display_data"
    },
    {
     "name": "stdout",
     "output_type": "stream",
     "text": [
      "Running 1 iteration of planck_function_numba with 10000 frequency bins...\n"
     ]
    },
    {
     "data": {
      "application/vnd.jupyter.widget-view+json": {
       "model_id": "a83ffba16b5840c2a6299414680c30b6",
       "version_major": 2,
       "version_minor": 0
      },
      "text/plain": [
       "  0%|          | 0/1 [00:00<?, ?it/s]"
      ]
     },
     "metadata": {},
     "output_type": "display_data"
    },
    {
     "name": "stdout",
     "output_type": "stream",
     "text": [
      "Running 1 iteration of planck_function_numba with 20000 frequency bins...\n"
     ]
    },
    {
     "data": {
      "application/vnd.jupyter.widget-view+json": {
       "model_id": "3896fbfef8a54d28a272a4c030ff93c7",
       "version_major": 2,
       "version_minor": 0
      },
      "text/plain": [
       "  0%|          | 0/1 [00:00<?, ?it/s]"
      ]
     },
     "metadata": {},
     "output_type": "display_data"
    },
    {
     "name": "stdout",
     "output_type": "stream",
     "text": [
      "Running 1 iteration of planck_function_numba with 50000 frequency bins...\n"
     ]
    },
    {
     "data": {
      "application/vnd.jupyter.widget-view+json": {
       "model_id": "b6941910ef7945a6aa9a20c8d9398b05",
       "version_major": 2,
       "version_minor": 0
      },
      "text/plain": [
       "  0%|          | 0/1 [00:00<?, ?it/s]"
      ]
     },
     "metadata": {},
     "output_type": "display_data"
    },
    {
     "name": "stdout",
     "output_type": "stream",
     "text": [
      "Running 1 iteration of planck_function_numba with 100000 frequency bins...\n"
     ]
    },
    {
     "data": {
      "application/vnd.jupyter.widget-view+json": {
       "model_id": "d7fac1775b634374b44ec47e0553f5d8",
       "version_major": 2,
       "version_minor": 0
      },
      "text/plain": [
       "  0%|          | 0/1 [00:00<?, ?it/s]"
      ]
     },
     "metadata": {},
     "output_type": "display_data"
    },
    {
     "name": "stdout",
     "output_type": "stream",
     "text": [
      "Running 1 iteration of planck_function_numba with 200000 frequency bins...\n"
     ]
    },
    {
     "data": {
      "application/vnd.jupyter.widget-view+json": {
       "model_id": "3b792f31966b48a791e746029b0a893b",
       "version_major": 2,
       "version_minor": 0
      },
      "text/plain": [
       "  0%|          | 0/1 [00:00<?, ?it/s]"
      ]
     },
     "metadata": {},
     "output_type": "display_data"
    },
    {
     "name": "stdout",
     "output_type": "stream",
     "text": [
      "Running 1 iteration of planck_function_numba with 500000 frequency bins...\n"
     ]
    },
    {
     "data": {
      "application/vnd.jupyter.widget-view+json": {
       "model_id": "3d51c9af0cca47febc8a85810052a78f",
       "version_major": 2,
       "version_minor": 0
      },
      "text/plain": [
       "  0%|          | 0/1 [00:00<?, ?it/s]"
      ]
     },
     "metadata": {},
     "output_type": "display_data"
    },
    {
     "name": "stdout",
     "output_type": "stream",
     "text": [
      "Running 2 iterations of planck_function_numba with 1000000 frequency bins...\n"
     ]
    },
    {
     "data": {
      "application/vnd.jupyter.widget-view+json": {
       "model_id": "1debe73a173948e88a479d9747a94da1",
       "version_major": 2,
       "version_minor": 0
      },
      "text/plain": [
       "  0%|          | 0/2 [00:00<?, ?it/s]"
      ]
     },
     "metadata": {},
     "output_type": "display_data"
    },
    {
     "name": "stdout",
     "output_type": "stream",
     "text": [
      "Running 6 iterations of planck_function_numba with 2000000 frequency bins...\n"
     ]
    },
    {
     "data": {
      "application/vnd.jupyter.widget-view+json": {
       "model_id": "3a7b23869f674a7cadac6b41d06817ce",
       "version_major": 2,
       "version_minor": 0
      },
      "text/plain": [
       "  0%|          | 0/6 [00:00<?, ?it/s]"
      ]
     },
     "metadata": {},
     "output_type": "display_data"
    },
    {
     "name": "stdout",
     "output_type": "stream",
     "text": [
      "Running 11 iterations of planck_function_numba with 5000000 frequency bins...\n"
     ]
    },
    {
     "data": {
      "application/vnd.jupyter.widget-view+json": {
       "model_id": "3d0e5a0a3c9d4dc98c771c84891edda4",
       "version_major": 2,
       "version_minor": 0
      },
      "text/plain": [
       "  0%|          | 0/11 [00:00<?, ?it/s]"
      ]
     },
     "metadata": {},
     "output_type": "display_data"
    },
    {
     "name": "stdout",
     "output_type": "stream",
     "text": [
      "Running 418 iterations of planck_function_numba_parallel with 100 frequency bins...\n"
     ]
    },
    {
     "data": {
      "application/vnd.jupyter.widget-view+json": {
       "model_id": "92826be178c44676815676e59849672f",
       "version_major": 2,
       "version_minor": 0
      },
      "text/plain": [
       "  0%|          | 0/418 [00:00<?, ?it/s]"
      ]
     },
     "metadata": {},
     "output_type": "display_data"
    },
    {
     "name": "stdout",
     "output_type": "stream",
     "text": [
      "Running 500 iterations of planck_function_numba_parallel with 200 frequency bins...\n"
     ]
    },
    {
     "data": {
      "application/vnd.jupyter.widget-view+json": {
       "model_id": "5a58fa14e36c4b5db485437073155524",
       "version_major": 2,
       "version_minor": 0
      },
      "text/plain": [
       "  0%|          | 0/500 [00:00<?, ?it/s]"
      ]
     },
     "metadata": {},
     "output_type": "display_data"
    },
    {
     "name": "stdout",
     "output_type": "stream",
     "text": [
      "Running 352 iterations of planck_function_numba_parallel with 500 frequency bins...\n"
     ]
    },
    {
     "data": {
      "application/vnd.jupyter.widget-view+json": {
       "model_id": "91c48a6938324e0e80359d14a0d12fbc",
       "version_major": 2,
       "version_minor": 0
      },
      "text/plain": [
       "  0%|          | 0/352 [00:00<?, ?it/s]"
      ]
     },
     "metadata": {},
     "output_type": "display_data"
    },
    {
     "name": "stdout",
     "output_type": "stream",
     "text": [
      "Running 500 iterations of planck_function_numba_parallel with 1000 frequency bins...\n"
     ]
    },
    {
     "data": {
      "application/vnd.jupyter.widget-view+json": {
       "model_id": "a33667b916054fa6a3f138bb8b4bbd49",
       "version_major": 2,
       "version_minor": 0
      },
      "text/plain": [
       "  0%|          | 0/500 [00:00<?, ?it/s]"
      ]
     },
     "metadata": {},
     "output_type": "display_data"
    },
    {
     "name": "stdout",
     "output_type": "stream",
     "text": [
      "Running 372 iterations of planck_function_numba_parallel with 2000 frequency bins...\n"
     ]
    },
    {
     "data": {
      "application/vnd.jupyter.widget-view+json": {
       "model_id": "d6329a92c98b4b0d8ac696ff7353e0c1",
       "version_major": 2,
       "version_minor": 0
      },
      "text/plain": [
       "  0%|          | 0/372 [00:00<?, ?it/s]"
      ]
     },
     "metadata": {},
     "output_type": "display_data"
    },
    {
     "name": "stdout",
     "output_type": "stream",
     "text": [
      "Running 475 iterations of planck_function_numba_parallel with 5000 frequency bins...\n"
     ]
    },
    {
     "data": {
      "application/vnd.jupyter.widget-view+json": {
       "model_id": "5e7efe26e1a1457a9d73cd20ecbc029b",
       "version_major": 2,
       "version_minor": 0
      },
      "text/plain": [
       "  0%|          | 0/475 [00:00<?, ?it/s]"
      ]
     },
     "metadata": {},
     "output_type": "display_data"
    },
    {
     "name": "stdout",
     "output_type": "stream",
     "text": [
      "Running 47 iterations of planck_function_numba_parallel with 10000 frequency bins...\n"
     ]
    },
    {
     "data": {
      "application/vnd.jupyter.widget-view+json": {
       "model_id": "ab826325836949598be8a02271c7cf8b",
       "version_major": 2,
       "version_minor": 0
      },
      "text/plain": [
       "  0%|          | 0/47 [00:00<?, ?it/s]"
      ]
     },
     "metadata": {},
     "output_type": "display_data"
    },
    {
     "name": "stdout",
     "output_type": "stream",
     "text": [
      "Running 447 iterations of planck_function_numba_parallel with 20000 frequency bins...\n"
     ]
    },
    {
     "data": {
      "application/vnd.jupyter.widget-view+json": {
       "model_id": "67d28903965347b38fd36f602b9f5a30",
       "version_major": 2,
       "version_minor": 0
      },
      "text/plain": [
       "  0%|          | 0/447 [00:00<?, ?it/s]"
      ]
     },
     "metadata": {},
     "output_type": "display_data"
    },
    {
     "name": "stdout",
     "output_type": "stream",
     "text": [
      "Running 500 iterations of planck_function_numba_parallel with 50000 frequency bins...\n"
     ]
    },
    {
     "data": {
      "application/vnd.jupyter.widget-view+json": {
       "model_id": "581039b43da148b49a3650caabb489e4",
       "version_major": 2,
       "version_minor": 0
      },
      "text/plain": [
       "  0%|          | 0/500 [00:00<?, ?it/s]"
      ]
     },
     "metadata": {},
     "output_type": "display_data"
    },
    {
     "name": "stdout",
     "output_type": "stream",
     "text": [
      "Running 87 iterations of planck_function_numba_parallel with 100000 frequency bins...\n"
     ]
    },
    {
     "data": {
      "application/vnd.jupyter.widget-view+json": {
       "model_id": "52f15de2d2634523810c1c5bede62dea",
       "version_major": 2,
       "version_minor": 0
      },
      "text/plain": [
       "  0%|          | 0/87 [00:00<?, ?it/s]"
      ]
     },
     "metadata": {},
     "output_type": "display_data"
    },
    {
     "name": "stdout",
     "output_type": "stream",
     "text": [
      "Running 1 iteration of planck_function_numba_parallel with 200000 frequency bins...\n"
     ]
    },
    {
     "data": {
      "application/vnd.jupyter.widget-view+json": {
       "model_id": "6b24f44cdbd14dffbe8f987550fad10d",
       "version_major": 2,
       "version_minor": 0
      },
      "text/plain": [
       "  0%|          | 0/1 [00:00<?, ?it/s]"
      ]
     },
     "metadata": {},
     "output_type": "display_data"
    },
    {
     "name": "stdout",
     "output_type": "stream",
     "text": [
      "Running 213 iterations of planck_function_numba_parallel with 500000 frequency bins...\n"
     ]
    },
    {
     "data": {
      "application/vnd.jupyter.widget-view+json": {
       "model_id": "94b579054aef4df4b7623d685bbf4f75",
       "version_major": 2,
       "version_minor": 0
      },
      "text/plain": [
       "  0%|          | 0/213 [00:00<?, ?it/s]"
      ]
     },
     "metadata": {},
     "output_type": "display_data"
    },
    {
     "name": "stdout",
     "output_type": "stream",
     "text": [
      "Running 274 iterations of planck_function_numba_parallel with 1000000 frequency bins...\n"
     ]
    },
    {
     "data": {
      "application/vnd.jupyter.widget-view+json": {
       "model_id": "cb7e7904fba241f28231b5c693eacdf1",
       "version_major": 2,
       "version_minor": 0
      },
      "text/plain": [
       "  0%|          | 0/274 [00:00<?, ?it/s]"
      ]
     },
     "metadata": {},
     "output_type": "display_data"
    },
    {
     "name": "stdout",
     "output_type": "stream",
     "text": [
      "Running 447 iterations of planck_function_numba_parallel with 2000000 frequency bins...\n"
     ]
    },
    {
     "data": {
      "application/vnd.jupyter.widget-view+json": {
       "model_id": "109fe4361fcd41038e4d4e32aba65119",
       "version_major": 2,
       "version_minor": 0
      },
      "text/plain": [
       "  0%|          | 0/447 [00:00<?, ?it/s]"
      ]
     },
     "metadata": {},
     "output_type": "display_data"
    },
    {
     "name": "stdout",
     "output_type": "stream",
     "text": [
      "Running 176 iterations of planck_function_numba_parallel with 5000000 frequency bins...\n"
     ]
    },
    {
     "data": {
      "application/vnd.jupyter.widget-view+json": {
       "model_id": "c544bf8f08b84d11ac9d809919748683",
       "version_major": 2,
       "version_minor": 0
      },
      "text/plain": [
       "  0%|          | 0/176 [00:00<?, ?it/s]"
      ]
     },
     "metadata": {},
     "output_type": "display_data"
    }
   ],
   "source": [
    "for tup in time_data_estimators.itertuples():\n",
    "    func_name = tup.Index[0]\n",
    "    freq = tup.Index[1]\n",
    "    func = funcdict[func_name]\n",
    "    plural = \"s\" if tup.N_montecarlo > 1 else \"\"\n",
    "    tqdm.tqdm.write(\n",
    "        f\"Running {tup.N_montecarlo} iteration{plural} of {func_name} with {freq} frequency bins...\"\n",
    "    )\n",
    "    for n in tqdm.trange(tup.N_montecarlo):\n",
    "        tempdf = time_trial(\n",
    "            func,\n",
    "            func_name,\n",
    "            freq,\n",
    "        )\n",
    "        raw_time_data = pd.concat(\n",
    "            [\n",
    "                raw_time_data,\n",
    "                tempdf,\n",
    "            ],\n",
    "            ignore_index=True,\n",
    "        )"
   ]
  },
  {
   "cell_type": "code",
   "execution_count": 16,
   "id": "c2795835",
   "metadata": {},
   "outputs": [
    {
     "data": {
      "text/html": [
       "<div>\n",
       "<style scoped>\n",
       "    .dataframe tbody tr th:only-of-type {\n",
       "        vertical-align: middle;\n",
       "    }\n",
       "\n",
       "    .dataframe tbody tr th {\n",
       "        vertical-align: top;\n",
       "    }\n",
       "\n",
       "    .dataframe thead th {\n",
       "        text-align: right;\n",
       "    }\n",
       "</style>\n",
       "<table border=\"1\" class=\"dataframe\">\n",
       "  <thead>\n",
       "    <tr style=\"text-align: right;\">\n",
       "      <th></th>\n",
       "      <th></th>\n",
       "      <th>mean</th>\n",
       "      <th>std</th>\n",
       "      <th>mean_dropfirst</th>\n",
       "      <th>std_dropfirst</th>\n",
       "      <th>N_montecarlo</th>\n",
       "    </tr>\n",
       "    <tr>\n",
       "      <th>func_name</th>\n",
       "      <th>freq_bins</th>\n",
       "      <th></th>\n",
       "      <th></th>\n",
       "      <th></th>\n",
       "      <th></th>\n",
       "      <th></th>\n",
       "    </tr>\n",
       "  </thead>\n",
       "  <tbody>\n",
       "    <tr>\n",
       "      <th rowspan=\"15\" valign=\"top\">planck_function</th>\n",
       "      <th>100</th>\n",
       "      <td>2.080849e+05</td>\n",
       "      <td>1.005535e+04</td>\n",
       "      <td>2.078322e+05</td>\n",
       "      <td>1.023185e+04</td>\n",
       "      <td>1</td>\n",
       "    </tr>\n",
       "    <tr>\n",
       "      <th>200</th>\n",
       "      <td>2.115455e+05</td>\n",
       "      <td>1.007973e+04</td>\n",
       "      <td>2.119795e+05</td>\n",
       "      <td>1.011576e+04</td>\n",
       "      <td>1</td>\n",
       "    </tr>\n",
       "    <tr>\n",
       "      <th>500</th>\n",
       "      <td>2.125511e+05</td>\n",
       "      <td>5.471408e+03</td>\n",
       "      <td>2.125523e+05</td>\n",
       "      <td>5.606521e+03</td>\n",
       "      <td>1</td>\n",
       "    </tr>\n",
       "    <tr>\n",
       "      <th>1000</th>\n",
       "      <td>2.265363e+05</td>\n",
       "      <td>1.054672e+04</td>\n",
       "      <td>2.267769e+05</td>\n",
       "      <td>1.074513e+04</td>\n",
       "      <td>1</td>\n",
       "    </tr>\n",
       "    <tr>\n",
       "      <th>2000</th>\n",
       "      <td>2.374013e+05</td>\n",
       "      <td>4.794952e+03</td>\n",
       "      <td>2.373989e+05</td>\n",
       "      <td>4.913351e+03</td>\n",
       "      <td>1</td>\n",
       "    </tr>\n",
       "    <tr>\n",
       "      <th>5000</th>\n",
       "      <td>2.797158e+05</td>\n",
       "      <td>1.099118e+04</td>\n",
       "      <td>2.797040e+05</td>\n",
       "      <td>1.126247e+04</td>\n",
       "      <td>1</td>\n",
       "    </tr>\n",
       "    <tr>\n",
       "      <th>10000</th>\n",
       "      <td>3.587137e+05</td>\n",
       "      <td>5.844395e+03</td>\n",
       "      <td>3.585770e+05</td>\n",
       "      <td>5.952584e+03</td>\n",
       "      <td>1</td>\n",
       "    </tr>\n",
       "    <tr>\n",
       "      <th>20000</th>\n",
       "      <td>5.001873e+05</td>\n",
       "      <td>2.709451e+04</td>\n",
       "      <td>4.997562e+05</td>\n",
       "      <td>2.768621e+04</td>\n",
       "      <td>1</td>\n",
       "    </tr>\n",
       "    <tr>\n",
       "      <th>50000</th>\n",
       "      <td>9.328215e+05</td>\n",
       "      <td>3.366983e+04</td>\n",
       "      <td>9.327900e+05</td>\n",
       "      <td>3.450098e+04</td>\n",
       "      <td>1</td>\n",
       "    </tr>\n",
       "    <tr>\n",
       "      <th>100000</th>\n",
       "      <td>1.699396e+06</td>\n",
       "      <td>8.439624e+04</td>\n",
       "      <td>1.691897e+06</td>\n",
       "      <td>7.814656e+04</td>\n",
       "      <td>2</td>\n",
       "    </tr>\n",
       "    <tr>\n",
       "      <th>200000</th>\n",
       "      <td>3.536234e+06</td>\n",
       "      <td>6.475617e+04</td>\n",
       "      <td>3.528852e+06</td>\n",
       "      <td>5.607367e+04</td>\n",
       "      <td>1</td>\n",
       "    </tr>\n",
       "    <tr>\n",
       "      <th>500000</th>\n",
       "      <td>8.393228e+06</td>\n",
       "      <td>3.930540e+05</td>\n",
       "      <td>8.355044e+06</td>\n",
       "      <td>3.534579e+05</td>\n",
       "      <td>3</td>\n",
       "    </tr>\n",
       "    <tr>\n",
       "      <th>1000000</th>\n",
       "      <td>1.571809e+07</td>\n",
       "      <td>1.927723e+05</td>\n",
       "      <td>1.570673e+07</td>\n",
       "      <td>1.803890e+05</td>\n",
       "      <td>21</td>\n",
       "    </tr>\n",
       "    <tr>\n",
       "      <th>2000000</th>\n",
       "      <td>3.274007e+07</td>\n",
       "      <td>3.365854e+05</td>\n",
       "      <td>3.268471e+07</td>\n",
       "      <td>1.871464e+05</td>\n",
       "      <td>5</td>\n",
       "    </tr>\n",
       "    <tr>\n",
       "      <th>5000000</th>\n",
       "      <td>1.059324e+08</td>\n",
       "      <td>9.153803e+05</td>\n",
       "      <td>1.059518e+08</td>\n",
       "      <td>9.161028e+05</td>\n",
       "      <td>25</td>\n",
       "    </tr>\n",
       "    <tr>\n",
       "      <th rowspan=\"15\" valign=\"top\">planck_function_numba</th>\n",
       "      <th>100</th>\n",
       "      <td>1.103965e+07</td>\n",
       "      <td>5.176197e+07</td>\n",
       "      <td>3.956381e+03</td>\n",
       "      <td>1.106025e+03</td>\n",
       "      <td>1</td>\n",
       "    </tr>\n",
       "    <tr>\n",
       "      <th>200</th>\n",
       "      <td>5.175591e+03</td>\n",
       "      <td>1.704552e+03</td>\n",
       "      <td>5.198429e+03</td>\n",
       "      <td>1.743193e+03</td>\n",
       "      <td>1</td>\n",
       "    </tr>\n",
       "    <tr>\n",
       "      <th>500</th>\n",
       "      <td>7.723773e+03</td>\n",
       "      <td>4.554592e+02</td>\n",
       "      <td>7.729476e+03</td>\n",
       "      <td>4.659010e+02</td>\n",
       "      <td>1</td>\n",
       "    </tr>\n",
       "    <tr>\n",
       "      <th>1000</th>\n",
       "      <td>1.259477e+04</td>\n",
       "      <td>2.310757e+02</td>\n",
       "      <td>1.260281e+04</td>\n",
       "      <td>2.336103e+02</td>\n",
       "      <td>1</td>\n",
       "    </tr>\n",
       "    <tr>\n",
       "      <th>2000</th>\n",
       "      <td>1.706155e+04</td>\n",
       "      <td>2.782486e+02</td>\n",
       "      <td>1.705981e+04</td>\n",
       "      <td>2.849978e+02</td>\n",
       "      <td>1</td>\n",
       "    </tr>\n",
       "    <tr>\n",
       "      <th>5000</th>\n",
       "      <td>3.009655e+04</td>\n",
       "      <td>1.820266e+03</td>\n",
       "      <td>3.010990e+04</td>\n",
       "      <td>1.864112e+03</td>\n",
       "      <td>1</td>\n",
       "    </tr>\n",
       "    <tr>\n",
       "      <th>10000</th>\n",
       "      <td>5.331918e+04</td>\n",
       "      <td>5.071153e+03</td>\n",
       "      <td>5.337652e+04</td>\n",
       "      <td>5.189071e+03</td>\n",
       "      <td>1</td>\n",
       "    </tr>\n",
       "    <tr>\n",
       "      <th>20000</th>\n",
       "      <td>9.585950e+04</td>\n",
       "      <td>8.663548e+03</td>\n",
       "      <td>9.595690e+04</td>\n",
       "      <td>8.865143e+03</td>\n",
       "      <td>1</td>\n",
       "    </tr>\n",
       "    <tr>\n",
       "      <th>50000</th>\n",
       "      <td>2.195261e+05</td>\n",
       "      <td>2.077057e+04</td>\n",
       "      <td>2.199398e+05</td>\n",
       "      <td>2.119043e+04</td>\n",
       "      <td>1</td>\n",
       "    </tr>\n",
       "    <tr>\n",
       "      <th>100000</th>\n",
       "      <td>4.290446e+05</td>\n",
       "      <td>4.111414e+04</td>\n",
       "      <td>4.274867e+05</td>\n",
       "      <td>4.145871e+04</td>\n",
       "      <td>1</td>\n",
       "    </tr>\n",
       "    <tr>\n",
       "      <th>200000</th>\n",
       "      <td>8.258740e+05</td>\n",
       "      <td>9.646746e+04</td>\n",
       "      <td>8.125280e+05</td>\n",
       "      <td>7.521205e+04</td>\n",
       "      <td>1</td>\n",
       "    </tr>\n",
       "    <tr>\n",
       "      <th>500000</th>\n",
       "      <td>2.007274e+06</td>\n",
       "      <td>1.976867e+05</td>\n",
       "      <td>1.976808e+06</td>\n",
       "      <td>1.399784e+05</td>\n",
       "      <td>1</td>\n",
       "    </tr>\n",
       "    <tr>\n",
       "      <th>1000000</th>\n",
       "      <td>3.921331e+06</td>\n",
       "      <td>4.422288e+05</td>\n",
       "      <td>3.856176e+06</td>\n",
       "      <td>3.203000e+05</td>\n",
       "      <td>2</td>\n",
       "    </tr>\n",
       "    <tr>\n",
       "      <th>2000000</th>\n",
       "      <td>1.015790e+07</td>\n",
       "      <td>1.220898e+05</td>\n",
       "      <td>1.014669e+07</td>\n",
       "      <td>1.094287e+05</td>\n",
       "      <td>6</td>\n",
       "    </tr>\n",
       "    <tr>\n",
       "      <th>5000000</th>\n",
       "      <td>2.521383e+07</td>\n",
       "      <td>3.128718e+05</td>\n",
       "      <td>2.521096e+07</td>\n",
       "      <td>3.176167e+05</td>\n",
       "      <td>11</td>\n",
       "    </tr>\n",
       "    <tr>\n",
       "      <th rowspan=\"15\" valign=\"top\">planck_function_numba_parallel</th>\n",
       "      <th>100</th>\n",
       "      <td>1.085744e+06</td>\n",
       "      <td>1.192760e+07</td>\n",
       "      <td>5.186676e+05</td>\n",
       "      <td>1.048105e+06</td>\n",
       "      <td>418</td>\n",
       "    </tr>\n",
       "    <tr>\n",
       "      <th>200</th>\n",
       "      <td>4.368025e+05</td>\n",
       "      <td>8.676820e+05</td>\n",
       "      <td>4.374519e+05</td>\n",
       "      <td>8.683908e+05</td>\n",
       "      <td>500</td>\n",
       "    </tr>\n",
       "    <tr>\n",
       "      <th>500</th>\n",
       "      <td>4.973791e+05</td>\n",
       "      <td>8.853341e+05</td>\n",
       "      <td>4.928047e+05</td>\n",
       "      <td>8.821015e+05</td>\n",
       "      <td>352</td>\n",
       "    </tr>\n",
       "    <tr>\n",
       "      <th>1000</th>\n",
       "      <td>5.767046e+05</td>\n",
       "      <td>1.065404e+06</td>\n",
       "      <td>5.774147e+05</td>\n",
       "      <td>1.066306e+06</td>\n",
       "      <td>500</td>\n",
       "    </tr>\n",
       "    <tr>\n",
       "      <th>2000</th>\n",
       "      <td>6.138403e+05</td>\n",
       "      <td>1.097868e+06</td>\n",
       "      <td>6.149300e+05</td>\n",
       "      <td>1.099058e+06</td>\n",
       "      <td>372</td>\n",
       "    </tr>\n",
       "    <tr>\n",
       "      <th>5000</th>\n",
       "      <td>7.391081e+05</td>\n",
       "      <td>1.248970e+06</td>\n",
       "      <td>7.402192e+05</td>\n",
       "      <td>1.249988e+06</td>\n",
       "      <td>475</td>\n",
       "    </tr>\n",
       "    <tr>\n",
       "      <th>10000</th>\n",
       "      <td>3.719498e+05</td>\n",
       "      <td>8.088039e+05</td>\n",
       "      <td>3.744841e+05</td>\n",
       "      <td>8.146360e+05</td>\n",
       "      <td>47</td>\n",
       "    </tr>\n",
       "    <tr>\n",
       "      <th>20000</th>\n",
       "      <td>5.631624e+05</td>\n",
       "      <td>1.204506e+06</td>\n",
       "      <td>5.639198e+05</td>\n",
       "      <td>1.205686e+06</td>\n",
       "      <td>447</td>\n",
       "    </tr>\n",
       "    <tr>\n",
       "      <th>50000</th>\n",
       "      <td>5.047450e+05</td>\n",
       "      <td>9.651116e+05</td>\n",
       "      <td>5.054728e+05</td>\n",
       "      <td>9.658978e+05</td>\n",
       "      <td>500</td>\n",
       "    </tr>\n",
       "    <tr>\n",
       "      <th>100000</th>\n",
       "      <td>6.065010e+05</td>\n",
       "      <td>9.756403e+05</td>\n",
       "      <td>6.100298e+05</td>\n",
       "      <td>9.795388e+05</td>\n",
       "      <td>87</td>\n",
       "    </tr>\n",
       "    <tr>\n",
       "      <th>200000</th>\n",
       "      <td>2.730143e+05</td>\n",
       "      <td>1.386832e+04</td>\n",
       "      <td>2.711024e+05</td>\n",
       "      <td>1.084015e+04</td>\n",
       "      <td>1</td>\n",
       "    </tr>\n",
       "    <tr>\n",
       "      <th>500000</th>\n",
       "      <td>9.236790e+05</td>\n",
       "      <td>1.258951e+06</td>\n",
       "      <td>9.256155e+05</td>\n",
       "      <td>1.261312e+06</td>\n",
       "      <td>213</td>\n",
       "    </tr>\n",
       "    <tr>\n",
       "      <th>1000000</th>\n",
       "      <td>8.626588e+05</td>\n",
       "      <td>8.611704e+05</td>\n",
       "      <td>8.630747e+05</td>\n",
       "      <td>8.626090e+05</td>\n",
       "      <td>274</td>\n",
       "    </tr>\n",
       "    <tr>\n",
       "      <th>2000000</th>\n",
       "      <td>1.484469e+06</td>\n",
       "      <td>6.046566e+05</td>\n",
       "      <td>1.484808e+06</td>\n",
       "      <td>6.052603e+05</td>\n",
       "      <td>447</td>\n",
       "    </tr>\n",
       "    <tr>\n",
       "      <th>5000000</th>\n",
       "      <td>3.686681e+06</td>\n",
       "      <td>1.121971e+06</td>\n",
       "      <td>3.688566e+06</td>\n",
       "      <td>1.124532e+06</td>\n",
       "      <td>176</td>\n",
       "    </tr>\n",
       "  </tbody>\n",
       "</table>\n",
       "</div>"
      ],
      "text/plain": [
       "                                                  mean           std  \\\n",
       "func_name                      freq_bins                               \n",
       "planck_function                100        2.080849e+05  1.005535e+04   \n",
       "                               200        2.115455e+05  1.007973e+04   \n",
       "                               500        2.125511e+05  5.471408e+03   \n",
       "                               1000       2.265363e+05  1.054672e+04   \n",
       "                               2000       2.374013e+05  4.794952e+03   \n",
       "                               5000       2.797158e+05  1.099118e+04   \n",
       "                               10000      3.587137e+05  5.844395e+03   \n",
       "                               20000      5.001873e+05  2.709451e+04   \n",
       "                               50000      9.328215e+05  3.366983e+04   \n",
       "                               100000     1.699396e+06  8.439624e+04   \n",
       "                               200000     3.536234e+06  6.475617e+04   \n",
       "                               500000     8.393228e+06  3.930540e+05   \n",
       "                               1000000    1.571809e+07  1.927723e+05   \n",
       "                               2000000    3.274007e+07  3.365854e+05   \n",
       "                               5000000    1.059324e+08  9.153803e+05   \n",
       "planck_function_numba          100        1.103965e+07  5.176197e+07   \n",
       "                               200        5.175591e+03  1.704552e+03   \n",
       "                               500        7.723773e+03  4.554592e+02   \n",
       "                               1000       1.259477e+04  2.310757e+02   \n",
       "                               2000       1.706155e+04  2.782486e+02   \n",
       "                               5000       3.009655e+04  1.820266e+03   \n",
       "                               10000      5.331918e+04  5.071153e+03   \n",
       "                               20000      9.585950e+04  8.663548e+03   \n",
       "                               50000      2.195261e+05  2.077057e+04   \n",
       "                               100000     4.290446e+05  4.111414e+04   \n",
       "                               200000     8.258740e+05  9.646746e+04   \n",
       "                               500000     2.007274e+06  1.976867e+05   \n",
       "                               1000000    3.921331e+06  4.422288e+05   \n",
       "                               2000000    1.015790e+07  1.220898e+05   \n",
       "                               5000000    2.521383e+07  3.128718e+05   \n",
       "planck_function_numba_parallel 100        1.085744e+06  1.192760e+07   \n",
       "                               200        4.368025e+05  8.676820e+05   \n",
       "                               500        4.973791e+05  8.853341e+05   \n",
       "                               1000       5.767046e+05  1.065404e+06   \n",
       "                               2000       6.138403e+05  1.097868e+06   \n",
       "                               5000       7.391081e+05  1.248970e+06   \n",
       "                               10000      3.719498e+05  8.088039e+05   \n",
       "                               20000      5.631624e+05  1.204506e+06   \n",
       "                               50000      5.047450e+05  9.651116e+05   \n",
       "                               100000     6.065010e+05  9.756403e+05   \n",
       "                               200000     2.730143e+05  1.386832e+04   \n",
       "                               500000     9.236790e+05  1.258951e+06   \n",
       "                               1000000    8.626588e+05  8.611704e+05   \n",
       "                               2000000    1.484469e+06  6.046566e+05   \n",
       "                               5000000    3.686681e+06  1.121971e+06   \n",
       "\n",
       "                                          mean_dropfirst  std_dropfirst  \\\n",
       "func_name                      freq_bins                                  \n",
       "planck_function                100          2.078322e+05   1.023185e+04   \n",
       "                               200          2.119795e+05   1.011576e+04   \n",
       "                               500          2.125523e+05   5.606521e+03   \n",
       "                               1000         2.267769e+05   1.074513e+04   \n",
       "                               2000         2.373989e+05   4.913351e+03   \n",
       "                               5000         2.797040e+05   1.126247e+04   \n",
       "                               10000        3.585770e+05   5.952584e+03   \n",
       "                               20000        4.997562e+05   2.768621e+04   \n",
       "                               50000        9.327900e+05   3.450098e+04   \n",
       "                               100000       1.691897e+06   7.814656e+04   \n",
       "                               200000       3.528852e+06   5.607367e+04   \n",
       "                               500000       8.355044e+06   3.534579e+05   \n",
       "                               1000000      1.570673e+07   1.803890e+05   \n",
       "                               2000000      3.268471e+07   1.871464e+05   \n",
       "                               5000000      1.059518e+08   9.161028e+05   \n",
       "planck_function_numba          100          3.956381e+03   1.106025e+03   \n",
       "                               200          5.198429e+03   1.743193e+03   \n",
       "                               500          7.729476e+03   4.659010e+02   \n",
       "                               1000         1.260281e+04   2.336103e+02   \n",
       "                               2000         1.705981e+04   2.849978e+02   \n",
       "                               5000         3.010990e+04   1.864112e+03   \n",
       "                               10000        5.337652e+04   5.189071e+03   \n",
       "                               20000        9.595690e+04   8.865143e+03   \n",
       "                               50000        2.199398e+05   2.119043e+04   \n",
       "                               100000       4.274867e+05   4.145871e+04   \n",
       "                               200000       8.125280e+05   7.521205e+04   \n",
       "                               500000       1.976808e+06   1.399784e+05   \n",
       "                               1000000      3.856176e+06   3.203000e+05   \n",
       "                               2000000      1.014669e+07   1.094287e+05   \n",
       "                               5000000      2.521096e+07   3.176167e+05   \n",
       "planck_function_numba_parallel 100          5.186676e+05   1.048105e+06   \n",
       "                               200          4.374519e+05   8.683908e+05   \n",
       "                               500          4.928047e+05   8.821015e+05   \n",
       "                               1000         5.774147e+05   1.066306e+06   \n",
       "                               2000         6.149300e+05   1.099058e+06   \n",
       "                               5000         7.402192e+05   1.249988e+06   \n",
       "                               10000        3.744841e+05   8.146360e+05   \n",
       "                               20000        5.639198e+05   1.205686e+06   \n",
       "                               50000        5.054728e+05   9.658978e+05   \n",
       "                               100000       6.100298e+05   9.795388e+05   \n",
       "                               200000       2.711024e+05   1.084015e+04   \n",
       "                               500000       9.256155e+05   1.261312e+06   \n",
       "                               1000000      8.630747e+05   8.626090e+05   \n",
       "                               2000000      1.484808e+06   6.052603e+05   \n",
       "                               5000000      3.688566e+06   1.124532e+06   \n",
       "\n",
       "                                          N_montecarlo  \n",
       "func_name                      freq_bins                \n",
       "planck_function                100                   1  \n",
       "                               200                   1  \n",
       "                               500                   1  \n",
       "                               1000                  1  \n",
       "                               2000                  1  \n",
       "                               5000                  1  \n",
       "                               10000                 1  \n",
       "                               20000                 1  \n",
       "                               50000                 1  \n",
       "                               100000                2  \n",
       "                               200000                1  \n",
       "                               500000                3  \n",
       "                               1000000              21  \n",
       "                               2000000               5  \n",
       "                               5000000              25  \n",
       "planck_function_numba          100                   1  \n",
       "                               200                   1  \n",
       "                               500                   1  \n",
       "                               1000                  1  \n",
       "                               2000                  1  \n",
       "                               5000                  1  \n",
       "                               10000                 1  \n",
       "                               20000                 1  \n",
       "                               50000                 1  \n",
       "                               100000                1  \n",
       "                               200000                1  \n",
       "                               500000                1  \n",
       "                               1000000               2  \n",
       "                               2000000               6  \n",
       "                               5000000              11  \n",
       "planck_function_numba_parallel 100                 418  \n",
       "                               200                 500  \n",
       "                               500                 352  \n",
       "                               1000                500  \n",
       "                               2000                372  \n",
       "                               5000                475  \n",
       "                               10000                47  \n",
       "                               20000               447  \n",
       "                               50000               500  \n",
       "                               100000               87  \n",
       "                               200000                1  \n",
       "                               500000              213  \n",
       "                               1000000             274  \n",
       "                               2000000             447  \n",
       "                               5000000             176  "
      ]
     },
     "execution_count": 16,
     "metadata": {},
     "output_type": "execute_result"
    }
   ],
   "source": [
    "raw_time_data = raw_time_data.sort_values(\n",
    "    by=[\n",
    "        \"func_name\",\n",
    "        \"freq_bins\",\n",
    "        \"date\",\n",
    "    ]\n",
    ")\n",
    "\n",
    "groupby = raw_time_data[raw_time_data.columns[:3]].groupby(\n",
    "    [\n",
    "        \"func_name\",\n",
    "        \"freq_bins\",\n",
    "    ]\n",
    ")\n",
    "\n",
    "raw_time_data_dropfirst = raw_time_data.drop(groupby.head(1).index)\n",
    "\n",
    "groupby_dropfirst = raw_time_data_dropfirst[\n",
    "    raw_time_data_dropfirst.columns[:3]\n",
    "].groupby(\n",
    "    [\n",
    "        \"func_name\",\n",
    "        \"freq_bins\",\n",
    "    ]\n",
    ")\n",
    "\n",
    "time_data_estimators[\"mean\"] = groupby.mean()\n",
    "time_data_estimators[\"std\"] = groupby.std()\n",
    "time_data_estimators[\"mean_dropfirst\"] = groupby_dropfirst.mean()\n",
    "time_data_estimators[\"std_dropfirst\"] = groupby_dropfirst.std()\n",
    "\n",
    "# time_data_estimators[\"N_montecarlo\"] = pd.to_numeric(\n",
    "#     ((time_data_estimators[\"std_dropfirst\"] * z / error_tolerance) ** 2)\n",
    "#     .apply(lambda x: np.minimum(x, Nmax))\n",
    "#     .apply(np.ceil),\n",
    "#     downcast=\"integer\",\n",
    "# ).rename(\"N_iterations\")\n",
    "\n",
    "time_data_estimators"
   ]
  },
  {
   "cell_type": "code",
   "execution_count": 46,
   "id": "54bea127",
   "metadata": {},
   "outputs": [
    {
     "data": {
      "text/plain": [
       "<Figure size 1280x480 with 0 Axes>"
      ]
     },
     "metadata": {},
     "output_type": "display_data"
    },
    {
     "data": {
      "image/png": "[encoded data removed]",
      "text/plain": [
       "<Figure size 640x480 with 2 Axes>"
      ]
     },
     "metadata": {},
     "output_type": "display_data"
    }
   ],
   "source": [
    "markers = (\n",
    "    \"o\",\n",
    "    \"s\",\n",
    "    \"^\",\n",
    ")\n",
    "# Different markers to be color-blind friendly\n",
    "plot_metadata = [\n",
    "    {\n",
    "        \"name\": \"mean\",\n",
    "        \"print_title\": \"Mean with JIT iteration\",\n",
    "    },\n",
    "    {\n",
    "        \"name\": \"mean_dropfirst\",\n",
    "        \"print_title\": \"Mean without JIT iteration\",\n",
    "    },\n",
    "]\n",
    "\n",
    "plt.figure(\n",
    "    figsize=(\n",
    "        12.8,\n",
    "        4.8,\n",
    "    ),\n",
    ")\n",
    "\n",
    "fig, axs = plt.subplots(\n",
    "    1,\n",
    "    2,\n",
    "    sharey=True,\n",
    ")\n",
    "\n",
    "for ax, plot_md in zip(axs.flat, plot_metadata):\n",
    "    for f, marker in zip(function_names, markers):\n",
    "        ax.loglog(\n",
    "            time_data_estimators.loc[f][plot_md[\"name\"]],\n",
    "            marker=marker,\n",
    "            label=f,\n",
    "        )\n",
    "        # loglog because of the range of values for freq_bin\n",
    "        ax.grid()\n",
    "        ax.set_xlabel(\"Frequency Bins\")\n",
    "        ax.set_ylabel(\"Average Elapsed Time (ns)\")\n",
    "        ax.set_title(plot_md[\"print_title\"])\n",
    "\n",
    "# plt.title(\"Average Execution Times For JIT and non-JIT Implementations\")\n",
    "# fig.legend(function_names, loc=\"lower right\")\n",
    "fig.legend(\n",
    "    function_names,\n",
    "    bbox_to_anchor=(0, -0.05, 1.1, 0),\n",
    "    loc=\"lower center\",\n",
    "    mode=\"expand\",\n",
    "    ncol=3,\n",
    ")\n",
    "fig.tight_layout()\n",
    "fig.show()\n",
    "# plt.close()\n",
    "\n",
    "# This plot is done in matplotlib because that's what's already used here\n",
    "# and what's available currently installed. I could have done something\n",
    "# more elaborate, but I didn't want to mess with the virtual environment."
   ]
  },
  {
   "cell_type": "markdown",
   "id": "1166da72",
   "metadata": {},
   "source": [
    "We can clearly see where the benefits of parallelization overcome the overhead, i.e. where the square and triangle marked curves cross."
   ]
  }
 ],
 "metadata": {
  "celltoolbar": "Raw Cell Format",
  "kernelspec": {
   "display_name": "Python 3 (ipykernel)",
   "language": "python",
   "name": "python3"
  },
  "language_info": {
   "codemirror_mode": {
    "name": "ipython",
    "version": 3
   },
   "file_extension": ".py",
   "mimetype": "text/x-python",
   "name": "python",
   "nbconvert_exporter": "python",
   "pygments_lexer": "ipython3",
   "version": "3.8.16"
  }
 },
 "nbformat": 4,
 "nbformat_minor": 5
}
