{
 "cells": [
  {
   "cell_type": "markdown",
   "id": "6c0dbe0a",
   "metadata": {},
   "source": [
    "# Energy Packet Initialization\n",
    "\n",
    "## Theory\n",
    "\n",
    "While it is instructive to think about tracking the propagation history of\n",
    "individual photons when illustrating the basic idea behind Monte Carlo radiative transfer\n",
    "techniques, there are important numerical reasons for using a different\n",
    "discretization scheme. Instead of thinking in the photon picture, it brings\n",
    "significant advantages to follow the idea of <strong data-cite=\"Abbott1985\">[]</strong> and\n",
    "<strong data-cite=\"Lucy1999\">[]</strong> and consider parcels of radiant energy as the fundamental\n",
    "building blocks of the Monte Carlo calculation. These basic Monte Carlo quanta\n",
    "are commonly referred to as \"energy packets\" or simply \"packets\", and are composed of many photons with the same frequency.\n",
    "\n",
    "During a Monte Carlo calculation, $N$ (a large number) packets, all with a certain\n",
    "energy $\\varepsilon$, are created at the inner boundary of the computational domain (which is discussed in the [model section](../setup/model.rst)) known as the photosphere. Currently, the photosphere is modeled as a spherical [blackbody](https://en.wikipedia.org/wiki/Black-body_radiation) with a radius $r_\\mathrm{boundary\\_inner}$ and temperature $T_\\mathrm{inner}$. Both of these quantities are calculated as a part of the [model](../setup/model.ipynb), and $T_\\mathrm{inner}$ is additionally updated throughout the simulation as a part of the [Updating Plasma and Convergence](../update_and_conv/update_and_conv.ipynb) process.\n",
    "\n",
    "In TARDIS, all packets are assigned identical energies **in the lab frame** (see [Reference Frames](propagation.rst#reference-frames)), and the total (lab-frame) energy of the packets is 1 erg (and thus each packet has an energy of $\\frac{1}{N}$ ergs).\n",
    "\n",
    "<div class=\"alert alert-info\">\n",
    "    \n",
    "Note\n",
    "\n",
    "The indivisible energy packet scheme does not require that all packets have the same energy. This is just a convenient and simple choice adopted in TARDIS.\n",
    "\n",
    "</div>\n",
    "\n",
    "<div class=\"alert alert-info\">\n",
    "    \n",
    "Note\n",
    "\n",
    "Since all packets have the same total, and photon energy is proportional to frequency, higher-frequency packets will represent less real photons than lower-frequency packets.\n",
    "\n",
    "</div>\n",
    "\n",
    "Since the photosphere is modeled as a blackbody, its total luminosity $L_\\mathrm{inner}$ (recall that luminosity is energy emitted divided by the time in which it is emitted) is\n",
    "$$L_\\mathrm{inner}=\\frac{N\\varepsilon}{\\Delta t}=4 \\pi r_\\mathrm{boundary\\_inner}^2 \\sigma_{\\mathrm{R}} T_{\\mathrm{inner}}^4$$\n",
    "where $\\sigma_\\mathrm{R}$ is the Stefan-Boltzmann constant and $\\Delta t$ is the physical duration of the simulation. In order to make this relationship hold (remembering that $N\\varepsilon = 1$ erg), we use\n",
    "$$\\Delta t = \\frac{1}{L_\\mathrm{inner}}=\\frac{1}{4 \\pi r_\\mathrm{boundary\\_inner}^2 \\sigma_{\\mathrm{R}} T_{\\mathrm{inner}}^4}.$$\n",
    "\n",
    "<div class=\"alert alert-info\">\n",
    "    \n",
    "Note\n",
    "\n",
    "As will be shown in the code example, this will lead to unphysically small values for $\\Delta t$. It may be easier to think of the Monte Carlo packets not as packets of energy $\\epsilon$ going through a simulation of duration $\\Delta t$, but as packets of luminosity that carry an energy $\\epsilon$ over a time $\\Delta t$ (and thus truly being luminosity packets of luminosity $\\frac{\\epsilon}{\\Delta t}$). Indeed, this view of the packets will be useful when deriving the [Monte Carlo Estimators](estimators.rst).\n",
    "\n",
    "</div>\n",
    "\n",
    "During packet initialization, each packet is assigned an initial propagation direction $\\mu$ which is the cosine of the angle $\\theta$ which the packet's path makes with the radial direction (see the image below). Using a pseudo-random number generator which generates numbers $z$ uniformly distributed on the interval $[0,1]$, the propagation direction is determined (due to physical considerations beyond the scope of this documentation) according to\n",
    "$$\\mu = \\sqrt{z}.$$\n",
    "This sampling is shown in the \"Code Example\" section.\n",
    "\n",
    "<img src=\"../images/propagation_direction.png\" width=500>\n",
    "\n",
    "Finally, each packet is assigned an initial frequency (or more precisely, the initial frequency of its constituent photons). Note that since each packet has the same energy, each packet will represent a different number of real photons. The sampling on packet frequencies is more involved than that of the propagation direction, as it involves sampling the Planck distribution (see below). TARDIS uses the technique described in <strong data-cite=\"Carter1975\">[]</strong> and summarized in <strong data-cite=\"Bjorkman2001\">[]</strong> for this purpose.\n",
    "\n",
    "During the simulation, the energy of the packet remains constant in the local\n",
    "co-moving frame (see [Reference Frames](propagation.rst#reference-frames)). This naturally ensures energy\n",
    "conservation and constitutes the main advantage of this discretization scheme. **However, while the energy of the packets is conserved in the co-moving frame, the co-moving frequency of the packet (and thus the photons represented by the packet) may vary over the course of the simulation. Thus, a packet may represent several different numbers of real photons throughout their lifetimes.**\n",
    "\n",
    "## Code Example\n",
    "\n",
    "We now demonstrate the TARDIS packet initialization framework:"
   ]
  },
  {
   "cell_type": "code",
   "execution_count": 1,
   "id": "426325e5",
   "metadata": {},
   "outputs": [
    {
     "data": {
      "application/vnd.jupyter.widget-view+json": {
       "model_id": "",
       "version_major": 2,
       "version_minor": 0
      },
      "text/plain": [
       "Iterations:          0/? [00:00<?, ?it/s]"
      ]
     },
     "metadata": {},
     "output_type": "display_data"
    },
    {
     "data": {
      "application/vnd.jupyter.widget-view+json": {
       "model_id": "",
       "version_major": 2,
       "version_minor": 0
      },
      "text/plain": [
       "Packets:             0/? [00:00<?, ?it/s]"
      ]
     },
     "metadata": {},
     "output_type": "display_data"
    }
   ],
   "source": [
    "import numpy as np\n",
    "from tardis.montecarlo.packet_source import BlackBodySimpleSource\n",
    "from astropy import units as u\n",
    "from tardis import constants as const\n",
    "import matplotlib.pyplot as plt\n",
    "import numba\n",
    "import time\n",
    "import pandas as pd\n",
    "import itertools\n",
    "import tqdm.auto as tqdm\n",
    "import scipy.stats as stats\n",
    "\n",
    "\n",
    "# The random number generator that will be used\n",
    "rng = np.random.default_rng()"
   ]
  },
  {
   "cell_type": "markdown",
   "id": "4ae02998",
   "metadata": {},
   "source": [
    "The following cell contains values that you can change to see how it affects the spectrum (in an actual simulation, the seed and number of packets are set in the [Monte Carlo configuration](../../io/configuration/components/montecarlo.rst), and the photospheric radius is calculated as a part of the [model](../setup/model.ipynb)):"
   ]
  },
  {
   "cell_type": "code",
   "execution_count": 2,
   "id": "bc34bf33",
   "metadata": {},
   "outputs": [],
   "source": [
    "# Seed for the pseudo-random number generator\n",
    "seed = 1\n",
    "\n",
    "# Number of packets generated\n",
    "n_packets = 40000\n",
    "\n",
    "# Radius of the supernova's photosphere in cm\n",
    "r_boundary_inner = 1e15 * u.cm"
   ]
  },
  {
   "cell_type": "markdown",
   "id": "450faf76",
   "metadata": {},
   "source": [
    "We set the temperature of the photosphere $T_\\mathrm{inner}$, which will determine the photospheric luminosity (in an actual simulation, $T_\\mathrm{inner}$ is initially calculated as a part of the [model](../setup/model.ipynb) and updated as a part of the [Updating Plasma and Convergence](../update_and_conv/update_and_conv.ipynb) process):"
   ]
  },
  {
   "cell_type": "code",
   "execution_count": 3,
   "id": "3fb3ca8c",
   "metadata": {},
   "outputs": [
    {
     "name": "stdout",
     "output_type": "stream",
     "text": [
      "Luminosity of photosphere: 7.125600863965567e+42 erg / s\n"
     ]
    }
   ],
   "source": [
    "# Temperature in K\n",
    "temperature_inner = 10000 * u.K\n",
    "\n",
    "luminosity_inner = (\n",
    "    4\n",
    "    * np.pi\n",
    "    * (r_boundary_inner**2)\n",
    "    * const.sigma_sb\n",
    "    * (temperature_inner**4)\n",
    ")\n",
    "\n",
    "# Makes sure the luminosity is given in erg/s\n",
    "luminosity_inner = luminosity_inner.to(\"erg/s\")\n",
    "\n",
    "print(\n",
    "    \"Luminosity of photosphere:\",\n",
    "    luminosity_inner,\n",
    ")"
   ]
  },
  {
   "cell_type": "markdown",
   "id": "516633c5",
   "metadata": {},
   "source": [
    "We now generate the ensemble of packets. The array of packet energies and radii are also shown."
   ]
  },
  {
   "cell_type": "code",
   "execution_count": 4,
   "id": "925e9e1b",
   "metadata": {},
   "outputs": [
    {
     "name": "stdout",
     "output_type": "stream",
     "text": [
      "Energies: [2.5e-05 2.5e-05 2.5e-05 ... 2.5e-05 2.5e-05 2.5e-05] erg\n",
      "Radii: [1.e+15 1.e+15 1.e+15 ... 1.e+15 1.e+15 1.e+15] cm\n"
     ]
    }
   ],
   "source": [
    "# We define our packet source\n",
    "packet_source = BlackBodySimpleSource(seed)\n",
    "\n",
    "radii, nus, mus, energies = packet_source.create_packets(\n",
    "    temperature_inner.value,\n",
    "    n_packets,\n",
    "    rng,\n",
    "    r_boundary_inner,\n",
    ")\n",
    "\n",
    "# Sets the energies in units of ergs\n",
    "energies *= u.erg\n",
    "\n",
    "# Sets the frequencies in units of Hz\n",
    "nus *= u.Hz\n",
    "\n",
    "print(\n",
    "    \"Energies:\",\n",
    "    energies,\n",
    ")\n",
    "print(\n",
    "    \"Radii:\",\n",
    "    radii,\n",
    ")"
   ]
  },
  {
   "cell_type": "markdown",
   "id": "16936bce",
   "metadata": {},
   "source": [
    "We set the timespan of the simulation so that each packet contributes the appropriate luminosity to the spectrum."
   ]
  },
  {
   "cell_type": "code",
   "execution_count": 5,
   "id": "fed35f47",
   "metadata": {},
   "outputs": [
    {
     "name": "stdout",
     "output_type": "stream",
     "text": [
      "Time of simulation: 1.4033904215110305e-43 s\n",
      "Luminosity per packet: [1.78140022e+38 1.78140022e+38 1.78140022e+38 ... 1.78140022e+38\n",
      " 1.78140022e+38 1.78140022e+38] erg / s\n"
     ]
    }
   ],
   "source": [
    "# Time of simulation\n",
    "t_simulation = 1 * u.erg / luminosity_inner\n",
    "print(\n",
    "    \"Time of simulation:\",\n",
    "    t_simulation,\n",
    ")\n",
    "\n",
    "# Array of luminosity contribution by each packet\n",
    "lumin_per_packet = energies / t_simulation\n",
    "print(\n",
    "    \"Luminosity per packet:\",\n",
    "    lumin_per_packet,\n",
    ")"
   ]
  },
  {
   "cell_type": "markdown",
   "id": "0d839222",
   "metadata": {},
   "source": [
    "We define important constants, and for comparison's sake, we code the Planck distribution function\n",
    "$$L_\\nu (\\nu)=\\frac{8\\pi r_\\mathrm{boundary\\_inner}^2 h\\nu^3}{c^2}\\frac{1}{\\exp\\left(\\frac{h\\nu}{k_BT_\\mathrm{inner}}\\right)-1}$$\n",
    "where $L_\\nu$ is the luminosity density (see [Basic Spectrum Generation](../spectrum/basic.ipynb)) with respect to frequency, $\\nu$ is frequency, $h$ is Planck's constant, $c$ is the speed of light, and $k_B$ is Boltzmann's constant:"
   ]
  },
  {
   "cell_type": "code",
   "execution_count": 6,
   "id": "916a5e22",
   "metadata": {
    "scrolled": false
   },
   "outputs": [],
   "source": [
    "h = const.h.cgs\n",
    "c2 = const.c.cgs**2\n",
    "kB = const.k_B.cgs\n",
    "\n",
    "\n",
    "def planck_function(nu):\n",
    "    return (\n",
    "        8\n",
    "        * np.pi**2\n",
    "        * r_boundary_inner**2\n",
    "        * h\n",
    "        * nu**3\n",
    "        / (c2 * (np.exp(h * nu / (kB * temperature_inner)) - 1))\n",
    "    )"
   ]
  },
  {
   "cell_type": "markdown",
   "id": "78230177",
   "metadata": {},
   "source": [
    "We plot the Planck distribution and a histogram of the generated packet distribution:"
   ]
  },
  {
   "cell_type": "code",
   "execution_count": 7,
   "id": "913fcdbb",
   "metadata": {},
   "outputs": [
    {
     "data": {
      "image/png": "[encoded data removed]",
      "text/plain": [
       "<Figure size 640x480 with 1 Axes>"
      ]
     },
     "metadata": {},
     "output_type": "display_data"
    }
   ],
   "source": [
    "# We set important quantites for making our histogram\n",
    "bins = 200\n",
    "nus_planck = np.linspace(\n",
    "    min(nus),\n",
    "    max(nus),\n",
    "    bins,\n",
    ")\n",
    "bin_width = nus_planck[1] - nus_planck[0]\n",
    "\n",
    "# In the histogram plot below, the weights argument is used\n",
    "# to make sure our plotted spectrum has the correct y-axis scale\n",
    "plt.hist(\n",
    "    nus.value,\n",
    "    bins=bins,\n",
    "    weights=lumin_per_packet / bin_width,\n",
    ")\n",
    "\n",
    "# We plot the planck function for comparison\n",
    "# plt.plot(nus_planck, planck_function(nus_planck))\n",
    "plt.plot(\n",
    "    nus_planck,\n",
    "    planck_function(nus_planck),\n",
    ")\n",
    "\n",
    "plt.xlabel(\"Frequency (Hz)\")\n",
    "plt.ylabel(\"Luminosity density w.r.t. frequency (erg/s/Hz)\")\n",
    "plt.show()"
   ]
  },
  {
   "cell_type": "markdown",
   "id": "ad4f0f0e",
   "metadata": {},
   "source": [
    "We finally plot the generated $\\mu$ density distribution, followed by the generated $\\theta=\\arccos (\\mu)$ density distribution, compared with the respective curves $\\rho = 2\\mu$ and $\\rho = \\sin(2\\theta)$:"
   ]
  },
  {
   "cell_type": "code",
   "execution_count": 8,
   "id": "ae4c97de",
   "metadata": {},
   "outputs": [
    {
     "data": {
      "image/png": "[encoded data removed]",
      "text/plain": [
       "<Figure size 640x480 with 1 Axes>"
      ]
     },
     "metadata": {},
     "output_type": "display_data"
    }
   ],
   "source": [
    "x = np.linspace(0, 1, 1000)\n",
    "\n",
    "plt.hist(\n",
    "    mus,\n",
    "    bins=bins,\n",
    "    density=True,\n",
    ")\n",
    "plt.plot(\n",
    "    x,\n",
    "    2 * x,\n",
    ")\n",
    "plt.xlabel(\"Propagation direction\")\n",
    "plt.ylabel(\"Probability density\")\n",
    "plt.show()"
   ]
  },
  {
   "cell_type": "code",
   "execution_count": 9,
   "id": "41daa433",
   "metadata": {},
   "outputs": [
    {
     "data": {
      "image/png": "[encoded data removed]",
      "text/plain": [
       "<Figure size 640x480 with 1 Axes>"
      ]
     },
     "metadata": {},
     "output_type": "display_data"
    }
   ],
   "source": [
    "thetas = np.linspace(\n",
    "    0,\n",
    "    np.pi / 2,\n",
    "    1000,\n",
    ")\n",
    "\n",
    "plt.hist(\n",
    "    np.arccos(mus),\n",
    "    bins=bins,\n",
    "    density=True,\n",
    ")\n",
    "plt.plot(\n",
    "    thetas,\n",
    "    np.sin(2 * thetas),\n",
    ")\n",
    "plt.xlabel(\"Angle with normal (rad)\")\n",
    "plt.ylabel(\"Probability density\")\n",
    "plt.show()"
   ]
  },
  {
   "cell_type": "markdown",
   "id": "2f661592",
   "metadata": {},
   "source": [
    "## Custom Packet Source\n",
    "\n",
    "TARDIS allows for the user to input a custom function that generates energy packets instead of the basic blackbody source described here. See [Running TARDIS with a Custom Packet Source](../../io/optional/custom_source.ipynb) for more information."
   ]
  },
  {
   "cell_type": "markdown",
   "id": "efc2b03c",
   "metadata": {},
   "source": [
    "## Numba Implementation of Planck Function\n",
    "\n",
    "Below are parallelized and non-parallelized Numba implementations of the ```planck_function()``` above. There are some plots of average execution times for comparison with impementations that don't use Numba."
   ]
  },
  {
   "cell_type": "code",
   "execution_count": 10,
   "id": "eba811ec",
   "metadata": {},
   "outputs": [],
   "source": [
    "@numba.njit()\n",
    "def planck_function_numba(nu):\n",
    "    return (\n",
    "        8\n",
    "        * np.pi**2\n",
    "        * r_boundary_inner**2\n",
    "        * h\n",
    "        * nu**3\n",
    "        / (c2 * (np.exp(h * nu / (kB * temperature_inner)) - 1))\n",
    "    )\n",
    "\n",
    "\n",
    "@numba.njit(parallel=True)\n",
    "def planck_function_numba_parallel(nu):\n",
    "    return (\n",
    "        8\n",
    "        * np.pi**2\n",
    "        * r_boundary_inner**2\n",
    "        * h\n",
    "        * nu**3\n",
    "        / (c2 * (np.exp(h * nu / (kB * temperature_inner)) - 1))\n",
    "    )\n",
    "\n",
    "\n",
    "_ = planck_function_numba(nus_planck)  # Force Numba compilation\n",
    "_ = planck_function_numba_parallel(nus_planck)  # Force Numba compilation"
   ]
  },
  {
   "cell_type": "code",
   "execution_count": 68,
   "id": "e4793fd0",
   "metadata": {
    "scrolled": true
   },
   "outputs": [
    {
     "data": {
      "application/vnd.jupyter.widget-view+json": {
       "model_id": "2e7e17c94a6d491182dd6a0022e5ed83",
       "version_major": 2,
       "version_minor": 0
      },
      "text/plain": [
       "  0%|          | 0/135 [00:00<?, ?it/s]"
      ]
     },
     "metadata": {},
     "output_type": "display_data"
    },
    {
     "data": {
      "text/html": [
       "<div>\n",
       "<style scoped>\n",
       "    .dataframe tbody tr th:only-of-type {\n",
       "        vertical-align: middle;\n",
       "    }\n",
       "\n",
       "    .dataframe tbody tr th {\n",
       "        vertical-align: top;\n",
       "    }\n",
       "\n",
       "    .dataframe thead th {\n",
       "        text-align: right;\n",
       "    }\n",
       "</style>\n",
       "<table border=\"1\" class=\"dataframe\">\n",
       "  <thead>\n",
       "    <tr style=\"text-align: right;\">\n",
       "      <th></th>\n",
       "      <th>func_name</th>\n",
       "      <th>freq_bins</th>\n",
       "      <th>time</th>\n",
       "    </tr>\n",
       "  </thead>\n",
       "  <tbody>\n",
       "    <tr>\n",
       "      <th>0</th>\n",
       "      <td>planck_function</td>\n",
       "      <td>100</td>\n",
       "      <td>0.000245</td>\n",
       "    </tr>\n",
       "    <tr>\n",
       "      <th>1</th>\n",
       "      <td>planck_function</td>\n",
       "      <td>100</td>\n",
       "      <td>0.000235</td>\n",
       "    </tr>\n",
       "    <tr>\n",
       "      <th>2</th>\n",
       "      <td>planck_function</td>\n",
       "      <td>100</td>\n",
       "      <td>0.000261</td>\n",
       "    </tr>\n",
       "    <tr>\n",
       "      <th>3</th>\n",
       "      <td>planck_function</td>\n",
       "      <td>200</td>\n",
       "      <td>0.000246</td>\n",
       "    </tr>\n",
       "    <tr>\n",
       "      <th>4</th>\n",
       "      <td>planck_function</td>\n",
       "      <td>200</td>\n",
       "      <td>0.000244</td>\n",
       "    </tr>\n",
       "    <tr>\n",
       "      <th>...</th>\n",
       "      <td>...</td>\n",
       "      <td>...</td>\n",
       "      <td>...</td>\n",
       "    </tr>\n",
       "    <tr>\n",
       "      <th>130</th>\n",
       "      <td>planck_function_numba_parallel</td>\n",
       "      <td>2000000</td>\n",
       "      <td>0.001719</td>\n",
       "    </tr>\n",
       "    <tr>\n",
       "      <th>131</th>\n",
       "      <td>planck_function_numba_parallel</td>\n",
       "      <td>2000000</td>\n",
       "      <td>0.001824</td>\n",
       "    </tr>\n",
       "    <tr>\n",
       "      <th>132</th>\n",
       "      <td>planck_function_numba_parallel</td>\n",
       "      <td>5000000</td>\n",
       "      <td>0.004114</td>\n",
       "    </tr>\n",
       "    <tr>\n",
       "      <th>133</th>\n",
       "      <td>planck_function_numba_parallel</td>\n",
       "      <td>5000000</td>\n",
       "      <td>0.003896</td>\n",
       "    </tr>\n",
       "    <tr>\n",
       "      <th>134</th>\n",
       "      <td>planck_function_numba_parallel</td>\n",
       "      <td>5000000</td>\n",
       "      <td>0.003890</td>\n",
       "    </tr>\n",
       "  </tbody>\n",
       "</table>\n",
       "<p>135 rows × 3 columns</p>\n",
       "</div>"
      ],
      "text/plain": [
       "                          func_name freq_bins      time\n",
       "0                   planck_function       100  0.000245\n",
       "1                   planck_function       100  0.000235\n",
       "2                   planck_function       100  0.000261\n",
       "3                   planck_function       200  0.000246\n",
       "4                   planck_function       200  0.000244\n",
       "..                              ...       ...       ...\n",
       "130  planck_function_numba_parallel   2000000  0.001719\n",
       "131  planck_function_numba_parallel   2000000  0.001824\n",
       "132  planck_function_numba_parallel   5000000  0.004114\n",
       "133  planck_function_numba_parallel   5000000  0.003896\n",
       "134  planck_function_numba_parallel   5000000  0.003890\n",
       "\n",
       "[135 rows x 3 columns]"
      ]
     },
     "execution_count": 68,
     "metadata": {},
     "output_type": "execute_result"
    }
   ],
   "source": [
    "freq_bins = (\n",
    "    100,\n",
    "    200,\n",
    "    500,\n",
    "    1000,\n",
    "    2000,\n",
    "    5000,\n",
    "    10000,\n",
    "    20000,\n",
    "    50000,\n",
    "    100000,\n",
    "    200000,\n",
    "    500000,\n",
    "    1000000,\n",
    "    2000000,\n",
    "    5000000,\n",
    ")\n",
    "# The prompt only asked for 100, 200, and 500, but seeing how performance\n",
    "# grows for more frequency bins can possibly be informative.\n",
    "\n",
    "function_names = (\n",
    "    \"planck_function\",\n",
    "    \"planck_function_numba\",\n",
    "    \"planck_function_numba_parallel\",\n",
    ")\n",
    "\n",
    "functions = (\n",
    "    planck_function,\n",
    "    planck_function_numba,\n",
    "    planck_function_numba_parallel,\n",
    ")\n",
    "\n",
    "funcdict = {\n",
    "    funcname: func for (funcname, func) in zip(function_names, functions)\n",
    "}\n",
    "\n",
    "N_initial = 3\n",
    "\n",
    "raw_time_data_columns = (\"func_name\", \"freq_bins\", \"time\")\n",
    "raw_time_data = pd.DataFrame(columns=raw_time_data_columns)\n",
    "\n",
    "\n",
    "def time_trial(func, func_name, freq):\n",
    "    nus_planck = np.linspace(\n",
    "        min(nus),\n",
    "        max(nus),\n",
    "        freq,\n",
    "    )\n",
    "    start_time = time.perf_counter()\n",
    "    _ = func(nus_planck)\n",
    "    stop_time = time.perf_counter()\n",
    "    tempdf = pd.DataFrame(\n",
    "        [\n",
    "            [\n",
    "                func_name,\n",
    "                freq,\n",
    "                stop_time - start_time,\n",
    "            ],\n",
    "        ],\n",
    "        columns=raw_time_data_columns,\n",
    "    )\n",
    "    return tempdf\n",
    "\n",
    "\n",
    "total_iterations = len(freq_bins) * len(functions) * N_initial\n",
    "\n",
    "for (func, func_name), freq, n in tqdm.tqdm(\n",
    "    itertools.product(\n",
    "        zip(\n",
    "            functions,\n",
    "            function_names,\n",
    "        ),\n",
    "        freq_bins,\n",
    "        range(N_initial),\n",
    "    ),\n",
    "    total=total_iterations,\n",
    "):\n",
    "    tempdf = time_trial(\n",
    "        func,\n",
    "        func_name,\n",
    "        freq,\n",
    "    )\n",
    "    raw_time_data = pd.concat(\n",
    "        [\n",
    "            raw_time_data,\n",
    "            tempdf,\n",
    "        ],\n",
    "        ignore_index=True,\n",
    "    )\n",
    "\n",
    "raw_time_data"
   ]
  },
  {
   "cell_type": "code",
   "execution_count": 69,
   "id": "04878fd6",
   "metadata": {},
   "outputs": [
    {
     "data": {
      "text/html": [
       "<div>\n",
       "<style scoped>\n",
       "    .dataframe tbody tr th:only-of-type {\n",
       "        vertical-align: middle;\n",
       "    }\n",
       "\n",
       "    .dataframe tbody tr th {\n",
       "        vertical-align: top;\n",
       "    }\n",
       "\n",
       "    .dataframe thead th {\n",
       "        text-align: right;\n",
       "    }\n",
       "</style>\n",
       "<table border=\"1\" class=\"dataframe\">\n",
       "  <thead>\n",
       "    <tr style=\"text-align: right;\">\n",
       "      <th></th>\n",
       "      <th></th>\n",
       "      <th>mean</th>\n",
       "      <th>std</th>\n",
       "    </tr>\n",
       "    <tr>\n",
       "      <th>func_name</th>\n",
       "      <th>freq_bins</th>\n",
       "      <th></th>\n",
       "      <th></th>\n",
       "    </tr>\n",
       "  </thead>\n",
       "  <tbody>\n",
       "    <tr>\n",
       "      <th rowspan=\"15\" valign=\"top\">planck_function</th>\n",
       "      <th>100</th>\n",
       "      <td>0.000247</td>\n",
       "      <td>1.316782e-05</td>\n",
       "    </tr>\n",
       "    <tr>\n",
       "      <th>200</th>\n",
       "      <td>0.000244</td>\n",
       "      <td>1.964721e-06</td>\n",
       "    </tr>\n",
       "    <tr>\n",
       "      <th>500</th>\n",
       "      <td>0.000240</td>\n",
       "      <td>6.875520e-06</td>\n",
       "    </tr>\n",
       "    <tr>\n",
       "      <th>1000</th>\n",
       "      <td>0.000267</td>\n",
       "      <td>1.770568e-05</td>\n",
       "    </tr>\n",
       "    <tr>\n",
       "      <th>2000</th>\n",
       "      <td>0.000272</td>\n",
       "      <td>6.407824e-06</td>\n",
       "    </tr>\n",
       "    <tr>\n",
       "      <th>5000</th>\n",
       "      <td>0.000299</td>\n",
       "      <td>5.519363e-06</td>\n",
       "    </tr>\n",
       "    <tr>\n",
       "      <th>10000</th>\n",
       "      <td>0.000413</td>\n",
       "      <td>2.680513e-05</td>\n",
       "    </tr>\n",
       "    <tr>\n",
       "      <th>20000</th>\n",
       "      <td>0.000512</td>\n",
       "      <td>1.276376e-05</td>\n",
       "    </tr>\n",
       "    <tr>\n",
       "      <th>50000</th>\n",
       "      <td>0.001030</td>\n",
       "      <td>1.114424e-05</td>\n",
       "    </tr>\n",
       "    <tr>\n",
       "      <th>100000</th>\n",
       "      <td>0.001737</td>\n",
       "      <td>2.826687e-05</td>\n",
       "    </tr>\n",
       "    <tr>\n",
       "      <th>200000</th>\n",
       "      <td>0.003397</td>\n",
       "      <td>3.480640e-04</td>\n",
       "    </tr>\n",
       "    <tr>\n",
       "      <th>500000</th>\n",
       "      <td>0.007817</td>\n",
       "      <td>8.256720e-04</td>\n",
       "    </tr>\n",
       "    <tr>\n",
       "      <th>1000000</th>\n",
       "      <td>0.015760</td>\n",
       "      <td>1.666198e-04</td>\n",
       "    </tr>\n",
       "    <tr>\n",
       "      <th>2000000</th>\n",
       "      <td>0.032900</td>\n",
       "      <td>1.356668e-04</td>\n",
       "    </tr>\n",
       "    <tr>\n",
       "      <th>5000000</th>\n",
       "      <td>0.107933</td>\n",
       "      <td>2.036116e-04</td>\n",
       "    </tr>\n",
       "    <tr>\n",
       "      <th rowspan=\"15\" valign=\"top\">planck_function_numba</th>\n",
       "      <th>100</th>\n",
       "      <td>0.000009</td>\n",
       "      <td>1.819340e-07</td>\n",
       "    </tr>\n",
       "    <tr>\n",
       "      <th>200</th>\n",
       "      <td>0.000010</td>\n",
       "      <td>3.927454e-07</td>\n",
       "    </tr>\n",
       "    <tr>\n",
       "      <th>500</th>\n",
       "      <td>0.000013</td>\n",
       "      <td>7.199973e-08</td>\n",
       "    </tr>\n",
       "    <tr>\n",
       "      <th>1000</th>\n",
       "      <td>0.000017</td>\n",
       "      <td>7.831366e-07</td>\n",
       "    </tr>\n",
       "    <tr>\n",
       "      <th>2000</th>\n",
       "      <td>0.000022</td>\n",
       "      <td>5.389772e-07</td>\n",
       "    </tr>\n",
       "    <tr>\n",
       "      <th>5000</th>\n",
       "      <td>0.000035</td>\n",
       "      <td>1.184929e-06</td>\n",
       "    </tr>\n",
       "    <tr>\n",
       "      <th>10000</th>\n",
       "      <td>0.000060</td>\n",
       "      <td>1.319626e-06</td>\n",
       "    </tr>\n",
       "    <tr>\n",
       "      <th>20000</th>\n",
       "      <td>0.000102</td>\n",
       "      <td>7.921059e-07</td>\n",
       "    </tr>\n",
       "    <tr>\n",
       "      <th>50000</th>\n",
       "      <td>0.000230</td>\n",
       "      <td>9.994900e-06</td>\n",
       "    </tr>\n",
       "    <tr>\n",
       "      <th>100000</th>\n",
       "      <td>0.000446</td>\n",
       "      <td>2.826318e-05</td>\n",
       "    </tr>\n",
       "    <tr>\n",
       "      <th>200000</th>\n",
       "      <td>0.000944</td>\n",
       "      <td>1.721830e-04</td>\n",
       "    </tr>\n",
       "    <tr>\n",
       "      <th>500000</th>\n",
       "      <td>0.002225</td>\n",
       "      <td>5.000183e-04</td>\n",
       "    </tr>\n",
       "    <tr>\n",
       "      <th>1000000</th>\n",
       "      <td>0.004362</td>\n",
       "      <td>9.886545e-04</td>\n",
       "    </tr>\n",
       "    <tr>\n",
       "      <th>2000000</th>\n",
       "      <td>0.010706</td>\n",
       "      <td>7.609784e-05</td>\n",
       "    </tr>\n",
       "    <tr>\n",
       "      <th>5000000</th>\n",
       "      <td>0.027492</td>\n",
       "      <td>8.869666e-05</td>\n",
       "    </tr>\n",
       "    <tr>\n",
       "      <th rowspan=\"15\" valign=\"top\">planck_function_numba_parallel</th>\n",
       "      <th>100</th>\n",
       "      <td>0.000095</td>\n",
       "      <td>4.249350e-06</td>\n",
       "    </tr>\n",
       "    <tr>\n",
       "      <th>200</th>\n",
       "      <td>0.000099</td>\n",
       "      <td>3.427831e-06</td>\n",
       "    </tr>\n",
       "    <tr>\n",
       "      <th>500</th>\n",
       "      <td>0.000099</td>\n",
       "      <td>1.574825e-06</td>\n",
       "    </tr>\n",
       "    <tr>\n",
       "      <th>1000</th>\n",
       "      <td>0.000108</td>\n",
       "      <td>2.483998e-06</td>\n",
       "    </tr>\n",
       "    <tr>\n",
       "      <th>2000</th>\n",
       "      <td>0.000115</td>\n",
       "      <td>1.295126e-05</td>\n",
       "    </tr>\n",
       "    <tr>\n",
       "      <th>5000</th>\n",
       "      <td>0.000131</td>\n",
       "      <td>1.526950e-05</td>\n",
       "    </tr>\n",
       "    <tr>\n",
       "      <th>10000</th>\n",
       "      <td>0.000158</td>\n",
       "      <td>1.150439e-05</td>\n",
       "    </tr>\n",
       "    <tr>\n",
       "      <th>20000</th>\n",
       "      <td>0.000212</td>\n",
       "      <td>1.211434e-05</td>\n",
       "    </tr>\n",
       "    <tr>\n",
       "      <th>50000</th>\n",
       "      <td>0.000285</td>\n",
       "      <td>2.395251e-05</td>\n",
       "    </tr>\n",
       "    <tr>\n",
       "      <th>100000</th>\n",
       "      <td>0.000381</td>\n",
       "      <td>2.221821e-05</td>\n",
       "    </tr>\n",
       "    <tr>\n",
       "      <th>200000</th>\n",
       "      <td>0.000454</td>\n",
       "      <td>1.851080e-05</td>\n",
       "    </tr>\n",
       "    <tr>\n",
       "      <th>500000</th>\n",
       "      <td>0.000692</td>\n",
       "      <td>7.186140e-05</td>\n",
       "    </tr>\n",
       "    <tr>\n",
       "      <th>1000000</th>\n",
       "      <td>0.000948</td>\n",
       "      <td>9.329655e-05</td>\n",
       "    </tr>\n",
       "    <tr>\n",
       "      <th>2000000</th>\n",
       "      <td>0.001710</td>\n",
       "      <td>1.181306e-04</td>\n",
       "    </tr>\n",
       "    <tr>\n",
       "      <th>5000000</th>\n",
       "      <td>0.003966</td>\n",
       "      <td>1.276989e-04</td>\n",
       "    </tr>\n",
       "  </tbody>\n",
       "</table>\n",
       "</div>"
      ],
      "text/plain": [
       "                                              mean           std\n",
       "func_name                      freq_bins                        \n",
       "planck_function                100        0.000247  1.316782e-05\n",
       "                               200        0.000244  1.964721e-06\n",
       "                               500        0.000240  6.875520e-06\n",
       "                               1000       0.000267  1.770568e-05\n",
       "                               2000       0.000272  6.407824e-06\n",
       "                               5000       0.000299  5.519363e-06\n",
       "                               10000      0.000413  2.680513e-05\n",
       "                               20000      0.000512  1.276376e-05\n",
       "                               50000      0.001030  1.114424e-05\n",
       "                               100000     0.001737  2.826687e-05\n",
       "                               200000     0.003397  3.480640e-04\n",
       "                               500000     0.007817  8.256720e-04\n",
       "                               1000000    0.015760  1.666198e-04\n",
       "                               2000000    0.032900  1.356668e-04\n",
       "                               5000000    0.107933  2.036116e-04\n",
       "planck_function_numba          100        0.000009  1.819340e-07\n",
       "                               200        0.000010  3.927454e-07\n",
       "                               500        0.000013  7.199973e-08\n",
       "                               1000       0.000017  7.831366e-07\n",
       "                               2000       0.000022  5.389772e-07\n",
       "                               5000       0.000035  1.184929e-06\n",
       "                               10000      0.000060  1.319626e-06\n",
       "                               20000      0.000102  7.921059e-07\n",
       "                               50000      0.000230  9.994900e-06\n",
       "                               100000     0.000446  2.826318e-05\n",
       "                               200000     0.000944  1.721830e-04\n",
       "                               500000     0.002225  5.000183e-04\n",
       "                               1000000    0.004362  9.886545e-04\n",
       "                               2000000    0.010706  7.609784e-05\n",
       "                               5000000    0.027492  8.869666e-05\n",
       "planck_function_numba_parallel 100        0.000095  4.249350e-06\n",
       "                               200        0.000099  3.427831e-06\n",
       "                               500        0.000099  1.574825e-06\n",
       "                               1000       0.000108  2.483998e-06\n",
       "                               2000       0.000115  1.295126e-05\n",
       "                               5000       0.000131  1.526950e-05\n",
       "                               10000      0.000158  1.150439e-05\n",
       "                               20000      0.000212  1.211434e-05\n",
       "                               50000      0.000285  2.395251e-05\n",
       "                               100000     0.000381  2.221821e-05\n",
       "                               200000     0.000454  1.851080e-05\n",
       "                               500000     0.000692  7.186140e-05\n",
       "                               1000000    0.000948  9.329655e-05\n",
       "                               2000000    0.001710  1.181306e-04\n",
       "                               5000000    0.003966  1.276989e-04"
      ]
     },
     "execution_count": 69,
     "metadata": {},
     "output_type": "execute_result"
    }
   ],
   "source": [
    "time_data_estimators = pd.concat(\n",
    "    [\n",
    "        raw_time_data.groupby(\n",
    "            [\n",
    "                \"func_name\",\n",
    "                \"freq_bins\",\n",
    "            ]\n",
    "        )\n",
    "        .mean()\n",
    "        .rename(columns={\"time\": \"mean\"}),\n",
    "        raw_time_data.groupby(\n",
    "            [\n",
    "                \"func_name\",\n",
    "                \"freq_bins\",\n",
    "            ]\n",
    "        )\n",
    "        .std()\n",
    "        .rename(columns={\"time\": \"std\"}),\n",
    "    ],\n",
    "    axis=1,\n",
    ")\n",
    "\n",
    "time_data_estimators"
   ]
  },
  {
   "cell_type": "code",
   "execution_count": 70,
   "id": "6e3afccf",
   "metadata": {},
   "outputs": [
    {
     "data": {
      "text/html": [
       "<div>\n",
       "<style scoped>\n",
       "    .dataframe tbody tr th:only-of-type {\n",
       "        vertical-align: middle;\n",
       "    }\n",
       "\n",
       "    .dataframe tbody tr th {\n",
       "        vertical-align: top;\n",
       "    }\n",
       "\n",
       "    .dataframe thead th {\n",
       "        text-align: right;\n",
       "    }\n",
       "</style>\n",
       "<table border=\"1\" class=\"dataframe\">\n",
       "  <thead>\n",
       "    <tr style=\"text-align: right;\">\n",
       "      <th></th>\n",
       "      <th></th>\n",
       "      <th>mean</th>\n",
       "      <th>std</th>\n",
       "      <th>N_montecarlo</th>\n",
       "    </tr>\n",
       "    <tr>\n",
       "      <th>func_name</th>\n",
       "      <th>freq_bins</th>\n",
       "      <th></th>\n",
       "      <th></th>\n",
       "      <th></th>\n",
       "    </tr>\n",
       "  </thead>\n",
       "  <tbody>\n",
       "    <tr>\n",
       "      <th rowspan=\"15\" valign=\"top\">planck_function</th>\n",
       "      <th>100</th>\n",
       "      <td>0.000247</td>\n",
       "      <td>1.316782e-05</td>\n",
       "      <td>1</td>\n",
       "    </tr>\n",
       "    <tr>\n",
       "      <th>200</th>\n",
       "      <td>0.000244</td>\n",
       "      <td>1.964721e-06</td>\n",
       "      <td>1</td>\n",
       "    </tr>\n",
       "    <tr>\n",
       "      <th>500</th>\n",
       "      <td>0.000240</td>\n",
       "      <td>6.875520e-06</td>\n",
       "      <td>1</td>\n",
       "    </tr>\n",
       "    <tr>\n",
       "      <th>1000</th>\n",
       "      <td>0.000267</td>\n",
       "      <td>1.770568e-05</td>\n",
       "      <td>1</td>\n",
       "    </tr>\n",
       "    <tr>\n",
       "      <th>2000</th>\n",
       "      <td>0.000272</td>\n",
       "      <td>6.407824e-06</td>\n",
       "      <td>1</td>\n",
       "    </tr>\n",
       "    <tr>\n",
       "      <th>5000</th>\n",
       "      <td>0.000299</td>\n",
       "      <td>5.519363e-06</td>\n",
       "      <td>1</td>\n",
       "    </tr>\n",
       "    <tr>\n",
       "      <th>10000</th>\n",
       "      <td>0.000413</td>\n",
       "      <td>2.680513e-05</td>\n",
       "      <td>1</td>\n",
       "    </tr>\n",
       "    <tr>\n",
       "      <th>20000</th>\n",
       "      <td>0.000512</td>\n",
       "      <td>1.276376e-05</td>\n",
       "      <td>1</td>\n",
       "    </tr>\n",
       "    <tr>\n",
       "      <th>50000</th>\n",
       "      <td>0.001030</td>\n",
       "      <td>1.114424e-05</td>\n",
       "      <td>1</td>\n",
       "    </tr>\n",
       "    <tr>\n",
       "      <th>100000</th>\n",
       "      <td>0.001737</td>\n",
       "      <td>2.826687e-05</td>\n",
       "      <td>1</td>\n",
       "    </tr>\n",
       "    <tr>\n",
       "      <th>200000</th>\n",
       "      <td>0.003397</td>\n",
       "      <td>3.480640e-04</td>\n",
       "      <td>2</td>\n",
       "    </tr>\n",
       "    <tr>\n",
       "      <th>500000</th>\n",
       "      <td>0.007817</td>\n",
       "      <td>8.256720e-04</td>\n",
       "      <td>8</td>\n",
       "    </tr>\n",
       "    <tr>\n",
       "      <th>1000000</th>\n",
       "      <td>0.015760</td>\n",
       "      <td>1.666198e-04</td>\n",
       "      <td>1</td>\n",
       "    </tr>\n",
       "    <tr>\n",
       "      <th>2000000</th>\n",
       "      <td>0.032900</td>\n",
       "      <td>1.356668e-04</td>\n",
       "      <td>1</td>\n",
       "    </tr>\n",
       "    <tr>\n",
       "      <th>5000000</th>\n",
       "      <td>0.107933</td>\n",
       "      <td>2.036116e-04</td>\n",
       "      <td>1</td>\n",
       "    </tr>\n",
       "    <tr>\n",
       "      <th rowspan=\"15\" valign=\"top\">planck_function_numba</th>\n",
       "      <th>100</th>\n",
       "      <td>0.000009</td>\n",
       "      <td>1.819340e-07</td>\n",
       "      <td>1</td>\n",
       "    </tr>\n",
       "    <tr>\n",
       "      <th>200</th>\n",
       "      <td>0.000010</td>\n",
       "      <td>3.927454e-07</td>\n",
       "      <td>1</td>\n",
       "    </tr>\n",
       "    <tr>\n",
       "      <th>500</th>\n",
       "      <td>0.000013</td>\n",
       "      <td>7.199973e-08</td>\n",
       "      <td>1</td>\n",
       "    </tr>\n",
       "    <tr>\n",
       "      <th>1000</th>\n",
       "      <td>0.000017</td>\n",
       "      <td>7.831366e-07</td>\n",
       "      <td>1</td>\n",
       "    </tr>\n",
       "    <tr>\n",
       "      <th>2000</th>\n",
       "      <td>0.000022</td>\n",
       "      <td>5.389772e-07</td>\n",
       "      <td>1</td>\n",
       "    </tr>\n",
       "    <tr>\n",
       "      <th>5000</th>\n",
       "      <td>0.000035</td>\n",
       "      <td>1.184929e-06</td>\n",
       "      <td>1</td>\n",
       "    </tr>\n",
       "    <tr>\n",
       "      <th>10000</th>\n",
       "      <td>0.000060</td>\n",
       "      <td>1.319626e-06</td>\n",
       "      <td>1</td>\n",
       "    </tr>\n",
       "    <tr>\n",
       "      <th>20000</th>\n",
       "      <td>0.000102</td>\n",
       "      <td>7.921059e-07</td>\n",
       "      <td>1</td>\n",
       "    </tr>\n",
       "    <tr>\n",
       "      <th>50000</th>\n",
       "      <td>0.000230</td>\n",
       "      <td>9.994900e-06</td>\n",
       "      <td>1</td>\n",
       "    </tr>\n",
       "    <tr>\n",
       "      <th>100000</th>\n",
       "      <td>0.000446</td>\n",
       "      <td>2.826318e-05</td>\n",
       "      <td>1</td>\n",
       "    </tr>\n",
       "    <tr>\n",
       "      <th>200000</th>\n",
       "      <td>0.000944</td>\n",
       "      <td>1.721830e-04</td>\n",
       "      <td>1</td>\n",
       "    </tr>\n",
       "    <tr>\n",
       "      <th>500000</th>\n",
       "      <td>0.002225</td>\n",
       "      <td>5.000183e-04</td>\n",
       "      <td>3</td>\n",
       "    </tr>\n",
       "    <tr>\n",
       "      <th>1000000</th>\n",
       "      <td>0.004362</td>\n",
       "      <td>9.886545e-04</td>\n",
       "      <td>11</td>\n",
       "    </tr>\n",
       "    <tr>\n",
       "      <th>2000000</th>\n",
       "      <td>0.010706</td>\n",
       "      <td>7.609784e-05</td>\n",
       "      <td>1</td>\n",
       "    </tr>\n",
       "    <tr>\n",
       "      <th>5000000</th>\n",
       "      <td>0.027492</td>\n",
       "      <td>8.869666e-05</td>\n",
       "      <td>1</td>\n",
       "    </tr>\n",
       "    <tr>\n",
       "      <th rowspan=\"15\" valign=\"top\">planck_function_numba_parallel</th>\n",
       "      <th>100</th>\n",
       "      <td>0.000095</td>\n",
       "      <td>4.249350e-06</td>\n",
       "      <td>1</td>\n",
       "    </tr>\n",
       "    <tr>\n",
       "      <th>200</th>\n",
       "      <td>0.000099</td>\n",
       "      <td>3.427831e-06</td>\n",
       "      <td>1</td>\n",
       "    </tr>\n",
       "    <tr>\n",
       "      <th>500</th>\n",
       "      <td>0.000099</td>\n",
       "      <td>1.574825e-06</td>\n",
       "      <td>1</td>\n",
       "    </tr>\n",
       "    <tr>\n",
       "      <th>1000</th>\n",
       "      <td>0.000108</td>\n",
       "      <td>2.483998e-06</td>\n",
       "      <td>1</td>\n",
       "    </tr>\n",
       "    <tr>\n",
       "      <th>2000</th>\n",
       "      <td>0.000115</td>\n",
       "      <td>1.295126e-05</td>\n",
       "      <td>1</td>\n",
       "    </tr>\n",
       "    <tr>\n",
       "      <th>5000</th>\n",
       "      <td>0.000131</td>\n",
       "      <td>1.526950e-05</td>\n",
       "      <td>1</td>\n",
       "    </tr>\n",
       "    <tr>\n",
       "      <th>10000</th>\n",
       "      <td>0.000158</td>\n",
       "      <td>1.150439e-05</td>\n",
       "      <td>1</td>\n",
       "    </tr>\n",
       "    <tr>\n",
       "      <th>20000</th>\n",
       "      <td>0.000212</td>\n",
       "      <td>1.211434e-05</td>\n",
       "      <td>1</td>\n",
       "    </tr>\n",
       "    <tr>\n",
       "      <th>50000</th>\n",
       "      <td>0.000285</td>\n",
       "      <td>2.395251e-05</td>\n",
       "      <td>1</td>\n",
       "    </tr>\n",
       "    <tr>\n",
       "      <th>100000</th>\n",
       "      <td>0.000381</td>\n",
       "      <td>2.221821e-05</td>\n",
       "      <td>1</td>\n",
       "    </tr>\n",
       "    <tr>\n",
       "      <th>200000</th>\n",
       "      <td>0.000454</td>\n",
       "      <td>1.851080e-05</td>\n",
       "      <td>1</td>\n",
       "    </tr>\n",
       "    <tr>\n",
       "      <th>500000</th>\n",
       "      <td>0.000692</td>\n",
       "      <td>7.186140e-05</td>\n",
       "      <td>1</td>\n",
       "    </tr>\n",
       "    <tr>\n",
       "      <th>1000000</th>\n",
       "      <td>0.000948</td>\n",
       "      <td>9.329655e-05</td>\n",
       "      <td>1</td>\n",
       "    </tr>\n",
       "    <tr>\n",
       "      <th>2000000</th>\n",
       "      <td>0.001710</td>\n",
       "      <td>1.181306e-04</td>\n",
       "      <td>1</td>\n",
       "    </tr>\n",
       "    <tr>\n",
       "      <th>5000000</th>\n",
       "      <td>0.003966</td>\n",
       "      <td>1.276989e-04</td>\n",
       "      <td>1</td>\n",
       "    </tr>\n",
       "  </tbody>\n",
       "</table>\n",
       "</div>"
      ],
      "text/plain": [
       "                                              mean           std  N_montecarlo\n",
       "func_name                      freq_bins                                      \n",
       "planck_function                100        0.000247  1.316782e-05             1\n",
       "                               200        0.000244  1.964721e-06             1\n",
       "                               500        0.000240  6.875520e-06             1\n",
       "                               1000       0.000267  1.770568e-05             1\n",
       "                               2000       0.000272  6.407824e-06             1\n",
       "                               5000       0.000299  5.519363e-06             1\n",
       "                               10000      0.000413  2.680513e-05             1\n",
       "                               20000      0.000512  1.276376e-05             1\n",
       "                               50000      0.001030  1.114424e-05             1\n",
       "                               100000     0.001737  2.826687e-05             1\n",
       "                               200000     0.003397  3.480640e-04             2\n",
       "                               500000     0.007817  8.256720e-04             8\n",
       "                               1000000    0.015760  1.666198e-04             1\n",
       "                               2000000    0.032900  1.356668e-04             1\n",
       "                               5000000    0.107933  2.036116e-04             1\n",
       "planck_function_numba          100        0.000009  1.819340e-07             1\n",
       "                               200        0.000010  3.927454e-07             1\n",
       "                               500        0.000013  7.199973e-08             1\n",
       "                               1000       0.000017  7.831366e-07             1\n",
       "                               2000       0.000022  5.389772e-07             1\n",
       "                               5000       0.000035  1.184929e-06             1\n",
       "                               10000      0.000060  1.319626e-06             1\n",
       "                               20000      0.000102  7.921059e-07             1\n",
       "                               50000      0.000230  9.994900e-06             1\n",
       "                               100000     0.000446  2.826318e-05             1\n",
       "                               200000     0.000944  1.721830e-04             1\n",
       "                               500000     0.002225  5.000183e-04             3\n",
       "                               1000000    0.004362  9.886545e-04            11\n",
       "                               2000000    0.010706  7.609784e-05             1\n",
       "                               5000000    0.027492  8.869666e-05             1\n",
       "planck_function_numba_parallel 100        0.000095  4.249350e-06             1\n",
       "                               200        0.000099  3.427831e-06             1\n",
       "                               500        0.000099  1.574825e-06             1\n",
       "                               1000       0.000108  2.483998e-06             1\n",
       "                               2000       0.000115  1.295126e-05             1\n",
       "                               5000       0.000131  1.526950e-05             1\n",
       "                               10000      0.000158  1.150439e-05             1\n",
       "                               20000      0.000212  1.211434e-05             1\n",
       "                               50000      0.000285  2.395251e-05             1\n",
       "                               100000     0.000381  2.221821e-05             1\n",
       "                               200000     0.000454  1.851080e-05             1\n",
       "                               500000     0.000692  7.186140e-05             1\n",
       "                               1000000    0.000948  9.329655e-05             1\n",
       "                               2000000    0.001710  1.181306e-04             1\n",
       "                               5000000    0.003966  1.276989e-04             1"
      ]
     },
     "execution_count": 70,
     "metadata": {},
     "output_type": "execute_result"
    }
   ],
   "source": [
    "confidence_level = 1e-3  # alpha\n",
    "error_tolerance = 1e-3  # epsilon\n",
    "\n",
    "z = stats.norm.ppf(1.0 - confidence_level / 2.0)\n",
    "\n",
    "time_data_estimators[\"N_montecarlo\"] = (\n",
    "    ((time_data_estimators[\"std\"] * z / error_tolerance) ** 2)\n",
    "    .apply(np.ceil)\n",
    "    .astype(int)\n",
    "    .rename(\"N_iterations\")\n",
    ")\n",
    "\n",
    "time_data_estimators"
   ]
  },
  {
   "cell_type": "code",
   "execution_count": 71,
   "id": "cb3a92dd",
   "metadata": {
    "scrolled": false
   },
   "outputs": [
    {
     "name": "stdout",
     "output_type": "stream",
     "text": [
      "Running 1 iteration of planck_function with 100 frequency bins\n"
     ]
    },
    {
     "data": {
      "application/vnd.jupyter.widget-view+json": {
       "model_id": "56114216bee242f182fe76eb521c1ece",
       "version_major": 2,
       "version_minor": 0
      },
      "text/plain": [
       "  0%|          | 0/1 [00:00<?, ?it/s]"
      ]
     },
     "metadata": {},
     "output_type": "display_data"
    },
    {
     "name": "stdout",
     "output_type": "stream",
     "text": [
      "Running 1 iteration of planck_function with 200 frequency bins\n"
     ]
    },
    {
     "data": {
      "application/vnd.jupyter.widget-view+json": {
       "model_id": "46dd8e1969d54aea951e4856367579f5",
       "version_major": 2,
       "version_minor": 0
      },
      "text/plain": [
       "  0%|          | 0/1 [00:00<?, ?it/s]"
      ]
     },
     "metadata": {},
     "output_type": "display_data"
    },
    {
     "name": "stdout",
     "output_type": "stream",
     "text": [
      "Running 1 iteration of planck_function with 500 frequency bins\n"
     ]
    },
    {
     "data": {
      "application/vnd.jupyter.widget-view+json": {
       "model_id": "52cf5d819d4c4b95b5498f33e415b199",
       "version_major": 2,
       "version_minor": 0
      },
      "text/plain": [
       "  0%|          | 0/1 [00:00<?, ?it/s]"
      ]
     },
     "metadata": {},
     "output_type": "display_data"
    },
    {
     "name": "stdout",
     "output_type": "stream",
     "text": [
      "Running 1 iteration of planck_function with 1000 frequency bins\n"
     ]
    },
    {
     "data": {
      "application/vnd.jupyter.widget-view+json": {
       "model_id": "a57bc0dd908b46f9ad2675d963671f6a",
       "version_major": 2,
       "version_minor": 0
      },
      "text/plain": [
       "  0%|          | 0/1 [00:00<?, ?it/s]"
      ]
     },
     "metadata": {},
     "output_type": "display_data"
    },
    {
     "name": "stdout",
     "output_type": "stream",
     "text": [
      "Running 1 iteration of planck_function with 2000 frequency bins\n"
     ]
    },
    {
     "data": {
      "application/vnd.jupyter.widget-view+json": {
       "model_id": "cb8b834531844097a361b6cacd7caa0e",
       "version_major": 2,
       "version_minor": 0
      },
      "text/plain": [
       "  0%|          | 0/1 [00:00<?, ?it/s]"
      ]
     },
     "metadata": {},
     "output_type": "display_data"
    },
    {
     "name": "stdout",
     "output_type": "stream",
     "text": [
      "Running 1 iteration of planck_function with 5000 frequency bins\n"
     ]
    },
    {
     "data": {
      "application/vnd.jupyter.widget-view+json": {
       "model_id": "f9cbe151dbff4cc2a782381356213c27",
       "version_major": 2,
       "version_minor": 0
      },
      "text/plain": [
       "  0%|          | 0/1 [00:00<?, ?it/s]"
      ]
     },
     "metadata": {},
     "output_type": "display_data"
    },
    {
     "name": "stdout",
     "output_type": "stream",
     "text": [
      "Running 1 iteration of planck_function with 10000 frequency bins\n"
     ]
    },
    {
     "data": {
      "application/vnd.jupyter.widget-view+json": {
       "model_id": "ea4045b098b84f75b7aa616e29f8fd4e",
       "version_major": 2,
       "version_minor": 0
      },
      "text/plain": [
       "  0%|          | 0/1 [00:00<?, ?it/s]"
      ]
     },
     "metadata": {},
     "output_type": "display_data"
    },
    {
     "name": "stdout",
     "output_type": "stream",
     "text": [
      "Running 1 iteration of planck_function with 20000 frequency bins\n"
     ]
    },
    {
     "data": {
      "application/vnd.jupyter.widget-view+json": {
       "model_id": "29e4d2f719c2490ab58cb89fb3ca52d2",
       "version_major": 2,
       "version_minor": 0
      },
      "text/plain": [
       "  0%|          | 0/1 [00:00<?, ?it/s]"
      ]
     },
     "metadata": {},
     "output_type": "display_data"
    },
    {
     "name": "stdout",
     "output_type": "stream",
     "text": [
      "Running 1 iteration of planck_function with 50000 frequency bins\n"
     ]
    },
    {
     "data": {
      "application/vnd.jupyter.widget-view+json": {
       "model_id": "36ffceeb23ac445abefd66cc91f25beb",
       "version_major": 2,
       "version_minor": 0
      },
      "text/plain": [
       "  0%|          | 0/1 [00:00<?, ?it/s]"
      ]
     },
     "metadata": {},
     "output_type": "display_data"
    },
    {
     "name": "stdout",
     "output_type": "stream",
     "text": [
      "Running 1 iteration of planck_function with 100000 frequency bins\n"
     ]
    },
    {
     "data": {
      "application/vnd.jupyter.widget-view+json": {
       "model_id": "63822449e79440fba64a5c0063c25ebd",
       "version_major": 2,
       "version_minor": 0
      },
      "text/plain": [
       "  0%|          | 0/1 [00:00<?, ?it/s]"
      ]
     },
     "metadata": {},
     "output_type": "display_data"
    },
    {
     "name": "stdout",
     "output_type": "stream",
     "text": [
      "Running 2 iterations of planck_function with 200000 frequency bins\n"
     ]
    },
    {
     "data": {
      "application/vnd.jupyter.widget-view+json": {
       "model_id": "15f1a37972c348bd8fdc0892ae3b50bd",
       "version_major": 2,
       "version_minor": 0
      },
      "text/plain": [
       "  0%|          | 0/2 [00:00<?, ?it/s]"
      ]
     },
     "metadata": {},
     "output_type": "display_data"
    },
    {
     "name": "stdout",
     "output_type": "stream",
     "text": [
      "Running 8 iterations of planck_function with 500000 frequency bins\n"
     ]
    },
    {
     "data": {
      "application/vnd.jupyter.widget-view+json": {
       "model_id": "912bc7e35e4c4877aef5c0ade0471e18",
       "version_major": 2,
       "version_minor": 0
      },
      "text/plain": [
       "  0%|          | 0/8 [00:00<?, ?it/s]"
      ]
     },
     "metadata": {},
     "output_type": "display_data"
    },
    {
     "name": "stdout",
     "output_type": "stream",
     "text": [
      "Running 1 iteration of planck_function with 1000000 frequency bins\n"
     ]
    },
    {
     "data": {
      "application/vnd.jupyter.widget-view+json": {
       "model_id": "e5dc54ec99ba46929b8993faf5583e59",
       "version_major": 2,
       "version_minor": 0
      },
      "text/plain": [
       "  0%|          | 0/1 [00:00<?, ?it/s]"
      ]
     },
     "metadata": {},
     "output_type": "display_data"
    },
    {
     "name": "stdout",
     "output_type": "stream",
     "text": [
      "Running 1 iteration of planck_function with 2000000 frequency bins\n"
     ]
    },
    {
     "data": {
      "application/vnd.jupyter.widget-view+json": {
       "model_id": "6e52ce8968f14dd28adf0c27d2ead1b8",
       "version_major": 2,
       "version_minor": 0
      },
      "text/plain": [
       "  0%|          | 0/1 [00:00<?, ?it/s]"
      ]
     },
     "metadata": {},
     "output_type": "display_data"
    },
    {
     "name": "stdout",
     "output_type": "stream",
     "text": [
      "Running 1 iteration of planck_function with 5000000 frequency bins\n"
     ]
    },
    {
     "data": {
      "application/vnd.jupyter.widget-view+json": {
       "model_id": "6474dbb8d36045d69e2f1870b42555e4",
       "version_major": 2,
       "version_minor": 0
      },
      "text/plain": [
       "  0%|          | 0/1 [00:00<?, ?it/s]"
      ]
     },
     "metadata": {},
     "output_type": "display_data"
    },
    {
     "name": "stdout",
     "output_type": "stream",
     "text": [
      "Running 1 iteration of planck_function_numba with 100 frequency bins\n"
     ]
    },
    {
     "data": {
      "application/vnd.jupyter.widget-view+json": {
       "model_id": "aae7ade8ea754f37b55b22b44c8edff8",
       "version_major": 2,
       "version_minor": 0
      },
      "text/plain": [
       "  0%|          | 0/1 [00:00<?, ?it/s]"
      ]
     },
     "metadata": {},
     "output_type": "display_data"
    },
    {
     "name": "stdout",
     "output_type": "stream",
     "text": [
      "Running 1 iteration of planck_function_numba with 200 frequency bins\n"
     ]
    },
    {
     "data": {
      "application/vnd.jupyter.widget-view+json": {
       "model_id": "14f20aaf658c4eef94cf8b519ba8b9a6",
       "version_major": 2,
       "version_minor": 0
      },
      "text/plain": [
       "  0%|          | 0/1 [00:00<?, ?it/s]"
      ]
     },
     "metadata": {},
     "output_type": "display_data"
    },
    {
     "name": "stdout",
     "output_type": "stream",
     "text": [
      "Running 1 iteration of planck_function_numba with 500 frequency bins\n"
     ]
    },
    {
     "data": {
      "application/vnd.jupyter.widget-view+json": {
       "model_id": "340942b751b9467daedbeb948b7f4fff",
       "version_major": 2,
       "version_minor": 0
      },
      "text/plain": [
       "  0%|          | 0/1 [00:00<?, ?it/s]"
      ]
     },
     "metadata": {},
     "output_type": "display_data"
    },
    {
     "name": "stdout",
     "output_type": "stream",
     "text": [
      "Running 1 iteration of planck_function_numba with 1000 frequency bins\n"
     ]
    },
    {
     "data": {
      "application/vnd.jupyter.widget-view+json": {
       "model_id": "008972b1fcbc441a8402b2af9bede0b6",
       "version_major": 2,
       "version_minor": 0
      },
      "text/plain": [
       "  0%|          | 0/1 [00:00<?, ?it/s]"
      ]
     },
     "metadata": {},
     "output_type": "display_data"
    },
    {
     "name": "stdout",
     "output_type": "stream",
     "text": [
      "Running 1 iteration of planck_function_numba with 2000 frequency bins\n"
     ]
    },
    {
     "data": {
      "application/vnd.jupyter.widget-view+json": {
       "model_id": "8266589dd3074288975694da654efaa2",
       "version_major": 2,
       "version_minor": 0
      },
      "text/plain": [
       "  0%|          | 0/1 [00:00<?, ?it/s]"
      ]
     },
     "metadata": {},
     "output_type": "display_data"
    },
    {
     "name": "stdout",
     "output_type": "stream",
     "text": [
      "Running 1 iteration of planck_function_numba with 5000 frequency bins\n"
     ]
    },
    {
     "data": {
      "application/vnd.jupyter.widget-view+json": {
       "model_id": "740b0f990d794332be28a2f4bbd3495d",
       "version_major": 2,
       "version_minor": 0
      },
      "text/plain": [
       "  0%|          | 0/1 [00:00<?, ?it/s]"
      ]
     },
     "metadata": {},
     "output_type": "display_data"
    },
    {
     "name": "stdout",
     "output_type": "stream",
     "text": [
      "Running 1 iteration of planck_function_numba with 10000 frequency bins\n"
     ]
    },
    {
     "data": {
      "application/vnd.jupyter.widget-view+json": {
       "model_id": "b757f2302cb643a3b13d85b5108f72fd",
       "version_major": 2,
       "version_minor": 0
      },
      "text/plain": [
       "  0%|          | 0/1 [00:00<?, ?it/s]"
      ]
     },
     "metadata": {},
     "output_type": "display_data"
    },
    {
     "name": "stdout",
     "output_type": "stream",
     "text": [
      "Running 1 iteration of planck_function_numba with 20000 frequency bins\n"
     ]
    },
    {
     "data": {
      "application/vnd.jupyter.widget-view+json": {
       "model_id": "e80f253bbf4844e6a54370adc626d5ad",
       "version_major": 2,
       "version_minor": 0
      },
      "text/plain": [
       "  0%|          | 0/1 [00:00<?, ?it/s]"
      ]
     },
     "metadata": {},
     "output_type": "display_data"
    },
    {
     "name": "stdout",
     "output_type": "stream",
     "text": [
      "Running 1 iteration of planck_function_numba with 50000 frequency bins\n"
     ]
    },
    {
     "data": {
      "application/vnd.jupyter.widget-view+json": {
       "model_id": "c803e8ad877f407195f9be66eed77108",
       "version_major": 2,
       "version_minor": 0
      },
      "text/plain": [
       "  0%|          | 0/1 [00:00<?, ?it/s]"
      ]
     },
     "metadata": {},
     "output_type": "display_data"
    },
    {
     "name": "stdout",
     "output_type": "stream",
     "text": [
      "Running 1 iteration of planck_function_numba with 100000 frequency bins\n"
     ]
    },
    {
     "data": {
      "application/vnd.jupyter.widget-view+json": {
       "model_id": "f29a5e51ecee4e0ea55f09c3717910ff",
       "version_major": 2,
       "version_minor": 0
      },
      "text/plain": [
       "  0%|          | 0/1 [00:00<?, ?it/s]"
      ]
     },
     "metadata": {},
     "output_type": "display_data"
    },
    {
     "name": "stdout",
     "output_type": "stream",
     "text": [
      "Running 1 iteration of planck_function_numba with 200000 frequency bins\n"
     ]
    },
    {
     "data": {
      "application/vnd.jupyter.widget-view+json": {
       "model_id": "1e23079fa2084a498bc6bd520e584cda",
       "version_major": 2,
       "version_minor": 0
      },
      "text/plain": [
       "  0%|          | 0/1 [00:00<?, ?it/s]"
      ]
     },
     "metadata": {},
     "output_type": "display_data"
    },
    {
     "name": "stdout",
     "output_type": "stream",
     "text": [
      "Running 3 iterations of planck_function_numba with 500000 frequency bins\n"
     ]
    },
    {
     "data": {
      "application/vnd.jupyter.widget-view+json": {
       "model_id": "7e064c5354c5443394d9043782bf52fc",
       "version_major": 2,
       "version_minor": 0
      },
      "text/plain": [
       "  0%|          | 0/3 [00:00<?, ?it/s]"
      ]
     },
     "metadata": {},
     "output_type": "display_data"
    },
    {
     "name": "stdout",
     "output_type": "stream",
     "text": [
      "Running 11 iterations of planck_function_numba with 1000000 frequency bins\n"
     ]
    },
    {
     "data": {
      "application/vnd.jupyter.widget-view+json": {
       "model_id": "6fa087565e3c42edb600698430aa72e7",
       "version_major": 2,
       "version_minor": 0
      },
      "text/plain": [
       "  0%|          | 0/11 [00:00<?, ?it/s]"
      ]
     },
     "metadata": {},
     "output_type": "display_data"
    },
    {
     "name": "stdout",
     "output_type": "stream",
     "text": [
      "Running 1 iteration of planck_function_numba with 2000000 frequency bins\n"
     ]
    },
    {
     "data": {
      "application/vnd.jupyter.widget-view+json": {
       "model_id": "6ffc2818bac14ff7b2b657335dafed54",
       "version_major": 2,
       "version_minor": 0
      },
      "text/plain": [
       "  0%|          | 0/1 [00:00<?, ?it/s]"
      ]
     },
     "metadata": {},
     "output_type": "display_data"
    },
    {
     "name": "stdout",
     "output_type": "stream",
     "text": [
      "Running 1 iteration of planck_function_numba with 5000000 frequency bins\n"
     ]
    },
    {
     "data": {
      "application/vnd.jupyter.widget-view+json": {
       "model_id": "4af491dbb88d41af9892f32701e04aad",
       "version_major": 2,
       "version_minor": 0
      },
      "text/plain": [
       "  0%|          | 0/1 [00:00<?, ?it/s]"
      ]
     },
     "metadata": {},
     "output_type": "display_data"
    },
    {
     "name": "stdout",
     "output_type": "stream",
     "text": [
      "Running 1 iteration of planck_function_numba_parallel with 100 frequency bins\n"
     ]
    },
    {
     "data": {
      "application/vnd.jupyter.widget-view+json": {
       "model_id": "119ea7daedf84345a5542f4b3633c883",
       "version_major": 2,
       "version_minor": 0
      },
      "text/plain": [
       "  0%|          | 0/1 [00:00<?, ?it/s]"
      ]
     },
     "metadata": {},
     "output_type": "display_data"
    },
    {
     "name": "stdout",
     "output_type": "stream",
     "text": [
      "Running 1 iteration of planck_function_numba_parallel with 200 frequency bins\n"
     ]
    },
    {
     "data": {
      "application/vnd.jupyter.widget-view+json": {
       "model_id": "a3d8a322415248b190354e7f2ed2abeb",
       "version_major": 2,
       "version_minor": 0
      },
      "text/plain": [
       "  0%|          | 0/1 [00:00<?, ?it/s]"
      ]
     },
     "metadata": {},
     "output_type": "display_data"
    },
    {
     "name": "stdout",
     "output_type": "stream",
     "text": [
      "Running 1 iteration of planck_function_numba_parallel with 500 frequency bins\n"
     ]
    },
    {
     "data": {
      "application/vnd.jupyter.widget-view+json": {
       "model_id": "5f7693ab1fe643149f010f9bbdf96d17",
       "version_major": 2,
       "version_minor": 0
      },
      "text/plain": [
       "  0%|          | 0/1 [00:00<?, ?it/s]"
      ]
     },
     "metadata": {},
     "output_type": "display_data"
    },
    {
     "name": "stdout",
     "output_type": "stream",
     "text": [
      "Running 1 iteration of planck_function_numba_parallel with 1000 frequency bins\n"
     ]
    },
    {
     "data": {
      "application/vnd.jupyter.widget-view+json": {
       "model_id": "d15b12e9a9084aa185ebc3612e8c172c",
       "version_major": 2,
       "version_minor": 0
      },
      "text/plain": [
       "  0%|          | 0/1 [00:00<?, ?it/s]"
      ]
     },
     "metadata": {},
     "output_type": "display_data"
    },
    {
     "name": "stdout",
     "output_type": "stream",
     "text": [
      "Running 1 iteration of planck_function_numba_parallel with 2000 frequency bins\n"
     ]
    },
    {
     "data": {
      "application/vnd.jupyter.widget-view+json": {
       "model_id": "0e41c7484461477c94fea2db1d820277",
       "version_major": 2,
       "version_minor": 0
      },
      "text/plain": [
       "  0%|          | 0/1 [00:00<?, ?it/s]"
      ]
     },
     "metadata": {},
     "output_type": "display_data"
    },
    {
     "name": "stdout",
     "output_type": "stream",
     "text": [
      "Running 1 iteration of planck_function_numba_parallel with 5000 frequency bins\n"
     ]
    },
    {
     "data": {
      "application/vnd.jupyter.widget-view+json": {
       "model_id": "e260ac57660d41ffbbe4fbfbea1128cd",
       "version_major": 2,
       "version_minor": 0
      },
      "text/plain": [
       "  0%|          | 0/1 [00:00<?, ?it/s]"
      ]
     },
     "metadata": {},
     "output_type": "display_data"
    },
    {
     "name": "stdout",
     "output_type": "stream",
     "text": [
      "Running 1 iteration of planck_function_numba_parallel with 10000 frequency bins\n"
     ]
    },
    {
     "data": {
      "application/vnd.jupyter.widget-view+json": {
       "model_id": "66bf01fee1e442be9a904d2c432ff2a3",
       "version_major": 2,
       "version_minor": 0
      },
      "text/plain": [
       "  0%|          | 0/1 [00:00<?, ?it/s]"
      ]
     },
     "metadata": {},
     "output_type": "display_data"
    },
    {
     "name": "stdout",
     "output_type": "stream",
     "text": [
      "Running 1 iteration of planck_function_numba_parallel with 20000 frequency bins\n"
     ]
    },
    {
     "data": {
      "application/vnd.jupyter.widget-view+json": {
       "model_id": "13e5b4d97c834954ae21bb0eb5d6c82f",
       "version_major": 2,
       "version_minor": 0
      },
      "text/plain": [
       "  0%|          | 0/1 [00:00<?, ?it/s]"
      ]
     },
     "metadata": {},
     "output_type": "display_data"
    },
    {
     "name": "stdout",
     "output_type": "stream",
     "text": [
      "Running 1 iteration of planck_function_numba_parallel with 50000 frequency bins\n"
     ]
    },
    {
     "data": {
      "application/vnd.jupyter.widget-view+json": {
       "model_id": "e7f0aef4461b491ba59e7d81936ff2a3",
       "version_major": 2,
       "version_minor": 0
      },
      "text/plain": [
       "  0%|          | 0/1 [00:00<?, ?it/s]"
      ]
     },
     "metadata": {},
     "output_type": "display_data"
    },
    {
     "name": "stdout",
     "output_type": "stream",
     "text": [
      "Running 1 iteration of planck_function_numba_parallel with 100000 frequency bins\n"
     ]
    },
    {
     "data": {
      "application/vnd.jupyter.widget-view+json": {
       "model_id": "e65b1dca48614f6c9ecdeaf935329524",
       "version_major": 2,
       "version_minor": 0
      },
      "text/plain": [
       "  0%|          | 0/1 [00:00<?, ?it/s]"
      ]
     },
     "metadata": {},
     "output_type": "display_data"
    },
    {
     "name": "stdout",
     "output_type": "stream",
     "text": [
      "Running 1 iteration of planck_function_numba_parallel with 200000 frequency bins\n"
     ]
    },
    {
     "data": {
      "application/vnd.jupyter.widget-view+json": {
       "model_id": "3f04e05b18b84d708889819920041c87",
       "version_major": 2,
       "version_minor": 0
      },
      "text/plain": [
       "  0%|          | 0/1 [00:00<?, ?it/s]"
      ]
     },
     "metadata": {},
     "output_type": "display_data"
    },
    {
     "name": "stdout",
     "output_type": "stream",
     "text": [
      "Running 1 iteration of planck_function_numba_parallel with 500000 frequency bins\n"
     ]
    },
    {
     "data": {
      "application/vnd.jupyter.widget-view+json": {
       "model_id": "16029584c82e4454a6239cdf545da235",
       "version_major": 2,
       "version_minor": 0
      },
      "text/plain": [
       "  0%|          | 0/1 [00:00<?, ?it/s]"
      ]
     },
     "metadata": {},
     "output_type": "display_data"
    },
    {
     "name": "stdout",
     "output_type": "stream",
     "text": [
      "Running 1 iteration of planck_function_numba_parallel with 1000000 frequency bins\n"
     ]
    },
    {
     "data": {
      "application/vnd.jupyter.widget-view+json": {
       "model_id": "1d24fbfc35f74573b06496735563af73",
       "version_major": 2,
       "version_minor": 0
      },
      "text/plain": [
       "  0%|          | 0/1 [00:00<?, ?it/s]"
      ]
     },
     "metadata": {},
     "output_type": "display_data"
    },
    {
     "name": "stdout",
     "output_type": "stream",
     "text": [
      "Running 1 iteration of planck_function_numba_parallel with 2000000 frequency bins\n"
     ]
    },
    {
     "data": {
      "application/vnd.jupyter.widget-view+json": {
       "model_id": "b7f80637512d4efcae61f0a7e0453818",
       "version_major": 2,
       "version_minor": 0
      },
      "text/plain": [
       "  0%|          | 0/1 [00:00<?, ?it/s]"
      ]
     },
     "metadata": {},
     "output_type": "display_data"
    },
    {
     "name": "stdout",
     "output_type": "stream",
     "text": [
      "Running 1 iteration of planck_function_numba_parallel with 5000000 frequency bins\n"
     ]
    },
    {
     "data": {
      "application/vnd.jupyter.widget-view+json": {
       "model_id": "a2a3413764fb45e28a943032512dce45",
       "version_major": 2,
       "version_minor": 0
      },
      "text/plain": [
       "  0%|          | 0/1 [00:00<?, ?it/s]"
      ]
     },
     "metadata": {},
     "output_type": "display_data"
    },
    {
     "data": {
      "text/html": [
       "<div>\n",
       "<style scoped>\n",
       "    .dataframe tbody tr th:only-of-type {\n",
       "        vertical-align: middle;\n",
       "    }\n",
       "\n",
       "    .dataframe tbody tr th {\n",
       "        vertical-align: top;\n",
       "    }\n",
       "\n",
       "    .dataframe thead th {\n",
       "        text-align: right;\n",
       "    }\n",
       "</style>\n",
       "<table border=\"1\" class=\"dataframe\">\n",
       "  <thead>\n",
       "    <tr style=\"text-align: right;\">\n",
       "      <th></th>\n",
       "      <th></th>\n",
       "      <th>mean</th>\n",
       "      <th>std</th>\n",
       "      <th>N_montecarlo</th>\n",
       "    </tr>\n",
       "    <tr>\n",
       "      <th>func_name</th>\n",
       "      <th>freq_bins</th>\n",
       "      <th></th>\n",
       "      <th></th>\n",
       "      <th></th>\n",
       "    </tr>\n",
       "  </thead>\n",
       "  <tbody>\n",
       "    <tr>\n",
       "      <th rowspan=\"15\" valign=\"top\">planck_function</th>\n",
       "      <th>100</th>\n",
       "      <td>0.000249</td>\n",
       "      <td>1.137843e-05</td>\n",
       "      <td>1</td>\n",
       "    </tr>\n",
       "    <tr>\n",
       "      <th>200</th>\n",
       "      <td>0.000243</td>\n",
       "      <td>1.942183e-06</td>\n",
       "      <td>1</td>\n",
       "    </tr>\n",
       "    <tr>\n",
       "      <th>500</th>\n",
       "      <td>0.000243</td>\n",
       "      <td>8.323971e-06</td>\n",
       "      <td>1</td>\n",
       "    </tr>\n",
       "    <tr>\n",
       "      <th>1000</th>\n",
       "      <td>0.000266</td>\n",
       "      <td>1.461693e-05</td>\n",
       "      <td>1</td>\n",
       "    </tr>\n",
       "    <tr>\n",
       "      <th>2000</th>\n",
       "      <td>0.000280</td>\n",
       "      <td>1.660322e-05</td>\n",
       "      <td>1</td>\n",
       "    </tr>\n",
       "    <tr>\n",
       "      <th>5000</th>\n",
       "      <td>0.000303</td>\n",
       "      <td>9.153831e-06</td>\n",
       "      <td>1</td>\n",
       "    </tr>\n",
       "    <tr>\n",
       "      <th>10000</th>\n",
       "      <td>0.000409</td>\n",
       "      <td>2.381717e-05</td>\n",
       "      <td>1</td>\n",
       "    </tr>\n",
       "    <tr>\n",
       "      <th>20000</th>\n",
       "      <td>0.000508</td>\n",
       "      <td>1.386067e-05</td>\n",
       "      <td>1</td>\n",
       "    </tr>\n",
       "    <tr>\n",
       "      <th>50000</th>\n",
       "      <td>0.001027</td>\n",
       "      <td>1.063223e-05</td>\n",
       "      <td>1</td>\n",
       "    </tr>\n",
       "    <tr>\n",
       "      <th>100000</th>\n",
       "      <td>0.001748</td>\n",
       "      <td>3.207666e-05</td>\n",
       "      <td>1</td>\n",
       "    </tr>\n",
       "    <tr>\n",
       "      <th>200000</th>\n",
       "      <td>0.003422</td>\n",
       "      <td>3.067101e-04</td>\n",
       "      <td>2</td>\n",
       "    </tr>\n",
       "    <tr>\n",
       "      <th>500000</th>\n",
       "      <td>0.007796</td>\n",
       "      <td>6.178651e-04</td>\n",
       "      <td>5</td>\n",
       "    </tr>\n",
       "    <tr>\n",
       "      <th>1000000</th>\n",
       "      <td>0.015855</td>\n",
       "      <td>2.331016e-04</td>\n",
       "      <td>1</td>\n",
       "    </tr>\n",
       "    <tr>\n",
       "      <th>2000000</th>\n",
       "      <td>0.032991</td>\n",
       "      <td>2.131578e-04</td>\n",
       "      <td>1</td>\n",
       "    </tr>\n",
       "    <tr>\n",
       "      <th>5000000</th>\n",
       "      <td>0.108327</td>\n",
       "      <td>8.055981e-04</td>\n",
       "      <td>8</td>\n",
       "    </tr>\n",
       "    <tr>\n",
       "      <th rowspan=\"15\" valign=\"top\">planck_function_numba</th>\n",
       "      <th>100</th>\n",
       "      <td>0.000009</td>\n",
       "      <td>1.556564e-07</td>\n",
       "      <td>1</td>\n",
       "    </tr>\n",
       "    <tr>\n",
       "      <th>200</th>\n",
       "      <td>0.000010</td>\n",
       "      <td>6.071029e-07</td>\n",
       "      <td>1</td>\n",
       "    </tr>\n",
       "    <tr>\n",
       "      <th>500</th>\n",
       "      <td>0.000013</td>\n",
       "      <td>5.021183e-07</td>\n",
       "      <td>1</td>\n",
       "    </tr>\n",
       "    <tr>\n",
       "      <th>1000</th>\n",
       "      <td>0.000017</td>\n",
       "      <td>6.598355e-07</td>\n",
       "      <td>1</td>\n",
       "    </tr>\n",
       "    <tr>\n",
       "      <th>2000</th>\n",
       "      <td>0.000022</td>\n",
       "      <td>4.588729e-07</td>\n",
       "      <td>1</td>\n",
       "    </tr>\n",
       "    <tr>\n",
       "      <th>5000</th>\n",
       "      <td>0.000035</td>\n",
       "      <td>9.723242e-07</td>\n",
       "      <td>1</td>\n",
       "    </tr>\n",
       "    <tr>\n",
       "      <th>10000</th>\n",
       "      <td>0.000061</td>\n",
       "      <td>1.087701e-06</td>\n",
       "      <td>1</td>\n",
       "    </tr>\n",
       "    <tr>\n",
       "      <th>20000</th>\n",
       "      <td>0.000102</td>\n",
       "      <td>1.174175e-06</td>\n",
       "      <td>1</td>\n",
       "    </tr>\n",
       "    <tr>\n",
       "      <th>50000</th>\n",
       "      <td>0.000231</td>\n",
       "      <td>8.166834e-06</td>\n",
       "      <td>1</td>\n",
       "    </tr>\n",
       "    <tr>\n",
       "      <th>100000</th>\n",
       "      <td>0.000455</td>\n",
       "      <td>2.928442e-05</td>\n",
       "      <td>1</td>\n",
       "    </tr>\n",
       "    <tr>\n",
       "      <th>200000</th>\n",
       "      <td>0.000998</td>\n",
       "      <td>1.769180e-04</td>\n",
       "      <td>1</td>\n",
       "    </tr>\n",
       "    <tr>\n",
       "      <th>500000</th>\n",
       "      <td>0.002246</td>\n",
       "      <td>4.103862e-04</td>\n",
       "      <td>2</td>\n",
       "    </tr>\n",
       "    <tr>\n",
       "      <th>1000000</th>\n",
       "      <td>0.004061</td>\n",
       "      <td>6.072339e-04</td>\n",
       "      <td>4</td>\n",
       "    </tr>\n",
       "    <tr>\n",
       "      <th>2000000</th>\n",
       "      <td>0.010754</td>\n",
       "      <td>1.127795e-04</td>\n",
       "      <td>1</td>\n",
       "    </tr>\n",
       "    <tr>\n",
       "      <th>5000000</th>\n",
       "      <td>0.027652</td>\n",
       "      <td>3.285307e-04</td>\n",
       "      <td>2</td>\n",
       "    </tr>\n",
       "    <tr>\n",
       "      <th rowspan=\"15\" valign=\"top\">planck_function_numba_parallel</th>\n",
       "      <th>100</th>\n",
       "      <td>0.000093</td>\n",
       "      <td>6.088486e-06</td>\n",
       "      <td>1</td>\n",
       "    </tr>\n",
       "    <tr>\n",
       "      <th>200</th>\n",
       "      <td>0.000099</td>\n",
       "      <td>2.798828e-06</td>\n",
       "      <td>1</td>\n",
       "    </tr>\n",
       "    <tr>\n",
       "      <th>500</th>\n",
       "      <td>0.000100</td>\n",
       "      <td>2.605841e-06</td>\n",
       "      <td>1</td>\n",
       "    </tr>\n",
       "    <tr>\n",
       "      <th>1000</th>\n",
       "      <td>0.000108</td>\n",
       "      <td>2.253475e-06</td>\n",
       "      <td>1</td>\n",
       "    </tr>\n",
       "    <tr>\n",
       "      <th>2000</th>\n",
       "      <td>0.000114</td>\n",
       "      <td>1.088216e-05</td>\n",
       "      <td>1</td>\n",
       "    </tr>\n",
       "    <tr>\n",
       "      <th>5000</th>\n",
       "      <td>0.000136</td>\n",
       "      <td>1.638270e-05</td>\n",
       "      <td>1</td>\n",
       "    </tr>\n",
       "    <tr>\n",
       "      <th>10000</th>\n",
       "      <td>0.000157</td>\n",
       "      <td>9.894856e-06</td>\n",
       "      <td>1</td>\n",
       "    </tr>\n",
       "    <tr>\n",
       "      <th>20000</th>\n",
       "      <td>0.000211</td>\n",
       "      <td>1.002080e-05</td>\n",
       "      <td>1</td>\n",
       "    </tr>\n",
       "    <tr>\n",
       "      <th>50000</th>\n",
       "      <td>0.000285</td>\n",
       "      <td>1.959950e-05</td>\n",
       "      <td>1</td>\n",
       "    </tr>\n",
       "    <tr>\n",
       "      <th>100000</th>\n",
       "      <td>0.000378</td>\n",
       "      <td>1.876389e-05</td>\n",
       "      <td>1</td>\n",
       "    </tr>\n",
       "    <tr>\n",
       "      <th>200000</th>\n",
       "      <td>0.000468</td>\n",
       "      <td>3.202868e-05</td>\n",
       "      <td>1</td>\n",
       "    </tr>\n",
       "    <tr>\n",
       "      <th>500000</th>\n",
       "      <td>0.000735</td>\n",
       "      <td>1.033788e-04</td>\n",
       "      <td>1</td>\n",
       "    </tr>\n",
       "    <tr>\n",
       "      <th>1000000</th>\n",
       "      <td>0.000965</td>\n",
       "      <td>8.366237e-05</td>\n",
       "      <td>1</td>\n",
       "    </tr>\n",
       "    <tr>\n",
       "      <th>2000000</th>\n",
       "      <td>0.001721</td>\n",
       "      <td>9.899350e-05</td>\n",
       "      <td>1</td>\n",
       "    </tr>\n",
       "    <tr>\n",
       "      <th>5000000</th>\n",
       "      <td>0.003936</td>\n",
       "      <td>1.208418e-04</td>\n",
       "      <td>1</td>\n",
       "    </tr>\n",
       "  </tbody>\n",
       "</table>\n",
       "</div>"
      ],
      "text/plain": [
       "                                              mean           std  N_montecarlo\n",
       "func_name                      freq_bins                                      \n",
       "planck_function                100        0.000249  1.137843e-05             1\n",
       "                               200        0.000243  1.942183e-06             1\n",
       "                               500        0.000243  8.323971e-06             1\n",
       "                               1000       0.000266  1.461693e-05             1\n",
       "                               2000       0.000280  1.660322e-05             1\n",
       "                               5000       0.000303  9.153831e-06             1\n",
       "                               10000      0.000409  2.381717e-05             1\n",
       "                               20000      0.000508  1.386067e-05             1\n",
       "                               50000      0.001027  1.063223e-05             1\n",
       "                               100000     0.001748  3.207666e-05             1\n",
       "                               200000     0.003422  3.067101e-04             2\n",
       "                               500000     0.007796  6.178651e-04             5\n",
       "                               1000000    0.015855  2.331016e-04             1\n",
       "                               2000000    0.032991  2.131578e-04             1\n",
       "                               5000000    0.108327  8.055981e-04             8\n",
       "planck_function_numba          100        0.000009  1.556564e-07             1\n",
       "                               200        0.000010  6.071029e-07             1\n",
       "                               500        0.000013  5.021183e-07             1\n",
       "                               1000       0.000017  6.598355e-07             1\n",
       "                               2000       0.000022  4.588729e-07             1\n",
       "                               5000       0.000035  9.723242e-07             1\n",
       "                               10000      0.000061  1.087701e-06             1\n",
       "                               20000      0.000102  1.174175e-06             1\n",
       "                               50000      0.000231  8.166834e-06             1\n",
       "                               100000     0.000455  2.928442e-05             1\n",
       "                               200000     0.000998  1.769180e-04             1\n",
       "                               500000     0.002246  4.103862e-04             2\n",
       "                               1000000    0.004061  6.072339e-04             4\n",
       "                               2000000    0.010754  1.127795e-04             1\n",
       "                               5000000    0.027652  3.285307e-04             2\n",
       "planck_function_numba_parallel 100        0.000093  6.088486e-06             1\n",
       "                               200        0.000099  2.798828e-06             1\n",
       "                               500        0.000100  2.605841e-06             1\n",
       "                               1000       0.000108  2.253475e-06             1\n",
       "                               2000       0.000114  1.088216e-05             1\n",
       "                               5000       0.000136  1.638270e-05             1\n",
       "                               10000      0.000157  9.894856e-06             1\n",
       "                               20000      0.000211  1.002080e-05             1\n",
       "                               50000      0.000285  1.959950e-05             1\n",
       "                               100000     0.000378  1.876389e-05             1\n",
       "                               200000     0.000468  3.202868e-05             1\n",
       "                               500000     0.000735  1.033788e-04             1\n",
       "                               1000000    0.000965  8.366237e-05             1\n",
       "                               2000000    0.001721  9.899350e-05             1\n",
       "                               5000000    0.003936  1.208418e-04             1"
      ]
     },
     "execution_count": 71,
     "metadata": {},
     "output_type": "execute_result"
    }
   ],
   "source": [
    "for tup in time_data_estimators.itertuples():\n",
    "    func_name = tup.Index[0]\n",
    "    freq = tup.Index[1]\n",
    "    func = funcdict[func_name]\n",
    "    plural = \"s\" if tup.N_montecarlo > 1 else \"\"\n",
    "    tqdm.tqdm.write(f\"Running {tup.N_montecarlo} iteration{plural} of {func_name} with {freq} frequency bins...\")\n",
    "    for n in tqdm.trange(tup.N_montecarlo):\n",
    "        tempdf = time_trial(\n",
    "            func,\n",
    "            func_name,\n",
    "            freq,\n",
    "        )\n",
    "        raw_time_data = pd.concat(\n",
    "            [\n",
    "                raw_time_data,\n",
    "                tempdf,\n",
    "            ],\n",
    "            ignore_index=True,\n",
    "        )\n",
    "\n",
    "time_data_estimators[\"mean\"] = raw_time_data.groupby(\n",
    "    [\n",
    "        \"func_name\",\n",
    "        \"freq_bins\",\n",
    "    ]\n",
    ").mean()\n",
    "time_data_estimators[\"std\"] = raw_time_data.groupby(\n",
    "    [\n",
    "        \"func_name\",\n",
    "        \"freq_bins\",\n",
    "    ]\n",
    ").std()\n",
    "\n",
    "time_data_estimators[\"N_montecarlo\"] = (\n",
    "    ((time_data_estimators[\"std\"] * z / error_tolerance) ** 2)\n",
    "    .apply(np.ceil)\n",
    "    .astype(int)\n",
    "    .rename(\"N_iterations\")\n",
    ")\n",
    "\n",
    "time_data_estimators"
   ]
  },
  {
   "cell_type": "code",
   "execution_count": 72,
   "id": "54bea127",
   "metadata": {},
   "outputs": [
    {
     "data": {
      "image/png": "[encoded data removed]",
      "text/plain": [
       "<Figure size 640x480 with 1 Axes>"
      ]
     },
     "metadata": {},
     "output_type": "display_data"
    }
   ],
   "source": [
    "markers = (\n",
    "    \"o\",\n",
    "    \"s\",\n",
    "    \"^\",\n",
    ")\n",
    "# Different markers to be color-blind friendly\n",
    "\n",
    "for f, marker in zip(function_names, markers):\n",
    "    plt.loglog(\n",
    "        time_data_estimators.loc[f][\"mean\"],\n",
    "        marker=marker,\n",
    "        label=f,\n",
    "    )\n",
    "    # Semilog because of the range of values for freq_bin\n",
    "plt.title(\"Average Execution Times For JIT and non-JIT Implementations\")\n",
    "plt.legend()\n",
    "plt.grid()\n",
    "plt.xlabel(\"Frequency Bins\")\n",
    "plt.ylabel(\"Average Elapsed Time (s)\")\n",
    "plt.tight_layout()\n",
    "plt.show()\n",
    "# This plot is done in matplotlib because that's what's already used here\n",
    "# and what's available currently installed. I could have done something\n",
    "# more elaborate, but I didn't want to mess with the virtual environment."
   ]
  }
 ],
 "metadata": {
  "celltoolbar": "Raw Cell Format",
  "kernelspec": {
   "display_name": "Python 3 (ipykernel)",
   "language": "python",
   "name": "python3"
  },
  "language_info": {
   "codemirror_mode": {
    "name": "ipython",
    "version": 3
   },
   "file_extension": ".py",
   "mimetype": "text/x-python",
   "name": "python",
   "nbconvert_exporter": "python",
   "pygments_lexer": "ipython3",
   "version": "3.8.16"
  }
 },
 "nbformat": 4,
 "nbformat_minor": 5
}
