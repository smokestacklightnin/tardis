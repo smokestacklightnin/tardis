{
 "cells": [
  {
   "cell_type": "markdown",
   "id": "6c0dbe0a",
   "metadata": {},
   "source": [
    "# Energy Packet Initialization\n",
    "\n",
    "## Theory\n",
    "\n",
    "While it is instructive to think about tracking the propagation history of\n",
    "individual photons when illustrating the basic idea behind Monte Carlo radiative transfer\n",
    "techniques, there are important numerical reasons for using a different\n",
    "discretization scheme. Instead of thinking in the photon picture, it brings\n",
    "significant advantages to follow the idea of <strong data-cite=\"Abbott1985\">[]</strong> and\n",
    "<strong data-cite=\"Lucy1999\">[]</strong> and consider parcels of radiant energy as the fundamental\n",
    "building blocks of the Monte Carlo calculation. These basic Monte Carlo quanta\n",
    "are commonly referred to as \"energy packets\" or simply \"packets\", and are composed of many photons with the same frequency.\n",
    "\n",
    "During a Monte Carlo calculation, $N$ (a large number) packets, all with a certain\n",
    "energy $\\varepsilon$, are created at the inner boundary of the computational domain (which is discussed in the [model section](../setup/model.rst)) known as the photosphere. Currently, the photosphere is modeled as a spherical [blackbody](https://en.wikipedia.org/wiki/Black-body_radiation) with a radius $r_\\mathrm{boundary\\_inner}$ and temperature $T_\\mathrm{inner}$. Both of these quantities are calculated as a part of the [model](../setup/model.ipynb), and $T_\\mathrm{inner}$ is additionally updated throughout the simulation as a part of the [Updating Plasma and Convergence](../update_and_conv/update_and_conv.ipynb) process.\n",
    "\n",
    "In TARDIS, all packets are assigned identical energies **in the lab frame** (see [Reference Frames](propagation.rst#reference-frames)), and the total (lab-frame) energy of the packets is 1 erg (and thus each packet has an energy of $\\frac{1}{N}$ ergs).\n",
    "\n",
    "<div class=\"alert alert-info\">\n",
    "    \n",
    "Note\n",
    "\n",
    "The indivisible energy packet scheme does not require that all packets have the same energy. This is just a convenient and simple choice adopted in TARDIS.\n",
    "\n",
    "</div>\n",
    "\n",
    "<div class=\"alert alert-info\">\n",
    "    \n",
    "Note\n",
    "\n",
    "Since all packets have the same total, and photon energy is proportional to frequency, higher-frequency packets will represent less real photons than lower-frequency packets.\n",
    "\n",
    "</div>\n",
    "\n",
    "Since the photosphere is modeled as a blackbody, its total luminosity $L_\\mathrm{inner}$ (recall that luminosity is energy emitted divided by the time in which it is emitted) is\n",
    "$$L_\\mathrm{inner}=\\frac{N\\varepsilon}{\\Delta t}=4 \\pi r_\\mathrm{boundary\\_inner}^2 \\sigma_{\\mathrm{R}} T_{\\mathrm{inner}}^4$$\n",
    "where $\\sigma_\\mathrm{R}$ is the Stefan-Boltzmann constant and $\\Delta t$ is the physical duration of the simulation. In order to make this relationship hold (remembering that $N\\varepsilon = 1$ erg), we use\n",
    "$$\\Delta t = \\frac{1}{L_\\mathrm{inner}}=\\frac{1}{4 \\pi r_\\mathrm{boundary\\_inner}^2 \\sigma_{\\mathrm{R}} T_{\\mathrm{inner}}^4}.$$\n",
    "\n",
    "<div class=\"alert alert-info\">\n",
    "    \n",
    "Note\n",
    "\n",
    "As will be shown in the code example, this will lead to unphysically small values for $\\Delta t$. It may be easier to think of the Monte Carlo packets not as packets of energy $\\epsilon$ going through a simulation of duration $\\Delta t$, but as packets of luminosity that carry an energy $\\epsilon$ over a time $\\Delta t$ (and thus truly being luminosity packets of luminosity $\\frac{\\epsilon}{\\Delta t}$). Indeed, this view of the packets will be useful when deriving the [Monte Carlo Estimators](estimators.rst).\n",
    "\n",
    "</div>\n",
    "\n",
    "During packet initialization, each packet is assigned an initial propagation direction $\\mu$ which is the cosine of the angle $\\theta$ which the packet's path makes with the radial direction (see the image below). Using a pseudo-random number generator which generates numbers $z$ uniformly distributed on the interval $[0,1]$, the propagation direction is determined (due to physical considerations beyond the scope of this documentation) according to\n",
    "$$\\mu = \\sqrt{z}.$$\n",
    "This sampling is shown in the \"Code Example\" section.\n",
    "\n",
    "<img src=\"../images/propagation_direction.png\" width=500>\n",
    "\n",
    "Finally, each packet is assigned an initial frequency (or more precisely, the initial frequency of its constituent photons). Note that since each packet has the same energy, each packet will represent a different number of real photons. The sampling on packet frequencies is more involved than that of the propagation direction, as it involves sampling the Planck distribution (see below). TARDIS uses the technique described in <strong data-cite=\"Carter1975\">[]</strong> and summarized in <strong data-cite=\"Bjorkman2001\">[]</strong> for this purpose.\n",
    "\n",
    "During the simulation, the energy of the packet remains constant in the local\n",
    "co-moving frame (see [Reference Frames](propagation.rst#reference-frames)). This naturally ensures energy\n",
    "conservation and constitutes the main advantage of this discretization scheme. **However, while the energy of the packets is conserved in the co-moving frame, the co-moving frequency of the packet (and thus the photons represented by the packet) may vary over the course of the simulation. Thus, a packet may represent several different numbers of real photons throughout their lifetimes.**\n",
    "\n",
    "## Code Example\n",
    "\n",
    "We now demonstrate the TARDIS packet initialization framework:"
   ]
  },
  {
   "cell_type": "code",
   "execution_count": 1,
   "id": "426325e5",
   "metadata": {},
   "outputs": [
    {
     "data": {
      "application/vnd.jupyter.widget-view+json": {
       "model_id": "",
       "version_major": 2,
       "version_minor": 0
      },
      "text/plain": [
       "Iterations:          0/? [00:00<?, ?it/s]"
      ]
     },
     "metadata": {},
     "output_type": "display_data"
    },
    {
     "data": {
      "application/vnd.jupyter.widget-view+json": {
       "model_id": "",
       "version_major": 2,
       "version_minor": 0
      },
      "text/plain": [
       "Packets:             0/? [00:00<?, ?it/s]"
      ]
     },
     "metadata": {},
     "output_type": "display_data"
    }
   ],
   "source": [
    "import numpy as np\n",
    "from tardis.montecarlo.packet_source import BlackBodySimpleSource\n",
    "from astropy import units as u\n",
    "from tardis import constants as const\n",
    "import matplotlib.pyplot as plt\n",
    "import numba\n",
    "import time\n",
    "import pandas as pd\n",
    "import itertools\n",
    "import tqdm.auto as tqdm\n",
    "import scipy.stats as stats\n",
    "\n",
    "\n",
    "# The random number generator that will be used\n",
    "rng = np.random.default_rng()"
   ]
  },
  {
   "cell_type": "markdown",
   "id": "4ae02998",
   "metadata": {},
   "source": [
    "The following cell contains values that you can change to see how it affects the spectrum (in an actual simulation, the seed and number of packets are set in the [Monte Carlo configuration](../../io/configuration/components/montecarlo.rst), and the photospheric radius is calculated as a part of the [model](../setup/model.ipynb)):"
   ]
  },
  {
   "cell_type": "code",
   "execution_count": 2,
   "id": "bc34bf33",
   "metadata": {},
   "outputs": [],
   "source": [
    "# Seed for the pseudo-random number generator\n",
    "seed = 1\n",
    "\n",
    "# Number of packets generated\n",
    "n_packets = 40000\n",
    "\n",
    "# Radius of the supernova's photosphere in cm\n",
    "r_boundary_inner = 1e15 * u.cm"
   ]
  },
  {
   "cell_type": "markdown",
   "id": "450faf76",
   "metadata": {},
   "source": [
    "We set the temperature of the photosphere $T_\\mathrm{inner}$, which will determine the photospheric luminosity (in an actual simulation, $T_\\mathrm{inner}$ is initially calculated as a part of the [model](../setup/model.ipynb) and updated as a part of the [Updating Plasma and Convergence](../update_and_conv/update_and_conv.ipynb) process):"
   ]
  },
  {
   "cell_type": "code",
   "execution_count": 3,
   "id": "3fb3ca8c",
   "metadata": {},
   "outputs": [
    {
     "name": "stdout",
     "output_type": "stream",
     "text": [
      "Luminosity of photosphere: 7.125600863965567e+42 erg / s\n"
     ]
    }
   ],
   "source": [
    "# Temperature in K\n",
    "temperature_inner = 10000 * u.K\n",
    "\n",
    "luminosity_inner = (\n",
    "    4\n",
    "    * np.pi\n",
    "    * (r_boundary_inner**2)\n",
    "    * const.sigma_sb\n",
    "    * (temperature_inner**4)\n",
    ")\n",
    "\n",
    "# Makes sure the luminosity is given in erg/s\n",
    "luminosity_inner = luminosity_inner.to(\"erg/s\")\n",
    "\n",
    "print(\n",
    "    \"Luminosity of photosphere:\",\n",
    "    luminosity_inner,\n",
    ")"
   ]
  },
  {
   "cell_type": "markdown",
   "id": "516633c5",
   "metadata": {},
   "source": [
    "We now generate the ensemble of packets. The array of packet energies and radii are also shown."
   ]
  },
  {
   "cell_type": "code",
   "execution_count": 4,
   "id": "925e9e1b",
   "metadata": {},
   "outputs": [
    {
     "name": "stdout",
     "output_type": "stream",
     "text": [
      "Energies: [2.5e-05 2.5e-05 2.5e-05 ... 2.5e-05 2.5e-05 2.5e-05] erg\n",
      "Radii: [1.e+15 1.e+15 1.e+15 ... 1.e+15 1.e+15 1.e+15] cm\n"
     ]
    }
   ],
   "source": [
    "# We define our packet source\n",
    "packet_source = BlackBodySimpleSource(seed)\n",
    "\n",
    "radii, nus, mus, energies = packet_source.create_packets(\n",
    "    temperature_inner.value,\n",
    "    n_packets,\n",
    "    rng,\n",
    "    r_boundary_inner,\n",
    ")\n",
    "\n",
    "# Sets the energies in units of ergs\n",
    "energies *= u.erg\n",
    "\n",
    "# Sets the frequencies in units of Hz\n",
    "nus *= u.Hz\n",
    "\n",
    "print(\n",
    "    \"Energies:\",\n",
    "    energies,\n",
    ")\n",
    "print(\n",
    "    \"Radii:\",\n",
    "    radii,\n",
    ")"
   ]
  },
  {
   "cell_type": "markdown",
   "id": "16936bce",
   "metadata": {},
   "source": [
    "We set the timespan of the simulation so that each packet contributes the appropriate luminosity to the spectrum."
   ]
  },
  {
   "cell_type": "code",
   "execution_count": 5,
   "id": "fed35f47",
   "metadata": {},
   "outputs": [
    {
     "name": "stdout",
     "output_type": "stream",
     "text": [
      "Time of simulation: 1.4033904215110305e-43 s\n",
      "Luminosity per packet: [1.78140022e+38 1.78140022e+38 1.78140022e+38 ... 1.78140022e+38\n",
      " 1.78140022e+38 1.78140022e+38] erg / s\n"
     ]
    }
   ],
   "source": [
    "# Time of simulation\n",
    "t_simulation = 1 * u.erg / luminosity_inner\n",
    "print(\n",
    "    \"Time of simulation:\",\n",
    "    t_simulation,\n",
    ")\n",
    "\n",
    "# Array of luminosity contribution by each packet\n",
    "lumin_per_packet = energies / t_simulation\n",
    "print(\n",
    "    \"Luminosity per packet:\",\n",
    "    lumin_per_packet,\n",
    ")"
   ]
  },
  {
   "cell_type": "markdown",
   "id": "0d839222",
   "metadata": {},
   "source": [
    "We define important constants, and for comparison's sake, we code the Planck distribution function\n",
    "$$L_\\nu (\\nu)=\\frac{8\\pi r_\\mathrm{boundary\\_inner}^2 h\\nu^3}{c^2}\\frac{1}{\\exp\\left(\\frac{h\\nu}{k_BT_\\mathrm{inner}}\\right)-1}$$\n",
    "where $L_\\nu$ is the luminosity density (see [Basic Spectrum Generation](../spectrum/basic.ipynb)) with respect to frequency, $\\nu$ is frequency, $h$ is Planck's constant, $c$ is the speed of light, and $k_B$ is Boltzmann's constant:"
   ]
  },
  {
   "cell_type": "code",
   "execution_count": 6,
   "id": "916a5e22",
   "metadata": {
    "scrolled": false
   },
   "outputs": [],
   "source": [
    "h = const.h.cgs\n",
    "c2 = const.c.cgs**2\n",
    "kB = const.k_B.cgs\n",
    "\n",
    "\n",
    "def planck_function(nu):\n",
    "    return (\n",
    "        8\n",
    "        * np.pi**2\n",
    "        * r_boundary_inner**2\n",
    "        * h\n",
    "        * nu**3\n",
    "        / (c2 * (np.exp(h * nu / (kB * temperature_inner)) - 1))\n",
    "    )"
   ]
  },
  {
   "cell_type": "markdown",
   "id": "78230177",
   "metadata": {},
   "source": [
    "We plot the Planck distribution and a histogram of the generated packet distribution:"
   ]
  },
  {
   "cell_type": "code",
   "execution_count": 7,
   "id": "913fcdbb",
   "metadata": {},
   "outputs": [
    {
     "data": {
      "image/png": "[encoded data removed]",
      "text/plain": [
       "<Figure size 640x480 with 1 Axes>"
      ]
     },
     "metadata": {},
     "output_type": "display_data"
    }
   ],
   "source": [
    "# We set important quantites for making our histogram\n",
    "bins = 200\n",
    "nus_planck = np.linspace(\n",
    "    min(nus),\n",
    "    max(nus),\n",
    "    bins,\n",
    ")\n",
    "bin_width = nus_planck[1] - nus_planck[0]\n",
    "\n",
    "# In the histogram plot below, the weights argument is used\n",
    "# to make sure our plotted spectrum has the correct y-axis scale\n",
    "plt.hist(\n",
    "    nus.value,\n",
    "    bins=bins,\n",
    "    weights=lumin_per_packet / bin_width,\n",
    ")\n",
    "\n",
    "# We plot the planck function for comparison\n",
    "# plt.plot(nus_planck, planck_function(nus_planck))\n",
    "plt.plot(\n",
    "    nus_planck,\n",
    "    planck_function(nus_planck),\n",
    ")\n",
    "\n",
    "plt.xlabel(\"Frequency (Hz)\")\n",
    "plt.ylabel(\"Luminosity density w.r.t. frequency (erg/s/Hz)\")\n",
    "plt.show()"
   ]
  },
  {
   "cell_type": "markdown",
   "id": "ad4f0f0e",
   "metadata": {},
   "source": [
    "We finally plot the generated $\\mu$ density distribution, followed by the generated $\\theta=\\arccos (\\mu)$ density distribution, compared with the respective curves $\\rho = 2\\mu$ and $\\rho = \\sin(2\\theta)$:"
   ]
  },
  {
   "cell_type": "code",
   "execution_count": 8,
   "id": "ae4c97de",
   "metadata": {},
   "outputs": [
    {
     "data": {
      "image/png": "[encoded data removed]",
      "text/plain": [
       "<Figure size 640x480 with 1 Axes>"
      ]
     },
     "metadata": {},
     "output_type": "display_data"
    }
   ],
   "source": [
    "x = np.linspace(0, 1, 1000)\n",
    "\n",
    "plt.hist(\n",
    "    mus,\n",
    "    bins=bins,\n",
    "    density=True,\n",
    ")\n",
    "plt.plot(\n",
    "    x,\n",
    "    2 * x,\n",
    ")\n",
    "plt.xlabel(\"Propagation direction\")\n",
    "plt.ylabel(\"Probability density\")\n",
    "plt.show()"
   ]
  },
  {
   "cell_type": "code",
   "execution_count": 9,
   "id": "41daa433",
   "metadata": {},
   "outputs": [
    {
     "data": {
      "image/png": "[encoded data removed]",
      "text/plain": [
       "<Figure size 640x480 with 1 Axes>"
      ]
     },
     "metadata": {},
     "output_type": "display_data"
    }
   ],
   "source": [
    "thetas = np.linspace(\n",
    "    0,\n",
    "    np.pi / 2,\n",
    "    1000,\n",
    ")\n",
    "\n",
    "plt.hist(\n",
    "    np.arccos(mus),\n",
    "    bins=bins,\n",
    "    density=True,\n",
    ")\n",
    "plt.plot(\n",
    "    thetas,\n",
    "    np.sin(2 * thetas),\n",
    ")\n",
    "plt.xlabel(\"Angle with normal (rad)\")\n",
    "plt.ylabel(\"Probability density\")\n",
    "plt.show()"
   ]
  },
  {
   "cell_type": "markdown",
   "id": "2f661592",
   "metadata": {},
   "source": [
    "## Custom Packet Source\n",
    "\n",
    "TARDIS allows for the user to input a custom function that generates energy packets instead of the basic blackbody source described here. See [Running TARDIS with a Custom Packet Source](../../io/optional/custom_source.ipynb) for more information."
   ]
  },
  {
   "cell_type": "markdown",
   "id": "efc2b03c",
   "metadata": {},
   "source": [
    "## Numba Implementation of Planck Function\n",
    "\n",
    "The remaining objective is to implement ```planck_function()``` using Numba and compare results to the non-Numba implementation. It is unclear a priori how many simulations should be run to give an accurate idea of what the average is. Here, the number of iterations for each time trial is chosen according to the process described in [section 1.3.2 of these notes](http://www.mit.edu/~kircher/sim.pdf#section.1.3). Plots of execution times are also included."
   ]
  },
  {
   "cell_type": "code",
   "execution_count": 10,
   "id": "eba811ec",
   "metadata": {},
   "outputs": [],
   "source": [
    "@numba.njit()\n",
    "def planck_function_numba(nu):\n",
    "    return (\n",
    "        8\n",
    "        * np.pi**2\n",
    "        * r_boundary_inner**2\n",
    "        * h\n",
    "        * nu**3\n",
    "        / (c2 * (np.exp(h * nu / (kB * temperature_inner)) - 1))\n",
    "    )\n",
    "\n",
    "\n",
    "@numba.njit(parallel=True)\n",
    "def planck_function_numba_parallel(nu):\n",
    "    return (\n",
    "        8\n",
    "        * np.pi**2\n",
    "        * r_boundary_inner**2\n",
    "        * h\n",
    "        * nu**3\n",
    "        / (c2 * (np.exp(h * nu / (kB * temperature_inner)) - 1))\n",
    "    )\n",
    "\n",
    "\n",
    "_ = planck_function_numba(nus_planck)  # Force Numba compilation\n",
    "_ = planck_function_numba_parallel(nus_planck)  # Force Numba compilation"
   ]
  },
  {
   "cell_type": "markdown",
   "id": "29a5b09d",
   "metadata": {},
   "source": [
    "### Initial Pass of Time Trials\n",
    "\n",
    "Below is the first naive pass of simulations that will be used to calculate the number of remaining needed trials."
   ]
  },
  {
   "cell_type": "code",
   "execution_count": 11,
   "id": "e4793fd0",
   "metadata": {
    "scrolled": true
   },
   "outputs": [
    {
     "data": {
      "application/vnd.jupyter.widget-view+json": {
       "model_id": "783734b33ca04cfc91d467983639085a",
       "version_major": 2,
       "version_minor": 0
      },
      "text/plain": [
       "  0%|          | 0/2250 [00:00<?, ?it/s]"
      ]
     },
     "metadata": {},
     "output_type": "display_data"
    },
    {
     "data": {
      "text/html": [
       "<div>\n",
       "<style scoped>\n",
       "    .dataframe tbody tr th:only-of-type {\n",
       "        vertical-align: middle;\n",
       "    }\n",
       "\n",
       "    .dataframe tbody tr th {\n",
       "        vertical-align: top;\n",
       "    }\n",
       "\n",
       "    .dataframe thead th {\n",
       "        text-align: right;\n",
       "    }\n",
       "</style>\n",
       "<table border=\"1\" class=\"dataframe\">\n",
       "  <thead>\n",
       "    <tr style=\"text-align: right;\">\n",
       "      <th></th>\n",
       "      <th>func_name</th>\n",
       "      <th>freq_bins</th>\n",
       "      <th>exec_time</th>\n",
       "      <th>date</th>\n",
       "    </tr>\n",
       "  </thead>\n",
       "  <tbody>\n",
       "    <tr>\n",
       "      <th>0</th>\n",
       "      <td>planck_function</td>\n",
       "      <td>100</td>\n",
       "      <td>242223</td>\n",
       "      <td>2023-03-15 18:32:04.937536</td>\n",
       "    </tr>\n",
       "    <tr>\n",
       "      <th>1</th>\n",
       "      <td>planck_function</td>\n",
       "      <td>100</td>\n",
       "      <td>260530</td>\n",
       "      <td>2023-03-15 18:32:05.350272</td>\n",
       "    </tr>\n",
       "    <tr>\n",
       "      <th>2</th>\n",
       "      <td>planck_function</td>\n",
       "      <td>100</td>\n",
       "      <td>242530</td>\n",
       "      <td>2023-03-15 18:32:05.763255</td>\n",
       "    </tr>\n",
       "    <tr>\n",
       "      <th>3</th>\n",
       "      <td>planck_function</td>\n",
       "      <td>100</td>\n",
       "      <td>235574</td>\n",
       "      <td>2023-03-15 18:32:06.179534</td>\n",
       "    </tr>\n",
       "    <tr>\n",
       "      <th>4</th>\n",
       "      <td>planck_function</td>\n",
       "      <td>100</td>\n",
       "      <td>241828</td>\n",
       "      <td>2023-03-15 18:32:06.594930</td>\n",
       "    </tr>\n",
       "    <tr>\n",
       "      <th>...</th>\n",
       "      <td>...</td>\n",
       "      <td>...</td>\n",
       "      <td>...</td>\n",
       "      <td>...</td>\n",
       "    </tr>\n",
       "    <tr>\n",
       "      <th>2245</th>\n",
       "      <td>planck_function_numba_parallel</td>\n",
       "      <td>5000000</td>\n",
       "      <td>4252923</td>\n",
       "      <td>2023-03-15 18:47:43.825520</td>\n",
       "    </tr>\n",
       "    <tr>\n",
       "      <th>2246</th>\n",
       "      <td>planck_function_numba_parallel</td>\n",
       "      <td>5000000</td>\n",
       "      <td>3752080</td>\n",
       "      <td>2023-03-15 18:47:44.271587</td>\n",
       "    </tr>\n",
       "    <tr>\n",
       "      <th>2247</th>\n",
       "      <td>planck_function_numba_parallel</td>\n",
       "      <td>5000000</td>\n",
       "      <td>3947610</td>\n",
       "      <td>2023-03-15 18:47:44.711048</td>\n",
       "    </tr>\n",
       "    <tr>\n",
       "      <th>2248</th>\n",
       "      <td>planck_function_numba_parallel</td>\n",
       "      <td>5000000</td>\n",
       "      <td>3730350</td>\n",
       "      <td>2023-03-15 18:47:45.155964</td>\n",
       "    </tr>\n",
       "    <tr>\n",
       "      <th>2249</th>\n",
       "      <td>planck_function_numba_parallel</td>\n",
       "      <td>5000000</td>\n",
       "      <td>3707739</td>\n",
       "      <td>2023-03-15 18:47:45.600909</td>\n",
       "    </tr>\n",
       "  </tbody>\n",
       "</table>\n",
       "<p>2250 rows × 4 columns</p>\n",
       "</div>"
      ],
      "text/plain": [
       "                           func_name  freq_bins  exec_time  \\\n",
       "0                    planck_function        100     242223   \n",
       "1                    planck_function        100     260530   \n",
       "2                    planck_function        100     242530   \n",
       "3                    planck_function        100     235574   \n",
       "4                    planck_function        100     241828   \n",
       "...                              ...        ...        ...   \n",
       "2245  planck_function_numba_parallel    5000000    4252923   \n",
       "2246  planck_function_numba_parallel    5000000    3752080   \n",
       "2247  planck_function_numba_parallel    5000000    3947610   \n",
       "2248  planck_function_numba_parallel    5000000    3730350   \n",
       "2249  planck_function_numba_parallel    5000000    3707739   \n",
       "\n",
       "                           date  \n",
       "0    2023-03-15 18:32:04.937536  \n",
       "1    2023-03-15 18:32:05.350272  \n",
       "2    2023-03-15 18:32:05.763255  \n",
       "3    2023-03-15 18:32:06.179534  \n",
       "4    2023-03-15 18:32:06.594930  \n",
       "...                         ...  \n",
       "2245 2023-03-15 18:47:43.825520  \n",
       "2246 2023-03-15 18:47:44.271587  \n",
       "2247 2023-03-15 18:47:44.711048  \n",
       "2248 2023-03-15 18:47:45.155964  \n",
       "2249 2023-03-15 18:47:45.600909  \n",
       "\n",
       "[2250 rows x 4 columns]"
      ]
     },
     "execution_count": 11,
     "metadata": {},
     "output_type": "execute_result"
    }
   ],
   "source": [
    "freq_bins = tuple(\n",
    "    itertools.chain.from_iterable(\n",
    "        ((1 * 10**e, 2 * 10**e, 5 * 10**e) for e in range(2, 7))\n",
    "    )\n",
    ")\n",
    "# The prompt only asked for 100, 200, and 500, but seeing how performance\n",
    "# grows for more frequency bins can possibly be informative.\n",
    "\n",
    "function_names = (\n",
    "    \"planck_function\",\n",
    "    \"planck_function_numba\",\n",
    "    \"planck_function_numba_parallel\",\n",
    ")\n",
    "\n",
    "functions = (\n",
    "    planck_function,\n",
    "    planck_function_numba,\n",
    "    planck_function_numba_parallel,\n",
    ")\n",
    "\n",
    "funcdict = {\n",
    "    funcname: func for (funcname, func) in zip(function_names, functions)\n",
    "}\n",
    "\n",
    "N_initial = 50\n",
    "\n",
    "raw_time_data_columns = (\n",
    "    \"func_name\",\n",
    "    \"freq_bins\",\n",
    "    \"exec_time\",\n",
    "    \"date\",\n",
    ")\n",
    "raw_time_data = pd.DataFrame(columns=raw_time_data_columns)\n",
    "raw_time_data[raw_time_data_columns[0]] = raw_time_data[\n",
    "    raw_time_data_columns[0]\n",
    "].astype(\"category\")\n",
    "raw_time_data[raw_time_data_columns[1]] = pd.to_numeric(\n",
    "    raw_time_data[raw_time_data_columns[1]], downcast=\"integer\"\n",
    ")\n",
    "raw_time_data[raw_time_data_columns[2]] = pd.to_numeric(\n",
    "    raw_time_data[raw_time_data_columns[2]], downcast=\"integer\"\n",
    ")\n",
    "raw_time_data[raw_time_data_columns[3]] = pd.to_datetime(\n",
    "    raw_time_data[raw_time_data_columns[3]]\n",
    ")\n",
    "\n",
    "\n",
    "def time_trial(func, func_name, freq):\n",
    "    nus_planck = np.linspace(\n",
    "        min(nus),\n",
    "        max(nus),\n",
    "        freq,\n",
    "    )\n",
    "\n",
    "    start_time = time.perf_counter_ns()\n",
    "    _ = func(nus_planck)\n",
    "    stop_time = time.perf_counter_ns()\n",
    "    timestamp = pd.Timestamp.now()\n",
    "    elapsed = stop_time - start_time\n",
    "    tempdf = pd.DataFrame(\n",
    "        [\n",
    "            [\n",
    "                func_name,\n",
    "                freq,\n",
    "                elapsed,\n",
    "                timestamp,\n",
    "            ],\n",
    "        ],\n",
    "        columns=raw_time_data_columns,\n",
    "    )\n",
    "\n",
    "    return tempdf\n",
    "\n",
    "\n",
    "total_iterations = len(freq_bins) * len(functions) * N_initial\n",
    "\n",
    "for (func, func_name), freq, n in tqdm.tqdm(\n",
    "    itertools.product(\n",
    "        zip(\n",
    "            functions,\n",
    "            function_names,\n",
    "        ),\n",
    "        freq_bins,\n",
    "        range(N_initial),\n",
    "    ),\n",
    "    total=total_iterations,\n",
    "):\n",
    "    tempdf = time_trial(\n",
    "        func,\n",
    "        func_name,\n",
    "        freq,\n",
    "    )\n",
    "    raw_time_data = pd.concat(\n",
    "        [\n",
    "            raw_time_data,\n",
    "            tempdf,\n",
    "        ],\n",
    "        ignore_index=True,\n",
    "    )\n",
    "\n",
    "\n",
    "raw_time_data"
   ]
  },
  {
   "cell_type": "code",
   "execution_count": 12,
   "id": "04878fd6",
   "metadata": {},
   "outputs": [
    {
     "data": {
      "text/html": [
       "<div>\n",
       "<style scoped>\n",
       "    .dataframe tbody tr th:only-of-type {\n",
       "        vertical-align: middle;\n",
       "    }\n",
       "\n",
       "    .dataframe tbody tr th {\n",
       "        vertical-align: top;\n",
       "    }\n",
       "\n",
       "    .dataframe thead th {\n",
       "        text-align: right;\n",
       "    }\n",
       "</style>\n",
       "<table border=\"1\" class=\"dataframe\">\n",
       "  <thead>\n",
       "    <tr style=\"text-align: right;\">\n",
       "      <th></th>\n",
       "      <th></th>\n",
       "      <th>mean</th>\n",
       "      <th>std</th>\n",
       "    </tr>\n",
       "    <tr>\n",
       "      <th>func_name</th>\n",
       "      <th>freq_bins</th>\n",
       "      <th></th>\n",
       "      <th></th>\n",
       "    </tr>\n",
       "  </thead>\n",
       "  <tbody>\n",
       "    <tr>\n",
       "      <th rowspan=\"15\" valign=\"top\">planck_function</th>\n",
       "      <th>100</th>\n",
       "      <td>2.443434e+05</td>\n",
       "      <td>13632.001949</td>\n",
       "    </tr>\n",
       "    <tr>\n",
       "      <th>200</th>\n",
       "      <td>2.392419e+05</td>\n",
       "      <td>14227.440533</td>\n",
       "    </tr>\n",
       "    <tr>\n",
       "      <th>500</th>\n",
       "      <td>2.429037e+05</td>\n",
       "      <td>14687.749580</td>\n",
       "    </tr>\n",
       "    <tr>\n",
       "      <th>1000</th>\n",
       "      <td>2.531211e+05</td>\n",
       "      <td>16831.552557</td>\n",
       "    </tr>\n",
       "    <tr>\n",
       "      <th>2000</th>\n",
       "      <td>2.650029e+05</td>\n",
       "      <td>17361.312469</td>\n",
       "    </tr>\n",
       "    <tr>\n",
       "      <th>5000</th>\n",
       "      <td>2.876537e+05</td>\n",
       "      <td>18607.077110</td>\n",
       "    </tr>\n",
       "    <tr>\n",
       "      <th>10000</th>\n",
       "      <td>3.777840e+05</td>\n",
       "      <td>23627.966395</td>\n",
       "    </tr>\n",
       "    <tr>\n",
       "      <th>20000</th>\n",
       "      <td>5.214994e+05</td>\n",
       "      <td>30537.149104</td>\n",
       "    </tr>\n",
       "    <tr>\n",
       "      <th>50000</th>\n",
       "      <td>9.586967e+05</td>\n",
       "      <td>36036.463577</td>\n",
       "    </tr>\n",
       "    <tr>\n",
       "      <th>100000</th>\n",
       "      <td>1.715727e+06</td>\n",
       "      <td>36089.639909</td>\n",
       "    </tr>\n",
       "    <tr>\n",
       "      <th>200000</th>\n",
       "      <td>3.603384e+06</td>\n",
       "      <td>85122.349587</td>\n",
       "    </tr>\n",
       "    <tr>\n",
       "      <th>500000</th>\n",
       "      <td>8.489556e+06</td>\n",
       "      <td>259330.441022</td>\n",
       "    </tr>\n",
       "    <tr>\n",
       "      <th>1000000</th>\n",
       "      <td>1.540587e+07</td>\n",
       "      <td>175484.662467</td>\n",
       "    </tr>\n",
       "    <tr>\n",
       "      <th>2000000</th>\n",
       "      <td>3.280692e+07</td>\n",
       "      <td>305407.148659</td>\n",
       "    </tr>\n",
       "    <tr>\n",
       "      <th>5000000</th>\n",
       "      <td>1.074761e+08</td>\n",
       "      <td>564188.196603</td>\n",
       "    </tr>\n",
       "    <tr>\n",
       "      <th rowspan=\"15\" valign=\"top\">planck_function_numba</th>\n",
       "      <th>100</th>\n",
       "      <td>8.407720e+03</td>\n",
       "      <td>478.684637</td>\n",
       "    </tr>\n",
       "    <tr>\n",
       "      <th>200</th>\n",
       "      <td>9.763700e+03</td>\n",
       "      <td>4203.778884</td>\n",
       "    </tr>\n",
       "    <tr>\n",
       "      <th>500</th>\n",
       "      <td>1.285408e+04</td>\n",
       "      <td>4129.218861</td>\n",
       "    </tr>\n",
       "    <tr>\n",
       "      <th>1000</th>\n",
       "      <td>1.706026e+04</td>\n",
       "      <td>4056.672497</td>\n",
       "    </tr>\n",
       "    <tr>\n",
       "      <th>2000</th>\n",
       "      <td>2.127442e+04</td>\n",
       "      <td>1006.535645</td>\n",
       "    </tr>\n",
       "    <tr>\n",
       "      <th>5000</th>\n",
       "      <td>3.420154e+04</td>\n",
       "      <td>865.975732</td>\n",
       "    </tr>\n",
       "    <tr>\n",
       "      <th>10000</th>\n",
       "      <td>5.710880e+04</td>\n",
       "      <td>3250.947598</td>\n",
       "    </tr>\n",
       "    <tr>\n",
       "      <th>20000</th>\n",
       "      <td>9.828016e+04</td>\n",
       "      <td>2294.327160</td>\n",
       "    </tr>\n",
       "    <tr>\n",
       "      <th>50000</th>\n",
       "      <td>2.195928e+05</td>\n",
       "      <td>23252.737027</td>\n",
       "    </tr>\n",
       "    <tr>\n",
       "      <th>100000</th>\n",
       "      <td>4.198168e+05</td>\n",
       "      <td>35338.603178</td>\n",
       "    </tr>\n",
       "    <tr>\n",
       "      <th>200000</th>\n",
       "      <td>7.974001e+05</td>\n",
       "      <td>57609.760002</td>\n",
       "    </tr>\n",
       "    <tr>\n",
       "      <th>500000</th>\n",
       "      <td>1.829583e+06</td>\n",
       "      <td>142161.420684</td>\n",
       "    </tr>\n",
       "    <tr>\n",
       "      <th>1000000</th>\n",
       "      <td>3.675497e+06</td>\n",
       "      <td>406880.519336</td>\n",
       "    </tr>\n",
       "    <tr>\n",
       "      <th>2000000</th>\n",
       "      <td>1.040599e+07</td>\n",
       "      <td>106115.584651</td>\n",
       "    </tr>\n",
       "    <tr>\n",
       "      <th>5000000</th>\n",
       "      <td>2.596962e+07</td>\n",
       "      <td>389189.973900</td>\n",
       "    </tr>\n",
       "    <tr>\n",
       "      <th rowspan=\"15\" valign=\"top\">planck_function_numba_parallel</th>\n",
       "      <th>100</th>\n",
       "      <td>6.449614e+04</td>\n",
       "      <td>15015.455402</td>\n",
       "    </tr>\n",
       "    <tr>\n",
       "      <th>200</th>\n",
       "      <td>5.812250e+04</td>\n",
       "      <td>13488.807556</td>\n",
       "    </tr>\n",
       "    <tr>\n",
       "      <th>500</th>\n",
       "      <td>6.144648e+04</td>\n",
       "      <td>13968.616013</td>\n",
       "    </tr>\n",
       "    <tr>\n",
       "      <th>1000</th>\n",
       "      <td>7.561530e+04</td>\n",
       "      <td>19194.208274</td>\n",
       "    </tr>\n",
       "    <tr>\n",
       "      <th>2000</th>\n",
       "      <td>8.292326e+04</td>\n",
       "      <td>17124.216664</td>\n",
       "    </tr>\n",
       "    <tr>\n",
       "      <th>5000</th>\n",
       "      <td>9.585230e+04</td>\n",
       "      <td>18368.949221</td>\n",
       "    </tr>\n",
       "    <tr>\n",
       "      <th>10000</th>\n",
       "      <td>1.151319e+05</td>\n",
       "      <td>18871.330592</td>\n",
       "    </tr>\n",
       "    <tr>\n",
       "      <th>20000</th>\n",
       "      <td>1.571222e+05</td>\n",
       "      <td>18472.265819</td>\n",
       "    </tr>\n",
       "    <tr>\n",
       "      <th>50000</th>\n",
       "      <td>2.504338e+05</td>\n",
       "      <td>20322.707126</td>\n",
       "    </tr>\n",
       "    <tr>\n",
       "      <th>100000</th>\n",
       "      <td>3.230732e+05</td>\n",
       "      <td>37296.811870</td>\n",
       "    </tr>\n",
       "    <tr>\n",
       "      <th>200000</th>\n",
       "      <td>4.250113e+05</td>\n",
       "      <td>34875.942956</td>\n",
       "    </tr>\n",
       "    <tr>\n",
       "      <th>500000</th>\n",
       "      <td>6.245946e+05</td>\n",
       "      <td>53182.955860</td>\n",
       "    </tr>\n",
       "    <tr>\n",
       "      <th>1000000</th>\n",
       "      <td>8.887598e+05</td>\n",
       "      <td>56863.001774</td>\n",
       "    </tr>\n",
       "    <tr>\n",
       "      <th>2000000</th>\n",
       "      <td>1.714683e+06</td>\n",
       "      <td>52580.253172</td>\n",
       "    </tr>\n",
       "    <tr>\n",
       "      <th>5000000</th>\n",
       "      <td>3.792914e+06</td>\n",
       "      <td>126397.516231</td>\n",
       "    </tr>\n",
       "  </tbody>\n",
       "</table>\n",
       "</div>"
      ],
      "text/plain": [
       "                                                  mean            std\n",
       "func_name                      freq_bins                             \n",
       "planck_function                100        2.443434e+05   13632.001949\n",
       "                               200        2.392419e+05   14227.440533\n",
       "                               500        2.429037e+05   14687.749580\n",
       "                               1000       2.531211e+05   16831.552557\n",
       "                               2000       2.650029e+05   17361.312469\n",
       "                               5000       2.876537e+05   18607.077110\n",
       "                               10000      3.777840e+05   23627.966395\n",
       "                               20000      5.214994e+05   30537.149104\n",
       "                               50000      9.586967e+05   36036.463577\n",
       "                               100000     1.715727e+06   36089.639909\n",
       "                               200000     3.603384e+06   85122.349587\n",
       "                               500000     8.489556e+06  259330.441022\n",
       "                               1000000    1.540587e+07  175484.662467\n",
       "                               2000000    3.280692e+07  305407.148659\n",
       "                               5000000    1.074761e+08  564188.196603\n",
       "planck_function_numba          100        8.407720e+03     478.684637\n",
       "                               200        9.763700e+03    4203.778884\n",
       "                               500        1.285408e+04    4129.218861\n",
       "                               1000       1.706026e+04    4056.672497\n",
       "                               2000       2.127442e+04    1006.535645\n",
       "                               5000       3.420154e+04     865.975732\n",
       "                               10000      5.710880e+04    3250.947598\n",
       "                               20000      9.828016e+04    2294.327160\n",
       "                               50000      2.195928e+05   23252.737027\n",
       "                               100000     4.198168e+05   35338.603178\n",
       "                               200000     7.974001e+05   57609.760002\n",
       "                               500000     1.829583e+06  142161.420684\n",
       "                               1000000    3.675497e+06  406880.519336\n",
       "                               2000000    1.040599e+07  106115.584651\n",
       "                               5000000    2.596962e+07  389189.973900\n",
       "planck_function_numba_parallel 100        6.449614e+04   15015.455402\n",
       "                               200        5.812250e+04   13488.807556\n",
       "                               500        6.144648e+04   13968.616013\n",
       "                               1000       7.561530e+04   19194.208274\n",
       "                               2000       8.292326e+04   17124.216664\n",
       "                               5000       9.585230e+04   18368.949221\n",
       "                               10000      1.151319e+05   18871.330592\n",
       "                               20000      1.571222e+05   18472.265819\n",
       "                               50000      2.504338e+05   20322.707126\n",
       "                               100000     3.230732e+05   37296.811870\n",
       "                               200000     4.250113e+05   34875.942956\n",
       "                               500000     6.245946e+05   53182.955860\n",
       "                               1000000    8.887598e+05   56863.001774\n",
       "                               2000000    1.714683e+06   52580.253172\n",
       "                               5000000    3.792914e+06  126397.516231"
      ]
     },
     "execution_count": 12,
     "metadata": {},
     "output_type": "execute_result"
    }
   ],
   "source": [
    "groupby = raw_time_data[raw_time_data.columns[:3]].groupby(\n",
    "    [\n",
    "        \"func_name\",\n",
    "        \"freq_bins\",\n",
    "    ]\n",
    ")\n",
    "\n",
    "time_data_estimators = pd.concat(\n",
    "    [\n",
    "        groupby.mean().rename(columns={raw_time_data.columns[2]: \"mean\"}),\n",
    "        groupby.std().rename(columns={raw_time_data.columns[2]: \"std\"}),\n",
    "    ],\n",
    "    axis=1,\n",
    ")\n",
    "\n",
    "time_data_estimators"
   ]
  },
  {
   "cell_type": "markdown",
   "id": "a26c03d9",
   "metadata": {},
   "source": [
    "### Calculating Sample Size\n",
    "\n",
    "Below, we use the formula on [page 8 of these notes](www.mit.edu/~kircher/sim.pdf#section.1.2) to calculate how many more samples we need to collect to be confident that $\\mathbb P \\left ( \\left | \\bar \\theta_n - \\theta \\right | \\leq \\epsilon \\right ) \\geq 1 - \\alpha$ where $\\theta$ is the true theoretical mean and $\\bar \\theta_n$ is our Monte Carlo estimator. For practical purposes, we also set a maximum iteration count."
   ]
  },
  {
   "cell_type": "code",
   "execution_count": 13,
   "id": "6e3afccf",
   "metadata": {},
   "outputs": [
    {
     "data": {
      "text/html": [
       "<div>\n",
       "<style scoped>\n",
       "    .dataframe tbody tr th:only-of-type {\n",
       "        vertical-align: middle;\n",
       "    }\n",
       "\n",
       "    .dataframe tbody tr th {\n",
       "        vertical-align: top;\n",
       "    }\n",
       "\n",
       "    .dataframe thead th {\n",
       "        text-align: right;\n",
       "    }\n",
       "</style>\n",
       "<table border=\"1\" class=\"dataframe\">\n",
       "  <thead>\n",
       "    <tr style=\"text-align: right;\">\n",
       "      <th></th>\n",
       "      <th></th>\n",
       "      <th>mean</th>\n",
       "      <th>std</th>\n",
       "      <th>N_montecarlo</th>\n",
       "    </tr>\n",
       "    <tr>\n",
       "      <th>func_name</th>\n",
       "      <th>freq_bins</th>\n",
       "      <th></th>\n",
       "      <th></th>\n",
       "      <th></th>\n",
       "    </tr>\n",
       "  </thead>\n",
       "  <tbody>\n",
       "    <tr>\n",
       "      <th rowspan=\"15\" valign=\"top\">planck_function</th>\n",
       "      <th>100</th>\n",
       "      <td>2.443434e+05</td>\n",
       "      <td>13632.001949</td>\n",
       "      <td>1</td>\n",
       "    </tr>\n",
       "    <tr>\n",
       "      <th>200</th>\n",
       "      <td>2.392419e+05</td>\n",
       "      <td>14227.440533</td>\n",
       "      <td>1</td>\n",
       "    </tr>\n",
       "    <tr>\n",
       "      <th>500</th>\n",
       "      <td>2.429037e+05</td>\n",
       "      <td>14687.749580</td>\n",
       "      <td>1</td>\n",
       "    </tr>\n",
       "    <tr>\n",
       "      <th>1000</th>\n",
       "      <td>2.531211e+05</td>\n",
       "      <td>16831.552557</td>\n",
       "      <td>1</td>\n",
       "    </tr>\n",
       "    <tr>\n",
       "      <th>2000</th>\n",
       "      <td>2.650029e+05</td>\n",
       "      <td>17361.312469</td>\n",
       "      <td>1</td>\n",
       "    </tr>\n",
       "    <tr>\n",
       "      <th>5000</th>\n",
       "      <td>2.876537e+05</td>\n",
       "      <td>18607.077110</td>\n",
       "      <td>1</td>\n",
       "    </tr>\n",
       "    <tr>\n",
       "      <th>10000</th>\n",
       "      <td>3.777840e+05</td>\n",
       "      <td>23627.966395</td>\n",
       "      <td>1</td>\n",
       "    </tr>\n",
       "    <tr>\n",
       "      <th>20000</th>\n",
       "      <td>5.214994e+05</td>\n",
       "      <td>30537.149104</td>\n",
       "      <td>1</td>\n",
       "    </tr>\n",
       "    <tr>\n",
       "      <th>50000</th>\n",
       "      <td>9.586967e+05</td>\n",
       "      <td>36036.463577</td>\n",
       "      <td>1</td>\n",
       "    </tr>\n",
       "    <tr>\n",
       "      <th>100000</th>\n",
       "      <td>1.715727e+06</td>\n",
       "      <td>36089.639909</td>\n",
       "      <td>1</td>\n",
       "    </tr>\n",
       "    <tr>\n",
       "      <th>200000</th>\n",
       "      <td>3.603384e+06</td>\n",
       "      <td>85122.349587</td>\n",
       "      <td>5</td>\n",
       "    </tr>\n",
       "    <tr>\n",
       "      <th>500000</th>\n",
       "      <td>8.489556e+06</td>\n",
       "      <td>259330.441022</td>\n",
       "      <td>45</td>\n",
       "    </tr>\n",
       "    <tr>\n",
       "      <th>1000000</th>\n",
       "      <td>1.540587e+07</td>\n",
       "      <td>175484.662467</td>\n",
       "      <td>21</td>\n",
       "    </tr>\n",
       "    <tr>\n",
       "      <th>2000000</th>\n",
       "      <td>3.280692e+07</td>\n",
       "      <td>305407.148659</td>\n",
       "      <td>62</td>\n",
       "    </tr>\n",
       "    <tr>\n",
       "      <th>5000000</th>\n",
       "      <td>1.074761e+08</td>\n",
       "      <td>564188.196603</td>\n",
       "      <td>210</td>\n",
       "    </tr>\n",
       "    <tr>\n",
       "      <th rowspan=\"15\" valign=\"top\">planck_function_numba</th>\n",
       "      <th>100</th>\n",
       "      <td>8.407720e+03</td>\n",
       "      <td>478.684637</td>\n",
       "      <td>1</td>\n",
       "    </tr>\n",
       "    <tr>\n",
       "      <th>200</th>\n",
       "      <td>9.763700e+03</td>\n",
       "      <td>4203.778884</td>\n",
       "      <td>1</td>\n",
       "    </tr>\n",
       "    <tr>\n",
       "      <th>500</th>\n",
       "      <td>1.285408e+04</td>\n",
       "      <td>4129.218861</td>\n",
       "      <td>1</td>\n",
       "    </tr>\n",
       "    <tr>\n",
       "      <th>1000</th>\n",
       "      <td>1.706026e+04</td>\n",
       "      <td>4056.672497</td>\n",
       "      <td>1</td>\n",
       "    </tr>\n",
       "    <tr>\n",
       "      <th>2000</th>\n",
       "      <td>2.127442e+04</td>\n",
       "      <td>1006.535645</td>\n",
       "      <td>1</td>\n",
       "    </tr>\n",
       "    <tr>\n",
       "      <th>5000</th>\n",
       "      <td>3.420154e+04</td>\n",
       "      <td>865.975732</td>\n",
       "      <td>1</td>\n",
       "    </tr>\n",
       "    <tr>\n",
       "      <th>10000</th>\n",
       "      <td>5.710880e+04</td>\n",
       "      <td>3250.947598</td>\n",
       "      <td>1</td>\n",
       "    </tr>\n",
       "    <tr>\n",
       "      <th>20000</th>\n",
       "      <td>9.828016e+04</td>\n",
       "      <td>2294.327160</td>\n",
       "      <td>1</td>\n",
       "    </tr>\n",
       "    <tr>\n",
       "      <th>50000</th>\n",
       "      <td>2.195928e+05</td>\n",
       "      <td>23252.737027</td>\n",
       "      <td>1</td>\n",
       "    </tr>\n",
       "    <tr>\n",
       "      <th>100000</th>\n",
       "      <td>4.198168e+05</td>\n",
       "      <td>35338.603178</td>\n",
       "      <td>1</td>\n",
       "    </tr>\n",
       "    <tr>\n",
       "      <th>200000</th>\n",
       "      <td>7.974001e+05</td>\n",
       "      <td>57609.760002</td>\n",
       "      <td>3</td>\n",
       "    </tr>\n",
       "    <tr>\n",
       "      <th>500000</th>\n",
       "      <td>1.829583e+06</td>\n",
       "      <td>142161.420684</td>\n",
       "      <td>14</td>\n",
       "    </tr>\n",
       "    <tr>\n",
       "      <th>1000000</th>\n",
       "      <td>3.675497e+06</td>\n",
       "      <td>406880.519336</td>\n",
       "      <td>109</td>\n",
       "    </tr>\n",
       "    <tr>\n",
       "      <th>2000000</th>\n",
       "      <td>1.040599e+07</td>\n",
       "      <td>106115.584651</td>\n",
       "      <td>8</td>\n",
       "    </tr>\n",
       "    <tr>\n",
       "      <th>5000000</th>\n",
       "      <td>2.596962e+07</td>\n",
       "      <td>389189.973900</td>\n",
       "      <td>100</td>\n",
       "    </tr>\n",
       "    <tr>\n",
       "      <th rowspan=\"15\" valign=\"top\">planck_function_numba_parallel</th>\n",
       "      <th>100</th>\n",
       "      <td>6.449614e+04</td>\n",
       "      <td>15015.455402</td>\n",
       "      <td>1</td>\n",
       "    </tr>\n",
       "    <tr>\n",
       "      <th>200</th>\n",
       "      <td>5.812250e+04</td>\n",
       "      <td>13488.807556</td>\n",
       "      <td>1</td>\n",
       "    </tr>\n",
       "    <tr>\n",
       "      <th>500</th>\n",
       "      <td>6.144648e+04</td>\n",
       "      <td>13968.616013</td>\n",
       "      <td>1</td>\n",
       "    </tr>\n",
       "    <tr>\n",
       "      <th>1000</th>\n",
       "      <td>7.561530e+04</td>\n",
       "      <td>19194.208274</td>\n",
       "      <td>1</td>\n",
       "    </tr>\n",
       "    <tr>\n",
       "      <th>2000</th>\n",
       "      <td>8.292326e+04</td>\n",
       "      <td>17124.216664</td>\n",
       "      <td>1</td>\n",
       "    </tr>\n",
       "    <tr>\n",
       "      <th>5000</th>\n",
       "      <td>9.585230e+04</td>\n",
       "      <td>18368.949221</td>\n",
       "      <td>1</td>\n",
       "    </tr>\n",
       "    <tr>\n",
       "      <th>10000</th>\n",
       "      <td>1.151319e+05</td>\n",
       "      <td>18871.330592</td>\n",
       "      <td>1</td>\n",
       "    </tr>\n",
       "    <tr>\n",
       "      <th>20000</th>\n",
       "      <td>1.571222e+05</td>\n",
       "      <td>18472.265819</td>\n",
       "      <td>1</td>\n",
       "    </tr>\n",
       "    <tr>\n",
       "      <th>50000</th>\n",
       "      <td>2.504338e+05</td>\n",
       "      <td>20322.707126</td>\n",
       "      <td>1</td>\n",
       "    </tr>\n",
       "    <tr>\n",
       "      <th>100000</th>\n",
       "      <td>3.230732e+05</td>\n",
       "      <td>37296.811870</td>\n",
       "      <td>1</td>\n",
       "    </tr>\n",
       "    <tr>\n",
       "      <th>200000</th>\n",
       "      <td>4.250113e+05</td>\n",
       "      <td>34875.942956</td>\n",
       "      <td>1</td>\n",
       "    </tr>\n",
       "    <tr>\n",
       "      <th>500000</th>\n",
       "      <td>6.245946e+05</td>\n",
       "      <td>53182.955860</td>\n",
       "      <td>2</td>\n",
       "    </tr>\n",
       "    <tr>\n",
       "      <th>1000000</th>\n",
       "      <td>8.887598e+05</td>\n",
       "      <td>56863.001774</td>\n",
       "      <td>3</td>\n",
       "    </tr>\n",
       "    <tr>\n",
       "      <th>2000000</th>\n",
       "      <td>1.714683e+06</td>\n",
       "      <td>52580.253172</td>\n",
       "      <td>2</td>\n",
       "    </tr>\n",
       "    <tr>\n",
       "      <th>5000000</th>\n",
       "      <td>3.792914e+06</td>\n",
       "      <td>126397.516231</td>\n",
       "      <td>11</td>\n",
       "    </tr>\n",
       "  </tbody>\n",
       "</table>\n",
       "</div>"
      ],
      "text/plain": [
       "                                                  mean            std  \\\n",
       "func_name                      freq_bins                                \n",
       "planck_function                100        2.443434e+05   13632.001949   \n",
       "                               200        2.392419e+05   14227.440533   \n",
       "                               500        2.429037e+05   14687.749580   \n",
       "                               1000       2.531211e+05   16831.552557   \n",
       "                               2000       2.650029e+05   17361.312469   \n",
       "                               5000       2.876537e+05   18607.077110   \n",
       "                               10000      3.777840e+05   23627.966395   \n",
       "                               20000      5.214994e+05   30537.149104   \n",
       "                               50000      9.586967e+05   36036.463577   \n",
       "                               100000     1.715727e+06   36089.639909   \n",
       "                               200000     3.603384e+06   85122.349587   \n",
       "                               500000     8.489556e+06  259330.441022   \n",
       "                               1000000    1.540587e+07  175484.662467   \n",
       "                               2000000    3.280692e+07  305407.148659   \n",
       "                               5000000    1.074761e+08  564188.196603   \n",
       "planck_function_numba          100        8.407720e+03     478.684637   \n",
       "                               200        9.763700e+03    4203.778884   \n",
       "                               500        1.285408e+04    4129.218861   \n",
       "                               1000       1.706026e+04    4056.672497   \n",
       "                               2000       2.127442e+04    1006.535645   \n",
       "                               5000       3.420154e+04     865.975732   \n",
       "                               10000      5.710880e+04    3250.947598   \n",
       "                               20000      9.828016e+04    2294.327160   \n",
       "                               50000      2.195928e+05   23252.737027   \n",
       "                               100000     4.198168e+05   35338.603178   \n",
       "                               200000     7.974001e+05   57609.760002   \n",
       "                               500000     1.829583e+06  142161.420684   \n",
       "                               1000000    3.675497e+06  406880.519336   \n",
       "                               2000000    1.040599e+07  106115.584651   \n",
       "                               5000000    2.596962e+07  389189.973900   \n",
       "planck_function_numba_parallel 100        6.449614e+04   15015.455402   \n",
       "                               200        5.812250e+04   13488.807556   \n",
       "                               500        6.144648e+04   13968.616013   \n",
       "                               1000       7.561530e+04   19194.208274   \n",
       "                               2000       8.292326e+04   17124.216664   \n",
       "                               5000       9.585230e+04   18368.949221   \n",
       "                               10000      1.151319e+05   18871.330592   \n",
       "                               20000      1.571222e+05   18472.265819   \n",
       "                               50000      2.504338e+05   20322.707126   \n",
       "                               100000     3.230732e+05   37296.811870   \n",
       "                               200000     4.250113e+05   34875.942956   \n",
       "                               500000     6.245946e+05   53182.955860   \n",
       "                               1000000    8.887598e+05   56863.001774   \n",
       "                               2000000    1.714683e+06   52580.253172   \n",
       "                               5000000    3.792914e+06  126397.516231   \n",
       "\n",
       "                                          N_montecarlo  \n",
       "func_name                      freq_bins                \n",
       "planck_function                100                   1  \n",
       "                               200                   1  \n",
       "                               500                   1  \n",
       "                               1000                  1  \n",
       "                               2000                  1  \n",
       "                               5000                  1  \n",
       "                               10000                 1  \n",
       "                               20000                 1  \n",
       "                               50000                 1  \n",
       "                               100000                1  \n",
       "                               200000                5  \n",
       "                               500000               45  \n",
       "                               1000000              21  \n",
       "                               2000000              62  \n",
       "                               5000000             210  \n",
       "planck_function_numba          100                   1  \n",
       "                               200                   1  \n",
       "                               500                   1  \n",
       "                               1000                  1  \n",
       "                               2000                  1  \n",
       "                               5000                  1  \n",
       "                               10000                 1  \n",
       "                               20000                 1  \n",
       "                               50000                 1  \n",
       "                               100000                1  \n",
       "                               200000                3  \n",
       "                               500000               14  \n",
       "                               1000000             109  \n",
       "                               2000000               8  \n",
       "                               5000000             100  \n",
       "planck_function_numba_parallel 100                   1  \n",
       "                               200                   1  \n",
       "                               500                   1  \n",
       "                               1000                  1  \n",
       "                               2000                  1  \n",
       "                               5000                  1  \n",
       "                               10000                 1  \n",
       "                               20000                 1  \n",
       "                               50000                 1  \n",
       "                               100000                1  \n",
       "                               200000                1  \n",
       "                               500000                2  \n",
       "                               1000000               3  \n",
       "                               2000000               2  \n",
       "                               5000000              11  "
      ]
     },
     "execution_count": 13,
     "metadata": {},
     "output_type": "execute_result"
    }
   ],
   "source": [
    "confidence_level = 2e-1  # alpha\n",
    "error_tolerance = 5e4  # epsilon\n",
    "Nmax = 1500\n",
    "z = stats.norm.ppf(1.0 - confidence_level / 2.0)\n",
    "\n",
    "time_data_estimators[\"N_montecarlo\"] = pd.to_numeric(\n",
    "    ((time_data_estimators[\"std\"] * z / error_tolerance) ** 2)\n",
    "    .apply(lambda x: np.minimum(x, Nmax))\n",
    "    .apply(np.ceil),\n",
    "    downcast=\"integer\",\n",
    ").rename(\"N_iterations\")\n",
    "\n",
    "time_data_estimators"
   ]
  },
  {
   "cell_type": "markdown",
   "id": "a8e1fed3",
   "metadata": {},
   "source": [
    "### Perform the second pass\n",
    "\n",
    "After calculating the number of further iterations needed for our chosen level of confidence, we perform the trials below and then recalculate the statistics."
   ]
  },
  {
   "cell_type": "code",
   "execution_count": 14,
   "id": "cb3a92dd",
   "metadata": {
    "scrolled": false
   },
   "outputs": [
    {
     "name": "stdout",
     "output_type": "stream",
     "text": [
      "Running 1 iteration of planck_function with 100 frequency bins...\n"
     ]
    },
    {
     "data": {
      "application/vnd.jupyter.widget-view+json": {
       "model_id": "1105aaba5feb49be8575cccf2e6ff5f2",
       "version_major": 2,
       "version_minor": 0
      },
      "text/plain": [
       "  0%|          | 0/1 [00:00<?, ?it/s]"
      ]
     },
     "metadata": {},
     "output_type": "display_data"
    },
    {
     "name": "stdout",
     "output_type": "stream",
     "text": [
      "Running 1 iteration of planck_function with 200 frequency bins...\n"
     ]
    },
    {
     "data": {
      "application/vnd.jupyter.widget-view+json": {
       "model_id": "ccf8b3fb1edb4857afc95b9f5ef26d7b",
       "version_major": 2,
       "version_minor": 0
      },
      "text/plain": [
       "  0%|          | 0/1 [00:00<?, ?it/s]"
      ]
     },
     "metadata": {},
     "output_type": "display_data"
    },
    {
     "name": "stdout",
     "output_type": "stream",
     "text": [
      "Running 1 iteration of planck_function with 500 frequency bins...\n"
     ]
    },
    {
     "data": {
      "application/vnd.jupyter.widget-view+json": {
       "model_id": "a10a422860304ce3b249a15aead84921",
       "version_major": 2,
       "version_minor": 0
      },
      "text/plain": [
       "  0%|          | 0/1 [00:00<?, ?it/s]"
      ]
     },
     "metadata": {},
     "output_type": "display_data"
    },
    {
     "name": "stdout",
     "output_type": "stream",
     "text": [
      "Running 1 iteration of planck_function with 1000 frequency bins...\n"
     ]
    },
    {
     "data": {
      "application/vnd.jupyter.widget-view+json": {
       "model_id": "5be8ae21927d42d0b1d33eb19f465e16",
       "version_major": 2,
       "version_minor": 0
      },
      "text/plain": [
       "  0%|          | 0/1 [00:00<?, ?it/s]"
      ]
     },
     "metadata": {},
     "output_type": "display_data"
    },
    {
     "name": "stdout",
     "output_type": "stream",
     "text": [
      "Running 1 iteration of planck_function with 2000 frequency bins...\n"
     ]
    },
    {
     "data": {
      "application/vnd.jupyter.widget-view+json": {
       "model_id": "15ef5498a9084a219fc3f2c39d3946bf",
       "version_major": 2,
       "version_minor": 0
      },
      "text/plain": [
       "  0%|          | 0/1 [00:00<?, ?it/s]"
      ]
     },
     "metadata": {},
     "output_type": "display_data"
    },
    {
     "name": "stdout",
     "output_type": "stream",
     "text": [
      "Running 1 iteration of planck_function with 5000 frequency bins...\n"
     ]
    },
    {
     "data": {
      "application/vnd.jupyter.widget-view+json": {
       "model_id": "ecf5dc74a699493ca1201e18e00e213f",
       "version_major": 2,
       "version_minor": 0
      },
      "text/plain": [
       "  0%|          | 0/1 [00:00<?, ?it/s]"
      ]
     },
     "metadata": {},
     "output_type": "display_data"
    },
    {
     "name": "stdout",
     "output_type": "stream",
     "text": [
      "Running 1 iteration of planck_function with 10000 frequency bins...\n"
     ]
    },
    {
     "data": {
      "application/vnd.jupyter.widget-view+json": {
       "model_id": "c16a94f6d529484ba713cd239a4b9c18",
       "version_major": 2,
       "version_minor": 0
      },
      "text/plain": [
       "  0%|          | 0/1 [00:00<?, ?it/s]"
      ]
     },
     "metadata": {},
     "output_type": "display_data"
    },
    {
     "name": "stdout",
     "output_type": "stream",
     "text": [
      "Running 1 iteration of planck_function with 20000 frequency bins...\n"
     ]
    },
    {
     "data": {
      "application/vnd.jupyter.widget-view+json": {
       "model_id": "2f943a8eed2547eb8d1b2ad80545ced4",
       "version_major": 2,
       "version_minor": 0
      },
      "text/plain": [
       "  0%|          | 0/1 [00:00<?, ?it/s]"
      ]
     },
     "metadata": {},
     "output_type": "display_data"
    },
    {
     "name": "stdout",
     "output_type": "stream",
     "text": [
      "Running 1 iteration of planck_function with 50000 frequency bins...\n"
     ]
    },
    {
     "data": {
      "application/vnd.jupyter.widget-view+json": {
       "model_id": "a99119c383784462818fd1d8a9dc3e61",
       "version_major": 2,
       "version_minor": 0
      },
      "text/plain": [
       "  0%|          | 0/1 [00:00<?, ?it/s]"
      ]
     },
     "metadata": {},
     "output_type": "display_data"
    },
    {
     "name": "stdout",
     "output_type": "stream",
     "text": [
      "Running 1 iteration of planck_function with 100000 frequency bins...\n"
     ]
    },
    {
     "data": {
      "application/vnd.jupyter.widget-view+json": {
       "model_id": "62e9ef77d2ff4a9286e708f35854c1f2",
       "version_major": 2,
       "version_minor": 0
      },
      "text/plain": [
       "  0%|          | 0/1 [00:00<?, ?it/s]"
      ]
     },
     "metadata": {},
     "output_type": "display_data"
    },
    {
     "name": "stdout",
     "output_type": "stream",
     "text": [
      "Running 5 iterations of planck_function with 200000 frequency bins...\n"
     ]
    },
    {
     "data": {
      "application/vnd.jupyter.widget-view+json": {
       "model_id": "be4c0e433072430db43c87c4074cae11",
       "version_major": 2,
       "version_minor": 0
      },
      "text/plain": [
       "  0%|          | 0/5 [00:00<?, ?it/s]"
      ]
     },
     "metadata": {},
     "output_type": "display_data"
    },
    {
     "name": "stdout",
     "output_type": "stream",
     "text": [
      "Running 45 iterations of planck_function with 500000 frequency bins...\n"
     ]
    },
    {
     "data": {
      "application/vnd.jupyter.widget-view+json": {
       "model_id": "17962a8af05142f1ad3a209bce884d77",
       "version_major": 2,
       "version_minor": 0
      },
      "text/plain": [
       "  0%|          | 0/45 [00:00<?, ?it/s]"
      ]
     },
     "metadata": {},
     "output_type": "display_data"
    },
    {
     "name": "stdout",
     "output_type": "stream",
     "text": [
      "Running 21 iterations of planck_function with 1000000 frequency bins...\n"
     ]
    },
    {
     "data": {
      "application/vnd.jupyter.widget-view+json": {
       "model_id": "0ea8550c67ff42be932ffcdeb6ac7b6a",
       "version_major": 2,
       "version_minor": 0
      },
      "text/plain": [
       "  0%|          | 0/21 [00:00<?, ?it/s]"
      ]
     },
     "metadata": {},
     "output_type": "display_data"
    },
    {
     "name": "stdout",
     "output_type": "stream",
     "text": [
      "Running 62 iterations of planck_function with 2000000 frequency bins...\n"
     ]
    },
    {
     "data": {
      "application/vnd.jupyter.widget-view+json": {
       "model_id": "55bbada9b1ff45f6b78d03c3b89fa293",
       "version_major": 2,
       "version_minor": 0
      },
      "text/plain": [
       "  0%|          | 0/62 [00:00<?, ?it/s]"
      ]
     },
     "metadata": {},
     "output_type": "display_data"
    },
    {
     "name": "stdout",
     "output_type": "stream",
     "text": [
      "Running 210 iterations of planck_function with 5000000 frequency bins...\n"
     ]
    },
    {
     "data": {
      "application/vnd.jupyter.widget-view+json": {
       "model_id": "970fafcf71534a8f8b600ab4c16f9424",
       "version_major": 2,
       "version_minor": 0
      },
      "text/plain": [
       "  0%|          | 0/210 [00:00<?, ?it/s]"
      ]
     },
     "metadata": {},
     "output_type": "display_data"
    },
    {
     "name": "stdout",
     "output_type": "stream",
     "text": [
      "Running 1 iteration of planck_function_numba with 100 frequency bins...\n"
     ]
    },
    {
     "data": {
      "application/vnd.jupyter.widget-view+json": {
       "model_id": "e674c3b5ba814903866cfff5761bd0c5",
       "version_major": 2,
       "version_minor": 0
      },
      "text/plain": [
       "  0%|          | 0/1 [00:00<?, ?it/s]"
      ]
     },
     "metadata": {},
     "output_type": "display_data"
    },
    {
     "name": "stdout",
     "output_type": "stream",
     "text": [
      "Running 1 iteration of planck_function_numba with 200 frequency bins...\n"
     ]
    },
    {
     "data": {
      "application/vnd.jupyter.widget-view+json": {
       "model_id": "2cfa6895bc324b78b37dcf27af749a64",
       "version_major": 2,
       "version_minor": 0
      },
      "text/plain": [
       "  0%|          | 0/1 [00:00<?, ?it/s]"
      ]
     },
     "metadata": {},
     "output_type": "display_data"
    },
    {
     "name": "stdout",
     "output_type": "stream",
     "text": [
      "Running 1 iteration of planck_function_numba with 500 frequency bins...\n"
     ]
    },
    {
     "data": {
      "application/vnd.jupyter.widget-view+json": {
       "model_id": "49d344cdf75144cebce241191c223dea",
       "version_major": 2,
       "version_minor": 0
      },
      "text/plain": [
       "  0%|          | 0/1 [00:00<?, ?it/s]"
      ]
     },
     "metadata": {},
     "output_type": "display_data"
    },
    {
     "name": "stdout",
     "output_type": "stream",
     "text": [
      "Running 1 iteration of planck_function_numba with 1000 frequency bins...\n"
     ]
    },
    {
     "data": {
      "application/vnd.jupyter.widget-view+json": {
       "model_id": "a7ad89d33bd34982a73326bd1a07e708",
       "version_major": 2,
       "version_minor": 0
      },
      "text/plain": [
       "  0%|          | 0/1 [00:00<?, ?it/s]"
      ]
     },
     "metadata": {},
     "output_type": "display_data"
    },
    {
     "name": "stdout",
     "output_type": "stream",
     "text": [
      "Running 1 iteration of planck_function_numba with 2000 frequency bins...\n"
     ]
    },
    {
     "data": {
      "application/vnd.jupyter.widget-view+json": {
       "model_id": "a2da97358e3b488caddcb9b3d6507465",
       "version_major": 2,
       "version_minor": 0
      },
      "text/plain": [
       "  0%|          | 0/1 [00:00<?, ?it/s]"
      ]
     },
     "metadata": {},
     "output_type": "display_data"
    },
    {
     "name": "stdout",
     "output_type": "stream",
     "text": [
      "Running 1 iteration of planck_function_numba with 5000 frequency bins...\n"
     ]
    },
    {
     "data": {
      "application/vnd.jupyter.widget-view+json": {
       "model_id": "e5033cf29c4f4961b92bd017dfb7f6dd",
       "version_major": 2,
       "version_minor": 0
      },
      "text/plain": [
       "  0%|          | 0/1 [00:00<?, ?it/s]"
      ]
     },
     "metadata": {},
     "output_type": "display_data"
    },
    {
     "name": "stdout",
     "output_type": "stream",
     "text": [
      "Running 1 iteration of planck_function_numba with 10000 frequency bins...\n"
     ]
    },
    {
     "data": {
      "application/vnd.jupyter.widget-view+json": {
       "model_id": "5aebef34a3b6445194e4e2b9d62caf2d",
       "version_major": 2,
       "version_minor": 0
      },
      "text/plain": [
       "  0%|          | 0/1 [00:00<?, ?it/s]"
      ]
     },
     "metadata": {},
     "output_type": "display_data"
    },
    {
     "name": "stdout",
     "output_type": "stream",
     "text": [
      "Running 1 iteration of planck_function_numba with 20000 frequency bins...\n"
     ]
    },
    {
     "data": {
      "application/vnd.jupyter.widget-view+json": {
       "model_id": "f7484961036c495b89a6d7696f2d911c",
       "version_major": 2,
       "version_minor": 0
      },
      "text/plain": [
       "  0%|          | 0/1 [00:00<?, ?it/s]"
      ]
     },
     "metadata": {},
     "output_type": "display_data"
    },
    {
     "name": "stdout",
     "output_type": "stream",
     "text": [
      "Running 1 iteration of planck_function_numba with 50000 frequency bins...\n"
     ]
    },
    {
     "data": {
      "application/vnd.jupyter.widget-view+json": {
       "model_id": "001ef3020c9a4e5bab2d059ed447d863",
       "version_major": 2,
       "version_minor": 0
      },
      "text/plain": [
       "  0%|          | 0/1 [00:00<?, ?it/s]"
      ]
     },
     "metadata": {},
     "output_type": "display_data"
    },
    {
     "name": "stdout",
     "output_type": "stream",
     "text": [
      "Running 1 iteration of planck_function_numba with 100000 frequency bins...\n"
     ]
    },
    {
     "data": {
      "application/vnd.jupyter.widget-view+json": {
       "model_id": "3e8b1209fce348b8a0483c9b3de5dab4",
       "version_major": 2,
       "version_minor": 0
      },
      "text/plain": [
       "  0%|          | 0/1 [00:00<?, ?it/s]"
      ]
     },
     "metadata": {},
     "output_type": "display_data"
    },
    {
     "name": "stdout",
     "output_type": "stream",
     "text": [
      "Running 3 iterations of planck_function_numba with 200000 frequency bins...\n"
     ]
    },
    {
     "data": {
      "application/vnd.jupyter.widget-view+json": {
       "model_id": "6fc116ed3a5546d2974cfe4865c8cb0e",
       "version_major": 2,
       "version_minor": 0
      },
      "text/plain": [
       "  0%|          | 0/3 [00:00<?, ?it/s]"
      ]
     },
     "metadata": {},
     "output_type": "display_data"
    },
    {
     "name": "stdout",
     "output_type": "stream",
     "text": [
      "Running 14 iterations of planck_function_numba with 500000 frequency bins...\n"
     ]
    },
    {
     "data": {
      "application/vnd.jupyter.widget-view+json": {
       "model_id": "c40a40f336c24d52a5deffb8c54bb4e5",
       "version_major": 2,
       "version_minor": 0
      },
      "text/plain": [
       "  0%|          | 0/14 [00:00<?, ?it/s]"
      ]
     },
     "metadata": {},
     "output_type": "display_data"
    },
    {
     "name": "stdout",
     "output_type": "stream",
     "text": [
      "Running 109 iterations of planck_function_numba with 1000000 frequency bins...\n"
     ]
    },
    {
     "data": {
      "application/vnd.jupyter.widget-view+json": {
       "model_id": "7604aad22e794c4d9edf79fe3fc95ee1",
       "version_major": 2,
       "version_minor": 0
      },
      "text/plain": [
       "  0%|          | 0/109 [00:00<?, ?it/s]"
      ]
     },
     "metadata": {},
     "output_type": "display_data"
    },
    {
     "name": "stdout",
     "output_type": "stream",
     "text": [
      "Running 8 iterations of planck_function_numba with 2000000 frequency bins...\n"
     ]
    },
    {
     "data": {
      "application/vnd.jupyter.widget-view+json": {
       "model_id": "7d5fc12fd2824a8b81c4cfc0803a4293",
       "version_major": 2,
       "version_minor": 0
      },
      "text/plain": [
       "  0%|          | 0/8 [00:00<?, ?it/s]"
      ]
     },
     "metadata": {},
     "output_type": "display_data"
    },
    {
     "name": "stdout",
     "output_type": "stream",
     "text": [
      "Running 100 iterations of planck_function_numba with 5000000 frequency bins...\n"
     ]
    },
    {
     "data": {
      "application/vnd.jupyter.widget-view+json": {
       "model_id": "74580890ee7042c184255aa4902606fc",
       "version_major": 2,
       "version_minor": 0
      },
      "text/plain": [
       "  0%|          | 0/100 [00:00<?, ?it/s]"
      ]
     },
     "metadata": {},
     "output_type": "display_data"
    },
    {
     "name": "stdout",
     "output_type": "stream",
     "text": [
      "Running 1 iteration of planck_function_numba_parallel with 100 frequency bins...\n"
     ]
    },
    {
     "data": {
      "application/vnd.jupyter.widget-view+json": {
       "model_id": "311f6082eea7419689f0df696035aa51",
       "version_major": 2,
       "version_minor": 0
      },
      "text/plain": [
       "  0%|          | 0/1 [00:00<?, ?it/s]"
      ]
     },
     "metadata": {},
     "output_type": "display_data"
    },
    {
     "name": "stdout",
     "output_type": "stream",
     "text": [
      "Running 1 iteration of planck_function_numba_parallel with 200 frequency bins...\n"
     ]
    },
    {
     "data": {
      "application/vnd.jupyter.widget-view+json": {
       "model_id": "3c65592b64984df29ca934952218456b",
       "version_major": 2,
       "version_minor": 0
      },
      "text/plain": [
       "  0%|          | 0/1 [00:00<?, ?it/s]"
      ]
     },
     "metadata": {},
     "output_type": "display_data"
    },
    {
     "name": "stdout",
     "output_type": "stream",
     "text": [
      "Running 1 iteration of planck_function_numba_parallel with 500 frequency bins...\n"
     ]
    },
    {
     "data": {
      "application/vnd.jupyter.widget-view+json": {
       "model_id": "6cc1c05b89e3481bb8764fb810214531",
       "version_major": 2,
       "version_minor": 0
      },
      "text/plain": [
       "  0%|          | 0/1 [00:00<?, ?it/s]"
      ]
     },
     "metadata": {},
     "output_type": "display_data"
    },
    {
     "name": "stdout",
     "output_type": "stream",
     "text": [
      "Running 1 iteration of planck_function_numba_parallel with 1000 frequency bins...\n"
     ]
    },
    {
     "data": {
      "application/vnd.jupyter.widget-view+json": {
       "model_id": "0e5bb022986342b88f0a093d354d5983",
       "version_major": 2,
       "version_minor": 0
      },
      "text/plain": [
       "  0%|          | 0/1 [00:00<?, ?it/s]"
      ]
     },
     "metadata": {},
     "output_type": "display_data"
    },
    {
     "name": "stdout",
     "output_type": "stream",
     "text": [
      "Running 1 iteration of planck_function_numba_parallel with 2000 frequency bins...\n"
     ]
    },
    {
     "data": {
      "application/vnd.jupyter.widget-view+json": {
       "model_id": "0fb13450a18e47f3bab0a75b50b2d8af",
       "version_major": 2,
       "version_minor": 0
      },
      "text/plain": [
       "  0%|          | 0/1 [00:00<?, ?it/s]"
      ]
     },
     "metadata": {},
     "output_type": "display_data"
    },
    {
     "name": "stdout",
     "output_type": "stream",
     "text": [
      "Running 1 iteration of planck_function_numba_parallel with 5000 frequency bins...\n"
     ]
    },
    {
     "data": {
      "application/vnd.jupyter.widget-view+json": {
       "model_id": "cd4d8bedb54447d896b126cba3a48f62",
       "version_major": 2,
       "version_minor": 0
      },
      "text/plain": [
       "  0%|          | 0/1 [00:00<?, ?it/s]"
      ]
     },
     "metadata": {},
     "output_type": "display_data"
    },
    {
     "name": "stdout",
     "output_type": "stream",
     "text": [
      "Running 1 iteration of planck_function_numba_parallel with 10000 frequency bins...\n"
     ]
    },
    {
     "data": {
      "application/vnd.jupyter.widget-view+json": {
       "model_id": "91449d662e9c4e1a830c0db5b559c519",
       "version_major": 2,
       "version_minor": 0
      },
      "text/plain": [
       "  0%|          | 0/1 [00:00<?, ?it/s]"
      ]
     },
     "metadata": {},
     "output_type": "display_data"
    },
    {
     "name": "stdout",
     "output_type": "stream",
     "text": [
      "Running 1 iteration of planck_function_numba_parallel with 20000 frequency bins...\n"
     ]
    },
    {
     "data": {
      "application/vnd.jupyter.widget-view+json": {
       "model_id": "fe1e8efa718a4848aef2edf208442488",
       "version_major": 2,
       "version_minor": 0
      },
      "text/plain": [
       "  0%|          | 0/1 [00:00<?, ?it/s]"
      ]
     },
     "metadata": {},
     "output_type": "display_data"
    },
    {
     "name": "stdout",
     "output_type": "stream",
     "text": [
      "Running 1 iteration of planck_function_numba_parallel with 50000 frequency bins...\n"
     ]
    },
    {
     "data": {
      "application/vnd.jupyter.widget-view+json": {
       "model_id": "8a0df3e8b4284d81ae9b2cbacc0d0c6f",
       "version_major": 2,
       "version_minor": 0
      },
      "text/plain": [
       "  0%|          | 0/1 [00:00<?, ?it/s]"
      ]
     },
     "metadata": {},
     "output_type": "display_data"
    },
    {
     "name": "stdout",
     "output_type": "stream",
     "text": [
      "Running 1 iteration of planck_function_numba_parallel with 100000 frequency bins...\n"
     ]
    },
    {
     "data": {
      "application/vnd.jupyter.widget-view+json": {
       "model_id": "ee24c71fee9a47939c0955946cf48f9d",
       "version_major": 2,
       "version_minor": 0
      },
      "text/plain": [
       "  0%|          | 0/1 [00:00<?, ?it/s]"
      ]
     },
     "metadata": {},
     "output_type": "display_data"
    },
    {
     "name": "stdout",
     "output_type": "stream",
     "text": [
      "Running 1 iteration of planck_function_numba_parallel with 200000 frequency bins...\n"
     ]
    },
    {
     "data": {
      "application/vnd.jupyter.widget-view+json": {
       "model_id": "096312e222c44d86924a7a76142a0e9c",
       "version_major": 2,
       "version_minor": 0
      },
      "text/plain": [
       "  0%|          | 0/1 [00:00<?, ?it/s]"
      ]
     },
     "metadata": {},
     "output_type": "display_data"
    },
    {
     "name": "stdout",
     "output_type": "stream",
     "text": [
      "Running 2 iterations of planck_function_numba_parallel with 500000 frequency bins...\n"
     ]
    },
    {
     "data": {
      "application/vnd.jupyter.widget-view+json": {
       "model_id": "c892077928fc4a0893ee6dfaae71ec9b",
       "version_major": 2,
       "version_minor": 0
      },
      "text/plain": [
       "  0%|          | 0/2 [00:00<?, ?it/s]"
      ]
     },
     "metadata": {},
     "output_type": "display_data"
    },
    {
     "name": "stdout",
     "output_type": "stream",
     "text": [
      "Running 3 iterations of planck_function_numba_parallel with 1000000 frequency bins...\n"
     ]
    },
    {
     "data": {
      "application/vnd.jupyter.widget-view+json": {
       "model_id": "a93c85ae11e04ab198ba3b30645699a4",
       "version_major": 2,
       "version_minor": 0
      },
      "text/plain": [
       "  0%|          | 0/3 [00:00<?, ?it/s]"
      ]
     },
     "metadata": {},
     "output_type": "display_data"
    },
    {
     "name": "stdout",
     "output_type": "stream",
     "text": [
      "Running 2 iterations of planck_function_numba_parallel with 2000000 frequency bins...\n"
     ]
    },
    {
     "data": {
      "application/vnd.jupyter.widget-view+json": {
       "model_id": "74cdc85e90594d8b8b32207fbf185b83",
       "version_major": 2,
       "version_minor": 0
      },
      "text/plain": [
       "  0%|          | 0/2 [00:00<?, ?it/s]"
      ]
     },
     "metadata": {},
     "output_type": "display_data"
    },
    {
     "name": "stdout",
     "output_type": "stream",
     "text": [
      "Running 11 iterations of planck_function_numba_parallel with 5000000 frequency bins...\n"
     ]
    },
    {
     "data": {
      "application/vnd.jupyter.widget-view+json": {
       "model_id": "86da8c3768cc42fdb317bd1cb4c114ce",
       "version_major": 2,
       "version_minor": 0
      },
      "text/plain": [
       "  0%|          | 0/11 [00:00<?, ?it/s]"
      ]
     },
     "metadata": {},
     "output_type": "display_data"
    },
    {
     "data": {
      "text/html": [
       "<div>\n",
       "<style scoped>\n",
       "    .dataframe tbody tr th:only-of-type {\n",
       "        vertical-align: middle;\n",
       "    }\n",
       "\n",
       "    .dataframe tbody tr th {\n",
       "        vertical-align: top;\n",
       "    }\n",
       "\n",
       "    .dataframe thead th {\n",
       "        text-align: right;\n",
       "    }\n",
       "</style>\n",
       "<table border=\"1\" class=\"dataframe\">\n",
       "  <thead>\n",
       "    <tr style=\"text-align: right;\">\n",
       "      <th></th>\n",
       "      <th></th>\n",
       "      <th>mean</th>\n",
       "      <th>std</th>\n",
       "      <th>N_montecarlo</th>\n",
       "    </tr>\n",
       "    <tr>\n",
       "      <th>func_name</th>\n",
       "      <th>freq_bins</th>\n",
       "      <th></th>\n",
       "      <th></th>\n",
       "      <th></th>\n",
       "    </tr>\n",
       "  </thead>\n",
       "  <tbody>\n",
       "    <tr>\n",
       "      <th rowspan=\"15\" valign=\"top\">planck_function</th>\n",
       "      <th>100</th>\n",
       "      <td>2.441709e+05</td>\n",
       "      <td>1.355112e+04</td>\n",
       "      <td>1</td>\n",
       "    </tr>\n",
       "    <tr>\n",
       "      <th>200</th>\n",
       "      <td>2.388708e+05</td>\n",
       "      <td>1.433158e+04</td>\n",
       "      <td>1</td>\n",
       "    </tr>\n",
       "    <tr>\n",
       "      <th>500</th>\n",
       "      <td>2.426093e+05</td>\n",
       "      <td>1.469135e+04</td>\n",
       "      <td>1</td>\n",
       "    </tr>\n",
       "    <tr>\n",
       "      <th>1000</th>\n",
       "      <td>2.530085e+05</td>\n",
       "      <td>1.668176e+04</td>\n",
       "      <td>1</td>\n",
       "    </tr>\n",
       "    <tr>\n",
       "      <th>2000</th>\n",
       "      <td>2.649777e+05</td>\n",
       "      <td>1.718776e+04</td>\n",
       "      <td>1</td>\n",
       "    </tr>\n",
       "    <tr>\n",
       "      <th>5000</th>\n",
       "      <td>2.881273e+05</td>\n",
       "      <td>1.872802e+04</td>\n",
       "      <td>1</td>\n",
       "    </tr>\n",
       "    <tr>\n",
       "      <th>10000</th>\n",
       "      <td>3.784471e+05</td>\n",
       "      <td>2.386506e+04</td>\n",
       "      <td>1</td>\n",
       "    </tr>\n",
       "    <tr>\n",
       "      <th>20000</th>\n",
       "      <td>5.225990e+05</td>\n",
       "      <td>3.123355e+04</td>\n",
       "      <td>1</td>\n",
       "    </tr>\n",
       "    <tr>\n",
       "      <th>50000</th>\n",
       "      <td>9.610383e+05</td>\n",
       "      <td>3.939912e+04</td>\n",
       "      <td>2</td>\n",
       "    </tr>\n",
       "    <tr>\n",
       "      <th>100000</th>\n",
       "      <td>1.719533e+06</td>\n",
       "      <td>4.489117e+04</td>\n",
       "      <td>2</td>\n",
       "    </tr>\n",
       "    <tr>\n",
       "      <th>200000</th>\n",
       "      <td>3.551846e+06</td>\n",
       "      <td>1.987303e+05</td>\n",
       "      <td>26</td>\n",
       "    </tr>\n",
       "    <tr>\n",
       "      <th>500000</th>\n",
       "      <td>7.868353e+06</td>\n",
       "      <td>7.102284e+05</td>\n",
       "      <td>332</td>\n",
       "    </tr>\n",
       "    <tr>\n",
       "      <th>1000000</th>\n",
       "      <td>1.545055e+07</td>\n",
       "      <td>1.770866e+05</td>\n",
       "      <td>21</td>\n",
       "    </tr>\n",
       "    <tr>\n",
       "      <th>2000000</th>\n",
       "      <td>3.273912e+07</td>\n",
       "      <td>6.050203e+05</td>\n",
       "      <td>241</td>\n",
       "    </tr>\n",
       "    <tr>\n",
       "      <th>5000000</th>\n",
       "      <td>1.056650e+08</td>\n",
       "      <td>1.223041e+06</td>\n",
       "      <td>983</td>\n",
       "    </tr>\n",
       "    <tr>\n",
       "      <th rowspan=\"15\" valign=\"top\">planck_function_numba</th>\n",
       "      <th>100</th>\n",
       "      <td>8.405588e+03</td>\n",
       "      <td>4.741181e+02</td>\n",
       "      <td>1</td>\n",
       "    </tr>\n",
       "    <tr>\n",
       "      <th>200</th>\n",
       "      <td>9.759431e+03</td>\n",
       "      <td>4.161640e+03</td>\n",
       "      <td>1</td>\n",
       "    </tr>\n",
       "    <tr>\n",
       "      <th>500</th>\n",
       "      <td>1.284641e+04</td>\n",
       "      <td>4.088085e+03</td>\n",
       "      <td>1</td>\n",
       "    </tr>\n",
       "    <tr>\n",
       "      <th>1000</th>\n",
       "      <td>1.702912e+04</td>\n",
       "      <td>4.022054e+03</td>\n",
       "      <td>1</td>\n",
       "    </tr>\n",
       "    <tr>\n",
       "      <th>2000</th>\n",
       "      <td>2.124337e+04</td>\n",
       "      <td>1.020790e+03</td>\n",
       "      <td>1</td>\n",
       "    </tr>\n",
       "    <tr>\n",
       "      <th>5000</th>\n",
       "      <td>3.414404e+04</td>\n",
       "      <td>9.505467e+02</td>\n",
       "      <td>1</td>\n",
       "    </tr>\n",
       "    <tr>\n",
       "      <th>10000</th>\n",
       "      <td>5.734300e+04</td>\n",
       "      <td>3.626930e+03</td>\n",
       "      <td>1</td>\n",
       "    </tr>\n",
       "    <tr>\n",
       "      <th>20000</th>\n",
       "      <td>9.894239e+04</td>\n",
       "      <td>5.246407e+03</td>\n",
       "      <td>1</td>\n",
       "    </tr>\n",
       "    <tr>\n",
       "      <th>50000</th>\n",
       "      <td>2.208155e+05</td>\n",
       "      <td>2.461969e+04</td>\n",
       "      <td>1</td>\n",
       "    </tr>\n",
       "    <tr>\n",
       "      <th>100000</th>\n",
       "      <td>4.224824e+05</td>\n",
       "      <td>3.982711e+04</td>\n",
       "      <td>2</td>\n",
       "    </tr>\n",
       "    <tr>\n",
       "      <th>200000</th>\n",
       "      <td>8.004193e+05</td>\n",
       "      <td>7.029660e+04</td>\n",
       "      <td>4</td>\n",
       "    </tr>\n",
       "    <tr>\n",
       "      <th>500000</th>\n",
       "      <td>1.838813e+06</td>\n",
       "      <td>1.635737e+05</td>\n",
       "      <td>18</td>\n",
       "    </tr>\n",
       "    <tr>\n",
       "      <th>1000000</th>\n",
       "      <td>3.673008e+06</td>\n",
       "      <td>2.695091e+05</td>\n",
       "      <td>48</td>\n",
       "    </tr>\n",
       "    <tr>\n",
       "      <th>2000000</th>\n",
       "      <td>1.040192e+07</td>\n",
       "      <td>1.105367e+05</td>\n",
       "      <td>9</td>\n",
       "    </tr>\n",
       "    <tr>\n",
       "      <th>5000000</th>\n",
       "      <td>2.597406e+07</td>\n",
       "      <td>3.658799e+05</td>\n",
       "      <td>88</td>\n",
       "    </tr>\n",
       "    <tr>\n",
       "      <th rowspan=\"15\" valign=\"top\">planck_function_numba_parallel</th>\n",
       "      <th>100</th>\n",
       "      <td>6.470478e+04</td>\n",
       "      <td>1.493904e+04</td>\n",
       "      <td>1</td>\n",
       "    </tr>\n",
       "    <tr>\n",
       "      <th>200</th>\n",
       "      <td>5.875561e+04</td>\n",
       "      <td>1.409791e+04</td>\n",
       "      <td>1</td>\n",
       "    </tr>\n",
       "    <tr>\n",
       "      <th>500</th>\n",
       "      <td>6.253963e+04</td>\n",
       "      <td>1.587965e+04</td>\n",
       "      <td>1</td>\n",
       "    </tr>\n",
       "    <tr>\n",
       "      <th>1000</th>\n",
       "      <td>7.649104e+04</td>\n",
       "      <td>2.000405e+04</td>\n",
       "      <td>1</td>\n",
       "    </tr>\n",
       "    <tr>\n",
       "      <th>2000</th>\n",
       "      <td>8.360480e+04</td>\n",
       "      <td>1.763700e+04</td>\n",
       "      <td>1</td>\n",
       "    </tr>\n",
       "    <tr>\n",
       "      <th>5000</th>\n",
       "      <td>9.617457e+04</td>\n",
       "      <td>1.832939e+04</td>\n",
       "      <td>1</td>\n",
       "    </tr>\n",
       "    <tr>\n",
       "      <th>10000</th>\n",
       "      <td>1.155316e+05</td>\n",
       "      <td>1.889846e+04</td>\n",
       "      <td>1</td>\n",
       "    </tr>\n",
       "    <tr>\n",
       "      <th>20000</th>\n",
       "      <td>1.581562e+05</td>\n",
       "      <td>1.972117e+04</td>\n",
       "      <td>1</td>\n",
       "    </tr>\n",
       "    <tr>\n",
       "      <th>50000</th>\n",
       "      <td>2.519304e+05</td>\n",
       "      <td>2.278110e+04</td>\n",
       "      <td>1</td>\n",
       "    </tr>\n",
       "    <tr>\n",
       "      <th>100000</th>\n",
       "      <td>3.233924e+05</td>\n",
       "      <td>3.699227e+04</td>\n",
       "      <td>1</td>\n",
       "    </tr>\n",
       "    <tr>\n",
       "      <th>200000</th>\n",
       "      <td>4.262025e+05</td>\n",
       "      <td>3.555788e+04</td>\n",
       "      <td>1</td>\n",
       "    </tr>\n",
       "    <tr>\n",
       "      <th>500000</th>\n",
       "      <td>6.268246e+05</td>\n",
       "      <td>5.414371e+04</td>\n",
       "      <td>2</td>\n",
       "    </tr>\n",
       "    <tr>\n",
       "      <th>1000000</th>\n",
       "      <td>8.928979e+05</td>\n",
       "      <td>6.216273e+04</td>\n",
       "      <td>3</td>\n",
       "    </tr>\n",
       "    <tr>\n",
       "      <th>2000000</th>\n",
       "      <td>1.714325e+06</td>\n",
       "      <td>5.181320e+04</td>\n",
       "      <td>2</td>\n",
       "    </tr>\n",
       "    <tr>\n",
       "      <th>5000000</th>\n",
       "      <td>3.790308e+06</td>\n",
       "      <td>1.222325e+05</td>\n",
       "      <td>10</td>\n",
       "    </tr>\n",
       "  </tbody>\n",
       "</table>\n",
       "</div>"
      ],
      "text/plain": [
       "                                                  mean           std  \\\n",
       "func_name                      freq_bins                               \n",
       "planck_function                100        2.441709e+05  1.355112e+04   \n",
       "                               200        2.388708e+05  1.433158e+04   \n",
       "                               500        2.426093e+05  1.469135e+04   \n",
       "                               1000       2.530085e+05  1.668176e+04   \n",
       "                               2000       2.649777e+05  1.718776e+04   \n",
       "                               5000       2.881273e+05  1.872802e+04   \n",
       "                               10000      3.784471e+05  2.386506e+04   \n",
       "                               20000      5.225990e+05  3.123355e+04   \n",
       "                               50000      9.610383e+05  3.939912e+04   \n",
       "                               100000     1.719533e+06  4.489117e+04   \n",
       "                               200000     3.551846e+06  1.987303e+05   \n",
       "                               500000     7.868353e+06  7.102284e+05   \n",
       "                               1000000    1.545055e+07  1.770866e+05   \n",
       "                               2000000    3.273912e+07  6.050203e+05   \n",
       "                               5000000    1.056650e+08  1.223041e+06   \n",
       "planck_function_numba          100        8.405588e+03  4.741181e+02   \n",
       "                               200        9.759431e+03  4.161640e+03   \n",
       "                               500        1.284641e+04  4.088085e+03   \n",
       "                               1000       1.702912e+04  4.022054e+03   \n",
       "                               2000       2.124337e+04  1.020790e+03   \n",
       "                               5000       3.414404e+04  9.505467e+02   \n",
       "                               10000      5.734300e+04  3.626930e+03   \n",
       "                               20000      9.894239e+04  5.246407e+03   \n",
       "                               50000      2.208155e+05  2.461969e+04   \n",
       "                               100000     4.224824e+05  3.982711e+04   \n",
       "                               200000     8.004193e+05  7.029660e+04   \n",
       "                               500000     1.838813e+06  1.635737e+05   \n",
       "                               1000000    3.673008e+06  2.695091e+05   \n",
       "                               2000000    1.040192e+07  1.105367e+05   \n",
       "                               5000000    2.597406e+07  3.658799e+05   \n",
       "planck_function_numba_parallel 100        6.470478e+04  1.493904e+04   \n",
       "                               200        5.875561e+04  1.409791e+04   \n",
       "                               500        6.253963e+04  1.587965e+04   \n",
       "                               1000       7.649104e+04  2.000405e+04   \n",
       "                               2000       8.360480e+04  1.763700e+04   \n",
       "                               5000       9.617457e+04  1.832939e+04   \n",
       "                               10000      1.155316e+05  1.889846e+04   \n",
       "                               20000      1.581562e+05  1.972117e+04   \n",
       "                               50000      2.519304e+05  2.278110e+04   \n",
       "                               100000     3.233924e+05  3.699227e+04   \n",
       "                               200000     4.262025e+05  3.555788e+04   \n",
       "                               500000     6.268246e+05  5.414371e+04   \n",
       "                               1000000    8.928979e+05  6.216273e+04   \n",
       "                               2000000    1.714325e+06  5.181320e+04   \n",
       "                               5000000    3.790308e+06  1.222325e+05   \n",
       "\n",
       "                                          N_montecarlo  \n",
       "func_name                      freq_bins                \n",
       "planck_function                100                   1  \n",
       "                               200                   1  \n",
       "                               500                   1  \n",
       "                               1000                  1  \n",
       "                               2000                  1  \n",
       "                               5000                  1  \n",
       "                               10000                 1  \n",
       "                               20000                 1  \n",
       "                               50000                 2  \n",
       "                               100000                2  \n",
       "                               200000               26  \n",
       "                               500000              332  \n",
       "                               1000000              21  \n",
       "                               2000000             241  \n",
       "                               5000000             983  \n",
       "planck_function_numba          100                   1  \n",
       "                               200                   1  \n",
       "                               500                   1  \n",
       "                               1000                  1  \n",
       "                               2000                  1  \n",
       "                               5000                  1  \n",
       "                               10000                 1  \n",
       "                               20000                 1  \n",
       "                               50000                 1  \n",
       "                               100000                2  \n",
       "                               200000                4  \n",
       "                               500000               18  \n",
       "                               1000000              48  \n",
       "                               2000000               9  \n",
       "                               5000000              88  \n",
       "planck_function_numba_parallel 100                   1  \n",
       "                               200                   1  \n",
       "                               500                   1  \n",
       "                               1000                  1  \n",
       "                               2000                  1  \n",
       "                               5000                  1  \n",
       "                               10000                 1  \n",
       "                               20000                 1  \n",
       "                               50000                 1  \n",
       "                               100000                1  \n",
       "                               200000                1  \n",
       "                               500000                2  \n",
       "                               1000000               3  \n",
       "                               2000000               2  \n",
       "                               5000000              10  "
      ]
     },
     "execution_count": 14,
     "metadata": {},
     "output_type": "execute_result"
    }
   ],
   "source": [
    "for tup in time_data_estimators.itertuples():\n",
    "    func_name = tup.Index[0]\n",
    "    freq = tup.Index[1]\n",
    "    func = funcdict[func_name]\n",
    "    plural = \"s\" if tup.N_montecarlo > 1 else \"\"\n",
    "    tqdm.tqdm.write(\n",
    "        f\"Running {tup.N_montecarlo} iteration{plural} of {func_name} with {freq} frequency bins...\"\n",
    "    )\n",
    "    for n in tqdm.trange(tup.N_montecarlo):\n",
    "        tempdf = time_trial(\n",
    "            func,\n",
    "            func_name,\n",
    "            freq,\n",
    "        )\n",
    "        raw_time_data = pd.concat(\n",
    "            [\n",
    "                raw_time_data,\n",
    "                tempdf,\n",
    "            ],\n",
    "            ignore_index=True,\n",
    "        )\n",
    "\n",
    "groupby = raw_time_data[raw_time_data.columns[:3]].groupby(\n",
    "    [\n",
    "        \"func_name\",\n",
    "        \"freq_bins\",\n",
    "    ]\n",
    ")\n",
    "time_data_estimators[\"mean\"] = groupby.mean()\n",
    "time_data_estimators[\"std\"] = groupby.std()\n",
    "\n",
    "time_data_estimators[\"N_montecarlo\"] = pd.to_numeric(\n",
    "    ((time_data_estimators[\"std\"] * z / error_tolerance) ** 2)\n",
    "    .apply(lambda x: np.minimum(x, Nmax))\n",
    "    .apply(np.ceil),\n",
    "    downcast=\"integer\",\n",
    ").rename(\"N_iterations\")\n",
    "\n",
    "time_data_estimators"
   ]
  },
  {
   "cell_type": "code",
   "execution_count": 15,
   "id": "54bea127",
   "metadata": {},
   "outputs": [
    {
     "data": {
      "image/png": "[encoded data removed]",
      "text/plain": [
       "<Figure size 640x480 with 1 Axes>"
      ]
     },
     "metadata": {},
     "output_type": "display_data"
    }
   ],
   "source": [
    "markers = (\n",
    "    \"o\",\n",
    "    \"s\",\n",
    "    \"^\",\n",
    ")\n",
    "# Different markers to be color-blind friendly\n",
    "\n",
    "for f, marker in zip(function_names, markers):\n",
    "    plt.loglog(\n",
    "        time_data_estimators.loc[f][\"mean\"],\n",
    "        marker=marker,\n",
    "        label=f,\n",
    "    )\n",
    "    # Semilog because of the range of values for freq_bin\n",
    "plt.title(\"Average Execution Times For JIT and non-JIT Implementations\")\n",
    "plt.legend()\n",
    "plt.grid()\n",
    "plt.xlabel(\"Frequency Bins\")\n",
    "plt.ylabel(\"Average Elapsed Time (ns)\")\n",
    "plt.tight_layout()\n",
    "plt.show()\n",
    "# This plot is done in matplotlib because that's what's already used here\n",
    "# and what's available currently installed. I could have done something\n",
    "# more elaborate, but I didn't want to mess with the virtual environment."
   ]
  },
  {
   "cell_type": "markdown",
   "id": "1166da72",
   "metadata": {},
   "source": [
    "We can clearly see where the benefits of parallelization overcome the overhead, i.e. where the square and triangle marked curves cross."
   ]
  }
 ],
 "metadata": {
  "celltoolbar": "Raw Cell Format",
  "kernelspec": {
   "display_name": "Python 3 (ipykernel)",
   "language": "python",
   "name": "python3"
  },
  "language_info": {
   "codemirror_mode": {
    "name": "ipython",
    "version": 3
   },
   "file_extension": ".py",
   "mimetype": "text/x-python",
   "name": "python",
   "nbconvert_exporter": "python",
   "pygments_lexer": "ipython3",
   "version": "3.8.16"
  }
 },
 "nbformat": 4,
 "nbformat_minor": 5
}
