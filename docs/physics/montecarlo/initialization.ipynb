{
 "cells": [
  {
   "cell_type": "markdown",
   "id": "6c0dbe0a",
   "metadata": {},
   "source": [
    "# Energy Packet Initialization\n",
    "\n",
    "## Theory\n",
    "\n",
    "While it is instructive to think about tracking the propagation history of\n",
    "individual photons when illustrating the basic idea behind Monte Carlo radiative transfer\n",
    "techniques, there are important numerical reasons for using a different\n",
    "discretization scheme. Instead of thinking in the photon picture, it brings\n",
    "significant advantages to follow the idea of <strong data-cite=\"Abbott1985\">[]</strong> and\n",
    "<strong data-cite=\"Lucy1999\">[]</strong> and consider parcels of radiant energy as the fundamental\n",
    "building blocks of the Monte Carlo calculation. These basic Monte Carlo quanta\n",
    "are commonly referred to as \"energy packets\" or simply \"packets\", and are composed of many photons with the same frequency.\n",
    "\n",
    "During a Monte Carlo calculation, $N$ (a large number) packets, all with a certain\n",
    "energy $\\varepsilon$, are created at the inner boundary of the computational domain (which is discussed in the [model section](../setup/model.rst)) known as the photosphere. Currently, the photosphere is modeled as a spherical [blackbody](https://en.wikipedia.org/wiki/Black-body_radiation) with a radius $r_\\mathrm{boundary\\_inner}$ and temperature $T_\\mathrm{inner}$. Both of these quantities are calculated as a part of the [model](../setup/model.ipynb), and $T_\\mathrm{inner}$ is additionally updated throughout the simulation as a part of the [Updating Plasma and Convergence](../update_and_conv/update_and_conv.ipynb) process.\n",
    "\n",
    "In TARDIS, all packets are assigned identical energies **in the lab frame** (see [Reference Frames](propagation.rst#reference-frames)), and the total (lab-frame) energy of the packets is 1 erg (and thus each packet has an energy of $\\frac{1}{N}$ ergs).\n",
    "\n",
    "<div class=\"alert alert-info\">\n",
    "    \n",
    "Note\n",
    "\n",
    "The indivisible energy packet scheme does not require that all packets have the same energy. This is just a convenient and simple choice adopted in TARDIS.\n",
    "\n",
    "</div>\n",
    "\n",
    "<div class=\"alert alert-info\">\n",
    "    \n",
    "Note\n",
    "\n",
    "Since all packets have the same total, and photon energy is proportional to frequency, higher-frequency packets will represent less real photons than lower-frequency packets.\n",
    "\n",
    "</div>\n",
    "\n",
    "Since the photosphere is modeled as a blackbody, its total luminosity $L_\\mathrm{inner}$ (recall that luminosity is energy emitted divided by the time in which it is emitted) is\n",
    "$$L_\\mathrm{inner}=\\frac{N\\varepsilon}{\\Delta t}=4 \\pi r_\\mathrm{boundary\\_inner}^2 \\sigma_{\\mathrm{R}} T_{\\mathrm{inner}}^4$$\n",
    "where $\\sigma_\\mathrm{R}$ is the Stefan-Boltzmann constant and $\\Delta t$ is the physical duration of the simulation. In order to make this relationship hold (remembering that $N\\varepsilon = 1$ erg), we use\n",
    "$$\\Delta t = \\frac{1}{L_\\mathrm{inner}}=\\frac{1}{4 \\pi r_\\mathrm{boundary\\_inner}^2 \\sigma_{\\mathrm{R}} T_{\\mathrm{inner}}^4}.$$\n",
    "\n",
    "<div class=\"alert alert-info\">\n",
    "    \n",
    "Note\n",
    "\n",
    "As will be shown in the code example, this will lead to unphysically small values for $\\Delta t$. It may be easier to think of the Monte Carlo packets not as packets of energy $\\epsilon$ going through a simulation of duration $\\Delta t$, but as packets of luminosity that carry an energy $\\epsilon$ over a time $\\Delta t$ (and thus truly being luminosity packets of luminosity $\\frac{\\epsilon}{\\Delta t}$). Indeed, this view of the packets will be useful when deriving the [Monte Carlo Estimators](estimators.rst).\n",
    "\n",
    "</div>\n",
    "\n",
    "During packet initialization, each packet is assigned an initial propagation direction $\\mu$ which is the cosine of the angle $\\theta$ which the packet's path makes with the radial direction (see the image below). Using a pseudo-random number generator which generates numbers $z$ uniformly distributed on the interval $[0,1]$, the propagation direction is determined (due to physical considerations beyond the scope of this documentation) according to\n",
    "$$\\mu = \\sqrt{z}.$$\n",
    "This sampling is shown in the \"Code Example\" section.\n",
    "\n",
    "<img src=\"../images/propagation_direction.png\" width=500>\n",
    "\n",
    "Finally, each packet is assigned an initial frequency (or more precisely, the initial frequency of its constituent photons). Note that since each packet has the same energy, each packet will represent a different number of real photons. The sampling on packet frequencies is more involved than that of the propagation direction, as it involves sampling the Planck distribution (see below). TARDIS uses the technique described in <strong data-cite=\"Carter1975\">[]</strong> and summarized in <strong data-cite=\"Bjorkman2001\">[]</strong> for this purpose.\n",
    "\n",
    "During the simulation, the energy of the packet remains constant in the local\n",
    "co-moving frame (see [Reference Frames](propagation.rst#reference-frames)). This naturally ensures energy\n",
    "conservation and constitutes the main advantage of this discretization scheme. **However, while the energy of the packets is conserved in the co-moving frame, the co-moving frequency of the packet (and thus the photons represented by the packet) may vary over the course of the simulation. Thus, a packet may represent several different numbers of real photons throughout their lifetimes.**\n",
    "\n",
    "## Code Example\n",
    "\n",
    "We now demonstrate the TARDIS packet initialization framework:"
   ]
  },
  {
   "cell_type": "code",
   "execution_count": 1,
   "id": "426325e5",
   "metadata": {},
   "outputs": [
    {
     "data": {
      "application/vnd.jupyter.widget-view+json": {
       "model_id": "",
       "version_major": 2,
       "version_minor": 0
      },
      "text/plain": [
       "Iterations:          0/? [00:00<?, ?it/s]"
      ]
     },
     "metadata": {},
     "output_type": "display_data"
    },
    {
     "data": {
      "application/vnd.jupyter.widget-view+json": {
       "model_id": "",
       "version_major": 2,
       "version_minor": 0
      },
      "text/plain": [
       "Packets:             0/? [00:00<?, ?it/s]"
      ]
     },
     "metadata": {},
     "output_type": "display_data"
    }
   ],
   "source": [
    "import numpy as np\n",
    "from tardis.montecarlo.packet_source import BlackBodySimpleSource\n",
    "from astropy import units as u\n",
    "from tardis import constants as const\n",
    "import matplotlib.pyplot as plt\n",
    "import numba\n",
    "import time\n",
    "import pandas as pd\n",
    "import itertools\n",
    "import tqdm.auto as tqdm\n",
    "import scipy.stats as stats\n",
    "\n",
    "\n",
    "# The random number generator that will be used\n",
    "rng = np.random.default_rng()"
   ]
  },
  {
   "cell_type": "markdown",
   "id": "4ae02998",
   "metadata": {},
   "source": [
    "The following cell contains values that you can change to see how it affects the spectrum (in an actual simulation, the seed and number of packets are set in the [Monte Carlo configuration](../../io/configuration/components/montecarlo.rst), and the photospheric radius is calculated as a part of the [model](../setup/model.ipynb)):"
   ]
  },
  {
   "cell_type": "code",
   "execution_count": 2,
   "id": "bc34bf33",
   "metadata": {},
   "outputs": [],
   "source": [
    "# Seed for the pseudo-random number generator\n",
    "seed = 1\n",
    "\n",
    "# Number of packets generated\n",
    "n_packets = 40000\n",
    "\n",
    "# Radius of the supernova's photosphere in cm\n",
    "r_boundary_inner = 1e15 * u.cm"
   ]
  },
  {
   "cell_type": "markdown",
   "id": "450faf76",
   "metadata": {},
   "source": [
    "We set the temperature of the photosphere $T_\\mathrm{inner}$, which will determine the photospheric luminosity (in an actual simulation, $T_\\mathrm{inner}$ is initially calculated as a part of the [model](../setup/model.ipynb) and updated as a part of the [Updating Plasma and Convergence](../update_and_conv/update_and_conv.ipynb) process):"
   ]
  },
  {
   "cell_type": "code",
   "execution_count": 3,
   "id": "3fb3ca8c",
   "metadata": {},
   "outputs": [
    {
     "name": "stdout",
     "output_type": "stream",
     "text": [
      "Luminosity of photosphere: 7.125600863965567e+42 erg / s\n"
     ]
    }
   ],
   "source": [
    "# Temperature in K\n",
    "temperature_inner = 10000 * u.K\n",
    "\n",
    "luminosity_inner = (\n",
    "    4\n",
    "    * np.pi\n",
    "    * (r_boundary_inner**2)\n",
    "    * const.sigma_sb\n",
    "    * (temperature_inner**4)\n",
    ")\n",
    "\n",
    "# Makes sure the luminosity is given in erg/s\n",
    "luminosity_inner = luminosity_inner.to(\"erg/s\")\n",
    "\n",
    "print(\n",
    "    \"Luminosity of photosphere:\",\n",
    "    luminosity_inner,\n",
    ")"
   ]
  },
  {
   "cell_type": "markdown",
   "id": "516633c5",
   "metadata": {},
   "source": [
    "We now generate the ensemble of packets. The array of packet energies and radii are also shown."
   ]
  },
  {
   "cell_type": "code",
   "execution_count": 4,
   "id": "925e9e1b",
   "metadata": {},
   "outputs": [
    {
     "name": "stdout",
     "output_type": "stream",
     "text": [
      "Energies: [2.5e-05 2.5e-05 2.5e-05 ... 2.5e-05 2.5e-05 2.5e-05] erg\n",
      "Radii: [1.e+15 1.e+15 1.e+15 ... 1.e+15 1.e+15 1.e+15] cm\n"
     ]
    }
   ],
   "source": [
    "# We define our packet source\n",
    "packet_source = BlackBodySimpleSource(seed)\n",
    "\n",
    "radii, nus, mus, energies = packet_source.create_packets(\n",
    "    temperature_inner.value,\n",
    "    n_packets,\n",
    "    rng,\n",
    "    r_boundary_inner,\n",
    ")\n",
    "\n",
    "# Sets the energies in units of ergs\n",
    "energies *= u.erg\n",
    "\n",
    "# Sets the frequencies in units of Hz\n",
    "nus *= u.Hz\n",
    "\n",
    "print(\n",
    "    \"Energies:\",\n",
    "    energies,\n",
    ")\n",
    "print(\n",
    "    \"Radii:\",\n",
    "    radii,\n",
    ")"
   ]
  },
  {
   "cell_type": "markdown",
   "id": "16936bce",
   "metadata": {},
   "source": [
    "We set the timespan of the simulation so that each packet contributes the appropriate luminosity to the spectrum."
   ]
  },
  {
   "cell_type": "code",
   "execution_count": 5,
   "id": "fed35f47",
   "metadata": {},
   "outputs": [
    {
     "name": "stdout",
     "output_type": "stream",
     "text": [
      "Time of simulation: 1.4033904215110305e-43 s\n",
      "Luminosity per packet: [1.78140022e+38 1.78140022e+38 1.78140022e+38 ... 1.78140022e+38\n",
      " 1.78140022e+38 1.78140022e+38] erg / s\n"
     ]
    }
   ],
   "source": [
    "# Time of simulation\n",
    "t_simulation = 1 * u.erg / luminosity_inner\n",
    "print(\n",
    "    \"Time of simulation:\",\n",
    "    t_simulation,\n",
    ")\n",
    "\n",
    "# Array of luminosity contribution by each packet\n",
    "lumin_per_packet = energies / t_simulation\n",
    "print(\n",
    "    \"Luminosity per packet:\",\n",
    "    lumin_per_packet,\n",
    ")"
   ]
  },
  {
   "cell_type": "markdown",
   "id": "0d839222",
   "metadata": {},
   "source": [
    "We define important constants, and for comparison's sake, we code the Planck distribution function\n",
    "$$L_\\nu (\\nu)=\\frac{8\\pi r_\\mathrm{boundary\\_inner}^2 h\\nu^3}{c^2}\\frac{1}{\\exp\\left(\\frac{h\\nu}{k_BT_\\mathrm{inner}}\\right)-1}$$\n",
    "where $L_\\nu$ is the luminosity density (see [Basic Spectrum Generation](../spectrum/basic.ipynb)) with respect to frequency, $\\nu$ is frequency, $h$ is Planck's constant, $c$ is the speed of light, and $k_B$ is Boltzmann's constant:"
   ]
  },
  {
   "cell_type": "code",
   "execution_count": 6,
   "id": "916a5e22",
   "metadata": {
    "scrolled": false
   },
   "outputs": [],
   "source": [
    "h = const.h.cgs\n",
    "c2 = const.c.cgs**2\n",
    "kB = const.k_B.cgs\n",
    "\n",
    "\n",
    "def planck_function(nu):\n",
    "    return (\n",
    "        8\n",
    "        * np.pi**2\n",
    "        * r_boundary_inner**2\n",
    "        * h\n",
    "        * nu**3\n",
    "        / (c2 * (np.exp(h * nu / (kB * temperature_inner)) - 1))\n",
    "    )"
   ]
  },
  {
   "cell_type": "markdown",
   "id": "78230177",
   "metadata": {},
   "source": [
    "We plot the Planck distribution and a histogram of the generated packet distribution:"
   ]
  },
  {
   "cell_type": "code",
   "execution_count": 7,
   "id": "913fcdbb",
   "metadata": {},
   "outputs": [
    {
     "data": {
      "image/png": "[encoded data removed]",
      "text/plain": [
       "<Figure size 640x480 with 1 Axes>"
      ]
     },
     "metadata": {},
     "output_type": "display_data"
    }
   ],
   "source": [
    "# We set important quantites for making our histogram\n",
    "bins = 200\n",
    "nus_planck = np.linspace(\n",
    "    min(nus),\n",
    "    max(nus),\n",
    "    bins,\n",
    ")\n",
    "bin_width = nus_planck[1] - nus_planck[0]\n",
    "\n",
    "# In the histogram plot below, the weights argument is used\n",
    "# to make sure our plotted spectrum has the correct y-axis scale\n",
    "plt.hist(\n",
    "    nus.value,\n",
    "    bins=bins,\n",
    "    weights=lumin_per_packet / bin_width,\n",
    ")\n",
    "\n",
    "# We plot the planck function for comparison\n",
    "# plt.plot(nus_planck, planck_function(nus_planck))\n",
    "plt.plot(\n",
    "    nus_planck,\n",
    "    planck_function(nus_planck),\n",
    ")\n",
    "\n",
    "plt.xlabel(\"Frequency (Hz)\")\n",
    "plt.ylabel(\"Luminosity density w.r.t. frequency (erg/s/Hz)\")\n",
    "plt.show()"
   ]
  },
  {
   "cell_type": "markdown",
   "id": "ad4f0f0e",
   "metadata": {},
   "source": [
    "We finally plot the generated $\\mu$ density distribution, followed by the generated $\\theta=\\arccos (\\mu)$ density distribution, compared with the respective curves $\\rho = 2\\mu$ and $\\rho = \\sin(2\\theta)$:"
   ]
  },
  {
   "cell_type": "code",
   "execution_count": 8,
   "id": "ae4c97de",
   "metadata": {},
   "outputs": [
    {
     "data": {
      "image/png": "[encoded data removed]",
      "text/plain": [
       "<Figure size 640x480 with 1 Axes>"
      ]
     },
     "metadata": {},
     "output_type": "display_data"
    }
   ],
   "source": [
    "x = np.linspace(0, 1, 1000)\n",
    "\n",
    "plt.hist(\n",
    "    mus,\n",
    "    bins=bins,\n",
    "    density=True,\n",
    ")\n",
    "plt.plot(\n",
    "    x,\n",
    "    2 * x,\n",
    ")\n",
    "plt.xlabel(\"Propagation direction\")\n",
    "plt.ylabel(\"Probability density\")\n",
    "plt.show()"
   ]
  },
  {
   "cell_type": "code",
   "execution_count": 9,
   "id": "41daa433",
   "metadata": {},
   "outputs": [
    {
     "data": {
      "image/png": "[encoded data removed]",
      "text/plain": [
       "<Figure size 640x480 with 1 Axes>"
      ]
     },
     "metadata": {},
     "output_type": "display_data"
    }
   ],
   "source": [
    "thetas = np.linspace(\n",
    "    0,\n",
    "    np.pi / 2,\n",
    "    1000,\n",
    ")\n",
    "\n",
    "plt.hist(\n",
    "    np.arccos(mus),\n",
    "    bins=bins,\n",
    "    density=True,\n",
    ")\n",
    "plt.plot(\n",
    "    thetas,\n",
    "    np.sin(2 * thetas),\n",
    ")\n",
    "plt.xlabel(\"Angle with normal (rad)\")\n",
    "plt.ylabel(\"Probability density\")\n",
    "plt.show()"
   ]
  },
  {
   "cell_type": "markdown",
   "id": "2f661592",
   "metadata": {},
   "source": [
    "## Custom Packet Source\n",
    "\n",
    "TARDIS allows for the user to input a custom function that generates energy packets instead of the basic blackbody source described here. See [Running TARDIS with a Custom Packet Source](../../io/optional/custom_source.ipynb) for more information."
   ]
  },
  {
   "cell_type": "markdown",
   "id": "efc2b03c",
   "metadata": {},
   "source": [
    "## Numba Implementation of Planck Function\n",
    "\n",
    "The remaining objective is to implement ```planck_function()``` using Numba and compare results to the non-Numba implementation. It is unclear a priori how many simulations should be run to give an accurate idea of what the average is. Here, the number of iterations for each time trial is chosen according to the process described in [section 1.3.2 of these notes](http://www.mit.edu/~kircher/sim.pdf#section.1.3). Plots of execution times are also included."
   ]
  },
  {
   "cell_type": "code",
   "execution_count": 10,
   "id": "eba811ec",
   "metadata": {},
   "outputs": [],
   "source": [
    "@numba.njit()\n",
    "def planck_function_numba(nu):\n",
    "    return (\n",
    "        8\n",
    "        * np.pi**2\n",
    "        * r_boundary_inner**2\n",
    "        * h\n",
    "        * nu**3\n",
    "        / (c2 * (np.exp(h * nu / (kB * temperature_inner)) - 1))\n",
    "    )\n",
    "\n",
    "\n",
    "@numba.njit(parallel=True)\n",
    "def planck_function_numba_parallel(nu):\n",
    "    return (\n",
    "        8\n",
    "        * np.pi**2\n",
    "        * r_boundary_inner**2\n",
    "        * h\n",
    "        * nu**3\n",
    "        / (c2 * (np.exp(h * nu / (kB * temperature_inner)) - 1))\n",
    "    )\n",
    "\n",
    "\n",
    "# _ = planck_function_numba(nus_planck)  # Force Numba compilation\n",
    "# _ = planck_function_numba_parallel(nus_planck)  # Force Numba compilation\n",
    "# Removed forced compilation per the suggestion of Isaac Smith"
   ]
  },
  {
   "cell_type": "markdown",
   "id": "29a5b09d",
   "metadata": {},
   "source": [
    "### Initial Pass of Time Trials\n",
    "\n",
    "Below is the first naive pass of simulations that will be used to calculate the number of remaining needed trials."
   ]
  },
  {
   "cell_type": "code",
   "execution_count": 11,
   "id": "e4793fd0",
   "metadata": {
    "scrolled": true
   },
   "outputs": [
    {
     "data": {
      "application/vnd.jupyter.widget-view+json": {
       "model_id": "0b3b645bf86c432c9a0f8da3abc6ed41",
       "version_major": 2,
       "version_minor": 0
      },
      "text/plain": [
       "  0%|          | 0/756 [00:00<?, ?it/s]"
      ]
     },
     "metadata": {},
     "output_type": "display_data"
    },
    {
     "data": {
      "text/html": [
       "<div>\n",
       "<style scoped>\n",
       "    .dataframe tbody tr th:only-of-type {\n",
       "        vertical-align: middle;\n",
       "    }\n",
       "\n",
       "    .dataframe tbody tr th {\n",
       "        vertical-align: top;\n",
       "    }\n",
       "\n",
       "    .dataframe thead th {\n",
       "        text-align: right;\n",
       "    }\n",
       "</style>\n",
       "<table border=\"1\" class=\"dataframe\">\n",
       "  <thead>\n",
       "    <tr style=\"text-align: right;\">\n",
       "      <th></th>\n",
       "      <th>func_name</th>\n",
       "      <th>freq_bins</th>\n",
       "      <th>exec_time</th>\n",
       "      <th>date</th>\n",
       "    </tr>\n",
       "  </thead>\n",
       "  <tbody>\n",
       "    <tr>\n",
       "      <th>0</th>\n",
       "      <td>planck_function</td>\n",
       "      <td>100</td>\n",
       "      <td>222622</td>\n",
       "      <td>2023-03-29 06:38:20.350046</td>\n",
       "    </tr>\n",
       "    <tr>\n",
       "      <th>1</th>\n",
       "      <td>planck_function</td>\n",
       "      <td>100</td>\n",
       "      <td>224468</td>\n",
       "      <td>2023-03-29 06:38:20.752727</td>\n",
       "    </tr>\n",
       "    <tr>\n",
       "      <th>2</th>\n",
       "      <td>planck_function</td>\n",
       "      <td>100</td>\n",
       "      <td>203538</td>\n",
       "      <td>2023-03-29 06:38:21.151950</td>\n",
       "    </tr>\n",
       "    <tr>\n",
       "      <th>3</th>\n",
       "      <td>planck_function</td>\n",
       "      <td>100</td>\n",
       "      <td>195670</td>\n",
       "      <td>2023-03-29 06:38:21.550973</td>\n",
       "    </tr>\n",
       "    <tr>\n",
       "      <th>4</th>\n",
       "      <td>planck_function</td>\n",
       "      <td>100</td>\n",
       "      <td>192395</td>\n",
       "      <td>2023-03-29 06:38:21.951037</td>\n",
       "    </tr>\n",
       "    <tr>\n",
       "      <th>...</th>\n",
       "      <td>...</td>\n",
       "      <td>...</td>\n",
       "      <td>...</td>\n",
       "      <td>...</td>\n",
       "    </tr>\n",
       "    <tr>\n",
       "      <th>751</th>\n",
       "      <td>planck_function_numba_parallel</td>\n",
       "      <td>500000000</td>\n",
       "      <td>351110703</td>\n",
       "      <td>2023-03-29 06:53:29.987890</td>\n",
       "    </tr>\n",
       "    <tr>\n",
       "      <th>752</th>\n",
       "      <td>planck_function_numba_parallel</td>\n",
       "      <td>500000000</td>\n",
       "      <td>350311150</td>\n",
       "      <td>2023-03-29 06:53:32.394299</td>\n",
       "    </tr>\n",
       "    <tr>\n",
       "      <th>753</th>\n",
       "      <td>planck_function_numba_parallel</td>\n",
       "      <td>500000000</td>\n",
       "      <td>352557915</td>\n",
       "      <td>2023-03-29 06:53:34.783347</td>\n",
       "    </tr>\n",
       "    <tr>\n",
       "      <th>754</th>\n",
       "      <td>planck_function_numba_parallel</td>\n",
       "      <td>500000000</td>\n",
       "      <td>350074100</td>\n",
       "      <td>2023-03-29 06:53:37.149819</td>\n",
       "    </tr>\n",
       "    <tr>\n",
       "      <th>755</th>\n",
       "      <td>planck_function_numba_parallel</td>\n",
       "      <td>500000000</td>\n",
       "      <td>350736965</td>\n",
       "      <td>2023-03-29 06:53:39.536221</td>\n",
       "    </tr>\n",
       "  </tbody>\n",
       "</table>\n",
       "<p>756 rows × 4 columns</p>\n",
       "</div>"
      ],
      "text/plain": [
       "                          func_name  freq_bins  exec_time  \\\n",
       "0                   planck_function        100     222622   \n",
       "1                   planck_function        100     224468   \n",
       "2                   planck_function        100     203538   \n",
       "3                   planck_function        100     195670   \n",
       "4                   planck_function        100     192395   \n",
       "..                              ...        ...        ...   \n",
       "751  planck_function_numba_parallel  500000000  351110703   \n",
       "752  planck_function_numba_parallel  500000000  350311150   \n",
       "753  planck_function_numba_parallel  500000000  352557915   \n",
       "754  planck_function_numba_parallel  500000000  350074100   \n",
       "755  planck_function_numba_parallel  500000000  350736965   \n",
       "\n",
       "                          date  \n",
       "0   2023-03-29 06:38:20.350046  \n",
       "1   2023-03-29 06:38:20.752727  \n",
       "2   2023-03-29 06:38:21.151950  \n",
       "3   2023-03-29 06:38:21.550973  \n",
       "4   2023-03-29 06:38:21.951037  \n",
       "..                         ...  \n",
       "751 2023-03-29 06:53:29.987890  \n",
       "752 2023-03-29 06:53:32.394299  \n",
       "753 2023-03-29 06:53:34.783347  \n",
       "754 2023-03-29 06:53:37.149819  \n",
       "755 2023-03-29 06:53:39.536221  \n",
       "\n",
       "[756 rows x 4 columns]"
      ]
     },
     "execution_count": 11,
     "metadata": {},
     "output_type": "execute_result"
    }
   ],
   "source": [
    "freq_bins = tuple(\n",
    "    itertools.chain.from_iterable(\n",
    "        ((1 * 10**e, 2 * 10**e, 5 * 10**e) for e in range(2, 10, 2))\n",
    "    )\n",
    ")\n",
    "# The prompt only asked for 100, 200, and 500, but seeing how performance\n",
    "# grows for more frequency bins can possibly be informative.\n",
    "\n",
    "function_names = (\n",
    "    \"planck_function\",\n",
    "    \"planck_function_numba\",\n",
    "    \"planck_function_numba_parallel\",\n",
    ")\n",
    "\n",
    "functions = (\n",
    "    planck_function,\n",
    "    planck_function_numba,\n",
    "    planck_function_numba_parallel,\n",
    ")\n",
    "\n",
    "funcdict = {\n",
    "    funcname: func for (funcname, func) in zip(function_names, functions)\n",
    "}\n",
    "\n",
    "N_initial = 20\n",
    "\n",
    "raw_time_data_columns = (\n",
    "    \"func_name\",\n",
    "    \"freq_bins\",\n",
    "    \"exec_time\",\n",
    "    \"date\",\n",
    ")\n",
    "raw_time_data = pd.DataFrame(columns=raw_time_data_columns)\n",
    "raw_time_data[raw_time_data_columns[0]] = raw_time_data[\n",
    "    raw_time_data_columns[0]\n",
    "].astype(\"category\")\n",
    "raw_time_data[raw_time_data_columns[1]] = pd.to_numeric(\n",
    "    raw_time_data[raw_time_data_columns[1]], downcast=\"integer\"\n",
    ")\n",
    "raw_time_data[raw_time_data_columns[2]] = pd.to_numeric(\n",
    "    raw_time_data[raw_time_data_columns[2]], downcast=\"integer\"\n",
    ")\n",
    "raw_time_data[raw_time_data_columns[3]] = pd.to_datetime(\n",
    "    raw_time_data[raw_time_data_columns[3]]\n",
    ")\n",
    "\n",
    "\n",
    "def time_trial(func, func_name, freq, args=None):\n",
    "    nus_planck = np.linspace(\n",
    "        min(nus),\n",
    "        max(nus),\n",
    "        freq,\n",
    "    )\n",
    "\n",
    "    if args is None:\n",
    "        start_time = time.perf_counter_ns()\n",
    "        _ = func(nus_planck)\n",
    "        stop_time = time.perf_counter_ns()\n",
    "    else:\n",
    "        start_time = time.perf_counter_ns()\n",
    "        _ = func(nus_planck, *args)\n",
    "        stop_time = time.perf_counter_ns()\n",
    "    timestamp = pd.Timestamp.now()\n",
    "    elapsed = stop_time - start_time\n",
    "    tempdf = pd.DataFrame(\n",
    "        [\n",
    "            [\n",
    "                func_name,\n",
    "                freq,\n",
    "                elapsed,\n",
    "                timestamp,\n",
    "            ],\n",
    "        ],\n",
    "        columns=raw_time_data_columns,\n",
    "    )\n",
    "\n",
    "    return tempdf\n",
    "\n",
    "\n",
    "total_iterations = len(freq_bins) * len(functions) * (1 + N_initial)\n",
    "\n",
    "for (func, func_name), freq, n in tqdm.tqdm(\n",
    "    itertools.product(\n",
    "        zip(\n",
    "            functions,\n",
    "            function_names,\n",
    "        ),\n",
    "        freq_bins,\n",
    "        range(1 + N_initial),\n",
    "    ),\n",
    "    total=total_iterations,\n",
    "):\n",
    "    tempdf = time_trial(\n",
    "        func,\n",
    "        func_name,\n",
    "        freq,\n",
    "    )\n",
    "    raw_time_data = pd.concat(\n",
    "        [\n",
    "            raw_time_data,\n",
    "            tempdf,\n",
    "        ],\n",
    "        ignore_index=True,\n",
    "    )\n",
    "\n",
    "\n",
    "raw_time_data"
   ]
  },
  {
   "cell_type": "code",
   "execution_count": 12,
   "id": "08ef920e",
   "metadata": {},
   "outputs": [
    {
     "data": {
      "text/html": [
       "<div>\n",
       "<style scoped>\n",
       "    .dataframe tbody tr th:only-of-type {\n",
       "        vertical-align: middle;\n",
       "    }\n",
       "\n",
       "    .dataframe tbody tr th {\n",
       "        vertical-align: top;\n",
       "    }\n",
       "\n",
       "    .dataframe thead th {\n",
       "        text-align: right;\n",
       "    }\n",
       "</style>\n",
       "<table border=\"1\" class=\"dataframe\">\n",
       "  <thead>\n",
       "    <tr style=\"text-align: right;\">\n",
       "      <th></th>\n",
       "      <th>func_name</th>\n",
       "      <th>freq_bins</th>\n",
       "      <th>exec_time</th>\n",
       "      <th>date</th>\n",
       "    </tr>\n",
       "  </thead>\n",
       "  <tbody>\n",
       "    <tr>\n",
       "      <th>1</th>\n",
       "      <td>planck_function</td>\n",
       "      <td>100</td>\n",
       "      <td>224468</td>\n",
       "      <td>2023-03-29 06:38:20.752727</td>\n",
       "    </tr>\n",
       "    <tr>\n",
       "      <th>2</th>\n",
       "      <td>planck_function</td>\n",
       "      <td>100</td>\n",
       "      <td>203538</td>\n",
       "      <td>2023-03-29 06:38:21.151950</td>\n",
       "    </tr>\n",
       "    <tr>\n",
       "      <th>3</th>\n",
       "      <td>planck_function</td>\n",
       "      <td>100</td>\n",
       "      <td>195670</td>\n",
       "      <td>2023-03-29 06:38:21.550973</td>\n",
       "    </tr>\n",
       "    <tr>\n",
       "      <th>4</th>\n",
       "      <td>planck_function</td>\n",
       "      <td>100</td>\n",
       "      <td>192395</td>\n",
       "      <td>2023-03-29 06:38:21.951037</td>\n",
       "    </tr>\n",
       "    <tr>\n",
       "      <th>5</th>\n",
       "      <td>planck_function</td>\n",
       "      <td>100</td>\n",
       "      <td>196778</td>\n",
       "      <td>2023-03-29 06:38:22.348039</td>\n",
       "    </tr>\n",
       "    <tr>\n",
       "      <th>...</th>\n",
       "      <td>...</td>\n",
       "      <td>...</td>\n",
       "      <td>...</td>\n",
       "      <td>...</td>\n",
       "    </tr>\n",
       "    <tr>\n",
       "      <th>751</th>\n",
       "      <td>planck_function_numba_parallel</td>\n",
       "      <td>500000000</td>\n",
       "      <td>351110703</td>\n",
       "      <td>2023-03-29 06:53:29.987890</td>\n",
       "    </tr>\n",
       "    <tr>\n",
       "      <th>752</th>\n",
       "      <td>planck_function_numba_parallel</td>\n",
       "      <td>500000000</td>\n",
       "      <td>350311150</td>\n",
       "      <td>2023-03-29 06:53:32.394299</td>\n",
       "    </tr>\n",
       "    <tr>\n",
       "      <th>753</th>\n",
       "      <td>planck_function_numba_parallel</td>\n",
       "      <td>500000000</td>\n",
       "      <td>352557915</td>\n",
       "      <td>2023-03-29 06:53:34.783347</td>\n",
       "    </tr>\n",
       "    <tr>\n",
       "      <th>754</th>\n",
       "      <td>planck_function_numba_parallel</td>\n",
       "      <td>500000000</td>\n",
       "      <td>350074100</td>\n",
       "      <td>2023-03-29 06:53:37.149819</td>\n",
       "    </tr>\n",
       "    <tr>\n",
       "      <th>755</th>\n",
       "      <td>planck_function_numba_parallel</td>\n",
       "      <td>500000000</td>\n",
       "      <td>350736965</td>\n",
       "      <td>2023-03-29 06:53:39.536221</td>\n",
       "    </tr>\n",
       "  </tbody>\n",
       "</table>\n",
       "<p>720 rows × 4 columns</p>\n",
       "</div>"
      ],
      "text/plain": [
       "                          func_name  freq_bins  exec_time  \\\n",
       "1                   planck_function        100     224468   \n",
       "2                   planck_function        100     203538   \n",
       "3                   planck_function        100     195670   \n",
       "4                   planck_function        100     192395   \n",
       "5                   planck_function        100     196778   \n",
       "..                              ...        ...        ...   \n",
       "751  planck_function_numba_parallel  500000000  351110703   \n",
       "752  planck_function_numba_parallel  500000000  350311150   \n",
       "753  planck_function_numba_parallel  500000000  352557915   \n",
       "754  planck_function_numba_parallel  500000000  350074100   \n",
       "755  planck_function_numba_parallel  500000000  350736965   \n",
       "\n",
       "                          date  \n",
       "1   2023-03-29 06:38:20.752727  \n",
       "2   2023-03-29 06:38:21.151950  \n",
       "3   2023-03-29 06:38:21.550973  \n",
       "4   2023-03-29 06:38:21.951037  \n",
       "5   2023-03-29 06:38:22.348039  \n",
       "..                         ...  \n",
       "751 2023-03-29 06:53:29.987890  \n",
       "752 2023-03-29 06:53:32.394299  \n",
       "753 2023-03-29 06:53:34.783347  \n",
       "754 2023-03-29 06:53:37.149819  \n",
       "755 2023-03-29 06:53:39.536221  \n",
       "\n",
       "[720 rows x 4 columns]"
      ]
     },
     "execution_count": 12,
     "metadata": {},
     "output_type": "execute_result"
    }
   ],
   "source": [
    "groupby = raw_time_data.groupby(\n",
    "    [\n",
    "        \"func_name\",\n",
    "        \"freq_bins\",\n",
    "    ]\n",
    ")\n",
    "first_indices = groupby.apply(lambda df: df[\"date\"].idxmin())\n",
    "raw_time_data_dropfirst = raw_time_data.drop(first_indices)\n",
    "\n",
    "groupby_dropfirst = raw_time_data_dropfirst.groupby(\n",
    "    [\n",
    "        \"func_name\",\n",
    "        \"freq_bins\",\n",
    "    ]\n",
    ")\n",
    "\n",
    "raw_time_data_dropfirst"
   ]
  },
  {
   "cell_type": "code",
   "execution_count": 13,
   "id": "04878fd6",
   "metadata": {},
   "outputs": [
    {
     "data": {
      "text/html": [
       "<div>\n",
       "<style scoped>\n",
       "    .dataframe tbody tr th:only-of-type {\n",
       "        vertical-align: middle;\n",
       "    }\n",
       "\n",
       "    .dataframe tbody tr th {\n",
       "        vertical-align: top;\n",
       "    }\n",
       "\n",
       "    .dataframe thead th {\n",
       "        text-align: right;\n",
       "    }\n",
       "</style>\n",
       "<table border=\"1\" class=\"dataframe\">\n",
       "  <thead>\n",
       "    <tr style=\"text-align: right;\">\n",
       "      <th></th>\n",
       "      <th></th>\n",
       "      <th>mean</th>\n",
       "      <th>std</th>\n",
       "      <th>mean_dropfirst</th>\n",
       "      <th>std_dropfirst</th>\n",
       "      <th>first_exec</th>\n",
       "    </tr>\n",
       "    <tr>\n",
       "      <th>func_name</th>\n",
       "      <th>freq_bins</th>\n",
       "      <th></th>\n",
       "      <th></th>\n",
       "      <th></th>\n",
       "      <th></th>\n",
       "      <th></th>\n",
       "    </tr>\n",
       "  </thead>\n",
       "  <tbody>\n",
       "    <tr>\n",
       "      <th rowspan=\"12\" valign=\"top\">planck_function</th>\n",
       "      <th>100</th>\n",
       "      <td>2.057815e+05</td>\n",
       "      <td>1.193919e+04</td>\n",
       "      <td>2.049395e+05</td>\n",
       "      <td>1.159197e+04</td>\n",
       "      <td>222622</td>\n",
       "    </tr>\n",
       "    <tr>\n",
       "      <th>200</th>\n",
       "      <td>2.061765e+05</td>\n",
       "      <td>2.752629e+03</td>\n",
       "      <td>2.060570e+05</td>\n",
       "      <td>2.767756e+03</td>\n",
       "      <td>208565</td>\n",
       "    </tr>\n",
       "    <tr>\n",
       "      <th>500</th>\n",
       "      <td>2.117680e+05</td>\n",
       "      <td>4.946061e+03</td>\n",
       "      <td>2.118568e+05</td>\n",
       "      <td>5.057329e+03</td>\n",
       "      <td>209991</td>\n",
       "    </tr>\n",
       "    <tr>\n",
       "      <th>10000</th>\n",
       "      <td>3.375726e+05</td>\n",
       "      <td>7.440708e+03</td>\n",
       "      <td>3.368467e+05</td>\n",
       "      <td>6.828572e+03</td>\n",
       "      <td>352091</td>\n",
       "    </tr>\n",
       "    <tr>\n",
       "      <th>20000</th>\n",
       "      <td>4.725044e+05</td>\n",
       "      <td>1.153796e+04</td>\n",
       "      <td>4.728583e+05</td>\n",
       "      <td>1.172016e+04</td>\n",
       "      <td>465426</td>\n",
       "    </tr>\n",
       "    <tr>\n",
       "      <th>50000</th>\n",
       "      <td>8.949456e+05</td>\n",
       "      <td>1.699222e+04</td>\n",
       "      <td>8.946944e+05</td>\n",
       "      <td>1.739362e+04</td>\n",
       "      <td>899968</td>\n",
       "    </tr>\n",
       "    <tr>\n",
       "      <th>1000000</th>\n",
       "      <td>1.513961e+07</td>\n",
       "      <td>9.125089e+04</td>\n",
       "      <td>1.512159e+07</td>\n",
       "      <td>3.986264e+04</td>\n",
       "      <td>15499959</td>\n",
       "    </tr>\n",
       "    <tr>\n",
       "      <th>2000000</th>\n",
       "      <td>3.174214e+07</td>\n",
       "      <td>6.039641e+05</td>\n",
       "      <td>3.165759e+07</td>\n",
       "      <td>4.753624e+05</td>\n",
       "      <td>33433020</td>\n",
       "    </tr>\n",
       "    <tr>\n",
       "      <th>5000000</th>\n",
       "      <td>1.030567e+08</td>\n",
       "      <td>1.645863e+05</td>\n",
       "      <td>1.030543e+08</td>\n",
       "      <td>1.684757e+05</td>\n",
       "      <td>103105292</td>\n",
       "    </tr>\n",
       "    <tr>\n",
       "      <th>100000000</th>\n",
       "      <td>2.061279e+09</td>\n",
       "      <td>1.158704e+06</td>\n",
       "      <td>2.061210e+09</td>\n",
       "      <td>1.144250e+06</td>\n",
       "      <td>2062650409</td>\n",
       "    </tr>\n",
       "    <tr>\n",
       "      <th>200000000</th>\n",
       "      <td>4.126177e+09</td>\n",
       "      <td>2.908853e+06</td>\n",
       "      <td>4.126129e+09</td>\n",
       "      <td>2.975728e+06</td>\n",
       "      <td>4127145545</td>\n",
       "    </tr>\n",
       "    <tr>\n",
       "      <th>500000000</th>\n",
       "      <td>1.032047e+10</td>\n",
       "      <td>5.299682e+06</td>\n",
       "      <td>1.032056e+10</td>\n",
       "      <td>5.421423e+06</td>\n",
       "      <td>10318697731</td>\n",
       "    </tr>\n",
       "    <tr>\n",
       "      <th rowspan=\"12\" valign=\"top\">planck_function_numba</th>\n",
       "      <th>100</th>\n",
       "      <td>1.146533e+07</td>\n",
       "      <td>5.252460e+07</td>\n",
       "      <td>3.519550e+03</td>\n",
       "      <td>3.500823e+02</td>\n",
       "      <td>240701492</td>\n",
       "    </tr>\n",
       "    <tr>\n",
       "      <th>200</th>\n",
       "      <td>4.599333e+03</td>\n",
       "      <td>5.951761e+02</td>\n",
       "      <td>4.607500e+03</td>\n",
       "      <td>6.094295e+02</td>\n",
       "      <td>4436</td>\n",
       "    </tr>\n",
       "    <tr>\n",
       "      <th>500</th>\n",
       "      <td>7.405762e+03</td>\n",
       "      <td>3.786727e+02</td>\n",
       "      <td>7.408150e+03</td>\n",
       "      <td>3.883477e+02</td>\n",
       "      <td>7358</td>\n",
       "    </tr>\n",
       "    <tr>\n",
       "      <th>10000</th>\n",
       "      <td>5.120752e+04</td>\n",
       "      <td>1.522160e+03</td>\n",
       "      <td>5.122750e+04</td>\n",
       "      <td>1.558876e+03</td>\n",
       "      <td>50808</td>\n",
       "    </tr>\n",
       "    <tr>\n",
       "      <th>20000</th>\n",
       "      <td>9.403810e+04</td>\n",
       "      <td>4.959987e+02</td>\n",
       "      <td>9.403440e+04</td>\n",
       "      <td>5.085872e+02</td>\n",
       "      <td>94112</td>\n",
       "    </tr>\n",
       "    <tr>\n",
       "      <th>50000</th>\n",
       "      <td>2.134189e+05</td>\n",
       "      <td>1.273319e+04</td>\n",
       "      <td>2.112450e+05</td>\n",
       "      <td>8.136411e+03</td>\n",
       "      <td>256897</td>\n",
       "    </tr>\n",
       "    <tr>\n",
       "      <th>1000000</th>\n",
       "      <td>3.742698e+06</td>\n",
       "      <td>3.034712e+05</td>\n",
       "      <td>3.677144e+06</td>\n",
       "      <td>4.412496e+04</td>\n",
       "      <td>5053787</td>\n",
       "    </tr>\n",
       "    <tr>\n",
       "      <th>2000000</th>\n",
       "      <td>9.941855e+06</td>\n",
       "      <td>4.698556e+04</td>\n",
       "      <td>9.937698e+06</td>\n",
       "      <td>4.406747e+04</td>\n",
       "      <td>10024984</td>\n",
       "    </tr>\n",
       "    <tr>\n",
       "      <th>5000000</th>\n",
       "      <td>2.461480e+07</td>\n",
       "      <td>6.691704e+04</td>\n",
       "      <td>2.460975e+07</td>\n",
       "      <td>6.442829e+04</td>\n",
       "      <td>24715691</td>\n",
       "    </tr>\n",
       "    <tr>\n",
       "      <th>100000000</th>\n",
       "      <td>4.944851e+08</td>\n",
       "      <td>1.319232e+06</td>\n",
       "      <td>4.944484e+08</td>\n",
       "      <td>1.342459e+06</td>\n",
       "      <td>495219129</td>\n",
       "    </tr>\n",
       "    <tr>\n",
       "      <th>200000000</th>\n",
       "      <td>9.868285e+08</td>\n",
       "      <td>2.787248e+06</td>\n",
       "      <td>9.868334e+08</td>\n",
       "      <td>2.859564e+06</td>\n",
       "      <td>986730575</td>\n",
       "    </tr>\n",
       "    <tr>\n",
       "      <th>500000000</th>\n",
       "      <td>2.470755e+09</td>\n",
       "      <td>6.953746e+06</td>\n",
       "      <td>2.471026e+09</td>\n",
       "      <td>7.019313e+06</td>\n",
       "      <td>2465325996</td>\n",
       "    </tr>\n",
       "    <tr>\n",
       "      <th rowspan=\"12\" valign=\"top\">planck_function_numba_parallel</th>\n",
       "      <th>100</th>\n",
       "      <td>1.169628e+07</td>\n",
       "      <td>5.077850e+07</td>\n",
       "      <td>6.177648e+05</td>\n",
       "      <td>1.051340e+06</td>\n",
       "      <td>233266677</td>\n",
       "    </tr>\n",
       "    <tr>\n",
       "      <th>200</th>\n",
       "      <td>6.906477e+05</td>\n",
       "      <td>1.085183e+06</td>\n",
       "      <td>6.196961e+05</td>\n",
       "      <td>1.062225e+06</td>\n",
       "      <td>2109679</td>\n",
       "    </tr>\n",
       "    <tr>\n",
       "      <th>500</th>\n",
       "      <td>1.166619e+06</td>\n",
       "      <td>1.698389e+06</td>\n",
       "      <td>1.219773e+06</td>\n",
       "      <td>1.724496e+06</td>\n",
       "      <td>103523</td>\n",
       "    </tr>\n",
       "    <tr>\n",
       "      <th>10000</th>\n",
       "      <td>4.066735e+05</td>\n",
       "      <td>8.342620e+05</td>\n",
       "      <td>2.274732e+05</td>\n",
       "      <td>1.508768e+05</td>\n",
       "      <td>3990679</td>\n",
       "    </tr>\n",
       "    <tr>\n",
       "      <th>20000</th>\n",
       "      <td>3.666201e+05</td>\n",
       "      <td>6.461958e+05</td>\n",
       "      <td>3.743795e+05</td>\n",
       "      <td>6.619784e+05</td>\n",
       "      <td>211433</td>\n",
       "    </tr>\n",
       "    <tr>\n",
       "      <th>50000</th>\n",
       "      <td>7.203004e+05</td>\n",
       "      <td>1.484387e+06</td>\n",
       "      <td>7.454136e+05</td>\n",
       "      <td>1.518365e+06</td>\n",
       "      <td>218036</td>\n",
       "    </tr>\n",
       "    <tr>\n",
       "      <th>1000000</th>\n",
       "      <td>9.427432e+05</td>\n",
       "      <td>1.018737e+06</td>\n",
       "      <td>9.529657e+05</td>\n",
       "      <td>1.044096e+06</td>\n",
       "      <td>738294</td>\n",
       "    </tr>\n",
       "    <tr>\n",
       "      <th>2000000</th>\n",
       "      <td>1.677242e+06</td>\n",
       "      <td>1.471231e+06</td>\n",
       "      <td>1.692132e+06</td>\n",
       "      <td>1.507826e+06</td>\n",
       "      <td>1379427</td>\n",
       "    </tr>\n",
       "    <tr>\n",
       "      <th>5000000</th>\n",
       "      <td>3.710027e+06</td>\n",
       "      <td>1.476108e+06</td>\n",
       "      <td>3.728575e+06</td>\n",
       "      <td>1.511942e+06</td>\n",
       "      <td>3339052</td>\n",
       "    </tr>\n",
       "    <tr>\n",
       "      <th>100000000</th>\n",
       "      <td>6.724462e+07</td>\n",
       "      <td>3.011120e+05</td>\n",
       "      <td>6.723841e+07</td>\n",
       "      <td>3.075544e+05</td>\n",
       "      <td>67368693</td>\n",
       "    </tr>\n",
       "    <tr>\n",
       "      <th>200000000</th>\n",
       "      <td>1.370732e+08</td>\n",
       "      <td>2.189809e+06</td>\n",
       "      <td>1.371302e+08</td>\n",
       "      <td>2.230634e+06</td>\n",
       "      <td>135932412</td>\n",
       "    </tr>\n",
       "    <tr>\n",
       "      <th>500000000</th>\n",
       "      <td>3.534855e+08</td>\n",
       "      <td>1.039317e+07</td>\n",
       "      <td>3.535223e+08</td>\n",
       "      <td>1.066176e+07</td>\n",
       "      <td>352749628</td>\n",
       "    </tr>\n",
       "  </tbody>\n",
       "</table>\n",
       "</div>"
      ],
      "text/plain": [
       "                                                  mean           std  \\\n",
       "func_name                      freq_bins                               \n",
       "planck_function                100        2.057815e+05  1.193919e+04   \n",
       "                               200        2.061765e+05  2.752629e+03   \n",
       "                               500        2.117680e+05  4.946061e+03   \n",
       "                               10000      3.375726e+05  7.440708e+03   \n",
       "                               20000      4.725044e+05  1.153796e+04   \n",
       "                               50000      8.949456e+05  1.699222e+04   \n",
       "                               1000000    1.513961e+07  9.125089e+04   \n",
       "                               2000000    3.174214e+07  6.039641e+05   \n",
       "                               5000000    1.030567e+08  1.645863e+05   \n",
       "                               100000000  2.061279e+09  1.158704e+06   \n",
       "                               200000000  4.126177e+09  2.908853e+06   \n",
       "                               500000000  1.032047e+10  5.299682e+06   \n",
       "planck_function_numba          100        1.146533e+07  5.252460e+07   \n",
       "                               200        4.599333e+03  5.951761e+02   \n",
       "                               500        7.405762e+03  3.786727e+02   \n",
       "                               10000      5.120752e+04  1.522160e+03   \n",
       "                               20000      9.403810e+04  4.959987e+02   \n",
       "                               50000      2.134189e+05  1.273319e+04   \n",
       "                               1000000    3.742698e+06  3.034712e+05   \n",
       "                               2000000    9.941855e+06  4.698556e+04   \n",
       "                               5000000    2.461480e+07  6.691704e+04   \n",
       "                               100000000  4.944851e+08  1.319232e+06   \n",
       "                               200000000  9.868285e+08  2.787248e+06   \n",
       "                               500000000  2.470755e+09  6.953746e+06   \n",
       "planck_function_numba_parallel 100        1.169628e+07  5.077850e+07   \n",
       "                               200        6.906477e+05  1.085183e+06   \n",
       "                               500        1.166619e+06  1.698389e+06   \n",
       "                               10000      4.066735e+05  8.342620e+05   \n",
       "                               20000      3.666201e+05  6.461958e+05   \n",
       "                               50000      7.203004e+05  1.484387e+06   \n",
       "                               1000000    9.427432e+05  1.018737e+06   \n",
       "                               2000000    1.677242e+06  1.471231e+06   \n",
       "                               5000000    3.710027e+06  1.476108e+06   \n",
       "                               100000000  6.724462e+07  3.011120e+05   \n",
       "                               200000000  1.370732e+08  2.189809e+06   \n",
       "                               500000000  3.534855e+08  1.039317e+07   \n",
       "\n",
       "                                          mean_dropfirst  std_dropfirst  \\\n",
       "func_name                      freq_bins                                  \n",
       "planck_function                100          2.049395e+05   1.159197e+04   \n",
       "                               200          2.060570e+05   2.767756e+03   \n",
       "                               500          2.118568e+05   5.057329e+03   \n",
       "                               10000        3.368467e+05   6.828572e+03   \n",
       "                               20000        4.728583e+05   1.172016e+04   \n",
       "                               50000        8.946944e+05   1.739362e+04   \n",
       "                               1000000      1.512159e+07   3.986264e+04   \n",
       "                               2000000      3.165759e+07   4.753624e+05   \n",
       "                               5000000      1.030543e+08   1.684757e+05   \n",
       "                               100000000    2.061210e+09   1.144250e+06   \n",
       "                               200000000    4.126129e+09   2.975728e+06   \n",
       "                               500000000    1.032056e+10   5.421423e+06   \n",
       "planck_function_numba          100          3.519550e+03   3.500823e+02   \n",
       "                               200          4.607500e+03   6.094295e+02   \n",
       "                               500          7.408150e+03   3.883477e+02   \n",
       "                               10000        5.122750e+04   1.558876e+03   \n",
       "                               20000        9.403440e+04   5.085872e+02   \n",
       "                               50000        2.112450e+05   8.136411e+03   \n",
       "                               1000000      3.677144e+06   4.412496e+04   \n",
       "                               2000000      9.937698e+06   4.406747e+04   \n",
       "                               5000000      2.460975e+07   6.442829e+04   \n",
       "                               100000000    4.944484e+08   1.342459e+06   \n",
       "                               200000000    9.868334e+08   2.859564e+06   \n",
       "                               500000000    2.471026e+09   7.019313e+06   \n",
       "planck_function_numba_parallel 100          6.177648e+05   1.051340e+06   \n",
       "                               200          6.196961e+05   1.062225e+06   \n",
       "                               500          1.219773e+06   1.724496e+06   \n",
       "                               10000        2.274732e+05   1.508768e+05   \n",
       "                               20000        3.743795e+05   6.619784e+05   \n",
       "                               50000        7.454136e+05   1.518365e+06   \n",
       "                               1000000      9.529657e+05   1.044096e+06   \n",
       "                               2000000      1.692132e+06   1.507826e+06   \n",
       "                               5000000      3.728575e+06   1.511942e+06   \n",
       "                               100000000    6.723841e+07   3.075544e+05   \n",
       "                               200000000    1.371302e+08   2.230634e+06   \n",
       "                               500000000    3.535223e+08   1.066176e+07   \n",
       "\n",
       "                                           first_exec  \n",
       "func_name                      freq_bins               \n",
       "planck_function                100             222622  \n",
       "                               200             208565  \n",
       "                               500             209991  \n",
       "                               10000           352091  \n",
       "                               20000           465426  \n",
       "                               50000           899968  \n",
       "                               1000000       15499959  \n",
       "                               2000000       33433020  \n",
       "                               5000000      103105292  \n",
       "                               100000000   2062650409  \n",
       "                               200000000   4127145545  \n",
       "                               500000000  10318697731  \n",
       "planck_function_numba          100          240701492  \n",
       "                               200               4436  \n",
       "                               500               7358  \n",
       "                               10000            50808  \n",
       "                               20000            94112  \n",
       "                               50000           256897  \n",
       "                               1000000        5053787  \n",
       "                               2000000       10024984  \n",
       "                               5000000       24715691  \n",
       "                               100000000    495219129  \n",
       "                               200000000    986730575  \n",
       "                               500000000   2465325996  \n",
       "planck_function_numba_parallel 100          233266677  \n",
       "                               200            2109679  \n",
       "                               500             103523  \n",
       "                               10000          3990679  \n",
       "                               20000           211433  \n",
       "                               50000           218036  \n",
       "                               1000000         738294  \n",
       "                               2000000        1379427  \n",
       "                               5000000        3339052  \n",
       "                               100000000     67368693  \n",
       "                               200000000    135932412  \n",
       "                               500000000    352749628  "
      ]
     },
     "execution_count": 13,
     "metadata": {},
     "output_type": "execute_result"
    }
   ],
   "source": [
    "time_data_estimators = pd.concat(\n",
    "    [\n",
    "        groupby.mean().rename(columns={raw_time_data.columns[2]: \"mean\"}),\n",
    "        groupby.std().rename(columns={raw_time_data.columns[2]: \"std\"}),\n",
    "        groupby_dropfirst.mean().rename(\n",
    "            columns={raw_time_data.columns[2]: \"mean_dropfirst\"}\n",
    "        ),\n",
    "        groupby_dropfirst.std().rename(\n",
    "            columns={raw_time_data.columns[2]: \"std_dropfirst\"}\n",
    "        ),\n",
    "        groupby.apply(\n",
    "            lambda df: df.loc[df[\"date\"].idxmin()][\"exec_time\"]\n",
    "        ).rename(\"first_exec\"),\n",
    "    ],\n",
    "    axis=1,\n",
    ")\n",
    "\n",
    "time_data_estimators"
   ]
  },
  {
   "cell_type": "markdown",
   "id": "a26c03d9",
   "metadata": {},
   "source": [
    "### Calculating Sample Size\n",
    "\n",
    "Below, we use the formula on [page 8 of these notes](www.mit.edu/~kircher/sim.pdf#section.1.2) to calculate how many more samples we need to collect to be confident that $\\mathbb P \\left ( \\left | \\bar \\theta_n - \\theta \\right | \\leq \\epsilon \\right ) \\geq 1 - \\alpha$ where $\\theta$ is the true theoretical mean and $\\bar \\theta_n$ is our Monte Carlo estimator. \n",
    "\n",
    "The first iteration of each trial is when the JIT happens, so the execution distribution is not the same as the distribution for subsequent iterations of the same type. Therefore, since our formula includes an i.i.d. assumption, we calculate the number of further iterations excluding the first one. \n",
    "\n",
    "For practical purposes, we also set a maximum iteration count."
   ]
  },
  {
   "cell_type": "code",
   "execution_count": 14,
   "id": "6e3afccf",
   "metadata": {},
   "outputs": [
    {
     "data": {
      "text/html": [
       "<div>\n",
       "<style scoped>\n",
       "    .dataframe tbody tr th:only-of-type {\n",
       "        vertical-align: middle;\n",
       "    }\n",
       "\n",
       "    .dataframe tbody tr th {\n",
       "        vertical-align: top;\n",
       "    }\n",
       "\n",
       "    .dataframe thead th {\n",
       "        text-align: right;\n",
       "    }\n",
       "</style>\n",
       "<table border=\"1\" class=\"dataframe\">\n",
       "  <thead>\n",
       "    <tr style=\"text-align: right;\">\n",
       "      <th></th>\n",
       "      <th></th>\n",
       "      <th>mean</th>\n",
       "      <th>std</th>\n",
       "      <th>mean_dropfirst</th>\n",
       "      <th>std_dropfirst</th>\n",
       "      <th>first_exec</th>\n",
       "      <th>N_montecarlo</th>\n",
       "    </tr>\n",
       "    <tr>\n",
       "      <th>func_name</th>\n",
       "      <th>freq_bins</th>\n",
       "      <th></th>\n",
       "      <th></th>\n",
       "      <th></th>\n",
       "      <th></th>\n",
       "      <th></th>\n",
       "      <th></th>\n",
       "    </tr>\n",
       "  </thead>\n",
       "  <tbody>\n",
       "    <tr>\n",
       "      <th rowspan=\"12\" valign=\"top\">planck_function</th>\n",
       "      <th>100</th>\n",
       "      <td>2.057815e+05</td>\n",
       "      <td>1.193919e+04</td>\n",
       "      <td>2.049395e+05</td>\n",
       "      <td>1.159197e+04</td>\n",
       "      <td>222622</td>\n",
       "      <td>1</td>\n",
       "    </tr>\n",
       "    <tr>\n",
       "      <th>200</th>\n",
       "      <td>2.061765e+05</td>\n",
       "      <td>2.752629e+03</td>\n",
       "      <td>2.060570e+05</td>\n",
       "      <td>2.767756e+03</td>\n",
       "      <td>208565</td>\n",
       "      <td>1</td>\n",
       "    </tr>\n",
       "    <tr>\n",
       "      <th>500</th>\n",
       "      <td>2.117680e+05</td>\n",
       "      <td>4.946061e+03</td>\n",
       "      <td>2.118568e+05</td>\n",
       "      <td>5.057329e+03</td>\n",
       "      <td>209991</td>\n",
       "      <td>1</td>\n",
       "    </tr>\n",
       "    <tr>\n",
       "      <th>10000</th>\n",
       "      <td>3.375726e+05</td>\n",
       "      <td>7.440708e+03</td>\n",
       "      <td>3.368467e+05</td>\n",
       "      <td>6.828572e+03</td>\n",
       "      <td>352091</td>\n",
       "      <td>1</td>\n",
       "    </tr>\n",
       "    <tr>\n",
       "      <th>20000</th>\n",
       "      <td>4.725044e+05</td>\n",
       "      <td>1.153796e+04</td>\n",
       "      <td>4.728583e+05</td>\n",
       "      <td>1.172016e+04</td>\n",
       "      <td>465426</td>\n",
       "      <td>1</td>\n",
       "    </tr>\n",
       "    <tr>\n",
       "      <th>50000</th>\n",
       "      <td>8.949456e+05</td>\n",
       "      <td>1.699222e+04</td>\n",
       "      <td>8.946944e+05</td>\n",
       "      <td>1.739362e+04</td>\n",
       "      <td>899968</td>\n",
       "      <td>1</td>\n",
       "    </tr>\n",
       "    <tr>\n",
       "      <th>1000000</th>\n",
       "      <td>1.513961e+07</td>\n",
       "      <td>9.125089e+04</td>\n",
       "      <td>1.512159e+07</td>\n",
       "      <td>3.986264e+04</td>\n",
       "      <td>15499959</td>\n",
       "      <td>2</td>\n",
       "    </tr>\n",
       "    <tr>\n",
       "      <th>2000000</th>\n",
       "      <td>3.174214e+07</td>\n",
       "      <td>6.039641e+05</td>\n",
       "      <td>3.165759e+07</td>\n",
       "      <td>4.753624e+05</td>\n",
       "      <td>33433020</td>\n",
       "      <td>149</td>\n",
       "    </tr>\n",
       "    <tr>\n",
       "      <th>5000000</th>\n",
       "      <td>1.030567e+08</td>\n",
       "      <td>1.645863e+05</td>\n",
       "      <td>1.030543e+08</td>\n",
       "      <td>1.684757e+05</td>\n",
       "      <td>103105292</td>\n",
       "      <td>19</td>\n",
       "    </tr>\n",
       "    <tr>\n",
       "      <th>100000000</th>\n",
       "      <td>2.061279e+09</td>\n",
       "      <td>1.158704e+06</td>\n",
       "      <td>2.061210e+09</td>\n",
       "      <td>1.144250e+06</td>\n",
       "      <td>2062650409</td>\n",
       "      <td>200</td>\n",
       "    </tr>\n",
       "    <tr>\n",
       "      <th>200000000</th>\n",
       "      <td>4.126177e+09</td>\n",
       "      <td>2.908853e+06</td>\n",
       "      <td>4.126129e+09</td>\n",
       "      <td>2.975728e+06</td>\n",
       "      <td>4127145545</td>\n",
       "      <td>200</td>\n",
       "    </tr>\n",
       "    <tr>\n",
       "      <th>500000000</th>\n",
       "      <td>1.032047e+10</td>\n",
       "      <td>5.299682e+06</td>\n",
       "      <td>1.032056e+10</td>\n",
       "      <td>5.421423e+06</td>\n",
       "      <td>10318697731</td>\n",
       "      <td>200</td>\n",
       "    </tr>\n",
       "    <tr>\n",
       "      <th rowspan=\"12\" valign=\"top\">planck_function_numba</th>\n",
       "      <th>100</th>\n",
       "      <td>1.146533e+07</td>\n",
       "      <td>5.252460e+07</td>\n",
       "      <td>3.519550e+03</td>\n",
       "      <td>3.500823e+02</td>\n",
       "      <td>240701492</td>\n",
       "      <td>1</td>\n",
       "    </tr>\n",
       "    <tr>\n",
       "      <th>200</th>\n",
       "      <td>4.599333e+03</td>\n",
       "      <td>5.951761e+02</td>\n",
       "      <td>4.607500e+03</td>\n",
       "      <td>6.094295e+02</td>\n",
       "      <td>4436</td>\n",
       "      <td>1</td>\n",
       "    </tr>\n",
       "    <tr>\n",
       "      <th>500</th>\n",
       "      <td>7.405762e+03</td>\n",
       "      <td>3.786727e+02</td>\n",
       "      <td>7.408150e+03</td>\n",
       "      <td>3.883477e+02</td>\n",
       "      <td>7358</td>\n",
       "      <td>1</td>\n",
       "    </tr>\n",
       "    <tr>\n",
       "      <th>10000</th>\n",
       "      <td>5.120752e+04</td>\n",
       "      <td>1.522160e+03</td>\n",
       "      <td>5.122750e+04</td>\n",
       "      <td>1.558876e+03</td>\n",
       "      <td>50808</td>\n",
       "      <td>1</td>\n",
       "    </tr>\n",
       "    <tr>\n",
       "      <th>20000</th>\n",
       "      <td>9.403810e+04</td>\n",
       "      <td>4.959987e+02</td>\n",
       "      <td>9.403440e+04</td>\n",
       "      <td>5.085872e+02</td>\n",
       "      <td>94112</td>\n",
       "      <td>1</td>\n",
       "    </tr>\n",
       "    <tr>\n",
       "      <th>50000</th>\n",
       "      <td>2.134189e+05</td>\n",
       "      <td>1.273319e+04</td>\n",
       "      <td>2.112450e+05</td>\n",
       "      <td>8.136411e+03</td>\n",
       "      <td>256897</td>\n",
       "      <td>1</td>\n",
       "    </tr>\n",
       "    <tr>\n",
       "      <th>1000000</th>\n",
       "      <td>3.742698e+06</td>\n",
       "      <td>3.034712e+05</td>\n",
       "      <td>3.677144e+06</td>\n",
       "      <td>4.412496e+04</td>\n",
       "      <td>5053787</td>\n",
       "      <td>2</td>\n",
       "    </tr>\n",
       "    <tr>\n",
       "      <th>2000000</th>\n",
       "      <td>9.941855e+06</td>\n",
       "      <td>4.698556e+04</td>\n",
       "      <td>9.937698e+06</td>\n",
       "      <td>4.406747e+04</td>\n",
       "      <td>10024984</td>\n",
       "      <td>2</td>\n",
       "    </tr>\n",
       "    <tr>\n",
       "      <th>5000000</th>\n",
       "      <td>2.461480e+07</td>\n",
       "      <td>6.691704e+04</td>\n",
       "      <td>2.460975e+07</td>\n",
       "      <td>6.442829e+04</td>\n",
       "      <td>24715691</td>\n",
       "      <td>3</td>\n",
       "    </tr>\n",
       "    <tr>\n",
       "      <th>100000000</th>\n",
       "      <td>4.944851e+08</td>\n",
       "      <td>1.319232e+06</td>\n",
       "      <td>4.944484e+08</td>\n",
       "      <td>1.342459e+06</td>\n",
       "      <td>495219129</td>\n",
       "      <td>200</td>\n",
       "    </tr>\n",
       "    <tr>\n",
       "      <th>200000000</th>\n",
       "      <td>9.868285e+08</td>\n",
       "      <td>2.787248e+06</td>\n",
       "      <td>9.868334e+08</td>\n",
       "      <td>2.859564e+06</td>\n",
       "      <td>986730575</td>\n",
       "      <td>200</td>\n",
       "    </tr>\n",
       "    <tr>\n",
       "      <th>500000000</th>\n",
       "      <td>2.470755e+09</td>\n",
       "      <td>6.953746e+06</td>\n",
       "      <td>2.471026e+09</td>\n",
       "      <td>7.019313e+06</td>\n",
       "      <td>2465325996</td>\n",
       "      <td>200</td>\n",
       "    </tr>\n",
       "    <tr>\n",
       "      <th rowspan=\"12\" valign=\"top\">planck_function_numba_parallel</th>\n",
       "      <th>100</th>\n",
       "      <td>1.169628e+07</td>\n",
       "      <td>5.077850e+07</td>\n",
       "      <td>6.177648e+05</td>\n",
       "      <td>1.051340e+06</td>\n",
       "      <td>233266677</td>\n",
       "      <td>200</td>\n",
       "    </tr>\n",
       "    <tr>\n",
       "      <th>200</th>\n",
       "      <td>6.906477e+05</td>\n",
       "      <td>1.085183e+06</td>\n",
       "      <td>6.196961e+05</td>\n",
       "      <td>1.062225e+06</td>\n",
       "      <td>2109679</td>\n",
       "      <td>200</td>\n",
       "    </tr>\n",
       "    <tr>\n",
       "      <th>500</th>\n",
       "      <td>1.166619e+06</td>\n",
       "      <td>1.698389e+06</td>\n",
       "      <td>1.219773e+06</td>\n",
       "      <td>1.724496e+06</td>\n",
       "      <td>103523</td>\n",
       "      <td>200</td>\n",
       "    </tr>\n",
       "    <tr>\n",
       "      <th>10000</th>\n",
       "      <td>4.066735e+05</td>\n",
       "      <td>8.342620e+05</td>\n",
       "      <td>2.274732e+05</td>\n",
       "      <td>1.508768e+05</td>\n",
       "      <td>3990679</td>\n",
       "      <td>15</td>\n",
       "    </tr>\n",
       "    <tr>\n",
       "      <th>20000</th>\n",
       "      <td>3.666201e+05</td>\n",
       "      <td>6.461958e+05</td>\n",
       "      <td>3.743795e+05</td>\n",
       "      <td>6.619784e+05</td>\n",
       "      <td>211433</td>\n",
       "      <td>200</td>\n",
       "    </tr>\n",
       "    <tr>\n",
       "      <th>50000</th>\n",
       "      <td>7.203004e+05</td>\n",
       "      <td>1.484387e+06</td>\n",
       "      <td>7.454136e+05</td>\n",
       "      <td>1.518365e+06</td>\n",
       "      <td>218036</td>\n",
       "      <td>200</td>\n",
       "    </tr>\n",
       "    <tr>\n",
       "      <th>1000000</th>\n",
       "      <td>9.427432e+05</td>\n",
       "      <td>1.018737e+06</td>\n",
       "      <td>9.529657e+05</td>\n",
       "      <td>1.044096e+06</td>\n",
       "      <td>738294</td>\n",
       "      <td>200</td>\n",
       "    </tr>\n",
       "    <tr>\n",
       "      <th>2000000</th>\n",
       "      <td>1.677242e+06</td>\n",
       "      <td>1.471231e+06</td>\n",
       "      <td>1.692132e+06</td>\n",
       "      <td>1.507826e+06</td>\n",
       "      <td>1379427</td>\n",
       "      <td>200</td>\n",
       "    </tr>\n",
       "    <tr>\n",
       "      <th>5000000</th>\n",
       "      <td>3.710027e+06</td>\n",
       "      <td>1.476108e+06</td>\n",
       "      <td>3.728575e+06</td>\n",
       "      <td>1.511942e+06</td>\n",
       "      <td>3339052</td>\n",
       "      <td>200</td>\n",
       "    </tr>\n",
       "    <tr>\n",
       "      <th>100000000</th>\n",
       "      <td>6.724462e+07</td>\n",
       "      <td>3.011120e+05</td>\n",
       "      <td>6.723841e+07</td>\n",
       "      <td>3.075544e+05</td>\n",
       "      <td>67368693</td>\n",
       "      <td>63</td>\n",
       "    </tr>\n",
       "    <tr>\n",
       "      <th>200000000</th>\n",
       "      <td>1.370732e+08</td>\n",
       "      <td>2.189809e+06</td>\n",
       "      <td>1.371302e+08</td>\n",
       "      <td>2.230634e+06</td>\n",
       "      <td>135932412</td>\n",
       "      <td>200</td>\n",
       "    </tr>\n",
       "    <tr>\n",
       "      <th>500000000</th>\n",
       "      <td>3.534855e+08</td>\n",
       "      <td>1.039317e+07</td>\n",
       "      <td>3.535223e+08</td>\n",
       "      <td>1.066176e+07</td>\n",
       "      <td>352749628</td>\n",
       "      <td>200</td>\n",
       "    </tr>\n",
       "  </tbody>\n",
       "</table>\n",
       "</div>"
      ],
      "text/plain": [
       "                                                  mean           std  \\\n",
       "func_name                      freq_bins                               \n",
       "planck_function                100        2.057815e+05  1.193919e+04   \n",
       "                               200        2.061765e+05  2.752629e+03   \n",
       "                               500        2.117680e+05  4.946061e+03   \n",
       "                               10000      3.375726e+05  7.440708e+03   \n",
       "                               20000      4.725044e+05  1.153796e+04   \n",
       "                               50000      8.949456e+05  1.699222e+04   \n",
       "                               1000000    1.513961e+07  9.125089e+04   \n",
       "                               2000000    3.174214e+07  6.039641e+05   \n",
       "                               5000000    1.030567e+08  1.645863e+05   \n",
       "                               100000000  2.061279e+09  1.158704e+06   \n",
       "                               200000000  4.126177e+09  2.908853e+06   \n",
       "                               500000000  1.032047e+10  5.299682e+06   \n",
       "planck_function_numba          100        1.146533e+07  5.252460e+07   \n",
       "                               200        4.599333e+03  5.951761e+02   \n",
       "                               500        7.405762e+03  3.786727e+02   \n",
       "                               10000      5.120752e+04  1.522160e+03   \n",
       "                               20000      9.403810e+04  4.959987e+02   \n",
       "                               50000      2.134189e+05  1.273319e+04   \n",
       "                               1000000    3.742698e+06  3.034712e+05   \n",
       "                               2000000    9.941855e+06  4.698556e+04   \n",
       "                               5000000    2.461480e+07  6.691704e+04   \n",
       "                               100000000  4.944851e+08  1.319232e+06   \n",
       "                               200000000  9.868285e+08  2.787248e+06   \n",
       "                               500000000  2.470755e+09  6.953746e+06   \n",
       "planck_function_numba_parallel 100        1.169628e+07  5.077850e+07   \n",
       "                               200        6.906477e+05  1.085183e+06   \n",
       "                               500        1.166619e+06  1.698389e+06   \n",
       "                               10000      4.066735e+05  8.342620e+05   \n",
       "                               20000      3.666201e+05  6.461958e+05   \n",
       "                               50000      7.203004e+05  1.484387e+06   \n",
       "                               1000000    9.427432e+05  1.018737e+06   \n",
       "                               2000000    1.677242e+06  1.471231e+06   \n",
       "                               5000000    3.710027e+06  1.476108e+06   \n",
       "                               100000000  6.724462e+07  3.011120e+05   \n",
       "                               200000000  1.370732e+08  2.189809e+06   \n",
       "                               500000000  3.534855e+08  1.039317e+07   \n",
       "\n",
       "                                          mean_dropfirst  std_dropfirst  \\\n",
       "func_name                      freq_bins                                  \n",
       "planck_function                100          2.049395e+05   1.159197e+04   \n",
       "                               200          2.060570e+05   2.767756e+03   \n",
       "                               500          2.118568e+05   5.057329e+03   \n",
       "                               10000        3.368467e+05   6.828572e+03   \n",
       "                               20000        4.728583e+05   1.172016e+04   \n",
       "                               50000        8.946944e+05   1.739362e+04   \n",
       "                               1000000      1.512159e+07   3.986264e+04   \n",
       "                               2000000      3.165759e+07   4.753624e+05   \n",
       "                               5000000      1.030543e+08   1.684757e+05   \n",
       "                               100000000    2.061210e+09   1.144250e+06   \n",
       "                               200000000    4.126129e+09   2.975728e+06   \n",
       "                               500000000    1.032056e+10   5.421423e+06   \n",
       "planck_function_numba          100          3.519550e+03   3.500823e+02   \n",
       "                               200          4.607500e+03   6.094295e+02   \n",
       "                               500          7.408150e+03   3.883477e+02   \n",
       "                               10000        5.122750e+04   1.558876e+03   \n",
       "                               20000        9.403440e+04   5.085872e+02   \n",
       "                               50000        2.112450e+05   8.136411e+03   \n",
       "                               1000000      3.677144e+06   4.412496e+04   \n",
       "                               2000000      9.937698e+06   4.406747e+04   \n",
       "                               5000000      2.460975e+07   6.442829e+04   \n",
       "                               100000000    4.944484e+08   1.342459e+06   \n",
       "                               200000000    9.868334e+08   2.859564e+06   \n",
       "                               500000000    2.471026e+09   7.019313e+06   \n",
       "planck_function_numba_parallel 100          6.177648e+05   1.051340e+06   \n",
       "                               200          6.196961e+05   1.062225e+06   \n",
       "                               500          1.219773e+06   1.724496e+06   \n",
       "                               10000        2.274732e+05   1.508768e+05   \n",
       "                               20000        3.743795e+05   6.619784e+05   \n",
       "                               50000        7.454136e+05   1.518365e+06   \n",
       "                               1000000      9.529657e+05   1.044096e+06   \n",
       "                               2000000      1.692132e+06   1.507826e+06   \n",
       "                               5000000      3.728575e+06   1.511942e+06   \n",
       "                               100000000    6.723841e+07   3.075544e+05   \n",
       "                               200000000    1.371302e+08   2.230634e+06   \n",
       "                               500000000    3.535223e+08   1.066176e+07   \n",
       "\n",
       "                                           first_exec  N_montecarlo  \n",
       "func_name                      freq_bins                             \n",
       "planck_function                100             222622             1  \n",
       "                               200             208565             1  \n",
       "                               500             209991             1  \n",
       "                               10000           352091             1  \n",
       "                               20000           465426             1  \n",
       "                               50000           899968             1  \n",
       "                               1000000       15499959             2  \n",
       "                               2000000       33433020           149  \n",
       "                               5000000      103105292            19  \n",
       "                               100000000   2062650409           200  \n",
       "                               200000000   4127145545           200  \n",
       "                               500000000  10318697731           200  \n",
       "planck_function_numba          100          240701492             1  \n",
       "                               200               4436             1  \n",
       "                               500               7358             1  \n",
       "                               10000            50808             1  \n",
       "                               20000            94112             1  \n",
       "                               50000           256897             1  \n",
       "                               1000000        5053787             2  \n",
       "                               2000000       10024984             2  \n",
       "                               5000000       24715691             3  \n",
       "                               100000000    495219129           200  \n",
       "                               200000000    986730575           200  \n",
       "                               500000000   2465325996           200  \n",
       "planck_function_numba_parallel 100          233266677           200  \n",
       "                               200            2109679           200  \n",
       "                               500             103523           200  \n",
       "                               10000          3990679            15  \n",
       "                               20000           211433           200  \n",
       "                               50000           218036           200  \n",
       "                               1000000         738294           200  \n",
       "                               2000000        1379427           200  \n",
       "                               5000000        3339052           200  \n",
       "                               100000000     67368693            63  \n",
       "                               200000000    135932412           200  \n",
       "                               500000000    352749628           200  "
      ]
     },
     "execution_count": 14,
     "metadata": {},
     "output_type": "execute_result"
    }
   ],
   "source": [
    "confidence_level = 2e-1  # alpha\n",
    "error_tolerance = 5e4  # epsilon\n",
    "Nmax = 20\n",
    "z = stats.norm.ppf(1.0 - confidence_level / 2.0)\n",
    "\n",
    "time_data_estimators[\"N_montecarlo\"] = pd.to_numeric(\n",
    "    ((time_data_estimators[\"std_dropfirst\"] * z / error_tolerance) ** 2)\n",
    "    .apply(lambda x: np.minimum(x, Nmax))\n",
    "    .apply(np.ceil),\n",
    "    downcast=\"integer\",\n",
    ").rename(\"N_iterations\")\n",
    "\n",
    "time_data_estimators"
   ]
  },
  {
   "cell_type": "markdown",
   "id": "a8e1fed3",
   "metadata": {},
   "source": [
    "### Perform the second pass\n",
    "\n",
    "After calculating the number of further iterations needed for our chosen level of confidence, we perform the trials below and then recalculate the statistics."
   ]
  },
  {
   "cell_type": "code",
   "execution_count": 15,
   "id": "cb3a92dd",
   "metadata": {
    "scrolled": false
   },
   "outputs": [
    {
     "name": "stdout",
     "output_type": "stream",
     "text": [
      "Running 1 iteration of planck_function with 100 frequency bins...\n"
     ]
    },
    {
     "data": {
      "application/vnd.jupyter.widget-view+json": {
       "model_id": "51140091a04c4eca94209e0c746c5bf3",
       "version_major": 2,
       "version_minor": 0
      },
      "text/plain": [
       "  0%|          | 0/1 [00:00<?, ?it/s]"
      ]
     },
     "metadata": {},
     "output_type": "display_data"
    },
    {
     "name": "stdout",
     "output_type": "stream",
     "text": [
      "Running 1 iteration of planck_function with 200 frequency bins...\n"
     ]
    },
    {
     "data": {
      "application/vnd.jupyter.widget-view+json": {
       "model_id": "ca063af72fe74c08bf91cff3099c24cb",
       "version_major": 2,
       "version_minor": 0
      },
      "text/plain": [
       "  0%|          | 0/1 [00:00<?, ?it/s]"
      ]
     },
     "metadata": {},
     "output_type": "display_data"
    },
    {
     "name": "stdout",
     "output_type": "stream",
     "text": [
      "Running 1 iteration of planck_function with 500 frequency bins...\n"
     ]
    },
    {
     "data": {
      "application/vnd.jupyter.widget-view+json": {
       "model_id": "521f5f78503d4136816816da13e6fb0b",
       "version_major": 2,
       "version_minor": 0
      },
      "text/plain": [
       "  0%|          | 0/1 [00:00<?, ?it/s]"
      ]
     },
     "metadata": {},
     "output_type": "display_data"
    },
    {
     "name": "stdout",
     "output_type": "stream",
     "text": [
      "Running 1 iteration of planck_function with 10000 frequency bins...\n"
     ]
    },
    {
     "data": {
      "application/vnd.jupyter.widget-view+json": {
       "model_id": "031c065744c641678d00cdbffa7bb914",
       "version_major": 2,
       "version_minor": 0
      },
      "text/plain": [
       "  0%|          | 0/1 [00:00<?, ?it/s]"
      ]
     },
     "metadata": {},
     "output_type": "display_data"
    },
    {
     "name": "stdout",
     "output_type": "stream",
     "text": [
      "Running 1 iteration of planck_function with 20000 frequency bins...\n"
     ]
    },
    {
     "data": {
      "application/vnd.jupyter.widget-view+json": {
       "model_id": "17af9d4b6da043d7a9ca81fd4dbcfe70",
       "version_major": 2,
       "version_minor": 0
      },
      "text/plain": [
       "  0%|          | 0/1 [00:00<?, ?it/s]"
      ]
     },
     "metadata": {},
     "output_type": "display_data"
    },
    {
     "name": "stdout",
     "output_type": "stream",
     "text": [
      "Running 1 iteration of planck_function with 50000 frequency bins...\n"
     ]
    },
    {
     "data": {
      "application/vnd.jupyter.widget-view+json": {
       "model_id": "fa838ff678ee4445bd66636a73891c72",
       "version_major": 2,
       "version_minor": 0
      },
      "text/plain": [
       "  0%|          | 0/1 [00:00<?, ?it/s]"
      ]
     },
     "metadata": {},
     "output_type": "display_data"
    },
    {
     "name": "stdout",
     "output_type": "stream",
     "text": [
      "Running 2 iterations of planck_function with 1000000 frequency bins...\n"
     ]
    },
    {
     "data": {
      "application/vnd.jupyter.widget-view+json": {
       "model_id": "28167c64ae194affbbd1100127a8fd15",
       "version_major": 2,
       "version_minor": 0
      },
      "text/plain": [
       "  0%|          | 0/2 [00:00<?, ?it/s]"
      ]
     },
     "metadata": {},
     "output_type": "display_data"
    },
    {
     "name": "stdout",
     "output_type": "stream",
     "text": [
      "Running 149 iterations of planck_function with 2000000 frequency bins...\n"
     ]
    },
    {
     "data": {
      "application/vnd.jupyter.widget-view+json": {
       "model_id": "1c4c1f0a916b4828a280a1ea81f1db2c",
       "version_major": 2,
       "version_minor": 0
      },
      "text/plain": [
       "  0%|          | 0/149 [00:00<?, ?it/s]"
      ]
     },
     "metadata": {},
     "output_type": "display_data"
    },
    {
     "name": "stdout",
     "output_type": "stream",
     "text": [
      "Running 19 iterations of planck_function with 5000000 frequency bins...\n"
     ]
    },
    {
     "data": {
      "application/vnd.jupyter.widget-view+json": {
       "model_id": "dd8e7a7eb71a4113bc70fa8409f8a8cc",
       "version_major": 2,
       "version_minor": 0
      },
      "text/plain": [
       "  0%|          | 0/19 [00:00<?, ?it/s]"
      ]
     },
     "metadata": {},
     "output_type": "display_data"
    },
    {
     "name": "stdout",
     "output_type": "stream",
     "text": [
      "Running 200 iterations of planck_function with 100000000 frequency bins...\n"
     ]
    },
    {
     "data": {
      "application/vnd.jupyter.widget-view+json": {
       "model_id": "9cf67f39a4c445a0b67a25fb7fc40561",
       "version_major": 2,
       "version_minor": 0
      },
      "text/plain": [
       "  0%|          | 0/200 [00:00<?, ?it/s]"
      ]
     },
     "metadata": {},
     "output_type": "display_data"
    },
    {
     "name": "stdout",
     "output_type": "stream",
     "text": [
      "Running 200 iterations of planck_function with 200000000 frequency bins...\n"
     ]
    },
    {
     "data": {
      "application/vnd.jupyter.widget-view+json": {
       "model_id": "acc8c7179e614e589d622affde0721d2",
       "version_major": 2,
       "version_minor": 0
      },
      "text/plain": [
       "  0%|          | 0/200 [00:00<?, ?it/s]"
      ]
     },
     "metadata": {},
     "output_type": "display_data"
    },
    {
     "name": "stdout",
     "output_type": "stream",
     "text": [
      "Running 200 iterations of planck_function with 500000000 frequency bins...\n"
     ]
    },
    {
     "data": {
      "application/vnd.jupyter.widget-view+json": {
       "model_id": "3422cb7a956b41db8b934d9264bac36f",
       "version_major": 2,
       "version_minor": 0
      },
      "text/plain": [
       "  0%|          | 0/200 [00:00<?, ?it/s]"
      ]
     },
     "metadata": {},
     "output_type": "display_data"
    },
    {
     "name": "stdout",
     "output_type": "stream",
     "text": [
      "Running 1 iteration of planck_function_numba with 100 frequency bins...\n"
     ]
    },
    {
     "data": {
      "application/vnd.jupyter.widget-view+json": {
       "model_id": "bc08cb869fb34283ba50fda19f558d63",
       "version_major": 2,
       "version_minor": 0
      },
      "text/plain": [
       "  0%|          | 0/1 [00:00<?, ?it/s]"
      ]
     },
     "metadata": {},
     "output_type": "display_data"
    },
    {
     "name": "stdout",
     "output_type": "stream",
     "text": [
      "Running 1 iteration of planck_function_numba with 200 frequency bins...\n"
     ]
    },
    {
     "data": {
      "application/vnd.jupyter.widget-view+json": {
       "model_id": "491466e124db49f88adf74e42700e01d",
       "version_major": 2,
       "version_minor": 0
      },
      "text/plain": [
       "  0%|          | 0/1 [00:00<?, ?it/s]"
      ]
     },
     "metadata": {},
     "output_type": "display_data"
    },
    {
     "name": "stdout",
     "output_type": "stream",
     "text": [
      "Running 1 iteration of planck_function_numba with 500 frequency bins...\n"
     ]
    },
    {
     "data": {
      "application/vnd.jupyter.widget-view+json": {
       "model_id": "28408730fbe04955950e36e98732d4b9",
       "version_major": 2,
       "version_minor": 0
      },
      "text/plain": [
       "  0%|          | 0/1 [00:00<?, ?it/s]"
      ]
     },
     "metadata": {},
     "output_type": "display_data"
    },
    {
     "name": "stdout",
     "output_type": "stream",
     "text": [
      "Running 1 iteration of planck_function_numba with 10000 frequency bins...\n"
     ]
    },
    {
     "data": {
      "application/vnd.jupyter.widget-view+json": {
       "model_id": "a0523f2ec82648a594502ee79ea9faba",
       "version_major": 2,
       "version_minor": 0
      },
      "text/plain": [
       "  0%|          | 0/1 [00:00<?, ?it/s]"
      ]
     },
     "metadata": {},
     "output_type": "display_data"
    },
    {
     "name": "stdout",
     "output_type": "stream",
     "text": [
      "Running 1 iteration of planck_function_numba with 20000 frequency bins...\n"
     ]
    },
    {
     "data": {
      "application/vnd.jupyter.widget-view+json": {
       "model_id": "beb59b41be0944a7b4d0f51ad19a4235",
       "version_major": 2,
       "version_minor": 0
      },
      "text/plain": [
       "  0%|          | 0/1 [00:00<?, ?it/s]"
      ]
     },
     "metadata": {},
     "output_type": "display_data"
    },
    {
     "name": "stdout",
     "output_type": "stream",
     "text": [
      "Running 1 iteration of planck_function_numba with 50000 frequency bins...\n"
     ]
    },
    {
     "data": {
      "application/vnd.jupyter.widget-view+json": {
       "model_id": "11d640b2ae3c4d84b2f0beec3f066370",
       "version_major": 2,
       "version_minor": 0
      },
      "text/plain": [
       "  0%|          | 0/1 [00:00<?, ?it/s]"
      ]
     },
     "metadata": {},
     "output_type": "display_data"
    },
    {
     "name": "stdout",
     "output_type": "stream",
     "text": [
      "Running 2 iterations of planck_function_numba with 1000000 frequency bins...\n"
     ]
    },
    {
     "data": {
      "application/vnd.jupyter.widget-view+json": {
       "model_id": "6a54a3014e894a0b9828bee5394e4942",
       "version_major": 2,
       "version_minor": 0
      },
      "text/plain": [
       "  0%|          | 0/2 [00:00<?, ?it/s]"
      ]
     },
     "metadata": {},
     "output_type": "display_data"
    },
    {
     "name": "stdout",
     "output_type": "stream",
     "text": [
      "Running 2 iterations of planck_function_numba with 2000000 frequency bins...\n"
     ]
    },
    {
     "data": {
      "application/vnd.jupyter.widget-view+json": {
       "model_id": "48a2149ee89f428f88feaa7573913cd7",
       "version_major": 2,
       "version_minor": 0
      },
      "text/plain": [
       "  0%|          | 0/2 [00:00<?, ?it/s]"
      ]
     },
     "metadata": {},
     "output_type": "display_data"
    },
    {
     "name": "stdout",
     "output_type": "stream",
     "text": [
      "Running 3 iterations of planck_function_numba with 5000000 frequency bins...\n"
     ]
    },
    {
     "data": {
      "application/vnd.jupyter.widget-view+json": {
       "model_id": "a2569b6805e748c3868f2db60fd31497",
       "version_major": 2,
       "version_minor": 0
      },
      "text/plain": [
       "  0%|          | 0/3 [00:00<?, ?it/s]"
      ]
     },
     "metadata": {},
     "output_type": "display_data"
    },
    {
     "name": "stdout",
     "output_type": "stream",
     "text": [
      "Running 200 iterations of planck_function_numba with 100000000 frequency bins...\n"
     ]
    },
    {
     "data": {
      "application/vnd.jupyter.widget-view+json": {
       "model_id": "89c8355988824c7e8f2eb015e08bb400",
       "version_major": 2,
       "version_minor": 0
      },
      "text/plain": [
       "  0%|          | 0/200 [00:00<?, ?it/s]"
      ]
     },
     "metadata": {},
     "output_type": "display_data"
    },
    {
     "name": "stdout",
     "output_type": "stream",
     "text": [
      "Running 200 iterations of planck_function_numba with 200000000 frequency bins...\n"
     ]
    },
    {
     "data": {
      "application/vnd.jupyter.widget-view+json": {
       "model_id": "2a1555a49abf4504a1c53aa56241a5b3",
       "version_major": 2,
       "version_minor": 0
      },
      "text/plain": [
       "  0%|          | 0/200 [00:00<?, ?it/s]"
      ]
     },
     "metadata": {},
     "output_type": "display_data"
    },
    {
     "name": "stdout",
     "output_type": "stream",
     "text": [
      "Running 200 iterations of planck_function_numba with 500000000 frequency bins...\n"
     ]
    },
    {
     "data": {
      "application/vnd.jupyter.widget-view+json": {
       "model_id": "bb7ccfca5afb4bd781ad684f720816b6",
       "version_major": 2,
       "version_minor": 0
      },
      "text/plain": [
       "  0%|          | 0/200 [00:00<?, ?it/s]"
      ]
     },
     "metadata": {},
     "output_type": "display_data"
    },
    {
     "name": "stdout",
     "output_type": "stream",
     "text": [
      "Running 200 iterations of planck_function_numba_parallel with 100 frequency bins...\n"
     ]
    },
    {
     "data": {
      "application/vnd.jupyter.widget-view+json": {
       "model_id": "c6dee9ed9f864e40b1c0b6519b0bef59",
       "version_major": 2,
       "version_minor": 0
      },
      "text/plain": [
       "  0%|          | 0/200 [00:00<?, ?it/s]"
      ]
     },
     "metadata": {},
     "output_type": "display_data"
    },
    {
     "name": "stdout",
     "output_type": "stream",
     "text": [
      "Running 200 iterations of planck_function_numba_parallel with 200 frequency bins...\n"
     ]
    },
    {
     "data": {
      "application/vnd.jupyter.widget-view+json": {
       "model_id": "3f9063eabe4d4b71b9158e267a2d1cee",
       "version_major": 2,
       "version_minor": 0
      },
      "text/plain": [
       "  0%|          | 0/200 [00:00<?, ?it/s]"
      ]
     },
     "metadata": {},
     "output_type": "display_data"
    },
    {
     "name": "stdout",
     "output_type": "stream",
     "text": [
      "Running 200 iterations of planck_function_numba_parallel with 500 frequency bins...\n"
     ]
    },
    {
     "data": {
      "application/vnd.jupyter.widget-view+json": {
       "model_id": "ba428a567fa040b98ff88b2ba154fb01",
       "version_major": 2,
       "version_minor": 0
      },
      "text/plain": [
       "  0%|          | 0/200 [00:00<?, ?it/s]"
      ]
     },
     "metadata": {},
     "output_type": "display_data"
    },
    {
     "name": "stdout",
     "output_type": "stream",
     "text": [
      "Running 15 iterations of planck_function_numba_parallel with 10000 frequency bins...\n"
     ]
    },
    {
     "data": {
      "application/vnd.jupyter.widget-view+json": {
       "model_id": "db3a0dc0f4af4becb2353f6c78059a25",
       "version_major": 2,
       "version_minor": 0
      },
      "text/plain": [
       "  0%|          | 0/15 [00:00<?, ?it/s]"
      ]
     },
     "metadata": {},
     "output_type": "display_data"
    },
    {
     "name": "stdout",
     "output_type": "stream",
     "text": [
      "Running 200 iterations of planck_function_numba_parallel with 20000 frequency bins...\n"
     ]
    },
    {
     "data": {
      "application/vnd.jupyter.widget-view+json": {
       "model_id": "382401f4eab8478fb9fcaae3dd46d9b0",
       "version_major": 2,
       "version_minor": 0
      },
      "text/plain": [
       "  0%|          | 0/200 [00:00<?, ?it/s]"
      ]
     },
     "metadata": {},
     "output_type": "display_data"
    },
    {
     "name": "stdout",
     "output_type": "stream",
     "text": [
      "Running 200 iterations of planck_function_numba_parallel with 50000 frequency bins...\n"
     ]
    },
    {
     "data": {
      "application/vnd.jupyter.widget-view+json": {
       "model_id": "69150d506c6f49a19c31dc1ba382f7f5",
       "version_major": 2,
       "version_minor": 0
      },
      "text/plain": [
       "  0%|          | 0/200 [00:00<?, ?it/s]"
      ]
     },
     "metadata": {},
     "output_type": "display_data"
    },
    {
     "name": "stdout",
     "output_type": "stream",
     "text": [
      "Running 200 iterations of planck_function_numba_parallel with 1000000 frequency bins...\n"
     ]
    },
    {
     "data": {
      "application/vnd.jupyter.widget-view+json": {
       "model_id": "946f88f205a647c6a1907dbe8d21be3e",
       "version_major": 2,
       "version_minor": 0
      },
      "text/plain": [
       "  0%|          | 0/200 [00:00<?, ?it/s]"
      ]
     },
     "metadata": {},
     "output_type": "display_data"
    },
    {
     "name": "stdout",
     "output_type": "stream",
     "text": [
      "Running 200 iterations of planck_function_numba_parallel with 2000000 frequency bins...\n"
     ]
    },
    {
     "data": {
      "application/vnd.jupyter.widget-view+json": {
       "model_id": "dd5f9ec5d54946769189d82ee7b60fd4",
       "version_major": 2,
       "version_minor": 0
      },
      "text/plain": [
       "  0%|          | 0/200 [00:00<?, ?it/s]"
      ]
     },
     "metadata": {},
     "output_type": "display_data"
    },
    {
     "name": "stdout",
     "output_type": "stream",
     "text": [
      "Running 200 iterations of planck_function_numba_parallel with 5000000 frequency bins...\n"
     ]
    },
    {
     "data": {
      "application/vnd.jupyter.widget-view+json": {
       "model_id": "4b74705d542d4ccd91031c143af103d6",
       "version_major": 2,
       "version_minor": 0
      },
      "text/plain": [
       "  0%|          | 0/200 [00:00<?, ?it/s]"
      ]
     },
     "metadata": {},
     "output_type": "display_data"
    },
    {
     "name": "stdout",
     "output_type": "stream",
     "text": [
      "Running 63 iterations of planck_function_numba_parallel with 100000000 frequency bins...\n"
     ]
    },
    {
     "data": {
      "application/vnd.jupyter.widget-view+json": {
       "model_id": "da931f2b6f2948fbb6dfc4594267951b",
       "version_major": 2,
       "version_minor": 0
      },
      "text/plain": [
       "  0%|          | 0/63 [00:00<?, ?it/s]"
      ]
     },
     "metadata": {},
     "output_type": "display_data"
    },
    {
     "name": "stdout",
     "output_type": "stream",
     "text": [
      "Running 200 iterations of planck_function_numba_parallel with 200000000 frequency bins...\n"
     ]
    },
    {
     "data": {
      "application/vnd.jupyter.widget-view+json": {
       "model_id": "07c7e8c3fffd423f983afb2c1f5378de",
       "version_major": 2,
       "version_minor": 0
      },
      "text/plain": [
       "  0%|          | 0/200 [00:00<?, ?it/s]"
      ]
     },
     "metadata": {},
     "output_type": "display_data"
    },
    {
     "name": "stdout",
     "output_type": "stream",
     "text": [
      "Running 200 iterations of planck_function_numba_parallel with 500000000 frequency bins...\n"
     ]
    },
    {
     "data": {
      "application/vnd.jupyter.widget-view+json": {
       "model_id": "79e82c7d00314a6a8c7be0ac98988c89",
       "version_major": 2,
       "version_minor": 0
      },
      "text/plain": [
       "  0%|          | 0/200 [00:00<?, ?it/s]"
      ]
     },
     "metadata": {},
     "output_type": "display_data"
    }
   ],
   "source": [
    "for tup in time_data_estimators.itertuples():\n",
    "    func_name = tup.Index[0]\n",
    "    freq = tup.Index[1]\n",
    "    func = funcdict[func_name]\n",
    "    plural = \"s\" if tup.N_montecarlo > 1 else \"\"\n",
    "    tqdm.tqdm.write(\n",
    "        f\"Running {tup.N_montecarlo} iteration{plural} of {func_name} with {freq} frequency bins...\"\n",
    "    )\n",
    "    for n in tqdm.trange(tup.N_montecarlo):\n",
    "        tempdf = time_trial(\n",
    "            func,\n",
    "            func_name,\n",
    "            freq,\n",
    "        )\n",
    "        raw_time_data = pd.concat(\n",
    "            [\n",
    "                raw_time_data,\n",
    "                tempdf,\n",
    "            ],\n",
    "            ignore_index=True,\n",
    "        )"
   ]
  },
  {
   "cell_type": "code",
   "execution_count": 16,
   "id": "c2795835",
   "metadata": {},
   "outputs": [
    {
     "data": {
      "text/html": [
       "<div>\n",
       "<style scoped>\n",
       "    .dataframe tbody tr th:only-of-type {\n",
       "        vertical-align: middle;\n",
       "    }\n",
       "\n",
       "    .dataframe tbody tr th {\n",
       "        vertical-align: top;\n",
       "    }\n",
       "\n",
       "    .dataframe thead th {\n",
       "        text-align: right;\n",
       "    }\n",
       "</style>\n",
       "<table border=\"1\" class=\"dataframe\">\n",
       "  <thead>\n",
       "    <tr style=\"text-align: right;\">\n",
       "      <th></th>\n",
       "      <th></th>\n",
       "      <th>mean</th>\n",
       "      <th>std</th>\n",
       "      <th>mean_dropfirst</th>\n",
       "      <th>std_dropfirst</th>\n",
       "      <th>first_exec</th>\n",
       "      <th>N_montecarlo</th>\n",
       "    </tr>\n",
       "    <tr>\n",
       "      <th>func_name</th>\n",
       "      <th>freq_bins</th>\n",
       "      <th></th>\n",
       "      <th></th>\n",
       "      <th></th>\n",
       "      <th></th>\n",
       "      <th></th>\n",
       "      <th></th>\n",
       "    </tr>\n",
       "  </thead>\n",
       "  <tbody>\n",
       "    <tr>\n",
       "      <th rowspan=\"12\" valign=\"top\">planck_function</th>\n",
       "      <th>100</th>\n",
       "      <td>2.066498e+05</td>\n",
       "      <td>1.234266e+04</td>\n",
       "      <td>2.058892e+05</td>\n",
       "      <td>1.210765e+04</td>\n",
       "      <td>222622</td>\n",
       "      <td>1</td>\n",
       "    </tr>\n",
       "    <tr>\n",
       "      <th>200</th>\n",
       "      <td>2.072106e+05</td>\n",
       "      <td>5.544806e+03</td>\n",
       "      <td>2.071461e+05</td>\n",
       "      <td>5.673274e+03</td>\n",
       "      <td>208565</td>\n",
       "      <td>1</td>\n",
       "    </tr>\n",
       "    <tr>\n",
       "      <th>500</th>\n",
       "      <td>2.122111e+05</td>\n",
       "      <td>5.255357e+03</td>\n",
       "      <td>2.123168e+05</td>\n",
       "      <td>5.361113e+03</td>\n",
       "      <td>209991</td>\n",
       "      <td>1</td>\n",
       "    </tr>\n",
       "    <tr>\n",
       "      <th>10000</th>\n",
       "      <td>3.380770e+05</td>\n",
       "      <td>7.637186e+03</td>\n",
       "      <td>3.374097e+05</td>\n",
       "      <td>7.138333e+03</td>\n",
       "      <td>352091</td>\n",
       "      <td>1</td>\n",
       "    </tr>\n",
       "    <tr>\n",
       "      <th>20000</th>\n",
       "      <td>4.753250e+05</td>\n",
       "      <td>1.737282e+04</td>\n",
       "      <td>4.757964e+05</td>\n",
       "      <td>1.765709e+04</td>\n",
       "      <td>465426</td>\n",
       "      <td>1</td>\n",
       "    </tr>\n",
       "    <tr>\n",
       "      <th>50000</th>\n",
       "      <td>9.031007e+05</td>\n",
       "      <td>4.169090e+04</td>\n",
       "      <td>9.032499e+05</td>\n",
       "      <td>4.271444e+04</td>\n",
       "      <td>899968</td>\n",
       "      <td>2</td>\n",
       "    </tr>\n",
       "    <tr>\n",
       "      <th>1000000</th>\n",
       "      <td>1.514150e+07</td>\n",
       "      <td>8.741575e+04</td>\n",
       "      <td>1.512521e+07</td>\n",
       "      <td>4.010820e+04</td>\n",
       "      <td>15499959</td>\n",
       "      <td>2</td>\n",
       "    </tr>\n",
       "    <tr>\n",
       "      <th>2000000</th>\n",
       "      <td>3.218963e+07</td>\n",
       "      <td>4.050247e+05</td>\n",
       "      <td>3.218227e+07</td>\n",
       "      <td>3.946701e+05</td>\n",
       "      <td>33433020</td>\n",
       "      <td>103</td>\n",
       "    </tr>\n",
       "    <tr>\n",
       "      <th>5000000</th>\n",
       "      <td>1.031842e+08</td>\n",
       "      <td>1.931330e+05</td>\n",
       "      <td>1.031862e+08</td>\n",
       "      <td>1.952278e+05</td>\n",
       "      <td>103105292</td>\n",
       "      <td>26</td>\n",
       "    </tr>\n",
       "    <tr>\n",
       "      <th>100000000</th>\n",
       "      <td>2.081883e+09</td>\n",
       "      <td>2.790504e+07</td>\n",
       "      <td>2.081970e+09</td>\n",
       "      <td>2.793833e+07</td>\n",
       "      <td>2062650409</td>\n",
       "      <td>200</td>\n",
       "    </tr>\n",
       "    <tr>\n",
       "      <th>200000000</th>\n",
       "      <td>4.156230e+09</td>\n",
       "      <td>4.651036e+07</td>\n",
       "      <td>4.156363e+09</td>\n",
       "      <td>4.657479e+07</td>\n",
       "      <td>4127145545</td>\n",
       "      <td>200</td>\n",
       "    </tr>\n",
       "    <tr>\n",
       "      <th>500000000</th>\n",
       "      <td>1.046258e+10</td>\n",
       "      <td>1.012782e+08</td>\n",
       "      <td>1.046323e+10</td>\n",
       "      <td>1.010403e+08</td>\n",
       "      <td>10318697731</td>\n",
       "      <td>200</td>\n",
       "    </tr>\n",
       "    <tr>\n",
       "      <th rowspan=\"12\" valign=\"top\">planck_function_numba</th>\n",
       "      <th>100</th>\n",
       "      <td>1.094453e+07</td>\n",
       "      <td>5.131694e+07</td>\n",
       "      <td>3.722667e+03</td>\n",
       "      <td>9.913696e+02</td>\n",
       "      <td>240701492</td>\n",
       "      <td>1</td>\n",
       "    </tr>\n",
       "    <tr>\n",
       "      <th>200</th>\n",
       "      <td>4.632773e+03</td>\n",
       "      <td>6.016366e+02</td>\n",
       "      <td>4.642143e+03</td>\n",
       "      <td>6.148469e+02</td>\n",
       "      <td>4436</td>\n",
       "      <td>1</td>\n",
       "    </tr>\n",
       "    <tr>\n",
       "      <th>500</th>\n",
       "      <td>7.407773e+03</td>\n",
       "      <td>3.696670e+02</td>\n",
       "      <td>7.410143e+03</td>\n",
       "      <td>3.786247e+02</td>\n",
       "      <td>7358</td>\n",
       "      <td>1</td>\n",
       "    </tr>\n",
       "    <tr>\n",
       "      <th>10000</th>\n",
       "      <td>5.215909e+04</td>\n",
       "      <td>4.703956e+03</td>\n",
       "      <td>5.222343e+04</td>\n",
       "      <td>4.810191e+03</td>\n",
       "      <td>50808</td>\n",
       "      <td>1</td>\n",
       "    </tr>\n",
       "    <tr>\n",
       "      <th>20000</th>\n",
       "      <td>9.560941e+04</td>\n",
       "      <td>7.385993e+03</td>\n",
       "      <td>9.568071e+04</td>\n",
       "      <td>7.560628e+03</td>\n",
       "      <td>94112</td>\n",
       "      <td>1</td>\n",
       "    </tr>\n",
       "    <tr>\n",
       "      <th>50000</th>\n",
       "      <td>2.168263e+05</td>\n",
       "      <td>2.024460e+04</td>\n",
       "      <td>2.149182e+05</td>\n",
       "      <td>1.860726e+04</td>\n",
       "      <td>256897</td>\n",
       "      <td>1</td>\n",
       "    </tr>\n",
       "    <tr>\n",
       "      <th>1000000</th>\n",
       "      <td>3.805917e+06</td>\n",
       "      <td>4.161850e+05</td>\n",
       "      <td>3.749195e+06</td>\n",
       "      <td>3.223913e+05</td>\n",
       "      <td>5053787</td>\n",
       "      <td>69</td>\n",
       "    </tr>\n",
       "    <tr>\n",
       "      <th>2000000</th>\n",
       "      <td>9.965533e+06</td>\n",
       "      <td>9.197273e+04</td>\n",
       "      <td>9.962830e+06</td>\n",
       "      <td>9.319782e+04</td>\n",
       "      <td>10024984</td>\n",
       "      <td>6</td>\n",
       "    </tr>\n",
       "    <tr>\n",
       "      <th>5000000</th>\n",
       "      <td>2.474116e+07</td>\n",
       "      <td>3.526781e+05</td>\n",
       "      <td>2.474226e+07</td>\n",
       "      <td>3.605618e+05</td>\n",
       "      <td>24715691</td>\n",
       "      <td>86</td>\n",
       "    </tr>\n",
       "    <tr>\n",
       "      <th>100000000</th>\n",
       "      <td>5.167886e+08</td>\n",
       "      <td>2.002825e+07</td>\n",
       "      <td>5.168866e+08</td>\n",
       "      <td>2.002069e+07</td>\n",
       "      <td>495219129</td>\n",
       "      <td>200</td>\n",
       "    </tr>\n",
       "    <tr>\n",
       "      <th>200000000</th>\n",
       "      <td>1.025723e+09</td>\n",
       "      <td>3.982455e+07</td>\n",
       "      <td>1.025900e+09</td>\n",
       "      <td>3.982792e+07</td>\n",
       "      <td>986730575</td>\n",
       "      <td>200</td>\n",
       "    </tr>\n",
       "    <tr>\n",
       "      <th>500000000</th>\n",
       "      <td>2.612005e+09</td>\n",
       "      <td>1.453346e+08</td>\n",
       "      <td>2.612671e+09</td>\n",
       "      <td>1.453269e+08</td>\n",
       "      <td>2465325996</td>\n",
       "      <td>200</td>\n",
       "    </tr>\n",
       "    <tr>\n",
       "      <th rowspan=\"12\" valign=\"top\">planck_function_numba_parallel</th>\n",
       "      <th>100</th>\n",
       "      <td>1.685508e+06</td>\n",
       "      <td>1.569904e+07</td>\n",
       "      <td>6.328661e+05</td>\n",
       "      <td>1.259739e+06</td>\n",
       "      <td>233266677</td>\n",
       "      <td>200</td>\n",
       "    </tr>\n",
       "    <tr>\n",
       "      <th>200</th>\n",
       "      <td>5.119637e+05</td>\n",
       "      <td>9.783515e+05</td>\n",
       "      <td>5.047013e+05</td>\n",
       "      <td>9.745939e+05</td>\n",
       "      <td>2109679</td>\n",
       "      <td>200</td>\n",
       "    </tr>\n",
       "    <tr>\n",
       "      <th>500</th>\n",
       "      <td>6.272777e+05</td>\n",
       "      <td>1.221118e+06</td>\n",
       "      <td>6.296584e+05</td>\n",
       "      <td>1.223389e+06</td>\n",
       "      <td>103523</td>\n",
       "      <td>200</td>\n",
       "    </tr>\n",
       "    <tr>\n",
       "      <th>10000</th>\n",
       "      <td>3.529841e+05</td>\n",
       "      <td>6.716269e+05</td>\n",
       "      <td>2.490499e+05</td>\n",
       "      <td>2.530396e+05</td>\n",
       "      <td>3990679</td>\n",
       "      <td>43</td>\n",
       "    </tr>\n",
       "    <tr>\n",
       "      <th>20000</th>\n",
       "      <td>4.797239e+05</td>\n",
       "      <td>1.056085e+06</td>\n",
       "      <td>4.809434e+05</td>\n",
       "      <td>1.058338e+06</td>\n",
       "      <td>211433</td>\n",
       "      <td>200</td>\n",
       "    </tr>\n",
       "    <tr>\n",
       "      <th>50000</th>\n",
       "      <td>6.882786e+05</td>\n",
       "      <td>1.321707e+06</td>\n",
       "      <td>6.904161e+05</td>\n",
       "      <td>1.324338e+06</td>\n",
       "      <td>218036</td>\n",
       "      <td>200</td>\n",
       "    </tr>\n",
       "    <tr>\n",
       "      <th>1000000</th>\n",
       "      <td>8.215258e+05</td>\n",
       "      <td>9.104319e+05</td>\n",
       "      <td>8.219041e+05</td>\n",
       "      <td>9.124907e+05</td>\n",
       "      <td>738294</td>\n",
       "      <td>200</td>\n",
       "    </tr>\n",
       "    <tr>\n",
       "      <th>2000000</th>\n",
       "      <td>1.627736e+06</td>\n",
       "      <td>9.180988e+05</td>\n",
       "      <td>1.628864e+06</td>\n",
       "      <td>9.200388e+05</td>\n",
       "      <td>1379427</td>\n",
       "      <td>200</td>\n",
       "    </tr>\n",
       "    <tr>\n",
       "      <th>5000000</th>\n",
       "      <td>3.682520e+06</td>\n",
       "      <td>9.935115e+05</td>\n",
       "      <td>3.684081e+06</td>\n",
       "      <td>9.955055e+05</td>\n",
       "      <td>3339052</td>\n",
       "      <td>200</td>\n",
       "    </tr>\n",
       "    <tr>\n",
       "      <th>100000000</th>\n",
       "      <td>6.842170e+07</td>\n",
       "      <td>2.146092e+06</td>\n",
       "      <td>6.843439e+07</td>\n",
       "      <td>2.155966e+06</td>\n",
       "      <td>67368693</td>\n",
       "      <td>200</td>\n",
       "    </tr>\n",
       "    <tr>\n",
       "      <th>200000000</th>\n",
       "      <td>1.384601e+08</td>\n",
       "      <td>1.370721e+06</td>\n",
       "      <td>1.384716e+08</td>\n",
       "      <td>1.363140e+06</td>\n",
       "      <td>135932412</td>\n",
       "      <td>200</td>\n",
       "    </tr>\n",
       "    <tr>\n",
       "      <th>500000000</th>\n",
       "      <td>3.606647e+08</td>\n",
       "      <td>1.047524e+07</td>\n",
       "      <td>3.607007e+08</td>\n",
       "      <td>1.048544e+07</td>\n",
       "      <td>352749628</td>\n",
       "      <td>200</td>\n",
       "    </tr>\n",
       "  </tbody>\n",
       "</table>\n",
       "</div>"
      ],
      "text/plain": [
       "                                                  mean           std  \\\n",
       "func_name                      freq_bins                               \n",
       "planck_function                100        2.066498e+05  1.234266e+04   \n",
       "                               200        2.072106e+05  5.544806e+03   \n",
       "                               500        2.122111e+05  5.255357e+03   \n",
       "                               10000      3.380770e+05  7.637186e+03   \n",
       "                               20000      4.753250e+05  1.737282e+04   \n",
       "                               50000      9.031007e+05  4.169090e+04   \n",
       "                               1000000    1.514150e+07  8.741575e+04   \n",
       "                               2000000    3.218963e+07  4.050247e+05   \n",
       "                               5000000    1.031842e+08  1.931330e+05   \n",
       "                               100000000  2.081883e+09  2.790504e+07   \n",
       "                               200000000  4.156230e+09  4.651036e+07   \n",
       "                               500000000  1.046258e+10  1.012782e+08   \n",
       "planck_function_numba          100        1.094453e+07  5.131694e+07   \n",
       "                               200        4.632773e+03  6.016366e+02   \n",
       "                               500        7.407773e+03  3.696670e+02   \n",
       "                               10000      5.215909e+04  4.703956e+03   \n",
       "                               20000      9.560941e+04  7.385993e+03   \n",
       "                               50000      2.168263e+05  2.024460e+04   \n",
       "                               1000000    3.805917e+06  4.161850e+05   \n",
       "                               2000000    9.965533e+06  9.197273e+04   \n",
       "                               5000000    2.474116e+07  3.526781e+05   \n",
       "                               100000000  5.167886e+08  2.002825e+07   \n",
       "                               200000000  1.025723e+09  3.982455e+07   \n",
       "                               500000000  2.612005e+09  1.453346e+08   \n",
       "planck_function_numba_parallel 100        1.685508e+06  1.569904e+07   \n",
       "                               200        5.119637e+05  9.783515e+05   \n",
       "                               500        6.272777e+05  1.221118e+06   \n",
       "                               10000      3.529841e+05  6.716269e+05   \n",
       "                               20000      4.797239e+05  1.056085e+06   \n",
       "                               50000      6.882786e+05  1.321707e+06   \n",
       "                               1000000    8.215258e+05  9.104319e+05   \n",
       "                               2000000    1.627736e+06  9.180988e+05   \n",
       "                               5000000    3.682520e+06  9.935115e+05   \n",
       "                               100000000  6.842170e+07  2.146092e+06   \n",
       "                               200000000  1.384601e+08  1.370721e+06   \n",
       "                               500000000  3.606647e+08  1.047524e+07   \n",
       "\n",
       "                                          mean_dropfirst  std_dropfirst  \\\n",
       "func_name                      freq_bins                                  \n",
       "planck_function                100          2.058892e+05   1.210765e+04   \n",
       "                               200          2.071461e+05   5.673274e+03   \n",
       "                               500          2.123168e+05   5.361113e+03   \n",
       "                               10000        3.374097e+05   7.138333e+03   \n",
       "                               20000        4.757964e+05   1.765709e+04   \n",
       "                               50000        9.032499e+05   4.271444e+04   \n",
       "                               1000000      1.512521e+07   4.010820e+04   \n",
       "                               2000000      3.218227e+07   3.946701e+05   \n",
       "                               5000000      1.031862e+08   1.952278e+05   \n",
       "                               100000000    2.081970e+09   2.793833e+07   \n",
       "                               200000000    4.156363e+09   4.657479e+07   \n",
       "                               500000000    1.046323e+10   1.010403e+08   \n",
       "planck_function_numba          100          3.722667e+03   9.913696e+02   \n",
       "                               200          4.642143e+03   6.148469e+02   \n",
       "                               500          7.410143e+03   3.786247e+02   \n",
       "                               10000        5.222343e+04   4.810191e+03   \n",
       "                               20000        9.568071e+04   7.560628e+03   \n",
       "                               50000        2.149182e+05   1.860726e+04   \n",
       "                               1000000      3.749195e+06   3.223913e+05   \n",
       "                               2000000      9.962830e+06   9.319782e+04   \n",
       "                               5000000      2.474226e+07   3.605618e+05   \n",
       "                               100000000    5.168866e+08   2.002069e+07   \n",
       "                               200000000    1.025900e+09   3.982792e+07   \n",
       "                               500000000    2.612671e+09   1.453269e+08   \n",
       "planck_function_numba_parallel 100          6.328661e+05   1.259739e+06   \n",
       "                               200          5.047013e+05   9.745939e+05   \n",
       "                               500          6.296584e+05   1.223389e+06   \n",
       "                               10000        2.490499e+05   2.530396e+05   \n",
       "                               20000        4.809434e+05   1.058338e+06   \n",
       "                               50000        6.904161e+05   1.324338e+06   \n",
       "                               1000000      8.219041e+05   9.124907e+05   \n",
       "                               2000000      1.628864e+06   9.200388e+05   \n",
       "                               5000000      3.684081e+06   9.955055e+05   \n",
       "                               100000000    6.843439e+07   2.155966e+06   \n",
       "                               200000000    1.384716e+08   1.363140e+06   \n",
       "                               500000000    3.607007e+08   1.048544e+07   \n",
       "\n",
       "                                           first_exec  N_montecarlo  \n",
       "func_name                      freq_bins                             \n",
       "planck_function                100             222622             1  \n",
       "                               200             208565             1  \n",
       "                               500             209991             1  \n",
       "                               10000           352091             1  \n",
       "                               20000           465426             1  \n",
       "                               50000           899968             2  \n",
       "                               1000000       15499959             2  \n",
       "                               2000000       33433020           103  \n",
       "                               5000000      103105292            26  \n",
       "                               100000000   2062650409           200  \n",
       "                               200000000   4127145545           200  \n",
       "                               500000000  10318697731           200  \n",
       "planck_function_numba          100          240701492             1  \n",
       "                               200               4436             1  \n",
       "                               500               7358             1  \n",
       "                               10000            50808             1  \n",
       "                               20000            94112             1  \n",
       "                               50000           256897             1  \n",
       "                               1000000        5053787            69  \n",
       "                               2000000       10024984             6  \n",
       "                               5000000       24715691            86  \n",
       "                               100000000    495219129           200  \n",
       "                               200000000    986730575           200  \n",
       "                               500000000   2465325996           200  \n",
       "planck_function_numba_parallel 100          233266677           200  \n",
       "                               200            2109679           200  \n",
       "                               500             103523           200  \n",
       "                               10000          3990679            43  \n",
       "                               20000           211433           200  \n",
       "                               50000           218036           200  \n",
       "                               1000000         738294           200  \n",
       "                               2000000        1379427           200  \n",
       "                               5000000        3339052           200  \n",
       "                               100000000     67368693           200  \n",
       "                               200000000    135932412           200  \n",
       "                               500000000    352749628           200  "
      ]
     },
     "execution_count": 16,
     "metadata": {},
     "output_type": "execute_result"
    }
   ],
   "source": [
    "groupby = raw_time_data.groupby(\n",
    "    [\n",
    "        \"func_name\",\n",
    "        \"freq_bins\",\n",
    "    ]\n",
    ")\n",
    "\n",
    "raw_time_data_dropfirst = raw_time_data.drop(first_indices)\n",
    "\n",
    "groupby_dropfirst = raw_time_data_dropfirst.groupby(\n",
    "    [\n",
    "        \"func_name\",\n",
    "        \"freq_bins\",\n",
    "    ]\n",
    ")\n",
    "\n",
    "time_data_estimators[\"mean\"] = groupby.mean()\n",
    "time_data_estimators[\"std\"] = groupby.std()\n",
    "time_data_estimators[\"mean_dropfirst\"] = groupby_dropfirst.mean()\n",
    "time_data_estimators[\"std_dropfirst\"] = groupby_dropfirst.std()\n",
    "\n",
    "time_data_estimators[\"N_montecarlo\"] = pd.to_numeric(\n",
    "    ((time_data_estimators[\"std_dropfirst\"] * z / error_tolerance) ** 2)\n",
    "    .apply(lambda x: np.minimum(x, Nmax))\n",
    "    .apply(np.ceil),\n",
    "    downcast=\"integer\",\n",
    ").rename(\"N_iterations\")\n",
    "\n",
    "time_data_estimators"
   ]
  },
  {
   "cell_type": "code",
   "execution_count": 17,
   "id": "54bea127",
   "metadata": {},
   "outputs": [
    {
     "data": {
      "text/plain": [
       "<Figure size 1280x480 with 0 Axes>"
      ]
     },
     "metadata": {},
     "output_type": "display_data"
    },
    {
     "data": {
      "image/png": "[encoded data removed]",
      "text/plain": [
       "<Figure size 640x480 with 2 Axes>"
      ]
     },
     "metadata": {},
     "output_type": "display_data"
    }
   ],
   "source": [
    "markers = (\n",
    "    \"o\",\n",
    "    \"s\",\n",
    "    \"^\",\n",
    ")\n",
    "# Different markers to be color-blind friendly\n",
    "plot_metadata = [\n",
    "    {\n",
    "        \"name\": \"mean\",\n",
    "        \"print_title\": \"Mean with JIT iteration\",\n",
    "    },\n",
    "    {\n",
    "        \"name\": \"mean_dropfirst\",\n",
    "        \"print_title\": \"Mean without JIT iteration\",\n",
    "    },\n",
    "]\n",
    "\n",
    "plt.figure(\n",
    "    figsize=(\n",
    "        12.8,\n",
    "        4.8,\n",
    "    ),\n",
    ")\n",
    "\n",
    "fig, axs = plt.subplots(\n",
    "    nrows=1,\n",
    "    ncols=2,\n",
    "    sharex=True,\n",
    "    sharey=True,\n",
    ")\n",
    "\n",
    "\n",
    "for ax, plot_md in zip(axs.flat, plot_metadata):\n",
    "    for f, marker in zip(function_names, markers):\n",
    "        ax.loglog(\n",
    "            time_data_estimators.loc[f][plot_md[\"name\"]],\n",
    "            marker=marker,\n",
    "            label=f,\n",
    "        )\n",
    "        # loglog because of the range of values for freq_bin\n",
    "        ax.grid()\n",
    "        ax.set_xlabel(\"Frequency Bins\")\n",
    "        ax.set_ylabel(\"Average Elapsed Time (ns)\")\n",
    "        ax.set_title(plot_md[\"print_title\"])\n",
    "\n",
    "# idx_mask = np.zeros_like(raw_time_data[\"func_name\"], dtype=bool)\n",
    "# idx_mask[first_indices] = True\n",
    "\n",
    "\n",
    "# plt.title(\"Average Execution Times For JIT and non-JIT Implementations\")\n",
    "# fig.legend(function_names, loc=\"lower right\")\n",
    "fig.legend(\n",
    "    function_names,\n",
    "    bbox_to_anchor=(0, -0.05, 1.1, 0),\n",
    "    loc=\"lower center\",\n",
    "    mode=\"expand\",\n",
    "    ncol=3,\n",
    ")\n",
    "fig.tight_layout()\n",
    "fig.show()\n",
    "# plt.close()\n",
    "\n",
    "# This plot is done in matplotlib because that's what's already used here\n",
    "# and what's available currently installed. I could have done something\n",
    "# more elaborate, but I didn't want to mess with the virtual environment."
   ]
  },
  {
   "cell_type": "markdown",
   "id": "1166da72",
   "metadata": {},
   "source": [
    "We can clearly see above where the benefits of parallelization overcome the overhead, i.e. where the square and triangle marked curves cross."
   ]
  },
  {
   "cell_type": "code",
   "execution_count": 20,
   "id": "ca5025e6",
   "metadata": {},
   "outputs": [
    {
     "data": {
      "text/plain": [
       "<Figure size 2560x480 with 0 Axes>"
      ]
     },
     "metadata": {},
     "output_type": "display_data"
    },
    {
     "data": {
      "image/png": "[encoded data removed]",
      "text/plain": [
       "<Figure size 640x480 with 2 Axes>"
      ]
     },
     "metadata": {},
     "output_type": "display_data"
    }
   ],
   "source": [
    "plt.figure(\n",
    "    figsize=(\n",
    "        25.6,\n",
    "        4.8,\n",
    "    ),\n",
    ")\n",
    "\n",
    "fig, axs = plt.subplots(\n",
    "    nrows=1,\n",
    "    ncols=2,\n",
    "    sharex=True,\n",
    "    sharey=False,\n",
    ")\n",
    "\n",
    "\n",
    "plt.subplot(1, 2, 1)\n",
    "for f, marker in zip(function_names, markers):\n",
    "    plt.loglog(\n",
    "        time_data_estimators.loc[f][\"first_exec\"],\n",
    "        marker=marker,\n",
    "        label=f,\n",
    "    )\n",
    "    # loglog because of the range of values for freq_bin\n",
    "    plt.grid()\n",
    "    plt.xlabel(\"Frequency Bins\")\n",
    "    plt.ylabel(\"Elapsed Execution Time (ns)\")\n",
    "    plt.title(\"First Execution\")\n",
    "\n",
    "plt.subplot(1, 2, 2)\n",
    "for f, marker in zip(function_names, markers):\n",
    "    plt.loglog(\n",
    "        (\n",
    "            time_data_estimators.loc[f][plot_metadata[1][\"name\"]]\n",
    "            - time_data_estimators.loc[f][plot_metadata[0][\"name\"]]\n",
    "        ).abs(),\n",
    "        marker=marker,\n",
    "        label=f,\n",
    "    )\n",
    "    # loglog because of the range of values for freq_bin\n",
    "    plt.grid()\n",
    "    plt.xlabel(\"Frequency Bins\")\n",
    "    plt.ylabel(\"Difference in Elapsed Time (ns)\")\n",
    "    plt.title(\"Absolute Difference Between Means\")\n",
    "\n",
    "fig.legend(\n",
    "    function_names,\n",
    "    bbox_to_anchor=(0, -0.05, 1.1, 0),\n",
    "    loc=\"lower center\",\n",
    "    mode=\"expand\",\n",
    "    ncol=3,\n",
    ")\n",
    "fig.tight_layout()\n",
    "plt.show()"
   ]
  }
 ],
 "metadata": {
  "celltoolbar": "Raw Cell Format",
  "kernelspec": {
   "display_name": "Python 3 (ipykernel)",
   "language": "python",
   "name": "python3"
  },
  "language_info": {
   "codemirror_mode": {
    "name": "ipython",
    "version": 3
   },
   "file_extension": ".py",
   "mimetype": "text/x-python",
   "name": "python",
   "nbconvert_exporter": "python",
   "pygments_lexer": "ipython3",
   "version": "3.8.16"
  }
 },
 "nbformat": 4,
 "nbformat_minor": 5
}
