{
 "cells": [
  {
   "cell_type": "markdown",
   "id": "6c0dbe0a",
   "metadata": {},
   "source": [
    "# Energy Packet Initialization\n",
    "\n",
    "## Theory\n",
    "\n",
    "While it is instructive to think about tracking the propagation history of\n",
    "individual photons when illustrating the basic idea behind Monte Carlo radiative transfer\n",
    "techniques, there are important numerical reasons for using a different\n",
    "discretization scheme. Instead of thinking in the photon picture, it brings\n",
    "significant advantages to follow the idea of <strong data-cite=\"Abbott1985\">[]</strong> and\n",
    "<strong data-cite=\"Lucy1999\">[]</strong> and consider parcels of radiant energy as the fundamental\n",
    "building blocks of the Monte Carlo calculation. These basic Monte Carlo quanta\n",
    "are commonly referred to as \"energy packets\" or simply \"packets\", and are composed of many photons with the same frequency.\n",
    "\n",
    "During a Monte Carlo calculation, $N$ (a large number) packets, all with a certain\n",
    "energy $\\varepsilon$, are created at the inner boundary of the computational domain (which is discussed in the [model section](../setup/model.rst)) known as the photosphere. Currently, the photosphere is modeled as a spherical [blackbody](https://en.wikipedia.org/wiki/Black-body_radiation) with a radius $r_\\mathrm{boundary\\_inner}$ and temperature $T_\\mathrm{inner}$. Both of these quantities are calculated as a part of the [model](../setup/model.ipynb), and $T_\\mathrm{inner}$ is additionally updated throughout the simulation as a part of the [Updating Plasma and Convergence](../update_and_conv/update_and_conv.ipynb) process.\n",
    "\n",
    "In TARDIS, all packets are assigned identical energies **in the lab frame** (see [Reference Frames](propagation.rst#reference-frames)), and the total (lab-frame) energy of the packets is 1 erg (and thus each packet has an energy of $\\frac{1}{N}$ ergs).\n",
    "\n",
    "<div class=\"alert alert-info\">\n",
    "    \n",
    "Note\n",
    "\n",
    "The indivisible energy packet scheme does not require that all packets have the same energy. This is just a convenient and simple choice adopted in TARDIS.\n",
    "\n",
    "</div>\n",
    "\n",
    "<div class=\"alert alert-info\">\n",
    "    \n",
    "Note\n",
    "\n",
    "Since all packets have the same total, and photon energy is proportional to frequency, higher-frequency packets will represent less real photons than lower-frequency packets.\n",
    "\n",
    "</div>\n",
    "\n",
    "Since the photosphere is modeled as a blackbody, its total luminosity $L_\\mathrm{inner}$ (recall that luminosity is energy emitted divided by the time in which it is emitted) is\n",
    "$$L_\\mathrm{inner}=\\frac{N\\varepsilon}{\\Delta t}=4 \\pi r_\\mathrm{boundary\\_inner}^2 \\sigma_{\\mathrm{R}} T_{\\mathrm{inner}}^4$$\n",
    "where $\\sigma_\\mathrm{R}$ is the Stefan-Boltzmann constant and $\\Delta t$ is the physical duration of the simulation. In order to make this relationship hold (remembering that $N\\varepsilon = 1$ erg), we use\n",
    "$$\\Delta t = \\frac{1}{L_\\mathrm{inner}}=\\frac{1}{4 \\pi r_\\mathrm{boundary\\_inner}^2 \\sigma_{\\mathrm{R}} T_{\\mathrm{inner}}^4}.$$\n",
    "\n",
    "<div class=\"alert alert-info\">\n",
    "    \n",
    "Note\n",
    "\n",
    "As will be shown in the code example, this will lead to unphysically small values for $\\Delta t$. It may be easier to think of the Monte Carlo packets not as packets of energy $\\epsilon$ going through a simulation of duration $\\Delta t$, but as packets of luminosity that carry an energy $\\epsilon$ over a time $\\Delta t$ (and thus truly being luminosity packets of luminosity $\\frac{\\epsilon}{\\Delta t}$). Indeed, this view of the packets will be useful when deriving the [Monte Carlo Estimators](estimators.rst).\n",
    "\n",
    "</div>\n",
    "\n",
    "During packet initialization, each packet is assigned an initial propagation direction $\\mu$ which is the cosine of the angle $\\theta$ which the packet's path makes with the radial direction (see the image below). Using a pseudo-random number generator which generates numbers $z$ uniformly distributed on the interval $[0,1]$, the propagation direction is determined (due to physical considerations beyond the scope of this documentation) according to\n",
    "$$\\mu = \\sqrt{z}.$$\n",
    "This sampling is shown in the \"Code Example\" section.\n",
    "\n",
    "<img src=\"../images/propagation_direction.png\" width=500>\n",
    "\n",
    "Finally, each packet is assigned an initial frequency (or more precisely, the initial frequency of its constituent photons). Note that since each packet has the same energy, each packet will represent a different number of real photons. The sampling on packet frequencies is more involved than that of the propagation direction, as it involves sampling the Planck distribution (see below). TARDIS uses the technique described in <strong data-cite=\"Carter1975\">[]</strong> and summarized in <strong data-cite=\"Bjorkman2001\">[]</strong> for this purpose.\n",
    "\n",
    "During the simulation, the energy of the packet remains constant in the local\n",
    "co-moving frame (see [Reference Frames](propagation.rst#reference-frames)). This naturally ensures energy\n",
    "conservation and constitutes the main advantage of this discretization scheme. **However, while the energy of the packets is conserved in the co-moving frame, the co-moving frequency of the packet (and thus the photons represented by the packet) may vary over the course of the simulation. Thus, a packet may represent several different numbers of real photons throughout their lifetimes.**\n",
    "\n",
    "## Code Example\n",
    "\n",
    "We now demonstrate the TARDIS packet initialization framework:"
   ]
  },
  {
   "cell_type": "code",
   "execution_count": 1,
   "id": "426325e5",
   "metadata": {},
   "outputs": [
    {
     "data": {
      "application/vnd.jupyter.widget-view+json": {
       "model_id": "",
       "version_major": 2,
       "version_minor": 0
      },
      "text/plain": [
       "Iterations:          0/? [00:00<?, ?it/s]"
      ]
     },
     "metadata": {},
     "output_type": "display_data"
    },
    {
     "data": {
      "application/vnd.jupyter.widget-view+json": {
       "model_id": "",
       "version_major": 2,
       "version_minor": 0
      },
      "text/plain": [
       "Packets:             0/? [00:00<?, ?it/s]"
      ]
     },
     "metadata": {},
     "output_type": "display_data"
    }
   ],
   "source": [
    "import numpy as np\n",
    "from tardis.montecarlo.packet_source import BlackBodySimpleSource\n",
    "from astropy import units as u\n",
    "from tardis import constants as const\n",
    "import matplotlib.pyplot as plt\n",
    "import numba\n",
    "import time\n",
    "import pandas as pd\n",
    "import itertools\n",
    "import tqdm.auto as tqdm\n",
    "import scipy.stats as stats\n",
    "\n",
    "\n",
    "# The random number generator that will be used\n",
    "rng = np.random.default_rng()"
   ]
  },
  {
   "cell_type": "markdown",
   "id": "4ae02998",
   "metadata": {},
   "source": [
    "The following cell contains values that you can change to see how it affects the spectrum (in an actual simulation, the seed and number of packets are set in the [Monte Carlo configuration](../../io/configuration/components/montecarlo.rst), and the photospheric radius is calculated as a part of the [model](../setup/model.ipynb)):"
   ]
  },
  {
   "cell_type": "code",
   "execution_count": 2,
   "id": "bc34bf33",
   "metadata": {},
   "outputs": [],
   "source": [
    "# Seed for the pseudo-random number generator\n",
    "seed = 1\n",
    "\n",
    "# Number of packets generated\n",
    "n_packets = 40000\n",
    "\n",
    "# Radius of the supernova's photosphere in cm\n",
    "r_boundary_inner = 1e15 * u.cm"
   ]
  },
  {
   "cell_type": "markdown",
   "id": "450faf76",
   "metadata": {},
   "source": [
    "We set the temperature of the photosphere $T_\\mathrm{inner}$, which will determine the photospheric luminosity (in an actual simulation, $T_\\mathrm{inner}$ is initially calculated as a part of the [model](../setup/model.ipynb) and updated as a part of the [Updating Plasma and Convergence](../update_and_conv/update_and_conv.ipynb) process):"
   ]
  },
  {
   "cell_type": "code",
   "execution_count": 3,
   "id": "3fb3ca8c",
   "metadata": {},
   "outputs": [
    {
     "name": "stdout",
     "output_type": "stream",
     "text": [
      "Luminosity of photosphere: 7.125600863965567e+42 erg / s\n"
     ]
    }
   ],
   "source": [
    "# Temperature in K\n",
    "temperature_inner = 10000 * u.K\n",
    "\n",
    "luminosity_inner = (\n",
    "    4\n",
    "    * np.pi\n",
    "    * (r_boundary_inner**2)\n",
    "    * const.sigma_sb\n",
    "    * (temperature_inner**4)\n",
    ")\n",
    "\n",
    "# Makes sure the luminosity is given in erg/s\n",
    "luminosity_inner = luminosity_inner.to(\"erg/s\")\n",
    "\n",
    "print(\n",
    "    \"Luminosity of photosphere:\",\n",
    "    luminosity_inner,\n",
    ")"
   ]
  },
  {
   "cell_type": "markdown",
   "id": "516633c5",
   "metadata": {},
   "source": [
    "We now generate the ensemble of packets. The array of packet energies and radii are also shown."
   ]
  },
  {
   "cell_type": "code",
   "execution_count": 4,
   "id": "925e9e1b",
   "metadata": {},
   "outputs": [
    {
     "name": "stdout",
     "output_type": "stream",
     "text": [
      "Energies: [2.5e-05 2.5e-05 2.5e-05 ... 2.5e-05 2.5e-05 2.5e-05] erg\n",
      "Radii: [1.e+15 1.e+15 1.e+15 ... 1.e+15 1.e+15 1.e+15] cm\n"
     ]
    }
   ],
   "source": [
    "# We define our packet source\n",
    "packet_source = BlackBodySimpleSource(seed)\n",
    "\n",
    "radii, nus, mus, energies = packet_source.create_packets(\n",
    "    temperature_inner.value,\n",
    "    n_packets,\n",
    "    rng,\n",
    "    r_boundary_inner,\n",
    ")\n",
    "\n",
    "# Sets the energies in units of ergs\n",
    "energies *= u.erg\n",
    "\n",
    "# Sets the frequencies in units of Hz\n",
    "nus *= u.Hz\n",
    "\n",
    "print(\n",
    "    \"Energies:\",\n",
    "    energies,\n",
    ")\n",
    "print(\n",
    "    \"Radii:\",\n",
    "    radii,\n",
    ")"
   ]
  },
  {
   "cell_type": "markdown",
   "id": "16936bce",
   "metadata": {},
   "source": [
    "We set the timespan of the simulation so that each packet contributes the appropriate luminosity to the spectrum."
   ]
  },
  {
   "cell_type": "code",
   "execution_count": 5,
   "id": "fed35f47",
   "metadata": {},
   "outputs": [
    {
     "name": "stdout",
     "output_type": "stream",
     "text": [
      "Time of simulation: 1.4033904215110305e-43 s\n",
      "Luminosity per packet: [1.78140022e+38 1.78140022e+38 1.78140022e+38 ... 1.78140022e+38\n",
      " 1.78140022e+38 1.78140022e+38] erg / s\n"
     ]
    }
   ],
   "source": [
    "# Time of simulation\n",
    "t_simulation = 1 * u.erg / luminosity_inner\n",
    "print(\n",
    "    \"Time of simulation:\",\n",
    "    t_simulation,\n",
    ")\n",
    "\n",
    "# Array of luminosity contribution by each packet\n",
    "lumin_per_packet = energies / t_simulation\n",
    "print(\n",
    "    \"Luminosity per packet:\",\n",
    "    lumin_per_packet,\n",
    ")"
   ]
  },
  {
   "cell_type": "markdown",
   "id": "0d839222",
   "metadata": {},
   "source": [
    "We define important constants, and for comparison's sake, we code the Planck distribution function\n",
    "$$L_\\nu (\\nu)=\\frac{8\\pi r_\\mathrm{boundary\\_inner}^2 h\\nu^3}{c^2}\\frac{1}{\\exp\\left(\\frac{h\\nu}{k_BT_\\mathrm{inner}}\\right)-1}$$\n",
    "where $L_\\nu$ is the luminosity density (see [Basic Spectrum Generation](../spectrum/basic.ipynb)) with respect to frequency, $\\nu$ is frequency, $h$ is Planck's constant, $c$ is the speed of light, and $k_B$ is Boltzmann's constant:"
   ]
  },
  {
   "cell_type": "code",
   "execution_count": 6,
   "id": "916a5e22",
   "metadata": {
    "scrolled": false
   },
   "outputs": [],
   "source": [
    "h = const.h.cgs\n",
    "c2 = const.c.cgs**2\n",
    "kB = const.k_B.cgs\n",
    "\n",
    "\n",
    "def planck_function(nu):\n",
    "    return (\n",
    "        8\n",
    "        * np.pi**2\n",
    "        * r_boundary_inner**2\n",
    "        * h\n",
    "        * nu**3\n",
    "        / (c2 * (np.exp(h * nu / (kB * temperature_inner)) - 1))\n",
    "    )"
   ]
  },
  {
   "cell_type": "markdown",
   "id": "78230177",
   "metadata": {},
   "source": [
    "We plot the Planck distribution and a histogram of the generated packet distribution:"
   ]
  },
  {
   "cell_type": "code",
   "execution_count": 7,
   "id": "913fcdbb",
   "metadata": {},
   "outputs": [
    {
     "data": {
      "image/png": "[encoded data removed]",
      "text/plain": [
       "<Figure size 640x480 with 1 Axes>"
      ]
     },
     "metadata": {},
     "output_type": "display_data"
    }
   ],
   "source": [
    "# We set important quantites for making our histogram\n",
    "bins = 200\n",
    "nus_planck = np.linspace(\n",
    "    min(nus),\n",
    "    max(nus),\n",
    "    bins,\n",
    ")\n",
    "bin_width = nus_planck[1] - nus_planck[0]\n",
    "\n",
    "# In the histogram plot below, the weights argument is used\n",
    "# to make sure our plotted spectrum has the correct y-axis scale\n",
    "plt.hist(\n",
    "    nus.value,\n",
    "    bins=bins,\n",
    "    weights=lumin_per_packet / bin_width,\n",
    ")\n",
    "\n",
    "# We plot the planck function for comparison\n",
    "# plt.plot(nus_planck, planck_function(nus_planck))\n",
    "plt.plot(\n",
    "    nus_planck,\n",
    "    planck_function(nus_planck),\n",
    ")\n",
    "\n",
    "plt.xlabel(\"Frequency (Hz)\")\n",
    "plt.ylabel(\"Luminosity density w.r.t. frequency (erg/s/Hz)\")\n",
    "plt.show()"
   ]
  },
  {
   "cell_type": "markdown",
   "id": "ad4f0f0e",
   "metadata": {},
   "source": [
    "We finally plot the generated $\\mu$ density distribution, followed by the generated $\\theta=\\arccos (\\mu)$ density distribution, compared with the respective curves $\\rho = 2\\mu$ and $\\rho = \\sin(2\\theta)$:"
   ]
  },
  {
   "cell_type": "code",
   "execution_count": 8,
   "id": "ae4c97de",
   "metadata": {},
   "outputs": [
    {
     "data": {
      "image/png": "[encoded data removed]",
      "text/plain": [
       "<Figure size 640x480 with 1 Axes>"
      ]
     },
     "metadata": {},
     "output_type": "display_data"
    }
   ],
   "source": [
    "x = np.linspace(0, 1, 1000)\n",
    "\n",
    "plt.hist(\n",
    "    mus,\n",
    "    bins=bins,\n",
    "    density=True,\n",
    ")\n",
    "plt.plot(\n",
    "    x,\n",
    "    2 * x,\n",
    ")\n",
    "plt.xlabel(\"Propagation direction\")\n",
    "plt.ylabel(\"Probability density\")\n",
    "plt.show()"
   ]
  },
  {
   "cell_type": "code",
   "execution_count": 9,
   "id": "41daa433",
   "metadata": {},
   "outputs": [
    {
     "data": {
      "image/png": "[encoded data removed]",
      "text/plain": [
       "<Figure size 640x480 with 1 Axes>"
      ]
     },
     "metadata": {},
     "output_type": "display_data"
    }
   ],
   "source": [
    "thetas = np.linspace(\n",
    "    0,\n",
    "    np.pi / 2,\n",
    "    1000,\n",
    ")\n",
    "\n",
    "plt.hist(\n",
    "    np.arccos(mus),\n",
    "    bins=bins,\n",
    "    density=True,\n",
    ")\n",
    "plt.plot(\n",
    "    thetas,\n",
    "    np.sin(2 * thetas),\n",
    ")\n",
    "plt.xlabel(\"Angle with normal (rad)\")\n",
    "plt.ylabel(\"Probability density\")\n",
    "plt.show()"
   ]
  },
  {
   "cell_type": "markdown",
   "id": "2f661592",
   "metadata": {},
   "source": [
    "## Custom Packet Source\n",
    "\n",
    "TARDIS allows for the user to input a custom function that generates energy packets instead of the basic blackbody source described here. See [Running TARDIS with a Custom Packet Source](../../io/optional/custom_source.ipynb) for more information."
   ]
  },
  {
   "cell_type": "markdown",
   "id": "efc2b03c",
   "metadata": {},
   "source": [
    "## Numba Implementation of Planck Function\n",
    "\n",
    "The remaining objective is to implement ```planck_function()``` using Numba and compare results to the non-Numba implementation. It is unclear a priori how many simulations should be run to give an accurate idea of what the average is. Here, the number of iterations for each time trial is chosen according to the process described in [section 1.3.2 of these notes](http://www.mit.edu/~kircher/sim.pdf#section.1.3). Plots of execution times are also included."
   ]
  },
  {
   "cell_type": "code",
   "execution_count": 10,
   "id": "eba811ec",
   "metadata": {},
   "outputs": [],
   "source": [
    "@numba.njit()\n",
    "def planck_function_numba(nu):\n",
    "    return (\n",
    "        8\n",
    "        * np.pi**2\n",
    "        * r_boundary_inner**2\n",
    "        * h\n",
    "        * nu**3\n",
    "        / (c2 * (np.exp(h * nu / (kB * temperature_inner)) - 1))\n",
    "    )\n",
    "\n",
    "\n",
    "@numba.njit(parallel=True)\n",
    "def planck_function_numba_parallel(nu):\n",
    "    return (\n",
    "        8\n",
    "        * np.pi**2\n",
    "        * r_boundary_inner**2\n",
    "        * h\n",
    "        * nu**3\n",
    "        / (c2 * (np.exp(h * nu / (kB * temperature_inner)) - 1))\n",
    "    )\n",
    "\n",
    "\n",
    "_ = planck_function_numba(nus_planck)  # Force Numba compilation\n",
    "_ = planck_function_numba_parallel(nus_planck)  # Force Numba compilation"
   ]
  },
  {
   "cell_type": "markdown",
   "id": "29a5b09d",
   "metadata": {},
   "source": [
    "### Initial Pass of Time Trials\n",
    "\n",
    "Below is the first naive pass of simulations that will be used to calculate the number of remaining needed trials."
   ]
  },
  {
   "cell_type": "code",
   "execution_count": 11,
   "id": "e4793fd0",
   "metadata": {
    "scrolled": true
   },
   "outputs": [
    {
     "data": {
      "application/vnd.jupyter.widget-view+json": {
       "model_id": "f159d1b4b0204f949c354bfb4fefc7e9",
       "version_major": 2,
       "version_minor": 0
      },
      "text/plain": [
       "  0%|          | 0/2250 [00:00<?, ?it/s]"
      ]
     },
     "metadata": {},
     "output_type": "display_data"
    },
    {
     "data": {
      "text/html": [
       "<div>\n",
       "<style scoped>\n",
       "    .dataframe tbody tr th:only-of-type {\n",
       "        vertical-align: middle;\n",
       "    }\n",
       "\n",
       "    .dataframe tbody tr th {\n",
       "        vertical-align: top;\n",
       "    }\n",
       "\n",
       "    .dataframe thead th {\n",
       "        text-align: right;\n",
       "    }\n",
       "</style>\n",
       "<table border=\"1\" class=\"dataframe\">\n",
       "  <thead>\n",
       "    <tr style=\"text-align: right;\">\n",
       "      <th></th>\n",
       "      <th>func_name</th>\n",
       "      <th>freq_bins</th>\n",
       "      <th>exec_time</th>\n",
       "      <th>date</th>\n",
       "    </tr>\n",
       "  </thead>\n",
       "  <tbody>\n",
       "    <tr>\n",
       "      <th>0</th>\n",
       "      <td>planck_function</td>\n",
       "      <td>100</td>\n",
       "      <td>271778</td>\n",
       "      <td>2023-03-12 20:55:57.005134</td>\n",
       "    </tr>\n",
       "    <tr>\n",
       "      <th>1</th>\n",
       "      <td>planck_function</td>\n",
       "      <td>100</td>\n",
       "      <td>240740</td>\n",
       "      <td>2023-03-12 20:55:57.445860</td>\n",
       "    </tr>\n",
       "    <tr>\n",
       "      <th>2</th>\n",
       "      <td>planck_function</td>\n",
       "      <td>100</td>\n",
       "      <td>246394</td>\n",
       "      <td>2023-03-12 20:55:57.890908</td>\n",
       "    </tr>\n",
       "    <tr>\n",
       "      <th>3</th>\n",
       "      <td>planck_function</td>\n",
       "      <td>100</td>\n",
       "      <td>247942</td>\n",
       "      <td>2023-03-12 20:55:58.328056</td>\n",
       "    </tr>\n",
       "    <tr>\n",
       "      <th>4</th>\n",
       "      <td>planck_function</td>\n",
       "      <td>100</td>\n",
       "      <td>235055</td>\n",
       "      <td>2023-03-12 20:55:58.768118</td>\n",
       "    </tr>\n",
       "    <tr>\n",
       "      <th>...</th>\n",
       "      <td>...</td>\n",
       "      <td>...</td>\n",
       "      <td>...</td>\n",
       "      <td>...</td>\n",
       "    </tr>\n",
       "    <tr>\n",
       "      <th>2245</th>\n",
       "      <td>planck_function_numba_parallel</td>\n",
       "      <td>5000000</td>\n",
       "      <td>3844926</td>\n",
       "      <td>2023-03-12 21:11:52.481731</td>\n",
       "    </tr>\n",
       "    <tr>\n",
       "      <th>2246</th>\n",
       "      <td>planck_function_numba_parallel</td>\n",
       "      <td>5000000</td>\n",
       "      <td>3889941</td>\n",
       "      <td>2023-03-12 21:11:52.941353</td>\n",
       "    </tr>\n",
       "    <tr>\n",
       "      <th>2247</th>\n",
       "      <td>planck_function_numba_parallel</td>\n",
       "      <td>5000000</td>\n",
       "      <td>3791014</td>\n",
       "      <td>2023-03-12 21:11:53.394910</td>\n",
       "    </tr>\n",
       "    <tr>\n",
       "      <th>2248</th>\n",
       "      <td>planck_function_numba_parallel</td>\n",
       "      <td>5000000</td>\n",
       "      <td>3700193</td>\n",
       "      <td>2023-03-12 21:11:53.856457</td>\n",
       "    </tr>\n",
       "    <tr>\n",
       "      <th>2249</th>\n",
       "      <td>planck_function_numba_parallel</td>\n",
       "      <td>5000000</td>\n",
       "      <td>3815922</td>\n",
       "      <td>2023-03-12 21:11:54.311414</td>\n",
       "    </tr>\n",
       "  </tbody>\n",
       "</table>\n",
       "<p>2250 rows × 4 columns</p>\n",
       "</div>"
      ],
      "text/plain": [
       "                           func_name  freq_bins  exec_time  \\\n",
       "0                    planck_function        100     271778   \n",
       "1                    planck_function        100     240740   \n",
       "2                    planck_function        100     246394   \n",
       "3                    planck_function        100     247942   \n",
       "4                    planck_function        100     235055   \n",
       "...                              ...        ...        ...   \n",
       "2245  planck_function_numba_parallel    5000000    3844926   \n",
       "2246  planck_function_numba_parallel    5000000    3889941   \n",
       "2247  planck_function_numba_parallel    5000000    3791014   \n",
       "2248  planck_function_numba_parallel    5000000    3700193   \n",
       "2249  planck_function_numba_parallel    5000000    3815922   \n",
       "\n",
       "                           date  \n",
       "0    2023-03-12 20:55:57.005134  \n",
       "1    2023-03-12 20:55:57.445860  \n",
       "2    2023-03-12 20:55:57.890908  \n",
       "3    2023-03-12 20:55:58.328056  \n",
       "4    2023-03-12 20:55:58.768118  \n",
       "...                         ...  \n",
       "2245 2023-03-12 21:11:52.481731  \n",
       "2246 2023-03-12 21:11:52.941353  \n",
       "2247 2023-03-12 21:11:53.394910  \n",
       "2248 2023-03-12 21:11:53.856457  \n",
       "2249 2023-03-12 21:11:54.311414  \n",
       "\n",
       "[2250 rows x 4 columns]"
      ]
     },
     "execution_count": 11,
     "metadata": {},
     "output_type": "execute_result"
    }
   ],
   "source": [
    "freq_bins = tuple(\n",
    "    itertools.chain.from_iterable(\n",
    "        ((1 * 10**e, 2 * 10**e, 5 * 10**e) for e in range(2, 7))\n",
    "    )\n",
    ")\n",
    "# The prompt only asked for 100, 200, and 500, but seeing how performance\n",
    "# grows for more frequency bins can possibly be informative.\n",
    "\n",
    "function_names = (\n",
    "    \"planck_function\",\n",
    "    \"planck_function_numba\",\n",
    "    \"planck_function_numba_parallel\",\n",
    ")\n",
    "\n",
    "functions = (\n",
    "    planck_function,\n",
    "    planck_function_numba,\n",
    "    planck_function_numba_parallel,\n",
    ")\n",
    "\n",
    "funcdict = {\n",
    "    funcname: func for (funcname, func) in zip(function_names, functions)\n",
    "}\n",
    "\n",
    "N_initial = 50\n",
    "\n",
    "raw_time_data_columns = (\n",
    "    \"func_name\",\n",
    "    \"freq_bins\",\n",
    "    \"exec_time\",\n",
    "    \"date\",\n",
    ")\n",
    "raw_time_data = pd.DataFrame(columns=raw_time_data_columns)\n",
    "raw_time_data[raw_time_data_columns[0]] = raw_time_data[\n",
    "    raw_time_data_columns[0]\n",
    "].astype(\"category\")\n",
    "raw_time_data[raw_time_data_columns[1]] = pd.to_numeric(\n",
    "    raw_time_data[raw_time_data_columns[1]], downcast=\"integer\"\n",
    ")\n",
    "raw_time_data[raw_time_data_columns[2]] = pd.to_numeric(\n",
    "    raw_time_data[raw_time_data_columns[2]], downcast=\"integer\"\n",
    ")\n",
    "raw_time_data[raw_time_data_columns[3]] = pd.to_datetime(\n",
    "    raw_time_data[raw_time_data_columns[3]]\n",
    ")\n",
    "\n",
    "\n",
    "def time_trial(func, func_name, freq):\n",
    "    nus_planck = np.linspace(\n",
    "        min(nus),\n",
    "        max(nus),\n",
    "        freq,\n",
    "    )\n",
    "\n",
    "    start_time = time.perf_counter_ns()\n",
    "    _ = func(nus_planck)\n",
    "    stop_time = time.perf_counter_ns()\n",
    "    timestamp = pd.Timestamp.now()\n",
    "    elapsed = stop_time - start_time\n",
    "    tempdf = pd.DataFrame(\n",
    "        [\n",
    "            [\n",
    "                func_name,\n",
    "                freq,\n",
    "                elapsed,\n",
    "                timestamp,\n",
    "            ],\n",
    "        ],\n",
    "        columns=raw_time_data_columns,\n",
    "    )\n",
    "\n",
    "    return tempdf\n",
    "\n",
    "\n",
    "total_iterations = len(freq_bins) * len(functions) * N_initial\n",
    "\n",
    "for (func, func_name), freq, n in tqdm.tqdm(\n",
    "    itertools.product(\n",
    "        zip(\n",
    "            functions,\n",
    "            function_names,\n",
    "        ),\n",
    "        freq_bins,\n",
    "        range(N_initial),\n",
    "    ),\n",
    "    total=total_iterations,\n",
    "):\n",
    "    tempdf = time_trial(\n",
    "        func,\n",
    "        func_name,\n",
    "        freq,\n",
    "    )\n",
    "    raw_time_data = pd.concat(\n",
    "        [\n",
    "            raw_time_data,\n",
    "            tempdf,\n",
    "        ],\n",
    "        ignore_index=True,\n",
    "    )\n",
    "\n",
    "\n",
    "raw_time_data"
   ]
  },
  {
   "cell_type": "code",
   "execution_count": 12,
   "id": "04878fd6",
   "metadata": {},
   "outputs": [
    {
     "data": {
      "text/html": [
       "<div>\n",
       "<style scoped>\n",
       "    .dataframe tbody tr th:only-of-type {\n",
       "        vertical-align: middle;\n",
       "    }\n",
       "\n",
       "    .dataframe tbody tr th {\n",
       "        vertical-align: top;\n",
       "    }\n",
       "\n",
       "    .dataframe thead th {\n",
       "        text-align: right;\n",
       "    }\n",
       "</style>\n",
       "<table border=\"1\" class=\"dataframe\">\n",
       "  <thead>\n",
       "    <tr style=\"text-align: right;\">\n",
       "      <th></th>\n",
       "      <th></th>\n",
       "      <th>mean</th>\n",
       "      <th>std</th>\n",
       "    </tr>\n",
       "    <tr>\n",
       "      <th>func_name</th>\n",
       "      <th>freq_bins</th>\n",
       "      <th></th>\n",
       "      <th></th>\n",
       "    </tr>\n",
       "  </thead>\n",
       "  <tbody>\n",
       "    <tr>\n",
       "      <th rowspan=\"15\" valign=\"top\">planck_function</th>\n",
       "      <th>100</th>\n",
       "      <td>2.388208e+05</td>\n",
       "      <td>1.083945e+04</td>\n",
       "    </tr>\n",
       "    <tr>\n",
       "      <th>200</th>\n",
       "      <td>2.412646e+05</td>\n",
       "      <td>1.482596e+04</td>\n",
       "    </tr>\n",
       "    <tr>\n",
       "      <th>500</th>\n",
       "      <td>2.525893e+05</td>\n",
       "      <td>1.640693e+04</td>\n",
       "    </tr>\n",
       "    <tr>\n",
       "      <th>1000</th>\n",
       "      <td>2.501759e+05</td>\n",
       "      <td>1.154268e+04</td>\n",
       "    </tr>\n",
       "    <tr>\n",
       "      <th>2000</th>\n",
       "      <td>2.732761e+05</td>\n",
       "      <td>1.173091e+04</td>\n",
       "    </tr>\n",
       "    <tr>\n",
       "      <th>5000</th>\n",
       "      <td>3.104112e+05</td>\n",
       "      <td>1.750847e+04</td>\n",
       "    </tr>\n",
       "    <tr>\n",
       "      <th>10000</th>\n",
       "      <td>3.792305e+05</td>\n",
       "      <td>2.032278e+04</td>\n",
       "    </tr>\n",
       "    <tr>\n",
       "      <th>20000</th>\n",
       "      <td>5.223280e+05</td>\n",
       "      <td>2.357555e+04</td>\n",
       "    </tr>\n",
       "    <tr>\n",
       "      <th>50000</th>\n",
       "      <td>9.810008e+05</td>\n",
       "      <td>3.346557e+04</td>\n",
       "    </tr>\n",
       "    <tr>\n",
       "      <th>100000</th>\n",
       "      <td>1.742155e+06</td>\n",
       "      <td>3.074426e+04</td>\n",
       "    </tr>\n",
       "    <tr>\n",
       "      <th>200000</th>\n",
       "      <td>3.729852e+06</td>\n",
       "      <td>4.186849e+04</td>\n",
       "    </tr>\n",
       "    <tr>\n",
       "      <th>500000</th>\n",
       "      <td>8.718285e+06</td>\n",
       "      <td>2.222598e+05</td>\n",
       "    </tr>\n",
       "    <tr>\n",
       "      <th>1000000</th>\n",
       "      <td>1.569366e+07</td>\n",
       "      <td>2.647873e+05</td>\n",
       "    </tr>\n",
       "    <tr>\n",
       "      <th>2000000</th>\n",
       "      <td>3.306403e+07</td>\n",
       "      <td>3.612152e+05</td>\n",
       "    </tr>\n",
       "    <tr>\n",
       "      <th>5000000</th>\n",
       "      <td>1.063891e+08</td>\n",
       "      <td>1.169409e+06</td>\n",
       "    </tr>\n",
       "    <tr>\n",
       "      <th rowspan=\"15\" valign=\"top\">planck_function_numba</th>\n",
       "      <th>100</th>\n",
       "      <td>8.858680e+03</td>\n",
       "      <td>3.987715e+03</td>\n",
       "    </tr>\n",
       "    <tr>\n",
       "      <th>200</th>\n",
       "      <td>9.418240e+03</td>\n",
       "      <td>7.660248e+02</td>\n",
       "    </tr>\n",
       "    <tr>\n",
       "      <th>500</th>\n",
       "      <td>1.217730e+04</td>\n",
       "      <td>9.142330e+02</td>\n",
       "    </tr>\n",
       "    <tr>\n",
       "      <th>1000</th>\n",
       "      <td>1.669256e+04</td>\n",
       "      <td>6.332142e+02</td>\n",
       "    </tr>\n",
       "    <tr>\n",
       "      <th>2000</th>\n",
       "      <td>2.175882e+04</td>\n",
       "      <td>8.867974e+02</td>\n",
       "    </tr>\n",
       "    <tr>\n",
       "      <th>5000</th>\n",
       "      <td>3.516426e+04</td>\n",
       "      <td>5.918826e+03</td>\n",
       "    </tr>\n",
       "    <tr>\n",
       "      <th>10000</th>\n",
       "      <td>5.820096e+04</td>\n",
       "      <td>6.262850e+03</td>\n",
       "    </tr>\n",
       "    <tr>\n",
       "      <th>20000</th>\n",
       "      <td>1.026756e+05</td>\n",
       "      <td>7.509148e+03</td>\n",
       "    </tr>\n",
       "    <tr>\n",
       "      <th>50000</th>\n",
       "      <td>2.285734e+05</td>\n",
       "      <td>1.727755e+04</td>\n",
       "    </tr>\n",
       "    <tr>\n",
       "      <th>100000</th>\n",
       "      <td>4.229214e+05</td>\n",
       "      <td>3.129594e+04</td>\n",
       "    </tr>\n",
       "    <tr>\n",
       "      <th>200000</th>\n",
       "      <td>8.091726e+05</td>\n",
       "      <td>5.011661e+04</td>\n",
       "    </tr>\n",
       "    <tr>\n",
       "      <th>500000</th>\n",
       "      <td>1.935453e+06</td>\n",
       "      <td>1.556954e+05</td>\n",
       "    </tr>\n",
       "    <tr>\n",
       "      <th>1000000</th>\n",
       "      <td>3.769004e+06</td>\n",
       "      <td>2.401694e+05</td>\n",
       "    </tr>\n",
       "    <tr>\n",
       "      <th>2000000</th>\n",
       "      <td>1.057826e+07</td>\n",
       "      <td>3.550734e+05</td>\n",
       "    </tr>\n",
       "    <tr>\n",
       "      <th>5000000</th>\n",
       "      <td>2.677095e+07</td>\n",
       "      <td>1.019618e+06</td>\n",
       "    </tr>\n",
       "    <tr>\n",
       "      <th rowspan=\"15\" valign=\"top\">planck_function_numba_parallel</th>\n",
       "      <th>100</th>\n",
       "      <td>9.775466e+04</td>\n",
       "      <td>7.080159e+03</td>\n",
       "    </tr>\n",
       "    <tr>\n",
       "      <th>200</th>\n",
       "      <td>1.005790e+05</td>\n",
       "      <td>1.237449e+04</td>\n",
       "    </tr>\n",
       "    <tr>\n",
       "      <th>500</th>\n",
       "      <td>1.077849e+05</td>\n",
       "      <td>1.547013e+04</td>\n",
       "    </tr>\n",
       "    <tr>\n",
       "      <th>1000</th>\n",
       "      <td>1.118384e+05</td>\n",
       "      <td>1.088735e+04</td>\n",
       "    </tr>\n",
       "    <tr>\n",
       "      <th>2000</th>\n",
       "      <td>1.163015e+05</td>\n",
       "      <td>1.259773e+04</td>\n",
       "    </tr>\n",
       "    <tr>\n",
       "      <th>5000</th>\n",
       "      <td>1.343586e+05</td>\n",
       "      <td>2.083430e+04</td>\n",
       "    </tr>\n",
       "    <tr>\n",
       "      <th>10000</th>\n",
       "      <td>1.577864e+05</td>\n",
       "      <td>1.473961e+04</td>\n",
       "    </tr>\n",
       "    <tr>\n",
       "      <th>20000</th>\n",
       "      <td>2.001012e+05</td>\n",
       "      <td>2.091643e+04</td>\n",
       "    </tr>\n",
       "    <tr>\n",
       "      <th>50000</th>\n",
       "      <td>2.837402e+05</td>\n",
       "      <td>1.982487e+04</td>\n",
       "    </tr>\n",
       "    <tr>\n",
       "      <th>100000</th>\n",
       "      <td>3.578668e+05</td>\n",
       "      <td>3.747401e+04</td>\n",
       "    </tr>\n",
       "    <tr>\n",
       "      <th>200000</th>\n",
       "      <td>4.333420e+05</td>\n",
       "      <td>4.037592e+04</td>\n",
       "    </tr>\n",
       "    <tr>\n",
       "      <th>500000</th>\n",
       "      <td>6.279681e+05</td>\n",
       "      <td>5.638944e+04</td>\n",
       "    </tr>\n",
       "    <tr>\n",
       "      <th>1000000</th>\n",
       "      <td>9.089298e+05</td>\n",
       "      <td>4.660736e+04</td>\n",
       "    </tr>\n",
       "    <tr>\n",
       "      <th>2000000</th>\n",
       "      <td>1.745342e+06</td>\n",
       "      <td>4.712059e+04</td>\n",
       "    </tr>\n",
       "    <tr>\n",
       "      <th>5000000</th>\n",
       "      <td>3.895233e+06</td>\n",
       "      <td>3.296251e+05</td>\n",
       "    </tr>\n",
       "  </tbody>\n",
       "</table>\n",
       "</div>"
      ],
      "text/plain": [
       "                                                  mean           std\n",
       "func_name                      freq_bins                            \n",
       "planck_function                100        2.388208e+05  1.083945e+04\n",
       "                               200        2.412646e+05  1.482596e+04\n",
       "                               500        2.525893e+05  1.640693e+04\n",
       "                               1000       2.501759e+05  1.154268e+04\n",
       "                               2000       2.732761e+05  1.173091e+04\n",
       "                               5000       3.104112e+05  1.750847e+04\n",
       "                               10000      3.792305e+05  2.032278e+04\n",
       "                               20000      5.223280e+05  2.357555e+04\n",
       "                               50000      9.810008e+05  3.346557e+04\n",
       "                               100000     1.742155e+06  3.074426e+04\n",
       "                               200000     3.729852e+06  4.186849e+04\n",
       "                               500000     8.718285e+06  2.222598e+05\n",
       "                               1000000    1.569366e+07  2.647873e+05\n",
       "                               2000000    3.306403e+07  3.612152e+05\n",
       "                               5000000    1.063891e+08  1.169409e+06\n",
       "planck_function_numba          100        8.858680e+03  3.987715e+03\n",
       "                               200        9.418240e+03  7.660248e+02\n",
       "                               500        1.217730e+04  9.142330e+02\n",
       "                               1000       1.669256e+04  6.332142e+02\n",
       "                               2000       2.175882e+04  8.867974e+02\n",
       "                               5000       3.516426e+04  5.918826e+03\n",
       "                               10000      5.820096e+04  6.262850e+03\n",
       "                               20000      1.026756e+05  7.509148e+03\n",
       "                               50000      2.285734e+05  1.727755e+04\n",
       "                               100000     4.229214e+05  3.129594e+04\n",
       "                               200000     8.091726e+05  5.011661e+04\n",
       "                               500000     1.935453e+06  1.556954e+05\n",
       "                               1000000    3.769004e+06  2.401694e+05\n",
       "                               2000000    1.057826e+07  3.550734e+05\n",
       "                               5000000    2.677095e+07  1.019618e+06\n",
       "planck_function_numba_parallel 100        9.775466e+04  7.080159e+03\n",
       "                               200        1.005790e+05  1.237449e+04\n",
       "                               500        1.077849e+05  1.547013e+04\n",
       "                               1000       1.118384e+05  1.088735e+04\n",
       "                               2000       1.163015e+05  1.259773e+04\n",
       "                               5000       1.343586e+05  2.083430e+04\n",
       "                               10000      1.577864e+05  1.473961e+04\n",
       "                               20000      2.001012e+05  2.091643e+04\n",
       "                               50000      2.837402e+05  1.982487e+04\n",
       "                               100000     3.578668e+05  3.747401e+04\n",
       "                               200000     4.333420e+05  4.037592e+04\n",
       "                               500000     6.279681e+05  5.638944e+04\n",
       "                               1000000    9.089298e+05  4.660736e+04\n",
       "                               2000000    1.745342e+06  4.712059e+04\n",
       "                               5000000    3.895233e+06  3.296251e+05"
      ]
     },
     "execution_count": 12,
     "metadata": {},
     "output_type": "execute_result"
    }
   ],
   "source": [
    "time_data_estimators = pd.concat(\n",
    "    [\n",
    "        raw_time_data[raw_time_data.columns[:3]]\n",
    "        .groupby(\n",
    "            [\n",
    "                \"func_name\",\n",
    "                \"freq_bins\",\n",
    "            ]\n",
    "        )\n",
    "        .mean()\n",
    "        .rename(columns={raw_time_data.columns[2]: \"mean\"}),\n",
    "        raw_time_data[raw_time_data.columns[:3]]\n",
    "        .groupby(\n",
    "            [\n",
    "                \"func_name\",\n",
    "                \"freq_bins\",\n",
    "            ]\n",
    "        )\n",
    "        .std()\n",
    "        .rename(columns={raw_time_data.columns[2]: \"std\"}),\n",
    "    ],\n",
    "    axis=1,\n",
    ")\n",
    "\n",
    "time_data_estimators"
   ]
  },
  {
   "cell_type": "markdown",
   "id": "a26c03d9",
   "metadata": {},
   "source": [
    "### Calculating Sample Size\n",
    "\n",
    "Below, we use the formula on [page 8 of these notes](www.mit.edu/~kircher/sim.pdf#section.1.2) to calculate how many more samples we need to collect to be confident that $\\mathbb P \\left ( \\left | \\bar \\theta_n - \\theta \\right | \\leq \\epsilon \\right ) \\geq 1 - \\alpha$ where $\\theta$ is the true theoretical mean and $\\bar \\theta_n$ is our Monte Carlo estimator. For practical purposes, we also set a maximum iteration count."
   ]
  },
  {
   "cell_type": "code",
   "execution_count": 13,
   "id": "6e3afccf",
   "metadata": {},
   "outputs": [
    {
     "data": {
      "text/html": [
       "<div>\n",
       "<style scoped>\n",
       "    .dataframe tbody tr th:only-of-type {\n",
       "        vertical-align: middle;\n",
       "    }\n",
       "\n",
       "    .dataframe tbody tr th {\n",
       "        vertical-align: top;\n",
       "    }\n",
       "\n",
       "    .dataframe thead th {\n",
       "        text-align: right;\n",
       "    }\n",
       "</style>\n",
       "<table border=\"1\" class=\"dataframe\">\n",
       "  <thead>\n",
       "    <tr style=\"text-align: right;\">\n",
       "      <th></th>\n",
       "      <th></th>\n",
       "      <th>mean</th>\n",
       "      <th>std</th>\n",
       "      <th>N_montecarlo</th>\n",
       "    </tr>\n",
       "    <tr>\n",
       "      <th>func_name</th>\n",
       "      <th>freq_bins</th>\n",
       "      <th></th>\n",
       "      <th></th>\n",
       "      <th></th>\n",
       "    </tr>\n",
       "  </thead>\n",
       "  <tbody>\n",
       "    <tr>\n",
       "      <th rowspan=\"15\" valign=\"top\">planck_function</th>\n",
       "      <th>100</th>\n",
       "      <td>2.388208e+05</td>\n",
       "      <td>1.083945e+04</td>\n",
       "      <td>1</td>\n",
       "    </tr>\n",
       "    <tr>\n",
       "      <th>200</th>\n",
       "      <td>2.412646e+05</td>\n",
       "      <td>1.482596e+04</td>\n",
       "      <td>1</td>\n",
       "    </tr>\n",
       "    <tr>\n",
       "      <th>500</th>\n",
       "      <td>2.525893e+05</td>\n",
       "      <td>1.640693e+04</td>\n",
       "      <td>1</td>\n",
       "    </tr>\n",
       "    <tr>\n",
       "      <th>1000</th>\n",
       "      <td>2.501759e+05</td>\n",
       "      <td>1.154268e+04</td>\n",
       "      <td>1</td>\n",
       "    </tr>\n",
       "    <tr>\n",
       "      <th>2000</th>\n",
       "      <td>2.732761e+05</td>\n",
       "      <td>1.173091e+04</td>\n",
       "      <td>1</td>\n",
       "    </tr>\n",
       "    <tr>\n",
       "      <th>5000</th>\n",
       "      <td>3.104112e+05</td>\n",
       "      <td>1.750847e+04</td>\n",
       "      <td>1</td>\n",
       "    </tr>\n",
       "    <tr>\n",
       "      <th>10000</th>\n",
       "      <td>3.792305e+05</td>\n",
       "      <td>2.032278e+04</td>\n",
       "      <td>1</td>\n",
       "    </tr>\n",
       "    <tr>\n",
       "      <th>20000</th>\n",
       "      <td>5.223280e+05</td>\n",
       "      <td>2.357555e+04</td>\n",
       "      <td>1</td>\n",
       "    </tr>\n",
       "    <tr>\n",
       "      <th>50000</th>\n",
       "      <td>9.810008e+05</td>\n",
       "      <td>3.346557e+04</td>\n",
       "      <td>1</td>\n",
       "    </tr>\n",
       "    <tr>\n",
       "      <th>100000</th>\n",
       "      <td>1.742155e+06</td>\n",
       "      <td>3.074426e+04</td>\n",
       "      <td>1</td>\n",
       "    </tr>\n",
       "    <tr>\n",
       "      <th>200000</th>\n",
       "      <td>3.729852e+06</td>\n",
       "      <td>4.186849e+04</td>\n",
       "      <td>2</td>\n",
       "    </tr>\n",
       "    <tr>\n",
       "      <th>500000</th>\n",
       "      <td>8.718285e+06</td>\n",
       "      <td>2.222598e+05</td>\n",
       "      <td>33</td>\n",
       "    </tr>\n",
       "    <tr>\n",
       "      <th>1000000</th>\n",
       "      <td>1.569366e+07</td>\n",
       "      <td>2.647873e+05</td>\n",
       "      <td>47</td>\n",
       "    </tr>\n",
       "    <tr>\n",
       "      <th>2000000</th>\n",
       "      <td>3.306403e+07</td>\n",
       "      <td>3.612152e+05</td>\n",
       "      <td>86</td>\n",
       "    </tr>\n",
       "    <tr>\n",
       "      <th>5000000</th>\n",
       "      <td>1.063891e+08</td>\n",
       "      <td>1.169409e+06</td>\n",
       "      <td>899</td>\n",
       "    </tr>\n",
       "    <tr>\n",
       "      <th rowspan=\"15\" valign=\"top\">planck_function_numba</th>\n",
       "      <th>100</th>\n",
       "      <td>8.858680e+03</td>\n",
       "      <td>3.987715e+03</td>\n",
       "      <td>1</td>\n",
       "    </tr>\n",
       "    <tr>\n",
       "      <th>200</th>\n",
       "      <td>9.418240e+03</td>\n",
       "      <td>7.660248e+02</td>\n",
       "      <td>1</td>\n",
       "    </tr>\n",
       "    <tr>\n",
       "      <th>500</th>\n",
       "      <td>1.217730e+04</td>\n",
       "      <td>9.142330e+02</td>\n",
       "      <td>1</td>\n",
       "    </tr>\n",
       "    <tr>\n",
       "      <th>1000</th>\n",
       "      <td>1.669256e+04</td>\n",
       "      <td>6.332142e+02</td>\n",
       "      <td>1</td>\n",
       "    </tr>\n",
       "    <tr>\n",
       "      <th>2000</th>\n",
       "      <td>2.175882e+04</td>\n",
       "      <td>8.867974e+02</td>\n",
       "      <td>1</td>\n",
       "    </tr>\n",
       "    <tr>\n",
       "      <th>5000</th>\n",
       "      <td>3.516426e+04</td>\n",
       "      <td>5.918826e+03</td>\n",
       "      <td>1</td>\n",
       "    </tr>\n",
       "    <tr>\n",
       "      <th>10000</th>\n",
       "      <td>5.820096e+04</td>\n",
       "      <td>6.262850e+03</td>\n",
       "      <td>1</td>\n",
       "    </tr>\n",
       "    <tr>\n",
       "      <th>20000</th>\n",
       "      <td>1.026756e+05</td>\n",
       "      <td>7.509148e+03</td>\n",
       "      <td>1</td>\n",
       "    </tr>\n",
       "    <tr>\n",
       "      <th>50000</th>\n",
       "      <td>2.285734e+05</td>\n",
       "      <td>1.727755e+04</td>\n",
       "      <td>1</td>\n",
       "    </tr>\n",
       "    <tr>\n",
       "      <th>100000</th>\n",
       "      <td>4.229214e+05</td>\n",
       "      <td>3.129594e+04</td>\n",
       "      <td>1</td>\n",
       "    </tr>\n",
       "    <tr>\n",
       "      <th>200000</th>\n",
       "      <td>8.091726e+05</td>\n",
       "      <td>5.011661e+04</td>\n",
       "      <td>2</td>\n",
       "    </tr>\n",
       "    <tr>\n",
       "      <th>500000</th>\n",
       "      <td>1.935453e+06</td>\n",
       "      <td>1.556954e+05</td>\n",
       "      <td>16</td>\n",
       "    </tr>\n",
       "    <tr>\n",
       "      <th>1000000</th>\n",
       "      <td>3.769004e+06</td>\n",
       "      <td>2.401694e+05</td>\n",
       "      <td>38</td>\n",
       "    </tr>\n",
       "    <tr>\n",
       "      <th>2000000</th>\n",
       "      <td>1.057826e+07</td>\n",
       "      <td>3.550734e+05</td>\n",
       "      <td>83</td>\n",
       "    </tr>\n",
       "    <tr>\n",
       "      <th>5000000</th>\n",
       "      <td>2.677095e+07</td>\n",
       "      <td>1.019618e+06</td>\n",
       "      <td>683</td>\n",
       "    </tr>\n",
       "    <tr>\n",
       "      <th rowspan=\"15\" valign=\"top\">planck_function_numba_parallel</th>\n",
       "      <th>100</th>\n",
       "      <td>9.775466e+04</td>\n",
       "      <td>7.080159e+03</td>\n",
       "      <td>1</td>\n",
       "    </tr>\n",
       "    <tr>\n",
       "      <th>200</th>\n",
       "      <td>1.005790e+05</td>\n",
       "      <td>1.237449e+04</td>\n",
       "      <td>1</td>\n",
       "    </tr>\n",
       "    <tr>\n",
       "      <th>500</th>\n",
       "      <td>1.077849e+05</td>\n",
       "      <td>1.547013e+04</td>\n",
       "      <td>1</td>\n",
       "    </tr>\n",
       "    <tr>\n",
       "      <th>1000</th>\n",
       "      <td>1.118384e+05</td>\n",
       "      <td>1.088735e+04</td>\n",
       "      <td>1</td>\n",
       "    </tr>\n",
       "    <tr>\n",
       "      <th>2000</th>\n",
       "      <td>1.163015e+05</td>\n",
       "      <td>1.259773e+04</td>\n",
       "      <td>1</td>\n",
       "    </tr>\n",
       "    <tr>\n",
       "      <th>5000</th>\n",
       "      <td>1.343586e+05</td>\n",
       "      <td>2.083430e+04</td>\n",
       "      <td>1</td>\n",
       "    </tr>\n",
       "    <tr>\n",
       "      <th>10000</th>\n",
       "      <td>1.577864e+05</td>\n",
       "      <td>1.473961e+04</td>\n",
       "      <td>1</td>\n",
       "    </tr>\n",
       "    <tr>\n",
       "      <th>20000</th>\n",
       "      <td>2.001012e+05</td>\n",
       "      <td>2.091643e+04</td>\n",
       "      <td>1</td>\n",
       "    </tr>\n",
       "    <tr>\n",
       "      <th>50000</th>\n",
       "      <td>2.837402e+05</td>\n",
       "      <td>1.982487e+04</td>\n",
       "      <td>1</td>\n",
       "    </tr>\n",
       "    <tr>\n",
       "      <th>100000</th>\n",
       "      <td>3.578668e+05</td>\n",
       "      <td>3.747401e+04</td>\n",
       "      <td>1</td>\n",
       "    </tr>\n",
       "    <tr>\n",
       "      <th>200000</th>\n",
       "      <td>4.333420e+05</td>\n",
       "      <td>4.037592e+04</td>\n",
       "      <td>2</td>\n",
       "    </tr>\n",
       "    <tr>\n",
       "      <th>500000</th>\n",
       "      <td>6.279681e+05</td>\n",
       "      <td>5.638944e+04</td>\n",
       "      <td>3</td>\n",
       "    </tr>\n",
       "    <tr>\n",
       "      <th>1000000</th>\n",
       "      <td>9.089298e+05</td>\n",
       "      <td>4.660736e+04</td>\n",
       "      <td>2</td>\n",
       "    </tr>\n",
       "    <tr>\n",
       "      <th>2000000</th>\n",
       "      <td>1.745342e+06</td>\n",
       "      <td>4.712059e+04</td>\n",
       "      <td>2</td>\n",
       "    </tr>\n",
       "    <tr>\n",
       "      <th>5000000</th>\n",
       "      <td>3.895233e+06</td>\n",
       "      <td>3.296251e+05</td>\n",
       "      <td>72</td>\n",
       "    </tr>\n",
       "  </tbody>\n",
       "</table>\n",
       "</div>"
      ],
      "text/plain": [
       "                                                  mean           std  \\\n",
       "func_name                      freq_bins                               \n",
       "planck_function                100        2.388208e+05  1.083945e+04   \n",
       "                               200        2.412646e+05  1.482596e+04   \n",
       "                               500        2.525893e+05  1.640693e+04   \n",
       "                               1000       2.501759e+05  1.154268e+04   \n",
       "                               2000       2.732761e+05  1.173091e+04   \n",
       "                               5000       3.104112e+05  1.750847e+04   \n",
       "                               10000      3.792305e+05  2.032278e+04   \n",
       "                               20000      5.223280e+05  2.357555e+04   \n",
       "                               50000      9.810008e+05  3.346557e+04   \n",
       "                               100000     1.742155e+06  3.074426e+04   \n",
       "                               200000     3.729852e+06  4.186849e+04   \n",
       "                               500000     8.718285e+06  2.222598e+05   \n",
       "                               1000000    1.569366e+07  2.647873e+05   \n",
       "                               2000000    3.306403e+07  3.612152e+05   \n",
       "                               5000000    1.063891e+08  1.169409e+06   \n",
       "planck_function_numba          100        8.858680e+03  3.987715e+03   \n",
       "                               200        9.418240e+03  7.660248e+02   \n",
       "                               500        1.217730e+04  9.142330e+02   \n",
       "                               1000       1.669256e+04  6.332142e+02   \n",
       "                               2000       2.175882e+04  8.867974e+02   \n",
       "                               5000       3.516426e+04  5.918826e+03   \n",
       "                               10000      5.820096e+04  6.262850e+03   \n",
       "                               20000      1.026756e+05  7.509148e+03   \n",
       "                               50000      2.285734e+05  1.727755e+04   \n",
       "                               100000     4.229214e+05  3.129594e+04   \n",
       "                               200000     8.091726e+05  5.011661e+04   \n",
       "                               500000     1.935453e+06  1.556954e+05   \n",
       "                               1000000    3.769004e+06  2.401694e+05   \n",
       "                               2000000    1.057826e+07  3.550734e+05   \n",
       "                               5000000    2.677095e+07  1.019618e+06   \n",
       "planck_function_numba_parallel 100        9.775466e+04  7.080159e+03   \n",
       "                               200        1.005790e+05  1.237449e+04   \n",
       "                               500        1.077849e+05  1.547013e+04   \n",
       "                               1000       1.118384e+05  1.088735e+04   \n",
       "                               2000       1.163015e+05  1.259773e+04   \n",
       "                               5000       1.343586e+05  2.083430e+04   \n",
       "                               10000      1.577864e+05  1.473961e+04   \n",
       "                               20000      2.001012e+05  2.091643e+04   \n",
       "                               50000      2.837402e+05  1.982487e+04   \n",
       "                               100000     3.578668e+05  3.747401e+04   \n",
       "                               200000     4.333420e+05  4.037592e+04   \n",
       "                               500000     6.279681e+05  5.638944e+04   \n",
       "                               1000000    9.089298e+05  4.660736e+04   \n",
       "                               2000000    1.745342e+06  4.712059e+04   \n",
       "                               5000000    3.895233e+06  3.296251e+05   \n",
       "\n",
       "                                          N_montecarlo  \n",
       "func_name                      freq_bins                \n",
       "planck_function                100                   1  \n",
       "                               200                   1  \n",
       "                               500                   1  \n",
       "                               1000                  1  \n",
       "                               2000                  1  \n",
       "                               5000                  1  \n",
       "                               10000                 1  \n",
       "                               20000                 1  \n",
       "                               50000                 1  \n",
       "                               100000                1  \n",
       "                               200000                2  \n",
       "                               500000               33  \n",
       "                               1000000              47  \n",
       "                               2000000              86  \n",
       "                               5000000             899  \n",
       "planck_function_numba          100                   1  \n",
       "                               200                   1  \n",
       "                               500                   1  \n",
       "                               1000                  1  \n",
       "                               2000                  1  \n",
       "                               5000                  1  \n",
       "                               10000                 1  \n",
       "                               20000                 1  \n",
       "                               50000                 1  \n",
       "                               100000                1  \n",
       "                               200000                2  \n",
       "                               500000               16  \n",
       "                               1000000              38  \n",
       "                               2000000              83  \n",
       "                               5000000             683  \n",
       "planck_function_numba_parallel 100                   1  \n",
       "                               200                   1  \n",
       "                               500                   1  \n",
       "                               1000                  1  \n",
       "                               2000                  1  \n",
       "                               5000                  1  \n",
       "                               10000                 1  \n",
       "                               20000                 1  \n",
       "                               50000                 1  \n",
       "                               100000                1  \n",
       "                               200000                2  \n",
       "                               500000                3  \n",
       "                               1000000               2  \n",
       "                               2000000               2  \n",
       "                               5000000              72  "
      ]
     },
     "execution_count": 13,
     "metadata": {},
     "output_type": "execute_result"
    }
   ],
   "source": [
    "confidence_level = 2e-1  # alpha\n",
    "error_tolerance = 5e4  # epsilon\n",
    "Nmax = 1500\n",
    "z = stats.norm.ppf(1.0 - confidence_level / 2.0)\n",
    "\n",
    "time_data_estimators[\"N_montecarlo\"] = pd.to_numeric(\n",
    "    ((time_data_estimators[\"std\"] * z / error_tolerance) ** 2)\n",
    "    .apply(lambda x: np.minimum(x, Nmax))\n",
    "    .apply(np.ceil),\n",
    "    downcast=\"integer\",\n",
    ").rename(\"N_iterations\")\n",
    "\n",
    "time_data_estimators"
   ]
  },
  {
   "cell_type": "markdown",
   "id": "a8e1fed3",
   "metadata": {},
   "source": [
    "### Perform the second pass\n",
    "\n",
    "After calculating the number of further iterations needed for our chosen level of confidence, we perform the trials below and then recalculate the statistics."
   ]
  },
  {
   "cell_type": "code",
   "execution_count": 14,
   "id": "cb3a92dd",
   "metadata": {
    "scrolled": false
   },
   "outputs": [
    {
     "name": "stdout",
     "output_type": "stream",
     "text": [
      "Running 1 iteration of planck_function with 100 frequency bins...\n"
     ]
    },
    {
     "data": {
      "application/vnd.jupyter.widget-view+json": {
       "model_id": "47bd94725cf94327b7a2d38cabdc45dc",
       "version_major": 2,
       "version_minor": 0
      },
      "text/plain": [
       "  0%|          | 0/1 [00:00<?, ?it/s]"
      ]
     },
     "metadata": {},
     "output_type": "display_data"
    },
    {
     "name": "stdout",
     "output_type": "stream",
     "text": [
      "Running 1 iteration of planck_function with 200 frequency bins...\n"
     ]
    },
    {
     "data": {
      "application/vnd.jupyter.widget-view+json": {
       "model_id": "7741c509d2fb40388d46dbb6dd004497",
       "version_major": 2,
       "version_minor": 0
      },
      "text/plain": [
       "  0%|          | 0/1 [00:00<?, ?it/s]"
      ]
     },
     "metadata": {},
     "output_type": "display_data"
    },
    {
     "name": "stdout",
     "output_type": "stream",
     "text": [
      "Running 1 iteration of planck_function with 500 frequency bins...\n"
     ]
    },
    {
     "data": {
      "application/vnd.jupyter.widget-view+json": {
       "model_id": "7070fb5da5ed4d69b73bfe8c75180870",
       "version_major": 2,
       "version_minor": 0
      },
      "text/plain": [
       "  0%|          | 0/1 [00:00<?, ?it/s]"
      ]
     },
     "metadata": {},
     "output_type": "display_data"
    },
    {
     "name": "stdout",
     "output_type": "stream",
     "text": [
      "Running 1 iteration of planck_function with 1000 frequency bins...\n"
     ]
    },
    {
     "data": {
      "application/vnd.jupyter.widget-view+json": {
       "model_id": "f2ed7389c55e461b9895e474ba495563",
       "version_major": 2,
       "version_minor": 0
      },
      "text/plain": [
       "  0%|          | 0/1 [00:00<?, ?it/s]"
      ]
     },
     "metadata": {},
     "output_type": "display_data"
    },
    {
     "name": "stdout",
     "output_type": "stream",
     "text": [
      "Running 1 iteration of planck_function with 2000 frequency bins...\n"
     ]
    },
    {
     "data": {
      "application/vnd.jupyter.widget-view+json": {
       "model_id": "062b7630076049d5ba1510c54a749485",
       "version_major": 2,
       "version_minor": 0
      },
      "text/plain": [
       "  0%|          | 0/1 [00:00<?, ?it/s]"
      ]
     },
     "metadata": {},
     "output_type": "display_data"
    },
    {
     "name": "stdout",
     "output_type": "stream",
     "text": [
      "Running 1 iteration of planck_function with 5000 frequency bins...\n"
     ]
    },
    {
     "data": {
      "application/vnd.jupyter.widget-view+json": {
       "model_id": "f5db3254fe9f4c3eb2bc71a2ce6d9cbe",
       "version_major": 2,
       "version_minor": 0
      },
      "text/plain": [
       "  0%|          | 0/1 [00:00<?, ?it/s]"
      ]
     },
     "metadata": {},
     "output_type": "display_data"
    },
    {
     "name": "stdout",
     "output_type": "stream",
     "text": [
      "Running 1 iteration of planck_function with 10000 frequency bins...\n"
     ]
    },
    {
     "data": {
      "application/vnd.jupyter.widget-view+json": {
       "model_id": "3b6cc159b49446638b0edde3dd372ad6",
       "version_major": 2,
       "version_minor": 0
      },
      "text/plain": [
       "  0%|          | 0/1 [00:00<?, ?it/s]"
      ]
     },
     "metadata": {},
     "output_type": "display_data"
    },
    {
     "name": "stdout",
     "output_type": "stream",
     "text": [
      "Running 1 iteration of planck_function with 20000 frequency bins...\n"
     ]
    },
    {
     "data": {
      "application/vnd.jupyter.widget-view+json": {
       "model_id": "09655582c2d142b8bbd2d5345297c164",
       "version_major": 2,
       "version_minor": 0
      },
      "text/plain": [
       "  0%|          | 0/1 [00:00<?, ?it/s]"
      ]
     },
     "metadata": {},
     "output_type": "display_data"
    },
    {
     "name": "stdout",
     "output_type": "stream",
     "text": [
      "Running 1 iteration of planck_function with 50000 frequency bins...\n"
     ]
    },
    {
     "data": {
      "application/vnd.jupyter.widget-view+json": {
       "model_id": "a29dada8bf534de285eeefb0dbff3b3b",
       "version_major": 2,
       "version_minor": 0
      },
      "text/plain": [
       "  0%|          | 0/1 [00:00<?, ?it/s]"
      ]
     },
     "metadata": {},
     "output_type": "display_data"
    },
    {
     "name": "stdout",
     "output_type": "stream",
     "text": [
      "Running 1 iteration of planck_function with 100000 frequency bins...\n"
     ]
    },
    {
     "data": {
      "application/vnd.jupyter.widget-view+json": {
       "model_id": "e0fa5bb478274405a8c0f439fde2595a",
       "version_major": 2,
       "version_minor": 0
      },
      "text/plain": [
       "  0%|          | 0/1 [00:00<?, ?it/s]"
      ]
     },
     "metadata": {},
     "output_type": "display_data"
    },
    {
     "name": "stdout",
     "output_type": "stream",
     "text": [
      "Running 2 iterations of planck_function with 200000 frequency bins...\n"
     ]
    },
    {
     "data": {
      "application/vnd.jupyter.widget-view+json": {
       "model_id": "1c7e588abc1e49ae98ea8a8cacda9509",
       "version_major": 2,
       "version_minor": 0
      },
      "text/plain": [
       "  0%|          | 0/2 [00:00<?, ?it/s]"
      ]
     },
     "metadata": {},
     "output_type": "display_data"
    },
    {
     "name": "stdout",
     "output_type": "stream",
     "text": [
      "Running 33 iterations of planck_function with 500000 frequency bins...\n"
     ]
    },
    {
     "data": {
      "application/vnd.jupyter.widget-view+json": {
       "model_id": "b7f2a2c591d94ca4aebb4ffb4f9d57e6",
       "version_major": 2,
       "version_minor": 0
      },
      "text/plain": [
       "  0%|          | 0/33 [00:00<?, ?it/s]"
      ]
     },
     "metadata": {},
     "output_type": "display_data"
    },
    {
     "name": "stdout",
     "output_type": "stream",
     "text": [
      "Running 47 iterations of planck_function with 1000000 frequency bins...\n"
     ]
    },
    {
     "data": {
      "application/vnd.jupyter.widget-view+json": {
       "model_id": "a4cfd5451d44453a83f39f79f01343dc",
       "version_major": 2,
       "version_minor": 0
      },
      "text/plain": [
       "  0%|          | 0/47 [00:00<?, ?it/s]"
      ]
     },
     "metadata": {},
     "output_type": "display_data"
    },
    {
     "name": "stdout",
     "output_type": "stream",
     "text": [
      "Running 86 iterations of planck_function with 2000000 frequency bins...\n"
     ]
    },
    {
     "data": {
      "application/vnd.jupyter.widget-view+json": {
       "model_id": "e2baf6e2c1b64ba18940af2ffecee147",
       "version_major": 2,
       "version_minor": 0
      },
      "text/plain": [
       "  0%|          | 0/86 [00:00<?, ?it/s]"
      ]
     },
     "metadata": {},
     "output_type": "display_data"
    },
    {
     "name": "stdout",
     "output_type": "stream",
     "text": [
      "Running 899 iterations of planck_function with 5000000 frequency bins...\n"
     ]
    },
    {
     "data": {
      "application/vnd.jupyter.widget-view+json": {
       "model_id": "b8155289aca848489e02d0d21a879cb0",
       "version_major": 2,
       "version_minor": 0
      },
      "text/plain": [
       "  0%|          | 0/899 [00:00<?, ?it/s]"
      ]
     },
     "metadata": {},
     "output_type": "display_data"
    },
    {
     "name": "stdout",
     "output_type": "stream",
     "text": [
      "Running 1 iteration of planck_function_numba with 100 frequency bins...\n"
     ]
    },
    {
     "data": {
      "application/vnd.jupyter.widget-view+json": {
       "model_id": "21c73121989a49a8b1eaba17a513b6b2",
       "version_major": 2,
       "version_minor": 0
      },
      "text/plain": [
       "  0%|          | 0/1 [00:00<?, ?it/s]"
      ]
     },
     "metadata": {},
     "output_type": "display_data"
    },
    {
     "name": "stdout",
     "output_type": "stream",
     "text": [
      "Running 1 iteration of planck_function_numba with 200 frequency bins...\n"
     ]
    },
    {
     "data": {
      "application/vnd.jupyter.widget-view+json": {
       "model_id": "6a7ff9d4beee4222b832ec9b768fd401",
       "version_major": 2,
       "version_minor": 0
      },
      "text/plain": [
       "  0%|          | 0/1 [00:00<?, ?it/s]"
      ]
     },
     "metadata": {},
     "output_type": "display_data"
    },
    {
     "name": "stdout",
     "output_type": "stream",
     "text": [
      "Running 1 iteration of planck_function_numba with 500 frequency bins...\n"
     ]
    },
    {
     "data": {
      "application/vnd.jupyter.widget-view+json": {
       "model_id": "13ccf96cacac4800849e92a595b4e3f7",
       "version_major": 2,
       "version_minor": 0
      },
      "text/plain": [
       "  0%|          | 0/1 [00:00<?, ?it/s]"
      ]
     },
     "metadata": {},
     "output_type": "display_data"
    },
    {
     "name": "stdout",
     "output_type": "stream",
     "text": [
      "Running 1 iteration of planck_function_numba with 1000 frequency bins...\n"
     ]
    },
    {
     "data": {
      "application/vnd.jupyter.widget-view+json": {
       "model_id": "4e4641c9eaa14f90a2c2b7e4b6b35300",
       "version_major": 2,
       "version_minor": 0
      },
      "text/plain": [
       "  0%|          | 0/1 [00:00<?, ?it/s]"
      ]
     },
     "metadata": {},
     "output_type": "display_data"
    },
    {
     "name": "stdout",
     "output_type": "stream",
     "text": [
      "Running 1 iteration of planck_function_numba with 2000 frequency bins...\n"
     ]
    },
    {
     "data": {
      "application/vnd.jupyter.widget-view+json": {
       "model_id": "116ce3813d6042c99f1682b7c9c63de2",
       "version_major": 2,
       "version_minor": 0
      },
      "text/plain": [
       "  0%|          | 0/1 [00:00<?, ?it/s]"
      ]
     },
     "metadata": {},
     "output_type": "display_data"
    },
    {
     "name": "stdout",
     "output_type": "stream",
     "text": [
      "Running 1 iteration of planck_function_numba with 5000 frequency bins...\n"
     ]
    },
    {
     "data": {
      "application/vnd.jupyter.widget-view+json": {
       "model_id": "ec5c08668de24eb3b5e5378ae36b07dd",
       "version_major": 2,
       "version_minor": 0
      },
      "text/plain": [
       "  0%|          | 0/1 [00:00<?, ?it/s]"
      ]
     },
     "metadata": {},
     "output_type": "display_data"
    },
    {
     "name": "stdout",
     "output_type": "stream",
     "text": [
      "Running 1 iteration of planck_function_numba with 10000 frequency bins...\n"
     ]
    },
    {
     "data": {
      "application/vnd.jupyter.widget-view+json": {
       "model_id": "223ce0b2e69e457bb705a1fc7caa80e3",
       "version_major": 2,
       "version_minor": 0
      },
      "text/plain": [
       "  0%|          | 0/1 [00:00<?, ?it/s]"
      ]
     },
     "metadata": {},
     "output_type": "display_data"
    },
    {
     "name": "stdout",
     "output_type": "stream",
     "text": [
      "Running 1 iteration of planck_function_numba with 20000 frequency bins...\n"
     ]
    },
    {
     "data": {
      "application/vnd.jupyter.widget-view+json": {
       "model_id": "1fdcf853a3be45a8944f02ffb8ffcc1b",
       "version_major": 2,
       "version_minor": 0
      },
      "text/plain": [
       "  0%|          | 0/1 [00:00<?, ?it/s]"
      ]
     },
     "metadata": {},
     "output_type": "display_data"
    },
    {
     "name": "stdout",
     "output_type": "stream",
     "text": [
      "Running 1 iteration of planck_function_numba with 50000 frequency bins...\n"
     ]
    },
    {
     "data": {
      "application/vnd.jupyter.widget-view+json": {
       "model_id": "fc4607fb1d9a4769b1c5a58e59ad18d1",
       "version_major": 2,
       "version_minor": 0
      },
      "text/plain": [
       "  0%|          | 0/1 [00:00<?, ?it/s]"
      ]
     },
     "metadata": {},
     "output_type": "display_data"
    },
    {
     "name": "stdout",
     "output_type": "stream",
     "text": [
      "Running 1 iteration of planck_function_numba with 100000 frequency bins...\n"
     ]
    },
    {
     "data": {
      "application/vnd.jupyter.widget-view+json": {
       "model_id": "b99385a251d5440fadc3a9d10b8378bf",
       "version_major": 2,
       "version_minor": 0
      },
      "text/plain": [
       "  0%|          | 0/1 [00:00<?, ?it/s]"
      ]
     },
     "metadata": {},
     "output_type": "display_data"
    },
    {
     "name": "stdout",
     "output_type": "stream",
     "text": [
      "Running 2 iterations of planck_function_numba with 200000 frequency bins...\n"
     ]
    },
    {
     "data": {
      "application/vnd.jupyter.widget-view+json": {
       "model_id": "620f332332954a68b869d9c4a4384324",
       "version_major": 2,
       "version_minor": 0
      },
      "text/plain": [
       "  0%|          | 0/2 [00:00<?, ?it/s]"
      ]
     },
     "metadata": {},
     "output_type": "display_data"
    },
    {
     "name": "stdout",
     "output_type": "stream",
     "text": [
      "Running 16 iterations of planck_function_numba with 500000 frequency bins...\n"
     ]
    },
    {
     "data": {
      "application/vnd.jupyter.widget-view+json": {
       "model_id": "59305629a4f54b59848096ab183e9043",
       "version_major": 2,
       "version_minor": 0
      },
      "text/plain": [
       "  0%|          | 0/16 [00:00<?, ?it/s]"
      ]
     },
     "metadata": {},
     "output_type": "display_data"
    },
    {
     "name": "stdout",
     "output_type": "stream",
     "text": [
      "Running 38 iterations of planck_function_numba with 1000000 frequency bins...\n"
     ]
    },
    {
     "data": {
      "application/vnd.jupyter.widget-view+json": {
       "model_id": "c9ce86fa97ae45d79cc20b58bb8fae24",
       "version_major": 2,
       "version_minor": 0
      },
      "text/plain": [
       "  0%|          | 0/38 [00:00<?, ?it/s]"
      ]
     },
     "metadata": {},
     "output_type": "display_data"
    },
    {
     "name": "stdout",
     "output_type": "stream",
     "text": [
      "Running 83 iterations of planck_function_numba with 2000000 frequency bins...\n"
     ]
    },
    {
     "data": {
      "application/vnd.jupyter.widget-view+json": {
       "model_id": "5fcc586e456f4e098dc4d4c151403e1d",
       "version_major": 2,
       "version_minor": 0
      },
      "text/plain": [
       "  0%|          | 0/83 [00:00<?, ?it/s]"
      ]
     },
     "metadata": {},
     "output_type": "display_data"
    },
    {
     "name": "stdout",
     "output_type": "stream",
     "text": [
      "Running 683 iterations of planck_function_numba with 5000000 frequency bins...\n"
     ]
    },
    {
     "data": {
      "application/vnd.jupyter.widget-view+json": {
       "model_id": "0572ab36151f4b99b0e38f0bd1115988",
       "version_major": 2,
       "version_minor": 0
      },
      "text/plain": [
       "  0%|          | 0/683 [00:00<?, ?it/s]"
      ]
     },
     "metadata": {},
     "output_type": "display_data"
    },
    {
     "name": "stdout",
     "output_type": "stream",
     "text": [
      "Running 1 iteration of planck_function_numba_parallel with 100 frequency bins...\n"
     ]
    },
    {
     "data": {
      "application/vnd.jupyter.widget-view+json": {
       "model_id": "6d54695f802b4022a99525626e28e3d8",
       "version_major": 2,
       "version_minor": 0
      },
      "text/plain": [
       "  0%|          | 0/1 [00:00<?, ?it/s]"
      ]
     },
     "metadata": {},
     "output_type": "display_data"
    },
    {
     "name": "stdout",
     "output_type": "stream",
     "text": [
      "Running 1 iteration of planck_function_numba_parallel with 200 frequency bins...\n"
     ]
    },
    {
     "data": {
      "application/vnd.jupyter.widget-view+json": {
       "model_id": "ba655b8145ba4d9e9cae46a5c0ba422c",
       "version_major": 2,
       "version_minor": 0
      },
      "text/plain": [
       "  0%|          | 0/1 [00:00<?, ?it/s]"
      ]
     },
     "metadata": {},
     "output_type": "display_data"
    },
    {
     "name": "stdout",
     "output_type": "stream",
     "text": [
      "Running 1 iteration of planck_function_numba_parallel with 500 frequency bins...\n"
     ]
    },
    {
     "data": {
      "application/vnd.jupyter.widget-view+json": {
       "model_id": "f9c193f98491414cb21aa654b862c05e",
       "version_major": 2,
       "version_minor": 0
      },
      "text/plain": [
       "  0%|          | 0/1 [00:00<?, ?it/s]"
      ]
     },
     "metadata": {},
     "output_type": "display_data"
    },
    {
     "name": "stdout",
     "output_type": "stream",
     "text": [
      "Running 1 iteration of planck_function_numba_parallel with 1000 frequency bins...\n"
     ]
    },
    {
     "data": {
      "application/vnd.jupyter.widget-view+json": {
       "model_id": "7abea1376cf447e599852101588263ea",
       "version_major": 2,
       "version_minor": 0
      },
      "text/plain": [
       "  0%|          | 0/1 [00:00<?, ?it/s]"
      ]
     },
     "metadata": {},
     "output_type": "display_data"
    },
    {
     "name": "stdout",
     "output_type": "stream",
     "text": [
      "Running 1 iteration of planck_function_numba_parallel with 2000 frequency bins...\n"
     ]
    },
    {
     "data": {
      "application/vnd.jupyter.widget-view+json": {
       "model_id": "d5eafad2e0394241a7c099a541c18513",
       "version_major": 2,
       "version_minor": 0
      },
      "text/plain": [
       "  0%|          | 0/1 [00:00<?, ?it/s]"
      ]
     },
     "metadata": {},
     "output_type": "display_data"
    },
    {
     "name": "stdout",
     "output_type": "stream",
     "text": [
      "Running 1 iteration of planck_function_numba_parallel with 5000 frequency bins...\n"
     ]
    },
    {
     "data": {
      "application/vnd.jupyter.widget-view+json": {
       "model_id": "7d993b22e83149edb9b0ef62444d6035",
       "version_major": 2,
       "version_minor": 0
      },
      "text/plain": [
       "  0%|          | 0/1 [00:00<?, ?it/s]"
      ]
     },
     "metadata": {},
     "output_type": "display_data"
    },
    {
     "name": "stdout",
     "output_type": "stream",
     "text": [
      "Running 1 iteration of planck_function_numba_parallel with 10000 frequency bins...\n"
     ]
    },
    {
     "data": {
      "application/vnd.jupyter.widget-view+json": {
       "model_id": "72905f22254b47059ae08e00e2fd88e7",
       "version_major": 2,
       "version_minor": 0
      },
      "text/plain": [
       "  0%|          | 0/1 [00:00<?, ?it/s]"
      ]
     },
     "metadata": {},
     "output_type": "display_data"
    },
    {
     "name": "stdout",
     "output_type": "stream",
     "text": [
      "Running 1 iteration of planck_function_numba_parallel with 20000 frequency bins...\n"
     ]
    },
    {
     "data": {
      "application/vnd.jupyter.widget-view+json": {
       "model_id": "d5b2e26e9bfa4f5493d8d83a9b2625dc",
       "version_major": 2,
       "version_minor": 0
      },
      "text/plain": [
       "  0%|          | 0/1 [00:00<?, ?it/s]"
      ]
     },
     "metadata": {},
     "output_type": "display_data"
    },
    {
     "name": "stdout",
     "output_type": "stream",
     "text": [
      "Running 1 iteration of planck_function_numba_parallel with 50000 frequency bins...\n"
     ]
    },
    {
     "data": {
      "application/vnd.jupyter.widget-view+json": {
       "model_id": "98ce3bc1ee4443898f6460ca6fb51404",
       "version_major": 2,
       "version_minor": 0
      },
      "text/plain": [
       "  0%|          | 0/1 [00:00<?, ?it/s]"
      ]
     },
     "metadata": {},
     "output_type": "display_data"
    },
    {
     "name": "stdout",
     "output_type": "stream",
     "text": [
      "Running 1 iteration of planck_function_numba_parallel with 100000 frequency bins...\n"
     ]
    },
    {
     "data": {
      "application/vnd.jupyter.widget-view+json": {
       "model_id": "6d554cd15a0343489845776bb5d08862",
       "version_major": 2,
       "version_minor": 0
      },
      "text/plain": [
       "  0%|          | 0/1 [00:00<?, ?it/s]"
      ]
     },
     "metadata": {},
     "output_type": "display_data"
    },
    {
     "name": "stdout",
     "output_type": "stream",
     "text": [
      "Running 2 iterations of planck_function_numba_parallel with 200000 frequency bins...\n"
     ]
    },
    {
     "data": {
      "application/vnd.jupyter.widget-view+json": {
       "model_id": "7175413814154500bd6174423355f545",
       "version_major": 2,
       "version_minor": 0
      },
      "text/plain": [
       "  0%|          | 0/2 [00:00<?, ?it/s]"
      ]
     },
     "metadata": {},
     "output_type": "display_data"
    },
    {
     "name": "stdout",
     "output_type": "stream",
     "text": [
      "Running 3 iterations of planck_function_numba_parallel with 500000 frequency bins...\n"
     ]
    },
    {
     "data": {
      "application/vnd.jupyter.widget-view+json": {
       "model_id": "1a43bbf9419748ef9d03b450dca9610c",
       "version_major": 2,
       "version_minor": 0
      },
      "text/plain": [
       "  0%|          | 0/3 [00:00<?, ?it/s]"
      ]
     },
     "metadata": {},
     "output_type": "display_data"
    },
    {
     "name": "stdout",
     "output_type": "stream",
     "text": [
      "Running 2 iterations of planck_function_numba_parallel with 1000000 frequency bins...\n"
     ]
    },
    {
     "data": {
      "application/vnd.jupyter.widget-view+json": {
       "model_id": "bbc97da6de19493288711ae30fe3d345",
       "version_major": 2,
       "version_minor": 0
      },
      "text/plain": [
       "  0%|          | 0/2 [00:00<?, ?it/s]"
      ]
     },
     "metadata": {},
     "output_type": "display_data"
    },
    {
     "name": "stdout",
     "output_type": "stream",
     "text": [
      "Running 2 iterations of planck_function_numba_parallel with 2000000 frequency bins...\n"
     ]
    },
    {
     "data": {
      "application/vnd.jupyter.widget-view+json": {
       "model_id": "8dc5293635504cd5be15358f2015e9ff",
       "version_major": 2,
       "version_minor": 0
      },
      "text/plain": [
       "  0%|          | 0/2 [00:00<?, ?it/s]"
      ]
     },
     "metadata": {},
     "output_type": "display_data"
    },
    {
     "name": "stdout",
     "output_type": "stream",
     "text": [
      "Running 72 iterations of planck_function_numba_parallel with 5000000 frequency bins...\n"
     ]
    },
    {
     "data": {
      "application/vnd.jupyter.widget-view+json": {
       "model_id": "64b3c5af6b6f45b5a5585eab1687b4de",
       "version_major": 2,
       "version_minor": 0
      },
      "text/plain": [
       "  0%|          | 0/72 [00:00<?, ?it/s]"
      ]
     },
     "metadata": {},
     "output_type": "display_data"
    },
    {
     "data": {
      "text/html": [
       "<div>\n",
       "<style scoped>\n",
       "    .dataframe tbody tr th:only-of-type {\n",
       "        vertical-align: middle;\n",
       "    }\n",
       "\n",
       "    .dataframe tbody tr th {\n",
       "        vertical-align: top;\n",
       "    }\n",
       "\n",
       "    .dataframe thead th {\n",
       "        text-align: right;\n",
       "    }\n",
       "</style>\n",
       "<table border=\"1\" class=\"dataframe\">\n",
       "  <thead>\n",
       "    <tr style=\"text-align: right;\">\n",
       "      <th></th>\n",
       "      <th></th>\n",
       "      <th>mean</th>\n",
       "      <th>std</th>\n",
       "      <th>N_montecarlo</th>\n",
       "    </tr>\n",
       "    <tr>\n",
       "      <th>func_name</th>\n",
       "      <th>freq_bins</th>\n",
       "      <th></th>\n",
       "      <th></th>\n",
       "      <th></th>\n",
       "    </tr>\n",
       "  </thead>\n",
       "  <tbody>\n",
       "    <tr>\n",
       "      <th rowspan=\"15\" valign=\"top\">planck_function</th>\n",
       "      <th>100</th>\n",
       "      <td>2.391064e+05</td>\n",
       "      <td>1.092269e+04</td>\n",
       "      <td>1</td>\n",
       "    </tr>\n",
       "    <tr>\n",
       "      <th>200</th>\n",
       "      <td>2.414656e+05</td>\n",
       "      <td>1.474700e+04</td>\n",
       "      <td>1</td>\n",
       "    </tr>\n",
       "    <tr>\n",
       "      <th>500</th>\n",
       "      <td>2.521777e+05</td>\n",
       "      <td>1.650592e+04</td>\n",
       "      <td>1</td>\n",
       "    </tr>\n",
       "    <tr>\n",
       "      <th>1000</th>\n",
       "      <td>2.505302e+05</td>\n",
       "      <td>1.170338e+04</td>\n",
       "      <td>1</td>\n",
       "    </tr>\n",
       "    <tr>\n",
       "      <th>2000</th>\n",
       "      <td>2.737250e+05</td>\n",
       "      <td>1.204741e+04</td>\n",
       "      <td>1</td>\n",
       "    </tr>\n",
       "    <tr>\n",
       "      <th>5000</th>\n",
       "      <td>3.106887e+05</td>\n",
       "      <td>1.744541e+04</td>\n",
       "      <td>1</td>\n",
       "    </tr>\n",
       "    <tr>\n",
       "      <th>10000</th>\n",
       "      <td>3.804052e+05</td>\n",
       "      <td>2.179760e+04</td>\n",
       "      <td>1</td>\n",
       "    </tr>\n",
       "    <tr>\n",
       "      <th>20000</th>\n",
       "      <td>5.240848e+05</td>\n",
       "      <td>2.649700e+04</td>\n",
       "      <td>1</td>\n",
       "    </tr>\n",
       "    <tr>\n",
       "      <th>50000</th>\n",
       "      <td>9.844577e+05</td>\n",
       "      <td>4.131576e+04</td>\n",
       "      <td>2</td>\n",
       "    </tr>\n",
       "    <tr>\n",
       "      <th>100000</th>\n",
       "      <td>1.747917e+06</td>\n",
       "      <td>5.118065e+04</td>\n",
       "      <td>2</td>\n",
       "    </tr>\n",
       "    <tr>\n",
       "      <th>200000</th>\n",
       "      <td>3.723372e+06</td>\n",
       "      <td>7.188667e+04</td>\n",
       "      <td>4</td>\n",
       "    </tr>\n",
       "    <tr>\n",
       "      <th>500000</th>\n",
       "      <td>8.261050e+06</td>\n",
       "      <td>6.349545e+05</td>\n",
       "      <td>265</td>\n",
       "    </tr>\n",
       "    <tr>\n",
       "      <th>1000000</th>\n",
       "      <td>1.628409e+07</td>\n",
       "      <td>9.337381e+05</td>\n",
       "      <td>573</td>\n",
       "    </tr>\n",
       "    <tr>\n",
       "      <th>2000000</th>\n",
       "      <td>3.352575e+07</td>\n",
       "      <td>9.674945e+05</td>\n",
       "      <td>615</td>\n",
       "    </tr>\n",
       "    <tr>\n",
       "      <th>5000000</th>\n",
       "      <td>1.102574e+08</td>\n",
       "      <td>4.483048e+06</td>\n",
       "      <td>1500</td>\n",
       "    </tr>\n",
       "    <tr>\n",
       "      <th rowspan=\"15\" valign=\"top\">planck_function_numba</th>\n",
       "      <th>100</th>\n",
       "      <td>8.866216e+03</td>\n",
       "      <td>3.948003e+03</td>\n",
       "      <td>1</td>\n",
       "    </tr>\n",
       "    <tr>\n",
       "      <th>200</th>\n",
       "      <td>9.434569e+03</td>\n",
       "      <td>7.672392e+02</td>\n",
       "      <td>1</td>\n",
       "    </tr>\n",
       "    <tr>\n",
       "      <th>500</th>\n",
       "      <td>1.218827e+04</td>\n",
       "      <td>9.084316e+02</td>\n",
       "      <td>1</td>\n",
       "    </tr>\n",
       "    <tr>\n",
       "      <th>1000</th>\n",
       "      <td>1.669475e+04</td>\n",
       "      <td>6.270442e+02</td>\n",
       "      <td>1</td>\n",
       "    </tr>\n",
       "    <tr>\n",
       "      <th>2000</th>\n",
       "      <td>2.177727e+04</td>\n",
       "      <td>8.877221e+02</td>\n",
       "      <td>1</td>\n",
       "    </tr>\n",
       "    <tr>\n",
       "      <th>5000</th>\n",
       "      <td>3.512396e+04</td>\n",
       "      <td>5.866403e+03</td>\n",
       "      <td>1</td>\n",
       "    </tr>\n",
       "    <tr>\n",
       "      <th>10000</th>\n",
       "      <td>5.860925e+04</td>\n",
       "      <td>6.851333e+03</td>\n",
       "      <td>1</td>\n",
       "    </tr>\n",
       "    <tr>\n",
       "      <th>20000</th>\n",
       "      <td>1.034145e+05</td>\n",
       "      <td>9.116275e+03</td>\n",
       "      <td>1</td>\n",
       "    </tr>\n",
       "    <tr>\n",
       "      <th>50000</th>\n",
       "      <td>2.300521e+05</td>\n",
       "      <td>2.010103e+04</td>\n",
       "      <td>1</td>\n",
       "    </tr>\n",
       "    <tr>\n",
       "      <th>100000</th>\n",
       "      <td>4.258228e+05</td>\n",
       "      <td>3.727137e+04</td>\n",
       "      <td>1</td>\n",
       "    </tr>\n",
       "    <tr>\n",
       "      <th>200000</th>\n",
       "      <td>8.169155e+05</td>\n",
       "      <td>6.896240e+04</td>\n",
       "      <td>4</td>\n",
       "    </tr>\n",
       "    <tr>\n",
       "      <th>500000</th>\n",
       "      <td>1.952105e+06</td>\n",
       "      <td>1.701969e+05</td>\n",
       "      <td>20</td>\n",
       "    </tr>\n",
       "    <tr>\n",
       "      <th>1000000</th>\n",
       "      <td>3.749771e+06</td>\n",
       "      <td>2.740726e+05</td>\n",
       "      <td>50</td>\n",
       "    </tr>\n",
       "    <tr>\n",
       "      <th>2000000</th>\n",
       "      <td>1.072914e+07</td>\n",
       "      <td>3.849896e+05</td>\n",
       "      <td>98</td>\n",
       "    </tr>\n",
       "    <tr>\n",
       "      <th>5000000</th>\n",
       "      <td>2.730361e+07</td>\n",
       "      <td>6.823363e+05</td>\n",
       "      <td>306</td>\n",
       "    </tr>\n",
       "    <tr>\n",
       "      <th rowspan=\"15\" valign=\"top\">planck_function_numba_parallel</th>\n",
       "      <th>100</th>\n",
       "      <td>9.800314e+04</td>\n",
       "      <td>7.230136e+03</td>\n",
       "      <td>1</td>\n",
       "    </tr>\n",
       "    <tr>\n",
       "      <th>200</th>\n",
       "      <td>1.003040e+05</td>\n",
       "      <td>1.240659e+04</td>\n",
       "      <td>1</td>\n",
       "    </tr>\n",
       "    <tr>\n",
       "      <th>500</th>\n",
       "      <td>1.083482e+05</td>\n",
       "      <td>1.583414e+04</td>\n",
       "      <td>1</td>\n",
       "    </tr>\n",
       "    <tr>\n",
       "      <th>1000</th>\n",
       "      <td>1.118675e+05</td>\n",
       "      <td>1.077993e+04</td>\n",
       "      <td>1</td>\n",
       "    </tr>\n",
       "    <tr>\n",
       "      <th>2000</th>\n",
       "      <td>1.159720e+05</td>\n",
       "      <td>1.269125e+04</td>\n",
       "      <td>1</td>\n",
       "    </tr>\n",
       "    <tr>\n",
       "      <th>5000</th>\n",
       "      <td>1.343944e+05</td>\n",
       "      <td>2.062650e+04</td>\n",
       "      <td>1</td>\n",
       "    </tr>\n",
       "    <tr>\n",
       "      <th>10000</th>\n",
       "      <td>1.572843e+05</td>\n",
       "      <td>1.502556e+04</td>\n",
       "      <td>1</td>\n",
       "    </tr>\n",
       "    <tr>\n",
       "      <th>20000</th>\n",
       "      <td>2.008457e+05</td>\n",
       "      <td>2.137796e+04</td>\n",
       "      <td>1</td>\n",
       "    </tr>\n",
       "    <tr>\n",
       "      <th>50000</th>\n",
       "      <td>2.846338e+05</td>\n",
       "      <td>2.063710e+04</td>\n",
       "      <td>1</td>\n",
       "    </tr>\n",
       "    <tr>\n",
       "      <th>100000</th>\n",
       "      <td>3.589810e+05</td>\n",
       "      <td>3.794113e+04</td>\n",
       "      <td>1</td>\n",
       "    </tr>\n",
       "    <tr>\n",
       "      <th>200000</th>\n",
       "      <td>4.350057e+05</td>\n",
       "      <td>4.068631e+04</td>\n",
       "      <td>2</td>\n",
       "    </tr>\n",
       "    <tr>\n",
       "      <th>500000</th>\n",
       "      <td>6.295272e+05</td>\n",
       "      <td>5.593673e+04</td>\n",
       "      <td>3</td>\n",
       "    </tr>\n",
       "    <tr>\n",
       "      <th>1000000</th>\n",
       "      <td>9.113432e+05</td>\n",
       "      <td>5.305027e+04</td>\n",
       "      <td>2</td>\n",
       "    </tr>\n",
       "    <tr>\n",
       "      <th>2000000</th>\n",
       "      <td>1.743357e+06</td>\n",
       "      <td>4.799701e+04</td>\n",
       "      <td>2</td>\n",
       "    </tr>\n",
       "    <tr>\n",
       "      <th>5000000</th>\n",
       "      <td>3.874057e+06</td>\n",
       "      <td>2.310182e+05</td>\n",
       "      <td>36</td>\n",
       "    </tr>\n",
       "  </tbody>\n",
       "</table>\n",
       "</div>"
      ],
      "text/plain": [
       "                                                  mean           std  \\\n",
       "func_name                      freq_bins                               \n",
       "planck_function                100        2.391064e+05  1.092269e+04   \n",
       "                               200        2.414656e+05  1.474700e+04   \n",
       "                               500        2.521777e+05  1.650592e+04   \n",
       "                               1000       2.505302e+05  1.170338e+04   \n",
       "                               2000       2.737250e+05  1.204741e+04   \n",
       "                               5000       3.106887e+05  1.744541e+04   \n",
       "                               10000      3.804052e+05  2.179760e+04   \n",
       "                               20000      5.240848e+05  2.649700e+04   \n",
       "                               50000      9.844577e+05  4.131576e+04   \n",
       "                               100000     1.747917e+06  5.118065e+04   \n",
       "                               200000     3.723372e+06  7.188667e+04   \n",
       "                               500000     8.261050e+06  6.349545e+05   \n",
       "                               1000000    1.628409e+07  9.337381e+05   \n",
       "                               2000000    3.352575e+07  9.674945e+05   \n",
       "                               5000000    1.102574e+08  4.483048e+06   \n",
       "planck_function_numba          100        8.866216e+03  3.948003e+03   \n",
       "                               200        9.434569e+03  7.672392e+02   \n",
       "                               500        1.218827e+04  9.084316e+02   \n",
       "                               1000       1.669475e+04  6.270442e+02   \n",
       "                               2000       2.177727e+04  8.877221e+02   \n",
       "                               5000       3.512396e+04  5.866403e+03   \n",
       "                               10000      5.860925e+04  6.851333e+03   \n",
       "                               20000      1.034145e+05  9.116275e+03   \n",
       "                               50000      2.300521e+05  2.010103e+04   \n",
       "                               100000     4.258228e+05  3.727137e+04   \n",
       "                               200000     8.169155e+05  6.896240e+04   \n",
       "                               500000     1.952105e+06  1.701969e+05   \n",
       "                               1000000    3.749771e+06  2.740726e+05   \n",
       "                               2000000    1.072914e+07  3.849896e+05   \n",
       "                               5000000    2.730361e+07  6.823363e+05   \n",
       "planck_function_numba_parallel 100        9.800314e+04  7.230136e+03   \n",
       "                               200        1.003040e+05  1.240659e+04   \n",
       "                               500        1.083482e+05  1.583414e+04   \n",
       "                               1000       1.118675e+05  1.077993e+04   \n",
       "                               2000       1.159720e+05  1.269125e+04   \n",
       "                               5000       1.343944e+05  2.062650e+04   \n",
       "                               10000      1.572843e+05  1.502556e+04   \n",
       "                               20000      2.008457e+05  2.137796e+04   \n",
       "                               50000      2.846338e+05  2.063710e+04   \n",
       "                               100000     3.589810e+05  3.794113e+04   \n",
       "                               200000     4.350057e+05  4.068631e+04   \n",
       "                               500000     6.295272e+05  5.593673e+04   \n",
       "                               1000000    9.113432e+05  5.305027e+04   \n",
       "                               2000000    1.743357e+06  4.799701e+04   \n",
       "                               5000000    3.874057e+06  2.310182e+05   \n",
       "\n",
       "                                          N_montecarlo  \n",
       "func_name                      freq_bins                \n",
       "planck_function                100                   1  \n",
       "                               200                   1  \n",
       "                               500                   1  \n",
       "                               1000                  1  \n",
       "                               2000                  1  \n",
       "                               5000                  1  \n",
       "                               10000                 1  \n",
       "                               20000                 1  \n",
       "                               50000                 2  \n",
       "                               100000                2  \n",
       "                               200000                4  \n",
       "                               500000              265  \n",
       "                               1000000             573  \n",
       "                               2000000             615  \n",
       "                               5000000            1500  \n",
       "planck_function_numba          100                   1  \n",
       "                               200                   1  \n",
       "                               500                   1  \n",
       "                               1000                  1  \n",
       "                               2000                  1  \n",
       "                               5000                  1  \n",
       "                               10000                 1  \n",
       "                               20000                 1  \n",
       "                               50000                 1  \n",
       "                               100000                1  \n",
       "                               200000                4  \n",
       "                               500000               20  \n",
       "                               1000000              50  \n",
       "                               2000000              98  \n",
       "                               5000000             306  \n",
       "planck_function_numba_parallel 100                   1  \n",
       "                               200                   1  \n",
       "                               500                   1  \n",
       "                               1000                  1  \n",
       "                               2000                  1  \n",
       "                               5000                  1  \n",
       "                               10000                 1  \n",
       "                               20000                 1  \n",
       "                               50000                 1  \n",
       "                               100000                1  \n",
       "                               200000                2  \n",
       "                               500000                3  \n",
       "                               1000000               2  \n",
       "                               2000000               2  \n",
       "                               5000000              36  "
      ]
     },
     "execution_count": 14,
     "metadata": {},
     "output_type": "execute_result"
    }
   ],
   "source": [
    "for tup in time_data_estimators.itertuples():\n",
    "    func_name = tup.Index[0]\n",
    "    freq = tup.Index[1]\n",
    "    func = funcdict[func_name]\n",
    "    plural = \"s\" if tup.N_montecarlo > 1 else \"\"\n",
    "    tqdm.tqdm.write(\n",
    "        f\"Running {tup.N_montecarlo} iteration{plural} of {func_name} with {freq} frequency bins...\"\n",
    "    )\n",
    "    for n in tqdm.trange(tup.N_montecarlo):\n",
    "        tempdf = time_trial(\n",
    "            func,\n",
    "            func_name,\n",
    "            freq,\n",
    "        )\n",
    "        raw_time_data = pd.concat(\n",
    "            [\n",
    "                raw_time_data,\n",
    "                tempdf,\n",
    "            ],\n",
    "            ignore_index=True,\n",
    "        )\n",
    "\n",
    "time_data_estimators[\"mean\"] = raw_time_data.groupby(\n",
    "    [\n",
    "        \"func_name\",\n",
    "        \"freq_bins\",\n",
    "    ]\n",
    ").mean()\n",
    "time_data_estimators[\"std\"] = raw_time_data.groupby(\n",
    "    [\n",
    "        \"func_name\",\n",
    "        \"freq_bins\",\n",
    "    ]\n",
    ").std()\n",
    "\n",
    "time_data_estimators[\"N_montecarlo\"] = pd.to_numeric(\n",
    "    ((time_data_estimators[\"std\"] * z / error_tolerance) ** 2)\n",
    "    .apply(lambda x: np.minimum(x, Nmax))\n",
    "    .apply(np.ceil),\n",
    "    downcast=\"integer\",\n",
    ").rename(\"N_iterations\")\n",
    "\n",
    "time_data_estimators"
   ]
  },
  {
   "cell_type": "code",
   "execution_count": 15,
   "id": "54bea127",
   "metadata": {},
   "outputs": [
    {
     "data": {
      "image/png": "[encoded data removed]",
      "text/plain": [
       "<Figure size 640x480 with 1 Axes>"
      ]
     },
     "metadata": {},
     "output_type": "display_data"
    }
   ],
   "source": [
    "markers = (\n",
    "    \"o\",\n",
    "    \"s\",\n",
    "    \"^\",\n",
    ")\n",
    "# Different markers to be color-blind friendly\n",
    "\n",
    "for f, marker in zip(function_names, markers):\n",
    "    plt.loglog(\n",
    "        time_data_estimators.loc[f][\"mean\"],\n",
    "        marker=marker,\n",
    "        label=f,\n",
    "    )\n",
    "    # Semilog because of the range of values for freq_bin\n",
    "plt.title(\"Average Execution Times For JIT and non-JIT Implementations\")\n",
    "plt.legend()\n",
    "plt.grid()\n",
    "plt.xlabel(\"Frequency Bins\")\n",
    "plt.ylabel(\"Average Elapsed Time (ns)\")\n",
    "plt.tight_layout()\n",
    "plt.show()\n",
    "# This plot is done in matplotlib because that's what's already used here\n",
    "# and what's available currently installed. I could have done something\n",
    "# more elaborate, but I didn't want to mess with the virtual environment."
   ]
  },
  {
   "cell_type": "markdown",
   "id": "1166da72",
   "metadata": {},
   "source": [
    "We can clearly see where the benefits of parallelization overcome the overhead, i.e. where the square and triangle marked curves cross."
   ]
  }
 ],
 "metadata": {
  "celltoolbar": "Raw Cell Format",
  "kernelspec": {
   "display_name": "Python 3 (ipykernel)",
   "language": "python",
   "name": "python3"
  },
  "language_info": {
   "codemirror_mode": {
    "name": "ipython",
    "version": 3
   },
   "file_extension": ".py",
   "mimetype": "text/x-python",
   "name": "python",
   "nbconvert_exporter": "python",
   "pygments_lexer": "ipython3",
   "version": "3.8.16"
  }
 },
 "nbformat": 4,
 "nbformat_minor": 5
}
