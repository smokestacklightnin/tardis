{
 "cells": [
  {
   "cell_type": "markdown",
   "id": "6c0dbe0a",
   "metadata": {},
   "source": [
    "# Energy Packet Initialization\n",
    "\n",
    "## Theory\n",
    "\n",
    "While it is instructive to think about tracking the propagation history of\n",
    "individual photons when illustrating the basic idea behind Monte Carlo radiative transfer\n",
    "techniques, there are important numerical reasons for using a different\n",
    "discretization scheme. Instead of thinking in the photon picture, it brings\n",
    "significant advantages to follow the idea of <strong data-cite=\"Abbott1985\">[]</strong> and\n",
    "<strong data-cite=\"Lucy1999\">[]</strong> and consider parcels of radiant energy as the fundamental\n",
    "building blocks of the Monte Carlo calculation. These basic Monte Carlo quanta\n",
    "are commonly referred to as \"energy packets\" or simply \"packets\", and are composed of many photons with the same frequency.\n",
    "\n",
    "During a Monte Carlo calculation, $N$ (a large number) packets, all with a certain\n",
    "energy $\\varepsilon$, are created at the inner boundary of the computational domain (which is discussed in the [model section](../setup/model.rst)) known as the photosphere. Currently, the photosphere is modeled as a spherical [blackbody](https://en.wikipedia.org/wiki/Black-body_radiation) with a radius $r_\\mathrm{boundary\\_inner}$ and temperature $T_\\mathrm{inner}$. Both of these quantities are calculated as a part of the [model](../setup/model.ipynb), and $T_\\mathrm{inner}$ is additionally updated throughout the simulation as a part of the [Updating Plasma and Convergence](../update_and_conv/update_and_conv.ipynb) process.\n",
    "\n",
    "In TARDIS, all packets are assigned identical energies **in the lab frame** (see [Reference Frames](propagation.rst#reference-frames)), and the total (lab-frame) energy of the packets is 1 erg (and thus each packet has an energy of $\\frac{1}{N}$ ergs).\n",
    "\n",
    "<div class=\"alert alert-info\">\n",
    "    \n",
    "Note\n",
    "\n",
    "The indivisible energy packet scheme does not require that all packets have the same energy. This is just a convenient and simple choice adopted in TARDIS.\n",
    "\n",
    "</div>\n",
    "\n",
    "<div class=\"alert alert-info\">\n",
    "    \n",
    "Note\n",
    "\n",
    "Since all packets have the same total, and photon energy is proportional to frequency, higher-frequency packets will represent less real photons than lower-frequency packets.\n",
    "\n",
    "</div>\n",
    "\n",
    "Since the photosphere is modeled as a blackbody, its total luminosity $L_\\mathrm{inner}$ (recall that luminosity is energy emitted divided by the time in which it is emitted) is\n",
    "$$L_\\mathrm{inner}=\\frac{N\\varepsilon}{\\Delta t}=4 \\pi r_\\mathrm{boundary\\_inner}^2 \\sigma_{\\mathrm{R}} T_{\\mathrm{inner}}^4$$\n",
    "where $\\sigma_\\mathrm{R}$ is the Stefan-Boltzmann constant and $\\Delta t$ is the physical duration of the simulation. In order to make this relationship hold (remembering that $N\\varepsilon = 1$ erg), we use\n",
    "$$\\Delta t = \\frac{1}{L_\\mathrm{inner}}=\\frac{1}{4 \\pi r_\\mathrm{boundary\\_inner}^2 \\sigma_{\\mathrm{R}} T_{\\mathrm{inner}}^4}.$$\n",
    "\n",
    "<div class=\"alert alert-info\">\n",
    "    \n",
    "Note\n",
    "\n",
    "As will be shown in the code example, this will lead to unphysically small values for $\\Delta t$. It may be easier to think of the Monte Carlo packets not as packets of energy $\\epsilon$ going through a simulation of duration $\\Delta t$, but as packets of luminosity that carry an energy $\\epsilon$ over a time $\\Delta t$ (and thus truly being luminosity packets of luminosity $\\frac{\\epsilon}{\\Delta t}$). Indeed, this view of the packets will be useful when deriving the [Monte Carlo Estimators](estimators.rst).\n",
    "\n",
    "</div>\n",
    "\n",
    "During packet initialization, each packet is assigned an initial propagation direction $\\mu$ which is the cosine of the angle $\\theta$ which the packet's path makes with the radial direction (see the image below). Using a pseudo-random number generator which generates numbers $z$ uniformly distributed on the interval $[0,1]$, the propagation direction is determined (due to physical considerations beyond the scope of this documentation) according to\n",
    "$$\\mu = \\sqrt{z}.$$\n",
    "This sampling is shown in the \"Code Example\" section.\n",
    "\n",
    "<img src=\"../images/propagation_direction.png\" width=500>\n",
    "\n",
    "Finally, each packet is assigned an initial frequency (or more precisely, the initial frequency of its constituent photons). Note that since each packet has the same energy, each packet will represent a different number of real photons. The sampling on packet frequencies is more involved than that of the propagation direction, as it involves sampling the Planck distribution (see below). TARDIS uses the technique described in <strong data-cite=\"Carter1975\">[]</strong> and summarized in <strong data-cite=\"Bjorkman2001\">[]</strong> for this purpose.\n",
    "\n",
    "During the simulation, the energy of the packet remains constant in the local\n",
    "co-moving frame (see [Reference Frames](propagation.rst#reference-frames)). This naturally ensures energy\n",
    "conservation and constitutes the main advantage of this discretization scheme. **However, while the energy of the packets is conserved in the co-moving frame, the co-moving frequency of the packet (and thus the photons represented by the packet) may vary over the course of the simulation. Thus, a packet may represent several different numbers of real photons throughout their lifetimes.**\n",
    "\n",
    "## Code Example\n",
    "\n",
    "We now demonstrate the TARDIS packet initialization framework:"
   ]
  },
  {
   "cell_type": "code",
   "execution_count": 1,
   "id": "426325e5",
   "metadata": {},
   "outputs": [
    {
     "data": {
      "application/vnd.jupyter.widget-view+json": {
       "model_id": "",
       "version_major": 2,
       "version_minor": 0
      },
      "text/plain": [
       "Iterations:          0/? [00:00<?, ?it/s]"
      ]
     },
     "metadata": {},
     "output_type": "display_data"
    },
    {
     "data": {
      "application/vnd.jupyter.widget-view+json": {
       "model_id": "",
       "version_major": 2,
       "version_minor": 0
      },
      "text/plain": [
       "Packets:             0/? [00:00<?, ?it/s]"
      ]
     },
     "metadata": {},
     "output_type": "display_data"
    }
   ],
   "source": [
    "import numpy as np\n",
    "from tardis.montecarlo.packet_source import BlackBodySimpleSource\n",
    "from astropy import units as u\n",
    "from tardis import constants as const\n",
    "import matplotlib.pyplot as plt\n",
    "import numba\n",
    "import time\n",
    "import pandas as pd\n",
    "import itertools\n",
    "import tqdm.auto as tqdm\n",
    "import scipy.stats as stats\n",
    "\n",
    "\n",
    "# The random number generator that will be used\n",
    "rng = np.random.default_rng()"
   ]
  },
  {
   "cell_type": "markdown",
   "id": "4ae02998",
   "metadata": {},
   "source": [
    "The following cell contains values that you can change to see how it affects the spectrum (in an actual simulation, the seed and number of packets are set in the [Monte Carlo configuration](../../io/configuration/components/montecarlo.rst), and the photospheric radius is calculated as a part of the [model](../setup/model.ipynb)):"
   ]
  },
  {
   "cell_type": "code",
   "execution_count": 2,
   "id": "bc34bf33",
   "metadata": {},
   "outputs": [],
   "source": [
    "# Seed for the pseudo-random number generator\n",
    "seed = 1\n",
    "\n",
    "# Number of packets generated\n",
    "n_packets = 40000\n",
    "\n",
    "# Radius of the supernova's photosphere in cm\n",
    "r_boundary_inner = 1e15 * u.cm"
   ]
  },
  {
   "cell_type": "markdown",
   "id": "450faf76",
   "metadata": {},
   "source": [
    "We set the temperature of the photosphere $T_\\mathrm{inner}$, which will determine the photospheric luminosity (in an actual simulation, $T_\\mathrm{inner}$ is initially calculated as a part of the [model](../setup/model.ipynb) and updated as a part of the [Updating Plasma and Convergence](../update_and_conv/update_and_conv.ipynb) process):"
   ]
  },
  {
   "cell_type": "code",
   "execution_count": 3,
   "id": "3fb3ca8c",
   "metadata": {},
   "outputs": [
    {
     "name": "stdout",
     "output_type": "stream",
     "text": [
      "Luminosity of photosphere: 7.125600863965567e+42 erg / s\n"
     ]
    }
   ],
   "source": [
    "# Temperature in K\n",
    "temperature_inner = 10000 * u.K\n",
    "\n",
    "luminosity_inner = (\n",
    "    4\n",
    "    * np.pi\n",
    "    * (r_boundary_inner**2)\n",
    "    * const.sigma_sb\n",
    "    * (temperature_inner**4)\n",
    ")\n",
    "\n",
    "# Makes sure the luminosity is given in erg/s\n",
    "luminosity_inner = luminosity_inner.to(\"erg/s\")\n",
    "\n",
    "print(\n",
    "    \"Luminosity of photosphere:\",\n",
    "    luminosity_inner,\n",
    ")"
   ]
  },
  {
   "cell_type": "markdown",
   "id": "516633c5",
   "metadata": {},
   "source": [
    "We now generate the ensemble of packets. The array of packet energies and radii are also shown."
   ]
  },
  {
   "cell_type": "code",
   "execution_count": 4,
   "id": "925e9e1b",
   "metadata": {},
   "outputs": [
    {
     "name": "stdout",
     "output_type": "stream",
     "text": [
      "Energies: [2.5e-05 2.5e-05 2.5e-05 ... 2.5e-05 2.5e-05 2.5e-05] erg\n",
      "Radii: [1.e+15 1.e+15 1.e+15 ... 1.e+15 1.e+15 1.e+15] cm\n"
     ]
    }
   ],
   "source": [
    "# We define our packet source\n",
    "packet_source = BlackBodySimpleSource(seed)\n",
    "\n",
    "radii, nus, mus, energies = packet_source.create_packets(\n",
    "    temperature_inner.value,\n",
    "    n_packets,\n",
    "    rng,\n",
    "    r_boundary_inner,\n",
    ")\n",
    "\n",
    "# Sets the energies in units of ergs\n",
    "energies *= u.erg\n",
    "\n",
    "# Sets the frequencies in units of Hz\n",
    "nus *= u.Hz\n",
    "\n",
    "print(\n",
    "    \"Energies:\",\n",
    "    energies,\n",
    ")\n",
    "print(\n",
    "    \"Radii:\",\n",
    "    radii,\n",
    ")"
   ]
  },
  {
   "cell_type": "markdown",
   "id": "16936bce",
   "metadata": {},
   "source": [
    "We set the timespan of the simulation so that each packet contributes the appropriate luminosity to the spectrum."
   ]
  },
  {
   "cell_type": "code",
   "execution_count": 5,
   "id": "fed35f47",
   "metadata": {},
   "outputs": [
    {
     "name": "stdout",
     "output_type": "stream",
     "text": [
      "Time of simulation: 1.4033904215110305e-43 s\n",
      "Luminosity per packet: [1.78140022e+38 1.78140022e+38 1.78140022e+38 ... 1.78140022e+38\n",
      " 1.78140022e+38 1.78140022e+38] erg / s\n"
     ]
    }
   ],
   "source": [
    "# Time of simulation\n",
    "t_simulation = 1 * u.erg / luminosity_inner\n",
    "print(\n",
    "    \"Time of simulation:\",\n",
    "    t_simulation,\n",
    ")\n",
    "\n",
    "# Array of luminosity contribution by each packet\n",
    "lumin_per_packet = energies / t_simulation\n",
    "print(\n",
    "    \"Luminosity per packet:\",\n",
    "    lumin_per_packet,\n",
    ")"
   ]
  },
  {
   "cell_type": "markdown",
   "id": "0d839222",
   "metadata": {},
   "source": [
    "We define important constants, and for comparison's sake, we code the Planck distribution function\n",
    "$$L_\\nu (\\nu)=\\frac{8\\pi r_\\mathrm{boundary\\_inner}^2 h\\nu^3}{c^2}\\frac{1}{\\exp\\left(\\frac{h\\nu}{k_BT_\\mathrm{inner}}\\right)-1}$$\n",
    "where $L_\\nu$ is the luminosity density (see [Basic Spectrum Generation](../spectrum/basic.ipynb)) with respect to frequency, $\\nu$ is frequency, $h$ is Planck's constant, $c$ is the speed of light, and $k_B$ is Boltzmann's constant:"
   ]
  },
  {
   "cell_type": "code",
   "execution_count": 6,
   "id": "916a5e22",
   "metadata": {
    "scrolled": false
   },
   "outputs": [],
   "source": [
    "h = const.h.cgs\n",
    "c2 = const.c.cgs**2\n",
    "kB = const.k_B.cgs\n",
    "\n",
    "\n",
    "def planck_function(nu):\n",
    "    return (\n",
    "        8\n",
    "        * np.pi**2\n",
    "        * r_boundary_inner**2\n",
    "        * h\n",
    "        * nu**3\n",
    "        / (c2 * (np.exp(h * nu / (kB * temperature_inner)) - 1))\n",
    "    )"
   ]
  },
  {
   "cell_type": "markdown",
   "id": "78230177",
   "metadata": {},
   "source": [
    "We plot the Planck distribution and a histogram of the generated packet distribution:"
   ]
  },
  {
   "cell_type": "code",
   "execution_count": 7,
   "id": "913fcdbb",
   "metadata": {},
   "outputs": [
    {
     "data": {
      "image/png": "[encoded data removed]",
      "text/plain": [
       "<Figure size 640x480 with 1 Axes>"
      ]
     },
     "metadata": {},
     "output_type": "display_data"
    }
   ],
   "source": [
    "# We set important quantites for making our histogram\n",
    "bins = 200\n",
    "nus_planck = np.linspace(\n",
    "    min(nus),\n",
    "    max(nus),\n",
    "    bins,\n",
    ")\n",
    "bin_width = nus_planck[1] - nus_planck[0]\n",
    "\n",
    "# In the histogram plot below, the weights argument is used\n",
    "# to make sure our plotted spectrum has the correct y-axis scale\n",
    "plt.hist(\n",
    "    nus.value,\n",
    "    bins=bins,\n",
    "    weights=lumin_per_packet / bin_width,\n",
    ")\n",
    "\n",
    "# We plot the planck function for comparison\n",
    "# plt.plot(nus_planck, planck_function(nus_planck))\n",
    "plt.plot(\n",
    "    nus_planck,\n",
    "    planck_function(nus_planck),\n",
    ")\n",
    "\n",
    "plt.xlabel(\"Frequency (Hz)\")\n",
    "plt.ylabel(\"Luminosity density w.r.t. frequency (erg/s/Hz)\")\n",
    "plt.show()"
   ]
  },
  {
   "cell_type": "markdown",
   "id": "ad4f0f0e",
   "metadata": {},
   "source": [
    "We finally plot the generated $\\mu$ density distribution, followed by the generated $\\theta=\\arccos (\\mu)$ density distribution, compared with the respective curves $\\rho = 2\\mu$ and $\\rho = \\sin(2\\theta)$:"
   ]
  },
  {
   "cell_type": "code",
   "execution_count": 8,
   "id": "ae4c97de",
   "metadata": {},
   "outputs": [
    {
     "data": {
      "image/png": "[encoded data removed]",
      "text/plain": [
       "<Figure size 640x480 with 1 Axes>"
      ]
     },
     "metadata": {},
     "output_type": "display_data"
    }
   ],
   "source": [
    "x = np.linspace(0, 1, 1000)\n",
    "\n",
    "plt.hist(\n",
    "    mus,\n",
    "    bins=bins,\n",
    "    density=True,\n",
    ")\n",
    "plt.plot(\n",
    "    x,\n",
    "    2 * x,\n",
    ")\n",
    "plt.xlabel(\"Propagation direction\")\n",
    "plt.ylabel(\"Probability density\")\n",
    "plt.show()"
   ]
  },
  {
   "cell_type": "code",
   "execution_count": 9,
   "id": "41daa433",
   "metadata": {},
   "outputs": [
    {
     "data": {
      "image/png": "[encoded data removed]",
      "text/plain": [
       "<Figure size 640x480 with 1 Axes>"
      ]
     },
     "metadata": {},
     "output_type": "display_data"
    }
   ],
   "source": [
    "thetas = np.linspace(\n",
    "    0,\n",
    "    np.pi / 2,\n",
    "    1000,\n",
    ")\n",
    "\n",
    "plt.hist(\n",
    "    np.arccos(mus),\n",
    "    bins=bins,\n",
    "    density=True,\n",
    ")\n",
    "plt.plot(\n",
    "    thetas,\n",
    "    np.sin(2 * thetas),\n",
    ")\n",
    "plt.xlabel(\"Angle with normal (rad)\")\n",
    "plt.ylabel(\"Probability density\")\n",
    "plt.show()"
   ]
  },
  {
   "cell_type": "markdown",
   "id": "2f661592",
   "metadata": {},
   "source": [
    "## Custom Packet Source\n",
    "\n",
    "TARDIS allows for the user to input a custom function that generates energy packets instead of the basic blackbody source described here. See [Running TARDIS with a Custom Packet Source](../../io/optional/custom_source.ipynb) for more information."
   ]
  },
  {
   "cell_type": "markdown",
   "id": "efc2b03c",
   "metadata": {},
   "source": [
    "## Numba Implementation of Planck Function\n",
    "\n",
    "The remaining objective is to implement ```planck_function()``` using Numba and compare results to the non-Numba implementation. It is unclear a priori how many simulations should be run to give an accurate idea of what the average is. Here, the number of iterations for each time trial is chosen according to the process described in [section 1.3.2 of these notes](http://www.mit.edu/~kircher/sim.pdf#section.1.3). Plots of execution times are also included."
   ]
  },
  {
   "cell_type": "code",
   "execution_count": 10,
   "id": "eba811ec",
   "metadata": {},
   "outputs": [],
   "source": [
    "@numba.njit()\n",
    "def planck_function_numba(nu):\n",
    "    return (\n",
    "        8\n",
    "        * np.pi**2\n",
    "        * r_boundary_inner**2\n",
    "        * h\n",
    "        * nu**3\n",
    "        / (c2 * (np.exp(h * nu / (kB * temperature_inner)) - 1))\n",
    "    )\n",
    "\n",
    "\n",
    "@numba.njit(parallel=True)\n",
    "def planck_function_numba_parallel(nu):\n",
    "    return (\n",
    "        8\n",
    "        * np.pi**2\n",
    "        * r_boundary_inner**2\n",
    "        * h\n",
    "        * nu**3\n",
    "        / (c2 * (np.exp(h * nu / (kB * temperature_inner)) - 1))\n",
    "    )\n",
    "\n",
    "\n",
    "# _ = planck_function_numba(nus_planck)  # Force Numba compilation\n",
    "# _ = planck_function_numba_parallel(nus_planck)  # Force Numba compilation\n",
    "# Removed forced compilation per the suggestion of Isaac Smith"
   ]
  },
  {
   "cell_type": "markdown",
   "id": "29a5b09d",
   "metadata": {},
   "source": [
    "### Initial Pass of Time Trials\n",
    "\n",
    "Below is the first naive pass of simulations that will be used to calculate the number of remaining needed trials."
   ]
  },
  {
   "cell_type": "code",
   "execution_count": 11,
   "id": "e4793fd0",
   "metadata": {
    "scrolled": true
   },
   "outputs": [
    {
     "data": {
      "application/vnd.jupyter.widget-view+json": {
       "model_id": "02a0e6739c694dd48150bfea1e78956e",
       "version_major": 2,
       "version_minor": 0
      },
      "text/plain": [
       "  0%|          | 0/945 [00:00<?, ?it/s]"
      ]
     },
     "metadata": {},
     "output_type": "display_data"
    },
    {
     "data": {
      "text/html": [
       "<div>\n",
       "<style scoped>\n",
       "    .dataframe tbody tr th:only-of-type {\n",
       "        vertical-align: middle;\n",
       "    }\n",
       "\n",
       "    .dataframe tbody tr th {\n",
       "        vertical-align: top;\n",
       "    }\n",
       "\n",
       "    .dataframe thead th {\n",
       "        text-align: right;\n",
       "    }\n",
       "</style>\n",
       "<table border=\"1\" class=\"dataframe\">\n",
       "  <thead>\n",
       "    <tr style=\"text-align: right;\">\n",
       "      <th></th>\n",
       "      <th>func_name</th>\n",
       "      <th>freq_bins</th>\n",
       "      <th>exec_time</th>\n",
       "      <th>date</th>\n",
       "    </tr>\n",
       "  </thead>\n",
       "  <tbody>\n",
       "    <tr>\n",
       "      <th>0</th>\n",
       "      <td>planck_function</td>\n",
       "      <td>100</td>\n",
       "      <td>222677</td>\n",
       "      <td>2023-03-28 07:45:18.869298</td>\n",
       "    </tr>\n",
       "    <tr>\n",
       "      <th>1</th>\n",
       "      <td>planck_function</td>\n",
       "      <td>100</td>\n",
       "      <td>216012</td>\n",
       "      <td>2023-03-28 07:45:19.287552</td>\n",
       "    </tr>\n",
       "    <tr>\n",
       "      <th>2</th>\n",
       "      <td>planck_function</td>\n",
       "      <td>100</td>\n",
       "      <td>205048</td>\n",
       "      <td>2023-03-28 07:45:19.702600</td>\n",
       "    </tr>\n",
       "    <tr>\n",
       "      <th>3</th>\n",
       "      <td>planck_function</td>\n",
       "      <td>100</td>\n",
       "      <td>207107</td>\n",
       "      <td>2023-03-28 07:45:20.114611</td>\n",
       "    </tr>\n",
       "    <tr>\n",
       "      <th>4</th>\n",
       "      <td>planck_function</td>\n",
       "      <td>100</td>\n",
       "      <td>206940</td>\n",
       "      <td>2023-03-28 07:45:20.531491</td>\n",
       "    </tr>\n",
       "    <tr>\n",
       "      <th>...</th>\n",
       "      <td>...</td>\n",
       "      <td>...</td>\n",
       "      <td>...</td>\n",
       "      <td>...</td>\n",
       "    </tr>\n",
       "    <tr>\n",
       "      <th>940</th>\n",
       "      <td>planck_function_numba_parallel</td>\n",
       "      <td>5000000</td>\n",
       "      <td>4679679</td>\n",
       "      <td>2023-03-28 07:51:57.575997</td>\n",
       "    </tr>\n",
       "    <tr>\n",
       "      <th>941</th>\n",
       "      <td>planck_function_numba_parallel</td>\n",
       "      <td>5000000</td>\n",
       "      <td>3328654</td>\n",
       "      <td>2023-03-28 07:51:58.013260</td>\n",
       "    </tr>\n",
       "    <tr>\n",
       "      <th>942</th>\n",
       "      <td>planck_function_numba_parallel</td>\n",
       "      <td>5000000</td>\n",
       "      <td>3297798</td>\n",
       "      <td>2023-03-28 07:51:58.449419</td>\n",
       "    </tr>\n",
       "    <tr>\n",
       "      <th>943</th>\n",
       "      <td>planck_function_numba_parallel</td>\n",
       "      <td>5000000</td>\n",
       "      <td>4650578</td>\n",
       "      <td>2023-03-28 07:51:58.883999</td>\n",
       "    </tr>\n",
       "    <tr>\n",
       "      <th>944</th>\n",
       "      <td>planck_function_numba_parallel</td>\n",
       "      <td>5000000</td>\n",
       "      <td>3303088</td>\n",
       "      <td>2023-03-28 07:51:59.320077</td>\n",
       "    </tr>\n",
       "  </tbody>\n",
       "</table>\n",
       "<p>945 rows × 4 columns</p>\n",
       "</div>"
      ],
      "text/plain": [
       "                          func_name  freq_bins  exec_time  \\\n",
       "0                   planck_function        100     222677   \n",
       "1                   planck_function        100     216012   \n",
       "2                   planck_function        100     205048   \n",
       "3                   planck_function        100     207107   \n",
       "4                   planck_function        100     206940   \n",
       "..                              ...        ...        ...   \n",
       "940  planck_function_numba_parallel    5000000    4679679   \n",
       "941  planck_function_numba_parallel    5000000    3328654   \n",
       "942  planck_function_numba_parallel    5000000    3297798   \n",
       "943  planck_function_numba_parallel    5000000    4650578   \n",
       "944  planck_function_numba_parallel    5000000    3303088   \n",
       "\n",
       "                          date  \n",
       "0   2023-03-28 07:45:18.869298  \n",
       "1   2023-03-28 07:45:19.287552  \n",
       "2   2023-03-28 07:45:19.702600  \n",
       "3   2023-03-28 07:45:20.114611  \n",
       "4   2023-03-28 07:45:20.531491  \n",
       "..                         ...  \n",
       "940 2023-03-28 07:51:57.575997  \n",
       "941 2023-03-28 07:51:58.013260  \n",
       "942 2023-03-28 07:51:58.449419  \n",
       "943 2023-03-28 07:51:58.883999  \n",
       "944 2023-03-28 07:51:59.320077  \n",
       "\n",
       "[945 rows x 4 columns]"
      ]
     },
     "execution_count": 11,
     "metadata": {},
     "output_type": "execute_result"
    }
   ],
   "source": [
    "freq_bins = tuple(\n",
    "    itertools.chain.from_iterable(\n",
    "        ((1 * 10**e, 2 * 10**e, 5 * 10**e) for e in range(2, 7))\n",
    "    )\n",
    ")\n",
    "# The prompt only asked for 100, 200, and 500, but seeing how performance\n",
    "# grows for more frequency bins can possibly be informative.\n",
    "\n",
    "function_names = (\n",
    "    \"planck_function\",\n",
    "    \"planck_function_numba\",\n",
    "    \"planck_function_numba_parallel\",\n",
    ")\n",
    "\n",
    "functions = (\n",
    "    planck_function,\n",
    "    planck_function_numba,\n",
    "    planck_function_numba_parallel,\n",
    ")\n",
    "\n",
    "funcdict = {\n",
    "    funcname: func for (funcname, func) in zip(function_names, functions)\n",
    "}\n",
    "\n",
    "N_initial = 20\n",
    "\n",
    "raw_time_data_columns = (\n",
    "    \"func_name\",\n",
    "    \"freq_bins\",\n",
    "    \"exec_time\",\n",
    "    \"date\",\n",
    ")\n",
    "raw_time_data = pd.DataFrame(columns=raw_time_data_columns)\n",
    "raw_time_data[raw_time_data_columns[0]] = raw_time_data[\n",
    "    raw_time_data_columns[0]\n",
    "].astype(\"category\")\n",
    "raw_time_data[raw_time_data_columns[1]] = pd.to_numeric(\n",
    "    raw_time_data[raw_time_data_columns[1]], downcast=\"integer\"\n",
    ")\n",
    "raw_time_data[raw_time_data_columns[2]] = pd.to_numeric(\n",
    "    raw_time_data[raw_time_data_columns[2]], downcast=\"integer\"\n",
    ")\n",
    "raw_time_data[raw_time_data_columns[3]] = pd.to_datetime(\n",
    "    raw_time_data[raw_time_data_columns[3]]\n",
    ")\n",
    "\n",
    "\n",
    "def time_trial(func, func_name, freq, args=None):\n",
    "    nus_planck = np.linspace(\n",
    "        min(nus),\n",
    "        max(nus),\n",
    "        freq,\n",
    "    )\n",
    "\n",
    "    if args is None:\n",
    "        start_time = time.perf_counter_ns()\n",
    "        _ = func(nus_planck)\n",
    "        stop_time = time.perf_counter_ns()\n",
    "    else:\n",
    "        start_time = time.perf_counter_ns()\n",
    "        _ = func(nus_planck, *args)\n",
    "        stop_time = time.perf_counter_ns()\n",
    "    timestamp = pd.Timestamp.now()\n",
    "    elapsed = stop_time - start_time\n",
    "    tempdf = pd.DataFrame(\n",
    "        [\n",
    "            [\n",
    "                func_name,\n",
    "                freq,\n",
    "                elapsed,\n",
    "                timestamp,\n",
    "            ],\n",
    "        ],\n",
    "        columns=raw_time_data_columns,\n",
    "    )\n",
    "\n",
    "    return tempdf\n",
    "\n",
    "\n",
    "total_iterations = len(freq_bins) * len(functions) * (1 + N_initial)\n",
    "\n",
    "for (func, func_name), freq, n in tqdm.tqdm(\n",
    "    itertools.product(\n",
    "        zip(\n",
    "            functions,\n",
    "            function_names,\n",
    "        ),\n",
    "        freq_bins,\n",
    "        range(1 + N_initial),\n",
    "    ),\n",
    "    total=total_iterations,\n",
    "):\n",
    "    tempdf = time_trial(\n",
    "        func,\n",
    "        func_name,\n",
    "        freq,\n",
    "    )\n",
    "    raw_time_data = pd.concat(\n",
    "        [\n",
    "            raw_time_data,\n",
    "            tempdf,\n",
    "        ],\n",
    "        ignore_index=True,\n",
    "    )\n",
    "\n",
    "\n",
    "raw_time_data"
   ]
  },
  {
   "cell_type": "code",
   "execution_count": 12,
   "id": "08ef920e",
   "metadata": {},
   "outputs": [
    {
     "data": {
      "text/html": [
       "<div>\n",
       "<style scoped>\n",
       "    .dataframe tbody tr th:only-of-type {\n",
       "        vertical-align: middle;\n",
       "    }\n",
       "\n",
       "    .dataframe tbody tr th {\n",
       "        vertical-align: top;\n",
       "    }\n",
       "\n",
       "    .dataframe thead th {\n",
       "        text-align: right;\n",
       "    }\n",
       "</style>\n",
       "<table border=\"1\" class=\"dataframe\">\n",
       "  <thead>\n",
       "    <tr style=\"text-align: right;\">\n",
       "      <th></th>\n",
       "      <th>func_name</th>\n",
       "      <th>freq_bins</th>\n",
       "      <th>exec_time</th>\n",
       "      <th>date</th>\n",
       "    </tr>\n",
       "  </thead>\n",
       "  <tbody>\n",
       "    <tr>\n",
       "      <th>1</th>\n",
       "      <td>planck_function</td>\n",
       "      <td>100</td>\n",
       "      <td>216012</td>\n",
       "      <td>2023-03-28 07:45:19.287552</td>\n",
       "    </tr>\n",
       "    <tr>\n",
       "      <th>2</th>\n",
       "      <td>planck_function</td>\n",
       "      <td>100</td>\n",
       "      <td>205048</td>\n",
       "      <td>2023-03-28 07:45:19.702600</td>\n",
       "    </tr>\n",
       "    <tr>\n",
       "      <th>3</th>\n",
       "      <td>planck_function</td>\n",
       "      <td>100</td>\n",
       "      <td>207107</td>\n",
       "      <td>2023-03-28 07:45:20.114611</td>\n",
       "    </tr>\n",
       "    <tr>\n",
       "      <th>4</th>\n",
       "      <td>planck_function</td>\n",
       "      <td>100</td>\n",
       "      <td>206940</td>\n",
       "      <td>2023-03-28 07:45:20.531491</td>\n",
       "    </tr>\n",
       "    <tr>\n",
       "      <th>5</th>\n",
       "      <td>planck_function</td>\n",
       "      <td>100</td>\n",
       "      <td>208374</td>\n",
       "      <td>2023-03-28 07:45:20.943311</td>\n",
       "    </tr>\n",
       "    <tr>\n",
       "      <th>...</th>\n",
       "      <td>...</td>\n",
       "      <td>...</td>\n",
       "      <td>...</td>\n",
       "      <td>...</td>\n",
       "    </tr>\n",
       "    <tr>\n",
       "      <th>940</th>\n",
       "      <td>planck_function_numba_parallel</td>\n",
       "      <td>5000000</td>\n",
       "      <td>4679679</td>\n",
       "      <td>2023-03-28 07:51:57.575997</td>\n",
       "    </tr>\n",
       "    <tr>\n",
       "      <th>941</th>\n",
       "      <td>planck_function_numba_parallel</td>\n",
       "      <td>5000000</td>\n",
       "      <td>3328654</td>\n",
       "      <td>2023-03-28 07:51:58.013260</td>\n",
       "    </tr>\n",
       "    <tr>\n",
       "      <th>942</th>\n",
       "      <td>planck_function_numba_parallel</td>\n",
       "      <td>5000000</td>\n",
       "      <td>3297798</td>\n",
       "      <td>2023-03-28 07:51:58.449419</td>\n",
       "    </tr>\n",
       "    <tr>\n",
       "      <th>943</th>\n",
       "      <td>planck_function_numba_parallel</td>\n",
       "      <td>5000000</td>\n",
       "      <td>4650578</td>\n",
       "      <td>2023-03-28 07:51:58.883999</td>\n",
       "    </tr>\n",
       "    <tr>\n",
       "      <th>944</th>\n",
       "      <td>planck_function_numba_parallel</td>\n",
       "      <td>5000000</td>\n",
       "      <td>3303088</td>\n",
       "      <td>2023-03-28 07:51:59.320077</td>\n",
       "    </tr>\n",
       "  </tbody>\n",
       "</table>\n",
       "<p>900 rows × 4 columns</p>\n",
       "</div>"
      ],
      "text/plain": [
       "                          func_name  freq_bins  exec_time  \\\n",
       "1                   planck_function        100     216012   \n",
       "2                   planck_function        100     205048   \n",
       "3                   planck_function        100     207107   \n",
       "4                   planck_function        100     206940   \n",
       "5                   planck_function        100     208374   \n",
       "..                              ...        ...        ...   \n",
       "940  planck_function_numba_parallel    5000000    4679679   \n",
       "941  planck_function_numba_parallel    5000000    3328654   \n",
       "942  planck_function_numba_parallel    5000000    3297798   \n",
       "943  planck_function_numba_parallel    5000000    4650578   \n",
       "944  planck_function_numba_parallel    5000000    3303088   \n",
       "\n",
       "                          date  \n",
       "1   2023-03-28 07:45:19.287552  \n",
       "2   2023-03-28 07:45:19.702600  \n",
       "3   2023-03-28 07:45:20.114611  \n",
       "4   2023-03-28 07:45:20.531491  \n",
       "5   2023-03-28 07:45:20.943311  \n",
       "..                         ...  \n",
       "940 2023-03-28 07:51:57.575997  \n",
       "941 2023-03-28 07:51:58.013260  \n",
       "942 2023-03-28 07:51:58.449419  \n",
       "943 2023-03-28 07:51:58.883999  \n",
       "944 2023-03-28 07:51:59.320077  \n",
       "\n",
       "[900 rows x 4 columns]"
      ]
     },
     "execution_count": 12,
     "metadata": {},
     "output_type": "execute_result"
    }
   ],
   "source": [
    "groupby = raw_time_data.groupby(\n",
    "    [\n",
    "        \"func_name\",\n",
    "        \"freq_bins\",\n",
    "    ]\n",
    ")\n",
    "first_indices = groupby.apply(lambda df: df[\"date\"].idxmin())\n",
    "raw_time_data_dropfirst = raw_time_data.drop(first_indices)\n",
    "\n",
    "groupby_dropfirst = raw_time_data_dropfirst.groupby(\n",
    "    [\n",
    "        \"func_name\",\n",
    "        \"freq_bins\",\n",
    "    ]\n",
    ")\n",
    "\n",
    "raw_time_data_dropfirst"
   ]
  },
  {
   "cell_type": "code",
   "execution_count": 13,
   "id": "04878fd6",
   "metadata": {},
   "outputs": [
    {
     "data": {
      "text/html": [
       "<div>\n",
       "<style scoped>\n",
       "    .dataframe tbody tr th:only-of-type {\n",
       "        vertical-align: middle;\n",
       "    }\n",
       "\n",
       "    .dataframe tbody tr th {\n",
       "        vertical-align: top;\n",
       "    }\n",
       "\n",
       "    .dataframe thead th {\n",
       "        text-align: right;\n",
       "    }\n",
       "</style>\n",
       "<table border=\"1\" class=\"dataframe\">\n",
       "  <thead>\n",
       "    <tr style=\"text-align: right;\">\n",
       "      <th></th>\n",
       "      <th></th>\n",
       "      <th>mean</th>\n",
       "      <th>std</th>\n",
       "      <th>mean_dropfirst</th>\n",
       "      <th>std_dropfirst</th>\n",
       "    </tr>\n",
       "    <tr>\n",
       "      <th>func_name</th>\n",
       "      <th>freq_bins</th>\n",
       "      <th></th>\n",
       "      <th></th>\n",
       "      <th></th>\n",
       "      <th></th>\n",
       "    </tr>\n",
       "  </thead>\n",
       "  <tbody>\n",
       "    <tr>\n",
       "      <th rowspan=\"15\" valign=\"top\">planck_function</th>\n",
       "      <th>100</th>\n",
       "      <td>2.083840e+05</td>\n",
       "      <td>4.844522e+03</td>\n",
       "      <td>2.076694e+05</td>\n",
       "      <td>3.662649e+03</td>\n",
       "    </tr>\n",
       "    <tr>\n",
       "      <th>200</th>\n",
       "      <td>2.100504e+05</td>\n",
       "      <td>5.840249e+03</td>\n",
       "      <td>2.102901e+05</td>\n",
       "      <td>5.885058e+03</td>\n",
       "    </tr>\n",
       "    <tr>\n",
       "      <th>500</th>\n",
       "      <td>2.167013e+05</td>\n",
       "      <td>6.233739e+03</td>\n",
       "      <td>2.168697e+05</td>\n",
       "      <td>6.346476e+03</td>\n",
       "    </tr>\n",
       "    <tr>\n",
       "      <th>1000</th>\n",
       "      <td>2.243998e+05</td>\n",
       "      <td>5.592862e+03</td>\n",
       "      <td>2.244470e+05</td>\n",
       "      <td>5.733855e+03</td>\n",
       "    </tr>\n",
       "    <tr>\n",
       "      <th>2000</th>\n",
       "      <td>2.411960e+05</td>\n",
       "      <td>8.860619e+03</td>\n",
       "      <td>2.412476e+05</td>\n",
       "      <td>9.087565e+03</td>\n",
       "    </tr>\n",
       "    <tr>\n",
       "      <th>5000</th>\n",
       "      <td>2.794005e+05</td>\n",
       "      <td>4.876598e+03</td>\n",
       "      <td>2.791899e+05</td>\n",
       "      <td>4.904305e+03</td>\n",
       "    </tr>\n",
       "    <tr>\n",
       "      <th>10000</th>\n",
       "      <td>3.471387e+05</td>\n",
       "      <td>7.866001e+03</td>\n",
       "      <td>3.473987e+05</td>\n",
       "      <td>7.977205e+03</td>\n",
       "    </tr>\n",
       "    <tr>\n",
       "      <th>20000</th>\n",
       "      <td>4.779155e+05</td>\n",
       "      <td>7.149742e+03</td>\n",
       "      <td>4.778277e+05</td>\n",
       "      <td>7.323837e+03</td>\n",
       "    </tr>\n",
       "    <tr>\n",
       "      <th>50000</th>\n",
       "      <td>9.028512e+05</td>\n",
       "      <td>1.551933e+04</td>\n",
       "      <td>9.025056e+05</td>\n",
       "      <td>1.583935e+04</td>\n",
       "    </tr>\n",
       "    <tr>\n",
       "      <th>100000</th>\n",
       "      <td>1.634615e+06</td>\n",
       "      <td>4.932048e+04</td>\n",
       "      <td>1.624974e+06</td>\n",
       "      <td>2.249024e+04</td>\n",
       "    </tr>\n",
       "    <tr>\n",
       "      <th>200000</th>\n",
       "      <td>3.412822e+06</td>\n",
       "      <td>4.043678e+04</td>\n",
       "      <td>3.405953e+06</td>\n",
       "      <td>2.604136e+04</td>\n",
       "    </tr>\n",
       "    <tr>\n",
       "      <th>500000</th>\n",
       "      <td>8.268310e+06</td>\n",
       "      <td>2.051725e+05</td>\n",
       "      <td>8.228375e+06</td>\n",
       "      <td>9.517816e+04</td>\n",
       "    </tr>\n",
       "    <tr>\n",
       "      <th>1000000</th>\n",
       "      <td>1.541048e+07</td>\n",
       "      <td>2.524692e+05</td>\n",
       "      <td>1.538191e+07</td>\n",
       "      <td>2.214545e+05</td>\n",
       "    </tr>\n",
       "    <tr>\n",
       "      <th>2000000</th>\n",
       "      <td>3.177817e+07</td>\n",
       "      <td>3.363927e+05</td>\n",
       "      <td>3.170685e+07</td>\n",
       "      <td>8.159129e+04</td>\n",
       "    </tr>\n",
       "    <tr>\n",
       "      <th>5000000</th>\n",
       "      <td>1.038031e+08</td>\n",
       "      <td>1.681973e+05</td>\n",
       "      <td>1.038031e+08</td>\n",
       "      <td>1.725668e+05</td>\n",
       "    </tr>\n",
       "    <tr>\n",
       "      <th rowspan=\"15\" valign=\"top\">planck_function_numba</th>\n",
       "      <th>100</th>\n",
       "      <td>1.146085e+07</td>\n",
       "      <td>5.250365e+07</td>\n",
       "      <td>3.618050e+03</td>\n",
       "      <td>5.501648e+02</td>\n",
       "    </tr>\n",
       "    <tr>\n",
       "      <th>200</th>\n",
       "      <td>4.531476e+03</td>\n",
       "      <td>1.071590e+02</td>\n",
       "      <td>4.529850e+03</td>\n",
       "      <td>1.096767e+02</td>\n",
       "    </tr>\n",
       "    <tr>\n",
       "      <th>500</th>\n",
       "      <td>7.569714e+03</td>\n",
       "      <td>7.071731e+02</td>\n",
       "      <td>7.584000e+03</td>\n",
       "      <td>7.224287e+02</td>\n",
       "    </tr>\n",
       "    <tr>\n",
       "      <th>1000</th>\n",
       "      <td>1.226329e+04</td>\n",
       "      <td>1.042157e+02</td>\n",
       "      <td>1.226355e+04</td>\n",
       "      <td>1.069158e+02</td>\n",
       "    </tr>\n",
       "    <tr>\n",
       "      <th>2000</th>\n",
       "      <td>1.673810e+04</td>\n",
       "      <td>7.718899e+02</td>\n",
       "      <td>1.674110e+04</td>\n",
       "      <td>7.918163e+02</td>\n",
       "    </tr>\n",
       "    <tr>\n",
       "      <th>5000</th>\n",
       "      <td>3.007329e+04</td>\n",
       "      <td>1.671865e+03</td>\n",
       "      <td>3.009575e+04</td>\n",
       "      <td>1.712043e+03</td>\n",
       "    </tr>\n",
       "    <tr>\n",
       "      <th>10000</th>\n",
       "      <td>5.073890e+04</td>\n",
       "      <td>1.593055e+03</td>\n",
       "      <td>5.066745e+04</td>\n",
       "      <td>1.599540e+03</td>\n",
       "    </tr>\n",
       "    <tr>\n",
       "      <th>20000</th>\n",
       "      <td>9.181667e+04</td>\n",
       "      <td>1.553383e+03</td>\n",
       "      <td>9.183875e+04</td>\n",
       "      <td>1.590352e+03</td>\n",
       "    </tr>\n",
       "    <tr>\n",
       "      <th>50000</th>\n",
       "      <td>2.167216e+05</td>\n",
       "      <td>8.272066e+03</td>\n",
       "      <td>2.166762e+05</td>\n",
       "      <td>8.484279e+03</td>\n",
       "    </tr>\n",
       "    <tr>\n",
       "      <th>100000</th>\n",
       "      <td>3.991649e+05</td>\n",
       "      <td>1.291722e+04</td>\n",
       "      <td>3.991270e+05</td>\n",
       "      <td>1.325159e+04</td>\n",
       "    </tr>\n",
       "    <tr>\n",
       "      <th>200000</th>\n",
       "      <td>7.832400e+05</td>\n",
       "      <td>6.871294e+04</td>\n",
       "      <td>7.688476e+05</td>\n",
       "      <td>1.977434e+04</td>\n",
       "    </tr>\n",
       "    <tr>\n",
       "      <th>500000</th>\n",
       "      <td>1.915917e+06</td>\n",
       "      <td>1.647283e+05</td>\n",
       "      <td>1.880932e+06</td>\n",
       "      <td>3.884579e+04</td>\n",
       "    </tr>\n",
       "    <tr>\n",
       "      <th>1000000</th>\n",
       "      <td>3.808119e+06</td>\n",
       "      <td>3.308784e+05</td>\n",
       "      <td>3.736162e+06</td>\n",
       "      <td>2.803999e+04</td>\n",
       "    </tr>\n",
       "    <tr>\n",
       "      <th>2000000</th>\n",
       "      <td>1.015218e+07</td>\n",
       "      <td>7.373023e+04</td>\n",
       "      <td>1.014795e+07</td>\n",
       "      <td>7.298856e+04</td>\n",
       "    </tr>\n",
       "    <tr>\n",
       "      <th>5000000</th>\n",
       "      <td>2.533861e+07</td>\n",
       "      <td>1.050085e+05</td>\n",
       "      <td>2.533705e+07</td>\n",
       "      <td>1.074856e+05</td>\n",
       "    </tr>\n",
       "    <tr>\n",
       "      <th rowspan=\"15\" valign=\"top\">planck_function_numba_parallel</th>\n",
       "      <th>100</th>\n",
       "      <td>1.227031e+07</td>\n",
       "      <td>5.398391e+07</td>\n",
       "      <td>4.918704e+05</td>\n",
       "      <td>9.722863e+05</td>\n",
       "    </tr>\n",
       "    <tr>\n",
       "      <th>200</th>\n",
       "      <td>6.185887e+05</td>\n",
       "      <td>8.498381e+05</td>\n",
       "      <td>6.411237e+05</td>\n",
       "      <td>8.654542e+05</td>\n",
       "    </tr>\n",
       "    <tr>\n",
       "      <th>500</th>\n",
       "      <td>1.144026e+06</td>\n",
       "      <td>1.958954e+06</td>\n",
       "      <td>1.000937e+06</td>\n",
       "      <td>1.893907e+06</td>\n",
       "    </tr>\n",
       "    <tr>\n",
       "      <th>1000</th>\n",
       "      <td>1.129782e+06</td>\n",
       "      <td>1.813186e+06</td>\n",
       "      <td>1.005479e+06</td>\n",
       "      <td>1.766104e+06</td>\n",
       "    </tr>\n",
       "    <tr>\n",
       "      <th>2000</th>\n",
       "      <td>5.700955e+05</td>\n",
       "      <td>9.352543e+05</td>\n",
       "      <td>5.894986e+05</td>\n",
       "      <td>9.552044e+05</td>\n",
       "    </tr>\n",
       "    <tr>\n",
       "      <th>5000</th>\n",
       "      <td>8.414040e+05</td>\n",
       "      <td>1.049714e+06</td>\n",
       "      <td>7.753128e+05</td>\n",
       "      <td>1.031182e+06</td>\n",
       "    </tr>\n",
       "    <tr>\n",
       "      <th>10000</th>\n",
       "      <td>4.133166e+05</td>\n",
       "      <td>7.994617e+05</td>\n",
       "      <td>4.239617e+05</td>\n",
       "      <td>8.187020e+05</td>\n",
       "    </tr>\n",
       "    <tr>\n",
       "      <th>20000</th>\n",
       "      <td>5.427522e+05</td>\n",
       "      <td>9.245763e+05</td>\n",
       "      <td>5.590428e+05</td>\n",
       "      <td>9.454981e+05</td>\n",
       "    </tr>\n",
       "    <tr>\n",
       "      <th>50000</th>\n",
       "      <td>1.311681e+06</td>\n",
       "      <td>2.023577e+06</td>\n",
       "      <td>1.366741e+06</td>\n",
       "      <td>2.059943e+06</td>\n",
       "    </tr>\n",
       "    <tr>\n",
       "      <th>100000</th>\n",
       "      <td>8.260774e+05</td>\n",
       "      <td>1.471012e+06</td>\n",
       "      <td>8.550547e+05</td>\n",
       "      <td>1.503065e+06</td>\n",
       "    </tr>\n",
       "    <tr>\n",
       "      <th>200000</th>\n",
       "      <td>3.758574e+05</td>\n",
       "      <td>3.426366e+05</td>\n",
       "      <td>3.790568e+05</td>\n",
       "      <td>3.512158e+05</td>\n",
       "    </tr>\n",
       "    <tr>\n",
       "      <th>500000</th>\n",
       "      <td>7.423146e+05</td>\n",
       "      <td>8.853059e+05</td>\n",
       "      <td>7.543505e+05</td>\n",
       "      <td>9.065402e+05</td>\n",
       "    </tr>\n",
       "    <tr>\n",
       "      <th>1000000</th>\n",
       "      <td>1.766094e+06</td>\n",
       "      <td>1.852996e+06</td>\n",
       "      <td>1.541114e+06</td>\n",
       "      <td>1.579693e+06</td>\n",
       "    </tr>\n",
       "    <tr>\n",
       "      <th>2000000</th>\n",
       "      <td>1.635307e+06</td>\n",
       "      <td>5.745331e+05</td>\n",
       "      <td>1.650109e+06</td>\n",
       "      <td>5.853361e+05</td>\n",
       "    </tr>\n",
       "    <tr>\n",
       "      <th>5000000</th>\n",
       "      <td>4.126452e+06</td>\n",
       "      <td>1.262733e+06</td>\n",
       "      <td>4.165010e+06</td>\n",
       "      <td>1.282790e+06</td>\n",
       "    </tr>\n",
       "  </tbody>\n",
       "</table>\n",
       "</div>"
      ],
      "text/plain": [
       "                                                  mean           std  \\\n",
       "func_name                      freq_bins                               \n",
       "planck_function                100        2.083840e+05  4.844522e+03   \n",
       "                               200        2.100504e+05  5.840249e+03   \n",
       "                               500        2.167013e+05  6.233739e+03   \n",
       "                               1000       2.243998e+05  5.592862e+03   \n",
       "                               2000       2.411960e+05  8.860619e+03   \n",
       "                               5000       2.794005e+05  4.876598e+03   \n",
       "                               10000      3.471387e+05  7.866001e+03   \n",
       "                               20000      4.779155e+05  7.149742e+03   \n",
       "                               50000      9.028512e+05  1.551933e+04   \n",
       "                               100000     1.634615e+06  4.932048e+04   \n",
       "                               200000     3.412822e+06  4.043678e+04   \n",
       "                               500000     8.268310e+06  2.051725e+05   \n",
       "                               1000000    1.541048e+07  2.524692e+05   \n",
       "                               2000000    3.177817e+07  3.363927e+05   \n",
       "                               5000000    1.038031e+08  1.681973e+05   \n",
       "planck_function_numba          100        1.146085e+07  5.250365e+07   \n",
       "                               200        4.531476e+03  1.071590e+02   \n",
       "                               500        7.569714e+03  7.071731e+02   \n",
       "                               1000       1.226329e+04  1.042157e+02   \n",
       "                               2000       1.673810e+04  7.718899e+02   \n",
       "                               5000       3.007329e+04  1.671865e+03   \n",
       "                               10000      5.073890e+04  1.593055e+03   \n",
       "                               20000      9.181667e+04  1.553383e+03   \n",
       "                               50000      2.167216e+05  8.272066e+03   \n",
       "                               100000     3.991649e+05  1.291722e+04   \n",
       "                               200000     7.832400e+05  6.871294e+04   \n",
       "                               500000     1.915917e+06  1.647283e+05   \n",
       "                               1000000    3.808119e+06  3.308784e+05   \n",
       "                               2000000    1.015218e+07  7.373023e+04   \n",
       "                               5000000    2.533861e+07  1.050085e+05   \n",
       "planck_function_numba_parallel 100        1.227031e+07  5.398391e+07   \n",
       "                               200        6.185887e+05  8.498381e+05   \n",
       "                               500        1.144026e+06  1.958954e+06   \n",
       "                               1000       1.129782e+06  1.813186e+06   \n",
       "                               2000       5.700955e+05  9.352543e+05   \n",
       "                               5000       8.414040e+05  1.049714e+06   \n",
       "                               10000      4.133166e+05  7.994617e+05   \n",
       "                               20000      5.427522e+05  9.245763e+05   \n",
       "                               50000      1.311681e+06  2.023577e+06   \n",
       "                               100000     8.260774e+05  1.471012e+06   \n",
       "                               200000     3.758574e+05  3.426366e+05   \n",
       "                               500000     7.423146e+05  8.853059e+05   \n",
       "                               1000000    1.766094e+06  1.852996e+06   \n",
       "                               2000000    1.635307e+06  5.745331e+05   \n",
       "                               5000000    4.126452e+06  1.262733e+06   \n",
       "\n",
       "                                          mean_dropfirst  std_dropfirst  \n",
       "func_name                      freq_bins                                 \n",
       "planck_function                100          2.076694e+05   3.662649e+03  \n",
       "                               200          2.102901e+05   5.885058e+03  \n",
       "                               500          2.168697e+05   6.346476e+03  \n",
       "                               1000         2.244470e+05   5.733855e+03  \n",
       "                               2000         2.412476e+05   9.087565e+03  \n",
       "                               5000         2.791899e+05   4.904305e+03  \n",
       "                               10000        3.473987e+05   7.977205e+03  \n",
       "                               20000        4.778277e+05   7.323837e+03  \n",
       "                               50000        9.025056e+05   1.583935e+04  \n",
       "                               100000       1.624974e+06   2.249024e+04  \n",
       "                               200000       3.405953e+06   2.604136e+04  \n",
       "                               500000       8.228375e+06   9.517816e+04  \n",
       "                               1000000      1.538191e+07   2.214545e+05  \n",
       "                               2000000      3.170685e+07   8.159129e+04  \n",
       "                               5000000      1.038031e+08   1.725668e+05  \n",
       "planck_function_numba          100          3.618050e+03   5.501648e+02  \n",
       "                               200          4.529850e+03   1.096767e+02  \n",
       "                               500          7.584000e+03   7.224287e+02  \n",
       "                               1000         1.226355e+04   1.069158e+02  \n",
       "                               2000         1.674110e+04   7.918163e+02  \n",
       "                               5000         3.009575e+04   1.712043e+03  \n",
       "                               10000        5.066745e+04   1.599540e+03  \n",
       "                               20000        9.183875e+04   1.590352e+03  \n",
       "                               50000        2.166762e+05   8.484279e+03  \n",
       "                               100000       3.991270e+05   1.325159e+04  \n",
       "                               200000       7.688476e+05   1.977434e+04  \n",
       "                               500000       1.880932e+06   3.884579e+04  \n",
       "                               1000000      3.736162e+06   2.803999e+04  \n",
       "                               2000000      1.014795e+07   7.298856e+04  \n",
       "                               5000000      2.533705e+07   1.074856e+05  \n",
       "planck_function_numba_parallel 100          4.918704e+05   9.722863e+05  \n",
       "                               200          6.411237e+05   8.654542e+05  \n",
       "                               500          1.000937e+06   1.893907e+06  \n",
       "                               1000         1.005479e+06   1.766104e+06  \n",
       "                               2000         5.894986e+05   9.552044e+05  \n",
       "                               5000         7.753128e+05   1.031182e+06  \n",
       "                               10000        4.239617e+05   8.187020e+05  \n",
       "                               20000        5.590428e+05   9.454981e+05  \n",
       "                               50000        1.366741e+06   2.059943e+06  \n",
       "                               100000       8.550547e+05   1.503065e+06  \n",
       "                               200000       3.790568e+05   3.512158e+05  \n",
       "                               500000       7.543505e+05   9.065402e+05  \n",
       "                               1000000      1.541114e+06   1.579693e+06  \n",
       "                               2000000      1.650109e+06   5.853361e+05  \n",
       "                               5000000      4.165010e+06   1.282790e+06  "
      ]
     },
     "execution_count": 13,
     "metadata": {},
     "output_type": "execute_result"
    }
   ],
   "source": [
    "time_data_estimators = pd.concat(\n",
    "    [\n",
    "        groupby.mean().rename(columns={raw_time_data.columns[2]: \"mean\"}),\n",
    "        groupby.std().rename(columns={raw_time_data.columns[2]: \"std\"}),\n",
    "        groupby_dropfirst.mean().rename(\n",
    "            columns={raw_time_data.columns[2]: \"mean_dropfirst\"}\n",
    "        ),\n",
    "        groupby_dropfirst.std().rename(\n",
    "            columns={raw_time_data.columns[2]: \"std_dropfirst\"}\n",
    "        ),\n",
    "    ],\n",
    "    axis=1,\n",
    ")\n",
    "\n",
    "time_data_estimators"
   ]
  },
  {
   "cell_type": "markdown",
   "id": "a26c03d9",
   "metadata": {},
   "source": [
    "### Calculating Sample Size\n",
    "\n",
    "Below, we use the formula on [page 8 of these notes](www.mit.edu/~kircher/sim.pdf#section.1.2) to calculate how many more samples we need to collect to be confident that $\\mathbb P \\left ( \\left | \\bar \\theta_n - \\theta \\right | \\leq \\epsilon \\right ) \\geq 1 - \\alpha$ where $\\theta$ is the true theoretical mean and $\\bar \\theta_n$ is our Monte Carlo estimator. \n",
    "\n",
    "The first iteration of each trial is when the JIT happens, so the execution distribution is not the same as the distribution for subsequent iterations of the same type. Therefore, since our formula includes an i.i.d. assumption, we calculate the number of further iterations excluding the first one. \n",
    "\n",
    "For practical purposes, we also set a maximum iteration count."
   ]
  },
  {
   "cell_type": "code",
   "execution_count": 14,
   "id": "6e3afccf",
   "metadata": {},
   "outputs": [
    {
     "data": {
      "text/html": [
       "<div>\n",
       "<style scoped>\n",
       "    .dataframe tbody tr th:only-of-type {\n",
       "        vertical-align: middle;\n",
       "    }\n",
       "\n",
       "    .dataframe tbody tr th {\n",
       "        vertical-align: top;\n",
       "    }\n",
       "\n",
       "    .dataframe thead th {\n",
       "        text-align: right;\n",
       "    }\n",
       "</style>\n",
       "<table border=\"1\" class=\"dataframe\">\n",
       "  <thead>\n",
       "    <tr style=\"text-align: right;\">\n",
       "      <th></th>\n",
       "      <th></th>\n",
       "      <th>mean</th>\n",
       "      <th>std</th>\n",
       "      <th>mean_dropfirst</th>\n",
       "      <th>std_dropfirst</th>\n",
       "      <th>N_montecarlo</th>\n",
       "    </tr>\n",
       "    <tr>\n",
       "      <th>func_name</th>\n",
       "      <th>freq_bins</th>\n",
       "      <th></th>\n",
       "      <th></th>\n",
       "      <th></th>\n",
       "      <th></th>\n",
       "      <th></th>\n",
       "    </tr>\n",
       "  </thead>\n",
       "  <tbody>\n",
       "    <tr>\n",
       "      <th rowspan=\"15\" valign=\"top\">planck_function</th>\n",
       "      <th>100</th>\n",
       "      <td>2.083840e+05</td>\n",
       "      <td>4.844522e+03</td>\n",
       "      <td>2.076694e+05</td>\n",
       "      <td>3.662649e+03</td>\n",
       "      <td>1</td>\n",
       "    </tr>\n",
       "    <tr>\n",
       "      <th>200</th>\n",
       "      <td>2.100504e+05</td>\n",
       "      <td>5.840249e+03</td>\n",
       "      <td>2.102901e+05</td>\n",
       "      <td>5.885058e+03</td>\n",
       "      <td>1</td>\n",
       "    </tr>\n",
       "    <tr>\n",
       "      <th>500</th>\n",
       "      <td>2.167013e+05</td>\n",
       "      <td>6.233739e+03</td>\n",
       "      <td>2.168697e+05</td>\n",
       "      <td>6.346476e+03</td>\n",
       "      <td>1</td>\n",
       "    </tr>\n",
       "    <tr>\n",
       "      <th>1000</th>\n",
       "      <td>2.243998e+05</td>\n",
       "      <td>5.592862e+03</td>\n",
       "      <td>2.244470e+05</td>\n",
       "      <td>5.733855e+03</td>\n",
       "      <td>1</td>\n",
       "    </tr>\n",
       "    <tr>\n",
       "      <th>2000</th>\n",
       "      <td>2.411960e+05</td>\n",
       "      <td>8.860619e+03</td>\n",
       "      <td>2.412476e+05</td>\n",
       "      <td>9.087565e+03</td>\n",
       "      <td>1</td>\n",
       "    </tr>\n",
       "    <tr>\n",
       "      <th>5000</th>\n",
       "      <td>2.794005e+05</td>\n",
       "      <td>4.876598e+03</td>\n",
       "      <td>2.791899e+05</td>\n",
       "      <td>4.904305e+03</td>\n",
       "      <td>1</td>\n",
       "    </tr>\n",
       "    <tr>\n",
       "      <th>10000</th>\n",
       "      <td>3.471387e+05</td>\n",
       "      <td>7.866001e+03</td>\n",
       "      <td>3.473987e+05</td>\n",
       "      <td>7.977205e+03</td>\n",
       "      <td>1</td>\n",
       "    </tr>\n",
       "    <tr>\n",
       "      <th>20000</th>\n",
       "      <td>4.779155e+05</td>\n",
       "      <td>7.149742e+03</td>\n",
       "      <td>4.778277e+05</td>\n",
       "      <td>7.323837e+03</td>\n",
       "      <td>1</td>\n",
       "    </tr>\n",
       "    <tr>\n",
       "      <th>50000</th>\n",
       "      <td>9.028512e+05</td>\n",
       "      <td>1.551933e+04</td>\n",
       "      <td>9.025056e+05</td>\n",
       "      <td>1.583935e+04</td>\n",
       "      <td>1</td>\n",
       "    </tr>\n",
       "    <tr>\n",
       "      <th>100000</th>\n",
       "      <td>1.634615e+06</td>\n",
       "      <td>4.932048e+04</td>\n",
       "      <td>1.624974e+06</td>\n",
       "      <td>2.249024e+04</td>\n",
       "      <td>1</td>\n",
       "    </tr>\n",
       "    <tr>\n",
       "      <th>200000</th>\n",
       "      <td>3.412822e+06</td>\n",
       "      <td>4.043678e+04</td>\n",
       "      <td>3.405953e+06</td>\n",
       "      <td>2.604136e+04</td>\n",
       "      <td>1</td>\n",
       "    </tr>\n",
       "    <tr>\n",
       "      <th>500000</th>\n",
       "      <td>8.268310e+06</td>\n",
       "      <td>2.051725e+05</td>\n",
       "      <td>8.228375e+06</td>\n",
       "      <td>9.517816e+04</td>\n",
       "      <td>6</td>\n",
       "    </tr>\n",
       "    <tr>\n",
       "      <th>1000000</th>\n",
       "      <td>1.541048e+07</td>\n",
       "      <td>2.524692e+05</td>\n",
       "      <td>1.538191e+07</td>\n",
       "      <td>2.214545e+05</td>\n",
       "      <td>33</td>\n",
       "    </tr>\n",
       "    <tr>\n",
       "      <th>2000000</th>\n",
       "      <td>3.177817e+07</td>\n",
       "      <td>3.363927e+05</td>\n",
       "      <td>3.170685e+07</td>\n",
       "      <td>8.159129e+04</td>\n",
       "      <td>5</td>\n",
       "    </tr>\n",
       "    <tr>\n",
       "      <th>5000000</th>\n",
       "      <td>1.038031e+08</td>\n",
       "      <td>1.681973e+05</td>\n",
       "      <td>1.038031e+08</td>\n",
       "      <td>1.725668e+05</td>\n",
       "      <td>20</td>\n",
       "    </tr>\n",
       "    <tr>\n",
       "      <th rowspan=\"15\" valign=\"top\">planck_function_numba</th>\n",
       "      <th>100</th>\n",
       "      <td>1.146085e+07</td>\n",
       "      <td>5.250365e+07</td>\n",
       "      <td>3.618050e+03</td>\n",
       "      <td>5.501648e+02</td>\n",
       "      <td>1</td>\n",
       "    </tr>\n",
       "    <tr>\n",
       "      <th>200</th>\n",
       "      <td>4.531476e+03</td>\n",
       "      <td>1.071590e+02</td>\n",
       "      <td>4.529850e+03</td>\n",
       "      <td>1.096767e+02</td>\n",
       "      <td>1</td>\n",
       "    </tr>\n",
       "    <tr>\n",
       "      <th>500</th>\n",
       "      <td>7.569714e+03</td>\n",
       "      <td>7.071731e+02</td>\n",
       "      <td>7.584000e+03</td>\n",
       "      <td>7.224287e+02</td>\n",
       "      <td>1</td>\n",
       "    </tr>\n",
       "    <tr>\n",
       "      <th>1000</th>\n",
       "      <td>1.226329e+04</td>\n",
       "      <td>1.042157e+02</td>\n",
       "      <td>1.226355e+04</td>\n",
       "      <td>1.069158e+02</td>\n",
       "      <td>1</td>\n",
       "    </tr>\n",
       "    <tr>\n",
       "      <th>2000</th>\n",
       "      <td>1.673810e+04</td>\n",
       "      <td>7.718899e+02</td>\n",
       "      <td>1.674110e+04</td>\n",
       "      <td>7.918163e+02</td>\n",
       "      <td>1</td>\n",
       "    </tr>\n",
       "    <tr>\n",
       "      <th>5000</th>\n",
       "      <td>3.007329e+04</td>\n",
       "      <td>1.671865e+03</td>\n",
       "      <td>3.009575e+04</td>\n",
       "      <td>1.712043e+03</td>\n",
       "      <td>1</td>\n",
       "    </tr>\n",
       "    <tr>\n",
       "      <th>10000</th>\n",
       "      <td>5.073890e+04</td>\n",
       "      <td>1.593055e+03</td>\n",
       "      <td>5.066745e+04</td>\n",
       "      <td>1.599540e+03</td>\n",
       "      <td>1</td>\n",
       "    </tr>\n",
       "    <tr>\n",
       "      <th>20000</th>\n",
       "      <td>9.181667e+04</td>\n",
       "      <td>1.553383e+03</td>\n",
       "      <td>9.183875e+04</td>\n",
       "      <td>1.590352e+03</td>\n",
       "      <td>1</td>\n",
       "    </tr>\n",
       "    <tr>\n",
       "      <th>50000</th>\n",
       "      <td>2.167216e+05</td>\n",
       "      <td>8.272066e+03</td>\n",
       "      <td>2.166762e+05</td>\n",
       "      <td>8.484279e+03</td>\n",
       "      <td>1</td>\n",
       "    </tr>\n",
       "    <tr>\n",
       "      <th>100000</th>\n",
       "      <td>3.991649e+05</td>\n",
       "      <td>1.291722e+04</td>\n",
       "      <td>3.991270e+05</td>\n",
       "      <td>1.325159e+04</td>\n",
       "      <td>1</td>\n",
       "    </tr>\n",
       "    <tr>\n",
       "      <th>200000</th>\n",
       "      <td>7.832400e+05</td>\n",
       "      <td>6.871294e+04</td>\n",
       "      <td>7.688476e+05</td>\n",
       "      <td>1.977434e+04</td>\n",
       "      <td>1</td>\n",
       "    </tr>\n",
       "    <tr>\n",
       "      <th>500000</th>\n",
       "      <td>1.915917e+06</td>\n",
       "      <td>1.647283e+05</td>\n",
       "      <td>1.880932e+06</td>\n",
       "      <td>3.884579e+04</td>\n",
       "      <td>1</td>\n",
       "    </tr>\n",
       "    <tr>\n",
       "      <th>1000000</th>\n",
       "      <td>3.808119e+06</td>\n",
       "      <td>3.308784e+05</td>\n",
       "      <td>3.736162e+06</td>\n",
       "      <td>2.803999e+04</td>\n",
       "      <td>1</td>\n",
       "    </tr>\n",
       "    <tr>\n",
       "      <th>2000000</th>\n",
       "      <td>1.015218e+07</td>\n",
       "      <td>7.373023e+04</td>\n",
       "      <td>1.014795e+07</td>\n",
       "      <td>7.298856e+04</td>\n",
       "      <td>4</td>\n",
       "    </tr>\n",
       "    <tr>\n",
       "      <th>5000000</th>\n",
       "      <td>2.533861e+07</td>\n",
       "      <td>1.050085e+05</td>\n",
       "      <td>2.533705e+07</td>\n",
       "      <td>1.074856e+05</td>\n",
       "      <td>8</td>\n",
       "    </tr>\n",
       "    <tr>\n",
       "      <th rowspan=\"15\" valign=\"top\">planck_function_numba_parallel</th>\n",
       "      <th>100</th>\n",
       "      <td>1.227031e+07</td>\n",
       "      <td>5.398391e+07</td>\n",
       "      <td>4.918704e+05</td>\n",
       "      <td>9.722863e+05</td>\n",
       "      <td>50</td>\n",
       "    </tr>\n",
       "    <tr>\n",
       "      <th>200</th>\n",
       "      <td>6.185887e+05</td>\n",
       "      <td>8.498381e+05</td>\n",
       "      <td>6.411237e+05</td>\n",
       "      <td>8.654542e+05</td>\n",
       "      <td>50</td>\n",
       "    </tr>\n",
       "    <tr>\n",
       "      <th>500</th>\n",
       "      <td>1.144026e+06</td>\n",
       "      <td>1.958954e+06</td>\n",
       "      <td>1.000937e+06</td>\n",
       "      <td>1.893907e+06</td>\n",
       "      <td>50</td>\n",
       "    </tr>\n",
       "    <tr>\n",
       "      <th>1000</th>\n",
       "      <td>1.129782e+06</td>\n",
       "      <td>1.813186e+06</td>\n",
       "      <td>1.005479e+06</td>\n",
       "      <td>1.766104e+06</td>\n",
       "      <td>50</td>\n",
       "    </tr>\n",
       "    <tr>\n",
       "      <th>2000</th>\n",
       "      <td>5.700955e+05</td>\n",
       "      <td>9.352543e+05</td>\n",
       "      <td>5.894986e+05</td>\n",
       "      <td>9.552044e+05</td>\n",
       "      <td>50</td>\n",
       "    </tr>\n",
       "    <tr>\n",
       "      <th>5000</th>\n",
       "      <td>8.414040e+05</td>\n",
       "      <td>1.049714e+06</td>\n",
       "      <td>7.753128e+05</td>\n",
       "      <td>1.031182e+06</td>\n",
       "      <td>50</td>\n",
       "    </tr>\n",
       "    <tr>\n",
       "      <th>10000</th>\n",
       "      <td>4.133166e+05</td>\n",
       "      <td>7.994617e+05</td>\n",
       "      <td>4.239617e+05</td>\n",
       "      <td>8.187020e+05</td>\n",
       "      <td>50</td>\n",
       "    </tr>\n",
       "    <tr>\n",
       "      <th>20000</th>\n",
       "      <td>5.427522e+05</td>\n",
       "      <td>9.245763e+05</td>\n",
       "      <td>5.590428e+05</td>\n",
       "      <td>9.454981e+05</td>\n",
       "      <td>50</td>\n",
       "    </tr>\n",
       "    <tr>\n",
       "      <th>50000</th>\n",
       "      <td>1.311681e+06</td>\n",
       "      <td>2.023577e+06</td>\n",
       "      <td>1.366741e+06</td>\n",
       "      <td>2.059943e+06</td>\n",
       "      <td>50</td>\n",
       "    </tr>\n",
       "    <tr>\n",
       "      <th>100000</th>\n",
       "      <td>8.260774e+05</td>\n",
       "      <td>1.471012e+06</td>\n",
       "      <td>8.550547e+05</td>\n",
       "      <td>1.503065e+06</td>\n",
       "      <td>50</td>\n",
       "    </tr>\n",
       "    <tr>\n",
       "      <th>200000</th>\n",
       "      <td>3.758574e+05</td>\n",
       "      <td>3.426366e+05</td>\n",
       "      <td>3.790568e+05</td>\n",
       "      <td>3.512158e+05</td>\n",
       "      <td>50</td>\n",
       "    </tr>\n",
       "    <tr>\n",
       "      <th>500000</th>\n",
       "      <td>7.423146e+05</td>\n",
       "      <td>8.853059e+05</td>\n",
       "      <td>7.543505e+05</td>\n",
       "      <td>9.065402e+05</td>\n",
       "      <td>50</td>\n",
       "    </tr>\n",
       "    <tr>\n",
       "      <th>1000000</th>\n",
       "      <td>1.766094e+06</td>\n",
       "      <td>1.852996e+06</td>\n",
       "      <td>1.541114e+06</td>\n",
       "      <td>1.579693e+06</td>\n",
       "      <td>50</td>\n",
       "    </tr>\n",
       "    <tr>\n",
       "      <th>2000000</th>\n",
       "      <td>1.635307e+06</td>\n",
       "      <td>5.745331e+05</td>\n",
       "      <td>1.650109e+06</td>\n",
       "      <td>5.853361e+05</td>\n",
       "      <td>50</td>\n",
       "    </tr>\n",
       "    <tr>\n",
       "      <th>5000000</th>\n",
       "      <td>4.126452e+06</td>\n",
       "      <td>1.262733e+06</td>\n",
       "      <td>4.165010e+06</td>\n",
       "      <td>1.282790e+06</td>\n",
       "      <td>50</td>\n",
       "    </tr>\n",
       "  </tbody>\n",
       "</table>\n",
       "</div>"
      ],
      "text/plain": [
       "                                                  mean           std  \\\n",
       "func_name                      freq_bins                               \n",
       "planck_function                100        2.083840e+05  4.844522e+03   \n",
       "                               200        2.100504e+05  5.840249e+03   \n",
       "                               500        2.167013e+05  6.233739e+03   \n",
       "                               1000       2.243998e+05  5.592862e+03   \n",
       "                               2000       2.411960e+05  8.860619e+03   \n",
       "                               5000       2.794005e+05  4.876598e+03   \n",
       "                               10000      3.471387e+05  7.866001e+03   \n",
       "                               20000      4.779155e+05  7.149742e+03   \n",
       "                               50000      9.028512e+05  1.551933e+04   \n",
       "                               100000     1.634615e+06  4.932048e+04   \n",
       "                               200000     3.412822e+06  4.043678e+04   \n",
       "                               500000     8.268310e+06  2.051725e+05   \n",
       "                               1000000    1.541048e+07  2.524692e+05   \n",
       "                               2000000    3.177817e+07  3.363927e+05   \n",
       "                               5000000    1.038031e+08  1.681973e+05   \n",
       "planck_function_numba          100        1.146085e+07  5.250365e+07   \n",
       "                               200        4.531476e+03  1.071590e+02   \n",
       "                               500        7.569714e+03  7.071731e+02   \n",
       "                               1000       1.226329e+04  1.042157e+02   \n",
       "                               2000       1.673810e+04  7.718899e+02   \n",
       "                               5000       3.007329e+04  1.671865e+03   \n",
       "                               10000      5.073890e+04  1.593055e+03   \n",
       "                               20000      9.181667e+04  1.553383e+03   \n",
       "                               50000      2.167216e+05  8.272066e+03   \n",
       "                               100000     3.991649e+05  1.291722e+04   \n",
       "                               200000     7.832400e+05  6.871294e+04   \n",
       "                               500000     1.915917e+06  1.647283e+05   \n",
       "                               1000000    3.808119e+06  3.308784e+05   \n",
       "                               2000000    1.015218e+07  7.373023e+04   \n",
       "                               5000000    2.533861e+07  1.050085e+05   \n",
       "planck_function_numba_parallel 100        1.227031e+07  5.398391e+07   \n",
       "                               200        6.185887e+05  8.498381e+05   \n",
       "                               500        1.144026e+06  1.958954e+06   \n",
       "                               1000       1.129782e+06  1.813186e+06   \n",
       "                               2000       5.700955e+05  9.352543e+05   \n",
       "                               5000       8.414040e+05  1.049714e+06   \n",
       "                               10000      4.133166e+05  7.994617e+05   \n",
       "                               20000      5.427522e+05  9.245763e+05   \n",
       "                               50000      1.311681e+06  2.023577e+06   \n",
       "                               100000     8.260774e+05  1.471012e+06   \n",
       "                               200000     3.758574e+05  3.426366e+05   \n",
       "                               500000     7.423146e+05  8.853059e+05   \n",
       "                               1000000    1.766094e+06  1.852996e+06   \n",
       "                               2000000    1.635307e+06  5.745331e+05   \n",
       "                               5000000    4.126452e+06  1.262733e+06   \n",
       "\n",
       "                                          mean_dropfirst  std_dropfirst  \\\n",
       "func_name                      freq_bins                                  \n",
       "planck_function                100          2.076694e+05   3.662649e+03   \n",
       "                               200          2.102901e+05   5.885058e+03   \n",
       "                               500          2.168697e+05   6.346476e+03   \n",
       "                               1000         2.244470e+05   5.733855e+03   \n",
       "                               2000         2.412476e+05   9.087565e+03   \n",
       "                               5000         2.791899e+05   4.904305e+03   \n",
       "                               10000        3.473987e+05   7.977205e+03   \n",
       "                               20000        4.778277e+05   7.323837e+03   \n",
       "                               50000        9.025056e+05   1.583935e+04   \n",
       "                               100000       1.624974e+06   2.249024e+04   \n",
       "                               200000       3.405953e+06   2.604136e+04   \n",
       "                               500000       8.228375e+06   9.517816e+04   \n",
       "                               1000000      1.538191e+07   2.214545e+05   \n",
       "                               2000000      3.170685e+07   8.159129e+04   \n",
       "                               5000000      1.038031e+08   1.725668e+05   \n",
       "planck_function_numba          100          3.618050e+03   5.501648e+02   \n",
       "                               200          4.529850e+03   1.096767e+02   \n",
       "                               500          7.584000e+03   7.224287e+02   \n",
       "                               1000         1.226355e+04   1.069158e+02   \n",
       "                               2000         1.674110e+04   7.918163e+02   \n",
       "                               5000         3.009575e+04   1.712043e+03   \n",
       "                               10000        5.066745e+04   1.599540e+03   \n",
       "                               20000        9.183875e+04   1.590352e+03   \n",
       "                               50000        2.166762e+05   8.484279e+03   \n",
       "                               100000       3.991270e+05   1.325159e+04   \n",
       "                               200000       7.688476e+05   1.977434e+04   \n",
       "                               500000       1.880932e+06   3.884579e+04   \n",
       "                               1000000      3.736162e+06   2.803999e+04   \n",
       "                               2000000      1.014795e+07   7.298856e+04   \n",
       "                               5000000      2.533705e+07   1.074856e+05   \n",
       "planck_function_numba_parallel 100          4.918704e+05   9.722863e+05   \n",
       "                               200          6.411237e+05   8.654542e+05   \n",
       "                               500          1.000937e+06   1.893907e+06   \n",
       "                               1000         1.005479e+06   1.766104e+06   \n",
       "                               2000         5.894986e+05   9.552044e+05   \n",
       "                               5000         7.753128e+05   1.031182e+06   \n",
       "                               10000        4.239617e+05   8.187020e+05   \n",
       "                               20000        5.590428e+05   9.454981e+05   \n",
       "                               50000        1.366741e+06   2.059943e+06   \n",
       "                               100000       8.550547e+05   1.503065e+06   \n",
       "                               200000       3.790568e+05   3.512158e+05   \n",
       "                               500000       7.543505e+05   9.065402e+05   \n",
       "                               1000000      1.541114e+06   1.579693e+06   \n",
       "                               2000000      1.650109e+06   5.853361e+05   \n",
       "                               5000000      4.165010e+06   1.282790e+06   \n",
       "\n",
       "                                          N_montecarlo  \n",
       "func_name                      freq_bins                \n",
       "planck_function                100                   1  \n",
       "                               200                   1  \n",
       "                               500                   1  \n",
       "                               1000                  1  \n",
       "                               2000                  1  \n",
       "                               5000                  1  \n",
       "                               10000                 1  \n",
       "                               20000                 1  \n",
       "                               50000                 1  \n",
       "                               100000                1  \n",
       "                               200000                1  \n",
       "                               500000                6  \n",
       "                               1000000              33  \n",
       "                               2000000               5  \n",
       "                               5000000              20  \n",
       "planck_function_numba          100                   1  \n",
       "                               200                   1  \n",
       "                               500                   1  \n",
       "                               1000                  1  \n",
       "                               2000                  1  \n",
       "                               5000                  1  \n",
       "                               10000                 1  \n",
       "                               20000                 1  \n",
       "                               50000                 1  \n",
       "                               100000                1  \n",
       "                               200000                1  \n",
       "                               500000                1  \n",
       "                               1000000               1  \n",
       "                               2000000               4  \n",
       "                               5000000               8  \n",
       "planck_function_numba_parallel 100                  50  \n",
       "                               200                  50  \n",
       "                               500                  50  \n",
       "                               1000                 50  \n",
       "                               2000                 50  \n",
       "                               5000                 50  \n",
       "                               10000                50  \n",
       "                               20000                50  \n",
       "                               50000                50  \n",
       "                               100000               50  \n",
       "                               200000               50  \n",
       "                               500000               50  \n",
       "                               1000000              50  \n",
       "                               2000000              50  \n",
       "                               5000000              50  "
      ]
     },
     "execution_count": 14,
     "metadata": {},
     "output_type": "execute_result"
    }
   ],
   "source": [
    "confidence_level = 2e-1  # alpha\n",
    "error_tolerance = 5e4  # epsilon\n",
    "Nmax = 50\n",
    "z = stats.norm.ppf(1.0 - confidence_level / 2.0)\n",
    "\n",
    "time_data_estimators[\"N_montecarlo\"] = pd.to_numeric(\n",
    "    ((time_data_estimators[\"std_dropfirst\"] * z / error_tolerance) ** 2)\n",
    "    .apply(lambda x: np.minimum(x, Nmax))\n",
    "    .apply(np.ceil),\n",
    "    downcast=\"integer\",\n",
    ").rename(\"N_iterations\")\n",
    "\n",
    "time_data_estimators"
   ]
  },
  {
   "cell_type": "markdown",
   "id": "a8e1fed3",
   "metadata": {},
   "source": [
    "### Perform the second pass\n",
    "\n",
    "After calculating the number of further iterations needed for our chosen level of confidence, we perform the trials below and then recalculate the statistics."
   ]
  },
  {
   "cell_type": "code",
   "execution_count": 15,
   "id": "cb3a92dd",
   "metadata": {
    "scrolled": false
   },
   "outputs": [
    {
     "name": "stdout",
     "output_type": "stream",
     "text": [
      "Running 1 iteration of planck_function with 100 frequency bins...\n"
     ]
    },
    {
     "data": {
      "application/vnd.jupyter.widget-view+json": {
       "model_id": "ad729e1231b34d3495cce2b74a42f680",
       "version_major": 2,
       "version_minor": 0
      },
      "text/plain": [
       "  0%|          | 0/1 [00:00<?, ?it/s]"
      ]
     },
     "metadata": {},
     "output_type": "display_data"
    },
    {
     "name": "stdout",
     "output_type": "stream",
     "text": [
      "Running 1 iteration of planck_function with 200 frequency bins...\n"
     ]
    },
    {
     "data": {
      "application/vnd.jupyter.widget-view+json": {
       "model_id": "df9c6d3df6fb478e99394bf7740a7173",
       "version_major": 2,
       "version_minor": 0
      },
      "text/plain": [
       "  0%|          | 0/1 [00:00<?, ?it/s]"
      ]
     },
     "metadata": {},
     "output_type": "display_data"
    },
    {
     "name": "stdout",
     "output_type": "stream",
     "text": [
      "Running 1 iteration of planck_function with 500 frequency bins...\n"
     ]
    },
    {
     "data": {
      "application/vnd.jupyter.widget-view+json": {
       "model_id": "d2438760031842bd938688ca0d3a408c",
       "version_major": 2,
       "version_minor": 0
      },
      "text/plain": [
       "  0%|          | 0/1 [00:00<?, ?it/s]"
      ]
     },
     "metadata": {},
     "output_type": "display_data"
    },
    {
     "name": "stdout",
     "output_type": "stream",
     "text": [
      "Running 1 iteration of planck_function with 1000 frequency bins...\n"
     ]
    },
    {
     "data": {
      "application/vnd.jupyter.widget-view+json": {
       "model_id": "573f1e9f579b4fa5a2ba2bfff5170d3b",
       "version_major": 2,
       "version_minor": 0
      },
      "text/plain": [
       "  0%|          | 0/1 [00:00<?, ?it/s]"
      ]
     },
     "metadata": {},
     "output_type": "display_data"
    },
    {
     "name": "stdout",
     "output_type": "stream",
     "text": [
      "Running 1 iteration of planck_function with 2000 frequency bins...\n"
     ]
    },
    {
     "data": {
      "application/vnd.jupyter.widget-view+json": {
       "model_id": "9a093d68f1424780b510eae2356aeb1e",
       "version_major": 2,
       "version_minor": 0
      },
      "text/plain": [
       "  0%|          | 0/1 [00:00<?, ?it/s]"
      ]
     },
     "metadata": {},
     "output_type": "display_data"
    },
    {
     "name": "stdout",
     "output_type": "stream",
     "text": [
      "Running 1 iteration of planck_function with 5000 frequency bins...\n"
     ]
    },
    {
     "data": {
      "application/vnd.jupyter.widget-view+json": {
       "model_id": "2f5e89765d60441189077005dab0ad45",
       "version_major": 2,
       "version_minor": 0
      },
      "text/plain": [
       "  0%|          | 0/1 [00:00<?, ?it/s]"
      ]
     },
     "metadata": {},
     "output_type": "display_data"
    },
    {
     "name": "stdout",
     "output_type": "stream",
     "text": [
      "Running 1 iteration of planck_function with 10000 frequency bins...\n"
     ]
    },
    {
     "data": {
      "application/vnd.jupyter.widget-view+json": {
       "model_id": "a93af5be89014c6686fd9adc73ce236a",
       "version_major": 2,
       "version_minor": 0
      },
      "text/plain": [
       "  0%|          | 0/1 [00:00<?, ?it/s]"
      ]
     },
     "metadata": {},
     "output_type": "display_data"
    },
    {
     "name": "stdout",
     "output_type": "stream",
     "text": [
      "Running 1 iteration of planck_function with 20000 frequency bins...\n"
     ]
    },
    {
     "data": {
      "application/vnd.jupyter.widget-view+json": {
       "model_id": "b9c4f7fb583a41c68372d627063d79ad",
       "version_major": 2,
       "version_minor": 0
      },
      "text/plain": [
       "  0%|          | 0/1 [00:00<?, ?it/s]"
      ]
     },
     "metadata": {},
     "output_type": "display_data"
    },
    {
     "name": "stdout",
     "output_type": "stream",
     "text": [
      "Running 1 iteration of planck_function with 50000 frequency bins...\n"
     ]
    },
    {
     "data": {
      "application/vnd.jupyter.widget-view+json": {
       "model_id": "1063e8c1722e4110b8ae79befa0b9697",
       "version_major": 2,
       "version_minor": 0
      },
      "text/plain": [
       "  0%|          | 0/1 [00:00<?, ?it/s]"
      ]
     },
     "metadata": {},
     "output_type": "display_data"
    },
    {
     "name": "stdout",
     "output_type": "stream",
     "text": [
      "Running 1 iteration of planck_function with 100000 frequency bins...\n"
     ]
    },
    {
     "data": {
      "application/vnd.jupyter.widget-view+json": {
       "model_id": "6e6fe58d4c404707b3ee6bbfeb2e6914",
       "version_major": 2,
       "version_minor": 0
      },
      "text/plain": [
       "  0%|          | 0/1 [00:00<?, ?it/s]"
      ]
     },
     "metadata": {},
     "output_type": "display_data"
    },
    {
     "name": "stdout",
     "output_type": "stream",
     "text": [
      "Running 1 iteration of planck_function with 200000 frequency bins...\n"
     ]
    },
    {
     "data": {
      "application/vnd.jupyter.widget-view+json": {
       "model_id": "7505c1d6af2d435eb4634a1c551a988b",
       "version_major": 2,
       "version_minor": 0
      },
      "text/plain": [
       "  0%|          | 0/1 [00:00<?, ?it/s]"
      ]
     },
     "metadata": {},
     "output_type": "display_data"
    },
    {
     "name": "stdout",
     "output_type": "stream",
     "text": [
      "Running 6 iterations of planck_function with 500000 frequency bins...\n"
     ]
    },
    {
     "data": {
      "application/vnd.jupyter.widget-view+json": {
       "model_id": "67492fbcf66d4e098850fa98f8b942be",
       "version_major": 2,
       "version_minor": 0
      },
      "text/plain": [
       "  0%|          | 0/6 [00:00<?, ?it/s]"
      ]
     },
     "metadata": {},
     "output_type": "display_data"
    },
    {
     "name": "stdout",
     "output_type": "stream",
     "text": [
      "Running 33 iterations of planck_function with 1000000 frequency bins...\n"
     ]
    },
    {
     "data": {
      "application/vnd.jupyter.widget-view+json": {
       "model_id": "9cc60390f64c4a4791567764dce68fe0",
       "version_major": 2,
       "version_minor": 0
      },
      "text/plain": [
       "  0%|          | 0/33 [00:00<?, ?it/s]"
      ]
     },
     "metadata": {},
     "output_type": "display_data"
    },
    {
     "name": "stdout",
     "output_type": "stream",
     "text": [
      "Running 5 iterations of planck_function with 2000000 frequency bins...\n"
     ]
    },
    {
     "data": {
      "application/vnd.jupyter.widget-view+json": {
       "model_id": "a47a3635cae242e9b0b494686fcc5044",
       "version_major": 2,
       "version_minor": 0
      },
      "text/plain": [
       "  0%|          | 0/5 [00:00<?, ?it/s]"
      ]
     },
     "metadata": {},
     "output_type": "display_data"
    },
    {
     "name": "stdout",
     "output_type": "stream",
     "text": [
      "Running 20 iterations of planck_function with 5000000 frequency bins...\n"
     ]
    },
    {
     "data": {
      "application/vnd.jupyter.widget-view+json": {
       "model_id": "2519abe9367c4026a000afac8bd09cac",
       "version_major": 2,
       "version_minor": 0
      },
      "text/plain": [
       "  0%|          | 0/20 [00:00<?, ?it/s]"
      ]
     },
     "metadata": {},
     "output_type": "display_data"
    },
    {
     "name": "stdout",
     "output_type": "stream",
     "text": [
      "Running 1 iteration of planck_function_numba with 100 frequency bins...\n"
     ]
    },
    {
     "data": {
      "application/vnd.jupyter.widget-view+json": {
       "model_id": "c1446680251f41d7a64cabd98a2b5e9a",
       "version_major": 2,
       "version_minor": 0
      },
      "text/plain": [
       "  0%|          | 0/1 [00:00<?, ?it/s]"
      ]
     },
     "metadata": {},
     "output_type": "display_data"
    },
    {
     "name": "stdout",
     "output_type": "stream",
     "text": [
      "Running 1 iteration of planck_function_numba with 200 frequency bins...\n"
     ]
    },
    {
     "data": {
      "application/vnd.jupyter.widget-view+json": {
       "model_id": "2f5930841c9c4ca582c5d0682dd40ac6",
       "version_major": 2,
       "version_minor": 0
      },
      "text/plain": [
       "  0%|          | 0/1 [00:00<?, ?it/s]"
      ]
     },
     "metadata": {},
     "output_type": "display_data"
    },
    {
     "name": "stdout",
     "output_type": "stream",
     "text": [
      "Running 1 iteration of planck_function_numba with 500 frequency bins...\n"
     ]
    },
    {
     "data": {
      "application/vnd.jupyter.widget-view+json": {
       "model_id": "7cd9e6c5db7445068a7d2737a3a286b2",
       "version_major": 2,
       "version_minor": 0
      },
      "text/plain": [
       "  0%|          | 0/1 [00:00<?, ?it/s]"
      ]
     },
     "metadata": {},
     "output_type": "display_data"
    },
    {
     "name": "stdout",
     "output_type": "stream",
     "text": [
      "Running 1 iteration of planck_function_numba with 1000 frequency bins...\n"
     ]
    },
    {
     "data": {
      "application/vnd.jupyter.widget-view+json": {
       "model_id": "6fbe14bdc94446b68b908baac8479211",
       "version_major": 2,
       "version_minor": 0
      },
      "text/plain": [
       "  0%|          | 0/1 [00:00<?, ?it/s]"
      ]
     },
     "metadata": {},
     "output_type": "display_data"
    },
    {
     "name": "stdout",
     "output_type": "stream",
     "text": [
      "Running 1 iteration of planck_function_numba with 2000 frequency bins...\n"
     ]
    },
    {
     "data": {
      "application/vnd.jupyter.widget-view+json": {
       "model_id": "c97e3f8446b3496eaee91f79ac1a57cb",
       "version_major": 2,
       "version_minor": 0
      },
      "text/plain": [
       "  0%|          | 0/1 [00:00<?, ?it/s]"
      ]
     },
     "metadata": {},
     "output_type": "display_data"
    },
    {
     "name": "stdout",
     "output_type": "stream",
     "text": [
      "Running 1 iteration of planck_function_numba with 5000 frequency bins...\n"
     ]
    },
    {
     "data": {
      "application/vnd.jupyter.widget-view+json": {
       "model_id": "a7ec94bff2714dc6babd3ebc046cb1d5",
       "version_major": 2,
       "version_minor": 0
      },
      "text/plain": [
       "  0%|          | 0/1 [00:00<?, ?it/s]"
      ]
     },
     "metadata": {},
     "output_type": "display_data"
    },
    {
     "name": "stdout",
     "output_type": "stream",
     "text": [
      "Running 1 iteration of planck_function_numba with 10000 frequency bins...\n"
     ]
    },
    {
     "data": {
      "application/vnd.jupyter.widget-view+json": {
       "model_id": "5c9983c4915d46b2bdc3f358c43275f0",
       "version_major": 2,
       "version_minor": 0
      },
      "text/plain": [
       "  0%|          | 0/1 [00:00<?, ?it/s]"
      ]
     },
     "metadata": {},
     "output_type": "display_data"
    },
    {
     "name": "stdout",
     "output_type": "stream",
     "text": [
      "Running 1 iteration of planck_function_numba with 20000 frequency bins...\n"
     ]
    },
    {
     "data": {
      "application/vnd.jupyter.widget-view+json": {
       "model_id": "30a7d43b02c84de5aaeecdb7fbb184c0",
       "version_major": 2,
       "version_minor": 0
      },
      "text/plain": [
       "  0%|          | 0/1 [00:00<?, ?it/s]"
      ]
     },
     "metadata": {},
     "output_type": "display_data"
    },
    {
     "name": "stdout",
     "output_type": "stream",
     "text": [
      "Running 1 iteration of planck_function_numba with 50000 frequency bins...\n"
     ]
    },
    {
     "data": {
      "application/vnd.jupyter.widget-view+json": {
       "model_id": "80cc5ed265174a20b14019f0f8caa9f5",
       "version_major": 2,
       "version_minor": 0
      },
      "text/plain": [
       "  0%|          | 0/1 [00:00<?, ?it/s]"
      ]
     },
     "metadata": {},
     "output_type": "display_data"
    },
    {
     "name": "stdout",
     "output_type": "stream",
     "text": [
      "Running 1 iteration of planck_function_numba with 100000 frequency bins...\n"
     ]
    },
    {
     "data": {
      "application/vnd.jupyter.widget-view+json": {
       "model_id": "cdf129d084bc4ab29bdaabb73500770c",
       "version_major": 2,
       "version_minor": 0
      },
      "text/plain": [
       "  0%|          | 0/1 [00:00<?, ?it/s]"
      ]
     },
     "metadata": {},
     "output_type": "display_data"
    },
    {
     "name": "stdout",
     "output_type": "stream",
     "text": [
      "Running 1 iteration of planck_function_numba with 200000 frequency bins...\n"
     ]
    },
    {
     "data": {
      "application/vnd.jupyter.widget-view+json": {
       "model_id": "63a1eb455a4a42d1ab37c6eefbe51e26",
       "version_major": 2,
       "version_minor": 0
      },
      "text/plain": [
       "  0%|          | 0/1 [00:00<?, ?it/s]"
      ]
     },
     "metadata": {},
     "output_type": "display_data"
    },
    {
     "name": "stdout",
     "output_type": "stream",
     "text": [
      "Running 1 iteration of planck_function_numba with 500000 frequency bins...\n"
     ]
    },
    {
     "data": {
      "application/vnd.jupyter.widget-view+json": {
       "model_id": "3d5ae3675ba64f119645d31dd17825a2",
       "version_major": 2,
       "version_minor": 0
      },
      "text/plain": [
       "  0%|          | 0/1 [00:00<?, ?it/s]"
      ]
     },
     "metadata": {},
     "output_type": "display_data"
    },
    {
     "name": "stdout",
     "output_type": "stream",
     "text": [
      "Running 1 iteration of planck_function_numba with 1000000 frequency bins...\n"
     ]
    },
    {
     "data": {
      "application/vnd.jupyter.widget-view+json": {
       "model_id": "89c8e70da0114e0ea2e7453c6bc2138b",
       "version_major": 2,
       "version_minor": 0
      },
      "text/plain": [
       "  0%|          | 0/1 [00:00<?, ?it/s]"
      ]
     },
     "metadata": {},
     "output_type": "display_data"
    },
    {
     "name": "stdout",
     "output_type": "stream",
     "text": [
      "Running 4 iterations of planck_function_numba with 2000000 frequency bins...\n"
     ]
    },
    {
     "data": {
      "application/vnd.jupyter.widget-view+json": {
       "model_id": "d12ead3bd73849cda3c8f9b4ad61a4f9",
       "version_major": 2,
       "version_minor": 0
      },
      "text/plain": [
       "  0%|          | 0/4 [00:00<?, ?it/s]"
      ]
     },
     "metadata": {},
     "output_type": "display_data"
    },
    {
     "name": "stdout",
     "output_type": "stream",
     "text": [
      "Running 8 iterations of planck_function_numba with 5000000 frequency bins...\n"
     ]
    },
    {
     "data": {
      "application/vnd.jupyter.widget-view+json": {
       "model_id": "d83fd464378747cc9ce616813d522ceb",
       "version_major": 2,
       "version_minor": 0
      },
      "text/plain": [
       "  0%|          | 0/8 [00:00<?, ?it/s]"
      ]
     },
     "metadata": {},
     "output_type": "display_data"
    },
    {
     "name": "stdout",
     "output_type": "stream",
     "text": [
      "Running 50 iterations of planck_function_numba_parallel with 100 frequency bins...\n"
     ]
    },
    {
     "data": {
      "application/vnd.jupyter.widget-view+json": {
       "model_id": "ee3044ba6de64e22aa3e39ddb2f12c70",
       "version_major": 2,
       "version_minor": 0
      },
      "text/plain": [
       "  0%|          | 0/50 [00:00<?, ?it/s]"
      ]
     },
     "metadata": {},
     "output_type": "display_data"
    },
    {
     "name": "stdout",
     "output_type": "stream",
     "text": [
      "Running 50 iterations of planck_function_numba_parallel with 200 frequency bins...\n"
     ]
    },
    {
     "data": {
      "application/vnd.jupyter.widget-view+json": {
       "model_id": "ce79eaf47a1d4ba587130520e7f1e59a",
       "version_major": 2,
       "version_minor": 0
      },
      "text/plain": [
       "  0%|          | 0/50 [00:00<?, ?it/s]"
      ]
     },
     "metadata": {},
     "output_type": "display_data"
    },
    {
     "name": "stdout",
     "output_type": "stream",
     "text": [
      "Running 50 iterations of planck_function_numba_parallel with 500 frequency bins...\n"
     ]
    },
    {
     "data": {
      "application/vnd.jupyter.widget-view+json": {
       "model_id": "54c66b94599049839a05cc23e19dd4f0",
       "version_major": 2,
       "version_minor": 0
      },
      "text/plain": [
       "  0%|          | 0/50 [00:00<?, ?it/s]"
      ]
     },
     "metadata": {},
     "output_type": "display_data"
    },
    {
     "name": "stdout",
     "output_type": "stream",
     "text": [
      "Running 50 iterations of planck_function_numba_parallel with 1000 frequency bins...\n"
     ]
    },
    {
     "data": {
      "application/vnd.jupyter.widget-view+json": {
       "model_id": "857f01e6a3cf42a5b0102f54dbee6e79",
       "version_major": 2,
       "version_minor": 0
      },
      "text/plain": [
       "  0%|          | 0/50 [00:00<?, ?it/s]"
      ]
     },
     "metadata": {},
     "output_type": "display_data"
    },
    {
     "name": "stdout",
     "output_type": "stream",
     "text": [
      "Running 50 iterations of planck_function_numba_parallel with 2000 frequency bins...\n"
     ]
    },
    {
     "data": {
      "application/vnd.jupyter.widget-view+json": {
       "model_id": "4ac9e4c032a34f3bb864a5404c92c822",
       "version_major": 2,
       "version_minor": 0
      },
      "text/plain": [
       "  0%|          | 0/50 [00:00<?, ?it/s]"
      ]
     },
     "metadata": {},
     "output_type": "display_data"
    },
    {
     "name": "stdout",
     "output_type": "stream",
     "text": [
      "Running 50 iterations of planck_function_numba_parallel with 5000 frequency bins...\n"
     ]
    },
    {
     "data": {
      "application/vnd.jupyter.widget-view+json": {
       "model_id": "b7647bbcfbfe486484a95535c8fcda19",
       "version_major": 2,
       "version_minor": 0
      },
      "text/plain": [
       "  0%|          | 0/50 [00:00<?, ?it/s]"
      ]
     },
     "metadata": {},
     "output_type": "display_data"
    },
    {
     "name": "stdout",
     "output_type": "stream",
     "text": [
      "Running 50 iterations of planck_function_numba_parallel with 10000 frequency bins...\n"
     ]
    },
    {
     "data": {
      "application/vnd.jupyter.widget-view+json": {
       "model_id": "6fd143ac5f4e45808d4499ba7db3426d",
       "version_major": 2,
       "version_minor": 0
      },
      "text/plain": [
       "  0%|          | 0/50 [00:00<?, ?it/s]"
      ]
     },
     "metadata": {},
     "output_type": "display_data"
    },
    {
     "name": "stdout",
     "output_type": "stream",
     "text": [
      "Running 50 iterations of planck_function_numba_parallel with 20000 frequency bins...\n"
     ]
    },
    {
     "data": {
      "application/vnd.jupyter.widget-view+json": {
       "model_id": "62deba5b3258407fa2b9022fc4a79202",
       "version_major": 2,
       "version_minor": 0
      },
      "text/plain": [
       "  0%|          | 0/50 [00:00<?, ?it/s]"
      ]
     },
     "metadata": {},
     "output_type": "display_data"
    },
    {
     "name": "stdout",
     "output_type": "stream",
     "text": [
      "Running 50 iterations of planck_function_numba_parallel with 50000 frequency bins...\n"
     ]
    },
    {
     "data": {
      "application/vnd.jupyter.widget-view+json": {
       "model_id": "1328e6dc6ace489a9491d33f554d7d0b",
       "version_major": 2,
       "version_minor": 0
      },
      "text/plain": [
       "  0%|          | 0/50 [00:00<?, ?it/s]"
      ]
     },
     "metadata": {},
     "output_type": "display_data"
    },
    {
     "name": "stdout",
     "output_type": "stream",
     "text": [
      "Running 50 iterations of planck_function_numba_parallel with 100000 frequency bins...\n"
     ]
    },
    {
     "data": {
      "application/vnd.jupyter.widget-view+json": {
       "model_id": "a497492b44d14f8dbebab5bd645e867a",
       "version_major": 2,
       "version_minor": 0
      },
      "text/plain": [
       "  0%|          | 0/50 [00:00<?, ?it/s]"
      ]
     },
     "metadata": {},
     "output_type": "display_data"
    },
    {
     "name": "stdout",
     "output_type": "stream",
     "text": [
      "Running 50 iterations of planck_function_numba_parallel with 200000 frequency bins...\n"
     ]
    },
    {
     "data": {
      "application/vnd.jupyter.widget-view+json": {
       "model_id": "fb981c1214d344ccad7521eabd599f59",
       "version_major": 2,
       "version_minor": 0
      },
      "text/plain": [
       "  0%|          | 0/50 [00:00<?, ?it/s]"
      ]
     },
     "metadata": {},
     "output_type": "display_data"
    },
    {
     "name": "stdout",
     "output_type": "stream",
     "text": [
      "Running 50 iterations of planck_function_numba_parallel with 500000 frequency bins...\n"
     ]
    },
    {
     "data": {
      "application/vnd.jupyter.widget-view+json": {
       "model_id": "7758300d998544b1ab7ce72ab7da1dfb",
       "version_major": 2,
       "version_minor": 0
      },
      "text/plain": [
       "  0%|          | 0/50 [00:00<?, ?it/s]"
      ]
     },
     "metadata": {},
     "output_type": "display_data"
    },
    {
     "name": "stdout",
     "output_type": "stream",
     "text": [
      "Running 50 iterations of planck_function_numba_parallel with 1000000 frequency bins...\n"
     ]
    },
    {
     "data": {
      "application/vnd.jupyter.widget-view+json": {
       "model_id": "8eb8f4feee5e4178b5271fcdb5588b00",
       "version_major": 2,
       "version_minor": 0
      },
      "text/plain": [
       "  0%|          | 0/50 [00:00<?, ?it/s]"
      ]
     },
     "metadata": {},
     "output_type": "display_data"
    },
    {
     "name": "stdout",
     "output_type": "stream",
     "text": [
      "Running 50 iterations of planck_function_numba_parallel with 2000000 frequency bins...\n"
     ]
    },
    {
     "data": {
      "application/vnd.jupyter.widget-view+json": {
       "model_id": "df692828af614eb794137f4a90f32811",
       "version_major": 2,
       "version_minor": 0
      },
      "text/plain": [
       "  0%|          | 0/50 [00:00<?, ?it/s]"
      ]
     },
     "metadata": {},
     "output_type": "display_data"
    },
    {
     "name": "stdout",
     "output_type": "stream",
     "text": [
      "Running 50 iterations of planck_function_numba_parallel with 5000000 frequency bins...\n"
     ]
    },
    {
     "data": {
      "application/vnd.jupyter.widget-view+json": {
       "model_id": "f85be2c721cf48df9c014d6844726410",
       "version_major": 2,
       "version_minor": 0
      },
      "text/plain": [
       "  0%|          | 0/50 [00:00<?, ?it/s]"
      ]
     },
     "metadata": {},
     "output_type": "display_data"
    }
   ],
   "source": [
    "for tup in time_data_estimators.itertuples():\n",
    "    func_name = tup.Index[0]\n",
    "    freq = tup.Index[1]\n",
    "    func = funcdict[func_name]\n",
    "    plural = \"s\" if tup.N_montecarlo > 1 else \"\"\n",
    "    tqdm.tqdm.write(\n",
    "        f\"Running {tup.N_montecarlo} iteration{plural} of {func_name} with {freq} frequency bins...\"\n",
    "    )\n",
    "    for n in tqdm.trange(tup.N_montecarlo):\n",
    "        tempdf = time_trial(\n",
    "            func,\n",
    "            func_name,\n",
    "            freq,\n",
    "        )\n",
    "        raw_time_data = pd.concat(\n",
    "            [\n",
    "                raw_time_data,\n",
    "                tempdf,\n",
    "            ],\n",
    "            ignore_index=True,\n",
    "        )"
   ]
  },
  {
   "cell_type": "code",
   "execution_count": 16,
   "id": "c2795835",
   "metadata": {},
   "outputs": [
    {
     "data": {
      "text/html": [
       "<div>\n",
       "<style scoped>\n",
       "    .dataframe tbody tr th:only-of-type {\n",
       "        vertical-align: middle;\n",
       "    }\n",
       "\n",
       "    .dataframe tbody tr th {\n",
       "        vertical-align: top;\n",
       "    }\n",
       "\n",
       "    .dataframe thead th {\n",
       "        text-align: right;\n",
       "    }\n",
       "</style>\n",
       "<table border=\"1\" class=\"dataframe\">\n",
       "  <thead>\n",
       "    <tr style=\"text-align: right;\">\n",
       "      <th></th>\n",
       "      <th></th>\n",
       "      <th>mean</th>\n",
       "      <th>std</th>\n",
       "      <th>mean_dropfirst</th>\n",
       "      <th>std_dropfirst</th>\n",
       "      <th>N_montecarlo</th>\n",
       "    </tr>\n",
       "    <tr>\n",
       "      <th>func_name</th>\n",
       "      <th>freq_bins</th>\n",
       "      <th></th>\n",
       "      <th></th>\n",
       "      <th></th>\n",
       "      <th></th>\n",
       "      <th></th>\n",
       "    </tr>\n",
       "  </thead>\n",
       "  <tbody>\n",
       "    <tr>\n",
       "      <th rowspan=\"15\" valign=\"top\">planck_function</th>\n",
       "      <th>100</th>\n",
       "      <td>2.092132e+05</td>\n",
       "      <td>6.121900e+03</td>\n",
       "      <td>2.085721e+05</td>\n",
       "      <td>5.464090e+03</td>\n",
       "      <td>1</td>\n",
       "    </tr>\n",
       "    <tr>\n",
       "      <th>200</th>\n",
       "      <td>2.106542e+05</td>\n",
       "      <td>6.364345e+03</td>\n",
       "      <td>2.109112e+05</td>\n",
       "      <td>6.403458e+03</td>\n",
       "      <td>1</td>\n",
       "    </tr>\n",
       "    <tr>\n",
       "      <th>500</th>\n",
       "      <td>2.166529e+05</td>\n",
       "      <td>6.087744e+03</td>\n",
       "      <td>2.168110e+05</td>\n",
       "      <td>6.191635e+03</td>\n",
       "      <td>1</td>\n",
       "    </tr>\n",
       "    <tr>\n",
       "      <th>1000</th>\n",
       "      <td>2.261113e+05</td>\n",
       "      <td>9.707622e+03</td>\n",
       "      <td>2.262378e+05</td>\n",
       "      <td>9.928757e+03</td>\n",
       "      <td>1</td>\n",
       "    </tr>\n",
       "    <tr>\n",
       "      <th>2000</th>\n",
       "      <td>2.430780e+05</td>\n",
       "      <td>1.235679e+04</td>\n",
       "      <td>2.432168e+05</td>\n",
       "      <td>1.264437e+04</td>\n",
       "      <td>1</td>\n",
       "    </tr>\n",
       "    <tr>\n",
       "      <th>5000</th>\n",
       "      <td>2.793759e+05</td>\n",
       "      <td>4.760477e+03</td>\n",
       "      <td>2.791741e+05</td>\n",
       "      <td>4.780674e+03</td>\n",
       "      <td>1</td>\n",
       "    </tr>\n",
       "    <tr>\n",
       "      <th>10000</th>\n",
       "      <td>3.477147e+05</td>\n",
       "      <td>8.138071e+03</td>\n",
       "      <td>3.479898e+05</td>\n",
       "      <td>8.233567e+03</td>\n",
       "      <td>1</td>\n",
       "    </tr>\n",
       "    <tr>\n",
       "      <th>20000</th>\n",
       "      <td>4.797771e+05</td>\n",
       "      <td>1.117694e+04</td>\n",
       "      <td>4.797820e+05</td>\n",
       "      <td>1.145294e+04</td>\n",
       "      <td>1</td>\n",
       "    </tr>\n",
       "    <tr>\n",
       "      <th>50000</th>\n",
       "      <td>9.102308e+05</td>\n",
       "      <td>3.778196e+04</td>\n",
       "      <td>9.102530e+05</td>\n",
       "      <td>3.871484e+04</td>\n",
       "      <td>1</td>\n",
       "    </tr>\n",
       "    <tr>\n",
       "      <th>100000</th>\n",
       "      <td>1.652351e+06</td>\n",
       "      <td>9.610867e+04</td>\n",
       "      <td>1.644013e+06</td>\n",
       "      <td>8.996083e+04</td>\n",
       "      <td>1</td>\n",
       "    </tr>\n",
       "    <tr>\n",
       "      <th>200000</th>\n",
       "      <td>3.414441e+06</td>\n",
       "      <td>4.018625e+04</td>\n",
       "      <td>3.407976e+06</td>\n",
       "      <td>2.702229e+04</td>\n",
       "      <td>1</td>\n",
       "    </tr>\n",
       "    <tr>\n",
       "      <th>500000</th>\n",
       "      <td>8.028983e+06</td>\n",
       "      <td>5.442838e+05</td>\n",
       "      <td>7.989059e+06</td>\n",
       "      <td>5.131647e+05</td>\n",
       "      <td>6</td>\n",
       "    </tr>\n",
       "    <tr>\n",
       "      <th>1000000</th>\n",
       "      <td>1.535234e+07</td>\n",
       "      <td>2.576440e+05</td>\n",
       "      <td>1.534046e+07</td>\n",
       "      <td>2.447194e+05</td>\n",
       "      <td>33</td>\n",
       "    </tr>\n",
       "    <tr>\n",
       "      <th>2000000</th>\n",
       "      <td>3.188650e+07</td>\n",
       "      <td>3.780266e+05</td>\n",
       "      <td>3.183377e+07</td>\n",
       "      <td>2.712206e+05</td>\n",
       "      <td>5</td>\n",
       "    </tr>\n",
       "    <tr>\n",
       "      <th>5000000</th>\n",
       "      <td>1.032474e+08</td>\n",
       "      <td>6.549656e+05</td>\n",
       "      <td>1.032335e+08</td>\n",
       "      <td>6.571590e+05</td>\n",
       "      <td>20</td>\n",
       "    </tr>\n",
       "    <tr>\n",
       "      <th rowspan=\"15\" valign=\"top\">planck_function_numba</th>\n",
       "      <th>100</th>\n",
       "      <td>1.094028e+07</td>\n",
       "      <td>5.129646e+07</td>\n",
       "      <td>3.843333e+03</td>\n",
       "      <td>1.163336e+03</td>\n",
       "      <td>1</td>\n",
       "    </tr>\n",
       "    <tr>\n",
       "      <th>200</th>\n",
       "      <td>4.568091e+03</td>\n",
       "      <td>2.010728e+02</td>\n",
       "      <td>4.568286e+03</td>\n",
       "      <td>2.060362e+02</td>\n",
       "      <td>1</td>\n",
       "    </tr>\n",
       "    <tr>\n",
       "      <th>500</th>\n",
       "      <td>7.586318e+03</td>\n",
       "      <td>6.945106e+02</td>\n",
       "      <td>7.600714e+03</td>\n",
       "      <td>7.082901e+02</td>\n",
       "      <td>1</td>\n",
       "    </tr>\n",
       "    <tr>\n",
       "      <th>1000</th>\n",
       "      <td>1.228405e+04</td>\n",
       "      <td>1.408013e+02</td>\n",
       "      <td>1.228529e+04</td>\n",
       "      <td>1.441552e+02</td>\n",
       "      <td>1</td>\n",
       "    </tr>\n",
       "    <tr>\n",
       "      <th>2000</th>\n",
       "      <td>1.675691e+04</td>\n",
       "      <td>7.584386e+02</td>\n",
       "      <td>1.676067e+04</td>\n",
       "      <td>7.769584e+02</td>\n",
       "      <td>1</td>\n",
       "    </tr>\n",
       "    <tr>\n",
       "      <th>5000</th>\n",
       "      <td>3.041114e+04</td>\n",
       "      <td>2.274462e+03</td>\n",
       "      <td>3.044862e+04</td>\n",
       "      <td>2.323657e+03</td>\n",
       "      <td>1</td>\n",
       "    </tr>\n",
       "    <tr>\n",
       "      <th>10000</th>\n",
       "      <td>5.145982e+04</td>\n",
       "      <td>3.721657e+03</td>\n",
       "      <td>5.142610e+04</td>\n",
       "      <td>3.810118e+03</td>\n",
       "      <td>1</td>\n",
       "    </tr>\n",
       "    <tr>\n",
       "      <th>20000</th>\n",
       "      <td>9.344841e+04</td>\n",
       "      <td>7.802239e+03</td>\n",
       "      <td>9.354714e+04</td>\n",
       "      <td>7.980820e+03</td>\n",
       "      <td>1</td>\n",
       "    </tr>\n",
       "    <tr>\n",
       "      <th>50000</th>\n",
       "      <td>2.204617e+05</td>\n",
       "      <td>1.931118e+04</td>\n",
       "      <td>2.205966e+05</td>\n",
       "      <td>1.977744e+04</td>\n",
       "      <td>1</td>\n",
       "    </tr>\n",
       "    <tr>\n",
       "      <th>100000</th>\n",
       "      <td>4.073898e+05</td>\n",
       "      <td>4.058540e+04</td>\n",
       "      <td>4.077454e+05</td>\n",
       "      <td>4.155253e+04</td>\n",
       "      <td>1</td>\n",
       "    </tr>\n",
       "    <tr>\n",
       "      <th>200000</th>\n",
       "      <td>7.984726e+05</td>\n",
       "      <td>9.798657e+04</td>\n",
       "      <td>7.854909e+05</td>\n",
       "      <td>7.866702e+04</td>\n",
       "      <td>1</td>\n",
       "    </tr>\n",
       "    <tr>\n",
       "      <th>500000</th>\n",
       "      <td>1.947168e+06</td>\n",
       "      <td>2.175544e+05</td>\n",
       "      <td>1.915338e+06</td>\n",
       "      <td>1.621493e+05</td>\n",
       "      <td>1</td>\n",
       "    </tr>\n",
       "    <tr>\n",
       "      <th>1000000</th>\n",
       "      <td>3.862062e+06</td>\n",
       "      <td>4.102257e+05</td>\n",
       "      <td>3.796101e+06</td>\n",
       "      <td>2.760305e+05</td>\n",
       "      <td>1</td>\n",
       "    </tr>\n",
       "    <tr>\n",
       "      <th>2000000</th>\n",
       "      <td>1.016522e+07</td>\n",
       "      <td>8.615230e+04</td>\n",
       "      <td>1.016224e+07</td>\n",
       "      <td>8.667989e+04</td>\n",
       "      <td>4</td>\n",
       "    </tr>\n",
       "    <tr>\n",
       "      <th>5000000</th>\n",
       "      <td>2.538060e+07</td>\n",
       "      <td>1.180771e+05</td>\n",
       "      <td>2.538098e+07</td>\n",
       "      <td>1.202254e+05</td>\n",
       "      <td>8</td>\n",
       "    </tr>\n",
       "    <tr>\n",
       "      <th rowspan=\"15\" valign=\"top\">planck_function_numba_parallel</th>\n",
       "      <th>100</th>\n",
       "      <td>3.994957e+06</td>\n",
       "      <td>2.937119e+07</td>\n",
       "      <td>5.114687e+05</td>\n",
       "      <td>1.058168e+06</td>\n",
       "      <td>50</td>\n",
       "    </tr>\n",
       "    <tr>\n",
       "      <th>200</th>\n",
       "      <td>6.497521e+05</td>\n",
       "      <td>1.176935e+06</td>\n",
       "      <td>6.566358e+05</td>\n",
       "      <td>1.183993e+06</td>\n",
       "      <td>50</td>\n",
       "    </tr>\n",
       "    <tr>\n",
       "      <th>500</th>\n",
       "      <td>7.249349e+05</td>\n",
       "      <td>1.350309e+06</td>\n",
       "      <td>6.780655e+05</td>\n",
       "      <td>1.300589e+06</td>\n",
       "      <td>50</td>\n",
       "    </tr>\n",
       "    <tr>\n",
       "      <th>1000</th>\n",
       "      <td>8.742673e+05</td>\n",
       "      <td>1.488809e+06</td>\n",
       "      <td>8.351019e+05</td>\n",
       "      <td>1.462255e+06</td>\n",
       "      <td>50</td>\n",
       "    </tr>\n",
       "    <tr>\n",
       "      <th>2000</th>\n",
       "      <td>4.244226e+05</td>\n",
       "      <td>6.814737e+05</td>\n",
       "      <td>4.278853e+05</td>\n",
       "      <td>6.857648e+05</td>\n",
       "      <td>50</td>\n",
       "    </tr>\n",
       "    <tr>\n",
       "      <th>5000</th>\n",
       "      <td>7.159217e+05</td>\n",
       "      <td>1.050173e+06</td>\n",
       "      <td>6.952459e+05</td>\n",
       "      <td>1.043099e+06</td>\n",
       "      <td>50</td>\n",
       "    </tr>\n",
       "    <tr>\n",
       "      <th>10000</th>\n",
       "      <td>3.890730e+05</td>\n",
       "      <td>7.132360e+05</td>\n",
       "      <td>3.917681e+05</td>\n",
       "      <td>7.180215e+05</td>\n",
       "      <td>50</td>\n",
       "    </tr>\n",
       "    <tr>\n",
       "      <th>20000</th>\n",
       "      <td>4.250182e+05</td>\n",
       "      <td>6.913132e+05</td>\n",
       "      <td>4.279907e+05</td>\n",
       "      <td>6.958475e+05</td>\n",
       "      <td>50</td>\n",
       "    </tr>\n",
       "    <tr>\n",
       "      <th>50000</th>\n",
       "      <td>6.940221e+05</td>\n",
       "      <td>1.356322e+06</td>\n",
       "      <td>7.009298e+05</td>\n",
       "      <td>1.364857e+06</td>\n",
       "      <td>50</td>\n",
       "    </tr>\n",
       "    <tr>\n",
       "      <th>100000</th>\n",
       "      <td>7.847053e+05</td>\n",
       "      <td>1.229153e+06</td>\n",
       "      <td>7.923934e+05</td>\n",
       "      <td>1.236308e+06</td>\n",
       "      <td>50</td>\n",
       "    </tr>\n",
       "    <tr>\n",
       "      <th>200000</th>\n",
       "      <td>4.203965e+05</td>\n",
       "      <td>7.340031e+05</td>\n",
       "      <td>4.219469e+05</td>\n",
       "      <td>7.391857e+05</td>\n",
       "      <td>50</td>\n",
       "    </tr>\n",
       "    <tr>\n",
       "      <th>500000</th>\n",
       "      <td>8.386561e+05</td>\n",
       "      <td>1.180061e+06</td>\n",
       "      <td>8.434712e+05</td>\n",
       "      <td>1.187879e+06</td>\n",
       "      <td>50</td>\n",
       "    </tr>\n",
       "    <tr>\n",
       "      <th>1000000</th>\n",
       "      <td>1.223759e+06</td>\n",
       "      <td>1.475864e+06</td>\n",
       "      <td>1.151732e+06</td>\n",
       "      <td>1.355012e+06</td>\n",
       "      <td>50</td>\n",
       "    </tr>\n",
       "    <tr>\n",
       "      <th>2000000</th>\n",
       "      <td>1.624997e+06</td>\n",
       "      <td>6.716008e+05</td>\n",
       "      <td>1.629079e+06</td>\n",
       "      <td>6.755624e+05</td>\n",
       "      <td>50</td>\n",
       "    </tr>\n",
       "    <tr>\n",
       "      <th>5000000</th>\n",
       "      <td>3.662111e+06</td>\n",
       "      <td>8.434356e+05</td>\n",
       "      <td>3.666494e+06</td>\n",
       "      <td>8.487106e+05</td>\n",
       "      <td>50</td>\n",
       "    </tr>\n",
       "  </tbody>\n",
       "</table>\n",
       "</div>"
      ],
      "text/plain": [
       "                                                  mean           std  \\\n",
       "func_name                      freq_bins                               \n",
       "planck_function                100        2.092132e+05  6.121900e+03   \n",
       "                               200        2.106542e+05  6.364345e+03   \n",
       "                               500        2.166529e+05  6.087744e+03   \n",
       "                               1000       2.261113e+05  9.707622e+03   \n",
       "                               2000       2.430780e+05  1.235679e+04   \n",
       "                               5000       2.793759e+05  4.760477e+03   \n",
       "                               10000      3.477147e+05  8.138071e+03   \n",
       "                               20000      4.797771e+05  1.117694e+04   \n",
       "                               50000      9.102308e+05  3.778196e+04   \n",
       "                               100000     1.652351e+06  9.610867e+04   \n",
       "                               200000     3.414441e+06  4.018625e+04   \n",
       "                               500000     8.028983e+06  5.442838e+05   \n",
       "                               1000000    1.535234e+07  2.576440e+05   \n",
       "                               2000000    3.188650e+07  3.780266e+05   \n",
       "                               5000000    1.032474e+08  6.549656e+05   \n",
       "planck_function_numba          100        1.094028e+07  5.129646e+07   \n",
       "                               200        4.568091e+03  2.010728e+02   \n",
       "                               500        7.586318e+03  6.945106e+02   \n",
       "                               1000       1.228405e+04  1.408013e+02   \n",
       "                               2000       1.675691e+04  7.584386e+02   \n",
       "                               5000       3.041114e+04  2.274462e+03   \n",
       "                               10000      5.145982e+04  3.721657e+03   \n",
       "                               20000      9.344841e+04  7.802239e+03   \n",
       "                               50000      2.204617e+05  1.931118e+04   \n",
       "                               100000     4.073898e+05  4.058540e+04   \n",
       "                               200000     7.984726e+05  9.798657e+04   \n",
       "                               500000     1.947168e+06  2.175544e+05   \n",
       "                               1000000    3.862062e+06  4.102257e+05   \n",
       "                               2000000    1.016522e+07  8.615230e+04   \n",
       "                               5000000    2.538060e+07  1.180771e+05   \n",
       "planck_function_numba_parallel 100        3.994957e+06  2.937119e+07   \n",
       "                               200        6.497521e+05  1.176935e+06   \n",
       "                               500        7.249349e+05  1.350309e+06   \n",
       "                               1000       8.742673e+05  1.488809e+06   \n",
       "                               2000       4.244226e+05  6.814737e+05   \n",
       "                               5000       7.159217e+05  1.050173e+06   \n",
       "                               10000      3.890730e+05  7.132360e+05   \n",
       "                               20000      4.250182e+05  6.913132e+05   \n",
       "                               50000      6.940221e+05  1.356322e+06   \n",
       "                               100000     7.847053e+05  1.229153e+06   \n",
       "                               200000     4.203965e+05  7.340031e+05   \n",
       "                               500000     8.386561e+05  1.180061e+06   \n",
       "                               1000000    1.223759e+06  1.475864e+06   \n",
       "                               2000000    1.624997e+06  6.716008e+05   \n",
       "                               5000000    3.662111e+06  8.434356e+05   \n",
       "\n",
       "                                          mean_dropfirst  std_dropfirst  \\\n",
       "func_name                      freq_bins                                  \n",
       "planck_function                100          2.085721e+05   5.464090e+03   \n",
       "                               200          2.109112e+05   6.403458e+03   \n",
       "                               500          2.168110e+05   6.191635e+03   \n",
       "                               1000         2.262378e+05   9.928757e+03   \n",
       "                               2000         2.432168e+05   1.264437e+04   \n",
       "                               5000         2.791741e+05   4.780674e+03   \n",
       "                               10000        3.479898e+05   8.233567e+03   \n",
       "                               20000        4.797820e+05   1.145294e+04   \n",
       "                               50000        9.102530e+05   3.871484e+04   \n",
       "                               100000       1.644013e+06   8.996083e+04   \n",
       "                               200000       3.407976e+06   2.702229e+04   \n",
       "                               500000       7.989059e+06   5.131647e+05   \n",
       "                               1000000      1.534046e+07   2.447194e+05   \n",
       "                               2000000      3.183377e+07   2.712206e+05   \n",
       "                               5000000      1.032335e+08   6.571590e+05   \n",
       "planck_function_numba          100          3.843333e+03   1.163336e+03   \n",
       "                               200          4.568286e+03   2.060362e+02   \n",
       "                               500          7.600714e+03   7.082901e+02   \n",
       "                               1000         1.228529e+04   1.441552e+02   \n",
       "                               2000         1.676067e+04   7.769584e+02   \n",
       "                               5000         3.044862e+04   2.323657e+03   \n",
       "                               10000        5.142610e+04   3.810118e+03   \n",
       "                               20000        9.354714e+04   7.980820e+03   \n",
       "                               50000        2.205966e+05   1.977744e+04   \n",
       "                               100000       4.077454e+05   4.155253e+04   \n",
       "                               200000       7.854909e+05   7.866702e+04   \n",
       "                               500000       1.915338e+06   1.621493e+05   \n",
       "                               1000000      3.796101e+06   2.760305e+05   \n",
       "                               2000000      1.016224e+07   8.667989e+04   \n",
       "                               5000000      2.538098e+07   1.202254e+05   \n",
       "planck_function_numba_parallel 100          5.114687e+05   1.058168e+06   \n",
       "                               200          6.566358e+05   1.183993e+06   \n",
       "                               500          6.780655e+05   1.300589e+06   \n",
       "                               1000         8.351019e+05   1.462255e+06   \n",
       "                               2000         4.278853e+05   6.857648e+05   \n",
       "                               5000         6.952459e+05   1.043099e+06   \n",
       "                               10000        3.917681e+05   7.180215e+05   \n",
       "                               20000        4.279907e+05   6.958475e+05   \n",
       "                               50000        7.009298e+05   1.364857e+06   \n",
       "                               100000       7.923934e+05   1.236308e+06   \n",
       "                               200000       4.219469e+05   7.391857e+05   \n",
       "                               500000       8.434712e+05   1.187879e+06   \n",
       "                               1000000      1.151732e+06   1.355012e+06   \n",
       "                               2000000      1.629079e+06   6.755624e+05   \n",
       "                               5000000      3.666494e+06   8.487106e+05   \n",
       "\n",
       "                                          N_montecarlo  \n",
       "func_name                      freq_bins                \n",
       "planck_function                100                   1  \n",
       "                               200                   1  \n",
       "                               500                   1  \n",
       "                               1000                  1  \n",
       "                               2000                  1  \n",
       "                               5000                  1  \n",
       "                               10000                 1  \n",
       "                               20000                 1  \n",
       "                               50000                 1  \n",
       "                               100000                1  \n",
       "                               200000                1  \n",
       "                               500000                6  \n",
       "                               1000000              33  \n",
       "                               2000000               5  \n",
       "                               5000000              20  \n",
       "planck_function_numba          100                   1  \n",
       "                               200                   1  \n",
       "                               500                   1  \n",
       "                               1000                  1  \n",
       "                               2000                  1  \n",
       "                               5000                  1  \n",
       "                               10000                 1  \n",
       "                               20000                 1  \n",
       "                               50000                 1  \n",
       "                               100000                1  \n",
       "                               200000                1  \n",
       "                               500000                1  \n",
       "                               1000000               1  \n",
       "                               2000000               4  \n",
       "                               5000000               8  \n",
       "planck_function_numba_parallel 100                  50  \n",
       "                               200                  50  \n",
       "                               500                  50  \n",
       "                               1000                 50  \n",
       "                               2000                 50  \n",
       "                               5000                 50  \n",
       "                               10000                50  \n",
       "                               20000                50  \n",
       "                               50000                50  \n",
       "                               100000               50  \n",
       "                               200000               50  \n",
       "                               500000               50  \n",
       "                               1000000              50  \n",
       "                               2000000              50  \n",
       "                               5000000              50  "
      ]
     },
     "execution_count": 16,
     "metadata": {},
     "output_type": "execute_result"
    }
   ],
   "source": [
    "groupby = raw_time_data.groupby(\n",
    "    [\n",
    "        \"func_name\",\n",
    "        \"freq_bins\",\n",
    "    ]\n",
    ")\n",
    "\n",
    "raw_time_data_dropfirst = raw_time_data.drop(first_indices)\n",
    "\n",
    "groupby_dropfirst = raw_time_data_dropfirst.groupby(\n",
    "    [\n",
    "        \"func_name\",\n",
    "        \"freq_bins\",\n",
    "    ]\n",
    ")\n",
    "\n",
    "time_data_estimators[\"mean\"] = groupby.mean()\n",
    "time_data_estimators[\"std\"] = groupby.std()\n",
    "time_data_estimators[\"mean_dropfirst\"] = groupby_dropfirst.mean()\n",
    "time_data_estimators[\"std_dropfirst\"] = groupby_dropfirst.std()\n",
    "time_data_estimators\n",
    "\n",
    "# time_data_estimators[\"N_montecarlo\"] = pd.to_numeric(\n",
    "#     ((time_data_estimators[\"std_dropfirst\"] * z / error_tolerance) ** 2)\n",
    "#     .apply(lambda x: np.minimum(x, Nmax))\n",
    "#     .apply(np.ceil),\n",
    "#     downcast=\"integer\",\n",
    "# ).rename(\"N_iterations\")\n",
    "\n",
    "time_data_estimators"
   ]
  },
  {
   "cell_type": "code",
   "execution_count": 22,
   "id": "54bea127",
   "metadata": {},
   "outputs": [
    {
     "data": {
      "text/plain": [
       "<Figure size 1280x480 with 0 Axes>"
      ]
     },
     "metadata": {},
     "output_type": "display_data"
    },
    {
     "data": {
      "image/png": "[encoded data removed]",
      "text/plain": [
       "<Figure size 640x480 with 2 Axes>"
      ]
     },
     "metadata": {},
     "output_type": "display_data"
    }
   ],
   "source": [
    "markers = (\n",
    "    \"o\",\n",
    "    \"s\",\n",
    "    \"^\",\n",
    ")\n",
    "# Different markers to be color-blind friendly\n",
    "plot_metadata = [\n",
    "    {\n",
    "        \"name\": \"mean\",\n",
    "        \"print_title\": \"Mean with JIT iteration\",\n",
    "    },\n",
    "    {\n",
    "        \"name\": \"mean_dropfirst\",\n",
    "        \"print_title\": \"Mean without JIT iteration\",\n",
    "    },\n",
    "]\n",
    "\n",
    "plt.figure(\n",
    "    figsize=(\n",
    "        12.8,\n",
    "        4.8,\n",
    "    ),\n",
    ")\n",
    "\n",
    "fig, axs = plt.subplots(\n",
    "    nrows=1,\n",
    "    ncols=2,\n",
    "    sharex=True,\n",
    "    sharey=True,\n",
    ")\n",
    "\n",
    "\n",
    "for ax, plot_md in zip(axs.flat, plot_metadata):\n",
    "    for f, marker in zip(function_names, markers):\n",
    "        ax.loglog(\n",
    "            time_data_estimators.loc[f][plot_md[\"name\"]],\n",
    "            marker=marker,\n",
    "            label=f,\n",
    "        )\n",
    "        # loglog because of the range of values for freq_bin\n",
    "        ax.grid()\n",
    "        ax.set_xlabel(\"Frequency Bins\")\n",
    "        ax.set_ylabel(\"Average Elapsed Time (ns)\")\n",
    "        ax.set_title(plot_md[\"print_title\"])\n",
    "\n",
    "idx_mask = np.zeros_like(raw_time_data[\"func_name\"], dtype=bool)\n",
    "idx_mask[first_indices] = True\n",
    "\n",
    "      \n",
    "# plt.title(\"Average Execution Times For JIT and non-JIT Implementations\")\n",
    "# fig.legend(function_names, loc=\"lower right\")\n",
    "fig.legend(\n",
    "    function_names,\n",
    "    bbox_to_anchor=(0, -0.05, 1.1, 0),\n",
    "    loc=\"lower center\",\n",
    "    mode=\"expand\",\n",
    "    ncol=3,\n",
    ")\n",
    "fig.tight_layout()\n",
    "fig.show()\n",
    "#plt.close()\n",
    "\n",
    "# This plot is done in matplotlib because that's what's already used here\n",
    "# and what's available currently installed. I could have done something\n",
    "# more elaborate, but I didn't want to mess with the virtual environment."
   ]
  },
  {
   "cell_type": "code",
   "execution_count": 21,
   "id": "ca5025e6",
   "metadata": {},
   "outputs": [
    {
     "name": "stdout",
     "output_type": "stream",
     "text": [
      "           func_name  freq_bins  exec_time                       date\n",
      "0    planck_function        100     222677 2023-03-28 07:45:18.869298\n",
      "21   planck_function        200     205257 2023-03-28 07:45:27.575523\n",
      "42   planck_function        500     213333 2023-03-28 07:45:36.314361\n",
      "63   planck_function       1000     223455 2023-03-28 07:45:45.056969\n",
      "84   planck_function       2000     240164 2023-03-28 07:45:53.791171\n",
      "105  planck_function       5000     283613 2023-03-28 07:46:02.534733\n",
      "126  planck_function      10000     341938 2023-03-28 07:46:11.295780\n",
      "147  planck_function      20000     479673 2023-03-28 07:46:20.063773\n",
      "168  planck_function      50000     909764 2023-03-28 07:46:28.832007\n",
      "189  planck_function     100000    1827438 2023-03-28 07:46:37.613390\n",
      "210  planck_function     200000    3550205 2023-03-28 07:46:46.409615\n",
      "231  planck_function     500000    9066997 2023-03-28 07:46:55.265753\n",
      "252  planck_function    1000000   15982043 2023-03-28 07:47:04.272238\n",
      "273  planck_function    2000000   33204697 2023-03-28 07:47:13.287611\n",
      "294  planck_function    5000000  103803242 2023-03-28 07:47:22.630833\n",
      "                 func_name  freq_bins  exec_time                       date\n",
      "315  planck_function_numba        100  240605547 2023-03-28 07:47:33.847792\n",
      "336  planck_function_numba        200       4564 2023-03-28 07:47:42.548895\n",
      "357  planck_function_numba        500       7284 2023-03-28 07:47:51.283375\n",
      "378  planck_function_numba       1000      12258 2023-03-28 07:48:00.030102\n",
      "399  planck_function_numba       2000      16678 2023-03-28 07:48:08.785431\n",
      "420  planck_function_numba       5000      29624 2023-03-28 07:48:17.554137\n",
      "441  planck_function_numba      10000      52168 2023-03-28 07:48:26.367986\n",
      "462  planck_function_numba      20000      91375 2023-03-28 07:48:35.085051\n",
      "483  planck_function_numba      50000     217629 2023-03-28 07:48:43.796402\n",
      "504  planck_function_numba     100000     399922 2023-03-28 07:48:52.515310\n",
      "525  planck_function_numba     200000    1071089 2023-03-28 07:49:01.222997\n",
      "546  planck_function_numba     500000    2615602 2023-03-28 07:49:09.990158\n",
      "567  planck_function_numba    1000000    5247256 2023-03-28 07:49:18.836570\n",
      "588  planck_function_numba    2000000   10236716 2023-03-28 07:49:27.828284\n",
      "609  planck_function_numba    5000000   25369873 2023-03-28 07:49:37.104627\n",
      "                          func_name  freq_bins  exec_time  \\\n",
      "630  planck_function_numba_parallel        100  247839120   \n",
      "651  planck_function_numba_parallel        200     167888   \n",
      "672  planck_function_numba_parallel        500    4005794   \n",
      "693  planck_function_numba_parallel       1000    3615840   \n",
      "714  planck_function_numba_parallel       2000     182034   \n",
      "735  planck_function_numba_parallel       5000    2163229   \n",
      "756  planck_function_numba_parallel      10000     200415   \n",
      "777  planck_function_numba_parallel      20000     216942   \n",
      "798  planck_function_numba_parallel      50000     210481   \n",
      "819  planck_function_numba_parallel     100000     246533   \n",
      "840  planck_function_numba_parallel     200000     311871   \n",
      "861  planck_function_numba_parallel     500000     501596   \n",
      "882  planck_function_numba_parallel    1000000    6265694   \n",
      "903  planck_function_numba_parallel    2000000    1339277   \n",
      "924  planck_function_numba_parallel    5000000    3355291   \n",
      "\n",
      "                          date  \n",
      "630 2023-03-28 07:49:47.072661  \n",
      "651 2023-03-28 07:49:55.867634  \n",
      "672 2023-03-28 07:50:04.642191  \n",
      "693 2023-03-28 07:50:13.446191  \n",
      "714 2023-03-28 07:50:22.349480  \n",
      "735 2023-03-28 07:50:31.186191  \n",
      "756 2023-03-28 07:50:40.030914  \n",
      "777 2023-03-28 07:50:48.872092  \n",
      "798 2023-03-28 07:50:57.679593  \n",
      "819 2023-03-28 07:51:06.493640  \n",
      "840 2023-03-28 07:51:15.295899  \n",
      "861 2023-03-28 07:51:24.071624  \n",
      "882 2023-03-28 07:51:32.866560  \n",
      "903 2023-03-28 07:51:41.675004  \n",
      "924 2023-03-28 07:51:50.595883  \n"
     ]
    },
    {
     "data": {
      "image/png": "[encoded data removed]",
      "text/plain": [
       "<Figure size 640x480 with 1 Axes>"
      ]
     },
     "metadata": {},
     "output_type": "display_data"
    }
   ],
   "source": [
    "fig = plt.figure()\n",
    "for f, marker in zip(function_names, markers):\n",
    "    tempdf = raw_time_data.loc[idx_mask & (raw_time_data[\"func_name\"] == f)]\n",
    "    print(\n",
    "    tempdf\n",
    ")\n",
    "    plt.loglog(\n",
    "        tempdf[\"freq_bins\"],\n",
    "        tempdf[\"exec_time\"],\n",
    "        marker=marker,\n",
    "        label=f,\n",
    "    )\n",
    "    # loglog because of the range of values for freq_bin\n",
    "    plt.grid()\n",
    "    plt.xlabel(\"Frequency Bins\")\n",
    "    plt.ylabel(\"Average Elapsed Time (ns)\")\n",
    "    plt.title(\"Absolute Difference\")  "
   ]
  },
  {
   "cell_type": "markdown",
   "id": "1166da72",
   "metadata": {},
   "source": [
    "We can clearly see where the benefits of parallelization overcome the overhead, i.e. where the square and triangle marked curves cross."
   ]
  }
 ],
 "metadata": {
  "celltoolbar": "Raw Cell Format",
  "kernelspec": {
   "display_name": "Python 3 (ipykernel)",
   "language": "python",
   "name": "python3"
  },
  "language_info": {
   "codemirror_mode": {
    "name": "ipython",
    "version": 3
   },
   "file_extension": ".py",
   "mimetype": "text/x-python",
   "name": "python",
   "nbconvert_exporter": "python",
   "pygments_lexer": "ipython3",
   "version": "3.8.16"
  }
 },
 "nbformat": 4,
 "nbformat_minor": 5
}
